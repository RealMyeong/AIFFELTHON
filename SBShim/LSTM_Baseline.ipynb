{
  "nbformat": 4,
  "nbformat_minor": 0,
  "metadata": {
    "colab": {
      "provenance": [],
      "mount_file_id": "1m-9QHJXGMjMOG0_1E5G2lqkN3WsYoQlP",
      "authorship_tag": "ABX9TyM/7jj1tPMVM4lJSSB5r1v/",
      "include_colab_link": true
    },
    "kernelspec": {
      "name": "python3",
      "display_name": "Python 3"
    },
    "language_info": {
      "name": "python"
    }
  },
  "cells": [
    {
      "cell_type": "markdown",
      "metadata": {
        "id": "view-in-github",
        "colab_type": "text"
      },
      "source": [
        "<a href=\"https://colab.research.google.com/github/RealMyeong/AIFFELTHON/blob/main/SBShim/LSTM_Baseline.ipynb\" target=\"_parent\"><img src=\"https://colab.research.google.com/assets/colab-badge.svg\" alt=\"Open In Colab\"/></a>"
      ]
    },
    {
      "cell_type": "code",
      "source": [
        "!pip install --upgrade pip\n",
        "!pip install konlpy"
      ],
      "metadata": {
        "id": "TUJdwb8YGCG3"
      },
      "execution_count": null,
      "outputs": []
    },
    {
      "cell_type": "code",
      "source": [
        "!pip install seqeval"
      ],
      "metadata": {
        "colab": {
          "base_uri": "https://localhost:8080/"
        },
        "id": "LGe9TjiM1bTH",
        "outputId": "6e209d9c-8301-4cff-dfb0-592f982179af"
      },
      "execution_count": 83,
      "outputs": [
        {
          "output_type": "stream",
          "name": "stdout",
          "text": [
            "Looking in indexes: https://pypi.org/simple, https://us-python.pkg.dev/colab-wheels/public/simple/\n",
            "Collecting seqeval\n",
            "  Downloading seqeval-1.2.2.tar.gz (43 kB)\n",
            "\u001b[2K     \u001b[90m━━━━━━━━━━━━━━━━━━━━━━━━━━━━━━━━━━━━━━━━\u001b[0m \u001b[32m43.6/43.6 kB\u001b[0m \u001b[31m3.1 MB/s\u001b[0m eta \u001b[36m0:00:00\u001b[0m\n",
            "\u001b[?25h  Preparing metadata (setup.py) ... \u001b[?25l\u001b[?25hdone\n",
            "Requirement already satisfied: numpy>=1.14.0 in /usr/local/lib/python3.7/dist-packages (from seqeval) (1.21.6)\n",
            "Requirement already satisfied: scikit-learn>=0.21.3 in /usr/local/lib/python3.7/dist-packages (from seqeval) (1.0.2)\n",
            "Requirement already satisfied: scipy>=1.1.0 in /usr/local/lib/python3.7/dist-packages (from scikit-learn>=0.21.3->seqeval) (1.7.3)\n",
            "Requirement already satisfied: threadpoolctl>=2.0.0 in /usr/local/lib/python3.7/dist-packages (from scikit-learn>=0.21.3->seqeval) (3.1.0)\n",
            "Requirement already satisfied: joblib>=0.11 in /usr/local/lib/python3.7/dist-packages (from scikit-learn>=0.21.3->seqeval) (1.2.0)\n",
            "Building wheels for collected packages: seqeval\n",
            "  Building wheel for seqeval (setup.py) ... \u001b[?25l\u001b[?25hdone\n",
            "  Created wheel for seqeval: filename=seqeval-1.2.2-py3-none-any.whl size=16182 sha256=36031db9997dc900bf543b5cf7d3afbd9d2571e7a5d3d70b7489de47f62916d6\n",
            "  Stored in directory: /root/.cache/pip/wheels/b2/a1/b7/0d3b008d0c77cd57332d724b92cf7650b4185b493dc785f00a\n",
            "Successfully built seqeval\n",
            "Installing collected packages: seqeval\n",
            "Successfully installed seqeval-1.2.2\n",
            "\u001b[33mWARNING: Running pip as the 'root' user can result in broken permissions and conflicting behaviour with the system package manager. It is recommended to use a virtual environment instead: https://pip.pypa.io/warnings/venv\u001b[0m\u001b[33m\n",
            "\u001b[0m"
          ]
        }
      ]
    },
    {
      "cell_type": "code",
      "execution_count": 1,
      "metadata": {
        "id": "ppAVcCev7Td6"
      },
      "outputs": [],
      "source": [
        "import pandas as pd\n",
        "import tensorflow as tf\n",
        "import numpy as np"
      ]
    },
    {
      "cell_type": "markdown",
      "source": [
        "# 데이터\n",
        "- 전처리 및 맞춤법 검사가 된 문장"
      ],
      "metadata": {
        "id": "L8cyv2XpOllF"
      }
    },
    {
      "cell_type": "code",
      "source": [
        "data = pd.read_csv('/content/drive/MyDrive/공부/AIFFELTHON/shared/TUNiB/train_1000.csv')"
      ],
      "metadata": {
        "id": "CJ3lGtgaCMCz"
      },
      "execution_count": 53,
      "outputs": []
    },
    {
      "cell_type": "code",
      "source": [
        "data"
      ],
      "metadata": {
        "colab": {
          "base_uri": "https://localhost:8080/",
          "height": 424
        },
        "id": "1CYJYrzAGoP7",
        "outputId": "b274014a-ba68-429c-86c7-6d9d447ca44e"
      },
      "execution_count": 54,
      "outputs": [
        {
          "output_type": "execute_result",
          "data": {
            "text/plain": [
              "      Unnamed: 0        class  \\\n",
              "0              0  직장 내 괴롭힘 대화   \n",
              "1              1    기타 괴롭힘 대화   \n",
              "2              2        갈취 대화   \n",
              "3              3        갈취 대화   \n",
              "4              4        협박 대화   \n",
              "...          ...          ...   \n",
              "4908        4908        일반 대화   \n",
              "4909        4909        일반 대화   \n",
              "4910        4910        일반 대화   \n",
              "4911        4911        일반 대화   \n",
              "4912        4912        일반 대화   \n",
              "\n",
              "                                         label_sentence  \\\n",
              "0     1:길동씨 이번에 이것좀 처리해요\\n2:이거 제가 한게 아닌데요\\n1:팀에서 내가 ...   \n",
              "1     1:야 너 앞니 왜 그렇게 튀어나왔냐?\\n2:태어날때부터 그랬어 물어보지마.\\n1:...   \n",
              "2     1:원후야 학원 교재 사야되는데 8만원만 주면 안돼?\\n2:미안 나 오늘은 진짜 돈...   \n",
              "3     1:너 저번에 술먹은 날 기억해?\\n2:아니 왜?\\n1:야 300만원만 가져와.\\n...   \n",
              "4     1:너 또 내말 무시하냐?\\n1:이새끼 널 좆으로 보나본데?\\n2:아냐 진짜 시간이...   \n",
              "...                                                 ...   \n",
              "4908                                                NaN   \n",
              "4909                                                NaN   \n",
              "4910                                                NaN   \n",
              "4911                                                NaN   \n",
              "4912                                                NaN   \n",
              "\n",
              "                             spell_checked_conversation binary_class  \n",
              "0     길동 씨 이번에 이것 좀 처리해요\\n이거 제가 한 게 아닌데요\\n팀에서 내가 네가 ...        공격 대화  \n",
              "1     야 너 앞니 왜 그렇게 튀어나왔냐?\\n태어날 때부터 그랬어 물어보지 마.\\n아 그럼...        공격 대화  \n",
              "2     원후야 학원 교재 사야 되는데 8만 원만 주면 안 돼?\\n미안 나 오늘은 진짜 돈이...        공격 대화  \n",
              "3     너 저번에 술 먹은 날 기억해?\\n아니 왜?\\n야 300만 원만 가져와.\\n뭔 소리...        공격 대화  \n",
              "4     너 또 내말 무시하냐?\\n이 새끼 널 좆으로 보나 본데?\\n아냐 진짜 시간이 없었어...        공격 대화  \n",
              "...                                                 ...          ...  \n",
              "4908  시민의 교육파트너    입니다 무엇을 도와드릴까요\\n예 초등돌봄교실 운영 관련해서 ...        일반 대화  \n",
              "4909  전화 주신 곳은     상담 센터    입니다\\n초등    단계로 입학 예정인데요\\...        일반 대화  \n",
              "4910  입니다\\n안녕하세요 피시로 통합회원 하고 싶어서요\\n고객님 기존에 사용하시던 간편 ...        일반 대화  \n",
              "4911  화창한 아침입니다        입니다 무엇을 도와드릴까요\\n에 대해 궁금한 점이 있...        일반 대화  \n",
              "4912  반갑습니다    의    입니다\\n저 주민등록증을 잃어버렸는데요\\n네 주민등록증 분...        일반 대화  \n",
              "\n",
              "[4913 rows x 5 columns]"
            ],
            "text/html": [
              "\n",
              "  <div id=\"df-74a20409-9fbf-460c-a983-50dc961b4815\">\n",
              "    <div class=\"colab-df-container\">\n",
              "      <div>\n",
              "<style scoped>\n",
              "    .dataframe tbody tr th:only-of-type {\n",
              "        vertical-align: middle;\n",
              "    }\n",
              "\n",
              "    .dataframe tbody tr th {\n",
              "        vertical-align: top;\n",
              "    }\n",
              "\n",
              "    .dataframe thead th {\n",
              "        text-align: right;\n",
              "    }\n",
              "</style>\n",
              "<table border=\"1\" class=\"dataframe\">\n",
              "  <thead>\n",
              "    <tr style=\"text-align: right;\">\n",
              "      <th></th>\n",
              "      <th>Unnamed: 0</th>\n",
              "      <th>class</th>\n",
              "      <th>label_sentence</th>\n",
              "      <th>spell_checked_conversation</th>\n",
              "      <th>binary_class</th>\n",
              "    </tr>\n",
              "  </thead>\n",
              "  <tbody>\n",
              "    <tr>\n",
              "      <th>0</th>\n",
              "      <td>0</td>\n",
              "      <td>직장 내 괴롭힘 대화</td>\n",
              "      <td>1:길동씨 이번에 이것좀 처리해요\\n2:이거 제가 한게 아닌데요\\n1:팀에서 내가 ...</td>\n",
              "      <td>길동 씨 이번에 이것 좀 처리해요\\n이거 제가 한 게 아닌데요\\n팀에서 내가 네가 ...</td>\n",
              "      <td>공격 대화</td>\n",
              "    </tr>\n",
              "    <tr>\n",
              "      <th>1</th>\n",
              "      <td>1</td>\n",
              "      <td>기타 괴롭힘 대화</td>\n",
              "      <td>1:야 너 앞니 왜 그렇게 튀어나왔냐?\\n2:태어날때부터 그랬어 물어보지마.\\n1:...</td>\n",
              "      <td>야 너 앞니 왜 그렇게 튀어나왔냐?\\n태어날 때부터 그랬어 물어보지 마.\\n아 그럼...</td>\n",
              "      <td>공격 대화</td>\n",
              "    </tr>\n",
              "    <tr>\n",
              "      <th>2</th>\n",
              "      <td>2</td>\n",
              "      <td>갈취 대화</td>\n",
              "      <td>1:원후야 학원 교재 사야되는데 8만원만 주면 안돼?\\n2:미안 나 오늘은 진짜 돈...</td>\n",
              "      <td>원후야 학원 교재 사야 되는데 8만 원만 주면 안 돼?\\n미안 나 오늘은 진짜 돈이...</td>\n",
              "      <td>공격 대화</td>\n",
              "    </tr>\n",
              "    <tr>\n",
              "      <th>3</th>\n",
              "      <td>3</td>\n",
              "      <td>갈취 대화</td>\n",
              "      <td>1:너 저번에 술먹은 날 기억해?\\n2:아니 왜?\\n1:야 300만원만 가져와.\\n...</td>\n",
              "      <td>너 저번에 술 먹은 날 기억해?\\n아니 왜?\\n야 300만 원만 가져와.\\n뭔 소리...</td>\n",
              "      <td>공격 대화</td>\n",
              "    </tr>\n",
              "    <tr>\n",
              "      <th>4</th>\n",
              "      <td>4</td>\n",
              "      <td>협박 대화</td>\n",
              "      <td>1:너 또 내말 무시하냐?\\n1:이새끼 널 좆으로 보나본데?\\n2:아냐 진짜 시간이...</td>\n",
              "      <td>너 또 내말 무시하냐?\\n이 새끼 널 좆으로 보나 본데?\\n아냐 진짜 시간이 없었어...</td>\n",
              "      <td>공격 대화</td>\n",
              "    </tr>\n",
              "    <tr>\n",
              "      <th>...</th>\n",
              "      <td>...</td>\n",
              "      <td>...</td>\n",
              "      <td>...</td>\n",
              "      <td>...</td>\n",
              "      <td>...</td>\n",
              "    </tr>\n",
              "    <tr>\n",
              "      <th>4908</th>\n",
              "      <td>4908</td>\n",
              "      <td>일반 대화</td>\n",
              "      <td>NaN</td>\n",
              "      <td>시민의 교육파트너    입니다 무엇을 도와드릴까요\\n예 초등돌봄교실 운영 관련해서 ...</td>\n",
              "      <td>일반 대화</td>\n",
              "    </tr>\n",
              "    <tr>\n",
              "      <th>4909</th>\n",
              "      <td>4909</td>\n",
              "      <td>일반 대화</td>\n",
              "      <td>NaN</td>\n",
              "      <td>전화 주신 곳은     상담 센터    입니다\\n초등    단계로 입학 예정인데요\\...</td>\n",
              "      <td>일반 대화</td>\n",
              "    </tr>\n",
              "    <tr>\n",
              "      <th>4910</th>\n",
              "      <td>4910</td>\n",
              "      <td>일반 대화</td>\n",
              "      <td>NaN</td>\n",
              "      <td>입니다\\n안녕하세요 피시로 통합회원 하고 싶어서요\\n고객님 기존에 사용하시던 간편 ...</td>\n",
              "      <td>일반 대화</td>\n",
              "    </tr>\n",
              "    <tr>\n",
              "      <th>4911</th>\n",
              "      <td>4911</td>\n",
              "      <td>일반 대화</td>\n",
              "      <td>NaN</td>\n",
              "      <td>화창한 아침입니다        입니다 무엇을 도와드릴까요\\n에 대해 궁금한 점이 있...</td>\n",
              "      <td>일반 대화</td>\n",
              "    </tr>\n",
              "    <tr>\n",
              "      <th>4912</th>\n",
              "      <td>4912</td>\n",
              "      <td>일반 대화</td>\n",
              "      <td>NaN</td>\n",
              "      <td>반갑습니다    의    입니다\\n저 주민등록증을 잃어버렸는데요\\n네 주민등록증 분...</td>\n",
              "      <td>일반 대화</td>\n",
              "    </tr>\n",
              "  </tbody>\n",
              "</table>\n",
              "<p>4913 rows × 5 columns</p>\n",
              "</div>\n",
              "      <button class=\"colab-df-convert\" onclick=\"convertToInteractive('df-74a20409-9fbf-460c-a983-50dc961b4815')\"\n",
              "              title=\"Convert this dataframe to an interactive table.\"\n",
              "              style=\"display:none;\">\n",
              "        \n",
              "  <svg xmlns=\"http://www.w3.org/2000/svg\" height=\"24px\"viewBox=\"0 0 24 24\"\n",
              "       width=\"24px\">\n",
              "    <path d=\"M0 0h24v24H0V0z\" fill=\"none\"/>\n",
              "    <path d=\"M18.56 5.44l.94 2.06.94-2.06 2.06-.94-2.06-.94-.94-2.06-.94 2.06-2.06.94zm-11 1L8.5 8.5l.94-2.06 2.06-.94-2.06-.94L8.5 2.5l-.94 2.06-2.06.94zm10 10l.94 2.06.94-2.06 2.06-.94-2.06-.94-.94-2.06-.94 2.06-2.06.94z\"/><path d=\"M17.41 7.96l-1.37-1.37c-.4-.4-.92-.59-1.43-.59-.52 0-1.04.2-1.43.59L10.3 9.45l-7.72 7.72c-.78.78-.78 2.05 0 2.83L4 21.41c.39.39.9.59 1.41.59.51 0 1.02-.2 1.41-.59l7.78-7.78 2.81-2.81c.8-.78.8-2.07 0-2.86zM5.41 20L4 18.59l7.72-7.72 1.47 1.35L5.41 20z\"/>\n",
              "  </svg>\n",
              "      </button>\n",
              "      \n",
              "  <style>\n",
              "    .colab-df-container {\n",
              "      display:flex;\n",
              "      flex-wrap:wrap;\n",
              "      gap: 12px;\n",
              "    }\n",
              "\n",
              "    .colab-df-convert {\n",
              "      background-color: #E8F0FE;\n",
              "      border: none;\n",
              "      border-radius: 50%;\n",
              "      cursor: pointer;\n",
              "      display: none;\n",
              "      fill: #1967D2;\n",
              "      height: 32px;\n",
              "      padding: 0 0 0 0;\n",
              "      width: 32px;\n",
              "    }\n",
              "\n",
              "    .colab-df-convert:hover {\n",
              "      background-color: #E2EBFA;\n",
              "      box-shadow: 0px 1px 2px rgba(60, 64, 67, 0.3), 0px 1px 3px 1px rgba(60, 64, 67, 0.15);\n",
              "      fill: #174EA6;\n",
              "    }\n",
              "\n",
              "    [theme=dark] .colab-df-convert {\n",
              "      background-color: #3B4455;\n",
              "      fill: #D2E3FC;\n",
              "    }\n",
              "\n",
              "    [theme=dark] .colab-df-convert:hover {\n",
              "      background-color: #434B5C;\n",
              "      box-shadow: 0px 1px 3px 1px rgba(0, 0, 0, 0.15);\n",
              "      filter: drop-shadow(0px 1px 2px rgba(0, 0, 0, 0.3));\n",
              "      fill: #FFFFFF;\n",
              "    }\n",
              "  </style>\n",
              "\n",
              "      <script>\n",
              "        const buttonEl =\n",
              "          document.querySelector('#df-74a20409-9fbf-460c-a983-50dc961b4815 button.colab-df-convert');\n",
              "        buttonEl.style.display =\n",
              "          google.colab.kernel.accessAllowed ? 'block' : 'none';\n",
              "\n",
              "        async function convertToInteractive(key) {\n",
              "          const element = document.querySelector('#df-74a20409-9fbf-460c-a983-50dc961b4815');\n",
              "          const dataTable =\n",
              "            await google.colab.kernel.invokeFunction('convertToInteractive',\n",
              "                                                     [key], {});\n",
              "          if (!dataTable) return;\n",
              "\n",
              "          const docLinkHtml = 'Like what you see? Visit the ' +\n",
              "            '<a target=\"_blank\" href=https://colab.research.google.com/notebooks/data_table.ipynb>data table notebook</a>'\n",
              "            + ' to learn more about interactive tables.';\n",
              "          element.innerHTML = '';\n",
              "          dataTable['output_type'] = 'display_data';\n",
              "          await google.colab.output.renderOutput(dataTable, element);\n",
              "          const docLink = document.createElement('div');\n",
              "          docLink.innerHTML = docLinkHtml;\n",
              "          element.appendChild(docLink);\n",
              "        }\n",
              "      </script>\n",
              "    </div>\n",
              "  </div>\n",
              "  "
            ]
          },
          "metadata": {},
          "execution_count": 54
        }
      ]
    },
    {
      "cell_type": "markdown",
      "source": [
        "# 토큰화\n",
        "- Tensorflow Tokenizer사용\n",
        "- 단어장 32000개\n",
        "- 클래스 라벨 one-hot vector화\n",
        "- train : valid : test = 0.7 : 0.15 : 0.15"
      ],
      "metadata": {
        "id": "JiXWqnP8FsVP"
      }
    },
    {
      "cell_type": "code",
      "source": [
        "from tensorflow.keras.preprocessing.text import Tokenizer\n",
        "from tensorflow.keras.preprocessing.sequence import pad_sequences\n",
        "\n",
        "vocab_size = 32000"
      ],
      "metadata": {
        "id": "z5most94FrFF"
      },
      "execution_count": 55,
      "outputs": []
    },
    {
      "cell_type": "code",
      "source": [
        "sentences = data['spell_checked_conversation']\n",
        "\n",
        "tokenizer = Tokenizer(num_words = vocab_size)\n",
        "tokenizer.fit_on_texts(sentences)\n",
        "word_dic = tokenizer.word_index\n",
        "#print(word_dic)\n",
        "\n",
        "sequences = tokenizer.texts_to_sequences(sentences)\n",
        "print(sequences)\n",
        "\n",
        "padded = pad_sequences(sequences)\n",
        "print(padded)"
      ],
      "metadata": {
        "id": "R5ct2oJKFq9e"
      },
      "execution_count": null,
      "outputs": []
    },
    {
      "cell_type": "code",
      "source": [
        "np.shape(padded)"
      ],
      "metadata": {
        "colab": {
          "base_uri": "https://localhost:8080/"
        },
        "id": "chgr4wpQFqsZ",
        "outputId": "c8c75a44-47d4-45be-a2e2-479c7a171cd8"
      },
      "execution_count": 57,
      "outputs": [
        {
          "output_type": "execute_result",
          "data": {
            "text/plain": [
              "(4913, 291)"
            ]
          },
          "metadata": {},
          "execution_count": 57
        }
      ]
    },
    {
      "cell_type": "code",
      "source": [
        "train_data = padded\n",
        "train_label = data['class']"
      ],
      "metadata": {
        "id": "ecw2j-NTIvvu"
      },
      "execution_count": 58,
      "outputs": []
    },
    {
      "cell_type": "code",
      "source": [
        "print(len(train_data), len(train_label))"
      ],
      "metadata": {
        "colab": {
          "base_uri": "https://localhost:8080/"
        },
        "id": "Epx3_nwwI2tg",
        "outputId": "174be83a-0177-4aa1-da93-488248991ef0"
      },
      "execution_count": 59,
      "outputs": [
        {
          "output_type": "stream",
          "name": "stdout",
          "text": [
            "4913 4913\n"
          ]
        }
      ]
    },
    {
      "cell_type": "code",
      "source": [
        "pd.unique(train_label)"
      ],
      "metadata": {
        "colab": {
          "base_uri": "https://localhost:8080/"
        },
        "id": "TgDjbyKNKPU1",
        "outputId": "50ffc378-656a-47ee-f8e7-31c68ad3ec7b"
      },
      "execution_count": 60,
      "outputs": [
        {
          "output_type": "execute_result",
          "data": {
            "text/plain": [
              "array(['직장 내 괴롭힘 대화', '기타 괴롭힘 대화', '갈취 대화', '협박 대화', '일반 대화'],\n",
              "      dtype=object)"
            ]
          },
          "metadata": {},
          "execution_count": 60
        }
      ]
    },
    {
      "cell_type": "code",
      "source": [
        "labels = {'직장 내 괴롭힘 대화':0, '기타 괴롭힘 대화':1, '갈취 대화':2, '협박 대화':3, '일반 대화': 4}"
      ],
      "metadata": {
        "id": "qt0u-2UTKUsF"
      },
      "execution_count": 63,
      "outputs": []
    },
    {
      "cell_type": "code",
      "source": [
        "train_label = train_label.apply(lambda x: labels[x])"
      ],
      "metadata": {
        "id": "hbj0Lft_KeWs"
      },
      "execution_count": 64,
      "outputs": []
    },
    {
      "cell_type": "code",
      "source": [
        "train_label = pd.get_dummies(train_label)"
      ],
      "metadata": {
        "id": "FRFpemQZNTwB"
      },
      "execution_count": 65,
      "outputs": []
    },
    {
      "cell_type": "code",
      "source": [
        "print(train_label)"
      ],
      "metadata": {
        "colab": {
          "base_uri": "https://localhost:8080/"
        },
        "id": "lCYmDFCEKu33",
        "outputId": "43f50bbb-4d7e-404c-e5d0-a979b53f00c9"
      },
      "execution_count": 66,
      "outputs": [
        {
          "output_type": "stream",
          "name": "stdout",
          "text": [
            "      0  1  2  3  4\n",
            "0     1  0  0  0  0\n",
            "1     0  1  0  0  0\n",
            "2     0  0  1  0  0\n",
            "3     0  0  1  0  0\n",
            "4     0  0  0  1  0\n",
            "...  .. .. .. .. ..\n",
            "4908  0  0  0  0  1\n",
            "4909  0  0  0  0  1\n",
            "4910  0  0  0  0  1\n",
            "4911  0  0  0  0  1\n",
            "4912  0  0  0  0  1\n",
            "\n",
            "[4913 rows x 5 columns]\n"
          ]
        }
      ]
    },
    {
      "cell_type": "code",
      "source": [
        "from sklearn.model_selection import train_test_split\n",
        "\n",
        "train_X, test_X, train_Y, test_Y = train_test_split(train_data, train_label, test_size=0.3, random_state=22)\n",
        "valid_X, test_X, valid_Y, test_Y = train_test_split(test_X, test_Y, test_size=0.5, random_state=22)"
      ],
      "metadata": {
        "id": "tCfqjBT-I9n6"
      },
      "execution_count": 67,
      "outputs": []
    },
    {
      "cell_type": "code",
      "source": [
        "print(len(train_X), len(valid_X), len(test_X))\n",
        "print(len(train_Y), len(valid_Y), len(test_Y))"
      ],
      "metadata": {
        "colab": {
          "base_uri": "https://localhost:8080/"
        },
        "id": "L7AgjmJrJvou",
        "outputId": "169bbaac-abd4-4fc6-92e1-6f310627b6fd"
      },
      "execution_count": 68,
      "outputs": [
        {
          "output_type": "stream",
          "name": "stdout",
          "text": [
            "3439 737 737\n",
            "3439 737 737\n"
          ]
        }
      ]
    },
    {
      "cell_type": "markdown",
      "source": [
        "# 모델 \n",
        "- LSTM 사용"
      ],
      "metadata": {
        "id": "RzB2haBJLJoH"
      }
    },
    {
      "cell_type": "code",
      "source": [
        "word_vector_dim = 512\n",
        "labels_size = len(labels)\n",
        "hidden_size = 32\n",
        "\n",
        "model = tf.keras.Sequential()\n",
        "model.add(tf.keras.layers.Embedding(vocab_size, word_vector_dim, input_shape=(None,)))\n",
        "model.add(tf.keras.layers.LSTM(hidden_size, return_sequences=True))\n",
        "model.add(tf.keras.layers.LSTM(hidden_size, return_sequences=True))\n",
        "model.add(tf.keras.layers.LSTM(hidden_size//2))\n",
        "model.add(tf.keras.layers.Dense(vocab_size, activation='relu'))\n",
        "model.add(tf.keras.layers.Dense(labels_size, activation='softmax'))\n",
        "\n",
        "\n",
        "model.summary()"
      ],
      "metadata": {
        "colab": {
          "base_uri": "https://localhost:8080/"
        },
        "id": "C8kkPNDrLKZ7",
        "outputId": "7adabd52-ebae-40dd-c0fa-1db5120c0d6f"
      },
      "execution_count": 76,
      "outputs": [
        {
          "output_type": "stream",
          "name": "stdout",
          "text": [
            "Model: \"sequential_11\"\n",
            "_________________________________________________________________\n",
            " Layer (type)                Output Shape              Param #   \n",
            "=================================================================\n",
            " embedding_11 (Embedding)    (None, None, 512)         16384000  \n",
            "                                                                 \n",
            " lstm_21 (LSTM)              (None, None, 32)          69760     \n",
            "                                                                 \n",
            " lstm_22 (LSTM)              (None, None, 32)          8320      \n",
            "                                                                 \n",
            " lstm_23 (LSTM)              (None, 16)                3136      \n",
            "                                                                 \n",
            " dense_16 (Dense)            (None, 32000)             544000    \n",
            "                                                                 \n",
            " dense_17 (Dense)            (None, 5)                 160005    \n",
            "                                                                 \n",
            "=================================================================\n",
            "Total params: 17,169,221\n",
            "Trainable params: 17,169,221\n",
            "Non-trainable params: 0\n",
            "_________________________________________________________________\n"
          ]
        }
      ]
    },
    {
      "cell_type": "code",
      "source": [
        "def recall_m(y_true, y_pred):\n",
        "    true_positives = K.sum(K.round(K.clip(y_true * y_pred, 0, 1)))\n",
        "    possible_positives = K.sum(K.round(K.clip(y_true, 0, 1)))\n",
        "    recall = true_positives / (possible_positives + K.epsilon())\n",
        "    return recall\n",
        "\n",
        "def precision_m(y_true, y_pred):\n",
        "    true_positives = K.sum(K.round(K.clip(y_true * y_pred, 0, 1)))\n",
        "    predicted_positives = K.sum(K.round(K.clip(y_pred, 0, 1)))\n",
        "    precision = true_positives / (predicted_positives + K.epsilon())\n",
        "    return precision\n",
        "\n",
        "def f1_m(y_true, y_pred):\n",
        "    precision = precision_m(y_true, y_pred)\n",
        "    recall = recall_m(y_true, y_pred)\n",
        "    return 2*((precision*recall)/(precision+recall+K.epsilon()))"
      ],
      "metadata": {
        "id": "2kguJZ8F51nc"
      },
      "execution_count": 101,
      "outputs": []
    },
    {
      "cell_type": "code",
      "source": [
        "model.compile(optimizer='adam',\n",
        "              loss='categorical_crossentropy',\n",
        "              metrics=['accuracy'])\n",
        "              \n",
        "epochs=10\n",
        "\n",
        "history = model.fit(train_X,\n",
        "                    train_Y,\n",
        "                    epochs=epochs,\n",
        "                    batch_size=256,\n",
        "                    validation_data=(valid_X, valid_Y),\n",
        "                    verbose=1)"
      ],
      "metadata": {
        "id": "a0sS-wccLaok"
      },
      "execution_count": null,
      "outputs": []
    },
    {
      "cell_type": "code",
      "source": [
        "pred = model.predict(test_X)"
      ],
      "metadata": {
        "colab": {
          "base_uri": "https://localhost:8080/"
        },
        "id": "NKneRmD4yv_0",
        "outputId": "59605e0f-bd0c-462f-8023-edadb295431c"
      },
      "execution_count": 80,
      "outputs": [
        {
          "output_type": "stream",
          "name": "stdout",
          "text": [
            "24/24 [==============================] - 4s 150ms/step\n"
          ]
        }
      ]
    },
    {
      "cell_type": "code",
      "source": [
        "from sklearn.metrics import classification_report\n",
        "\n",
        "pred_label = []\n",
        "test_label = []\n",
        "\n",
        "for i in range(len(pred)):\n",
        "  pred_label.append((str)(np.argmax(pred[i])))\n",
        "  test_label.append((str)(labels[data['class'][test_Y.index[i]]]))\n",
        "\n",
        "print(classification_report(test_label, pred_label))"
      ],
      "metadata": {
        "colab": {
          "base_uri": "https://localhost:8080/"
        },
        "id": "TO27X8V71GuQ",
        "outputId": "a6c2ddf9-09be-4f72-ff35-065af73b51b1"
      },
      "execution_count": 106,
      "outputs": [
        {
          "output_type": "stream",
          "name": "stdout",
          "text": [
            "              precision    recall  f1-score   support\n",
            "\n",
            "           0       0.78      0.75      0.77       155\n",
            "           1       0.67      0.76      0.71       149\n",
            "           2       0.85      0.70      0.77       146\n",
            "           3       0.67      0.79      0.72       135\n",
            "           4       1.00      0.92      0.96       152\n",
            "\n",
            "    accuracy                           0.78       737\n",
            "   macro avg       0.79      0.78      0.79       737\n",
            "weighted avg       0.80      0.78      0.79       737\n",
            "\n"
          ]
        }
      ]
    }
  ]
}