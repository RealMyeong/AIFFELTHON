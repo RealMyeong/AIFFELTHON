{
  "nbformat": 4,
  "nbformat_minor": 0,
  "metadata": {
    "colab": {
      "provenance": [],
      "mount_file_id": "1m-9QHJXGMjMOG0_1E5G2lqkN3WsYoQlP",
      "authorship_tag": "ABX9TyNh7I2f4PkcF4u8Ghk3uFfo",
      "include_colab_link": true
    },
    "kernelspec": {
      "name": "python3",
      "display_name": "Python 3"
    },
    "language_info": {
      "name": "python"
    }
  },
  "cells": [
    {
      "cell_type": "markdown",
      "metadata": {
        "id": "view-in-github",
        "colab_type": "text"
      },
      "source": [
        "<a href=\"https://colab.research.google.com/github/RealMyeong/AIFFELTHON/blob/main/SBShim/LSTM_Baseline.ipynb\" target=\"_parent\"><img src=\"https://colab.research.google.com/assets/colab-badge.svg\" alt=\"Open In Colab\"/></a>"
      ]
    },
    {
      "cell_type": "code",
      "source": [
        "!pip install --upgrade pip\n",
        "!pip install konlpy"
      ],
      "metadata": {
        "id": "TUJdwb8YGCG3"
      },
      "execution_count": null,
      "outputs": []
    },
    {
      "cell_type": "code",
      "execution_count": 1,
      "metadata": {
        "id": "ppAVcCev7Td6"
      },
      "outputs": [],
      "source": [
        "import pandas as pd\n",
        "import tensorflow as tf\n",
        "import numpy as np"
      ]
    },
    {
      "cell_type": "markdown",
      "source": [
        "# 데이터\n",
        "- 전처리 및 맞춤법 검사가 된 문장"
      ],
      "metadata": {
        "id": "L8cyv2XpOllF"
      }
    },
    {
      "cell_type": "code",
      "source": [
        "data = pd.read_csv('/content/drive/MyDrive/공부/AIFFELTHON/shared/TUNiB/train_spell_check.csv')"
      ],
      "metadata": {
        "id": "CJ3lGtgaCMCz"
      },
      "execution_count": 2,
      "outputs": []
    },
    {
      "cell_type": "code",
      "source": [
        "data"
      ],
      "metadata": {
        "colab": {
          "base_uri": "https://localhost:8080/",
          "height": 988
        },
        "id": "1CYJYrzAGoP7",
        "outputId": "3dd92c23-8233-4341-919c-43787d58fd87"
      },
      "execution_count": 6,
      "outputs": [
        {
          "output_type": "execute_result",
          "data": {
            "text/plain": [
              "            class                                       conversation  \\\n",
              "0     직장 내 괴롭힘 대화  길동씨 이번에 이것좀 처리해요\\n이거 제가 한게 아닌데요\\n팀에서 내가 니가가 어딨...   \n",
              "1       기타 괴롭힘 대화  야 너 앞니 왜 그렇게 튀어나왔냐?\\n 태어날때부터 그랬어 물어보지마.\\n 아 그럼...   \n",
              "2           갈취 대화  원후야 학원 교재 사야되는데 8만원만 주면 안돼?\\n 미안 나 오늘은 진짜 돈이 없...   \n",
              "3           갈취 대화  너 저번에 술먹은 날 기억해?\\n아니 왜?\\n야 300만원만 가져와.\\n뭔 소리야....   \n",
              "4           협박 대화  너 또 내말 무시하냐?\\n 이새끼 널 좆으로 보나본데?\\n아냐 진짜 시간이 없었어 ...   \n",
              "...           ...                                                ...   \n",
              "3908    기타 괴롭힘 대화  준하야 넌 대가리가 왜이렇게 크냐?\\n내 머리가 뭐.\\n밥먹으면 대가리만 크냐 너는...   \n",
              "3909        갈취 대화  내가 지금 너 아들 김길준 데리고 있어. 살리고 싶으면 계좌에 1억만 보내\\n예.?...   \n",
              "3910  직장 내 괴롭힘 대화  나는 씨 같은 사람 보면 참 신기하더라. 어떻게 저렇게 살지.\\n왜 그래. 들리겠어...   \n",
              "3911        갈취 대화  누구맘대로 여기서 장사하래?\\n이게 무슨일입니까?\\n남의 구역에서 장사하려면 자릿세...   \n",
              "3912  직장 내 괴롭힘 대화  희정씨\\n네?\\n주말에 시간이 넘쳐나나봐\\n갑자기 왜그러세요?\\n손이 빤짝빤짝 네일...   \n",
              "\n",
              "                        labelling  \\\n",
              "0             1,2,1,2,1,2,1,2,1,2   \n",
              "1     1,2,1,2,1,2,1,2,1,1,1,2,1,1   \n",
              "2             1,2,1,2,1,2,1,2,1,2   \n",
              "3             1,2,1,2,1,2,1,2,1,2   \n",
              "4             1,1,2,1,1,2,1,2,1,1   \n",
              "...                           ...   \n",
              "3908        1,2,1,2,1,2,1,2,1,2,1   \n",
              "3909          1,2,1,2,1,2,1,2,1,2   \n",
              "3910        1,1,1,1,1,1,1,1,1,1,2   \n",
              "3911          1,2,1,2,1,2,1,2,1,2   \n",
              "3912          1,2,1,2,1,2,1,2,1,2   \n",
              "\n",
              "                                         label_sentence  \\\n",
              "0     1:길동씨 이번에 이것좀 처리해요\\n2:이거 제가 한게 아닌데요\\n1:팀에서 내가 ...   \n",
              "1     1:야 너 앞니 왜 그렇게 튀어나왔냐?\\n2:태어날때부터 그랬어 물어보지마.\\n1:...   \n",
              "2     1:원후야 학원 교재 사야되는데 8만원만 주면 안돼?\\n2:미안 나 오늘은 진짜 돈...   \n",
              "3     1:너 저번에 술먹은 날 기억해?\\n2:아니 왜?\\n1:야 300만원만 가져와.\\n...   \n",
              "4     1:너 또 내말 무시하냐?\\n1:이새끼 널 좆으로 보나본데?\\n2:아냐 진짜 시간이...   \n",
              "...                                                 ...   \n",
              "3908  1:준하야 넌 대가리가 왜이렇게 크냐?\\n2:내 머리가 뭐.\\n1:밥먹으면 대가리만...   \n",
              "3909  1:내가 지금 너 아들 김길준 데리고 있어. 살리고 싶으면 계좌에 1억만 보내\\n2...   \n",
              "3910  1:나는 씨 같은 사람 보면 참 신기하더라. 어떻게 저렇게 살지.\\n1:왜 그래. ...   \n",
              "3911  1:누구맘대로 여기서 장사하래?\\n2:이게 무슨일입니까?\\n1:남의 구역에서 장사하...   \n",
              "3912  1:희정씨\\n2:네?\\n1:주말에 시간이 넘쳐나나봐\\n2:갑자기 왜그러세요?\\n1:...   \n",
              "\n",
              "                                       cleaned_sentence  \\\n",
              "0     길동씨 이번에 이것좀 처리해요\\n이거 제가 한게 아닌데요\\n팀에서 내가 니가가 어딨...   \n",
              "1     야 너 앞니 왜 그렇게 튀어나왔냐?\\n태어날때부터 그랬어 물어보지마.\\n아 그럼 태...   \n",
              "2     원후야 학원 교재 사야되는데 8만원만 주면 안돼?\\n미안 나 오늘은 진짜 돈이 없어...   \n",
              "3     너 저번에 술먹은 날 기억해?\\n아니 왜?\\n야 300만원만 가져와.\\n뭔 소리야....   \n",
              "4     너 또 내말 무시하냐?\\n이새끼 널 좆으로 보나본데?\\n아냐 진짜 시간이 없었어 미...   \n",
              "...                                                 ...   \n",
              "3908  준하야 넌 대가리가 왜이렇게 크냐?\\n내 머리가 뭐.\\n밥먹으면 대가리만 크냐 너는...   \n",
              "3909  내가 지금 너 아들 김길준 데리고 있어. 살리고 싶으면 계좌에 1억만 보내\\n예.?...   \n",
              "3910  나는 씨 같은 사람 보면 참 신기하더라. 어떻게 저렇게 살지.\\n왜 그래. 들리겠어...   \n",
              "3911  누구맘대로 여기서 장사하래?\\n이게 무슨일입니까?\\n남의 구역에서 장사하려면 자릿세...   \n",
              "3912  희정씨\\n네?\\n주말에 시간이 넘쳐나나봐\\n갑자기 왜그러세요?\\n손이 빤짝빤짝 네일...   \n",
              "\n",
              "                             spell_checked_conversation  \n",
              "0     길동 씨 이번에 이것 좀 처리해요\\n이거 제가 한 게 아닌데요\\n팀에서 내가 네가 ...  \n",
              "1     야 너 앞니 왜 그렇게 튀어나왔냐?\\n태어날 때부터 그랬어 물어보지 마.\\n아 그럼...  \n",
              "2     원후야 학원 교재 사야 되는데 8만 원만 주면 안 돼?\\n미안 나 오늘은 진짜 돈이...  \n",
              "3     너 저번에 술 먹은 날 기억해?\\n아니 왜?\\n야 300만 원만 가져와.\\n뭔 소리...  \n",
              "4     너 또 내말 무시하냐?\\n이 새끼 널 좆으로 보나 본데?\\n아냐 진짜 시간이 없었어...  \n",
              "...                                                 ...  \n",
              "3908  준하야 넌 대가리가 왜 이렇게 크냐?\\n내 머리가 뭐.\\n밥 먹으면 대가리만 크냐 ...  \n",
              "3909  내가 지금 너 아들 김길준 데리고 있어. 살리고 싶으면 계좌에 1억만 보내\\n예.?...  \n",
              "3910  나는 씨 같은 사람 보면 참 신기하더라. 어떻게 저렇게 살지.\\n왜 그래. 들리겠어...  \n",
              "3911  누구 맘대로 여기서 장사하래?\\n이게 무슨 일입니까?\\n남의 구역에서 장사하려면 자...  \n",
              "3912  희정 씨\\n네?\\n주말에 시간이 넘쳐나나 봐\\n갑자기 왜 그러세요?\\n손이 빤짝빤짝...  \n",
              "\n",
              "[3913 rows x 6 columns]"
            ],
            "text/html": [
              "\n",
              "  <div id=\"df-5d46aaff-66c9-4210-9690-83b5d4c8221a\">\n",
              "    <div class=\"colab-df-container\">\n",
              "      <div>\n",
              "<style scoped>\n",
              "    .dataframe tbody tr th:only-of-type {\n",
              "        vertical-align: middle;\n",
              "    }\n",
              "\n",
              "    .dataframe tbody tr th {\n",
              "        vertical-align: top;\n",
              "    }\n",
              "\n",
              "    .dataframe thead th {\n",
              "        text-align: right;\n",
              "    }\n",
              "</style>\n",
              "<table border=\"1\" class=\"dataframe\">\n",
              "  <thead>\n",
              "    <tr style=\"text-align: right;\">\n",
              "      <th></th>\n",
              "      <th>class</th>\n",
              "      <th>conversation</th>\n",
              "      <th>labelling</th>\n",
              "      <th>label_sentence</th>\n",
              "      <th>cleaned_sentence</th>\n",
              "      <th>spell_checked_conversation</th>\n",
              "    </tr>\n",
              "  </thead>\n",
              "  <tbody>\n",
              "    <tr>\n",
              "      <th>0</th>\n",
              "      <td>직장 내 괴롭힘 대화</td>\n",
              "      <td>길동씨 이번에 이것좀 처리해요\\n이거 제가 한게 아닌데요\\n팀에서 내가 니가가 어딨...</td>\n",
              "      <td>1,2,1,2,1,2,1,2,1,2</td>\n",
              "      <td>1:길동씨 이번에 이것좀 처리해요\\n2:이거 제가 한게 아닌데요\\n1:팀에서 내가 ...</td>\n",
              "      <td>길동씨 이번에 이것좀 처리해요\\n이거 제가 한게 아닌데요\\n팀에서 내가 니가가 어딨...</td>\n",
              "      <td>길동 씨 이번에 이것 좀 처리해요\\n이거 제가 한 게 아닌데요\\n팀에서 내가 네가 ...</td>\n",
              "    </tr>\n",
              "    <tr>\n",
              "      <th>1</th>\n",
              "      <td>기타 괴롭힘 대화</td>\n",
              "      <td>야 너 앞니 왜 그렇게 튀어나왔냐?\\n 태어날때부터 그랬어 물어보지마.\\n 아 그럼...</td>\n",
              "      <td>1,2,1,2,1,2,1,2,1,1,1,2,1,1</td>\n",
              "      <td>1:야 너 앞니 왜 그렇게 튀어나왔냐?\\n2:태어날때부터 그랬어 물어보지마.\\n1:...</td>\n",
              "      <td>야 너 앞니 왜 그렇게 튀어나왔냐?\\n태어날때부터 그랬어 물어보지마.\\n아 그럼 태...</td>\n",
              "      <td>야 너 앞니 왜 그렇게 튀어나왔냐?\\n태어날 때부터 그랬어 물어보지 마.\\n아 그럼...</td>\n",
              "    </tr>\n",
              "    <tr>\n",
              "      <th>2</th>\n",
              "      <td>갈취 대화</td>\n",
              "      <td>원후야 학원 교재 사야되는데 8만원만 주면 안돼?\\n 미안 나 오늘은 진짜 돈이 없...</td>\n",
              "      <td>1,2,1,2,1,2,1,2,1,2</td>\n",
              "      <td>1:원후야 학원 교재 사야되는데 8만원만 주면 안돼?\\n2:미안 나 오늘은 진짜 돈...</td>\n",
              "      <td>원후야 학원 교재 사야되는데 8만원만 주면 안돼?\\n미안 나 오늘은 진짜 돈이 없어...</td>\n",
              "      <td>원후야 학원 교재 사야 되는데 8만 원만 주면 안 돼?\\n미안 나 오늘은 진짜 돈이...</td>\n",
              "    </tr>\n",
              "    <tr>\n",
              "      <th>3</th>\n",
              "      <td>갈취 대화</td>\n",
              "      <td>너 저번에 술먹은 날 기억해?\\n아니 왜?\\n야 300만원만 가져와.\\n뭔 소리야....</td>\n",
              "      <td>1,2,1,2,1,2,1,2,1,2</td>\n",
              "      <td>1:너 저번에 술먹은 날 기억해?\\n2:아니 왜?\\n1:야 300만원만 가져와.\\n...</td>\n",
              "      <td>너 저번에 술먹은 날 기억해?\\n아니 왜?\\n야 300만원만 가져와.\\n뭔 소리야....</td>\n",
              "      <td>너 저번에 술 먹은 날 기억해?\\n아니 왜?\\n야 300만 원만 가져와.\\n뭔 소리...</td>\n",
              "    </tr>\n",
              "    <tr>\n",
              "      <th>4</th>\n",
              "      <td>협박 대화</td>\n",
              "      <td>너 또 내말 무시하냐?\\n 이새끼 널 좆으로 보나본데?\\n아냐 진짜 시간이 없었어 ...</td>\n",
              "      <td>1,1,2,1,1,2,1,2,1,1</td>\n",
              "      <td>1:너 또 내말 무시하냐?\\n1:이새끼 널 좆으로 보나본데?\\n2:아냐 진짜 시간이...</td>\n",
              "      <td>너 또 내말 무시하냐?\\n이새끼 널 좆으로 보나본데?\\n아냐 진짜 시간이 없었어 미...</td>\n",
              "      <td>너 또 내말 무시하냐?\\n이 새끼 널 좆으로 보나 본데?\\n아냐 진짜 시간이 없었어...</td>\n",
              "    </tr>\n",
              "    <tr>\n",
              "      <th>...</th>\n",
              "      <td>...</td>\n",
              "      <td>...</td>\n",
              "      <td>...</td>\n",
              "      <td>...</td>\n",
              "      <td>...</td>\n",
              "      <td>...</td>\n",
              "    </tr>\n",
              "    <tr>\n",
              "      <th>3908</th>\n",
              "      <td>기타 괴롭힘 대화</td>\n",
              "      <td>준하야 넌 대가리가 왜이렇게 크냐?\\n내 머리가 뭐.\\n밥먹으면 대가리만 크냐 너는...</td>\n",
              "      <td>1,2,1,2,1,2,1,2,1,2,1</td>\n",
              "      <td>1:준하야 넌 대가리가 왜이렇게 크냐?\\n2:내 머리가 뭐.\\n1:밥먹으면 대가리만...</td>\n",
              "      <td>준하야 넌 대가리가 왜이렇게 크냐?\\n내 머리가 뭐.\\n밥먹으면 대가리만 크냐 너는...</td>\n",
              "      <td>준하야 넌 대가리가 왜 이렇게 크냐?\\n내 머리가 뭐.\\n밥 먹으면 대가리만 크냐 ...</td>\n",
              "    </tr>\n",
              "    <tr>\n",
              "      <th>3909</th>\n",
              "      <td>갈취 대화</td>\n",
              "      <td>내가 지금 너 아들 김길준 데리고 있어. 살리고 싶으면 계좌에 1억만 보내\\n예.?...</td>\n",
              "      <td>1,2,1,2,1,2,1,2,1,2</td>\n",
              "      <td>1:내가 지금 너 아들 김길준 데리고 있어. 살리고 싶으면 계좌에 1억만 보내\\n2...</td>\n",
              "      <td>내가 지금 너 아들 김길준 데리고 있어. 살리고 싶으면 계좌에 1억만 보내\\n예.?...</td>\n",
              "      <td>내가 지금 너 아들 김길준 데리고 있어. 살리고 싶으면 계좌에 1억만 보내\\n예.?...</td>\n",
              "    </tr>\n",
              "    <tr>\n",
              "      <th>3910</th>\n",
              "      <td>직장 내 괴롭힘 대화</td>\n",
              "      <td>나는 씨 같은 사람 보면 참 신기하더라. 어떻게 저렇게 살지.\\n왜 그래. 들리겠어...</td>\n",
              "      <td>1,1,1,1,1,1,1,1,1,1,2</td>\n",
              "      <td>1:나는 씨 같은 사람 보면 참 신기하더라. 어떻게 저렇게 살지.\\n1:왜 그래. ...</td>\n",
              "      <td>나는 씨 같은 사람 보면 참 신기하더라. 어떻게 저렇게 살지.\\n왜 그래. 들리겠어...</td>\n",
              "      <td>나는 씨 같은 사람 보면 참 신기하더라. 어떻게 저렇게 살지.\\n왜 그래. 들리겠어...</td>\n",
              "    </tr>\n",
              "    <tr>\n",
              "      <th>3911</th>\n",
              "      <td>갈취 대화</td>\n",
              "      <td>누구맘대로 여기서 장사하래?\\n이게 무슨일입니까?\\n남의 구역에서 장사하려면 자릿세...</td>\n",
              "      <td>1,2,1,2,1,2,1,2,1,2</td>\n",
              "      <td>1:누구맘대로 여기서 장사하래?\\n2:이게 무슨일입니까?\\n1:남의 구역에서 장사하...</td>\n",
              "      <td>누구맘대로 여기서 장사하래?\\n이게 무슨일입니까?\\n남의 구역에서 장사하려면 자릿세...</td>\n",
              "      <td>누구 맘대로 여기서 장사하래?\\n이게 무슨 일입니까?\\n남의 구역에서 장사하려면 자...</td>\n",
              "    </tr>\n",
              "    <tr>\n",
              "      <th>3912</th>\n",
              "      <td>직장 내 괴롭힘 대화</td>\n",
              "      <td>희정씨\\n네?\\n주말에 시간이 넘쳐나나봐\\n갑자기 왜그러세요?\\n손이 빤짝빤짝 네일...</td>\n",
              "      <td>1,2,1,2,1,2,1,2,1,2</td>\n",
              "      <td>1:희정씨\\n2:네?\\n1:주말에 시간이 넘쳐나나봐\\n2:갑자기 왜그러세요?\\n1:...</td>\n",
              "      <td>희정씨\\n네?\\n주말에 시간이 넘쳐나나봐\\n갑자기 왜그러세요?\\n손이 빤짝빤짝 네일...</td>\n",
              "      <td>희정 씨\\n네?\\n주말에 시간이 넘쳐나나 봐\\n갑자기 왜 그러세요?\\n손이 빤짝빤짝...</td>\n",
              "    </tr>\n",
              "  </tbody>\n",
              "</table>\n",
              "<p>3913 rows × 6 columns</p>\n",
              "</div>\n",
              "      <button class=\"colab-df-convert\" onclick=\"convertToInteractive('df-5d46aaff-66c9-4210-9690-83b5d4c8221a')\"\n",
              "              title=\"Convert this dataframe to an interactive table.\"\n",
              "              style=\"display:none;\">\n",
              "        \n",
              "  <svg xmlns=\"http://www.w3.org/2000/svg\" height=\"24px\"viewBox=\"0 0 24 24\"\n",
              "       width=\"24px\">\n",
              "    <path d=\"M0 0h24v24H0V0z\" fill=\"none\"/>\n",
              "    <path d=\"M18.56 5.44l.94 2.06.94-2.06 2.06-.94-2.06-.94-.94-2.06-.94 2.06-2.06.94zm-11 1L8.5 8.5l.94-2.06 2.06-.94-2.06-.94L8.5 2.5l-.94 2.06-2.06.94zm10 10l.94 2.06.94-2.06 2.06-.94-2.06-.94-.94-2.06-.94 2.06-2.06.94z\"/><path d=\"M17.41 7.96l-1.37-1.37c-.4-.4-.92-.59-1.43-.59-.52 0-1.04.2-1.43.59L10.3 9.45l-7.72 7.72c-.78.78-.78 2.05 0 2.83L4 21.41c.39.39.9.59 1.41.59.51 0 1.02-.2 1.41-.59l7.78-7.78 2.81-2.81c.8-.78.8-2.07 0-2.86zM5.41 20L4 18.59l7.72-7.72 1.47 1.35L5.41 20z\"/>\n",
              "  </svg>\n",
              "      </button>\n",
              "      \n",
              "  <style>\n",
              "    .colab-df-container {\n",
              "      display:flex;\n",
              "      flex-wrap:wrap;\n",
              "      gap: 12px;\n",
              "    }\n",
              "\n",
              "    .colab-df-convert {\n",
              "      background-color: #E8F0FE;\n",
              "      border: none;\n",
              "      border-radius: 50%;\n",
              "      cursor: pointer;\n",
              "      display: none;\n",
              "      fill: #1967D2;\n",
              "      height: 32px;\n",
              "      padding: 0 0 0 0;\n",
              "      width: 32px;\n",
              "    }\n",
              "\n",
              "    .colab-df-convert:hover {\n",
              "      background-color: #E2EBFA;\n",
              "      box-shadow: 0px 1px 2px rgba(60, 64, 67, 0.3), 0px 1px 3px 1px rgba(60, 64, 67, 0.15);\n",
              "      fill: #174EA6;\n",
              "    }\n",
              "\n",
              "    [theme=dark] .colab-df-convert {\n",
              "      background-color: #3B4455;\n",
              "      fill: #D2E3FC;\n",
              "    }\n",
              "\n",
              "    [theme=dark] .colab-df-convert:hover {\n",
              "      background-color: #434B5C;\n",
              "      box-shadow: 0px 1px 3px 1px rgba(0, 0, 0, 0.15);\n",
              "      filter: drop-shadow(0px 1px 2px rgba(0, 0, 0, 0.3));\n",
              "      fill: #FFFFFF;\n",
              "    }\n",
              "  </style>\n",
              "\n",
              "      <script>\n",
              "        const buttonEl =\n",
              "          document.querySelector('#df-5d46aaff-66c9-4210-9690-83b5d4c8221a button.colab-df-convert');\n",
              "        buttonEl.style.display =\n",
              "          google.colab.kernel.accessAllowed ? 'block' : 'none';\n",
              "\n",
              "        async function convertToInteractive(key) {\n",
              "          const element = document.querySelector('#df-5d46aaff-66c9-4210-9690-83b5d4c8221a');\n",
              "          const dataTable =\n",
              "            await google.colab.kernel.invokeFunction('convertToInteractive',\n",
              "                                                     [key], {});\n",
              "          if (!dataTable) return;\n",
              "\n",
              "          const docLinkHtml = 'Like what you see? Visit the ' +\n",
              "            '<a target=\"_blank\" href=https://colab.research.google.com/notebooks/data_table.ipynb>data table notebook</a>'\n",
              "            + ' to learn more about interactive tables.';\n",
              "          element.innerHTML = '';\n",
              "          dataTable['output_type'] = 'display_data';\n",
              "          await google.colab.output.renderOutput(dataTable, element);\n",
              "          const docLink = document.createElement('div');\n",
              "          docLink.innerHTML = docLinkHtml;\n",
              "          element.appendChild(docLink);\n",
              "        }\n",
              "      </script>\n",
              "    </div>\n",
              "  </div>\n",
              "  "
            ]
          },
          "metadata": {},
          "execution_count": 6
        }
      ]
    },
    {
      "cell_type": "markdown",
      "source": [
        "# 토큰화\n",
        "- Tensorflow Tokenizer사용\n",
        "- 단어장 32000개\n",
        "- 클래스 라벨 one-hot vector화\n",
        "- train : valid : test = 0.7 : 0.15 : 0.15"
      ],
      "metadata": {
        "id": "JiXWqnP8FsVP"
      }
    },
    {
      "cell_type": "code",
      "source": [
        "from tensorflow.keras.preprocessing.text import Tokenizer\n",
        "from tensorflow.keras.preprocessing.sequence import pad_sequences\n",
        "\n",
        "vocab_size = 32000"
      ],
      "metadata": {
        "id": "z5most94FrFF"
      },
      "execution_count": 31,
      "outputs": []
    },
    {
      "cell_type": "code",
      "source": [
        "sentences = data['spell_checked_conversation']\n",
        "\n",
        "tokenizer = Tokenizer(num_words = vocab_size)\n",
        "tokenizer.fit_on_texts(sentences)\n",
        "word_dic = tokenizer.word_index\n",
        "#print(word_dic)\n",
        "\n",
        "sequences = tokenizer.texts_to_sequences(sentences)\n",
        "print(sequences)\n",
        "\n",
        "padded = pad_sequences(sequences)\n",
        "print(padded)"
      ],
      "metadata": {
        "id": "R5ct2oJKFq9e"
      },
      "execution_count": null,
      "outputs": []
    },
    {
      "cell_type": "code",
      "source": [
        "len(word_dic)"
      ],
      "metadata": {
        "colab": {
          "base_uri": "https://localhost:8080/"
        },
        "id": "RpHXLgOIIGXh",
        "outputId": "804bf123-0980-4585-85fa-3a9f6ae02379"
      },
      "execution_count": 14,
      "outputs": [
        {
          "output_type": "execute_result",
          "data": {
            "text/plain": [
              "40198"
            ]
          },
          "metadata": {},
          "execution_count": 14
        }
      ]
    },
    {
      "cell_type": "code",
      "source": [
        "np.shape(padded)"
      ],
      "metadata": {
        "colab": {
          "base_uri": "https://localhost:8080/"
        },
        "id": "chgr4wpQFqsZ",
        "outputId": "b8c55c30-c196-42fe-ea54-971f5f1b3bb6"
      },
      "execution_count": 13,
      "outputs": [
        {
          "output_type": "execute_result",
          "data": {
            "text/plain": [
              "(3913, 252)"
            ]
          },
          "metadata": {},
          "execution_count": 13
        }
      ]
    },
    {
      "cell_type": "code",
      "source": [
        "train_data = padded\n",
        "train_label = data['class']"
      ],
      "metadata": {
        "id": "ecw2j-NTIvvu"
      },
      "execution_count": 15,
      "outputs": []
    },
    {
      "cell_type": "code",
      "source": [
        "print(len(train_data), len(train_label))"
      ],
      "metadata": {
        "colab": {
          "base_uri": "https://localhost:8080/"
        },
        "id": "Epx3_nwwI2tg",
        "outputId": "54c32c3b-aba6-4adb-c2ea-608dea3b0ec1"
      },
      "execution_count": 16,
      "outputs": [
        {
          "output_type": "stream",
          "name": "stdout",
          "text": [
            "3913 3913\n"
          ]
        }
      ]
    },
    {
      "cell_type": "code",
      "source": [
        "pd.unique(train_label)"
      ],
      "metadata": {
        "colab": {
          "base_uri": "https://localhost:8080/"
        },
        "id": "TgDjbyKNKPU1",
        "outputId": "472ab87c-f464-477c-976f-f3beb4966436"
      },
      "execution_count": 21,
      "outputs": [
        {
          "output_type": "execute_result",
          "data": {
            "text/plain": [
              "array(['직장 내 괴롭힘 대화', '기타 괴롭힘 대화', '갈취 대화', '협박 대화'], dtype=object)"
            ]
          },
          "metadata": {},
          "execution_count": 21
        }
      ]
    },
    {
      "cell_type": "code",
      "source": [
        "labels = {'직장 내 괴롭힘 대화':0, '기타 괴롭힘 대화':1, '갈취 대화':2, '협박 대화':3}"
      ],
      "metadata": {
        "id": "qt0u-2UTKUsF"
      },
      "execution_count": 22,
      "outputs": []
    },
    {
      "cell_type": "code",
      "source": [
        "train_label = train_label.apply(lambda x: labels[x])"
      ],
      "metadata": {
        "id": "hbj0Lft_KeWs"
      },
      "execution_count": 24,
      "outputs": []
    },
    {
      "cell_type": "code",
      "source": [
        "train_label = pd.get_dummies(train_label)"
      ],
      "metadata": {
        "id": "FRFpemQZNTwB"
      },
      "execution_count": 36,
      "outputs": []
    },
    {
      "cell_type": "code",
      "source": [
        "print(train_label)"
      ],
      "metadata": {
        "colab": {
          "base_uri": "https://localhost:8080/"
        },
        "id": "lCYmDFCEKu33",
        "outputId": "f56850b2-5bc5-44cd-ebc3-9f22ce634860"
      },
      "execution_count": 37,
      "outputs": [
        {
          "output_type": "stream",
          "name": "stdout",
          "text": [
            "      0  1  2  3\n",
            "0     1  0  0  0\n",
            "1     0  1  0  0\n",
            "2     0  0  1  0\n",
            "3     0  0  1  0\n",
            "4     0  0  0  1\n",
            "...  .. .. .. ..\n",
            "3908  0  1  0  0\n",
            "3909  0  0  1  0\n",
            "3910  1  0  0  0\n",
            "3911  0  0  1  0\n",
            "3912  1  0  0  0\n",
            "\n",
            "[3913 rows x 4 columns]\n"
          ]
        }
      ]
    },
    {
      "cell_type": "code",
      "source": [
        "from sklearn.model_selection import train_test_split\n",
        "\n",
        "train_X, test_X, train_Y, test_Y = train_test_split(train_data, train_label, test_size=0.3, random_state=22)\n",
        "valid_X, test_X, valid_Y, test_Y = train_test_split(test_X, test_Y, test_size=0.5, random_state=22)"
      ],
      "metadata": {
        "id": "tCfqjBT-I9n6"
      },
      "execution_count": 41,
      "outputs": []
    },
    {
      "cell_type": "code",
      "source": [
        "print(len(train_X), len(valid_X), len(test_X))\n",
        "print(len(train_Y), len(valid_Y), len(test_Y))"
      ],
      "metadata": {
        "colab": {
          "base_uri": "https://localhost:8080/"
        },
        "id": "L7AgjmJrJvou",
        "outputId": "19882650-51dc-4cbc-d12a-1137e6aca891"
      },
      "execution_count": 42,
      "outputs": [
        {
          "output_type": "stream",
          "name": "stdout",
          "text": [
            "2739 587 587\n",
            "2739 587 587\n"
          ]
        }
      ]
    },
    {
      "cell_type": "markdown",
      "source": [
        "# 모델 \n",
        "- LSTM 사용"
      ],
      "metadata": {
        "id": "RzB2haBJLJoH"
      }
    },
    {
      "cell_type": "code",
      "source": [
        "word_vector_dim = 32\n",
        "labels_size = len(labels)\n",
        "\n",
        "model = tf.keras.Sequential()\n",
        "model.add(tf.keras.layers.Embedding(vocab_size, word_vector_dim, input_shape=(None,)))\n",
        "model.add(tf.keras.layers.LSTM(20))\n",
        "model.add(tf.keras.layers.Dense(vocab_size, activation='relu'))\n",
        "model.add(tf.keras.layers.Dense(labels_size, activation='softmax'))\n",
        "\n",
        "\n",
        "model.summary()"
      ],
      "metadata": {
        "colab": {
          "base_uri": "https://localhost:8080/"
        },
        "id": "C8kkPNDrLKZ7",
        "outputId": "1e9339f9-298b-41fc-8516-a7b3644fb975"
      },
      "execution_count": 44,
      "outputs": [
        {
          "output_type": "stream",
          "name": "stdout",
          "text": [
            "Model: \"sequential_3\"\n",
            "_________________________________________________________________\n",
            " Layer (type)                Output Shape              Param #   \n",
            "=================================================================\n",
            " embedding_3 (Embedding)     (None, None, 32)          1024000   \n",
            "                                                                 \n",
            " lstm_3 (LSTM)               (None, 20)                4240      \n",
            "                                                                 \n",
            " dense_6 (Dense)             (None, 32000)             672000    \n",
            "                                                                 \n",
            " dense_7 (Dense)             (None, 4)                 128004    \n",
            "                                                                 \n",
            "=================================================================\n",
            "Total params: 1,828,244\n",
            "Trainable params: 1,828,244\n",
            "Non-trainable params: 0\n",
            "_________________________________________________________________\n"
          ]
        }
      ]
    },
    {
      "cell_type": "code",
      "source": [
        "model.compile(optimizer='adam',\n",
        "              loss='categorical_crossentropy',\n",
        "              metrics=['accuracy'])\n",
        "              \n",
        "epochs=10\n",
        "\n",
        "history = model.fit(train_X,\n",
        "                    train_Y,\n",
        "                    epochs=epochs,\n",
        "                    batch_size=256,\n",
        "                    validation_data=(valid_X, valid_Y),\n",
        "                    verbose=1)"
      ],
      "metadata": {
        "colab": {
          "base_uri": "https://localhost:8080/"
        },
        "id": "a0sS-wccLaok",
        "outputId": "5e7f1e94-115f-4a38-c478-51723efc819f"
      },
      "execution_count": 45,
      "outputs": [
        {
          "output_type": "stream",
          "name": "stdout",
          "text": [
            "Epoch 1/10\n",
            "11/11 [==============================] - 8s 426ms/step - loss: 1.3771 - accuracy: 0.2979 - val_loss: 1.3443 - val_accuracy: 0.3952\n",
            "Epoch 2/10\n",
            "11/11 [==============================] - 4s 420ms/step - loss: 1.1733 - accuracy: 0.4761 - val_loss: 1.0738 - val_accuracy: 0.4412\n",
            "Epoch 3/10\n",
            "11/11 [==============================] - 5s 433ms/step - loss: 0.8436 - accuracy: 0.5838 - val_loss: 0.9512 - val_accuracy: 0.5843\n",
            "Epoch 4/10\n",
            "11/11 [==============================] - 4s 343ms/step - loss: 0.5599 - accuracy: 0.7722 - val_loss: 0.8094 - val_accuracy: 0.6678\n",
            "Epoch 5/10\n",
            "11/11 [==============================] - 4s 347ms/step - loss: 0.2743 - accuracy: 0.9127 - val_loss: 0.8661 - val_accuracy: 0.6848\n",
            "Epoch 6/10\n",
            "11/11 [==============================] - 4s 341ms/step - loss: 0.0847 - accuracy: 0.9825 - val_loss: 1.0634 - val_accuracy: 0.7087\n",
            "Epoch 7/10\n",
            "11/11 [==============================] - 4s 394ms/step - loss: 0.0224 - accuracy: 0.9971 - val_loss: 1.0831 - val_accuracy: 0.7291\n",
            "Epoch 8/10\n",
            "11/11 [==============================] - 4s 371ms/step - loss: 0.0070 - accuracy: 0.9996 - val_loss: 1.1542 - val_accuracy: 0.7462\n",
            "Epoch 9/10\n",
            "11/11 [==============================] - 4s 393ms/step - loss: 0.0044 - accuracy: 0.9993 - val_loss: 1.2313 - val_accuracy: 0.7291\n",
            "Epoch 10/10\n",
            "11/11 [==============================] - 4s 351ms/step - loss: 0.0030 - accuracy: 0.9993 - val_loss: 1.2476 - val_accuracy: 0.7342\n"
          ]
        }
      ]
    },
    {
      "cell_type": "code",
      "source": [
        "results = model.evaluate(test_X, test_Y, verbose=2)\n",
        "print(results)"
      ],
      "metadata": {
        "colab": {
          "base_uri": "https://localhost:8080/"
        },
        "id": "1TniWtiVOIs5",
        "outputId": "37a75a75-a9e9-4a6b-846b-f276bef2fa36"
      },
      "execution_count": 46,
      "outputs": [
        {
          "output_type": "stream",
          "name": "stdout",
          "text": [
            "19/19 - 0s - loss: 1.8885 - accuracy: 0.6695 - 444ms/epoch - 23ms/step\n",
            "[1.8885184526443481, 0.6695059537887573]\n"
          ]
        }
      ]
    }
  ]
}