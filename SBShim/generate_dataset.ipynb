{
  "nbformat": 4,
  "nbformat_minor": 0,
  "metadata": {
    "colab": {
      "provenance": [],
      "mount_file_id": "1UQiXuoPoJ6hjMJQl2suShaUaI1gJBe2K",
      "authorship_tag": "ABX9TyMhd36Pm0KjMwTR3smilgik",
      "include_colab_link": true
    },
    "kernelspec": {
      "name": "python3",
      "display_name": "Python 3"
    },
    "language_info": {
      "name": "python"
    }
  },
  "cells": [
    {
      "cell_type": "markdown",
      "metadata": {
        "id": "view-in-github",
        "colab_type": "text"
      },
      "source": [
        "<a href=\"https://colab.research.google.com/github/RealMyeong/AIFFELTHON/blob/main/SBShim/generate_dataset.ipynb\" target=\"_parent\"><img src=\"https://colab.research.google.com/assets/colab-badge.svg\" alt=\"Open In Colab\"/></a>"
      ]
    },
    {
      "cell_type": "code",
      "source": [
        "! pip install soynlp"
      ],
      "metadata": {
        "colab": {
          "base_uri": "https://localhost:8080/"
        },
        "id": "xlyFMQO0kMFK",
        "outputId": "5f1ae0ee-704a-43c4-a8bd-09d92491464a"
      },
      "execution_count": 3,
      "outputs": [
        {
          "output_type": "stream",
          "name": "stdout",
          "text": [
            "Looking in indexes: https://pypi.org/simple, https://us-python.pkg.dev/colab-wheels/public/simple/\n",
            "Collecting soynlp\n",
            "  Downloading soynlp-0.0.493-py3-none-any.whl (416 kB)\n",
            "\u001b[K     |████████████████████████████████| 416 kB 5.4 MB/s \n",
            "\u001b[?25hRequirement already satisfied: psutil>=5.0.1 in /usr/local/lib/python3.7/dist-packages (from soynlp) (5.4.8)\n",
            "Requirement already satisfied: scikit-learn>=0.20.0 in /usr/local/lib/python3.7/dist-packages (from soynlp) (1.0.2)\n",
            "Requirement already satisfied: scipy>=1.1.0 in /usr/local/lib/python3.7/dist-packages (from soynlp) (1.7.3)\n",
            "Requirement already satisfied: numpy>=1.12.1 in /usr/local/lib/python3.7/dist-packages (from soynlp) (1.21.6)\n",
            "Requirement already satisfied: threadpoolctl>=2.0.0 in /usr/local/lib/python3.7/dist-packages (from scikit-learn>=0.20.0->soynlp) (3.1.0)\n",
            "Requirement already satisfied: joblib>=0.11 in /usr/local/lib/python3.7/dist-packages (from scikit-learn>=0.20.0->soynlp) (1.2.0)\n",
            "Installing collected packages: soynlp\n",
            "Successfully installed soynlp-0.0.493\n"
          ]
        }
      ]
    },
    {
      "cell_type": "code",
      "execution_count": 4,
      "metadata": {
        "id": "L2vVAefcNwHJ"
      },
      "outputs": [],
      "source": [
        "import pandas as pd\n",
        "import numpy as np\n",
        "import random\n",
        "\n",
        "from soynlp.tokenizer import LTokenizer\n",
        "from soynlp.word import WordExtractor\n",
        "from tensorflow.keras.preprocessing.sequence import pad_sequences"
      ]
    },
    {
      "cell_type": "code",
      "source": [
        "data_path = '/content/drive/MyDrive/공부/AIFFELTHON/shared/TUNiB/Data/original_train_data.csv'\n",
        "norm_path = '/content/drive/MyDrive/공부/AIFFELTHON/shared/TUNiB/Data/original_normal_data.csv'\n",
        "agu_paths = ['/content/drive/MyDrive/공부/AIFFELTHON/shared/TUNiB/Data/original_train_data.csv',\n",
        "             '/content/drive/MyDrive/공부/AIFFELTHON/shared/TUNiB/Data/original_train_data.csv',\n",
        "             '/content/drive/MyDrive/공부/AIFFELTHON/shared/TUNiB/Data/original_train_data.csv']\n",
        "\n",
        "train_label = 'non_label_sentence'\n",
        "target_label = 'class'"
      ],
      "metadata": {
        "id": "xZhZjx-0O-_d"
      },
      "execution_count": 65,
      "outputs": []
    },
    {
      "cell_type": "code",
      "source": [
        "data = pd.read_csv(data_path)\n",
        "norm_data = pd.read_csv(norm_path)"
      ],
      "metadata": {
        "colab": {
          "base_uri": "https://localhost:8080/",
          "height": 211
        },
        "id": "lf81ptwmnfKn",
        "outputId": "b76996d8-378a-4d63-f007-af933cd83cd2"
      },
      "execution_count": 9,
      "outputs": [
        {
          "output_type": "error",
          "ename": "NameError",
          "evalue": "ignored",
          "traceback": [
            "\u001b[0;31m---------------------------------------------------------------------------\u001b[0m",
            "\u001b[0;31mNameError\u001b[0m                                 Traceback (most recent call last)",
            "\u001b[0;32m<ipython-input-9-869cca2c2c93>\u001b[0m in \u001b[0;36m<module>\u001b[0;34m\u001b[0m\n\u001b[1;32m      5\u001b[0m \u001b[0;34m\u001b[0m\u001b[0m\n\u001b[1;32m      6\u001b[0m \u001b[0;32mfor\u001b[0m \u001b[0magu_path\u001b[0m \u001b[0;32min\u001b[0m \u001b[0magu_paths\u001b[0m\u001b[0;34m:\u001b[0m\u001b[0;34m\u001b[0m\u001b[0;34m\u001b[0m\u001b[0m\n\u001b[0;32m----> 7\u001b[0;31m     \u001b[0magu_dates\u001b[0m\u001b[0;34m.\u001b[0m\u001b[0mappend\u001b[0m\u001b[0;34m(\u001b[0m\u001b[0mpd\u001b[0m\u001b[0;34m.\u001b[0m\u001b[0mread_csv\u001b[0m\u001b[0;34m(\u001b[0m\u001b[0magu_path\u001b[0m\u001b[0;34m)\u001b[0m\u001b[0;34m)\u001b[0m\u001b[0;34m\u001b[0m\u001b[0;34m\u001b[0m\u001b[0m\n\u001b[0m",
            "\u001b[0;31mNameError\u001b[0m: name 'agu_dates' is not defined"
          ]
        }
      ]
    },
    {
      "cell_type": "code",
      "source": [
        "agu_dataes = []\n",
        "        \n",
        "for agu_path in agu_paths:\n",
        "    agu_dataes.append(pd.read_csv(agu_path))"
      ],
      "metadata": {
        "id": "bu-fs8oNn3yH"
      },
      "execution_count": 20,
      "outputs": []
    },
    {
      "cell_type": "code",
      "source": [
        "new_data = pd.concat(agu_dataes)"
      ],
      "metadata": {
        "id": "mehbf2H4n5Vs"
      },
      "execution_count": 21,
      "outputs": []
    },
    {
      "cell_type": "code",
      "source": [
        "agu_rates = []\n",
        "rates = []\n",
        "total = 0\n",
        "\n",
        "for i in range(len(agu_paths)):\n",
        "    rates.append(random.randint(5, 10))\n",
        "    total = total + rates[i]\n",
        "\n",
        "for i in range(len(agu_paths)):\n",
        "    agu_rates.append(rates[i]/total)"
      ],
      "metadata": {
        "id": "23Xc8RcetWGB"
      },
      "execution_count": 24,
      "outputs": []
    },
    {
      "cell_type": "code",
      "source": [
        "train_num = len(data)\n",
        "agu = 1"
      ],
      "metadata": {
        "id": "uTeK4gvMtm8Y"
      },
      "execution_count": 30,
      "outputs": []
    },
    {
      "cell_type": "code",
      "source": [
        "output_data = pd.concat([agu_dataes[i].sample((int)(agu_rates[i] * train_num * agu)) for i in range(len(agu_dataes))])"
      ],
      "metadata": {
        "id": "TATMlGE0tPpT"
      },
      "execution_count": 32,
      "outputs": []
    },
    {
      "cell_type": "code",
      "source": [
        "output_data"
      ],
      "metadata": {
        "colab": {
          "base_uri": "https://localhost:8080/",
          "height": 424
        },
        "id": "sC0qojIIt5UD",
        "outputId": "b644bcd3-acf4-44f4-be9e-a88a01790a8c"
      },
      "execution_count": 33,
      "outputs": [
        {
          "output_type": "execute_result",
          "data": {
            "text/plain": [
              "            class                                     label_sentence  \\\n",
              "1401        갈취 대화  1:좋은 말 할 때 내놔라\\n1:야 뒤져\\n2:정말 이게 다예요\\n1:장난쳐  놀러...   \n",
              "3684    기타 괴롭힘 대화  1:헐 너 진짜 대단하다  내가 아는 사람 중에 최고야  또 남자친구 바뀌었니\\n1...   \n",
              "3714        갈취 대화  1:어  너 매점과  가는 길에 내 것도\\n2:그래  뭐 사다 줄까\\n1:난 빵이랑...   \n",
              "1355        갈취 대화  1:야 나 오늘 지갑을 안 가져왔는데 5만 원만 빌려주라\\n2:아  지난번에도 빌려...   \n",
              "2472    기타 괴롭힘 대화  1:야 쟤 진짜 냄새나 인정\\n1:인정 뭔 남학생이 씻지도 않고 뭐 하는 거냐  쟨...   \n",
              "...           ...                                                ...   \n",
              "3824  직장 내 괴롭힘 대화  1:박 대리\\n2:부장님 부르셨습니까\\n1:박 대리는 일한지가 얼마 됐는데 아직도 ...   \n",
              "3257        협박 대화  1:이야 오랜만이야 살맛 나나보다\\n2:아닙니다\\n1:아니긴 뭐가 아니야 새끼야  ...   \n",
              "1725    기타 괴롭힘 대화  1:칵 퉤\\n2:앗 너 지금 뭐 하는 거야\\n1:어머 너 거기 있었니  너무 작아서...   \n",
              "730         갈취 대화  1:우와 너 돈 진짜 많다  나 좀 빌려주라\\n2:이거 나 학원비야\\n1:학원비  ...   \n",
              "2041        협박 대화  1:나 만나줘\\n2:왜 그러세요 정말 부담스러워요 부장님\\n1:아니 같이 나이 들어...   \n",
              "\n",
              "                                     non_label_sentence binary_class  \n",
              "1401  좋은 말 할 때 내놔라\\n야 뒤져\\n정말 이게 다예요\\n장난쳐  놀러 오면서 이거밖...        공격 대화  \n",
              "3684  헐 너 진짜 대단하다  내가 아는 사람 중에 최고야  또 남자친구 바뀌었니\\n와 이...        공격 대화  \n",
              "3714  어  너 매점과  가는 길에 내 것도\\n그래  뭐 사다 줄까\\n난 빵이랑 우유  여...        공격 대화  \n",
              "1355  야 나 오늘 지갑을 안 가져왔는데 5만 원만 빌려주라\\n아  지난번에도 빌려 간 돈...        공격 대화  \n",
              "2472  야 쟤 진짜 냄새나 인정\\n인정 뭔 남학생이 씻지도 않고 뭐 하는 거냐  쟨 분명 ...        공격 대화  \n",
              "...                                                 ...          ...  \n",
              "3824  박 대리\\n부장님 부르셨습니까\\n박 대리는 일한지가 얼마 됐는데 아직도 기안서가 이...        공격 대화  \n",
              "3257  이야 오랜만이야 살맛 나나보다\\n아닙니다\\n아니긴 뭐가 아니야 새끼야  장기 또 털...        공격 대화  \n",
              "1725  칵 퉤\\n앗  너 지금 뭐 하는 거야\\n어머 너 거기 있었니  너무 작아서 안 보였...        공격 대화  \n",
              "730   우와 너 돈 진짜 많다  나 좀 빌려주라\\n이거 나 학원비야\\n학원비  그거 잃어버...        공격 대화  \n",
              "2041  나 만나줘\\n왜 그러세요 정말 부담스러워요 부장님\\n아니 같이 나이 들어가는 처지에...        공격 대화  \n",
              "\n",
              "[3869 rows x 4 columns]"
            ],
            "text/html": [
              "\n",
              "  <div id=\"df-df079ad3-d0a9-4152-89a7-192f0a3d1b33\">\n",
              "    <div class=\"colab-df-container\">\n",
              "      <div>\n",
              "<style scoped>\n",
              "    .dataframe tbody tr th:only-of-type {\n",
              "        vertical-align: middle;\n",
              "    }\n",
              "\n",
              "    .dataframe tbody tr th {\n",
              "        vertical-align: top;\n",
              "    }\n",
              "\n",
              "    .dataframe thead th {\n",
              "        text-align: right;\n",
              "    }\n",
              "</style>\n",
              "<table border=\"1\" class=\"dataframe\">\n",
              "  <thead>\n",
              "    <tr style=\"text-align: right;\">\n",
              "      <th></th>\n",
              "      <th>class</th>\n",
              "      <th>label_sentence</th>\n",
              "      <th>non_label_sentence</th>\n",
              "      <th>binary_class</th>\n",
              "    </tr>\n",
              "  </thead>\n",
              "  <tbody>\n",
              "    <tr>\n",
              "      <th>1401</th>\n",
              "      <td>갈취 대화</td>\n",
              "      <td>1:좋은 말 할 때 내놔라\\n1:야 뒤져\\n2:정말 이게 다예요\\n1:장난쳐  놀러...</td>\n",
              "      <td>좋은 말 할 때 내놔라\\n야 뒤져\\n정말 이게 다예요\\n장난쳐  놀러 오면서 이거밖...</td>\n",
              "      <td>공격 대화</td>\n",
              "    </tr>\n",
              "    <tr>\n",
              "      <th>3684</th>\n",
              "      <td>기타 괴롭힘 대화</td>\n",
              "      <td>1:헐 너 진짜 대단하다  내가 아는 사람 중에 최고야  또 남자친구 바뀌었니\\n1...</td>\n",
              "      <td>헐 너 진짜 대단하다  내가 아는 사람 중에 최고야  또 남자친구 바뀌었니\\n와 이...</td>\n",
              "      <td>공격 대화</td>\n",
              "    </tr>\n",
              "    <tr>\n",
              "      <th>3714</th>\n",
              "      <td>갈취 대화</td>\n",
              "      <td>1:어  너 매점과  가는 길에 내 것도\\n2:그래  뭐 사다 줄까\\n1:난 빵이랑...</td>\n",
              "      <td>어  너 매점과  가는 길에 내 것도\\n그래  뭐 사다 줄까\\n난 빵이랑 우유  여...</td>\n",
              "      <td>공격 대화</td>\n",
              "    </tr>\n",
              "    <tr>\n",
              "      <th>1355</th>\n",
              "      <td>갈취 대화</td>\n",
              "      <td>1:야 나 오늘 지갑을 안 가져왔는데 5만 원만 빌려주라\\n2:아  지난번에도 빌려...</td>\n",
              "      <td>야 나 오늘 지갑을 안 가져왔는데 5만 원만 빌려주라\\n아  지난번에도 빌려 간 돈...</td>\n",
              "      <td>공격 대화</td>\n",
              "    </tr>\n",
              "    <tr>\n",
              "      <th>2472</th>\n",
              "      <td>기타 괴롭힘 대화</td>\n",
              "      <td>1:야 쟤 진짜 냄새나 인정\\n1:인정 뭔 남학생이 씻지도 않고 뭐 하는 거냐  쟨...</td>\n",
              "      <td>야 쟤 진짜 냄새나 인정\\n인정 뭔 남학생이 씻지도 않고 뭐 하는 거냐  쟨 분명 ...</td>\n",
              "      <td>공격 대화</td>\n",
              "    </tr>\n",
              "    <tr>\n",
              "      <th>...</th>\n",
              "      <td>...</td>\n",
              "      <td>...</td>\n",
              "      <td>...</td>\n",
              "      <td>...</td>\n",
              "    </tr>\n",
              "    <tr>\n",
              "      <th>3824</th>\n",
              "      <td>직장 내 괴롭힘 대화</td>\n",
              "      <td>1:박 대리\\n2:부장님 부르셨습니까\\n1:박 대리는 일한지가 얼마 됐는데 아직도 ...</td>\n",
              "      <td>박 대리\\n부장님 부르셨습니까\\n박 대리는 일한지가 얼마 됐는데 아직도 기안서가 이...</td>\n",
              "      <td>공격 대화</td>\n",
              "    </tr>\n",
              "    <tr>\n",
              "      <th>3257</th>\n",
              "      <td>협박 대화</td>\n",
              "      <td>1:이야 오랜만이야 살맛 나나보다\\n2:아닙니다\\n1:아니긴 뭐가 아니야 새끼야  ...</td>\n",
              "      <td>이야 오랜만이야 살맛 나나보다\\n아닙니다\\n아니긴 뭐가 아니야 새끼야  장기 또 털...</td>\n",
              "      <td>공격 대화</td>\n",
              "    </tr>\n",
              "    <tr>\n",
              "      <th>1725</th>\n",
              "      <td>기타 괴롭힘 대화</td>\n",
              "      <td>1:칵 퉤\\n2:앗 너 지금 뭐 하는 거야\\n1:어머 너 거기 있었니  너무 작아서...</td>\n",
              "      <td>칵 퉤\\n앗  너 지금 뭐 하는 거야\\n어머 너 거기 있었니  너무 작아서 안 보였...</td>\n",
              "      <td>공격 대화</td>\n",
              "    </tr>\n",
              "    <tr>\n",
              "      <th>730</th>\n",
              "      <td>갈취 대화</td>\n",
              "      <td>1:우와 너 돈 진짜 많다  나 좀 빌려주라\\n2:이거 나 학원비야\\n1:학원비  ...</td>\n",
              "      <td>우와 너 돈 진짜 많다  나 좀 빌려주라\\n이거 나 학원비야\\n학원비  그거 잃어버...</td>\n",
              "      <td>공격 대화</td>\n",
              "    </tr>\n",
              "    <tr>\n",
              "      <th>2041</th>\n",
              "      <td>협박 대화</td>\n",
              "      <td>1:나 만나줘\\n2:왜 그러세요 정말 부담스러워요 부장님\\n1:아니 같이 나이 들어...</td>\n",
              "      <td>나 만나줘\\n왜 그러세요 정말 부담스러워요 부장님\\n아니 같이 나이 들어가는 처지에...</td>\n",
              "      <td>공격 대화</td>\n",
              "    </tr>\n",
              "  </tbody>\n",
              "</table>\n",
              "<p>3869 rows × 4 columns</p>\n",
              "</div>\n",
              "      <button class=\"colab-df-convert\" onclick=\"convertToInteractive('df-df079ad3-d0a9-4152-89a7-192f0a3d1b33')\"\n",
              "              title=\"Convert this dataframe to an interactive table.\"\n",
              "              style=\"display:none;\">\n",
              "        \n",
              "  <svg xmlns=\"http://www.w3.org/2000/svg\" height=\"24px\"viewBox=\"0 0 24 24\"\n",
              "       width=\"24px\">\n",
              "    <path d=\"M0 0h24v24H0V0z\" fill=\"none\"/>\n",
              "    <path d=\"M18.56 5.44l.94 2.06.94-2.06 2.06-.94-2.06-.94-.94-2.06-.94 2.06-2.06.94zm-11 1L8.5 8.5l.94-2.06 2.06-.94-2.06-.94L8.5 2.5l-.94 2.06-2.06.94zm10 10l.94 2.06.94-2.06 2.06-.94-2.06-.94-.94-2.06-.94 2.06-2.06.94z\"/><path d=\"M17.41 7.96l-1.37-1.37c-.4-.4-.92-.59-1.43-.59-.52 0-1.04.2-1.43.59L10.3 9.45l-7.72 7.72c-.78.78-.78 2.05 0 2.83L4 21.41c.39.39.9.59 1.41.59.51 0 1.02-.2 1.41-.59l7.78-7.78 2.81-2.81c.8-.78.8-2.07 0-2.86zM5.41 20L4 18.59l7.72-7.72 1.47 1.35L5.41 20z\"/>\n",
              "  </svg>\n",
              "      </button>\n",
              "      \n",
              "  <style>\n",
              "    .colab-df-container {\n",
              "      display:flex;\n",
              "      flex-wrap:wrap;\n",
              "      gap: 12px;\n",
              "    }\n",
              "\n",
              "    .colab-df-convert {\n",
              "      background-color: #E8F0FE;\n",
              "      border: none;\n",
              "      border-radius: 50%;\n",
              "      cursor: pointer;\n",
              "      display: none;\n",
              "      fill: #1967D2;\n",
              "      height: 32px;\n",
              "      padding: 0 0 0 0;\n",
              "      width: 32px;\n",
              "    }\n",
              "\n",
              "    .colab-df-convert:hover {\n",
              "      background-color: #E2EBFA;\n",
              "      box-shadow: 0px 1px 2px rgba(60, 64, 67, 0.3), 0px 1px 3px 1px rgba(60, 64, 67, 0.15);\n",
              "      fill: #174EA6;\n",
              "    }\n",
              "\n",
              "    [theme=dark] .colab-df-convert {\n",
              "      background-color: #3B4455;\n",
              "      fill: #D2E3FC;\n",
              "    }\n",
              "\n",
              "    [theme=dark] .colab-df-convert:hover {\n",
              "      background-color: #434B5C;\n",
              "      box-shadow: 0px 1px 3px 1px rgba(0, 0, 0, 0.15);\n",
              "      filter: drop-shadow(0px 1px 2px rgba(0, 0, 0, 0.3));\n",
              "      fill: #FFFFFF;\n",
              "    }\n",
              "  </style>\n",
              "\n",
              "      <script>\n",
              "        const buttonEl =\n",
              "          document.querySelector('#df-df079ad3-d0a9-4152-89a7-192f0a3d1b33 button.colab-df-convert');\n",
              "        buttonEl.style.display =\n",
              "          google.colab.kernel.accessAllowed ? 'block' : 'none';\n",
              "\n",
              "        async function convertToInteractive(key) {\n",
              "          const element = document.querySelector('#df-df079ad3-d0a9-4152-89a7-192f0a3d1b33');\n",
              "          const dataTable =\n",
              "            await google.colab.kernel.invokeFunction('convertToInteractive',\n",
              "                                                     [key], {});\n",
              "          if (!dataTable) return;\n",
              "\n",
              "          const docLinkHtml = 'Like what you see? Visit the ' +\n",
              "            '<a target=\"_blank\" href=https://colab.research.google.com/notebooks/data_table.ipynb>data table notebook</a>'\n",
              "            + ' to learn more about interactive tables.';\n",
              "          element.innerHTML = '';\n",
              "          dataTable['output_type'] = 'display_data';\n",
              "          await google.colab.output.renderOutput(dataTable, element);\n",
              "          const docLink = document.createElement('div');\n",
              "          docLink.innerHTML = docLinkHtml;\n",
              "          element.appendChild(docLink);\n",
              "        }\n",
              "      </script>\n",
              "    </div>\n",
              "  </div>\n",
              "  "
            ]
          },
          "metadata": {},
          "execution_count": 33
        }
      ]
    },
    {
      "cell_type": "code",
      "source": [
        "class DataRepository:\n",
        "    def __init__(self, data_path=None, norm_path=None, agu_path=[]):\n",
        "        self.data = pd.read_csv(data_path)\n",
        "        self.norm_data = pd.read_csv(norm_path)\n",
        "        self.agu_dataes = []\n",
        "        \n",
        "        for agu_path in agu_paths:\n",
        "            self.agu_dataes.append(pd.read_csv(agu_path))\n",
        "\n",
        "        self.init_tokenizer()\n",
        "\n",
        "    def shuffle_rate(self):\n",
        "        self.agu_rates = []\n",
        "        rates = []\n",
        "        total = 0\n",
        "\n",
        "        for i in range(len(self.agu_dataes)):\n",
        "            rates.append(random.randint(5, 10))\n",
        "            total = total + rates[i]\n",
        "\n",
        "        for i in range(len(self.agu_dataes)):\n",
        "            self.agu_rates.append(rates[i] / total)\n",
        "\n",
        "    def get_dataset(self, agu=2, norm=2000):\n",
        "        self.shuffle_rate()\n",
        "\n",
        "        train_num = len(self.data)\n",
        "\n",
        "        agu_data = pd.concat([self.agu_dataes[i].sample((int)(self.agu_rates[i] * train_num * agu)) for i in range(len(self.agu_dataes))])\n",
        "\n",
        "        output_data = pd.concat([agu_data, self.data, self.norm_data.sample(norm)])\n",
        "\n",
        "        return self.tokenize_data(output_data)\n",
        "\n",
        "    def init_tokenizer(self):\n",
        "        agu_df = pd.concat(self.agu_dataes)\n",
        "        total_df = pd.concat([self.data, self.norm_data, agu_df])\n",
        "\n",
        "        sentences = total_df[train_label]\n",
        "        sentences = [sen for sen in sentences]\n",
        "\n",
        "        vocab_size = 30000\n",
        "        \n",
        "        word_extractor = WordExtractor(\n",
        "            min_frequency=100, \n",
        "            min_cohesion_forward=0.05,\n",
        "            min_right_branching_entropy=0.0\n",
        "        )\n",
        "\n",
        "        word_extractor.train(sentences)\n",
        "        words = word_extractor.extract()\n",
        "\n",
        "        cohesion_score = {word:score.cohesion_forward for word, score in words.items()}\n",
        "        tokenizer = LTokenizer(scores=cohesion_score)\n",
        "        \n",
        "        self.tokenizer_tf = Tokenizer(num_words=vocab_size)\n",
        "\n",
        "        sentences = [tokenizer.tokenize(sen) for sen in sentences]\n",
        "        \n",
        "        self.tokenizer_tf.fit_on_texts(sentences)\n",
        "\n",
        "    def tokenize_data(self, df):\n",
        "        sentences = df[train_label]\n",
        "\n",
        "        sequences = self.tokenizer_tf.texts_to_sequences(sentences)\n",
        "        \n",
        "        train_data = pad_sequences(sequences)\n",
        "        \n",
        "        train_label = df[target_label]\n",
        "        labels = {'협박 대화': 0, '갈취 대화': 1, '직장 내 괴롭힘 대화': 2, '기타 괴롭힘 대화': 3, '일반 대화': 4}\n",
        "        train_label = train_label.apply(lambda x: labels[x])\n",
        "        train_label = pd.get_dummies(train_label)\n",
        "        \n",
        "        print('train_x_shape :',train_data.shape)\n",
        "        print('train_y_length :',len(train_label))\n",
        "        \n",
        "        return train_data, train_label"
      ],
      "metadata": {
        "id": "q24PYbpHTdkW"
      },
      "execution_count": 66,
      "outputs": []
    },
    {
      "cell_type": "code",
      "source": [
        "dr = DataRepository(data_path, norm_path, agu_paths)"
      ],
      "metadata": {
        "colab": {
          "base_uri": "https://localhost:8080/"
        },
        "id": "5fcDmBrfui2W",
        "outputId": "40e74f71-2314-41ed-905f-9eaef9bfb780"
      },
      "execution_count": 43,
      "outputs": [
        {
          "output_type": "stream",
          "name": "stdout",
          "text": [
            "training was done. used memory 3.483 Gb\n",
            "all cohesion probabilities was computed. # words = 24895\n",
            "all branching entropies was computed # words = 367372\n",
            "all accessor variety was computed # words = 367372\n"
          ]
        }
      ]
    },
    {
      "cell_type": "code",
      "source": [
        "len(data)"
      ],
      "metadata": {
        "colab": {
          "base_uri": "https://localhost:8080/"
        },
        "id": "-bBRqcavwWVU",
        "outputId": "d5b6f122-dd06-4e42-d0d1-7ab2af182062"
      },
      "execution_count": 48,
      "outputs": [
        {
          "output_type": "execute_result",
          "data": {
            "text/plain": [
              "3870"
            ]
          },
          "metadata": {},
          "execution_count": 48
        }
      ]
    },
    {
      "cell_type": "code",
      "source": [
        "3870 + 3870*2 + 3000"
      ],
      "metadata": {
        "colab": {
          "base_uri": "https://localhost:8080/"
        },
        "id": "-W0dCWCowZIX",
        "outputId": "5d6f3e23-07fb-403b-d1de-71a6c9f09f0a"
      },
      "execution_count": 52,
      "outputs": [
        {
          "output_type": "execute_result",
          "data": {
            "text/plain": [
              "14610"
            ]
          },
          "metadata": {},
          "execution_count": 52
        }
      ]
    },
    {
      "cell_type": "code",
      "source": [
        "train_X, train_Y = dr.get_dataset(2, 3000)"
      ],
      "metadata": {
        "colab": {
          "base_uri": "https://localhost:8080/"
        },
        "id": "sHmj1qjRusgq",
        "outputId": "e6fc3d6d-6eee-4001-bf82-9dea47b75eea"
      },
      "execution_count": 51,
      "outputs": [
        {
          "output_type": "stream",
          "name": "stdout",
          "text": [
            "train_x_shape : (14608, 263)\n",
            "train_y_length : 14608\n"
          ]
        }
      ]
    },
    {
      "cell_type": "code",
      "source": [
        "train_Y"
      ],
      "metadata": {
        "colab": {
          "base_uri": "https://localhost:8080/",
          "height": 424
        },
        "id": "E9lIp1CrwHy7",
        "outputId": "bc7a4569-b5e6-4721-8824-fbc554085c1b"
      },
      "execution_count": 60,
      "outputs": [
        {
          "output_type": "execute_result",
          "data": {
            "text/plain": [
              "        0  1  2  3  4\n",
              "2022    0  1  0  0  0\n",
              "420     0  1  0  0  0\n",
              "1711    0  0  1  0  0\n",
              "1541    0  0  0  1  0\n",
              "529     1  0  0  0  0\n",
              "...    .. .. .. .. ..\n",
              "42091   0  0  0  0  1\n",
              "35365   0  0  0  0  1\n",
              "72676   0  0  0  0  1\n",
              "17405   0  0  0  0  1\n",
              "104848  0  0  0  0  1\n",
              "\n",
              "[14608 rows x 5 columns]"
            ],
            "text/html": [
              "\n",
              "  <div id=\"df-d3c123c5-1b90-4a1b-892e-ac0103b99612\">\n",
              "    <div class=\"colab-df-container\">\n",
              "      <div>\n",
              "<style scoped>\n",
              "    .dataframe tbody tr th:only-of-type {\n",
              "        vertical-align: middle;\n",
              "    }\n",
              "\n",
              "    .dataframe tbody tr th {\n",
              "        vertical-align: top;\n",
              "    }\n",
              "\n",
              "    .dataframe thead th {\n",
              "        text-align: right;\n",
              "    }\n",
              "</style>\n",
              "<table border=\"1\" class=\"dataframe\">\n",
              "  <thead>\n",
              "    <tr style=\"text-align: right;\">\n",
              "      <th></th>\n",
              "      <th>0</th>\n",
              "      <th>1</th>\n",
              "      <th>2</th>\n",
              "      <th>3</th>\n",
              "      <th>4</th>\n",
              "    </tr>\n",
              "  </thead>\n",
              "  <tbody>\n",
              "    <tr>\n",
              "      <th>2022</th>\n",
              "      <td>0</td>\n",
              "      <td>1</td>\n",
              "      <td>0</td>\n",
              "      <td>0</td>\n",
              "      <td>0</td>\n",
              "    </tr>\n",
              "    <tr>\n",
              "      <th>420</th>\n",
              "      <td>0</td>\n",
              "      <td>1</td>\n",
              "      <td>0</td>\n",
              "      <td>0</td>\n",
              "      <td>0</td>\n",
              "    </tr>\n",
              "    <tr>\n",
              "      <th>1711</th>\n",
              "      <td>0</td>\n",
              "      <td>0</td>\n",
              "      <td>1</td>\n",
              "      <td>0</td>\n",
              "      <td>0</td>\n",
              "    </tr>\n",
              "    <tr>\n",
              "      <th>1541</th>\n",
              "      <td>0</td>\n",
              "      <td>0</td>\n",
              "      <td>0</td>\n",
              "      <td>1</td>\n",
              "      <td>0</td>\n",
              "    </tr>\n",
              "    <tr>\n",
              "      <th>529</th>\n",
              "      <td>1</td>\n",
              "      <td>0</td>\n",
              "      <td>0</td>\n",
              "      <td>0</td>\n",
              "      <td>0</td>\n",
              "    </tr>\n",
              "    <tr>\n",
              "      <th>...</th>\n",
              "      <td>...</td>\n",
              "      <td>...</td>\n",
              "      <td>...</td>\n",
              "      <td>...</td>\n",
              "      <td>...</td>\n",
              "    </tr>\n",
              "    <tr>\n",
              "      <th>42091</th>\n",
              "      <td>0</td>\n",
              "      <td>0</td>\n",
              "      <td>0</td>\n",
              "      <td>0</td>\n",
              "      <td>1</td>\n",
              "    </tr>\n",
              "    <tr>\n",
              "      <th>35365</th>\n",
              "      <td>0</td>\n",
              "      <td>0</td>\n",
              "      <td>0</td>\n",
              "      <td>0</td>\n",
              "      <td>1</td>\n",
              "    </tr>\n",
              "    <tr>\n",
              "      <th>72676</th>\n",
              "      <td>0</td>\n",
              "      <td>0</td>\n",
              "      <td>0</td>\n",
              "      <td>0</td>\n",
              "      <td>1</td>\n",
              "    </tr>\n",
              "    <tr>\n",
              "      <th>17405</th>\n",
              "      <td>0</td>\n",
              "      <td>0</td>\n",
              "      <td>0</td>\n",
              "      <td>0</td>\n",
              "      <td>1</td>\n",
              "    </tr>\n",
              "    <tr>\n",
              "      <th>104848</th>\n",
              "      <td>0</td>\n",
              "      <td>0</td>\n",
              "      <td>0</td>\n",
              "      <td>0</td>\n",
              "      <td>1</td>\n",
              "    </tr>\n",
              "  </tbody>\n",
              "</table>\n",
              "<p>14608 rows × 5 columns</p>\n",
              "</div>\n",
              "      <button class=\"colab-df-convert\" onclick=\"convertToInteractive('df-d3c123c5-1b90-4a1b-892e-ac0103b99612')\"\n",
              "              title=\"Convert this dataframe to an interactive table.\"\n",
              "              style=\"display:none;\">\n",
              "        \n",
              "  <svg xmlns=\"http://www.w3.org/2000/svg\" height=\"24px\"viewBox=\"0 0 24 24\"\n",
              "       width=\"24px\">\n",
              "    <path d=\"M0 0h24v24H0V0z\" fill=\"none\"/>\n",
              "    <path d=\"M18.56 5.44l.94 2.06.94-2.06 2.06-.94-2.06-.94-.94-2.06-.94 2.06-2.06.94zm-11 1L8.5 8.5l.94-2.06 2.06-.94-2.06-.94L8.5 2.5l-.94 2.06-2.06.94zm10 10l.94 2.06.94-2.06 2.06-.94-2.06-.94-.94-2.06-.94 2.06-2.06.94z\"/><path d=\"M17.41 7.96l-1.37-1.37c-.4-.4-.92-.59-1.43-.59-.52 0-1.04.2-1.43.59L10.3 9.45l-7.72 7.72c-.78.78-.78 2.05 0 2.83L4 21.41c.39.39.9.59 1.41.59.51 0 1.02-.2 1.41-.59l7.78-7.78 2.81-2.81c.8-.78.8-2.07 0-2.86zM5.41 20L4 18.59l7.72-7.72 1.47 1.35L5.41 20z\"/>\n",
              "  </svg>\n",
              "      </button>\n",
              "      \n",
              "  <style>\n",
              "    .colab-df-container {\n",
              "      display:flex;\n",
              "      flex-wrap:wrap;\n",
              "      gap: 12px;\n",
              "    }\n",
              "\n",
              "    .colab-df-convert {\n",
              "      background-color: #E8F0FE;\n",
              "      border: none;\n",
              "      border-radius: 50%;\n",
              "      cursor: pointer;\n",
              "      display: none;\n",
              "      fill: #1967D2;\n",
              "      height: 32px;\n",
              "      padding: 0 0 0 0;\n",
              "      width: 32px;\n",
              "    }\n",
              "\n",
              "    .colab-df-convert:hover {\n",
              "      background-color: #E2EBFA;\n",
              "      box-shadow: 0px 1px 2px rgba(60, 64, 67, 0.3), 0px 1px 3px 1px rgba(60, 64, 67, 0.15);\n",
              "      fill: #174EA6;\n",
              "    }\n",
              "\n",
              "    [theme=dark] .colab-df-convert {\n",
              "      background-color: #3B4455;\n",
              "      fill: #D2E3FC;\n",
              "    }\n",
              "\n",
              "    [theme=dark] .colab-df-convert:hover {\n",
              "      background-color: #434B5C;\n",
              "      box-shadow: 0px 1px 3px 1px rgba(0, 0, 0, 0.15);\n",
              "      filter: drop-shadow(0px 1px 2px rgba(0, 0, 0, 0.3));\n",
              "      fill: #FFFFFF;\n",
              "    }\n",
              "  </style>\n",
              "\n",
              "      <script>\n",
              "        const buttonEl =\n",
              "          document.querySelector('#df-d3c123c5-1b90-4a1b-892e-ac0103b99612 button.colab-df-convert');\n",
              "        buttonEl.style.display =\n",
              "          google.colab.kernel.accessAllowed ? 'block' : 'none';\n",
              "\n",
              "        async function convertToInteractive(key) {\n",
              "          const element = document.querySelector('#df-d3c123c5-1b90-4a1b-892e-ac0103b99612');\n",
              "          const dataTable =\n",
              "            await google.colab.kernel.invokeFunction('convertToInteractive',\n",
              "                                                     [key], {});\n",
              "          if (!dataTable) return;\n",
              "\n",
              "          const docLinkHtml = 'Like what you see? Visit the ' +\n",
              "            '<a target=\"_blank\" href=https://colab.research.google.com/notebooks/data_table.ipynb>data table notebook</a>'\n",
              "            + ' to learn more about interactive tables.';\n",
              "          element.innerHTML = '';\n",
              "          dataTable['output_type'] = 'display_data';\n",
              "          await google.colab.output.renderOutput(dataTable, element);\n",
              "          const docLink = document.createElement('div');\n",
              "          docLink.innerHTML = docLinkHtml;\n",
              "          element.appendChild(docLink);\n",
              "        }\n",
              "      </script>\n",
              "    </div>\n",
              "  </div>\n",
              "  "
            ]
          },
          "metadata": {},
          "execution_count": 60
        }
      ]
    },
    {
      "cell_type": "markdown",
      "source": [
        "# 모델 테스트"
      ],
      "metadata": {
        "id": "0Y7SwP7kxH2W"
      }
    },
    {
      "cell_type": "code",
      "source": [
        "import re\n",
        "import tensorflow as tf\n",
        "from tensorflow.keras.layers import Embedding, Dense, LSTM, Bidirectional\n",
        "from tensorflow.keras.models import Sequential\n",
        "from tensorflow.keras.models import load_model\n",
        "from tensorflow.keras.callbacks import EarlyStopping, ModelCheckpoint\n",
        "from tensorflow.keras.preprocessing.text import Tokenizer\n",
        "from tensorflow.keras.preprocessing.sequence import pad_sequences"
      ],
      "metadata": {
        "id": "H6O6P_p5xHY1"
      },
      "execution_count": 56,
      "outputs": []
    },
    {
      "cell_type": "code",
      "source": [
        "embedding_dim = 10\n",
        "label_size = 5\n",
        "hidden_units = 8\n",
        "vocab_size = 30000\n",
        "\n",
        "# BiLSTM\n",
        "model = tf.keras.Sequential()\n",
        "model.add(tf.keras.layers.Embedding(vocab_size, embedding_dim, input_shape=(None,)))\n",
        "model.add(tf.keras.layers.Bidirectional(LSTM(hidden_units, return_sequences=True, dropout=0.4)))\n",
        "model.add(tf.keras.layers.Bidirectional(LSTM(hidden_units, return_sequences=True, dropout=0.4)))\n",
        "model.add(tf.keras.layers.Bidirectional(LSTM(hidden_units//2, dropout=0.4)))\n",
        "model.add(tf.keras.layers.Dense(vocab_size, activation='relu'))\n",
        "model.add(tf.keras.layers.Dense(label_size, activation='softmax'))"
      ],
      "metadata": {
        "id": "rmiu0Hx8xN04"
      },
      "execution_count": 63,
      "outputs": []
    },
    {
      "cell_type": "code",
      "source": [
        "model.compile(optimizer='adam',\n",
        "              loss='categorical_crossentropy',\n",
        "              metrics=['accuracy'])\n",
        "\n",
        "epochs=10\n",
        "\n",
        "history = model.fit(train_X,\n",
        "                    train_Y,\n",
        "                    epochs=epochs,\n",
        "                    batch_size=256,\n",
        "                    verbose=1)"
      ],
      "metadata": {
        "colab": {
          "base_uri": "https://localhost:8080/"
        },
        "id": "jVtH8Wj3xdZq",
        "outputId": "e79f284b-4bd6-4619-a6f9-3e4c8d73b1eb"
      },
      "execution_count": 64,
      "outputs": [
        {
          "output_type": "stream",
          "name": "stdout",
          "text": [
            "Epoch 1/10\n",
            "58/58 [==============================] - 61s 811ms/step - loss: 1.3338 - accuracy: 0.3866\n",
            "Epoch 2/10\n",
            "58/58 [==============================] - 48s 826ms/step - loss: 0.5740 - accuracy: 0.7834\n",
            "Epoch 3/10\n",
            "58/58 [==============================] - 47s 805ms/step - loss: 0.2598 - accuracy: 0.9105\n",
            "Epoch 4/10\n",
            "58/58 [==============================] - 47s 811ms/step - loss: 0.1385 - accuracy: 0.9538\n",
            "Epoch 5/10\n",
            "58/58 [==============================] - 48s 835ms/step - loss: 0.0832 - accuracy: 0.9725\n",
            "Epoch 6/10\n",
            "58/58 [==============================] - 51s 882ms/step - loss: 0.0590 - accuracy: 0.9797\n",
            "Epoch 7/10\n",
            "58/58 [==============================] - 47s 815ms/step - loss: 0.0502 - accuracy: 0.9830\n",
            "Epoch 8/10\n",
            "58/58 [==============================] - 47s 808ms/step - loss: 0.0412 - accuracy: 0.9858\n",
            "Epoch 9/10\n",
            "58/58 [==============================] - 49s 843ms/step - loss: 0.0289 - accuracy: 0.9901\n",
            "Epoch 10/10\n",
            "58/58 [==============================] - 47s 817ms/step - loss: 0.0260 - accuracy: 0.9910\n"
          ]
        }
      ]
    },
    {
      "cell_type": "code",
      "source": [],
      "metadata": {
        "id": "Pbv-Reeh0Xjt"
      },
      "execution_count": null,
      "outputs": []
    }
  ]
}