{
  "nbformat": 4,
  "nbformat_minor": 0,
  "metadata": {
    "colab": {
      "provenance": [],
      "mount_file_id": "1yA85KDD0NRgcVWJYXPbOT0fS3HUZX0a5",
      "authorship_tag": "ABX9TyPBgMTEYOIH36LIxqraivCy",
      "include_colab_link": true
    },
    "kernelspec": {
      "name": "python3",
      "display_name": "Python 3"
    },
    "language_info": {
      "name": "python"
    }
  },
  "cells": [
    {
      "cell_type": "markdown",
      "metadata": {
        "id": "view-in-github",
        "colab_type": "text"
      },
      "source": [
        "<a href=\"https://colab.research.google.com/github/RealMyeong/AIFFELTHON/blob/main/SBShim/Translate_API_ipynb%EC%9D%98_%EC%82%AC%EB%B3%B8.ipynb\" target=\"_parent\"><img src=\"https://colab.research.google.com/assets/colab-badge.svg\" alt=\"Open In Colab\"/></a>"
      ]
    },
    {
      "cell_type": "code",
      "source": [
        "!pip install googletrans==3.1.0a0 "
      ],
      "metadata": {
        "id": "nTdF3zBzbcFr"
      },
      "execution_count": null,
      "outputs": []
    },
    {
      "cell_type": "code",
      "source": [
        "import pandas as pd"
      ],
      "metadata": {
        "id": "wbL0znjnQM5b"
      },
      "execution_count": null,
      "outputs": []
    },
    {
      "cell_type": "code",
      "source": [
        "# LANGUAGES = {\n",
        "#     'af': 'afrikaans',\n",
        "#     'sq': 'albanian',\n",
        "#     'am': 'amharic',\n",
        "#     'ar': 'arabic',\n",
        "#     'hy': 'armenian',\n",
        "#     'az': 'azerbaijani',\n",
        "#     'eu': 'basque',\n",
        "#     'be': 'belarusian',\n",
        "#     'bn': 'bengali',\n",
        "#     'bs': 'bosnian',\n",
        "#     'bg': 'bulgarian',\n",
        "#     'ca': 'catalan',\n",
        "#     'ceb': 'cebuano',\n",
        "#     'ny': 'chichewa',\n",
        "#     'zh-cn': 'chinese (simplified)',\n",
        "#     'zh-tw': 'chinese (traditional)',\n",
        "#     'co': 'corsican',\n",
        "#     'hr': 'croatian',\n",
        "#     'cs': 'czech',\n",
        "#     'da': 'danish',\n",
        "#     'nl': 'dutch',\n",
        "#     'en': 'english',\n",
        "#     'eo': 'esperanto',\n",
        "#     'et': 'estonian',\n",
        "#     'tl': 'filipino',\n",
        "#     'fi': 'finnish',\n",
        "#     'fr': 'french',\n",
        "#     'fy': 'frisian',\n",
        "#     'gl': 'galician',\n",
        "#     'ka': 'georgian',\n",
        "#     'de': 'german',\n",
        "#     'el': 'greek',\n",
        "#     'gu': 'gujarati',\n",
        "#     'ht': 'haitian creole',\n",
        "#     'ha': 'hausa',\n",
        "#     'haw': 'hawaiian',\n",
        "#     'iw': 'hebrew',\n",
        "#     'he': 'hebrew',\n",
        "#     'hi': 'hindi',\n",
        "#     'hmn': 'hmong',\n",
        "#     'hu': 'hungarian',\n",
        "#     'is': 'icelandic',\n",
        "#     'ig': 'igbo',\n",
        "#     'id': 'indonesian',\n",
        "#     'ga': 'irish',\n",
        "#     'it': 'italian',\n",
        "#     'ja': 'japanese',\n",
        "#     'jw': 'javanese',\n",
        "#     'kn': 'kannada',\n",
        "#     'kk': 'kazakh',\n",
        "#     'km': 'khmer',\n",
        "#     'ko': 'korean',\n",
        "#     'ku': 'kurdish (kurmanji)',\n",
        "#     'ky': 'kyrgyz',\n",
        "#     'lo': 'lao',\n",
        "#     'la': 'latin',\n",
        "#     'lv': 'latvian',\n",
        "#     'lt': 'lithuanian',\n",
        "#     'lb': 'luxembourgish',\n",
        "#     'mk': 'macedonian',\n",
        "#     'mg': 'malagasy',\n",
        "#     'ms': 'malay',\n",
        "#     'ml': 'malayalam',\n",
        "#     'mt': 'maltese',\n",
        "#     'mi': 'maori',\n",
        "#     'mr': 'marathi',\n",
        "#     'mn': 'mongolian',\n",
        "#     'my': 'myanmar (burmese)',\n",
        "#     'ne': 'nepali',\n",
        "#     'no': 'norwegian',\n",
        "#     'or': 'odia',\n",
        "#     'ps': 'pashto',\n",
        "#     'fa': 'persian',\n",
        "#     'pl': 'polish',\n",
        "#     'pt': 'portuguese',\n",
        "#     'pa': 'punjabi',\n",
        "#     'ro': 'romanian',\n",
        "#     'ru': 'russian',\n",
        "#     'sm': 'samoan',\n",
        "#     'gd': 'scots gaelic',\n",
        "#     'sr': 'serbian',\n",
        "#     'st': 'sesotho',\n",
        "#     'sn': 'shona',\n",
        "#     'sd': 'sindhi',\n",
        "#     'si': 'sinhala',\n",
        "#     'sk': 'slovak',\n",
        "#     'sl': 'slovenian',\n",
        "#     'so': 'somali',\n",
        "#     'es': 'spanish',\n",
        "#     'su': 'sundanese',\n",
        "#     'sw': 'swahili',\n",
        "#     'sv': 'swedish',\n",
        "#     'tg': 'tajik',\n",
        "#     'ta': 'tamil',\n",
        "#     'te': 'telugu',\n",
        "#     'th': 'thai',\n",
        "#     'tr': 'turkish',\n",
        "#     'uk': 'ukrainian',\n",
        "#     'ur': 'urdu',\n",
        "#     'ug': 'uyghur',\n",
        "#     'uz': 'uzbek',\n",
        "#     'vi': 'vietnamese',\n",
        "#     'cy': 'welsh',\n",
        "#     'xh': 'xhosa',\n",
        "#     'yi': 'yiddish',\n",
        "#     'yo': 'yoruba',\n",
        "#     'zu': 'zulu',"
      ],
      "metadata": {
        "id": "IKFTjaW_At-w"
      },
      "execution_count": null,
      "outputs": []
    },
    {
      "cell_type": "code",
      "execution_count": null,
      "metadata": {
        "id": "TVdqDJHObTXt"
      },
      "outputs": [],
      "source": [
        "import googletrans\n",
        "translator = googletrans.Translator()\n",
        "\n",
        "\n",
        "def trans(text, dest='en'):#번역기\n",
        "  return translator.translate(text, dest=dest).text"
      ]
    },
    {
      "cell_type": "code",
      "source": [
        "data = pd.read_csv('/content/drive/MyDrive/공부/AIFFELTHON/shared/TUNiB/back_translation/train_back_translate_mk1.csv')"
      ],
      "metadata": {
        "id": "d-6JoC9GbnhE"
      },
      "execution_count": null,
      "outputs": []
    },
    {
      "cell_type": "code",
      "source": [
        "data = data.sample(10)"
      ],
      "metadata": {
        "id": "oMqRvyLDVuAt"
      },
      "execution_count": null,
      "outputs": []
    },
    {
      "cell_type": "code",
      "source": [
        "data"
      ],
      "metadata": {
        "id": "yHeZb8PQYKpx"
      },
      "execution_count": null,
      "outputs": []
    },
    {
      "cell_type": "code",
      "source": [
        "data_test = pd.DataFrame()"
      ],
      "metadata": {
        "id": "Q_Q8QNCBUWSW"
      },
      "execution_count": null,
      "outputs": []
    },
    {
      "cell_type": "code",
      "source": [
        "test_china = pd.DataFrame()"
      ],
      "metadata": {
        "id": "4BA5gsIkajD4"
      },
      "execution_count": null,
      "outputs": []
    },
    {
      "cell_type": "code",
      "source": [
        "data_test['fra'] = data['label_sentence'].apply(lambda x: trans(x, 'fr'))"
      ],
      "metadata": {
        "id": "wDc1ZYgXYWqE"
      },
      "execution_count": null,
      "outputs": []
    },
    {
      "cell_type": "code",
      "source": [
        "data_test['fra_kor'] = data_test['fra'].apply(lambda x: trans(x, 'ko'))"
      ],
      "metadata": {
        "id": "D87aqokIYorG"
      },
      "execution_count": null,
      "outputs": []
    },
    {
      "cell_type": "code",
      "source": [
        "test_china['eng_chn'] = data['eng_sentence'].apply(lambda x: trans(x, 'zh-cn'))\n",
        "test_china['kor_chn'] = data['label_sentence'].apply(lambda x: trans(x, 'zh-cn'))"
      ],
      "metadata": {
        "id": "VhPnqyDNamys"
      },
      "execution_count": null,
      "outputs": []
    },
    {
      "cell_type": "code",
      "source": [
        "test_china['eng_chn'] = test_china['eng_chn'].apply(lambda x: trans(x, 'ko'))\n",
        "test_china['kor_chn'] = test_china['kor_chn'].apply(lambda x: trans(x, 'ko'))"
      ],
      "metadata": {
        "id": "Nd_CsleVa1du"
      },
      "execution_count": null,
      "outputs": []
    },
    {
      "cell_type": "code",
      "source": [
        "data_test['원본'] = data['label_sentence']"
      ],
      "metadata": {
        "id": "0PnoV3wYZG0p"
      },
      "execution_count": null,
      "outputs": []
    },
    {
      "cell_type": "code",
      "source": [
        "test_china['원본'] = data['label_sentence']"
      ],
      "metadata": {
        "id": "B1hLnjGJbKn0"
      },
      "execution_count": null,
      "outputs": []
    },
    {
      "cell_type": "code",
      "source": [
        "data_test['backtrans_papagoNgoogle'] = data['eng_sentence'].apply(lambda x: trans(x, 'ko'))"
      ],
      "metadata": {
        "id": "BCefSlvdQ3RK"
      },
      "execution_count": null,
      "outputs": []
    },
    {
      "cell_type": "code",
      "source": [
        "data_test['class'] = data['class']"
      ],
      "metadata": {
        "id": "99Gkpm6AX468"
      },
      "execution_count": null,
      "outputs": []
    },
    {
      "cell_type": "code",
      "source": [
        "data_test.to_csv('/content/drive/MyDrive/공부/AIFFELTHON/shared/TUNiB/back_translation/train_french.csv')"
      ],
      "metadata": {
        "id": "l9nOqv9Ya_lw"
      },
      "execution_count": null,
      "outputs": []
    },
    {
      "cell_type": "code",
      "source": [
        "test_china.to_csv('sample_china.csv')"
      ],
      "metadata": {
        "id": "5-RArpwwcCe_"
      },
      "execution_count": null,
      "outputs": []
    },
    {
      "cell_type": "code",
      "source": [
        "data_test.to_csv('sample_french.csv')"
      ],
      "metadata": {
        "id": "EYHz9GJwcGUV"
      },
      "execution_count": null,
      "outputs": []
    },
    {
      "cell_type": "code",
      "source": [
        "data_test"
      ],
      "metadata": {
        "colab": {
          "base_uri": "https://localhost:8080/",
          "height": 424
        },
        "id": "iZb_2IrDYUXd",
        "outputId": "6297667a-7c63-4e58-e8b3-a3d7024a4064"
      },
      "execution_count": null,
      "outputs": [
        {
          "output_type": "execute_result",
          "data": {
            "text/plain": [
              "                                                    fra  \\\n",
              "0     1: M. Gildong, occupez-vous de cela cette fois...   \n",
              "1     1 : Hé, pourquoi tes dents de devant ressortai...   \n",
              "2     1 : Wonhoo, j'ai besoin d'acheter des manuels ...   \n",
              "3     1 : Tu te souviens de la dernière fois que j'a...   \n",
              "4     1 : Tu m'ignores encore ?\\n1 : Est-ce que ce b...   \n",
              "...                                                 ...   \n",
              "3908  1 : Junha, pourquoi ta tête est-elle si grosse...   \n",
              "3909  1 : Je prends votre fils, Giljun Kim. Si vous ...   \n",
              "3910  1 : Je trouve vraiment étrange de voir des gen...   \n",
              "3911  1 : Qui veut faire des affaires ici ?\\n2 : Qu'...   \n",
              "3912  1 : M. Heejeong\\n2 : Oui ?\\n1 : Je suppose que...   \n",
              "\n",
              "                                                fra_kor        class  \n",
              "0     1: 길동씨 이번엔 잘 부탁해\\n2: 나는 그렇게 하지 않았다\\n1: 팀에서 우리와...  직장 내 괴롭힘 대화  \n",
              "1     1: 야, 앞니가 왜 그렇게 튀어나와 있니?\\n2: 태어날 때부터 그랬어, 묻지마....    기타 괴롭힘 대화  \n",
              "2     1: 원후야, 학원 교재를 사야 해. 80,000원 ​​주실 수 있나요?\\n2: 죄...        갈취 대화  \n",
              "3     1: 내가 마지막으로 취한 때를 기억하십니까?\\n2: 아니 왜?\\n1: 야, 300...        갈취 대화  \n",
              "4     1: 너 아직도 나 무시하니?\\n1: 그 자식이 당신을 개자식처럼 보던가요?\\n2:...        협박 대화  \n",
              "...                                                 ...          ...  \n",
              "3908  1: 준하야, 머리가 왜 이렇게 커?\\n2: 내 머리는 무엇입니까?\\n1: 먹으면 ...    기타 괴롭힘 대화  \n",
              "3909  1: 나는 당신의 아들 김길준을 데려갑니다. 저축하고 싶으면 1억만 계좌로 보내세요...        갈취 대화  \n",
              "3910  1: M 같은 사람들이 그렇게 사는 걸 보면 정말 이상해요.\\n1: 왜 그래? 잘 ...  직장 내 괴롭힘 대화  \n",
              "3911  1: 누가 여기서 사업을 하고 싶습니까?\\n2: 뭔데?\\n1: 다른 사람의 이웃에서...        갈취 대화  \n",
              "3912  1: 희정씨\\n2: 네?\\n1: 주말에 시간이 너무 많은 것 같아요\\n2: 갑자기 ...  직장 내 괴롭힘 대화  \n",
              "\n",
              "[3913 rows x 3 columns]"
            ],
            "text/html": [
              "\n",
              "  <div id=\"df-d42de0c0-9dcd-405c-abe7-c3492266cba9\">\n",
              "    <div class=\"colab-df-container\">\n",
              "      <div>\n",
              "<style scoped>\n",
              "    .dataframe tbody tr th:only-of-type {\n",
              "        vertical-align: middle;\n",
              "    }\n",
              "\n",
              "    .dataframe tbody tr th {\n",
              "        vertical-align: top;\n",
              "    }\n",
              "\n",
              "    .dataframe thead th {\n",
              "        text-align: right;\n",
              "    }\n",
              "</style>\n",
              "<table border=\"1\" class=\"dataframe\">\n",
              "  <thead>\n",
              "    <tr style=\"text-align: right;\">\n",
              "      <th></th>\n",
              "      <th>fra</th>\n",
              "      <th>fra_kor</th>\n",
              "      <th>class</th>\n",
              "    </tr>\n",
              "  </thead>\n",
              "  <tbody>\n",
              "    <tr>\n",
              "      <th>0</th>\n",
              "      <td>1: M. Gildong, occupez-vous de cela cette fois...</td>\n",
              "      <td>1: 길동씨 이번엔 잘 부탁해\\n2: 나는 그렇게 하지 않았다\\n1: 팀에서 우리와...</td>\n",
              "      <td>직장 내 괴롭힘 대화</td>\n",
              "    </tr>\n",
              "    <tr>\n",
              "      <th>1</th>\n",
              "      <td>1 : Hé, pourquoi tes dents de devant ressortai...</td>\n",
              "      <td>1: 야, 앞니가 왜 그렇게 튀어나와 있니?\\n2: 태어날 때부터 그랬어, 묻지마....</td>\n",
              "      <td>기타 괴롭힘 대화</td>\n",
              "    </tr>\n",
              "    <tr>\n",
              "      <th>2</th>\n",
              "      <td>1 : Wonhoo, j'ai besoin d'acheter des manuels ...</td>\n",
              "      <td>1: 원후야, 학원 교재를 사야 해. 80,000원 ​​주실 수 있나요?\\n2: 죄...</td>\n",
              "      <td>갈취 대화</td>\n",
              "    </tr>\n",
              "    <tr>\n",
              "      <th>3</th>\n",
              "      <td>1 : Tu te souviens de la dernière fois que j'a...</td>\n",
              "      <td>1: 내가 마지막으로 취한 때를 기억하십니까?\\n2: 아니 왜?\\n1: 야, 300...</td>\n",
              "      <td>갈취 대화</td>\n",
              "    </tr>\n",
              "    <tr>\n",
              "      <th>4</th>\n",
              "      <td>1 : Tu m'ignores encore ?\\n1 : Est-ce que ce b...</td>\n",
              "      <td>1: 너 아직도 나 무시하니?\\n1: 그 자식이 당신을 개자식처럼 보던가요?\\n2:...</td>\n",
              "      <td>협박 대화</td>\n",
              "    </tr>\n",
              "    <tr>\n",
              "      <th>...</th>\n",
              "      <td>...</td>\n",
              "      <td>...</td>\n",
              "      <td>...</td>\n",
              "    </tr>\n",
              "    <tr>\n",
              "      <th>3908</th>\n",
              "      <td>1 : Junha, pourquoi ta tête est-elle si grosse...</td>\n",
              "      <td>1: 준하야, 머리가 왜 이렇게 커?\\n2: 내 머리는 무엇입니까?\\n1: 먹으면 ...</td>\n",
              "      <td>기타 괴롭힘 대화</td>\n",
              "    </tr>\n",
              "    <tr>\n",
              "      <th>3909</th>\n",
              "      <td>1 : Je prends votre fils, Giljun Kim. Si vous ...</td>\n",
              "      <td>1: 나는 당신의 아들 김길준을 데려갑니다. 저축하고 싶으면 1억만 계좌로 보내세요...</td>\n",
              "      <td>갈취 대화</td>\n",
              "    </tr>\n",
              "    <tr>\n",
              "      <th>3910</th>\n",
              "      <td>1 : Je trouve vraiment étrange de voir des gen...</td>\n",
              "      <td>1: M 같은 사람들이 그렇게 사는 걸 보면 정말 이상해요.\\n1: 왜 그래? 잘 ...</td>\n",
              "      <td>직장 내 괴롭힘 대화</td>\n",
              "    </tr>\n",
              "    <tr>\n",
              "      <th>3911</th>\n",
              "      <td>1 : Qui veut faire des affaires ici ?\\n2 : Qu'...</td>\n",
              "      <td>1: 누가 여기서 사업을 하고 싶습니까?\\n2: 뭔데?\\n1: 다른 사람의 이웃에서...</td>\n",
              "      <td>갈취 대화</td>\n",
              "    </tr>\n",
              "    <tr>\n",
              "      <th>3912</th>\n",
              "      <td>1 : M. Heejeong\\n2 : Oui ?\\n1 : Je suppose que...</td>\n",
              "      <td>1: 희정씨\\n2: 네?\\n1: 주말에 시간이 너무 많은 것 같아요\\n2: 갑자기 ...</td>\n",
              "      <td>직장 내 괴롭힘 대화</td>\n",
              "    </tr>\n",
              "  </tbody>\n",
              "</table>\n",
              "<p>3913 rows × 3 columns</p>\n",
              "</div>\n",
              "      <button class=\"colab-df-convert\" onclick=\"convertToInteractive('df-d42de0c0-9dcd-405c-abe7-c3492266cba9')\"\n",
              "              title=\"Convert this dataframe to an interactive table.\"\n",
              "              style=\"display:none;\">\n",
              "        \n",
              "  <svg xmlns=\"http://www.w3.org/2000/svg\" height=\"24px\"viewBox=\"0 0 24 24\"\n",
              "       width=\"24px\">\n",
              "    <path d=\"M0 0h24v24H0V0z\" fill=\"none\"/>\n",
              "    <path d=\"M18.56 5.44l.94 2.06.94-2.06 2.06-.94-2.06-.94-.94-2.06-.94 2.06-2.06.94zm-11 1L8.5 8.5l.94-2.06 2.06-.94-2.06-.94L8.5 2.5l-.94 2.06-2.06.94zm10 10l.94 2.06.94-2.06 2.06-.94-2.06-.94-.94-2.06-.94 2.06-2.06.94z\"/><path d=\"M17.41 7.96l-1.37-1.37c-.4-.4-.92-.59-1.43-.59-.52 0-1.04.2-1.43.59L10.3 9.45l-7.72 7.72c-.78.78-.78 2.05 0 2.83L4 21.41c.39.39.9.59 1.41.59.51 0 1.02-.2 1.41-.59l7.78-7.78 2.81-2.81c.8-.78.8-2.07 0-2.86zM5.41 20L4 18.59l7.72-7.72 1.47 1.35L5.41 20z\"/>\n",
              "  </svg>\n",
              "      </button>\n",
              "      \n",
              "  <style>\n",
              "    .colab-df-container {\n",
              "      display:flex;\n",
              "      flex-wrap:wrap;\n",
              "      gap: 12px;\n",
              "    }\n",
              "\n",
              "    .colab-df-convert {\n",
              "      background-color: #E8F0FE;\n",
              "      border: none;\n",
              "      border-radius: 50%;\n",
              "      cursor: pointer;\n",
              "      display: none;\n",
              "      fill: #1967D2;\n",
              "      height: 32px;\n",
              "      padding: 0 0 0 0;\n",
              "      width: 32px;\n",
              "    }\n",
              "\n",
              "    .colab-df-convert:hover {\n",
              "      background-color: #E2EBFA;\n",
              "      box-shadow: 0px 1px 2px rgba(60, 64, 67, 0.3), 0px 1px 3px 1px rgba(60, 64, 67, 0.15);\n",
              "      fill: #174EA6;\n",
              "    }\n",
              "\n",
              "    [theme=dark] .colab-df-convert {\n",
              "      background-color: #3B4455;\n",
              "      fill: #D2E3FC;\n",
              "    }\n",
              "\n",
              "    [theme=dark] .colab-df-convert:hover {\n",
              "      background-color: #434B5C;\n",
              "      box-shadow: 0px 1px 3px 1px rgba(0, 0, 0, 0.15);\n",
              "      filter: drop-shadow(0px 1px 2px rgba(0, 0, 0, 0.3));\n",
              "      fill: #FFFFFF;\n",
              "    }\n",
              "  </style>\n",
              "\n",
              "      <script>\n",
              "        const buttonEl =\n",
              "          document.querySelector('#df-d42de0c0-9dcd-405c-abe7-c3492266cba9 button.colab-df-convert');\n",
              "        buttonEl.style.display =\n",
              "          google.colab.kernel.accessAllowed ? 'block' : 'none';\n",
              "\n",
              "        async function convertToInteractive(key) {\n",
              "          const element = document.querySelector('#df-d42de0c0-9dcd-405c-abe7-c3492266cba9');\n",
              "          const dataTable =\n",
              "            await google.colab.kernel.invokeFunction('convertToInteractive',\n",
              "                                                     [key], {});\n",
              "          if (!dataTable) return;\n",
              "\n",
              "          const docLinkHtml = 'Like what you see? Visit the ' +\n",
              "            '<a target=\"_blank\" href=https://colab.research.google.com/notebooks/data_table.ipynb>data table notebook</a>'\n",
              "            + ' to learn more about interactive tables.';\n",
              "          element.innerHTML = '';\n",
              "          dataTable['output_type'] = 'display_data';\n",
              "          await google.colab.output.renderOutput(dataTable, element);\n",
              "          const docLink = document.createElement('div');\n",
              "          docLink.innerHTML = docLinkHtml;\n",
              "          element.appendChild(docLink);\n",
              "        }\n",
              "      </script>\n",
              "    </div>\n",
              "  </div>\n",
              "  "
            ]
          },
          "metadata": {},
          "execution_count": 55
        }
      ]
    },
    {
      "cell_type": "code",
      "source": [
        "data['back_conv'] = data['eng_conv'].apply(lambda x: trans(x, False))"
      ],
      "metadata": {
        "id": "pMyaG8-sRdvj"
      },
      "execution_count": null,
      "outputs": []
    },
    {
      "cell_type": "code",
      "source": [
        "cut = data.head(10)"
      ],
      "metadata": {
        "id": "HksfwiKiU4JR"
      },
      "execution_count": null,
      "outputs": []
    },
    {
      "cell_type": "code",
      "source": [
        "data['eng_conv_papago'] = data['conversation'].apply(lambda x: papago_trans(x, True))"
      ],
      "metadata": {
        "id": "o0okUyAtkwUz"
      },
      "execution_count": null,
      "outputs": []
    },
    {
      "cell_type": "code",
      "source": [
        "data['back_conv_papago'] = data['eng_conv_papago'].apply(lambda x: papago_trans(x, False))"
      ],
      "metadata": {
        "colab": {
          "base_uri": "https://localhost:8080/"
        },
        "id": "8DXutatulJM0",
        "outputId": "7502c194-644d-4dd5-975f-dd39260faddc"
      },
      "execution_count": null,
      "outputs": [
        {
          "output_type": "stream",
          "name": "stdout",
          "text": [
            "Error Code: 429\n",
            "Error Code: 429\n",
            "Error Code: 429\n",
            "Error Code: 429\n",
            "Error Code: 429\n"
          ]
        }
      ]
    },
    {
      "cell_type": "code",
      "source": [
        "data['back_conv_papago_google'] = data['eng_conv_papago'].apply(lambda x: trans(x, False))"
      ],
      "metadata": {
        "id": "9sud2IwXqbo7"
      },
      "execution_count": null,
      "outputs": []
    },
    {
      "cell_type": "code",
      "source": [
        "data"
      ],
      "metadata": {
        "colab": {
          "base_uri": "https://localhost:8080/",
          "height": 754
        },
        "id": "_o73S1ujlQl7",
        "outputId": "7935309d-571c-4685-c908-6e18b584f0f6"
      },
      "execution_count": null,
      "outputs": [
        {
          "output_type": "execute_result",
          "data": {
            "text/plain": [
              "   idx        class                                       conversation  \\\n",
              "0    0        협박 대화  지금 너 스스로를 죽여달라고 애원하는 것인가?\\n 아닙니다. 죄송합니다.\\n 죽을 ...   \n",
              "1    1        협박 대화  길동경찰서입니다.\\n9시 40분 마트에 폭발물을 설치할거다.\\n네?\\n똑바로 들어 ...   \n",
              "2    2    기타 괴롭힘 대화  너 되게 귀여운거 알지? 나보다 작은 남자는 첨봤어.\\n그만해. 니들 놀리는거 재미...   \n",
              "3    3        갈취 대화  어이 거기\\n예??\\n너 말이야 너. 이리 오라고\\n무슨 일.\\n너 옷 좋아보인다?...   \n",
              "4    4        갈취 대화  저기요 혹시 날이 너무 뜨겁잖아요? 저희 회사에서 이 선크림 파는데 한 번 손등에 ...   \n",
              "5    5  직장 내 괴롭힘 대화  나 이틀뒤에 가나다 음식점 예약좀 해줘. 저녁7시로.\\n가나다 음식점이요.?\\n응....   \n",
              "6    6    기타 괴롭힘 대화  35번 손님 아이스커피 두잔나왔습니다\\n아이스커피? \\n네 맛있게드세요\\n저기요 아...   \n",
              "7    7    기타 괴롭힘 대화  경비아저씨 내차에 경고장 붙였어요?\\n내가 여기 몇년째 사는데 아직도 내차인줄 모르...   \n",
              "8    8    기타 괴롭힘 대화  이거 할인 된다면서요\\n 확인해보겠습니다\\n 아까 저 시람은 할인 해주던데\\n 네 ...   \n",
              "9    9        갈취 대화  자네 세금계산서 보내준 거 메일이랑 수치가 다르던데?\\n그게.\\n얼마나 해먹었어? ...   \n",
              "\n",
              "                                            eng_conv  \\\n",
              "0  Are you begging to kill yourself now?\\n no. so...   \n",
              "1  Gildong Police Station.\\nAt 9:40 we'll put exp...   \n",
              "2  you know how cute you are I've never seen a gu...   \n",
              "3  hey there\\nYes??\\nyou mean you come here\\nWhat...   \n",
              "4  Hey, is the day too hot? Our company sells thi...   \n",
              "5  I'll make a reservation for a Canadian restaur...   \n",
              "6  Two cups of iced coffee from customer number 3...   \n",
              "7  Did you put a warning sign on my car, sir?\\nI'...   \n",
              "8  This is a discount\\n I'll check\\n They gave me...   \n",
              "9  The email you sent me your tax invoice was dif...   \n",
              "\n",
              "                                           back_conv  \\\n",
              "0  당신은 지금 자살을 구걸하고 있습니까?\\n 아니요. 죄송합니다.\\n 죽을거면 혼자 ...   \n",
              "1  길동경찰서.\\n9시 40분에 우리는 슈퍼마켓에 폭발물을 넣을 것입니다.\\n응?\\n똑...   \n",
              "2  당신은 당신이 얼마나 귀여운지 나보다 작은 남자를 본 적이 없습니다.\\n그만해요. ...   \n",
              "3  이봐 거기\\n예??\\n당신은 당신이 여기에 온다 의미\\n무슨 일이에요.\\n옷이 좋아...   \n",
              "4  야, 날이 너무 더워? 저희 회사에서 판매하는 이 선크림, 손등에 사용해 보실래요?...   \n",
              "5  이틀 뒤에 캐나다 식당을 예약하겠습니다. 저녁 7시에.\\n캐나다 음식점?\\n네. 남...   \n",
              "6  35번 고객의 아이스 커피 두 잔\\n아이스 커피?\\n네 즐겨요\\n이봐 여보, 난 전...   \n",
              "7  내 차에 경고 표지판을 붙였습니까?\\n여기 몇년살았는데 아직도 내차인지 모르겠는데 ...   \n",
              "8  이것은 할인입니다\\n 내가 확인 할게요\\n 그들은 나에게 더 일찍 할인을 주었다.\\...   \n",
              "9  세금계산서를 보내주신 이메일이 그림과 다른가요?\\n그건.\\n얼마나 먹었니 괜찮아. ...   \n",
              "\n",
              "                                     eng_conv_papago  \\\n",
              "0  Are you begging me to kill yourself?\\n No, I'm...   \n",
              "1  This is Gildong Police Station.\\nI'll put the ...   \n",
              "2  You know you're so cute, right? I've never see...   \n",
              "3  Hey, there\\nWhat?\\nYou. You. Come here\\nWhat's...   \n",
              "4  Excuse me, isn't it too hot? Our company sells...   \n",
              "5  Please make a reservation for a Ghanaian resta...   \n",
              "6  Number 35, two iced coffees\\nIced coffee? \\nYe...   \n",
              "7  Security, did you put a warning on my car?\\nI'...   \n",
              "8  I heard there's a discount\\n I'll check.\\n Ear...   \n",
              "9  Your tax invoice was different from the e-mail...   \n",
              "\n",
              "                                    back_conv_papago  \\\n",
              "0  지금 나한테 자살하라고 애원하는 거야?\\n 아니, 죄송합니다.\\n 죽을 거면 혼자 ...   \n",
              "1  여기는 길동경찰서입니다.\\n내가 오후 9시 40분에 마트에 폭발물을 넣을게.\\n뭐라...   \n",
              "2  너 너무 귀여운 거 알지? 저보다 작은 남자는 본 적이 없어요.\\n하지마. 너희를 ...   \n",
              "3  거기 안녕.\\n뭐라고?\\n너, 너, 이리 와\\n무슨 일이야.\\n옷 잘 어울리네요.\\...   \n",
              "4  저기요, 너무 덥지 않아요? 우리 회사는 이 자외선 차단제를 판매합니다. 손에 한번...   \n",
              "5                                                  0   \n",
              "6                                                  0   \n",
              "7                                                  0   \n",
              "8                                                  0   \n",
              "9                                                  0   \n",
              "\n",
              "                             back_conv_papago_google  \n",
              "0  자살해달라고 애원하는 겁니까?\\n 아냐 미안해.\\n 죽을거면 혼자 죽어. 당신은 내...  \n",
              "1  길동경찰서입니다.\\n밤 9시 40분에 마트에 폭탄을 넣어두겠습니다.\\n뭐라고요?\\n...  \n",
              "2  너 너무 귀여운 거 알지? 나는 나보다 작은 남자를 본 적이 없다.\\n그만해요. 너...  \n",
              "3  이봐, 거기\\n뭐?\\n너. 너. 여기와\\n무슨 일이야.\\n복장이 좋아보이네요\\n그는...  \n",
              "4  실례합니다, 너무 덥지 않습니까? 우리 회사는 이 선크림을 판매합니다. 당신의 손에...  \n",
              "5  이틀 안에 가나식당을 예약해주세요. 저녁 7시.\\n가나에 맛집?\\n예. 남자친구 부...  \n",
              "6  35번, 아이스 커피 2잔\\n아이스 커피?\\n네, 즐겨요\\n실례합니다, 아가씨, 저...  \n",
              "7  보안, 내 차에 경고를 넣었습니까?\\n내가 여기 몇 년 동안 살았는데 아직도 내 차...  \n",
              "8  할인이 된다고 들었는데\\n 내가 확인 할게요.\\n 예전에 그 씨람이 나에게 할인을 ...  \n",
              "9  세금계산서가 이메일과 다릅니다.\\n그건.\\n얼마나 요리 했습니까? 괜찮아요. 다른 ...  "
            ],
            "text/html": [
              "\n",
              "  <div id=\"df-27fcebae-2ae7-4616-8d55-7611d0c677b3\">\n",
              "    <div class=\"colab-df-container\">\n",
              "      <div>\n",
              "<style scoped>\n",
              "    .dataframe tbody tr th:only-of-type {\n",
              "        vertical-align: middle;\n",
              "    }\n",
              "\n",
              "    .dataframe tbody tr th {\n",
              "        vertical-align: top;\n",
              "    }\n",
              "\n",
              "    .dataframe thead th {\n",
              "        text-align: right;\n",
              "    }\n",
              "</style>\n",
              "<table border=\"1\" class=\"dataframe\">\n",
              "  <thead>\n",
              "    <tr style=\"text-align: right;\">\n",
              "      <th></th>\n",
              "      <th>idx</th>\n",
              "      <th>class</th>\n",
              "      <th>conversation</th>\n",
              "      <th>eng_conv</th>\n",
              "      <th>back_conv</th>\n",
              "      <th>eng_conv_papago</th>\n",
              "      <th>back_conv_papago</th>\n",
              "      <th>back_conv_papago_google</th>\n",
              "    </tr>\n",
              "  </thead>\n",
              "  <tbody>\n",
              "    <tr>\n",
              "      <th>0</th>\n",
              "      <td>0</td>\n",
              "      <td>협박 대화</td>\n",
              "      <td>지금 너 스스로를 죽여달라고 애원하는 것인가?\\n 아닙니다. 죄송합니다.\\n 죽을 ...</td>\n",
              "      <td>Are you begging to kill yourself now?\\n no. so...</td>\n",
              "      <td>당신은 지금 자살을 구걸하고 있습니까?\\n 아니요. 죄송합니다.\\n 죽을거면 혼자 ...</td>\n",
              "      <td>Are you begging me to kill yourself?\\n No, I'm...</td>\n",
              "      <td>지금 나한테 자살하라고 애원하는 거야?\\n 아니, 죄송합니다.\\n 죽을 거면 혼자 ...</td>\n",
              "      <td>자살해달라고 애원하는 겁니까?\\n 아냐 미안해.\\n 죽을거면 혼자 죽어. 당신은 내...</td>\n",
              "    </tr>\n",
              "    <tr>\n",
              "      <th>1</th>\n",
              "      <td>1</td>\n",
              "      <td>협박 대화</td>\n",
              "      <td>길동경찰서입니다.\\n9시 40분 마트에 폭발물을 설치할거다.\\n네?\\n똑바로 들어 ...</td>\n",
              "      <td>Gildong Police Station.\\nAt 9:40 we'll put exp...</td>\n",
              "      <td>길동경찰서.\\n9시 40분에 우리는 슈퍼마켓에 폭발물을 넣을 것입니다.\\n응?\\n똑...</td>\n",
              "      <td>This is Gildong Police Station.\\nI'll put the ...</td>\n",
              "      <td>여기는 길동경찰서입니다.\\n내가 오후 9시 40분에 마트에 폭발물을 넣을게.\\n뭐라...</td>\n",
              "      <td>길동경찰서입니다.\\n밤 9시 40분에 마트에 폭탄을 넣어두겠습니다.\\n뭐라고요?\\n...</td>\n",
              "    </tr>\n",
              "    <tr>\n",
              "      <th>2</th>\n",
              "      <td>2</td>\n",
              "      <td>기타 괴롭힘 대화</td>\n",
              "      <td>너 되게 귀여운거 알지? 나보다 작은 남자는 첨봤어.\\n그만해. 니들 놀리는거 재미...</td>\n",
              "      <td>you know how cute you are I've never seen a gu...</td>\n",
              "      <td>당신은 당신이 얼마나 귀여운지 나보다 작은 남자를 본 적이 없습니다.\\n그만해요. ...</td>\n",
              "      <td>You know you're so cute, right? I've never see...</td>\n",
              "      <td>너 너무 귀여운 거 알지? 저보다 작은 남자는 본 적이 없어요.\\n하지마. 너희를 ...</td>\n",
              "      <td>너 너무 귀여운 거 알지? 나는 나보다 작은 남자를 본 적이 없다.\\n그만해요. 너...</td>\n",
              "    </tr>\n",
              "    <tr>\n",
              "      <th>3</th>\n",
              "      <td>3</td>\n",
              "      <td>갈취 대화</td>\n",
              "      <td>어이 거기\\n예??\\n너 말이야 너. 이리 오라고\\n무슨 일.\\n너 옷 좋아보인다?...</td>\n",
              "      <td>hey there\\nYes??\\nyou mean you come here\\nWhat...</td>\n",
              "      <td>이봐 거기\\n예??\\n당신은 당신이 여기에 온다 의미\\n무슨 일이에요.\\n옷이 좋아...</td>\n",
              "      <td>Hey, there\\nWhat?\\nYou. You. Come here\\nWhat's...</td>\n",
              "      <td>거기 안녕.\\n뭐라고?\\n너, 너, 이리 와\\n무슨 일이야.\\n옷 잘 어울리네요.\\...</td>\n",
              "      <td>이봐, 거기\\n뭐?\\n너. 너. 여기와\\n무슨 일이야.\\n복장이 좋아보이네요\\n그는...</td>\n",
              "    </tr>\n",
              "    <tr>\n",
              "      <th>4</th>\n",
              "      <td>4</td>\n",
              "      <td>갈취 대화</td>\n",
              "      <td>저기요 혹시 날이 너무 뜨겁잖아요? 저희 회사에서 이 선크림 파는데 한 번 손등에 ...</td>\n",
              "      <td>Hey, is the day too hot? Our company sells thi...</td>\n",
              "      <td>야, 날이 너무 더워? 저희 회사에서 판매하는 이 선크림, 손등에 사용해 보실래요?...</td>\n",
              "      <td>Excuse me, isn't it too hot? Our company sells...</td>\n",
              "      <td>저기요, 너무 덥지 않아요? 우리 회사는 이 자외선 차단제를 판매합니다. 손에 한번...</td>\n",
              "      <td>실례합니다, 너무 덥지 않습니까? 우리 회사는 이 선크림을 판매합니다. 당신의 손에...</td>\n",
              "    </tr>\n",
              "    <tr>\n",
              "      <th>5</th>\n",
              "      <td>5</td>\n",
              "      <td>직장 내 괴롭힘 대화</td>\n",
              "      <td>나 이틀뒤에 가나다 음식점 예약좀 해줘. 저녁7시로.\\n가나다 음식점이요.?\\n응....</td>\n",
              "      <td>I'll make a reservation for a Canadian restaur...</td>\n",
              "      <td>이틀 뒤에 캐나다 식당을 예약하겠습니다. 저녁 7시에.\\n캐나다 음식점?\\n네. 남...</td>\n",
              "      <td>Please make a reservation for a Ghanaian resta...</td>\n",
              "      <td>0</td>\n",
              "      <td>이틀 안에 가나식당을 예약해주세요. 저녁 7시.\\n가나에 맛집?\\n예. 남자친구 부...</td>\n",
              "    </tr>\n",
              "    <tr>\n",
              "      <th>6</th>\n",
              "      <td>6</td>\n",
              "      <td>기타 괴롭힘 대화</td>\n",
              "      <td>35번 손님 아이스커피 두잔나왔습니다\\n아이스커피? \\n네 맛있게드세요\\n저기요 아...</td>\n",
              "      <td>Two cups of iced coffee from customer number 3...</td>\n",
              "      <td>35번 고객의 아이스 커피 두 잔\\n아이스 커피?\\n네 즐겨요\\n이봐 여보, 난 전...</td>\n",
              "      <td>Number 35, two iced coffees\\nIced coffee? \\nYe...</td>\n",
              "      <td>0</td>\n",
              "      <td>35번, 아이스 커피 2잔\\n아이스 커피?\\n네, 즐겨요\\n실례합니다, 아가씨, 저...</td>\n",
              "    </tr>\n",
              "    <tr>\n",
              "      <th>7</th>\n",
              "      <td>7</td>\n",
              "      <td>기타 괴롭힘 대화</td>\n",
              "      <td>경비아저씨 내차에 경고장 붙였어요?\\n내가 여기 몇년째 사는데 아직도 내차인줄 모르...</td>\n",
              "      <td>Did you put a warning sign on my car, sir?\\nI'...</td>\n",
              "      <td>내 차에 경고 표지판을 붙였습니까?\\n여기 몇년살았는데 아직도 내차인지 모르겠는데 ...</td>\n",
              "      <td>Security, did you put a warning on my car?\\nI'...</td>\n",
              "      <td>0</td>\n",
              "      <td>보안, 내 차에 경고를 넣었습니까?\\n내가 여기 몇 년 동안 살았는데 아직도 내 차...</td>\n",
              "    </tr>\n",
              "    <tr>\n",
              "      <th>8</th>\n",
              "      <td>8</td>\n",
              "      <td>기타 괴롭힘 대화</td>\n",
              "      <td>이거 할인 된다면서요\\n 확인해보겠습니다\\n 아까 저 시람은 할인 해주던데\\n 네 ...</td>\n",
              "      <td>This is a discount\\n I'll check\\n They gave me...</td>\n",
              "      <td>이것은 할인입니다\\n 내가 확인 할게요\\n 그들은 나에게 더 일찍 할인을 주었다.\\...</td>\n",
              "      <td>I heard there's a discount\\n I'll check.\\n Ear...</td>\n",
              "      <td>0</td>\n",
              "      <td>할인이 된다고 들었는데\\n 내가 확인 할게요.\\n 예전에 그 씨람이 나에게 할인을 ...</td>\n",
              "    </tr>\n",
              "    <tr>\n",
              "      <th>9</th>\n",
              "      <td>9</td>\n",
              "      <td>갈취 대화</td>\n",
              "      <td>자네 세금계산서 보내준 거 메일이랑 수치가 다르던데?\\n그게.\\n얼마나 해먹었어? ...</td>\n",
              "      <td>The email you sent me your tax invoice was dif...</td>\n",
              "      <td>세금계산서를 보내주신 이메일이 그림과 다른가요?\\n그건.\\n얼마나 먹었니 괜찮아. ...</td>\n",
              "      <td>Your tax invoice was different from the e-mail...</td>\n",
              "      <td>0</td>\n",
              "      <td>세금계산서가 이메일과 다릅니다.\\n그건.\\n얼마나 요리 했습니까? 괜찮아요. 다른 ...</td>\n",
              "    </tr>\n",
              "  </tbody>\n",
              "</table>\n",
              "</div>\n",
              "      <button class=\"colab-df-convert\" onclick=\"convertToInteractive('df-27fcebae-2ae7-4616-8d55-7611d0c677b3')\"\n",
              "              title=\"Convert this dataframe to an interactive table.\"\n",
              "              style=\"display:none;\">\n",
              "        \n",
              "  <svg xmlns=\"http://www.w3.org/2000/svg\" height=\"24px\"viewBox=\"0 0 24 24\"\n",
              "       width=\"24px\">\n",
              "    <path d=\"M0 0h24v24H0V0z\" fill=\"none\"/>\n",
              "    <path d=\"M18.56 5.44l.94 2.06.94-2.06 2.06-.94-2.06-.94-.94-2.06-.94 2.06-2.06.94zm-11 1L8.5 8.5l.94-2.06 2.06-.94-2.06-.94L8.5 2.5l-.94 2.06-2.06.94zm10 10l.94 2.06.94-2.06 2.06-.94-2.06-.94-.94-2.06-.94 2.06-2.06.94z\"/><path d=\"M17.41 7.96l-1.37-1.37c-.4-.4-.92-.59-1.43-.59-.52 0-1.04.2-1.43.59L10.3 9.45l-7.72 7.72c-.78.78-.78 2.05 0 2.83L4 21.41c.39.39.9.59 1.41.59.51 0 1.02-.2 1.41-.59l7.78-7.78 2.81-2.81c.8-.78.8-2.07 0-2.86zM5.41 20L4 18.59l7.72-7.72 1.47 1.35L5.41 20z\"/>\n",
              "  </svg>\n",
              "      </button>\n",
              "      \n",
              "  <style>\n",
              "    .colab-df-container {\n",
              "      display:flex;\n",
              "      flex-wrap:wrap;\n",
              "      gap: 12px;\n",
              "    }\n",
              "\n",
              "    .colab-df-convert {\n",
              "      background-color: #E8F0FE;\n",
              "      border: none;\n",
              "      border-radius: 50%;\n",
              "      cursor: pointer;\n",
              "      display: none;\n",
              "      fill: #1967D2;\n",
              "      height: 32px;\n",
              "      padding: 0 0 0 0;\n",
              "      width: 32px;\n",
              "    }\n",
              "\n",
              "    .colab-df-convert:hover {\n",
              "      background-color: #E2EBFA;\n",
              "      box-shadow: 0px 1px 2px rgba(60, 64, 67, 0.3), 0px 1px 3px 1px rgba(60, 64, 67, 0.15);\n",
              "      fill: #174EA6;\n",
              "    }\n",
              "\n",
              "    [theme=dark] .colab-df-convert {\n",
              "      background-color: #3B4455;\n",
              "      fill: #D2E3FC;\n",
              "    }\n",
              "\n",
              "    [theme=dark] .colab-df-convert:hover {\n",
              "      background-color: #434B5C;\n",
              "      box-shadow: 0px 1px 3px 1px rgba(0, 0, 0, 0.15);\n",
              "      filter: drop-shadow(0px 1px 2px rgba(0, 0, 0, 0.3));\n",
              "      fill: #FFFFFF;\n",
              "    }\n",
              "  </style>\n",
              "\n",
              "      <script>\n",
              "        const buttonEl =\n",
              "          document.querySelector('#df-27fcebae-2ae7-4616-8d55-7611d0c677b3 button.colab-df-convert');\n",
              "        buttonEl.style.display =\n",
              "          google.colab.kernel.accessAllowed ? 'block' : 'none';\n",
              "\n",
              "        async function convertToInteractive(key) {\n",
              "          const element = document.querySelector('#df-27fcebae-2ae7-4616-8d55-7611d0c677b3');\n",
              "          const dataTable =\n",
              "            await google.colab.kernel.invokeFunction('convertToInteractive',\n",
              "                                                     [key], {});\n",
              "          if (!dataTable) return;\n",
              "\n",
              "          const docLinkHtml = 'Like what you see? Visit the ' +\n",
              "            '<a target=\"_blank\" href=https://colab.research.google.com/notebooks/data_table.ipynb>data table notebook</a>'\n",
              "            + ' to learn more about interactive tables.';\n",
              "          element.innerHTML = '';\n",
              "          dataTable['output_type'] = 'display_data';\n",
              "          await google.colab.output.renderOutput(dataTable, element);\n",
              "          const docLink = document.createElement('div');\n",
              "          docLink.innerHTML = docLinkHtml;\n",
              "          element.appendChild(docLink);\n",
              "        }\n",
              "      </script>\n",
              "    </div>\n",
              "  </div>\n",
              "  "
            ]
          },
          "metadata": {},
          "execution_count": 36
        }
      ]
    },
    {
      "cell_type": "code",
      "source": [
        "data.to_csv('/content/drive/MyDrive/공부/AIFFELTHON/shared/back_translation/sample.csv')"
      ],
      "metadata": {
        "id": "Urww_rMBq849"
      },
      "execution_count": null,
      "outputs": []
    }
  ]
}