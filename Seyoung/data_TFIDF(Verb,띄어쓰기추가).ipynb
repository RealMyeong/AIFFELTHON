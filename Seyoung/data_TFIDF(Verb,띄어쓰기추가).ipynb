{
  "nbformat": 4,
  "nbformat_minor": 0,
  "metadata": {
    "colab": {
      "provenance": [],
      "collapsed_sections": []
    },
    "kernelspec": {
      "name": "python3",
      "display_name": "Python 3"
    },
    "language_info": {
      "name": "python"
    }
  },
  "cells": [
    {
      "cell_type": "markdown",
      "source": [
        "# 클래스4개(기타괴롭힘, 갈취, 직장내 괴롭힘, 협박)"
      ],
      "metadata": {
        "id": "vdKbMD_twFGo"
      }
    },
    {
      "cell_type": "code",
      "execution_count": null,
      "metadata": {
        "id": "GPwEk7NlLRxi"
      },
      "outputs": [],
      "source": [
        "!sudo apt-get install -y fonts-nanum\n",
        "!sudo fc-cache -fv\n",
        "!rm ~/.cache/matplotlib -rf"
      ]
    },
    {
      "cell_type": "code",
      "source": [
        "!pip install konlpy"
      ],
      "metadata": {
        "id": "deKxWJpqqbDW"
      },
      "execution_count": null,
      "outputs": []
    },
    {
      "cell_type": "code",
      "source": [
        "from google.colab import drive\n",
        "drive.mount('/content/drive')"
      ],
      "metadata": {
        "colab": {
          "base_uri": "https://localhost:8080/"
        },
        "id": "e9uOFyi8MN9F",
        "outputId": "d2344b61-b9d7-4d98-8369-90b39a19f703"
      },
      "execution_count": 1,
      "outputs": [
        {
          "output_type": "stream",
          "name": "stdout",
          "text": [
            "Mounted at /content/drive\n"
          ]
        }
      ]
    },
    {
      "cell_type": "code",
      "source": [
        "import seaborn as sns\n",
        "import matplotlib.pyplot as plt\n",
        "import numpy as np\n",
        "import pandas as pd\n",
        "# 한글 지원 폰트\n",
        "plt.rc('font', family='NanumBarunGothic')\n",
        "\n",
        "# 마이너스 부호 \n",
        "plt.rcParams['axes.unicode_minus'] = False\n",
        "from sklearn.feature_extraction.text import TfidfVectorizer\n",
        "from konlpy.tag import Mecab\n",
        "from konlpy.tag import Okt"
      ],
      "metadata": {
        "id": "Bqm60bnYMG8z"
      },
      "execution_count": 4,
      "outputs": []
    },
    {
      "cell_type": "code",
      "source": [
        "data = pd.read_csv('/content/drive/MyDrive/AIFFELTHON/TUNiB/train_spell_check.csv')\n",
        "data.head()"
      ],
      "metadata": {
        "colab": {
          "base_uri": "https://localhost:8080/",
          "height": 337
        },
        "id": "BGAPoQgAMbss",
        "outputId": "ef34a8d8-c42e-48cb-c191-c25e9e75620a"
      },
      "execution_count": 5,
      "outputs": [
        {
          "output_type": "execute_result",
          "data": {
            "text/plain": [
              "         class                                       conversation  \\\n",
              "0  직장 내 괴롭힘 대화  길동씨 이번에 이것좀 처리해요\\n이거 제가 한게 아닌데요\\n팀에서 내가 니가가 어딨...   \n",
              "1    기타 괴롭힘 대화  야 너 앞니 왜 그렇게 튀어나왔냐?\\n 태어날때부터 그랬어 물어보지마.\\n 아 그럼...   \n",
              "2        갈취 대화  원후야 학원 교재 사야되는데 8만원만 주면 안돼?\\n 미안 나 오늘은 진짜 돈이 없...   \n",
              "3        갈취 대화  너 저번에 술먹은 날 기억해?\\n아니 왜?\\n야 300만원만 가져와.\\n뭔 소리야....   \n",
              "4        협박 대화  너 또 내말 무시하냐?\\n 이새끼 널 좆으로 보나본데?\\n아냐 진짜 시간이 없었어 ...   \n",
              "\n",
              "                     labelling  \\\n",
              "0          1,2,1,2,1,2,1,2,1,2   \n",
              "1  1,2,1,2,1,2,1,2,1,1,1,2,1,1   \n",
              "2          1,2,1,2,1,2,1,2,1,2   \n",
              "3          1,2,1,2,1,2,1,2,1,2   \n",
              "4          1,1,2,1,1,2,1,2,1,1   \n",
              "\n",
              "                                      label_sentence  \\\n",
              "0  1:길동씨 이번에 이것좀 처리해요\\n2:이거 제가 한게 아닌데요\\n1:팀에서 내가 ...   \n",
              "1  1:야 너 앞니 왜 그렇게 튀어나왔냐?\\n2:태어날때부터 그랬어 물어보지마.\\n1:...   \n",
              "2  1:원후야 학원 교재 사야되는데 8만원만 주면 안돼?\\n2:미안 나 오늘은 진짜 돈...   \n",
              "3  1:너 저번에 술먹은 날 기억해?\\n2:아니 왜?\\n1:야 300만원만 가져와.\\n...   \n",
              "4  1:너 또 내말 무시하냐?\\n1:이새끼 널 좆으로 보나본데?\\n2:아냐 진짜 시간이...   \n",
              "\n",
              "                                    cleaned_sentence  \\\n",
              "0  길동씨 이번에 이것좀 처리해요\\n이거 제가 한게 아닌데요\\n팀에서 내가 니가가 어딨...   \n",
              "1  야 너 앞니 왜 그렇게 튀어나왔냐?\\n태어날때부터 그랬어 물어보지마.\\n아 그럼 태...   \n",
              "2  원후야 학원 교재 사야되는데 8만원만 주면 안돼?\\n미안 나 오늘은 진짜 돈이 없어...   \n",
              "3  너 저번에 술먹은 날 기억해?\\n아니 왜?\\n야 300만원만 가져와.\\n뭔 소리야....   \n",
              "4  너 또 내말 무시하냐?\\n이새끼 널 좆으로 보나본데?\\n아냐 진짜 시간이 없었어 미...   \n",
              "\n",
              "                          spell_checked_conversation  \n",
              "0  길동 씨 이번에 이것 좀 처리해요\\n이거 제가 한 게 아닌데요\\n팀에서 내가 네가 ...  \n",
              "1  야 너 앞니 왜 그렇게 튀어나왔냐?\\n태어날 때부터 그랬어 물어보지 마.\\n아 그럼...  \n",
              "2  원후야 학원 교재 사야 되는데 8만 원만 주면 안 돼?\\n미안 나 오늘은 진짜 돈이...  \n",
              "3  너 저번에 술 먹은 날 기억해?\\n아니 왜?\\n야 300만 원만 가져와.\\n뭔 소리...  \n",
              "4  너 또 내말 무시하냐?\\n이 새끼 널 좆으로 보나 본데?\\n아냐 진짜 시간이 없었어...  "
            ],
            "text/html": [
              "\n",
              "  <div id=\"df-6003d7e3-339e-40e9-870a-a44bce508114\">\n",
              "    <div class=\"colab-df-container\">\n",
              "      <div>\n",
              "<style scoped>\n",
              "    .dataframe tbody tr th:only-of-type {\n",
              "        vertical-align: middle;\n",
              "    }\n",
              "\n",
              "    .dataframe tbody tr th {\n",
              "        vertical-align: top;\n",
              "    }\n",
              "\n",
              "    .dataframe thead th {\n",
              "        text-align: right;\n",
              "    }\n",
              "</style>\n",
              "<table border=\"1\" class=\"dataframe\">\n",
              "  <thead>\n",
              "    <tr style=\"text-align: right;\">\n",
              "      <th></th>\n",
              "      <th>class</th>\n",
              "      <th>conversation</th>\n",
              "      <th>labelling</th>\n",
              "      <th>label_sentence</th>\n",
              "      <th>cleaned_sentence</th>\n",
              "      <th>spell_checked_conversation</th>\n",
              "    </tr>\n",
              "  </thead>\n",
              "  <tbody>\n",
              "    <tr>\n",
              "      <th>0</th>\n",
              "      <td>직장 내 괴롭힘 대화</td>\n",
              "      <td>길동씨 이번에 이것좀 처리해요\\n이거 제가 한게 아닌데요\\n팀에서 내가 니가가 어딨...</td>\n",
              "      <td>1,2,1,2,1,2,1,2,1,2</td>\n",
              "      <td>1:길동씨 이번에 이것좀 처리해요\\n2:이거 제가 한게 아닌데요\\n1:팀에서 내가 ...</td>\n",
              "      <td>길동씨 이번에 이것좀 처리해요\\n이거 제가 한게 아닌데요\\n팀에서 내가 니가가 어딨...</td>\n",
              "      <td>길동 씨 이번에 이것 좀 처리해요\\n이거 제가 한 게 아닌데요\\n팀에서 내가 네가 ...</td>\n",
              "    </tr>\n",
              "    <tr>\n",
              "      <th>1</th>\n",
              "      <td>기타 괴롭힘 대화</td>\n",
              "      <td>야 너 앞니 왜 그렇게 튀어나왔냐?\\n 태어날때부터 그랬어 물어보지마.\\n 아 그럼...</td>\n",
              "      <td>1,2,1,2,1,2,1,2,1,1,1,2,1,1</td>\n",
              "      <td>1:야 너 앞니 왜 그렇게 튀어나왔냐?\\n2:태어날때부터 그랬어 물어보지마.\\n1:...</td>\n",
              "      <td>야 너 앞니 왜 그렇게 튀어나왔냐?\\n태어날때부터 그랬어 물어보지마.\\n아 그럼 태...</td>\n",
              "      <td>야 너 앞니 왜 그렇게 튀어나왔냐?\\n태어날 때부터 그랬어 물어보지 마.\\n아 그럼...</td>\n",
              "    </tr>\n",
              "    <tr>\n",
              "      <th>2</th>\n",
              "      <td>갈취 대화</td>\n",
              "      <td>원후야 학원 교재 사야되는데 8만원만 주면 안돼?\\n 미안 나 오늘은 진짜 돈이 없...</td>\n",
              "      <td>1,2,1,2,1,2,1,2,1,2</td>\n",
              "      <td>1:원후야 학원 교재 사야되는데 8만원만 주면 안돼?\\n2:미안 나 오늘은 진짜 돈...</td>\n",
              "      <td>원후야 학원 교재 사야되는데 8만원만 주면 안돼?\\n미안 나 오늘은 진짜 돈이 없어...</td>\n",
              "      <td>원후야 학원 교재 사야 되는데 8만 원만 주면 안 돼?\\n미안 나 오늘은 진짜 돈이...</td>\n",
              "    </tr>\n",
              "    <tr>\n",
              "      <th>3</th>\n",
              "      <td>갈취 대화</td>\n",
              "      <td>너 저번에 술먹은 날 기억해?\\n아니 왜?\\n야 300만원만 가져와.\\n뭔 소리야....</td>\n",
              "      <td>1,2,1,2,1,2,1,2,1,2</td>\n",
              "      <td>1:너 저번에 술먹은 날 기억해?\\n2:아니 왜?\\n1:야 300만원만 가져와.\\n...</td>\n",
              "      <td>너 저번에 술먹은 날 기억해?\\n아니 왜?\\n야 300만원만 가져와.\\n뭔 소리야....</td>\n",
              "      <td>너 저번에 술 먹은 날 기억해?\\n아니 왜?\\n야 300만 원만 가져와.\\n뭔 소리...</td>\n",
              "    </tr>\n",
              "    <tr>\n",
              "      <th>4</th>\n",
              "      <td>협박 대화</td>\n",
              "      <td>너 또 내말 무시하냐?\\n 이새끼 널 좆으로 보나본데?\\n아냐 진짜 시간이 없었어 ...</td>\n",
              "      <td>1,1,2,1,1,2,1,2,1,1</td>\n",
              "      <td>1:너 또 내말 무시하냐?\\n1:이새끼 널 좆으로 보나본데?\\n2:아냐 진짜 시간이...</td>\n",
              "      <td>너 또 내말 무시하냐?\\n이새끼 널 좆으로 보나본데?\\n아냐 진짜 시간이 없었어 미...</td>\n",
              "      <td>너 또 내말 무시하냐?\\n이 새끼 널 좆으로 보나 본데?\\n아냐 진짜 시간이 없었어...</td>\n",
              "    </tr>\n",
              "  </tbody>\n",
              "</table>\n",
              "</div>\n",
              "      <button class=\"colab-df-convert\" onclick=\"convertToInteractive('df-6003d7e3-339e-40e9-870a-a44bce508114')\"\n",
              "              title=\"Convert this dataframe to an interactive table.\"\n",
              "              style=\"display:none;\">\n",
              "        \n",
              "  <svg xmlns=\"http://www.w3.org/2000/svg\" height=\"24px\"viewBox=\"0 0 24 24\"\n",
              "       width=\"24px\">\n",
              "    <path d=\"M0 0h24v24H0V0z\" fill=\"none\"/>\n",
              "    <path d=\"M18.56 5.44l.94 2.06.94-2.06 2.06-.94-2.06-.94-.94-2.06-.94 2.06-2.06.94zm-11 1L8.5 8.5l.94-2.06 2.06-.94-2.06-.94L8.5 2.5l-.94 2.06-2.06.94zm10 10l.94 2.06.94-2.06 2.06-.94-2.06-.94-.94-2.06-.94 2.06-2.06.94z\"/><path d=\"M17.41 7.96l-1.37-1.37c-.4-.4-.92-.59-1.43-.59-.52 0-1.04.2-1.43.59L10.3 9.45l-7.72 7.72c-.78.78-.78 2.05 0 2.83L4 21.41c.39.39.9.59 1.41.59.51 0 1.02-.2 1.41-.59l7.78-7.78 2.81-2.81c.8-.78.8-2.07 0-2.86zM5.41 20L4 18.59l7.72-7.72 1.47 1.35L5.41 20z\"/>\n",
              "  </svg>\n",
              "      </button>\n",
              "      \n",
              "  <style>\n",
              "    .colab-df-container {\n",
              "      display:flex;\n",
              "      flex-wrap:wrap;\n",
              "      gap: 12px;\n",
              "    }\n",
              "\n",
              "    .colab-df-convert {\n",
              "      background-color: #E8F0FE;\n",
              "      border: none;\n",
              "      border-radius: 50%;\n",
              "      cursor: pointer;\n",
              "      display: none;\n",
              "      fill: #1967D2;\n",
              "      height: 32px;\n",
              "      padding: 0 0 0 0;\n",
              "      width: 32px;\n",
              "    }\n",
              "\n",
              "    .colab-df-convert:hover {\n",
              "      background-color: #E2EBFA;\n",
              "      box-shadow: 0px 1px 2px rgba(60, 64, 67, 0.3), 0px 1px 3px 1px rgba(60, 64, 67, 0.15);\n",
              "      fill: #174EA6;\n",
              "    }\n",
              "\n",
              "    [theme=dark] .colab-df-convert {\n",
              "      background-color: #3B4455;\n",
              "      fill: #D2E3FC;\n",
              "    }\n",
              "\n",
              "    [theme=dark] .colab-df-convert:hover {\n",
              "      background-color: #434B5C;\n",
              "      box-shadow: 0px 1px 3px 1px rgba(0, 0, 0, 0.15);\n",
              "      filter: drop-shadow(0px 1px 2px rgba(0, 0, 0, 0.3));\n",
              "      fill: #FFFFFF;\n",
              "    }\n",
              "  </style>\n",
              "\n",
              "      <script>\n",
              "        const buttonEl =\n",
              "          document.querySelector('#df-6003d7e3-339e-40e9-870a-a44bce508114 button.colab-df-convert');\n",
              "        buttonEl.style.display =\n",
              "          google.colab.kernel.accessAllowed ? 'block' : 'none';\n",
              "\n",
              "        async function convertToInteractive(key) {\n",
              "          const element = document.querySelector('#df-6003d7e3-339e-40e9-870a-a44bce508114');\n",
              "          const dataTable =\n",
              "            await google.colab.kernel.invokeFunction('convertToInteractive',\n",
              "                                                     [key], {});\n",
              "          if (!dataTable) return;\n",
              "\n",
              "          const docLinkHtml = 'Like what you see? Visit the ' +\n",
              "            '<a target=\"_blank\" href=https://colab.research.google.com/notebooks/data_table.ipynb>data table notebook</a>'\n",
              "            + ' to learn more about interactive tables.';\n",
              "          element.innerHTML = '';\n",
              "          dataTable['output_type'] = 'display_data';\n",
              "          await google.colab.output.renderOutput(dataTable, element);\n",
              "          const docLink = document.createElement('div');\n",
              "          docLink.innerHTML = docLinkHtml;\n",
              "          element.appendChild(docLink);\n",
              "        }\n",
              "      </script>\n",
              "    </div>\n",
              "  </div>\n",
              "  "
            ]
          },
          "metadata": {},
          "execution_count": 5
        }
      ]
    },
    {
      "cell_type": "code",
      "source": [
        "tokenizer = Okt()"
      ],
      "metadata": {
        "id": "cneGGtzJewsA"
      },
      "execution_count": 6,
      "outputs": []
    },
    {
      "cell_type": "code",
      "source": [
        "data['class'].value_counts()"
      ],
      "metadata": {
        "colab": {
          "base_uri": "https://localhost:8080/"
        },
        "id": "slKQbNsyfHEA",
        "outputId": "9b2ced70-cf0a-40ac-cfd4-a6d3d8df9d31"
      },
      "execution_count": 7,
      "outputs": [
        {
          "output_type": "execute_result",
          "data": {
            "text/plain": [
              "기타 괴롭힘 대화      1065\n",
              "갈취 대화           978\n",
              "직장 내 괴롭힘 대화     975\n",
              "협박 대화           895\n",
              "Name: class, dtype: int64"
            ]
          },
          "metadata": {},
          "execution_count": 7
        }
      ]
    },
    {
      "cell_type": "code",
      "source": [
        "stop = pd.read_csv('/content/drive/MyDrive/AIFFELTHON/TUNiB/한글불용어.csv')\n",
        "stop.head()"
      ],
      "metadata": {
        "colab": {
          "base_uri": "https://localhost:8080/",
          "height": 206
        },
        "id": "EL4ai8Kknrz3",
        "outputId": "eb67b4e4-600f-494d-8ca5-fd4ae5e6188f"
      },
      "execution_count": 8,
      "outputs": [
        {
          "output_type": "execute_result",
          "data": {
            "text/plain": [
              "   불용어\n",
              "0    아\n",
              "1    휴\n",
              "2  아이구\n",
              "3  아이쿠\n",
              "4  아이고"
            ],
            "text/html": [
              "\n",
              "  <div id=\"df-3d2817bf-66bf-44da-ae5b-57aceb3e614a\">\n",
              "    <div class=\"colab-df-container\">\n",
              "      <div>\n",
              "<style scoped>\n",
              "    .dataframe tbody tr th:only-of-type {\n",
              "        vertical-align: middle;\n",
              "    }\n",
              "\n",
              "    .dataframe tbody tr th {\n",
              "        vertical-align: top;\n",
              "    }\n",
              "\n",
              "    .dataframe thead th {\n",
              "        text-align: right;\n",
              "    }\n",
              "</style>\n",
              "<table border=\"1\" class=\"dataframe\">\n",
              "  <thead>\n",
              "    <tr style=\"text-align: right;\">\n",
              "      <th></th>\n",
              "      <th>불용어</th>\n",
              "    </tr>\n",
              "  </thead>\n",
              "  <tbody>\n",
              "    <tr>\n",
              "      <th>0</th>\n",
              "      <td>아</td>\n",
              "    </tr>\n",
              "    <tr>\n",
              "      <th>1</th>\n",
              "      <td>휴</td>\n",
              "    </tr>\n",
              "    <tr>\n",
              "      <th>2</th>\n",
              "      <td>아이구</td>\n",
              "    </tr>\n",
              "    <tr>\n",
              "      <th>3</th>\n",
              "      <td>아이쿠</td>\n",
              "    </tr>\n",
              "    <tr>\n",
              "      <th>4</th>\n",
              "      <td>아이고</td>\n",
              "    </tr>\n",
              "  </tbody>\n",
              "</table>\n",
              "</div>\n",
              "      <button class=\"colab-df-convert\" onclick=\"convertToInteractive('df-3d2817bf-66bf-44da-ae5b-57aceb3e614a')\"\n",
              "              title=\"Convert this dataframe to an interactive table.\"\n",
              "              style=\"display:none;\">\n",
              "        \n",
              "  <svg xmlns=\"http://www.w3.org/2000/svg\" height=\"24px\"viewBox=\"0 0 24 24\"\n",
              "       width=\"24px\">\n",
              "    <path d=\"M0 0h24v24H0V0z\" fill=\"none\"/>\n",
              "    <path d=\"M18.56 5.44l.94 2.06.94-2.06 2.06-.94-2.06-.94-.94-2.06-.94 2.06-2.06.94zm-11 1L8.5 8.5l.94-2.06 2.06-.94-2.06-.94L8.5 2.5l-.94 2.06-2.06.94zm10 10l.94 2.06.94-2.06 2.06-.94-2.06-.94-.94-2.06-.94 2.06-2.06.94z\"/><path d=\"M17.41 7.96l-1.37-1.37c-.4-.4-.92-.59-1.43-.59-.52 0-1.04.2-1.43.59L10.3 9.45l-7.72 7.72c-.78.78-.78 2.05 0 2.83L4 21.41c.39.39.9.59 1.41.59.51 0 1.02-.2 1.41-.59l7.78-7.78 2.81-2.81c.8-.78.8-2.07 0-2.86zM5.41 20L4 18.59l7.72-7.72 1.47 1.35L5.41 20z\"/>\n",
              "  </svg>\n",
              "      </button>\n",
              "      \n",
              "  <style>\n",
              "    .colab-df-container {\n",
              "      display:flex;\n",
              "      flex-wrap:wrap;\n",
              "      gap: 12px;\n",
              "    }\n",
              "\n",
              "    .colab-df-convert {\n",
              "      background-color: #E8F0FE;\n",
              "      border: none;\n",
              "      border-radius: 50%;\n",
              "      cursor: pointer;\n",
              "      display: none;\n",
              "      fill: #1967D2;\n",
              "      height: 32px;\n",
              "      padding: 0 0 0 0;\n",
              "      width: 32px;\n",
              "    }\n",
              "\n",
              "    .colab-df-convert:hover {\n",
              "      background-color: #E2EBFA;\n",
              "      box-shadow: 0px 1px 2px rgba(60, 64, 67, 0.3), 0px 1px 3px 1px rgba(60, 64, 67, 0.15);\n",
              "      fill: #174EA6;\n",
              "    }\n",
              "\n",
              "    [theme=dark] .colab-df-convert {\n",
              "      background-color: #3B4455;\n",
              "      fill: #D2E3FC;\n",
              "    }\n",
              "\n",
              "    [theme=dark] .colab-df-convert:hover {\n",
              "      background-color: #434B5C;\n",
              "      box-shadow: 0px 1px 3px 1px rgba(0, 0, 0, 0.15);\n",
              "      filter: drop-shadow(0px 1px 2px rgba(0, 0, 0, 0.3));\n",
              "      fill: #FFFFFF;\n",
              "    }\n",
              "  </style>\n",
              "\n",
              "      <script>\n",
              "        const buttonEl =\n",
              "          document.querySelector('#df-3d2817bf-66bf-44da-ae5b-57aceb3e614a button.colab-df-convert');\n",
              "        buttonEl.style.display =\n",
              "          google.colab.kernel.accessAllowed ? 'block' : 'none';\n",
              "\n",
              "        async function convertToInteractive(key) {\n",
              "          const element = document.querySelector('#df-3d2817bf-66bf-44da-ae5b-57aceb3e614a');\n",
              "          const dataTable =\n",
              "            await google.colab.kernel.invokeFunction('convertToInteractive',\n",
              "                                                     [key], {});\n",
              "          if (!dataTable) return;\n",
              "\n",
              "          const docLinkHtml = 'Like what you see? Visit the ' +\n",
              "            '<a target=\"_blank\" href=https://colab.research.google.com/notebooks/data_table.ipynb>data table notebook</a>'\n",
              "            + ' to learn more about interactive tables.';\n",
              "          element.innerHTML = '';\n",
              "          dataTable['output_type'] = 'display_data';\n",
              "          await google.colab.output.renderOutput(dataTable, element);\n",
              "          const docLink = document.createElement('div');\n",
              "          docLink.innerHTML = docLinkHtml;\n",
              "          element.appendChild(docLink);\n",
              "        }\n",
              "      </script>\n",
              "    </div>\n",
              "  </div>\n",
              "  "
            ]
          },
          "metadata": {},
          "execution_count": 8
        }
      ]
    },
    {
      "cell_type": "code",
      "source": [
        "kor_stop = []\n",
        "for s in stop.불용어:\n",
        "    kor_stop.append(s)\n",
        "\n",
        "stopwords = ['의','가','이','은','들','는','좀','잘','걍','과','도','를','으로','자','에','와','한','하다']\n",
        "\n",
        "for s in stopwords:\n",
        "    kor_stop.append(s)\n",
        "    \n",
        "kor_stop[:5]"
      ],
      "metadata": {
        "colab": {
          "base_uri": "https://localhost:8080/"
        },
        "id": "Bwd5EvZOn4Ne",
        "outputId": "628d5afb-6d28-4d46-f385-8d7a2fb6a8b8"
      },
      "execution_count": 9,
      "outputs": [
        {
          "output_type": "execute_result",
          "data": {
            "text/plain": [
              "['아', '휴', '아이구', '아이쿠', '아이고']"
            ]
          },
          "metadata": {},
          "execution_count": 9
        }
      ]
    },
    {
      "cell_type": "code",
      "source": [
        "def read_token(Class):\n",
        "    result = []\n",
        "    for c in Class:\n",
        "        tokenlist = tokenizer.pos(c, stem=True, norm=True)\n",
        "        for word in tokenlist:\n",
        "            if word[1] in [\"Noun\"]:\n",
        "                result.append(word[0])\n",
        "\n",
        "    return ' '.join(result)"
      ],
      "metadata": {
        "id": "Ctp_H-4LgHWa"
      },
      "execution_count": 14,
      "outputs": []
    },
    {
      "cell_type": "code",
      "source": [
        "etc = data[data['class']=='기타 괴롭힘 대화'].reset_index(drop=True).spell_checked_conversation"
      ],
      "metadata": {
        "id": "_8sPVOgxfQQk"
      },
      "execution_count": 45,
      "outputs": []
    },
    {
      "cell_type": "code",
      "source": [
        "etc_list = read_token(etc)\n",
        "len(etc_list)"
      ],
      "metadata": {
        "colab": {
          "base_uri": "https://localhost:8080/"
        },
        "id": "wAP8L20dgciI",
        "outputId": "35071e44-7566-4ccb-e3b3-bbaf5d78c2d5"
      },
      "execution_count": 46,
      "outputs": [
        {
          "output_type": "execute_result",
          "data": {
            "text/plain": [
              "102031"
            ]
          },
          "metadata": {},
          "execution_count": 46
        }
      ]
    },
    {
      "cell_type": "code",
      "source": [
        "extort = data[data['class']=='갈취 대화'].reset_index(drop=True).spell_checked_conversation\n",
        "extort_list = read_token(extort)\n",
        "len(extort_list)"
      ],
      "metadata": {
        "colab": {
          "base_uri": "https://localhost:8080/"
        },
        "id": "prKbzKiBiwT9",
        "outputId": "f631bf51-2c68-4c61-8198-3e73367eaec4"
      },
      "execution_count": 47,
      "outputs": [
        {
          "output_type": "execute_result",
          "data": {
            "text/plain": [
              "94354"
            ]
          },
          "metadata": {},
          "execution_count": 47
        }
      ]
    },
    {
      "cell_type": "code",
      "source": [
        "company = data[data['class']=='직장 내 괴롭힘 대화'].reset_index(drop=True).spell_checked_conversation\n",
        "company_list = read_token(company)\n",
        "len(company_list)"
      ],
      "metadata": {
        "colab": {
          "base_uri": "https://localhost:8080/"
        },
        "id": "VCUJsipjjFtv",
        "outputId": "1ff6b3e6-c139-443e-ec3b-20cf3dcb5ebe"
      },
      "execution_count": 48,
      "outputs": [
        {
          "output_type": "execute_result",
          "data": {
            "text/plain": [
              "106657"
            ]
          },
          "metadata": {},
          "execution_count": 48
        }
      ]
    },
    {
      "cell_type": "code",
      "source": [
        "blackmaile = data[data['class']=='협박 대화'].reset_index(drop=True).spell_checked_conversation\n",
        "blackmaile_list = read_token(blackmaile)\n",
        "len(blackmaile_list)"
      ],
      "metadata": {
        "colab": {
          "base_uri": "https://localhost:8080/"
        },
        "id": "qvm1yl6HjR2F",
        "outputId": "0ddf1896-dc7b-497a-9731-70c80d7e4747"
      },
      "execution_count": 49,
      "outputs": [
        {
          "output_type": "execute_result",
          "data": {
            "text/plain": [
              "98142"
            ]
          },
          "metadata": {},
          "execution_count": 49
        }
      ]
    },
    {
      "cell_type": "code",
      "source": [
        "Class = []\n",
        "Class.append(etc_list)\n",
        "Class.append(extort_list)\n",
        "Class.append(company_list)\n",
        "Class.append(blackmaile_list)\n",
        "len(Class)"
      ],
      "metadata": {
        "colab": {
          "base_uri": "https://localhost:8080/"
        },
        "id": "gH-A3BZLkA_m",
        "outputId": "75fb64fb-62c7-46c0-ca68-30293f5e14f4"
      },
      "execution_count": 50,
      "outputs": [
        {
          "output_type": "execute_result",
          "data": {
            "text/plain": [
              "4"
            ]
          },
          "metadata": {},
          "execution_count": 50
        }
      ]
    },
    {
      "cell_type": "code",
      "source": [
        "# TF-IDF행렬(X) 생성\n",
        "vectorizer = TfidfVectorizer()\n",
        "X = vectorizer.fit_transform(Class)\n",
        "print(X.shape)"
      ],
      "metadata": {
        "colab": {
          "base_uri": "https://localhost:8080/"
        },
        "id": "2Kl1-WRIkWNB",
        "outputId": "f80d228a-e3ad-4101-8bff-9e2919bca526"
      },
      "execution_count": 51,
      "outputs": [
        {
          "output_type": "stream",
          "name": "stdout",
          "text": [
            "(4, 7007)\n"
          ]
        }
      ]
    },
    {
      "cell_type": "code",
      "source": [
        "class_name = ['기타 괴롭힘 대화', '갈취 대화', '직장 내 괴롭힘 대화', '협박 대화']\n",
        "\n",
        "m1 = X[0].tocoo()\n",
        "m2 = X[1].tocoo() \n",
        "m3 = X[2].tocoo()\n",
        "m4 = X[3].tocoo()\n",
        "\n",
        "w1 = [[i, j] for i, j in zip(m1.col, m1.data)] \n",
        "w2 = [[i, j] for i, j in zip(m2.col, m2.data)]\n",
        "w3 = [[i, j] for i, j in zip(m3.col, m2.data)]\n",
        "w4 = [[i, j] for i, j in zip(m4.col, m2.data)]\n",
        "\n",
        "w1.sort(key=lambda x: x[1], reverse=True) \n",
        "w2.sort(key=lambda x: x[1], reverse=True)\n",
        "w3.sort(key=lambda x: x[1], reverse=True)\n",
        "w4.sort(key=lambda x: x[1], reverse=True)"
      ],
      "metadata": {
        "id": "--YlpT27kb_t"
      },
      "execution_count": 53,
      "outputs": []
    },
    {
      "cell_type": "code",
      "source": [
        "print(\"기타괴롭힘을 대표하는 단어들:\")\n",
        "for i in range(30):\n",
        "    print(vectorizer.get_feature_names()[w1[i][0]], end=', ')\n",
        "\n",
        "print('\\n')\n",
        "\n",
        "print('갈취 대화을 대표하는 단어들:')\n",
        "for i in range(30):\n",
        "    print(vectorizer.get_feature_names()[w2[i][0]], end=', ')\n",
        "\n",
        "print('\\n')\n",
        "\n",
        "print('직장 내 괴롭힘을 대표하는 단어들:')\n",
        "for i in range(30):\n",
        "    print(vectorizer.get_feature_names()[w3[i][0]], end=', ')\n",
        "\n",
        "print('\\n')\n",
        "\n",
        "print('협박을 대표하는 단어들:')\n",
        "for i in range(30):\n",
        "    print(vectorizer.get_feature_names()[w4[i][0]], end=', ')"
      ],
      "metadata": {
        "colab": {
          "base_uri": "https://localhost:8080/"
        },
        "id": "ROGhmgU2nNUr",
        "outputId": "9c4f1f78-2abb-4cc4-e757-dfb559d00990"
      },
      "execution_count": 54,
      "outputs": [
        {
          "output_type": "stream",
          "name": "stdout",
          "text": [
            "기타괴롭힘을 대표하는 단어들:\n",
            "진짜, 우리, 그냥, 무슨, 지금, 사람, 여기, 새끼, 엄마, 고객, 친구, 제발, 환불, 냄새, 손님, 얼굴, 거지, 생각, 장애인, 오늘, 기분, 돼지, 그게, 정말, 저기, 소리, 어디, 하나, 시간, 그거, \n",
            "\n",
            "갈취 대화을 대표하는 단어들:\n",
            "진짜, 지금, 그냥, 제발, 무슨, 여기, 우리, 이번, 오늘, 엄마, 친구, 원만, 정말, 사람, 그거, 새끼, 얼마, 저번, 그게, 생각, 내일, 신고, 달라, 거기, 저희, 하나, 당장, 이제, 가지, 당신, \n",
            "\n",
            "직장 내 괴롭힘을 대표하는 단어들:\n",
            "이해해, 일이십, 세금, 고등학생, 다나, 민호, 은행, 순이, 리가, 불복종, 무릎, 보드, 건가, 애초, 밀리, 고작, 핑계, 별로, 자주, 연인, 글쎄, 자기, 기적, 대화, 인상, 모습, 다해, 살이, 일도, 상관, \n",
            "\n",
            "협박을 대표하는 단어들:\n",
            "이야기, 할머니, 상호, 간다, 수학, 성적, 오줌, 저리, 자기, 선배, 애초, 구나, 신경, 생각, 냄새, 오늘, 비교, 누구, 그동안, 얼마, 화가, 억지로, 구토, 처리, 정신, 시간, 내면, 조심, 코로나, 벌써, "
          ]
        }
      ]
    },
    {
      "cell_type": "code",
      "source": [
        "n = 15\n",
        "w1_, w2_, w3_, w4_ = [], [], [], []\n",
        "\n",
        "for i in range(100):\n",
        "    w1_.append(vectorizer.get_feature_names()[w1[i][0]])\n",
        "    w2_.append(vectorizer.get_feature_names()[w2[i][0]])\n",
        "    w3_.append(vectorizer.get_feature_names()[w3[i][0]])\n",
        "    w4_.append(vectorizer.get_feature_names()[w4[i][0]])\n",
        "\n",
        "target_etc, target_extort, target_company, target_blackmaile = [], [], [], []\n",
        "\n",
        "for i in range(100):\n",
        "    if (w1_[i] not in w2_ + w3_ + w4_) : target_etc.append(w1_[i])\n",
        "    if len(target_etc) == n: break \n",
        "\n",
        "for i in range(100):\n",
        "    if (w2_[i] not in w1_ + w3_ + w4_) : target_extort.append(w2_[i])\n",
        "    if len(target_extort) == n: break\n",
        "\n",
        "for i in range(100):\n",
        "    if (w3_[i] not in w1_ + w2_ + w4_) : target_company.append(w3_[i])\n",
        "    if len(target_company) == n: break\n",
        "\n",
        "for i in range(100):\n",
        "    if (w4_[i] not in w1_ + w2_ + w3_) : target_blackmaile.append(w4_[i])\n",
        "    if len(target_blackmaile) == n: break"
      ],
      "metadata": {
        "id": "j-R2rgT7seC1"
      },
      "execution_count": 55,
      "outputs": []
    },
    {
      "cell_type": "code",
      "source": [
        "len(target_etc), len(target_extort), len(target_company), len(target_blackmaile)"
      ],
      "metadata": {
        "colab": {
          "base_uri": "https://localhost:8080/"
        },
        "id": "TNPPhXqqtbz9",
        "outputId": "acb51284-c7b8-4485-ad24-fdec3d19a8a6"
      },
      "execution_count": 56,
      "outputs": [
        {
          "output_type": "execute_result",
          "data": {
            "text/plain": [
              "(15, 15, 15, 15)"
            ]
          },
          "metadata": {},
          "execution_count": 56
        }
      ]
    },
    {
      "cell_type": "code",
      "source": [],
      "metadata": {
        "id": "eb3bs0c7uPFT"
      },
      "execution_count": 57,
      "outputs": []
    },
    {
      "cell_type": "code",
      "source": [
        "target = [target_etc, target_extort, target_company, target_blackmaile]\n",
        "\n",
        "for i, c in enumerate(class_name):\n",
        "    print(c+' :')\n",
        "    print(target[i])\n",
        "    print()"
      ],
      "metadata": {
        "colab": {
          "base_uri": "https://localhost:8080/"
        },
        "id": "cqtA3F1DuSpk",
        "outputId": "d88599de-de91-478e-942b-3e2e18b64273"
      },
      "execution_count": 58,
      "outputs": [
        {
          "output_type": "stream",
          "name": "stdout",
          "text": [
            "기타 괴롭힘 대화 :\n",
            "['고객', '환불', '손님', '얼굴', '장애인', '기분', '돼지', '때문', '남자', '병신', '얘기', '너희', '머리', '자꾸', '사과']\n",
            "\n",
            "갈취 대화 :\n",
            "['원만', '저번', '달라', '지갑', '가방', '번만', '어이', '입금', '선물', '학원', '현금', '잠깐', '차비', '핸드폰', '경찰']\n",
            "\n",
            "직장 내 괴롭힘 대화 :\n",
            "['일이십', '세금', '고등학생', '다나', '민호', '은행', '순이', '리가', '불복종', '무릎', '보드', '건가', '밀리', '고작', '핑계']\n",
            "\n",
            "협박 대화 :\n",
            "['이야기', '할머니', '상호', '간다', '수학', '성적', '오줌', '선배', '구나', '신경', '비교', '화가', '억지로', '구토', '처리']\n",
            "\n"
          ]
        }
      ]
    },
    {
      "cell_type": "markdown",
      "source": [
        "# 클래스2개(가해자, 피해자)"
      ],
      "metadata": {
        "id": "-EEORsFSwKNk"
      }
    },
    {
      "cell_type": "code",
      "source": [
        "data.head()"
      ],
      "metadata": {
        "colab": {
          "base_uri": "https://localhost:8080/",
          "height": 337
        },
        "id": "Q2KT-gWduT_Y",
        "outputId": "4ca49ac3-7304-49ac-8012-e5f61d7ba2cc"
      },
      "execution_count": 38,
      "outputs": [
        {
          "output_type": "execute_result",
          "data": {
            "text/plain": [
              "         class                                       conversation  \\\n",
              "0  직장 내 괴롭힘 대화  길동씨 이번에 이것좀 처리해요\\n이거 제가 한게 아닌데요\\n팀에서 내가 니가가 어딨...   \n",
              "1    기타 괴롭힘 대화  야 너 앞니 왜 그렇게 튀어나왔냐?\\n 태어날때부터 그랬어 물어보지마.\\n 아 그럼...   \n",
              "2        갈취 대화  원후야 학원 교재 사야되는데 8만원만 주면 안돼?\\n 미안 나 오늘은 진짜 돈이 없...   \n",
              "3        갈취 대화  너 저번에 술먹은 날 기억해?\\n아니 왜?\\n야 300만원만 가져와.\\n뭔 소리야....   \n",
              "4        협박 대화  너 또 내말 무시하냐?\\n 이새끼 널 좆으로 보나본데?\\n아냐 진짜 시간이 없었어 ...   \n",
              "\n",
              "                     labelling  \\\n",
              "0          1,2,1,2,1,2,1,2,1,2   \n",
              "1  1,2,1,2,1,2,1,2,1,1,1,2,1,1   \n",
              "2          1,2,1,2,1,2,1,2,1,2   \n",
              "3          1,2,1,2,1,2,1,2,1,2   \n",
              "4          1,1,2,1,1,2,1,2,1,1   \n",
              "\n",
              "                                      label_sentence  \\\n",
              "0  1:길동씨 이번에 이것좀 처리해요\\n2:이거 제가 한게 아닌데요\\n1:팀에서 내가 ...   \n",
              "1  1:야 너 앞니 왜 그렇게 튀어나왔냐?\\n2:태어날때부터 그랬어 물어보지마.\\n1:...   \n",
              "2  1:원후야 학원 교재 사야되는데 8만원만 주면 안돼?\\n2:미안 나 오늘은 진짜 돈...   \n",
              "3  1:너 저번에 술먹은 날 기억해?\\n2:아니 왜?\\n1:야 300만원만 가져와.\\n...   \n",
              "4  1:너 또 내말 무시하냐?\\n1:이새끼 널 좆으로 보나본데?\\n2:아냐 진짜 시간이...   \n",
              "\n",
              "                                    cleaned_sentence  \\\n",
              "0  길동씨 이번에 이것좀 처리해요\\n이거 제가 한게 아닌데요\\n팀에서 내가 니가가 어딨...   \n",
              "1  야 너 앞니 왜 그렇게 튀어나왔냐?\\n태어날때부터 그랬어 물어보지마.\\n아 그럼 태...   \n",
              "2  원후야 학원 교재 사야되는데 8만원만 주면 안돼?\\n미안 나 오늘은 진짜 돈이 없어...   \n",
              "3  너 저번에 술먹은 날 기억해?\\n아니 왜?\\n야 300만원만 가져와.\\n뭔 소리야....   \n",
              "4  너 또 내말 무시하냐?\\n이새끼 널 좆으로 보나본데?\\n아냐 진짜 시간이 없었어 미...   \n",
              "\n",
              "                          spell_checked_conversation  \n",
              "0  길동 씨 이번에 이것 좀 처리해요\\n이거 제가 한 게 아닌데요\\n팀에서 내가 네가 ...  \n",
              "1  야 너 앞니 왜 그렇게 튀어나왔냐?\\n태어날 때부터 그랬어 물어보지 마.\\n아 그럼...  \n",
              "2  원후야 학원 교재 사야 되는데 8만 원만 주면 안 돼?\\n미안 나 오늘은 진짜 돈이...  \n",
              "3  너 저번에 술 먹은 날 기억해?\\n아니 왜?\\n야 300만 원만 가져와.\\n뭔 소리...  \n",
              "4  너 또 내말 무시하냐?\\n이 새끼 널 좆으로 보나 본데?\\n아냐 진짜 시간이 없었어...  "
            ],
            "text/html": [
              "\n",
              "  <div id=\"df-e7272e05-9b46-4f58-996e-7ee5f4af11c5\">\n",
              "    <div class=\"colab-df-container\">\n",
              "      <div>\n",
              "<style scoped>\n",
              "    .dataframe tbody tr th:only-of-type {\n",
              "        vertical-align: middle;\n",
              "    }\n",
              "\n",
              "    .dataframe tbody tr th {\n",
              "        vertical-align: top;\n",
              "    }\n",
              "\n",
              "    .dataframe thead th {\n",
              "        text-align: right;\n",
              "    }\n",
              "</style>\n",
              "<table border=\"1\" class=\"dataframe\">\n",
              "  <thead>\n",
              "    <tr style=\"text-align: right;\">\n",
              "      <th></th>\n",
              "      <th>class</th>\n",
              "      <th>conversation</th>\n",
              "      <th>labelling</th>\n",
              "      <th>label_sentence</th>\n",
              "      <th>cleaned_sentence</th>\n",
              "      <th>spell_checked_conversation</th>\n",
              "    </tr>\n",
              "  </thead>\n",
              "  <tbody>\n",
              "    <tr>\n",
              "      <th>0</th>\n",
              "      <td>직장 내 괴롭힘 대화</td>\n",
              "      <td>길동씨 이번에 이것좀 처리해요\\n이거 제가 한게 아닌데요\\n팀에서 내가 니가가 어딨...</td>\n",
              "      <td>1,2,1,2,1,2,1,2,1,2</td>\n",
              "      <td>1:길동씨 이번에 이것좀 처리해요\\n2:이거 제가 한게 아닌데요\\n1:팀에서 내가 ...</td>\n",
              "      <td>길동씨 이번에 이것좀 처리해요\\n이거 제가 한게 아닌데요\\n팀에서 내가 니가가 어딨...</td>\n",
              "      <td>길동 씨 이번에 이것 좀 처리해요\\n이거 제가 한 게 아닌데요\\n팀에서 내가 네가 ...</td>\n",
              "    </tr>\n",
              "    <tr>\n",
              "      <th>1</th>\n",
              "      <td>기타 괴롭힘 대화</td>\n",
              "      <td>야 너 앞니 왜 그렇게 튀어나왔냐?\\n 태어날때부터 그랬어 물어보지마.\\n 아 그럼...</td>\n",
              "      <td>1,2,1,2,1,2,1,2,1,1,1,2,1,1</td>\n",
              "      <td>1:야 너 앞니 왜 그렇게 튀어나왔냐?\\n2:태어날때부터 그랬어 물어보지마.\\n1:...</td>\n",
              "      <td>야 너 앞니 왜 그렇게 튀어나왔냐?\\n태어날때부터 그랬어 물어보지마.\\n아 그럼 태...</td>\n",
              "      <td>야 너 앞니 왜 그렇게 튀어나왔냐?\\n태어날 때부터 그랬어 물어보지 마.\\n아 그럼...</td>\n",
              "    </tr>\n",
              "    <tr>\n",
              "      <th>2</th>\n",
              "      <td>갈취 대화</td>\n",
              "      <td>원후야 학원 교재 사야되는데 8만원만 주면 안돼?\\n 미안 나 오늘은 진짜 돈이 없...</td>\n",
              "      <td>1,2,1,2,1,2,1,2,1,2</td>\n",
              "      <td>1:원후야 학원 교재 사야되는데 8만원만 주면 안돼?\\n2:미안 나 오늘은 진짜 돈...</td>\n",
              "      <td>원후야 학원 교재 사야되는데 8만원만 주면 안돼?\\n미안 나 오늘은 진짜 돈이 없어...</td>\n",
              "      <td>원후야 학원 교재 사야 되는데 8만 원만 주면 안 돼?\\n미안 나 오늘은 진짜 돈이...</td>\n",
              "    </tr>\n",
              "    <tr>\n",
              "      <th>3</th>\n",
              "      <td>갈취 대화</td>\n",
              "      <td>너 저번에 술먹은 날 기억해?\\n아니 왜?\\n야 300만원만 가져와.\\n뭔 소리야....</td>\n",
              "      <td>1,2,1,2,1,2,1,2,1,2</td>\n",
              "      <td>1:너 저번에 술먹은 날 기억해?\\n2:아니 왜?\\n1:야 300만원만 가져와.\\n...</td>\n",
              "      <td>너 저번에 술먹은 날 기억해?\\n아니 왜?\\n야 300만원만 가져와.\\n뭔 소리야....</td>\n",
              "      <td>너 저번에 술 먹은 날 기억해?\\n아니 왜?\\n야 300만 원만 가져와.\\n뭔 소리...</td>\n",
              "    </tr>\n",
              "    <tr>\n",
              "      <th>4</th>\n",
              "      <td>협박 대화</td>\n",
              "      <td>너 또 내말 무시하냐?\\n 이새끼 널 좆으로 보나본데?\\n아냐 진짜 시간이 없었어 ...</td>\n",
              "      <td>1,1,2,1,1,2,1,2,1,1</td>\n",
              "      <td>1:너 또 내말 무시하냐?\\n1:이새끼 널 좆으로 보나본데?\\n2:아냐 진짜 시간이...</td>\n",
              "      <td>너 또 내말 무시하냐?\\n이새끼 널 좆으로 보나본데?\\n아냐 진짜 시간이 없었어 미...</td>\n",
              "      <td>너 또 내말 무시하냐?\\n이 새끼 널 좆으로 보나 본데?\\n아냐 진짜 시간이 없었어...</td>\n",
              "    </tr>\n",
              "  </tbody>\n",
              "</table>\n",
              "</div>\n",
              "      <button class=\"colab-df-convert\" onclick=\"convertToInteractive('df-e7272e05-9b46-4f58-996e-7ee5f4af11c5')\"\n",
              "              title=\"Convert this dataframe to an interactive table.\"\n",
              "              style=\"display:none;\">\n",
              "        \n",
              "  <svg xmlns=\"http://www.w3.org/2000/svg\" height=\"24px\"viewBox=\"0 0 24 24\"\n",
              "       width=\"24px\">\n",
              "    <path d=\"M0 0h24v24H0V0z\" fill=\"none\"/>\n",
              "    <path d=\"M18.56 5.44l.94 2.06.94-2.06 2.06-.94-2.06-.94-.94-2.06-.94 2.06-2.06.94zm-11 1L8.5 8.5l.94-2.06 2.06-.94-2.06-.94L8.5 2.5l-.94 2.06-2.06.94zm10 10l.94 2.06.94-2.06 2.06-.94-2.06-.94-.94-2.06-.94 2.06-2.06.94z\"/><path d=\"M17.41 7.96l-1.37-1.37c-.4-.4-.92-.59-1.43-.59-.52 0-1.04.2-1.43.59L10.3 9.45l-7.72 7.72c-.78.78-.78 2.05 0 2.83L4 21.41c.39.39.9.59 1.41.59.51 0 1.02-.2 1.41-.59l7.78-7.78 2.81-2.81c.8-.78.8-2.07 0-2.86zM5.41 20L4 18.59l7.72-7.72 1.47 1.35L5.41 20z\"/>\n",
              "  </svg>\n",
              "      </button>\n",
              "      \n",
              "  <style>\n",
              "    .colab-df-container {\n",
              "      display:flex;\n",
              "      flex-wrap:wrap;\n",
              "      gap: 12px;\n",
              "    }\n",
              "\n",
              "    .colab-df-convert {\n",
              "      background-color: #E8F0FE;\n",
              "      border: none;\n",
              "      border-radius: 50%;\n",
              "      cursor: pointer;\n",
              "      display: none;\n",
              "      fill: #1967D2;\n",
              "      height: 32px;\n",
              "      padding: 0 0 0 0;\n",
              "      width: 32px;\n",
              "    }\n",
              "\n",
              "    .colab-df-convert:hover {\n",
              "      background-color: #E2EBFA;\n",
              "      box-shadow: 0px 1px 2px rgba(60, 64, 67, 0.3), 0px 1px 3px 1px rgba(60, 64, 67, 0.15);\n",
              "      fill: #174EA6;\n",
              "    }\n",
              "\n",
              "    [theme=dark] .colab-df-convert {\n",
              "      background-color: #3B4455;\n",
              "      fill: #D2E3FC;\n",
              "    }\n",
              "\n",
              "    [theme=dark] .colab-df-convert:hover {\n",
              "      background-color: #434B5C;\n",
              "      box-shadow: 0px 1px 3px 1px rgba(0, 0, 0, 0.15);\n",
              "      filter: drop-shadow(0px 1px 2px rgba(0, 0, 0, 0.3));\n",
              "      fill: #FFFFFF;\n",
              "    }\n",
              "  </style>\n",
              "\n",
              "      <script>\n",
              "        const buttonEl =\n",
              "          document.querySelector('#df-e7272e05-9b46-4f58-996e-7ee5f4af11c5 button.colab-df-convert');\n",
              "        buttonEl.style.display =\n",
              "          google.colab.kernel.accessAllowed ? 'block' : 'none';\n",
              "\n",
              "        async function convertToInteractive(key) {\n",
              "          const element = document.querySelector('#df-e7272e05-9b46-4f58-996e-7ee5f4af11c5');\n",
              "          const dataTable =\n",
              "            await google.colab.kernel.invokeFunction('convertToInteractive',\n",
              "                                                     [key], {});\n",
              "          if (!dataTable) return;\n",
              "\n",
              "          const docLinkHtml = 'Like what you see? Visit the ' +\n",
              "            '<a target=\"_blank\" href=https://colab.research.google.com/notebooks/data_table.ipynb>data table notebook</a>'\n",
              "            + ' to learn more about interactive tables.';\n",
              "          element.innerHTML = '';\n",
              "          dataTable['output_type'] = 'display_data';\n",
              "          await google.colab.output.renderOutput(dataTable, element);\n",
              "          const docLink = document.createElement('div');\n",
              "          docLink.innerHTML = docLinkHtml;\n",
              "          element.appendChild(docLink);\n",
              "        }\n",
              "      </script>\n",
              "    </div>\n",
              "  </div>\n",
              "  "
            ]
          },
          "metadata": {},
          "execution_count": 38
        }
      ]
    },
    {
      "cell_type": "code",
      "source": [
        "sen = data['label_sentence']\n",
        "attack = []\n",
        "damaged = []\n",
        "for i in range(3912):\n",
        "    sen_tokens = sen[i].split('\\n')\n",
        "    for s in sen_tokens:\n",
        "        if s[0] == str(1):\n",
        "            attack.append(s[2:])\n",
        "        else:\n",
        "            damaged.append(s[2:])"
      ],
      "metadata": {
        "id": "xbe8_yVMxyyB"
      },
      "execution_count": 80,
      "outputs": []
    },
    {
      "cell_type": "code",
      "source": [
        "len(attack), len(damaged)"
      ],
      "metadata": {
        "colab": {
          "base_uri": "https://localhost:8080/"
        },
        "id": "s63IRroA1FIz",
        "outputId": "7fc40aae-1575-456e-aaa3-c3c5f0b00862"
      },
      "execution_count": 83,
      "outputs": [
        {
          "output_type": "execute_result",
          "data": {
            "text/plain": [
              "(21285, 19143)"
            ]
          },
          "metadata": {},
          "execution_count": 83
        }
      ]
    },
    {
      "cell_type": "code",
      "source": [
        "attack_list = read_token(attack)"
      ],
      "metadata": {
        "id": "teqwzj4IxrG9"
      },
      "execution_count": 87,
      "outputs": []
    },
    {
      "cell_type": "code",
      "source": [
        "len(attack_list)"
      ],
      "metadata": {
        "colab": {
          "base_uri": "https://localhost:8080/"
        },
        "id": "OmSzbML52doC",
        "outputId": "116cfbab-a0c3-42b2-dae1-79c8926585f1"
      },
      "execution_count": 88,
      "outputs": [
        {
          "output_type": "execute_result",
          "data": {
            "text/plain": [
              "248762"
            ]
          },
          "metadata": {},
          "execution_count": 88
        }
      ]
    },
    {
      "cell_type": "code",
      "source": [
        "damaged_list = read_token(damaged)\n",
        "len(damaged_list)"
      ],
      "metadata": {
        "colab": {
          "base_uri": "https://localhost:8080/"
        },
        "id": "AndGeH562lZg",
        "outputId": "647dc9ad-f24c-48f7-affa-6a0c7733565f"
      },
      "execution_count": 89,
      "outputs": [
        {
          "output_type": "execute_result",
          "data": {
            "text/plain": [
              "126297"
            ]
          },
          "metadata": {},
          "execution_count": 89
        }
      ]
    },
    {
      "cell_type": "code",
      "source": [
        "Class = []\n",
        "Class.append(attack_list)\n",
        "Class.append(damaged_list)\n",
        "len(Class)"
      ],
      "metadata": {
        "colab": {
          "base_uri": "https://localhost:8080/"
        },
        "id": "-2zs5e7J2wvD",
        "outputId": "6491b2e1-fd3d-4ddd-de3d-ee5bc46f7420"
      },
      "execution_count": 90,
      "outputs": [
        {
          "output_type": "execute_result",
          "data": {
            "text/plain": [
              "2"
            ]
          },
          "metadata": {},
          "execution_count": 90
        }
      ]
    },
    {
      "cell_type": "code",
      "source": [
        "# TF-IDF행렬(X) 생성\n",
        "vectorizer = TfidfVectorizer()\n",
        "X = vectorizer.fit_transform(Class)\n",
        "print(X.shape)"
      ],
      "metadata": {
        "colab": {
          "base_uri": "https://localhost:8080/"
        },
        "id": "2u61ORx120pg",
        "outputId": "e9d99d05-71b6-4ae8-ded6-b18a9e15ab51"
      },
      "execution_count": 91,
      "outputs": [
        {
          "output_type": "stream",
          "name": "stdout",
          "text": [
            "(2, 7626)\n"
          ]
        }
      ]
    },
    {
      "cell_type": "code",
      "source": [
        "class_name = ['가해자', '피해자']"
      ],
      "metadata": {
        "id": "sFhafq2725Au"
      },
      "execution_count": 92,
      "outputs": []
    },
    {
      "cell_type": "code",
      "source": [
        "m1 = X[0].tocoo()\n",
        "m2 = X[1].tocoo() \n",
        "\n",
        "w1 = [[i, j] for i, j in zip(m1.col, m1.data)] \n",
        "w2 = [[i, j] for i, j in zip(m2.col, m2.data)]\n",
        "\n",
        "w1.sort(key=lambda x: x[1], reverse=True) \n",
        "w2.sort(key=lambda x: x[1], reverse=True)"
      ],
      "metadata": {
        "id": "2CVsbP192-EZ"
      },
      "execution_count": 93,
      "outputs": []
    },
    {
      "cell_type": "code",
      "source": [
        "print(\"가해자을 대표하는 단어들:\")\n",
        "for i in range(30):\n",
        "    print(vectorizer.get_feature_names()[w1[i][0]], end=', ')\n",
        "\n",
        "print('\\n')\n",
        "\n",
        "print('피해자을 대표하는 단어들:')\n",
        "for i in range(30):\n",
        "    print(vectorizer.get_feature_names()[w2[i][0]], end=', ')"
      ],
      "metadata": {
        "colab": {
          "base_uri": "https://localhost:8080/"
        },
        "id": "abT78tIv3G8v",
        "outputId": "f6c0be66-ebd8-4a45-81af-162022f3efcf"
      },
      "execution_count": 94,
      "outputs": [
        {
          "output_type": "stream",
          "name": "stdout",
          "text": [
            "가해자을 대표하는 단어들:\n",
            "지금, 진짜, 우리, 그냥, 사람, 새끼, 오늘, 하나, 여기, 회사, 생각, 친구, 대리, 이번, 무슨, 자네, 어디, 당장, 내일, 엄마, 한번, 그거, 얼굴, 당신, 시간, 이제, 소리, 누가, 장난, 저기, \n",
            "\n",
            "피해자을 대표하는 단어들:\n",
            "제발, 진짜, 무슨, 지금, 정말, 그게, 말씀, 우리, 부장, 사람, 시간, 여기, 오늘, 이번, 그냥, 엄마, 생각, 신고, 저희, 소리, 이제, 고객, 조금, 손님, 과장, 다시, 갑자기, 미안, 저번, 그거, "
          ]
        }
      ]
    },
    {
      "cell_type": "code",
      "source": [
        "n = 15\n",
        "w1_, w2_ = [], []\n",
        "\n",
        "for i in range(100):\n",
        "    w1_.append(vectorizer.get_feature_names()[w1[i][0]])\n",
        "    w2_.append(vectorizer.get_feature_names()[w2[i][0]])\n",
        "\n",
        "target_attack, target_damaged = [], []\n",
        "\n",
        "for i in range(100):\n",
        "    if (w1_[i] not in w2_) : target_attack.append(w1_[i])\n",
        "    if len(target_attack) == n: break \n",
        "\n",
        "for i in range(100):\n",
        "    if (w2_[i] not in w1_) : target_damaged.append(w2_[i])\n",
        "    if len(target_damaged) == n: break"
      ],
      "metadata": {
        "id": "BTgYnAS33SDq"
      },
      "execution_count": 95,
      "outputs": []
    },
    {
      "cell_type": "code",
      "source": [
        "len(target_attack), len(target_damaged)"
      ],
      "metadata": {
        "colab": {
          "base_uri": "https://localhost:8080/"
        },
        "id": "nehbZSZ83pl2",
        "outputId": "6ac66c40-dcb0-4158-c8a3-e54a60f23042"
      },
      "execution_count": 96,
      "outputs": [
        {
          "output_type": "execute_result",
          "data": {
            "text/plain": [
              "(15, 15)"
            ]
          },
          "metadata": {},
          "execution_count": 96
        }
      ]
    },
    {
      "cell_type": "code",
      "source": [
        "target = [target_attack, target_damaged]\n",
        "\n",
        "for i, c in enumerate(class_name):\n",
        "    print(c+' :')\n",
        "    print(target[i])\n",
        "    print()"
      ],
      "metadata": {
        "colab": {
          "base_uri": "https://localhost:8080/"
        },
        "id": "Nvpda9xS3yuC",
        "outputId": "c9a54735-78d4-44ce-8ec4-4b60041771bb"
      },
      "execution_count": 98,
      "outputs": [
        {
          "output_type": "stream",
          "name": "stdout",
          "text": [
            "가해자 :\n",
            "['새끼', '자네', '얼굴', '누가', '거기', '요즘', '정신', '아주', '거지', '제대로', '어이', '머리', '학교', '가지', '냄새']\n",
            "\n",
            "피해자 :\n",
            "['제발', '말씀', '부장', '저희', '고객', '조금', '손님', '과장', '갑자기', '미안', '가요', '장님', '경찰', '러시', '협박']\n",
            "\n"
          ]
        }
      ]
    },
    {
      "cell_type": "markdown",
      "source": [
        "# Verb 추가"
      ],
      "metadata": {
        "id": "DZSZOC6mEy73"
      }
    },
    {
      "cell_type": "code",
      "source": [
        "def read_token(Class):\n",
        "    result = []\n",
        "    for c in Class:\n",
        "        tokenlist = tokenizer.pos(c, stem=True, norm=True)\n",
        "        for word in tokenlist:\n",
        "            if word[1] in [\"Noun\", \"Verb\"]:\n",
        "                result.append(word[0])\n",
        "\n",
        "    return ' '.join(result)"
      ],
      "metadata": {
        "id": "aDsSWTR8E1cB"
      },
      "execution_count": 107,
      "outputs": []
    },
    {
      "cell_type": "code",
      "source": [
        "etc = data[data['class']=='기타 괴롭힘 대화'].reset_index(drop=True).spell_checked_conversation\n",
        "etc_list = read_token(etc)\n",
        "\n",
        "extort = data[data['class']=='갈취 대화'].reset_index(drop=True).spell_checked_conversation\n",
        "extort_list = read_token(extort)\n",
        "\n",
        "company = data[data['class']=='직장 내 괴롭힘 대화'].reset_index(drop=True).spell_checked_conversation\n",
        "company_list = read_token(company)\n",
        "\n",
        "blackmaile = data[data['class']=='협박 대화'].reset_index(drop=True).spell_checked_conversation\n",
        "blackmaile_list = read_token(blackmaile)\n",
        "\n",
        "len(etc_list),len(extort_list), len(company_list), len(blackmaile_list)"
      ],
      "metadata": {
        "colab": {
          "base_uri": "https://localhost:8080/"
        },
        "id": "ZtGrnhgJGMXI",
        "outputId": "793400d1-26f1-4d33-92ee-b662bca7a704"
      },
      "execution_count": 108,
      "outputs": [
        {
          "output_type": "execute_result",
          "data": {
            "text/plain": [
              "(152343, 145550, 154566, 155464)"
            ]
          },
          "metadata": {},
          "execution_count": 108
        }
      ]
    },
    {
      "cell_type": "code",
      "source": [
        "Class = []\n",
        "Class.append(etc_list)\n",
        "Class.append(extort_list)\n",
        "Class.append(company_list)\n",
        "Class.append(blackmaile_list)\n",
        "len(Class)"
      ],
      "metadata": {
        "colab": {
          "base_uri": "https://localhost:8080/"
        },
        "id": "BAEc711UGoEk",
        "outputId": "5f59f568-d8b9-4bbc-9a58-581788cb2822"
      },
      "execution_count": 109,
      "outputs": [
        {
          "output_type": "execute_result",
          "data": {
            "text/plain": [
              "4"
            ]
          },
          "metadata": {},
          "execution_count": 109
        }
      ]
    },
    {
      "cell_type": "code",
      "source": [
        "# TF-IDF행렬(X) 생성\n",
        "vectorizer = TfidfVectorizer()\n",
        "X = vectorizer.fit_transform(Class)\n",
        "print(X.shape)"
      ],
      "metadata": {
        "colab": {
          "base_uri": "https://localhost:8080/"
        },
        "id": "1usG1DO8GrNy",
        "outputId": "66f7cf5e-12be-4aea-8ce9-2b4117ef9b05"
      },
      "execution_count": 110,
      "outputs": [
        {
          "output_type": "stream",
          "name": "stdout",
          "text": [
            "(4, 7886)\n"
          ]
        }
      ]
    },
    {
      "cell_type": "code",
      "source": [
        "class_name = ['기타 괴롭힘 대화', '갈취 대화', '직장 내 괴롭힘 대화', '협박 대화']\n",
        "\n",
        "m1 = X[0].tocoo()\n",
        "m2 = X[1].tocoo() \n",
        "m3 = X[2].tocoo()\n",
        "m4 = X[3].tocoo()\n",
        "\n",
        "w1 = [[i, j] for i, j in zip(m1.col, m1.data)] \n",
        "w2 = [[i, j] for i, j in zip(m2.col, m2.data)]\n",
        "w3 = [[i, j] for i, j in zip(m3.col, m2.data)]\n",
        "w4 = [[i, j] for i, j in zip(m4.col, m2.data)]\n",
        "\n",
        "w1.sort(key=lambda x: x[1], reverse=True) \n",
        "w2.sort(key=lambda x: x[1], reverse=True)\n",
        "w3.sort(key=lambda x: x[1], reverse=True)\n",
        "w4.sort(key=lambda x: x[1], reverse=True)"
      ],
      "metadata": {
        "id": "zB-WaVRjGwRS"
      },
      "execution_count": 111,
      "outputs": []
    },
    {
      "cell_type": "code",
      "source": [
        "print(\"기타괴롭힘을 대표하는 단어들:\")\n",
        "for i in range(30):\n",
        "    print(vectorizer.get_feature_names()[w1[i][0]], end=', ')\n",
        "\n",
        "print('\\n')\n",
        "\n",
        "print('갈취 대화을 대표하는 단어들:')\n",
        "for i in range(30):\n",
        "    print(vectorizer.get_feature_names()[w2[i][0]], end=', ')\n",
        "\n",
        "print('\\n')\n",
        "\n",
        "print('직장 내 괴롭힘을 대표하는 단어들:')\n",
        "for i in range(30):\n",
        "    print(vectorizer.get_feature_names()[w3[i][0]], end=', ')\n",
        "\n",
        "print('\\n')\n",
        "\n",
        "print('협박을 대표하는 단어들:')\n",
        "for i in range(30):\n",
        "    print(vectorizer.get_feature_names()[w4[i][0]], end=', ')"
      ],
      "metadata": {
        "colab": {
          "base_uri": "https://localhost:8080/"
        },
        "id": "Zi5PkiOzGy5y",
        "outputId": "2ef3d3a1-afb8-46fb-9957-815773ab682c"
      },
      "execution_count": 112,
      "outputs": [
        {
          "output_type": "stream",
          "name": "stdout",
          "text": [
            "기타괴롭힘을 대표하는 단어들:\n",
            "하다, 보다, 진짜, 알다, 오다, 우리, 그냥, 무슨, 되다, 가다, 해주다, 지금, 맞다, 사람, 돼다, 먹다, 다니다, 자다, 나다, 여기, 새끼, 생기다, 들다, 주다, 엄마, 고객, 모르다, 친구, 제발, 나오다, \n",
            "\n",
            "갈취 대화을 대표하는 단어들:\n",
            "하다, 보다, 돼다, 주다, 빌리다, 알다, 진짜, 되다, 내놓다, 지금, 오다, 맞다, 그냥, 나다, 제발, 가다, 무슨, 여기, 우리, 자다, 받다, 이번, 오늘, 엄마, 보내다, 싶다, 친구, 나오다, 돌려주다, 원만, \n",
            "\n",
            "직장 내 괴롭힘을 대표하는 단어들:\n",
            "튀다, 지다, 거울, 미주, 기다, 넘다, 떨어지다, 이유, 박다, 되어다, 그게, 수치, 깨지다, 병신, 공부, 절대, 다리다, 다치다, 맡다, 잠시, 여행, 처지다, 흐흑, 원래, 먹기, 인성, 지나가다, 위치, 머리, 귀신, \n",
            "\n",
            "협박을 대표하는 단어들:\n",
            "해먹, 초등학교, 요즘, 말씀, 계속, 죽다, 딸아이, 넘다, 싸다, 하루, 보내다, 일해, 가리다, 말투, 이야기, 지나치다, 떨어지다, 도대체, 평상시, 듣기, 때우다, 세금, 고작, 대박, 제대로, 고민, 계시, 어딨다, 시간, 겨우, "
          ]
        }
      ]
    },
    {
      "cell_type": "code",
      "source": [
        "n = 15\n",
        "w1_, w2_, w3_, w4_ = [], [], [], []\n",
        "\n",
        "for i in range(100):\n",
        "    w1_.append(vectorizer.get_feature_names()[w1[i][0]])\n",
        "    w2_.append(vectorizer.get_feature_names()[w2[i][0]])\n",
        "    w3_.append(vectorizer.get_feature_names()[w3[i][0]])\n",
        "    w4_.append(vectorizer.get_feature_names()[w4[i][0]])\n",
        "\n",
        "target_etc, target_extort, target_company, target_blackmaile = [], [], [], []\n",
        "\n",
        "for i in range(100):\n",
        "    if (w1_[i] not in w2_ + w3_ + w4_) : target_etc.append(w1_[i])\n",
        "    if len(target_etc) == n: break \n",
        "\n",
        "for i in range(100):\n",
        "    if (w2_[i] not in w1_ + w3_ + w4_) : target_extort.append(w2_[i])\n",
        "    if len(target_extort) == n: break\n",
        "\n",
        "for i in range(100):\n",
        "    if (w3_[i] not in w1_ + w2_ + w4_) : target_company.append(w3_[i])\n",
        "    if len(target_company) == n: break\n",
        "\n",
        "for i in range(100):\n",
        "    if (w4_[i] not in w1_ + w2_ + w3_) : target_blackmaile.append(w4_[i])\n",
        "    if len(target_blackmaile) == n: break"
      ],
      "metadata": {
        "id": "39rc9iWoHM2Q"
      },
      "execution_count": 114,
      "outputs": []
    },
    {
      "cell_type": "code",
      "source": [
        "len(target_etc), len(target_extort), len(target_company), len(target_blackmaile)"
      ],
      "metadata": {
        "colab": {
          "base_uri": "https://localhost:8080/"
        },
        "id": "EuVdfI1PG6GT",
        "outputId": "2b478b31-c641-4d14-b087-3914b1dced7f"
      },
      "execution_count": 115,
      "outputs": [
        {
          "output_type": "execute_result",
          "data": {
            "text/plain": [
              "(15, 15, 15, 15)"
            ]
          },
          "metadata": {},
          "execution_count": 115
        }
      ]
    },
    {
      "cell_type": "code",
      "source": [
        "target = [target_etc, target_extort, target_company, target_blackmaile]\n",
        "\n",
        "for i, c in enumerate(class_name):\n",
        "    print(c+' :')\n",
        "    print(target[i])\n",
        "    print()"
      ],
      "metadata": {
        "colab": {
          "base_uri": "https://localhost:8080/"
        },
        "id": "uqERqtH5G-Y6",
        "outputId": "6e6c38ce-4520-41fc-c8d3-50ce7d5407ec"
      },
      "execution_count": 116,
      "outputs": [
        {
          "output_type": "stream",
          "name": "stdout",
          "text": [
            "기타 괴롭힘 대화 :\n",
            "['생기다', '고객', '환불', '손님', '얼굴', '장애인', '기분', '뭐라다', '찌다', '선생님', '보고', '부모님', '따다', '따르다', '놀리다']\n",
            "\n",
            "갈취 대화 :\n",
            "['빌리다', '내놓다', '돌려주다', '원만', '갚다', '가져오다', '얼마', '뒤지다', '저번', '내일', '달라', '거기', '가져가다', '당장', '버리다']\n",
            "\n",
            "직장 내 괴롭힘 대화 :\n",
            "['튀다', '지다', '미주', '기다', '이유', '박다', '되어다', '수치', '깨지다', '절대', '다리다', '다치다', '맡다', '잠시', '여행']\n",
            "\n",
            "협박 대화 :\n",
            "['해먹', '초등학교', '요즘', '계속', '딸아이', '싸다', '하루', '말투', '이야기', '지나치다', '도대체', '평상시', '듣기', '때우다', '세금']\n",
            "\n"
          ]
        }
      ]
    },
    {
      "cell_type": "markdown",
      "source": [
        "# Verb추가 (가해자, 피해자)"
      ],
      "metadata": {
        "id": "RzrP1F5vI8lm"
      }
    },
    {
      "cell_type": "code",
      "source": [
        "sen = data['label_sentence']\n",
        "attack = []\n",
        "damaged = []\n",
        "for i in range(3912):\n",
        "    sen_tokens = sen[i].split('\\n')\n",
        "    for s in sen_tokens:\n",
        "        if s[0] == str(1):\n",
        "            attack.append(s[2:])\n",
        "        else:\n",
        "            damaged.append(s[2:])"
      ],
      "metadata": {
        "id": "UMY5f0ZtI__p"
      },
      "execution_count": 117,
      "outputs": []
    },
    {
      "cell_type": "code",
      "source": [
        "attack_list = read_token(attack)\n",
        "damaged_list = read_token(damaged)"
      ],
      "metadata": {
        "id": "OSZwOE5vJIDr"
      },
      "execution_count": 118,
      "outputs": []
    },
    {
      "cell_type": "code",
      "source": [
        "Class = []\n",
        "Class.append(attack_list)\n",
        "Class.append(damaged_list)\n",
        "len(Class)"
      ],
      "metadata": {
        "colab": {
          "base_uri": "https://localhost:8080/"
        },
        "id": "5xGhK-XlJSJ9",
        "outputId": "88a1146a-4850-44ce-fa90-6d44aa7f5bad"
      },
      "execution_count": 119,
      "outputs": [
        {
          "output_type": "execute_result",
          "data": {
            "text/plain": [
              "2"
            ]
          },
          "metadata": {},
          "execution_count": 119
        }
      ]
    },
    {
      "cell_type": "code",
      "source": [
        "# TF-IDF행렬(X) 생성\n",
        "vectorizer = TfidfVectorizer()\n",
        "X = vectorizer.fit_transform(Class)\n",
        "print(X.shape)"
      ],
      "metadata": {
        "colab": {
          "base_uri": "https://localhost:8080/"
        },
        "id": "jDJkwYJEJWO4",
        "outputId": "b7873f0a-024d-48b6-a872-3441f3e510de"
      },
      "execution_count": 120,
      "outputs": [
        {
          "output_type": "stream",
          "name": "stdout",
          "text": [
            "(2, 8520)\n"
          ]
        }
      ]
    },
    {
      "cell_type": "code",
      "source": [
        "class_name = ['가해자', '피해자']\n",
        "\n",
        "m1 = X[0].tocoo()\n",
        "m2 = X[1].tocoo() \n",
        "\n",
        "w1 = [[i, j] for i, j in zip(m1.col, m1.data)] \n",
        "w2 = [[i, j] for i, j in zip(m2.col, m2.data)]\n",
        "\n",
        "w1.sort(key=lambda x: x[1], reverse=True) \n",
        "w2.sort(key=lambda x: x[1], reverse=True)"
      ],
      "metadata": {
        "id": "-BRoCPCBJY4u"
      },
      "execution_count": 121,
      "outputs": []
    },
    {
      "cell_type": "code",
      "source": [
        "print(\"가해자을 대표하는 단어들:\")\n",
        "for i in range(30):\n",
        "    print(vectorizer.get_feature_names()[w1[i][0]], end=', ')\n",
        "\n",
        "print('\\n')\n",
        "\n",
        "print('피해자을 대표하는 단어들:')\n",
        "for i in range(30):\n",
        "    print(vectorizer.get_feature_names()[w2[i][0]], end=', ')"
      ],
      "metadata": {
        "colab": {
          "base_uri": "https://localhost:8080/"
        },
        "id": "2Mb_Mp8zJg_O",
        "outputId": "1f8c9f60-44e2-47fd-b222-9f77957e50d4"
      },
      "execution_count": 122,
      "outputs": [
        {
          "output_type": "stream",
          "name": "stdout",
          "text": [
            "가해자을 대표하는 단어들:\n",
            "하다, 보다, 지금, 알다, 되다, 진짜, 죽다, 우리, 오다, 주다, 그냥, 사람, 가다, 맞다, 돼다, 버리다, 먹다, 새끼, 해주다, 오늘, 들다, 자다, 않다, 나오다, 빌리다, 모르다, 싶다, 다니다, 하나, 여기, \n",
            "\n",
            "피해자을 대표하는 단어들:\n",
            "하다, 알다, 제발, 진짜, 돼다, 무슨, 지금, 보다, 정말, 되다, 말다, 그게, 말씀, 우리, 살리다, 이르다, 가다, 주다, 드리다, 않다, 부장, 해주다, 사람, 나다, 시간, 여기, 오늘, 오다, 모르다, 이번, "
          ]
        }
      ]
    },
    {
      "cell_type": "code",
      "source": [
        "n = 15\n",
        "w1_, w2_ = [], []\n",
        "\n",
        "for i in range(100):\n",
        "    w1_.append(vectorizer.get_feature_names()[w1[i][0]])\n",
        "    w2_.append(vectorizer.get_feature_names()[w2[i][0]])\n",
        "\n",
        "target_attack, target_damaged = [], []\n",
        "\n",
        "for i in range(100):\n",
        "    if (w1_[i] not in w2_) : target_attack.append(w1_[i])\n",
        "    if len(target_attack) == n: break \n",
        "\n",
        "for i in range(100):\n",
        "    if (w2_[i] not in w1_) : target_damaged.append(w2_[i])\n",
        "    if len(target_damaged) == n: break"
      ],
      "metadata": {
        "id": "51SPL3wXJlcL"
      },
      "execution_count": 123,
      "outputs": []
    },
    {
      "cell_type": "code",
      "source": [
        "target = [target_attack, target_damaged]\n",
        "\n",
        "for i, c in enumerate(class_name):\n",
        "    print(c+' :')\n",
        "    print(target[i])\n",
        "    print()"
      ],
      "metadata": {
        "colab": {
          "base_uri": "https://localhost:8080/"
        },
        "id": "CeBd4YohJxhk",
        "outputId": "8acdf4ce-6c04-458b-bb1e-160db2f410aa"
      },
      "execution_count": 124,
      "outputs": [
        {
          "output_type": "stream",
          "name": "stdout",
          "text": [
            "가해자 :\n",
            "['버리다', '새끼', '다니다', '하나', '내놓다', '죽이다', '치다', '자네', '생기다', '당장', '얼굴', '살다', '누가', '따다', '뒤지다']\n",
            "\n",
            "피해자 :\n",
            "['제발', '정말', '말씀', '살리다', '드리다', '부장', '저희', '고객', '조금', '손님', '과장', '갑자기', '돌려주다', '미안', '저번']\n",
            "\n"
          ]
        }
      ]
    },
    {
      "cell_type": "markdown",
      "source": [
        "# 토크나이저X, 띄어쓰기로 토큰화"
      ],
      "metadata": {
        "id": "9omSSXQ6ISkJ"
      }
    },
    {
      "cell_type": "code",
      "source": [
        "import re\n",
        "\n",
        "def read_token(Class):\n",
        "    result = []\n",
        "    for c in Class:\n",
        "        c = re.sub('\\n', ' ', c)\n",
        "        tokenlist = c.split(' ')\n",
        "        for word in tokenlist:\n",
        "            result.append(word)\n",
        "\n",
        "    return ' '.join(result)"
      ],
      "metadata": {
        "id": "xJGu_SWAIL47"
      },
      "execution_count": 135,
      "outputs": []
    },
    {
      "cell_type": "code",
      "source": [
        "etc = data[data['class']=='기타 괴롭힘 대화'].reset_index(drop=True).spell_checked_conversation\n",
        "etc_list = read_token(etc)\n",
        "\n",
        "extort = data[data['class']=='갈취 대화'].reset_index(drop=True).spell_checked_conversation\n",
        "extort_list = read_token(extort)\n",
        "\n",
        "company = data[data['class']=='직장 내 괴롭힘 대화'].reset_index(drop=True).spell_checked_conversation\n",
        "company_list = read_token(company)\n",
        "\n",
        "blackmaile = data[data['class']=='협박 대화'].reset_index(drop=True).spell_checked_conversation\n",
        "blackmaile_list = read_token(blackmaile)\n",
        "\n",
        "len(etc_list),len(extort_list), len(company_list), len(blackmaile_list)"
      ],
      "metadata": {
        "colab": {
          "base_uri": "https://localhost:8080/"
        },
        "id": "lkoArg_iJHHn",
        "outputId": "43eece76-6953-4473-ecd6-106c55318f8d"
      },
      "execution_count": 136,
      "outputs": [
        {
          "output_type": "execute_result",
          "data": {
            "text/plain": [
              "(231751, 217247, 237804, 226287)"
            ]
          },
          "metadata": {},
          "execution_count": 136
        }
      ]
    },
    {
      "cell_type": "code",
      "source": [
        "Class = []\n",
        "Class.append(etc_list)\n",
        "Class.append(extort_list)\n",
        "Class.append(company_list)\n",
        "Class.append(blackmaile_list)\n",
        "len(Class)"
      ],
      "metadata": {
        "colab": {
          "base_uri": "https://localhost:8080/"
        },
        "id": "htIafQlKNbqC",
        "outputId": "b328067d-7093-451d-f9c7-ae15111b80be"
      },
      "execution_count": 141,
      "outputs": [
        {
          "output_type": "execute_result",
          "data": {
            "text/plain": [
              "4"
            ]
          },
          "metadata": {},
          "execution_count": 141
        }
      ]
    },
    {
      "cell_type": "code",
      "source": [
        "# TF-IDF행렬(X) 생성\n",
        "vectorizer = TfidfVectorizer()\n",
        "X = vectorizer.fit_transform(Class)\n",
        "print(X.shape)"
      ],
      "metadata": {
        "colab": {
          "base_uri": "https://localhost:8080/"
        },
        "id": "p7paxWdtNd6v",
        "outputId": "a123c284-c1df-490e-8bb0-1e30efe081a9"
      },
      "execution_count": 140,
      "outputs": [
        {
          "output_type": "stream",
          "name": "stdout",
          "text": [
            "(4, 39600)\n"
          ]
        }
      ]
    },
    {
      "cell_type": "code",
      "source": [
        "class_name = ['기타 괴롭힘 대화', '갈취 대화', '직장 내 괴롭힘 대화', '협박 대화']\n",
        "\n",
        "m1 = X[0].tocoo()\n",
        "m2 = X[1].tocoo() \n",
        "m3 = X[2].tocoo()\n",
        "m4 = X[3].tocoo()\n",
        "\n",
        "w1 = [[i, j] for i, j in zip(m1.col, m1.data)] \n",
        "w2 = [[i, j] for i, j in zip(m2.col, m2.data)]\n",
        "w3 = [[i, j] for i, j in zip(m3.col, m2.data)]\n",
        "w4 = [[i, j] for i, j in zip(m4.col, m2.data)]\n",
        "\n",
        "w1.sort(key=lambda x: x[1], reverse=True) \n",
        "w2.sort(key=lambda x: x[1], reverse=True)\n",
        "w3.sort(key=lambda x: x[1], reverse=True)\n",
        "w4.sort(key=lambda x: x[1], reverse=True)"
      ],
      "metadata": {
        "id": "ddhVkuKiNhvX"
      },
      "execution_count": 142,
      "outputs": []
    },
    {
      "cell_type": "code",
      "source": [
        "print(\"기타괴롭힘을 대표하는 단어들:\")\n",
        "for i in range(30):\n",
        "    print(vectorizer.get_feature_names()[w1[i][0]], end=', ')\n",
        "\n",
        "print('\\n')\n",
        "\n",
        "print('갈취 대화을 대표하는 단어들:')\n",
        "for i in range(30):\n",
        "    print(vectorizer.get_feature_names()[w2[i][0]], end=', ')\n",
        "\n",
        "print('\\n')\n",
        "\n",
        "print('직장 내 괴롭힘을 대표하는 단어들:')\n",
        "for i in range(30):\n",
        "    print(vectorizer.get_feature_names()[w3[i][0]], end=', ')\n",
        "\n",
        "print('\\n')\n",
        "\n",
        "print('협박을 대표하는 단어들:')\n",
        "for i in range(30):\n",
        "    print(vectorizer.get_feature_names()[w4[i][0]], end=', ')"
      ],
      "metadata": {
        "colab": {
          "base_uri": "https://localhost:8080/"
        },
        "id": "YezGRW8GNkm-",
        "outputId": "1f0b311c-8d4d-4c05-acc3-0e57e1e17550"
      },
      "execution_count": 143,
      "outputs": [
        {
          "output_type": "stream",
          "name": "stdout",
          "text": [
            "기타괴롭힘을 대표하는 단어들:\n",
            "내가, 진짜, 네가, 거야, 아니, 그냥, 그래, 무슨, 아니야, 그런, 그렇게, 우리, 지금, 하지, 죄송합니다, 너무, 그럼, 이거, 고객님, 어떻게, 여기, 제발, 그만해, 제가, 이렇게, 하는, 같은, 말이, 너네, 손님, \n",
            "\n",
            "갈취 대화을 대표하는 단어들:\n",
            "내가, 진짜, 그럼, 이거, 아니, 지금, 그래, 거야, 없어, 돈이, 그냥, 내놔, 없어요, 무슨, 안돼, 제발, 네가, 빨리, 제가, 나도, 원만, 그건, 우리, 있어, 있는, 어떻게, 정말, 오늘, 여기, 빌려줘, \n",
            "\n",
            "직장 내 괴롭힘을 대표하는 단어들:\n",
            "처리, 약속, 사장님이, 넘어, 카페에, 있거든, 그럼요, 너흰, 해줄까, 이름은, 먹으면서, 죄송한, 오세요, 관심이지, 미안해요, 해주면, 거잖아요, 괜찮습니다, 맞아요, 꼬시려고, 창피해서, 알겠냐, 버는, 보여줄게, 어울려, 말하기만, 그런다고, 있어야지, 하는지, 햄버거, \n",
            "\n",
            "협박을 대표하는 단어들:\n",
            "아니긴, 내놔, 나네, 있는지, 한마디, 넘어, 가져가, 웃긴다, 이만, 걸지, 거짓말하는, 준비하고, 해주면, 말씀, 기저귀, 시비, 돼요, 우습게, 피해, 맞나요, 번이나, 한국에서, 능력, 싫어요, 아니고요, 사람으로, 할머니, 구경하고, 싫다고, 죄를, "
          ]
        }
      ]
    },
    {
      "cell_type": "code",
      "source": [
        "n = 15\n",
        "w1_, w2_, w3_, w4_ = [], [], [], []\n",
        "\n",
        "for i in range(100):\n",
        "    w1_.append(vectorizer.get_feature_names()[w1[i][0]])\n",
        "    w2_.append(vectorizer.get_feature_names()[w2[i][0]])\n",
        "    w3_.append(vectorizer.get_feature_names()[w3[i][0]])\n",
        "    w4_.append(vectorizer.get_feature_names()[w4[i][0]])\n",
        "\n",
        "target_etc, target_extort, target_company, target_blackmaile = [], [], [], []\n",
        "\n",
        "for i in range(100):\n",
        "    if (w1_[i] not in w2_ + w3_ + w4_) : target_etc.append(w1_[i])\n",
        "    if len(target_etc) == n: break \n",
        "\n",
        "for i in range(100):\n",
        "    if (w2_[i] not in w1_ + w3_ + w4_) : target_extort.append(w2_[i])\n",
        "    if len(target_extort) == n: break\n",
        "\n",
        "for i in range(100):\n",
        "    if (w3_[i] not in w1_ + w2_ + w4_) : target_company.append(w3_[i])\n",
        "    if len(target_company) == n: break\n",
        "\n",
        "for i in range(100):\n",
        "    if (w4_[i] not in w1_ + w2_ + w3_) : target_blackmaile.append(w4_[i])\n",
        "    if len(target_blackmaile) == n: break"
      ],
      "metadata": {
        "id": "xlm7MIfTNrMy"
      },
      "execution_count": 144,
      "outputs": []
    },
    {
      "cell_type": "code",
      "source": [
        "target = [target_etc, target_extort, target_company, target_blackmaile]\n",
        "\n",
        "for i, c in enumerate(class_name):\n",
        "    print(c+' :')\n",
        "    print(target[i])\n",
        "    print()"
      ],
      "metadata": {
        "colab": {
          "base_uri": "https://localhost:8080/"
        },
        "id": "Ckmek8jhNrHv",
        "outputId": "007f54b6-71ad-499a-cfda-16672c9cec6e"
      },
      "execution_count": 145,
      "outputs": [
        {
          "output_type": "stream",
          "name": "stdout",
          "text": [
            "기타 괴롭힘 대화 :\n",
            "['하지', '고객님', '그만해', '하는', '같은', '말이', '손님', '너는', '그만', '기분', '뭐가', '나는', '얘들아', '거지', '것도']\n",
            "\n",
            "갈취 대화 :\n",
            "['돈이', '없어요', '안돼', '원만', '빌려줘', '좋은', '안돼요', '알겠어', '줄래', '빌려주라', '돈을', '얼마', '뒤져서', '거기', '이건']\n",
            "\n",
            "직장 내 괴롭힘 대화 :\n",
            "['처리', '약속', '사장님이', '있거든', '너흰', '해줄까', '이름은', '먹으면서', '죄송한', '오세요', '관심이지', '미안해요', '거잖아요', '괜찮습니다', '맞아요']\n",
            "\n",
            "협박 대화 :\n",
            "['아니긴', '나네', '있는지', '한마디', '가져가', '웃긴다', '이만', '걸지', '거짓말하는', '준비하고', '말씀', '기저귀', '시비', '돼요', '우습게']\n",
            "\n"
          ]
        }
      ]
    },
    {
      "cell_type": "markdown",
      "source": [
        "# 띄어쓰기(가해자,피해자)"
      ],
      "metadata": {
        "id": "5K9qjI6ROU9f"
      }
    },
    {
      "cell_type": "code",
      "source": [
        "import re\n",
        "\n",
        "def read_token(Class):\n",
        "    result = []\n",
        "    for c in Class:\n",
        "        c = re.sub('\\n', ' ', c)\n",
        "        tokenlist = c.split(' ')\n",
        "        for word in tokenlist:\n",
        "            result.append(word)\n",
        "\n",
        "    return ' '.join(result)"
      ],
      "metadata": {
        "id": "TasCsYTbOUNU"
      },
      "execution_count": 146,
      "outputs": []
    },
    {
      "cell_type": "code",
      "source": [
        "attack_list = read_token(attack)\n",
        "damaged_list = read_token(damaged)"
      ],
      "metadata": {
        "id": "JVnL046oOg7z"
      },
      "execution_count": 147,
      "outputs": []
    },
    {
      "cell_type": "code",
      "source": [
        "Class = []\n",
        "Class.append(attack_list)\n",
        "Class.append(damaged_list)\n",
        "len(Class)"
      ],
      "metadata": {
        "colab": {
          "base_uri": "https://localhost:8080/"
        },
        "id": "wB_iR6rdOmTV",
        "outputId": "f4b92d20-7680-4492-bbd6-ae2a00d7ec51"
      },
      "execution_count": 148,
      "outputs": [
        {
          "output_type": "execute_result",
          "data": {
            "text/plain": [
              "2"
            ]
          },
          "metadata": {},
          "execution_count": 148
        }
      ]
    },
    {
      "cell_type": "code",
      "source": [
        "# TF-IDF행렬(X) 생성\n",
        "vectorizer = TfidfVectorizer()\n",
        "X = vectorizer.fit_transform(Class)\n",
        "print(X.shape)"
      ],
      "metadata": {
        "colab": {
          "base_uri": "https://localhost:8080/"
        },
        "id": "54p5IFlJOoXw",
        "outputId": "679467f2-093b-469e-93bc-047f124f165a"
      },
      "execution_count": 149,
      "outputs": [
        {
          "output_type": "stream",
          "name": "stdout",
          "text": [
            "(2, 51013)\n"
          ]
        }
      ]
    },
    {
      "cell_type": "code",
      "source": [
        "class_name = ['가해자', '피해자']\n",
        "\n",
        "m1 = X[0].tocoo()\n",
        "m2 = X[1].tocoo() \n",
        "\n",
        "w1 = [[i, j] for i, j in zip(m1.col, m1.data)] \n",
        "w2 = [[i, j] for i, j in zip(m2.col, m2.data)]\n",
        "\n",
        "w1.sort(key=lambda x: x[1], reverse=True) \n",
        "w2.sort(key=lambda x: x[1], reverse=True)"
      ],
      "metadata": {
        "id": "M6ZGdXB5Os-g"
      },
      "execution_count": 150,
      "outputs": []
    },
    {
      "cell_type": "code",
      "source": [
        "print(\"가해자을 대표하는 단어들:\")\n",
        "for i in range(30):\n",
        "    print(vectorizer.get_feature_names()[w1[i][0]], end=', ')\n",
        "\n",
        "print('\\n')\n",
        "\n",
        "print('피해자을 대표하는 단어들:')\n",
        "for i in range(30):\n",
        "    print(vectorizer.get_feature_names()[w2[i][0]], end=', ')"
      ],
      "metadata": {
        "colab": {
          "base_uri": "https://localhost:8080/"
        },
        "id": "U72Cn336OwBK",
        "outputId": "398a58a4-c8ff-42cf-e290-61827db19ef1"
      },
      "execution_count": 151,
      "outputs": [
        {
          "output_type": "stream",
          "name": "stdout",
          "text": [
            "가해자을 대표하는 단어들:\n",
            "내가, 그럼, 지금, 아니, 그냥, 진짜, 그래, 니가, 이거, 그렇게, 우리, 오늘, 빨리, 너가, 어떻게, 이렇게, 있어, 무슨, 너무, 없어, 여기, 아니야, 나도, 알아, 당장, 이게, 근데, 내놔, 나한테, 같이, \n",
            "\n",
            "피해자을 대표하는 단어들:\n",
            "죄송합니다, 제발, 제가, 내가, 진짜, 아니, 무슨, 지금, 정말, 아니야, 그게, 그건, 미안해, 이거, 아닙니다, 너무, 알겠습니다, 안돼, 없어요, 어떻게, 그래, 우리, 그렇게, 없어, 그래도, 부장님, 그냥, 그런, 나도, 그럼, "
          ]
        }
      ]
    },
    {
      "cell_type": "code",
      "source": [
        "n = 15\n",
        "w1_, w2_ = [], []\n",
        "\n",
        "for i in range(100):\n",
        "    w1_.append(vectorizer.get_feature_names()[w1[i][0]])\n",
        "    w2_.append(vectorizer.get_feature_names()[w2[i][0]])\n",
        "\n",
        "target_attack, target_damaged = [], []\n",
        "\n",
        "for i in range(100):\n",
        "    if (w1_[i] not in w2_) : target_attack.append(w1_[i])\n",
        "    if len(target_attack) == n: break \n",
        "\n",
        "for i in range(100):\n",
        "    if (w2_[i] not in w1_) : target_damaged.append(w2_[i])\n",
        "    if len(target_damaged) == n: break\n",
        "\n",
        "target = [target_etc, target_extort, target_company, target_blackmaile]\n",
        "\n",
        "for i, c in enumerate(class_name):\n",
        "    print(c+' :')\n",
        "    print(target[i])\n",
        "    print()"
      ],
      "metadata": {
        "colab": {
          "base_uri": "https://localhost:8080/"
        },
        "id": "yIOExrbrOyej",
        "outputId": "af94ee6c-d3ef-4973-9091-703998cbc912"
      },
      "execution_count": 152,
      "outputs": [
        {
          "output_type": "stream",
          "name": "stdout",
          "text": [
            "가해자 :\n",
            "['하지', '고객님', '그만해', '하는', '같은', '말이', '손님', '너는', '그만', '기분', '뭐가', '나는', '얘들아', '거지', '것도']\n",
            "\n",
            "피해자 :\n",
            "['돈이', '없어요', '안돼', '원만', '빌려줘', '좋은', '안돼요', '알겠어', '줄래', '빌려주라', '돈을', '얼마', '뒤져서', '거기', '이건']\n",
            "\n"
          ]
        }
      ]
    }
  ]
}