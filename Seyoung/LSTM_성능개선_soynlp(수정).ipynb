{
 "cells": [
  {
   "cell_type": "code",
   "execution_count": 1,
   "metadata": {
    "colab": {
     "base_uri": "https://localhost:8080/"
    },
    "id": "TUJdwb8YGCG3",
    "outputId": "dff4ebc5-70e2-4d3d-b43a-6f18745c0ce6"
   },
   "outputs": [
    {
     "name": "stdout",
     "output_type": "stream",
     "text": [
      "Requirement already satisfied: soynlp in /opt/conda/lib/python3.9/site-packages (0.0.493)\n",
      "Requirement already satisfied: numpy>=1.12.1 in /opt/conda/lib/python3.9/site-packages (from soynlp) (1.21.4)\n",
      "Requirement already satisfied: scipy>=1.1.0 in /opt/conda/lib/python3.9/site-packages (from soynlp) (1.7.1)\n",
      "Requirement already satisfied: psutil>=5.0.1 in /opt/conda/lib/python3.9/site-packages (from soynlp) (5.8.0)\n",
      "Requirement already satisfied: scikit-learn>=0.20.0 in /opt/conda/lib/python3.9/site-packages (from soynlp) (1.0)\n",
      "Requirement already satisfied: threadpoolctl>=2.0.0 in /opt/conda/lib/python3.9/site-packages (from scikit-learn>=0.20.0->soynlp) (3.0.0)\n",
      "Requirement already satisfied: joblib>=0.11 in /opt/conda/lib/python3.9/site-packages (from scikit-learn>=0.20.0->soynlp) (1.1.0)\n",
      "\u001b[33mWARNING: Running pip as the 'root' user can result in broken permissions and conflicting behaviour with the system package manager. It is recommended to use a virtual environment instead: https://pip.pypa.io/warnings/venv\u001b[0m\n"
     ]
    }
   ],
   "source": [
    "!pip install soynlp"
   ]
  },
  {
   "cell_type": "code",
   "execution_count": 2,
   "metadata": {
    "id": "ppAVcCev7Td6"
   },
   "outputs": [],
   "source": [
    "import pandas as pd\n",
    "import tensorflow as tf\n",
    "import numpy as np\n",
    "from tensorflow.keras.preprocessing.text import Tokenizer\n",
    "from tensorflow.keras.preprocessing.sequence import pad_sequences\n",
    "from konlpy.tag import Okt, Mecab\n",
    "from soynlp.word import WordExtractor"
   ]
  },
  {
   "cell_type": "markdown",
   "metadata": {
    "id": "L8cyv2XpOllF"
   },
   "source": [
    "# 데이터\n",
    "- 전처리 및 맞춤법 검사가 된 문장"
   ]
  },
  {
   "cell_type": "code",
   "execution_count": 3,
   "metadata": {
    "colab": {
     "base_uri": "https://localhost:8080/",
     "height": 425
    },
    "id": "CJ3lGtgaCMCz",
    "outputId": "3659dc8b-dc24-4f8e-8f4f-d7035fc5833a"
   },
   "outputs": [
    {
     "data": {
      "text/html": [
       "<div>\n",
       "<style scoped>\n",
       "    .dataframe tbody tr th:only-of-type {\n",
       "        vertical-align: middle;\n",
       "    }\n",
       "\n",
       "    .dataframe tbody tr th {\n",
       "        vertical-align: top;\n",
       "    }\n",
       "\n",
       "    .dataframe thead th {\n",
       "        text-align: right;\n",
       "    }\n",
       "</style>\n",
       "<table border=\"1\" class=\"dataframe\">\n",
       "  <thead>\n",
       "    <tr style=\"text-align: right;\">\n",
       "      <th></th>\n",
       "      <th>Unnamed: 0</th>\n",
       "      <th>non_label_sentence</th>\n",
       "      <th>label_sentence</th>\n",
       "      <th>class</th>\n",
       "      <th>binary_class</th>\n",
       "    </tr>\n",
       "  </thead>\n",
       "  <tbody>\n",
       "    <tr>\n",
       "      <th>0</th>\n",
       "      <td>0</td>\n",
       "      <td>아오 요즘 맨날 늦게 자고 일찍 일어나니까 피부가 꺼슬꺼슬 다크 서클 잔뜩 내려옴\\...</td>\n",
       "      <td>1:아오 요즘 맨날 늦게 자고 일찍 일어나니까 피부가 꺼슬꺼슬 다크 서클 잔뜩 내려...</td>\n",
       "      <td>일반 대화</td>\n",
       "      <td>일반 대화</td>\n",
       "    </tr>\n",
       "    <tr>\n",
       "      <th>1</th>\n",
       "      <td>1</td>\n",
       "      <td>고양이를 키우는 건 정말 즐거운 일이야 감자를 캐자\\n우리집 고양이는 보일러 틀어주...</td>\n",
       "      <td>1:고양이를 키우는 건 정말 즐거운 일이야 감자를 캐자\\n2:우리집 고양이는 보일러...</td>\n",
       "      <td>일반 대화</td>\n",
       "      <td>일반 대화</td>\n",
       "    </tr>\n",
       "    <tr>\n",
       "      <th>2</th>\n",
       "      <td>2</td>\n",
       "      <td>조금 전에 뉴스 본 거 있어\\n아니 뉴스에 무슨 기사 떴어\\n완전 조금 전에 대박 ...</td>\n",
       "      <td>1:조금 전에 뉴스 본 거 있어\\n2:아니 뉴스에 무슨 기사 떴어\\n1:완전 조금 ...</td>\n",
       "      <td>일반 대화</td>\n",
       "      <td>일반 대화</td>\n",
       "    </tr>\n",
       "    <tr>\n",
       "      <th>3</th>\n",
       "      <td>3</td>\n",
       "      <td>난 강아지 같은 푸근한 인상이 좋아\\n오 나는 원래 고양이 상 좋아했는데 나도 강아...</td>\n",
       "      <td>1:난 강아지 같은 푸근한 인상이 좋아\\n2:오 나는 원래 고양이 상 좋아했는데 나...</td>\n",
       "      <td>일반 대화</td>\n",
       "      <td>일반 대화</td>\n",
       "    </tr>\n",
       "    <tr>\n",
       "      <th>4</th>\n",
       "      <td>4</td>\n",
       "      <td>니는 폰 게임 자주 하는 편이가\\n가끔 삘 받으면 하긴 하는데 거의 안 하는 편 너...</td>\n",
       "      <td>1:니는 폰 게임 자주 하는 편이가\\n2:가끔 삘 받으면 하긴 하는데 거의 안 하는...</td>\n",
       "      <td>일반 대화</td>\n",
       "      <td>일반 대화</td>\n",
       "    </tr>\n",
       "  </tbody>\n",
       "</table>\n",
       "</div>"
      ],
      "text/plain": [
       "   Unnamed: 0                                 non_label_sentence  \\\n",
       "0           0  아오 요즘 맨날 늦게 자고 일찍 일어나니까 피부가 꺼슬꺼슬 다크 서클 잔뜩 내려옴\\...   \n",
       "1           1  고양이를 키우는 건 정말 즐거운 일이야 감자를 캐자\\n우리집 고양이는 보일러 틀어주...   \n",
       "2           2  조금 전에 뉴스 본 거 있어\\n아니 뉴스에 무슨 기사 떴어\\n완전 조금 전에 대박 ...   \n",
       "3           3  난 강아지 같은 푸근한 인상이 좋아\\n오 나는 원래 고양이 상 좋아했는데 나도 강아...   \n",
       "4           4  니는 폰 게임 자주 하는 편이가\\n가끔 삘 받으면 하긴 하는데 거의 안 하는 편 너...   \n",
       "\n",
       "                                      label_sentence  class binary_class  \n",
       "0  1:아오 요즘 맨날 늦게 자고 일찍 일어나니까 피부가 꺼슬꺼슬 다크 서클 잔뜩 내려...  일반 대화        일반 대화  \n",
       "1  1:고양이를 키우는 건 정말 즐거운 일이야 감자를 캐자\\n2:우리집 고양이는 보일러...  일반 대화        일반 대화  \n",
       "2  1:조금 전에 뉴스 본 거 있어\\n2:아니 뉴스에 무슨 기사 떴어\\n1:완전 조금 ...  일반 대화        일반 대화  \n",
       "3  1:난 강아지 같은 푸근한 인상이 좋아\\n2:오 나는 원래 고양이 상 좋아했는데 나...  일반 대화        일반 대화  \n",
       "4  1:니는 폰 게임 자주 하는 편이가\\n2:가끔 삘 받으면 하긴 하는데 거의 안 하는...  일반 대화        일반 대화  "
      ]
     },
     "execution_count": 3,
     "metadata": {},
     "output_type": "execute_result"
    }
   ],
   "source": [
    "data = pd.read_csv('/aiffel/train_1000.csv')\n",
    "data.head()"
   ]
  },
  {
   "cell_type": "code",
   "execution_count": 4,
   "metadata": {},
   "outputs": [
    {
     "name": "stdout",
     "output_type": "stream",
     "text": [
      "training was done. used memory 0.507 Gbry 0.413 Gb\n",
      "all cohesion probabilities was computed. # words = 1012\n",
      "all branching entropies was computed # words = 26160\n",
      "all accessor variety was computed # words = 26160\n"
     ]
    },
    {
     "data": {
      "text/plain": [
       "(4913, 433)"
      ]
     },
     "execution_count": 4,
     "metadata": {},
     "output_type": "execute_result"
    }
   ],
   "source": [
    "sentences = data.non_label_sentence\n",
    "sentences = [sen for sen in sentences]\n",
    "\n",
    "from soynlp.tokenizer import LTokenizer\n",
    "vocab_size = 30000\n",
    "\n",
    "word_extractor = WordExtractor(\n",
    "    min_frequency=100, # example\n",
    "    min_cohesion_forward=0.05,\n",
    "    min_right_branching_entropy=0.0\n",
    ")\n",
    "\n",
    "word_extractor.train(sentences)\n",
    "words = word_extractor.extract()\n",
    "\n",
    "cohesion_score = {word:score.cohesion_forward for word, score in words.items()}\n",
    "tokenizer = LTokenizer(scores=cohesion_score)\n",
    "\n",
    "sentences = [tokenizer.tokenize(sen) for sen in sentences]\n",
    "tokenizer_tf = Tokenizer(num_words=vocab_size)\n",
    "tokenizer_tf.fit_on_texts(sentences)\n",
    "word_dic = tokenizer_tf.word_index\n",
    "sequences = tokenizer_tf.texts_to_sequences(sentences)\n",
    "padded = pad_sequences(sequences)\n",
    "np.shape(padded)"
   ]
  },
  {
   "cell_type": "code",
   "execution_count": 5,
   "metadata": {
    "scrolled": true
   },
   "outputs": [
    {
     "data": {
      "text/plain": [
       "52616"
      ]
     },
     "execution_count": 5,
     "metadata": {},
     "output_type": "execute_result"
    }
   ],
   "source": [
    "len(word_dic)"
   ]
  },
  {
   "cell_type": "code",
   "execution_count": 6,
   "metadata": {
    "colab": {
     "base_uri": "https://localhost:8080/"
    },
    "id": "ecw2j-NTIvvu",
    "outputId": "6dd99533-cdd5-450b-fa09-be78c32752e6"
   },
   "outputs": [
    {
     "name": "stdout",
     "output_type": "stream",
     "text": [
      "4913 4913\n"
     ]
    }
   ],
   "source": [
    "train_data = padded\n",
    "train_label = data['class']\n",
    "print(len(train_data), len(train_label))"
   ]
  },
  {
   "cell_type": "code",
   "execution_count": 7,
   "metadata": {
    "colab": {
     "base_uri": "https://localhost:8080/"
    },
    "id": "qt0u-2UTKUsF",
    "outputId": "3789632e-f39d-4718-e403-a144f0db6713"
   },
   "outputs": [
    {
     "name": "stdout",
     "output_type": "stream",
     "text": [
      "3930 491 492\n",
      "3930 491 492\n"
     ]
    }
   ],
   "source": [
    "labels = {'직장 내 괴롭힘 대화':0, '기타 괴롭힘 대화':1, '갈취 대화':2, '협박 대화':3, '일반 대화': 4}\n",
    "train_label = train_label.apply(lambda x: labels[x])\n",
    "train_label = pd.get_dummies(train_label)\n",
    "\n",
    "from sklearn.model_selection import train_test_split\n",
    "\n",
    "train_X, test_X, train_Y, test_Y = train_test_split(train_data, train_label, test_size=0.2, random_state=22)\n",
    "valid_X, test_X, valid_Y, test_Y = train_test_split(test_X, test_Y, test_size=0.5, random_state=22)\n",
    "\n",
    "print(len(train_X), len(valid_X), len(test_X))\n",
    "print(len(train_Y), len(valid_Y), len(test_Y))"
   ]
  },
  {
   "cell_type": "markdown",
   "metadata": {
    "id": "RzB2haBJLJoH"
   },
   "source": [
    "# 모델 \n",
    "- LSTM 사용"
   ]
  },
  {
   "cell_type": "code",
   "execution_count": 8,
   "metadata": {
    "colab": {
     "base_uri": "https://localhost:8080/"
    },
    "id": "C8kkPNDrLKZ7",
    "outputId": "8457f8f7-ebd4-4ea3-b938-93b4c4e8b1e6"
   },
   "outputs": [
    {
     "name": "stdout",
     "output_type": "stream",
     "text": [
      "Model: \"sequential\"\n",
      "_________________________________________________________________\n",
      "Layer (type)                 Output Shape              Param #   \n",
      "=================================================================\n",
      "embedding (Embedding)        (None, None, 1024)        30720000  \n",
      "_________________________________________________________________\n",
      "lstm (LSTM)                  (None, None, 128)         590336    \n",
      "_________________________________________________________________\n",
      "lstm_1 (LSTM)                (None, None, 128)         131584    \n",
      "_________________________________________________________________\n",
      "lstm_2 (LSTM)                (None, 64)                49408     \n",
      "_________________________________________________________________\n",
      "dense (Dense)                (None, 30000)             1950000   \n",
      "_________________________________________________________________\n",
      "dropout (Dropout)            (None, 30000)             0         \n",
      "_________________________________________________________________\n",
      "dense_1 (Dense)              (None, 5)                 150005    \n",
      "=================================================================\n",
      "Total params: 33,591,333\n",
      "Trainable params: 33,591,333\n",
      "Non-trainable params: 0\n",
      "_________________________________________________________________\n"
     ]
    }
   ],
   "source": [
    "word_vector_dim = 1024\n",
    "labels_size = len(labels)\n",
    "hidden_size = 128\n",
    "\n",
    "model = tf.keras.Sequential()\n",
    "model.add(tf.keras.layers.Embedding(vocab_size, word_vector_dim, input_shape=(None,)))\n",
    "model.add(tf.keras.layers.LSTM(hidden_size, return_sequences=True))\n",
    "model.add(tf.keras.layers.LSTM(hidden_size, return_sequences=True))\n",
    "model.add(tf.keras.layers.LSTM(hidden_size//2))\n",
    "model.add(tf.keras.layers.Dense(vocab_size, activation='relu'))\n",
    "model.add(tf.keras.layers.Dropout(0.4))\n",
    "model.add(tf.keras.layers.Dense(labels_size, activation='softmax'))\n",
    "\n",
    "model.summary()"
   ]
  },
  {
   "cell_type": "code",
   "execution_count": 9,
   "metadata": {
    "colab": {
     "base_uri": "https://localhost:8080/",
     "height": 500
    },
    "id": "a0sS-wccLaok",
    "outputId": "78166618-b960-4af9-b3da-dabbb73cdf2b"
   },
   "outputs": [
    {
     "name": "stdout",
     "output_type": "stream",
     "text": [
      "Epoch 1/10\n",
      "16/16 [==============================] - 10s 277ms/step - loss: 1.3814 - accuracy: 0.3570 - val_loss: 0.8895 - val_accuracy: 0.6640\n",
      "Epoch 2/10\n",
      "16/16 [==============================] - 4s 230ms/step - loss: 0.5633 - accuracy: 0.7878 - val_loss: 0.5581 - val_accuracy: 0.7760\n",
      "Epoch 3/10\n",
      "16/16 [==============================] - 4s 228ms/step - loss: 0.1732 - accuracy: 0.9440 - val_loss: 0.6844 - val_accuracy: 0.8065\n",
      "Epoch 4/10\n",
      "16/16 [==============================] - 4s 238ms/step - loss: 0.0430 - accuracy: 0.9868 - val_loss: 0.8150 - val_accuracy: 0.8167\n",
      "Epoch 5/10\n",
      "16/16 [==============================] - 4s 231ms/step - loss: 0.0297 - accuracy: 0.9911 - val_loss: 0.9039 - val_accuracy: 0.8228\n",
      "Epoch 6/10\n",
      "16/16 [==============================] - 4s 237ms/step - loss: 0.0144 - accuracy: 0.9957 - val_loss: 0.9907 - val_accuracy: 0.8147\n",
      "Epoch 7/10\n",
      "16/16 [==============================] - 4s 237ms/step - loss: 0.0221 - accuracy: 0.9931 - val_loss: 0.9547 - val_accuracy: 0.8045\n",
      "Epoch 8/10\n",
      "16/16 [==============================] - 4s 235ms/step - loss: 0.0144 - accuracy: 0.9954 - val_loss: 1.2252 - val_accuracy: 0.7882\n",
      "Epoch 9/10\n",
      "16/16 [==============================] - 4s 238ms/step - loss: 0.0144 - accuracy: 0.9962 - val_loss: 1.0326 - val_accuracy: 0.8004\n",
      "Epoch 10/10\n",
      "16/16 [==============================] - 4s 233ms/step - loss: 0.0083 - accuracy: 0.9982 - val_loss: 1.0429 - val_accuracy: 0.8208\n"
     ]
    }
   ],
   "source": [
    "model.compile(optimizer='adam',\n",
    "              loss='categorical_crossentropy',\n",
    "              metrics=['accuracy'])\n",
    "              \n",
    "epochs=10\n",
    "\n",
    "history = model.fit(train_X,\n",
    "                    train_Y,\n",
    "                    epochs=epochs,\n",
    "                    batch_size=256,\n",
    "                    validation_data=(valid_X, valid_Y),\n",
    "                    verbose=1)"
   ]
  },
  {
   "cell_type": "code",
   "execution_count": 28,
   "metadata": {
    "id": "TO27X8V71GuQ",
    "scrolled": true
   },
   "outputs": [
    {
     "name": "stdout",
     "output_type": "stream",
     "text": [
      "              precision    recall  f1-score   support\n",
      "\n",
      "           0       0.82      0.81      0.82       110\n",
      "           1       0.74      0.70      0.72       115\n",
      "           2       0.86      0.70      0.77        94\n",
      "           3       0.60      0.80      0.69        69\n",
      "           4       0.92      0.95      0.93       104\n",
      "\n",
      "    accuracy                           0.79       492\n",
      "   macro avg       0.79      0.79      0.79       492\n",
      "weighted avg       0.80      0.79      0.79       492\n",
      "\n"
     ]
    }
   ],
   "source": [
    "pred = model.predict(test_X)\n",
    "\n",
    "from sklearn.metrics import classification_report\n",
    "\n",
    "pred_label = []\n",
    "test_label = []\n",
    "\n",
    "for i in range(len(pred)):\n",
    "    pred_label.append((str)(np.argmax(pred[i])))\n",
    "    test_label.append((str)(labels[data['class'][test_Y.index[i]]]))\n",
    "\n",
    "print(classification_report(test_label, pred_label))"
   ]
  },
  {
   "cell_type": "code",
   "execution_count": 87,
   "metadata": {
    "scrolled": false
   },
   "outputs": [
    {
     "name": "stderr",
     "output_type": "stream",
     "text": [
      "/tmp/ipykernel_992/3022590611.py:8: SettingWithCopyWarning: \n",
      "A value is trying to be set on a copy of a slice from a DataFrame.\n",
      "Try using .loc[row_indexer,col_indexer] = value instead\n",
      "\n",
      "See the caveats in the documentation: https://pandas.pydata.org/pandas-docs/stable/user_guide/indexing.html#returning-a-view-versus-a-copy\n",
      "  error_result['pred'] = error_result['pred'].apply(lambda x: to_text[int(x)])\n",
      "/tmp/ipykernel_992/3022590611.py:9: SettingWithCopyWarning: \n",
      "A value is trying to be set on a copy of a slice from a DataFrame.\n",
      "Try using .loc[row_indexer,col_indexer] = value instead\n",
      "\n",
      "See the caveats in the documentation: https://pandas.pydata.org/pandas-docs/stable/user_guide/indexing.html#returning-a-view-versus-a-copy\n",
      "  error_result['real'] = error_result['real'].apply(lambda x: to_text[int(x)])\n"
     ]
    },
    {
     "data": {
      "text/html": [
       "<div>\n",
       "<style scoped>\n",
       "    .dataframe tbody tr th:only-of-type {\n",
       "        vertical-align: middle;\n",
       "    }\n",
       "\n",
       "    .dataframe tbody tr th {\n",
       "        vertical-align: top;\n",
       "    }\n",
       "\n",
       "    .dataframe thead th {\n",
       "        text-align: right;\n",
       "    }\n",
       "</style>\n",
       "<table border=\"1\" class=\"dataframe\">\n",
       "  <thead>\n",
       "    <tr style=\"text-align: right;\">\n",
       "      <th></th>\n",
       "      <th>conversation</th>\n",
       "      <th>pred</th>\n",
       "      <th>real</th>\n",
       "    </tr>\n",
       "  </thead>\n",
       "  <tbody>\n",
       "    <tr>\n",
       "      <th>3</th>\n",
       "      <td>아줌마 손에 든 거 뭐예요\\n장바구니인데요\\n아니 장바구니 인건 아는데 뭐 들었어요...</td>\n",
       "      <td>기타 괴롭힘 대화</td>\n",
       "      <td>갈취 대화</td>\n",
       "    </tr>\n",
       "    <tr>\n",
       "      <th>4</th>\n",
       "      <td>뭐라고  네가 뭔데\\n뭐가요\\n너 나 누군지 몰라\\n몰라요\\n그래  너 잘 만났다 ...</td>\n",
       "      <td>기타 괴롭힘 대화</td>\n",
       "      <td>협박 대화</td>\n",
       "    </tr>\n",
       "    <tr>\n",
       "      <th>8</th>\n",
       "      <td>아오 어디서 썩은 냄새가 나냐 야 창문 열어 구토 나오겠네\\n그러네요 자꾸 어디서 ...</td>\n",
       "      <td>기타 괴롭힘 대화</td>\n",
       "      <td>직장 내 괴롭힘 대화</td>\n",
       "    </tr>\n",
       "    <tr>\n",
       "      <th>11</th>\n",
       "      <td>야 너네 집에 키위 농장한다며\\n어 응\\n내가 키위 진짜 좋아하는데 좀 얻어먹어보자...</td>\n",
       "      <td>직장 내 괴롭힘 대화</td>\n",
       "      <td>갈취 대화</td>\n",
       "    </tr>\n",
       "    <tr>\n",
       "      <th>17</th>\n",
       "      <td>저 오늘 조퇴하고 싶은데요  선생님\\n안돼\\n몸이 안 좋아요\\n네가 좋은 적 있었니...</td>\n",
       "      <td>갈취 대화</td>\n",
       "      <td>기타 괴롭힘 대화</td>\n",
       "    </tr>\n",
       "    <tr>\n",
       "      <th>...</th>\n",
       "      <td>...</td>\n",
       "      <td>...</td>\n",
       "      <td>...</td>\n",
       "    </tr>\n",
       "    <tr>\n",
       "      <th>462</th>\n",
       "      <td>이때까지 돈 가져와\\n나 그만큼 돈 없어\\n없으면 빌리던지\\n누구한테 빌려\\n친구 ...</td>\n",
       "      <td>협박 대화</td>\n",
       "      <td>갈취 대화</td>\n",
       "    </tr>\n",
       "    <tr>\n",
       "      <th>469</th>\n",
       "      <td>자네는 회사 놀러 다니나\\n무슨 말씀이신지\\n맨날 그렇게 꾸며 입고 화장할 시간에 ...</td>\n",
       "      <td>협박 대화</td>\n",
       "      <td>직장 내 괴롭힘 대화</td>\n",
       "    </tr>\n",
       "    <tr>\n",
       "      <th>470</th>\n",
       "      <td>어이 아저씨  그거 밥 어디서 받은 거예요\\n저기 노인정에 대학생들 봉사활동 왔 씨...</td>\n",
       "      <td>협박 대화</td>\n",
       "      <td>갈취 대화</td>\n",
       "    </tr>\n",
       "    <tr>\n",
       "      <th>480</th>\n",
       "      <td>야 라면 하나 끓여봐\\n아 형이 끓여\\n뭐  이 새끼가 미쳐 돌았냐\\n아 왜 맨 나...</td>\n",
       "      <td>갈취 대화</td>\n",
       "      <td>기타 괴롭힘 대화</td>\n",
       "    </tr>\n",
       "    <tr>\n",
       "      <th>484</th>\n",
       "      <td>안녕하세요\\n네\\n혹시 이나연 씨인가요\\n네 맞아요\\n왜 그러시죠\\n돈을 안 갚으셨...</td>\n",
       "      <td>갈취 대화</td>\n",
       "      <td>협박 대화</td>\n",
       "    </tr>\n",
       "  </tbody>\n",
       "</table>\n",
       "<p>103 rows × 3 columns</p>\n",
       "</div>"
      ],
      "text/plain": [
       "                                          conversation         pred  \\\n",
       "3    아줌마 손에 든 거 뭐예요\\n장바구니인데요\\n아니 장바구니 인건 아는데 뭐 들었어요...    기타 괴롭힘 대화   \n",
       "4    뭐라고  네가 뭔데\\n뭐가요\\n너 나 누군지 몰라\\n몰라요\\n그래  너 잘 만났다 ...    기타 괴롭힘 대화   \n",
       "8    아오 어디서 썩은 냄새가 나냐 야 창문 열어 구토 나오겠네\\n그러네요 자꾸 어디서 ...    기타 괴롭힘 대화   \n",
       "11   야 너네 집에 키위 농장한다며\\n어 응\\n내가 키위 진짜 좋아하는데 좀 얻어먹어보자...  직장 내 괴롭힘 대화   \n",
       "17   저 오늘 조퇴하고 싶은데요  선생님\\n안돼\\n몸이 안 좋아요\\n네가 좋은 적 있었니...        갈취 대화   \n",
       "..                                                 ...          ...   \n",
       "462  이때까지 돈 가져와\\n나 그만큼 돈 없어\\n없으면 빌리던지\\n누구한테 빌려\\n친구 ...        협박 대화   \n",
       "469  자네는 회사 놀러 다니나\\n무슨 말씀이신지\\n맨날 그렇게 꾸며 입고 화장할 시간에 ...        협박 대화   \n",
       "470  어이 아저씨  그거 밥 어디서 받은 거예요\\n저기 노인정에 대학생들 봉사활동 왔 씨...        협박 대화   \n",
       "480  야 라면 하나 끓여봐\\n아 형이 끓여\\n뭐  이 새끼가 미쳐 돌았냐\\n아 왜 맨 나...        갈취 대화   \n",
       "484  안녕하세요\\n네\\n혹시 이나연 씨인가요\\n네 맞아요\\n왜 그러시죠\\n돈을 안 갚으셨...        갈취 대화   \n",
       "\n",
       "            real  \n",
       "3          갈취 대화  \n",
       "4          협박 대화  \n",
       "8    직장 내 괴롭힘 대화  \n",
       "11         갈취 대화  \n",
       "17     기타 괴롭힘 대화  \n",
       "..           ...  \n",
       "462        갈취 대화  \n",
       "469  직장 내 괴롭힘 대화  \n",
       "470        갈취 대화  \n",
       "480    기타 괴롭힘 대화  \n",
       "484        협박 대화  \n",
       "\n",
       "[103 rows x 3 columns]"
      ]
     },
     "execution_count": 87,
     "metadata": {},
     "output_type": "execute_result"
    }
   ],
   "source": [
    "to_text = {0:'직장 내 괴롭힘 대화', 1:'기타 괴롭힘 대화', 2:'갈취 대화', 3:'협박 대화', 4:'일반 대화'}\n",
    "result = pd.DataFrame([pred_label,test_label]).T\n",
    "test_text = data.non_label_sentence[list(test_Y.index)]\n",
    "test_text = pd.DataFrame(zip(test_text))\n",
    "test_result = pd.concat([test_text, result], axis=1)\n",
    "test_result.columns = ['conversation', 'pred', 'real']\n",
    "error_result = test_result[test_result['pred'] != test_result['real']]\n",
    "error_result['pred'] = error_result['pred'].apply(lambda x: to_text[int(x)])\n",
    "error_result['real'] = error_result['real'].apply(lambda x: to_text[int(x)])\n",
    "error_result"
   ]
  },
  {
   "cell_type": "code",
   "execution_count": 89,
   "metadata": {
    "id": "Tj8C_h0zmeQ6"
   },
   "outputs": [
    {
     "data": {
      "text/html": [
       "<div>\n",
       "<style scoped>\n",
       "    .dataframe tbody tr th:only-of-type {\n",
       "        vertical-align: middle;\n",
       "    }\n",
       "\n",
       "    .dataframe tbody tr th {\n",
       "        vertical-align: top;\n",
       "    }\n",
       "\n",
       "    .dataframe thead th {\n",
       "        text-align: right;\n",
       "    }\n",
       "</style>\n",
       "<table border=\"1\" class=\"dataframe\">\n",
       "  <thead>\n",
       "    <tr style=\"text-align: right;\">\n",
       "      <th></th>\n",
       "      <th>pred</th>\n",
       "      <th>real</th>\n",
       "    </tr>\n",
       "  </thead>\n",
       "  <tbody>\n",
       "    <tr>\n",
       "      <th>415</th>\n",
       "      <td>기타 괴롭힘 대화</td>\n",
       "      <td>직장 내 괴롭힘 대화</td>\n",
       "    </tr>\n",
       "    <tr>\n",
       "      <th>290</th>\n",
       "      <td>협박 대화</td>\n",
       "      <td>직장 내 괴롭힘 대화</td>\n",
       "    </tr>\n",
       "  </tbody>\n",
       "</table>\n",
       "</div>"
      ],
      "text/plain": [
       "          pred         real\n",
       "415  기타 괴롭힘 대화  직장 내 괴롭힘 대화\n",
       "290      협박 대화  직장 내 괴롭힘 대화"
      ]
     },
     "execution_count": 89,
     "metadata": {},
     "output_type": "execute_result"
    }
   ],
   "source": [
    "Sam = error_result[error_result['real'] == '직장 내 괴롭힘 대화'].sample(n=2)\n",
    "id = Sam.index\n",
    "Sam[['pred', 'real']]"
   ]
  },
  {
   "cell_type": "code",
   "execution_count": 90,
   "metadata": {
    "id": "DR3aWGfK7g18"
   },
   "outputs": [
    {
     "data": {
      "text/plain": [
       "'승인해주십시오\\n진행하던 사건 손 떼고 세미나 준비나 잘 해\\n그럴 순 없는데요\\n야 누가 지금 너랑 흥정하자 든\\n죄송합니다\\n하라면 해\\n그분 막아야 합니다\\n너 진짜  말 안 들을래  정말 찍히게 해줘\\n잘라내야 할 게 무엇인지 다시 검토해주십시오\\n꼴도 보기 싫으니까 나가'"
      ]
     },
     "execution_count": 90,
     "metadata": {},
     "output_type": "execute_result"
    }
   ],
   "source": [
    "Sam['conversation'][id[0]]"
   ]
  },
  {
   "cell_type": "code",
   "execution_count": 91,
   "metadata": {
    "id": "20juSRbT8Mmb"
   },
   "outputs": [
    {
     "data": {
      "text/plain": [
       "'이번에 제가 낸 프로젝트 어때요\\n그냥 솔직히 말하세요 안 불편하세요\\n네  뭐가요\\n그거 제 아이디어잖아요\\n무슨 소리세요\\n제가 낸 아이디어 가져가서 쓰신 거잖아요\\n무슨 너 아이디어야 말은 제대로 해  실적 낮춰줘\\n네\\n네가 뭐라 하던 난 널 망가뜨릴 수 있어 그냥 조용히 있어\\n회사에 말할게요 저도 더 이상은 못 참겠네요'"
      ]
     },
     "execution_count": 91,
     "metadata": {},
     "output_type": "execute_result"
    }
   ],
   "source": [
    "Sam['conversation'][id[1]]"
   ]
  },
  {
   "cell_type": "code",
   "execution_count": 93,
   "metadata": {
    "id": "joR1rWyb81PZ"
   },
   "outputs": [
    {
     "data": {
      "text/html": [
       "<div>\n",
       "<style scoped>\n",
       "    .dataframe tbody tr th:only-of-type {\n",
       "        vertical-align: middle;\n",
       "    }\n",
       "\n",
       "    .dataframe tbody tr th {\n",
       "        vertical-align: top;\n",
       "    }\n",
       "\n",
       "    .dataframe thead th {\n",
       "        text-align: right;\n",
       "    }\n",
       "</style>\n",
       "<table border=\"1\" class=\"dataframe\">\n",
       "  <thead>\n",
       "    <tr style=\"text-align: right;\">\n",
       "      <th></th>\n",
       "      <th>pred</th>\n",
       "      <th>real</th>\n",
       "    </tr>\n",
       "  </thead>\n",
       "  <tbody>\n",
       "    <tr>\n",
       "      <th>17</th>\n",
       "      <td>갈취 대화</td>\n",
       "      <td>기타 괴롭힘 대화</td>\n",
       "    </tr>\n",
       "    <tr>\n",
       "      <th>480</th>\n",
       "      <td>갈취 대화</td>\n",
       "      <td>기타 괴롭힘 대화</td>\n",
       "    </tr>\n",
       "  </tbody>\n",
       "</table>\n",
       "</div>"
      ],
      "text/plain": [
       "      pred       real\n",
       "17   갈취 대화  기타 괴롭힘 대화\n",
       "480  갈취 대화  기타 괴롭힘 대화"
      ]
     },
     "execution_count": 93,
     "metadata": {},
     "output_type": "execute_result"
    }
   ],
   "source": [
    "Sam = error_result[error_result['real'] == '기타 괴롭힘 대화'].sample(n=2)\n",
    "id = Sam.index\n",
    "Sam[['pred', 'real']]"
   ]
  },
  {
   "cell_type": "code",
   "execution_count": 94,
   "metadata": {
    "id": "NDxs1k3v8_1P"
   },
   "outputs": [
    {
     "data": {
      "text/plain": [
       "'저 오늘 조퇴하고 싶은데요  선생님\\n안돼\\n몸이 안 좋아요\\n네가 좋은 적 있었니  틱장애도 있고\\n그건  배가 진짜 아파요\\n공부도 못하는 게 아픈데도 많네\\n선생님\\n그냥 보건실 가\\n어머니가 오신다고 했는데\\n유난이다 진짜'"
      ]
     },
     "execution_count": 94,
     "metadata": {},
     "output_type": "execute_result"
    }
   ],
   "source": [
    "Sam['conversation'][id[0]]"
   ]
  },
  {
   "cell_type": "code",
   "execution_count": 95,
   "metadata": {
    "id": "4Y5IffD29BeC"
   },
   "outputs": [
    {
     "data": {
      "text/plain": [
       "'야 라면 하나 끓여봐\\n아 형이 끓여\\n뭐  이 새끼가 미쳐 돌았냐\\n아 왜 맨 나 내가 끓여\\n정신 차려라 뚝배기 깨지고 싶냐\\n엄마한테 말한다\\n말해라 지금 엄마도 없는데 네가 요새 제정신이 아닌 것 같아서 형이 정신 건강 시켜줘야겠다\\n아하지 마\\n뭘 하지 마 병신 새끼가 형한테 개기고\\n끓여올게'"
      ]
     },
     "execution_count": 95,
     "metadata": {},
     "output_type": "execute_result"
    }
   ],
   "source": [
    "Sam['conversation'][id[1]]"
   ]
  },
  {
   "cell_type": "code",
   "execution_count": 96,
   "metadata": {
    "id": "actI3OJK9DA9"
   },
   "outputs": [
    {
     "data": {
      "text/html": [
       "<div>\n",
       "<style scoped>\n",
       "    .dataframe tbody tr th:only-of-type {\n",
       "        vertical-align: middle;\n",
       "    }\n",
       "\n",
       "    .dataframe tbody tr th {\n",
       "        vertical-align: top;\n",
       "    }\n",
       "\n",
       "    .dataframe thead th {\n",
       "        text-align: right;\n",
       "    }\n",
       "</style>\n",
       "<table border=\"1\" class=\"dataframe\">\n",
       "  <thead>\n",
       "    <tr style=\"text-align: right;\">\n",
       "      <th></th>\n",
       "      <th>pred</th>\n",
       "      <th>real</th>\n",
       "    </tr>\n",
       "  </thead>\n",
       "  <tbody>\n",
       "    <tr>\n",
       "      <th>175</th>\n",
       "      <td>직장 내 괴롭힘 대화</td>\n",
       "      <td>갈취 대화</td>\n",
       "    </tr>\n",
       "    <tr>\n",
       "      <th>122</th>\n",
       "      <td>협박 대화</td>\n",
       "      <td>갈취 대화</td>\n",
       "    </tr>\n",
       "  </tbody>\n",
       "</table>\n",
       "</div>"
      ],
      "text/plain": [
       "            pred   real\n",
       "175  직장 내 괴롭힘 대화  갈취 대화\n",
       "122        협박 대화  갈취 대화"
      ]
     },
     "execution_count": 96,
     "metadata": {},
     "output_type": "execute_result"
    }
   ],
   "source": [
    "Sam = error_result[error_result['real'] == '갈취 대화'].sample(n=2)\n",
    "id = Sam.index\n",
    "Sam[['pred', 'real']]"
   ]
  },
  {
   "cell_type": "code",
   "execution_count": 97,
   "metadata": {
    "id": "0L9R3zUo9GrC"
   },
   "outputs": [
    {
     "data": {
      "text/plain": [
       "'이번에 승마 대회에 나가는데 말이 필요해요\\n말이요  어떤 말이면 될까요  실장님\\n우리 딸이 탈거니까 제주도에서 나고 자란 최고급 말로 부탁해요\\n알겠습니다  그런데 저희 회사에 돈이 좀 부족해서 그런데 언제까지 마련하면 될까요\\n김 대표  요즘 배가 많이 부른 가봐\\n네  아닙니다  제가 말실수를 했습니다\\n알면 됐어  이달 말까지 부탁해\\n네  알겠습니다  더 필요한 것은 없으세요\\n다른 건 괜찮아\\n네'"
      ]
     },
     "execution_count": 97,
     "metadata": {},
     "output_type": "execute_result"
    }
   ],
   "source": [
    "Sam['conversation'][id[0]]"
   ]
  },
  {
   "cell_type": "code",
   "execution_count": 98,
   "metadata": {
    "id": "pJ_li-UF9IFd"
   },
   "outputs": [
    {
     "data": {
      "text/plain": [
       "'우와 이거 예쁘다  남자친구랑 맞췄어\\n이거 커플링이야\\n이거 진짜 금 같아\\n맞아 이거 24로 맞춘 거야\\n와 역시 나 이것 좀 빌려주라  나 누구한테 자랑하고 싶어\\n이거 커플링인데    이건 진짜 안돼\\n야 너 남자친구 만나기 전에 돌려줄게 보여줄 사람 있단 말이야  다시 잘 만나기 전에 돌려줄 테니가 걱정 마\\n그래도 안돼  이거 남자친구 알면 난리 나\\n야 너랑 내가 말을 안 하는데 누가 알아  우리 둘만 조용히 입 다물면 아무도 몰라  그러니까 남자친구 만나기 전까지 내가 좀 쓴다\\n빨리 돌려줘야 돼'"
      ]
     },
     "execution_count": 98,
     "metadata": {},
     "output_type": "execute_result"
    }
   ],
   "source": [
    "Sam['conversation'][id[1]]"
   ]
  },
  {
   "cell_type": "code",
   "execution_count": 99,
   "metadata": {
    "id": "lPch9TLs9JXr"
   },
   "outputs": [
    {
     "data": {
      "text/html": [
       "<div>\n",
       "<style scoped>\n",
       "    .dataframe tbody tr th:only-of-type {\n",
       "        vertical-align: middle;\n",
       "    }\n",
       "\n",
       "    .dataframe tbody tr th {\n",
       "        vertical-align: top;\n",
       "    }\n",
       "\n",
       "    .dataframe thead th {\n",
       "        text-align: right;\n",
       "    }\n",
       "</style>\n",
       "<table border=\"1\" class=\"dataframe\">\n",
       "  <thead>\n",
       "    <tr style=\"text-align: right;\">\n",
       "      <th></th>\n",
       "      <th>pred</th>\n",
       "      <th>real</th>\n",
       "    </tr>\n",
       "  </thead>\n",
       "  <tbody>\n",
       "    <tr>\n",
       "      <th>213</th>\n",
       "      <td>직장 내 괴롭힘 대화</td>\n",
       "      <td>협박 대화</td>\n",
       "    </tr>\n",
       "    <tr>\n",
       "      <th>261</th>\n",
       "      <td>기타 괴롭힘 대화</td>\n",
       "      <td>협박 대화</td>\n",
       "    </tr>\n",
       "  </tbody>\n",
       "</table>\n",
       "</div>"
      ],
      "text/plain": [
       "            pred   real\n",
       "213  직장 내 괴롭힘 대화  협박 대화\n",
       "261    기타 괴롭힘 대화  협박 대화"
      ]
     },
     "execution_count": 99,
     "metadata": {},
     "output_type": "execute_result"
    }
   ],
   "source": [
    "Sam = error_result[error_result['real'] == '협박 대화'].sample(n=2)\n",
    "id = Sam.index\n",
    "Sam[['pred', 'real']]"
   ]
  },
  {
   "cell_type": "code",
   "execution_count": 100,
   "metadata": {
    "id": "bCGtn-rQ9QpU"
   },
   "outputs": [
    {
     "data": {
      "text/plain": [
       "'네가 먼저 끼어들었잖아\\n지금 누구 보러 너라고 지칭하십니까\\n이 새끼가 인성 있는척하네 네가 내 길 방해 안 했나\\n아닙니다 전 여유를 두고 들어왔습니다 비켜주시죠\\n고마이 치아 다 뽑아가 피 철철 나면서 생 마감하게 해주까\\n선생님 이러지 말고 비켜주시죠\\n말길을 못 알아듣네 영영 눈 못 뜨게 해준다는 말인데\\n죄송합니다 제가 다 죄송합니다\\n표정이 영 맘에 들지 않아\\n제가 표정이 안 좋았다면 죄송합니다 좋은 인상으로 바꾸겠습니다 이제 그만둬주세요'"
      ]
     },
     "execution_count": 100,
     "metadata": {},
     "output_type": "execute_result"
    }
   ],
   "source": [
    "Sam['conversation'][id[0]]"
   ]
  },
  {
   "cell_type": "code",
   "execution_count": 101,
   "metadata": {
    "id": "7Sk2Sblc9RxD"
   },
   "outputs": [
    {
     "data": {
      "text/plain": [
       "'저기요 할아버지 여기 버스 안이기도 한데 환기도 잘 안되니까 마스크 좀 써주세요\\n네가 뭔데 나보고 쓰라 말아야  나한테 뭐 해준 거 있어\\n그게 아니고 이제 버스에서 원래 마스크 안 쓰면 내리시거나 벌금 내셔야 해요\\n그래서 뭐 어쩌라고  지금 나 내쫓을 수 있는 사람 있어\\n그럼 여기서 내리세요 제가 내려드릴게요  공공장소인데 남한테 피해주면 안 되시죠\\n너 내가 죽여버릴 거야  각오해  마스크  그거 평생 안 쓰게 만들어줄게\\n그게 뭔 소리세요  그런 말 함부로 하시면 안 되죠  아무리 연세가 많으시다고 해도\\n그니까 애초에 왜 내 신경을 건드려  내가 지금은 이렇게 조용하지만 어릴 적에는 여럿 패고 다녔어  오랜만에 힘 좀 써야 하네\\n협박하시면 신고하실 거고요  마스크 하나 써달라고 했다고 그렇게 말씀하시지 마세요\\n내가 뭐 어떻게 말하던 무슨 상관인가  실제로 죽일 것도 아닌데  오늘 저녁에 죽을 거 같을 때 신나게 신고하던지 끌끌'"
      ]
     },
     "execution_count": 101,
     "metadata": {},
     "output_type": "execute_result"
    }
   ],
   "source": [
    "Sam['conversation'][id[1]]"
   ]
  },
  {
   "cell_type": "code",
   "execution_count": 102,
   "metadata": {
    "id": "6xWUr7F39VUv"
   },
   "outputs": [
    {
     "data": {
      "text/html": [
       "<div>\n",
       "<style scoped>\n",
       "    .dataframe tbody tr th:only-of-type {\n",
       "        vertical-align: middle;\n",
       "    }\n",
       "\n",
       "    .dataframe tbody tr th {\n",
       "        vertical-align: top;\n",
       "    }\n",
       "\n",
       "    .dataframe thead th {\n",
       "        text-align: right;\n",
       "    }\n",
       "</style>\n",
       "<table border=\"1\" class=\"dataframe\">\n",
       "  <thead>\n",
       "    <tr style=\"text-align: right;\">\n",
       "      <th></th>\n",
       "      <th>pred</th>\n",
       "      <th>real</th>\n",
       "    </tr>\n",
       "  </thead>\n",
       "  <tbody>\n",
       "    <tr>\n",
       "      <th>41</th>\n",
       "      <td>기타 괴롭힘 대화</td>\n",
       "      <td>일반 대화</td>\n",
       "    </tr>\n",
       "    <tr>\n",
       "      <th>211</th>\n",
       "      <td>협박 대화</td>\n",
       "      <td>일반 대화</td>\n",
       "    </tr>\n",
       "  </tbody>\n",
       "</table>\n",
       "</div>"
      ],
      "text/plain": [
       "          pred   real\n",
       "41   기타 괴롭힘 대화  일반 대화\n",
       "211      협박 대화  일반 대화"
      ]
     },
     "execution_count": 102,
     "metadata": {},
     "output_type": "execute_result"
    }
   ],
   "source": [
    "Sam = error_result[error_result['real'] == '일반 대화'].sample(n=2)\n",
    "id = Sam.index\n",
    "Sam[['pred', 'real']]"
   ]
  },
  {
   "cell_type": "code",
   "execution_count": 103,
   "metadata": {
    "id": "FdRKF-0-9Ydi"
   },
   "outputs": [
    {
     "data": {
      "text/plain": [
       "'외국은 또 무슨 이슈가 있니\\n그러게 외국에는 아무 일 없냐\\n헐 빌게이츠도 14년 전인가 유부남일 때 여직원한테 만나자고 구애 문자 보냈다더라\\n아니 그거까지 너가 어떻게 아는데\\n아니 다 알지 내가\\n경영진이 경고도 했다던디\\n정말\\n기사 나온 거야\\n응응 아니\\n유부녀가 자기가 대표라는 권위를 이용해서 여직원한테 구애를 하는 거잖어\\n그러게\\n근데 사람 다 똑같다\\n외국에서도 그런 일이 일어나는구나\\n사람 사는 곳은 다 그런가 봐\\n그러게\\n좀 뜨고 이러면 사람들 괜히 자기 권력 이용함\\n맞아\\n잠잠코 성실히 살면 쭉 행복할 텐데 왜 굳이 그럴까\\n그러게 너는 그러지 마라 아\\n우선 떠야 하는 거 아닐까\\n그게 먼저긴 하지\\n미안하다\\n우선순위 잘 정하고 말해줘\\n그래 그래야겠다\\n아 피부에 뭐남'"
      ]
     },
     "execution_count": 103,
     "metadata": {},
     "output_type": "execute_result"
    }
   ],
   "source": [
    "Sam['conversation'][id[0]]"
   ]
  },
  {
   "cell_type": "code",
   "execution_count": 104,
   "metadata": {
    "id": "wyc1uvSf9Zii"
   },
   "outputs": [
    {
     "data": {
      "text/plain": [
       "'안녕하세요 입니다 무엇을 도와드릴까요\\n네 여기 인데요\\n여기 악취가 너무 심해서요 처리 좀 부탁드립니다\\n네 악취 말씀이세요\\n이곳은 현재 악취에 대한 민원이 많이 들어온 상태라서요\\n저희도 악취를 줄이기 위해 노력하고 있습니다\\n어떤 노력이요 하나도 줄지를 않는데요\\n구체적으로 에서 부지경계에 설치한 센서의 농도가 높아지면요\\n공무원이 방문하여 안개분무시설 사용 주기를 단축하고 있구요\\n그게 아니면 탈취제를 뿌려 악취 농도를 낮게 만들고 있습니다\\n그것밖에 없는 거예요\\n아뇨 또한 환경감시단이 수시로 인근을 순찰할 계획이구요\\n농장주를 만나 악취저감과 관련된 조치를 취할 예정입니다\\n그렇게 되면 농장주도 관리에 더 신경을 쓸 것이구요\\n악취 농도를 영으로 만들진 못하겠지만 점차 나아질 것이라 생각합니다\\n네 알겠습니다 일단 뭐 하고 계신 것 같으니까 기다려보겠습니다\\n네 항상 노력하겠습니다\\n추가 질문이나 설명이 필요하신 경우 으로 연락 주시기바랍니다'"
      ]
     },
     "execution_count": 104,
     "metadata": {},
     "output_type": "execute_result"
    }
   ],
   "source": [
    "Sam['conversation'][id[1]]"
   ]
  }
 ],
 "metadata": {
  "accelerator": "GPU",
  "colab": {
   "provenance": []
  },
  "gpuClass": "standard",
  "kernelspec": {
   "display_name": "Python 3 (ipykernel)",
   "language": "python",
   "name": "python3"
  },
  "language_info": {
   "codemirror_mode": {
    "name": "ipython",
    "version": 3
   },
   "file_extension": ".py",
   "mimetype": "text/x-python",
   "name": "python",
   "nbconvert_exporter": "python",
   "pygments_lexer": "ipython3",
   "version": "3.9.7"
  }
 },
 "nbformat": 4,
 "nbformat_minor": 1
}
