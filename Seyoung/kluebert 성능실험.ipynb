{
 "cells": [
  {
   "cell_type": "code",
   "execution_count": 1,
   "id": "b088b8c1",
   "metadata": {},
   "outputs": [],
   "source": [
    "import pandas as pd\n",
    "import tensorflow as tf\n",
    "import re\n",
    "from transformers import TextClassificationPipeline\n",
    "import tensorflow as tf\n",
    "import numpy as np\n",
    "import random\n",
    "import os\n",
    "\n",
    "def my_seed_everywhere(seed: int = 42):\n",
    "    random.seed(seed) # random\n",
    "    np.random.seed(seed) # np\n",
    "    os.environ[\"PYTHONHASHSEED\"] = str(seed) # os\n",
    "    tf.random.set_seed(seed) # tensorflow\n",
    "\n",
    "my_seed = 42\n",
    "my_seed_everywhere(my_seed)"
   ]
  },
  {
   "cell_type": "code",
   "execution_count": 2,
   "id": "f4464c2e",
   "metadata": {},
   "outputs": [
    {
     "data": {
      "text/html": [
       "<div>\n",
       "<style scoped>\n",
       "    .dataframe tbody tr th:only-of-type {\n",
       "        vertical-align: middle;\n",
       "    }\n",
       "\n",
       "    .dataframe tbody tr th {\n",
       "        vertical-align: top;\n",
       "    }\n",
       "\n",
       "    .dataframe thead th {\n",
       "        text-align: right;\n",
       "    }\n",
       "</style>\n",
       "<table border=\"1\" class=\"dataframe\">\n",
       "  <thead>\n",
       "    <tr style=\"text-align: right;\">\n",
       "      <th></th>\n",
       "      <th>label_sentence</th>\n",
       "      <th>non_label_sentence</th>\n",
       "      <th>class</th>\n",
       "      <th>binary_class</th>\n",
       "    </tr>\n",
       "  </thead>\n",
       "  <tbody>\n",
       "    <tr>\n",
       "      <th>0</th>\n",
       "      <td>1:행님 가족 소개 좀 하하\\n2:가족은 3남매 누나 나 동생\\n1:난 누나 2명 ...</td>\n",
       "      <td>행님 가족 소개 좀 하하\\n가족은 3남매 누나 나 동생\\n난 누나 2명 엄마 아빠 ...</td>\n",
       "      <td>일반 대화</td>\n",
       "      <td>일반 대화</td>\n",
       "    </tr>\n",
       "    <tr>\n",
       "      <th>1</th>\n",
       "      <td>1:또 확진자 3천 명 넘어섰네\\n1:언제 멈추는겨\\n2:아 가을이라서 사람들 다 ...</td>\n",
       "      <td>또 확진자 3천 명 넘어섰네\\n언제 멈추는겨\\n아 가을이라서 사람들 다 나다니니까 ...</td>\n",
       "      <td>일반 대화</td>\n",
       "      <td>일반 대화</td>\n",
       "    </tr>\n",
       "    <tr>\n",
       "      <th>2</th>\n",
       "      <td>1:문의 주셔서 감사합니다 입니다\\n2:네 등산 교육이 있다고 하는데 이 뭐였죠\\n...</td>\n",
       "      <td>문의 주셔서\\n네 등산 교육이 있다고 하는데 이 뭐였죠\\n노르딕 워킹 말씀하시는 건...</td>\n",
       "      <td>일반 대화</td>\n",
       "      <td>일반 대화</td>\n",
       "    </tr>\n",
       "    <tr>\n",
       "      <th>3</th>\n",
       "      <td>1:연일 기름값이 많이 오르는데 인플레이션이 가속화 되지 않을까\\n2:미국의 물류난...</td>\n",
       "      <td>연일 기름값이 많이 오르는데 인플레이션이 가속화 되지 않을까\\n미국의 물류난도 그렇...</td>\n",
       "      <td>일반 대화</td>\n",
       "      <td>일반 대화</td>\n",
       "    </tr>\n",
       "    <tr>\n",
       "      <th>4</th>\n",
       "      <td>1: 전화 주셔서 감사합니다 입니다\\n2: 예 안녕하세요 제가 를 이용하고 있는데요...</td>\n",
       "      <td>전화 주셔서\\n예  제가 를 이용하고 있는데요\\n백신 프로그램에서 가 바이러스로 인...</td>\n",
       "      <td>일반 대화</td>\n",
       "      <td>일반 대화</td>\n",
       "    </tr>\n",
       "  </tbody>\n",
       "</table>\n",
       "</div>"
      ],
      "text/plain": [
       "                                      label_sentence  \\\n",
       "0  1:행님 가족 소개 좀 하하\\n2:가족은 3남매 누나 나 동생\\n1:난 누나 2명 ...   \n",
       "1  1:또 확진자 3천 명 넘어섰네\\n1:언제 멈추는겨\\n2:아 가을이라서 사람들 다 ...   \n",
       "2  1:문의 주셔서 감사합니다 입니다\\n2:네 등산 교육이 있다고 하는데 이 뭐였죠\\n...   \n",
       "3  1:연일 기름값이 많이 오르는데 인플레이션이 가속화 되지 않을까\\n2:미국의 물류난...   \n",
       "4  1: 전화 주셔서 감사합니다 입니다\\n2: 예 안녕하세요 제가 를 이용하고 있는데요...   \n",
       "\n",
       "                                  non_label_sentence  class binary_class  \n",
       "0  행님 가족 소개 좀 하하\\n가족은 3남매 누나 나 동생\\n난 누나 2명 엄마 아빠 ...  일반 대화        일반 대화  \n",
       "1  또 확진자 3천 명 넘어섰네\\n언제 멈추는겨\\n아 가을이라서 사람들 다 나다니니까 ...  일반 대화        일반 대화  \n",
       "2  문의 주셔서\\n네 등산 교육이 있다고 하는데 이 뭐였죠\\n노르딕 워킹 말씀하시는 건...  일반 대화        일반 대화  \n",
       "3  연일 기름값이 많이 오르는데 인플레이션이 가속화 되지 않을까\\n미국의 물류난도 그렇...  일반 대화        일반 대화  \n",
       "4  전화 주셔서\\n예  제가 를 이용하고 있는데요\\n백신 프로그램에서 가 바이러스로 인...  일반 대화        일반 대화  "
      ]
     },
     "execution_count": 2,
     "metadata": {},
     "output_type": "execute_result"
    }
   ],
   "source": [
    "file_name = 'train_ri_2000.csv'\n",
    "data = pd.read_csv('/aiffel/aiffel/aiffelthon/선별된 실험데이터/{}'.format(file_name))\n",
    "data.head(5)"
   ]
  },
  {
   "cell_type": "code",
   "execution_count": 3,
   "id": "689e607c",
   "metadata": {},
   "outputs": [],
   "source": [
    "from sklearn.preprocessing import LabelEncoder\n",
    "\n",
    "label_encoder = LabelEncoder()\n",
    "label_encoder.fit(data['class'])\n",
    "\n",
    "data['class'] = label_encoder.transform(data['class'])\n",
    "from sklearn.model_selection import train_test_split\n",
    "\n",
    "train = data['non_label_sentence'].tolist()\n",
    "target = data['class'].tolist()\n",
    "\n",
    "# train, val 분리 (20%)\n",
    "train_x, val_x, train_y, val_y = train_test_split(train, target, random_state=27, test_size=0.2)\n",
    "# val, test 분리 (test를 전체의 10%)\n",
    "val_x, test_x, val_y, test_y = train_test_split(val_x, val_y, random_state=27, test_size=0.5)\n",
    "\n",
    "from transformers import BertTokenizer\n",
    "\n",
    "tokenizer = BertTokenizer.from_pretrained('klue/bert-base')\n",
    "\n",
    "train_tensor = tokenizer(train_x, truncation=True, padding=True)\n",
    "val_tensor = tokenizer(val_x, truncation=True, padding=True)\n",
    "\n",
    "# trainset-set\n",
    "train_dataset = tf.data.Dataset.from_tensor_slices((\n",
    "    dict(train_tensor),\n",
    "    train_y\n",
    "))\n",
    "\n",
    "# validation-set\n",
    "val_dataset = tf.data.Dataset.from_tensor_slices((\n",
    "    dict(val_tensor),\n",
    "    val_y\n",
    "))"
   ]
  },
  {
   "cell_type": "code",
   "execution_count": 4,
   "id": "182f74dc",
   "metadata": {},
   "outputs": [
    {
     "name": "stderr",
     "output_type": "stream",
     "text": [
      "Some weights of the PyTorch model were not used when initializing the TF 2.0 model TFBertForSequenceClassification: ['bert.embeddings.position_ids']\n",
      "- This IS expected if you are initializing TFBertForSequenceClassification from a PyTorch model trained on another task or with another architecture (e.g. initializing a TFBertForSequenceClassification model from a BertForPreTraining model).\n",
      "- This IS NOT expected if you are initializing TFBertForSequenceClassification from a PyTorch model that you expect to be exactly identical (e.g. initializing a TFBertForSequenceClassification model from a BertForSequenceClassification model).\n",
      "Some weights or buffers of the TF 2.0 model TFBertForSequenceClassification were not initialized from the PyTorch model and are newly initialized: ['classifier.weight', 'classifier.bias']\n",
      "You should probably TRAIN this model on a down-stream task to be able to use it for predictions and inference.\n"
     ]
    }
   ],
   "source": [
    "from transformers import TFBertForSequenceClassification\n",
    "\n",
    "model = TFBertForSequenceClassification.from_pretrained('klue/bert-base', num_labels=5, from_pt=True)\n",
    "optimizer = tf.keras.optimizers.Adam(learning_rate=5e-5)\n",
    "model.compile(optimizer=optimizer, loss=model.compute_loss, metrics=['accuracy'])"
   ]
  },
  {
   "cell_type": "code",
   "execution_count": 5,
   "id": "476c2eaf",
   "metadata": {
    "scrolled": false
   },
   "outputs": [
    {
     "name": "stdout",
     "output_type": "stream",
     "text": [
      "Epoch 1/3\n",
      "974/974 [==============================] - 963s 972ms/step - loss: 0.3860 - accuracy: 0.8683 - val_loss: 0.2831 - val_accuracy: 0.9066\n",
      "Epoch 2/3\n",
      "974/974 [==============================] - 944s 969ms/step - loss: 0.1469 - accuracy: 0.9542 - val_loss: 0.2560 - val_accuracy: 0.9220\n",
      "Epoch 3/3\n",
      "974/974 [==============================] - 944s 969ms/step - loss: 0.0866 - accuracy: 0.9752 - val_loss: 0.1957 - val_accuracy: 0.9476\n"
     ]
    }
   ],
   "source": [
    "history = model.fit(\n",
    "    train_dataset.shuffle(len(train_dataset)).batch(8), epochs=3, batch_size=8,\n",
    "    validation_data=val_dataset.shuffle(len(val_dataset)).batch(8),\n",
    ")"
   ]
  },
  {
   "cell_type": "code",
   "execution_count": 6,
   "id": "349fb57b",
   "metadata": {},
   "outputs": [
    {
     "data": {
      "text/plain": [
       "{0: '갈취 대화', 1: '기타 괴롭힘 대화', 2: '일반 대화', 3: '직장 내 괴롭힘 대화', 4: '협박 대화'}"
      ]
     },
     "execution_count": 6,
     "metadata": {},
     "output_type": "execute_result"
    }
   ],
   "source": [
    "id2labels = model.config.id2label\n",
    "model.config.id2label = {id : label_encoder.inverse_transform([int(re.sub('LABEL_', '', label))])[0]  for id, label in id2labels.items()}\n",
    "\n",
    "label2ids = model.config.label2id\n",
    "model.config.label2id = {label_encoder.inverse_transform([int(re.sub('LABEL_', '', label))])[0] : id   for id, label in id2labels.items()}\n",
    "\n",
    "model.config.id2label"
   ]
  },
  {
   "cell_type": "code",
   "execution_count": 8,
   "id": "96fa1482",
   "metadata": {},
   "outputs": [],
   "source": [
    "test_file_path = '/aiffel/aiffel/aiffelthon/test.json'\n",
    "with open(test_file_path, mode='rt', encoding='utf-8') as f:\n",
    "    test_dataset = pd.read_json(f)\n",
    "    \n",
    "test_data = test_dataset.transpose()\n",
    "test_data = test_data['text'].tolist()\n",
    "\n",
    "text_classifier = TextClassificationPipeline(\n",
    "    tokenizer=tokenizer, \n",
    "    model=model, \n",
    "    framework='tf'\n",
    ")\n",
    "\n",
    "labels = {'갈취 대화': '01', '기타 괴롭힘 대화': '03', '일반 대화': '04', '직장 내 괴롭힘 대화': '02', '협박 대화': '00'}\n",
    "\n",
    "pred_label = []\n",
    "\n",
    "for text in test_data:\n",
    "    label = text_classifier(text)[0]['label']\n",
    "    pred_label.append(labels[label])"
   ]
  },
  {
   "cell_type": "code",
   "execution_count": 10,
   "id": "d9daaedd",
   "metadata": {},
   "outputs": [],
   "source": [
    "test_file_path = '/aiffel/aiffel/aiffelthon/test.json'\n",
    "with open(test_file_path, mode='rt', encoding='utf-8') as f:\n",
    "    test_dataset = pd.read_json(f)\n",
    "    \n",
    "test_data = test_dataset.transpose()\n",
    "\n",
    "submission = test_data.assign(CLASS=pred_label)\n",
    "submission = submission.rename(columns={'CLASS':'class'})\n",
    "submission.drop(['text'], axis=1, inplace=True)\n",
    "submission = submission.transpose()\n",
    "\n",
    "import json\n",
    "\n",
    "submission_file_path = '/aiffel/aiffel/aiffelthon/submission/submission_KlueBertBase_{}.json'.format(file_name[:-4])\n",
    "result = submission.to_json(submission_file_path)\n",
    "\n",
    "with open(submission_file_path) as f:\n",
    "    parsed = json.load(f)\n",
    "\n",
    "with open(submission_file_path, 'w') as f:\n",
    "    json.dump(parsed, f, indent=4)"
   ]
  },
  {
   "cell_type": "code",
   "execution_count": null,
   "id": "09b5091a",
   "metadata": {},
   "outputs": [],
   "source": []
  }
 ],
 "metadata": {
  "kernelspec": {
   "display_name": "Python 3 (ipykernel)",
   "language": "python",
   "name": "python3"
  },
  "language_info": {
   "codemirror_mode": {
    "name": "ipython",
    "version": 3
   },
   "file_extension": ".py",
   "mimetype": "text/x-python",
   "name": "python",
   "nbconvert_exporter": "python",
   "pygments_lexer": "ipython3",
   "version": "3.9.7"
  }
 },
 "nbformat": 4,
 "nbformat_minor": 5
}
