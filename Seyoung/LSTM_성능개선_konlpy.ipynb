{
 "cells": [
  {
   "cell_type": "code",
   "execution_count": null,
   "metadata": {
    "collapsed": true
   },
   "outputs": [
    {
     "name": "stdout",
     "output_type": "stream",
     "text": [
      "Hit:1 http://archive.ubuntu.com/ubuntu focal InRelease\n",
      "Hit:2 http://security.ubuntu.com/ubuntu focal-security InRelease\n",
      "Hit:3 http://archive.ubuntu.com/ubuntu focal-updates InRelease\n",
      "Hit:4 http://archive.ubuntu.com/ubuntu focal-backports InRelease\n",
      "Reading package lists... Done\n",
      "Reading package lists... Done\n",
      "Building dependency tree       \n",
      "Reading state information... Done\n",
      "g++ is already the newest version (4:9.3.0-1ubuntu2).\n",
      "The following packages were automatically installed and are no longer required:\n",
      "  accountsservice-ubuntu-schemas bc bluez-obexd cups cups-browsed cups-client\n",
      "  cups-common cups-core-drivers cups-daemon cups-filters\n",
      "  cups-filters-core-drivers cups-ipp-utils cups-ppdc cups-server-common\n",
      "  fonts-droid-fallback fonts-noto-mono fonts-urw-base35 ghostscript\n",
      "  gir1.2-dbusmenu-glib-0.4 gnome-bluetooth gnome-power-manager\n",
      "  gnome-screensaver gsettings-ubuntu-schemas gvfs-backends indicator-applet\n",
      "  indicator-application indicator-appmenu indicator-bluetooth indicator-common\n",
      "  indicator-datetime indicator-keyboard indicator-messages indicator-power\n",
      "  indicator-printers indicator-session indicator-sound jayatana\n",
      "  libaccounts-glib0 libbamf3-2 libcdio-cdda2 libcdio-paranoia2 libcdio18\n",
      "  libcupsfilters1 libfcitx-config4 libfcitx-gclient1 libfcitx-utils0\n",
      "  libfontembed1 libgnome-panel0 libgs9 libgs9-common libido3-0.1-0 libijs-0.35\n",
      "  libindicator3-7 libjbig2dec0 liblightdm-gobject-1-0 liblouis-data liblouis20\n",
      "  liblouisutdml-bin liblouisutdml-data liblouisutdml9 libmessaging-menu0\n",
      "  libmtp-common libmtp-runtime libmtp9 libnfs13 libpaper-utils libpaper1\n",
      "  libpoppler-cpp0v5 libqpdf26 libunity-gtk2-parser0 libunity-gtk3-parser0\n",
      "  libunity-settings-daemon1 liburl-dispatcher1 lightdm nautilus-data\n",
      "  poppler-utils python3-psutil python3-xdg ssl-cert ubuntu-touch-sounds\n",
      "  unity-greeter unity-gtk-module-common unity-gtk2-module unity-gtk3-module\n",
      "  unity-settings-daemon unity-settings-daemon-schemas\n",
      "Use 'apt autoremove' to remove them.\n",
      "The following additional packages will be installed:\n",
      "  openjdk-8-jdk-headless openjdk-8-jre openjdk-8-jre-headless\n",
      "Suggested packages:\n",
      "  openjdk-8-demo openjdk-8-source visualvm fonts-ipafont-gothic\n",
      "  fonts-ipafont-mincho fonts-wqy-microhei fonts-wqy-zenhei fonts-indic\n",
      "The following packages will be upgraded:\n",
      "  openjdk-8-jdk openjdk-8-jdk-headless openjdk-8-jre openjdk-8-jre-headless\n",
      "4 upgraded, 0 newly installed, 0 to remove and 309 not upgraded.\n",
      "Need to get 40.6 MB of archives.\n",
      "After this operation, 1,203 kB of additional disk space will be used.\n",
      "Do you want to continue? [Y/n] "
     ]
    }
   ],
   "source": [
    "# # Mecab 설치\n",
    "# !apt-get update\n",
    "# !apt-get install g++ openjdk-8-jdk \n",
    "# !pip3 install konlpy JPype1-py3\n",
    "# !bash <(curl -s https://raw.githubusercontent.com/konlpy/konlpy/master/scripts/mecab.sh)"
   ]
  },
  {
   "cell_type": "code",
   "execution_count": 1,
   "metadata": {
    "colab": {
     "base_uri": "https://localhost:8080/"
    },
    "collapsed": true,
    "id": "TUJdwb8YGCG3",
    "outputId": "dff4ebc5-70e2-4d3d-b43a-6f18745c0ce6"
   },
   "outputs": [
    {
     "name": "stdout",
     "output_type": "stream",
     "text": [
      "Requirement already satisfied: konlpy in /opt/conda/lib/python3.9/site-packages (0.5.2)\n",
      "Requirement already satisfied: colorama in /opt/conda/lib/python3.9/site-packages (from konlpy) (0.4.4)\n",
      "Requirement already satisfied: JPype1>=0.7.0 in /opt/conda/lib/python3.9/site-packages (from konlpy) (1.3.0)\n",
      "Requirement already satisfied: numpy>=1.6 in /opt/conda/lib/python3.9/site-packages (from konlpy) (1.21.4)\n",
      "Requirement already satisfied: lxml>=4.1.0 in /opt/conda/lib/python3.9/site-packages (from konlpy) (4.6.3)\n",
      "Requirement already satisfied: beautifulsoup4==4.6.0 in /opt/conda/lib/python3.9/site-packages (from konlpy) (4.6.0)\n",
      "Requirement already satisfied: tweepy>=3.7.0 in /opt/conda/lib/python3.9/site-packages (from konlpy) (3.10.0)\n",
      "Requirement already satisfied: requests-oauthlib>=0.7.0 in /opt/conda/lib/python3.9/site-packages (from tweepy>=3.7.0->konlpy) (1.3.0)\n",
      "Requirement already satisfied: six>=1.10.0 in /opt/conda/lib/python3.9/site-packages (from tweepy>=3.7.0->konlpy) (1.16.0)\n",
      "Requirement already satisfied: requests[socks]>=2.11.1 in /opt/conda/lib/python3.9/site-packages (from tweepy>=3.7.0->konlpy) (2.26.0)\n",
      "Requirement already satisfied: oauthlib>=3.0.0 in /opt/conda/lib/python3.9/site-packages (from requests-oauthlib>=0.7.0->tweepy>=3.7.0->konlpy) (3.1.1)\n",
      "Requirement already satisfied: charset-normalizer~=2.0.0 in /opt/conda/lib/python3.9/site-packages (from requests[socks]>=2.11.1->tweepy>=3.7.0->konlpy) (2.0.8)\n",
      "Requirement already satisfied: certifi>=2017.4.17 in /opt/conda/lib/python3.9/site-packages (from requests[socks]>=2.11.1->tweepy>=3.7.0->konlpy) (2021.10.8)\n",
      "Requirement already satisfied: idna<4,>=2.5 in /opt/conda/lib/python3.9/site-packages (from requests[socks]>=2.11.1->tweepy>=3.7.0->konlpy) (2.10)\n",
      "Requirement already satisfied: urllib3<1.27,>=1.21.1 in /opt/conda/lib/python3.9/site-packages (from requests[socks]>=2.11.1->tweepy>=3.7.0->konlpy) (1.26.7)\n",
      "Requirement already satisfied: PySocks!=1.5.7,>=1.5.6 in /opt/conda/lib/python3.9/site-packages (from requests[socks]>=2.11.1->tweepy>=3.7.0->konlpy) (1.7.1)\n",
      "\u001b[33mWARNING: Running pip as the 'root' user can result in broken permissions and conflicting behaviour with the system package manager. It is recommended to use a virtual environment instead: https://pip.pypa.io/warnings/venv\u001b[0m\n"
     ]
    }
   ],
   "source": [
    "!pip install konlpy"
   ]
  },
  {
   "cell_type": "code",
   "execution_count": 2,
   "metadata": {
    "id": "ppAVcCev7Td6"
   },
   "outputs": [],
   "source": [
    "import pandas as pd\n",
    "import tensorflow as tf\n",
    "import numpy as np\n",
    "from tensorflow.keras.preprocessing.text import Tokenizer\n",
    "from tensorflow.keras.preprocessing.sequence import pad_sequences\n",
    "from konlpy.tag import Okt, Mecab"
   ]
  },
  {
   "cell_type": "markdown",
   "metadata": {
    "id": "L8cyv2XpOllF"
   },
   "source": [
    "# 데이터\n",
    "- 전처리 및 맞춤법 검사가 된 문장"
   ]
  },
  {
   "cell_type": "code",
   "execution_count": 3,
   "metadata": {
    "colab": {
     "base_uri": "https://localhost:8080/",
     "height": 425
    },
    "id": "CJ3lGtgaCMCz",
    "outputId": "3659dc8b-dc24-4f8e-8f4f-d7035fc5833a"
   },
   "outputs": [
    {
     "data": {
      "text/html": [
       "<div>\n",
       "<style scoped>\n",
       "    .dataframe tbody tr th:only-of-type {\n",
       "        vertical-align: middle;\n",
       "    }\n",
       "\n",
       "    .dataframe tbody tr th {\n",
       "        vertical-align: top;\n",
       "    }\n",
       "\n",
       "    .dataframe thead th {\n",
       "        text-align: right;\n",
       "    }\n",
       "</style>\n",
       "<table border=\"1\" class=\"dataframe\">\n",
       "  <thead>\n",
       "    <tr style=\"text-align: right;\">\n",
       "      <th></th>\n",
       "      <th>Unnamed: 0</th>\n",
       "      <th>non_label_sentence</th>\n",
       "      <th>label_sentence</th>\n",
       "      <th>class</th>\n",
       "      <th>binary_class</th>\n",
       "    </tr>\n",
       "  </thead>\n",
       "  <tbody>\n",
       "    <tr>\n",
       "      <th>0</th>\n",
       "      <td>0</td>\n",
       "      <td>아오 요즘 맨날 늦게 자고 일찍 일어나니까 피부가 꺼슬꺼슬 다크 서클 잔뜩 내려옴\\...</td>\n",
       "      <td>1:아오 요즘 맨날 늦게 자고 일찍 일어나니까 피부가 꺼슬꺼슬 다크 서클 잔뜩 내려...</td>\n",
       "      <td>일반 대화</td>\n",
       "      <td>일반 대화</td>\n",
       "    </tr>\n",
       "    <tr>\n",
       "      <th>1</th>\n",
       "      <td>1</td>\n",
       "      <td>고양이를 키우는 건 정말 즐거운 일이야 감자를 캐자\\n우리집 고양이는 보일러 틀어주...</td>\n",
       "      <td>1:고양이를 키우는 건 정말 즐거운 일이야 감자를 캐자\\n2:우리집 고양이는 보일러...</td>\n",
       "      <td>일반 대화</td>\n",
       "      <td>일반 대화</td>\n",
       "    </tr>\n",
       "    <tr>\n",
       "      <th>2</th>\n",
       "      <td>2</td>\n",
       "      <td>조금 전에 뉴스 본 거 있어\\n아니 뉴스에 무슨 기사 떴어\\n완전 조금 전에 대박 ...</td>\n",
       "      <td>1:조금 전에 뉴스 본 거 있어\\n2:아니 뉴스에 무슨 기사 떴어\\n1:완전 조금 ...</td>\n",
       "      <td>일반 대화</td>\n",
       "      <td>일반 대화</td>\n",
       "    </tr>\n",
       "    <tr>\n",
       "      <th>3</th>\n",
       "      <td>3</td>\n",
       "      <td>난 강아지 같은 푸근한 인상이 좋아\\n오 나는 원래 고양이 상 좋아했는데 나도 강아...</td>\n",
       "      <td>1:난 강아지 같은 푸근한 인상이 좋아\\n2:오 나는 원래 고양이 상 좋아했는데 나...</td>\n",
       "      <td>일반 대화</td>\n",
       "      <td>일반 대화</td>\n",
       "    </tr>\n",
       "    <tr>\n",
       "      <th>4</th>\n",
       "      <td>4</td>\n",
       "      <td>니는 폰 게임 자주 하는 편이가\\n가끔 삘 받으면 하긴 하는데 거의 안 하는 편 너...</td>\n",
       "      <td>1:니는 폰 게임 자주 하는 편이가\\n2:가끔 삘 받으면 하긴 하는데 거의 안 하는...</td>\n",
       "      <td>일반 대화</td>\n",
       "      <td>일반 대화</td>\n",
       "    </tr>\n",
       "  </tbody>\n",
       "</table>\n",
       "</div>"
      ],
      "text/plain": [
       "   Unnamed: 0                                 non_label_sentence  \\\n",
       "0           0  아오 요즘 맨날 늦게 자고 일찍 일어나니까 피부가 꺼슬꺼슬 다크 서클 잔뜩 내려옴\\...   \n",
       "1           1  고양이를 키우는 건 정말 즐거운 일이야 감자를 캐자\\n우리집 고양이는 보일러 틀어주...   \n",
       "2           2  조금 전에 뉴스 본 거 있어\\n아니 뉴스에 무슨 기사 떴어\\n완전 조금 전에 대박 ...   \n",
       "3           3  난 강아지 같은 푸근한 인상이 좋아\\n오 나는 원래 고양이 상 좋아했는데 나도 강아...   \n",
       "4           4  니는 폰 게임 자주 하는 편이가\\n가끔 삘 받으면 하긴 하는데 거의 안 하는 편 너...   \n",
       "\n",
       "                                      label_sentence  class binary_class  \n",
       "0  1:아오 요즘 맨날 늦게 자고 일찍 일어나니까 피부가 꺼슬꺼슬 다크 서클 잔뜩 내려...  일반 대화        일반 대화  \n",
       "1  1:고양이를 키우는 건 정말 즐거운 일이야 감자를 캐자\\n2:우리집 고양이는 보일러...  일반 대화        일반 대화  \n",
       "2  1:조금 전에 뉴스 본 거 있어\\n2:아니 뉴스에 무슨 기사 떴어\\n1:완전 조금 ...  일반 대화        일반 대화  \n",
       "3  1:난 강아지 같은 푸근한 인상이 좋아\\n2:오 나는 원래 고양이 상 좋아했는데 나...  일반 대화        일반 대화  \n",
       "4  1:니는 폰 게임 자주 하는 편이가\\n2:가끔 삘 받으면 하긴 하는데 거의 안 하는...  일반 대화        일반 대화  "
      ]
     },
     "execution_count": 3,
     "metadata": {},
     "output_type": "execute_result"
    }
   ],
   "source": [
    "data = pd.read_csv('/aiffel/train_1000.csv')\n",
    "data.head()"
   ]
  },
  {
   "cell_type": "code",
   "execution_count": 125,
   "metadata": {},
   "outputs": [
    {
     "data": {
      "text/plain": [
       "(4913, 351)"
      ]
     },
     "execution_count": 125,
     "metadata": {},
     "output_type": "execute_result"
    }
   ],
   "source": [
    "# vocab_size = 30000\n",
    "# sentences = data.non_label_sentence\n",
    "# tokenizer = Tokenizer(num_words = vocab_size)\n",
    "# tokenizer.fit_on_texts(sentences)\n",
    "# word_dic = tokenizer.word_index\n",
    "# sequences = tokenizer.texts_to_sequences(sentences)\n",
    "# padded = pad_sequences(sequences)\n",
    "# np.shape(padded)"
   ]
  },
  {
   "cell_type": "code",
   "execution_count": 231,
   "metadata": {
    "colab": {
     "base_uri": "https://localhost:8080/"
    },
    "id": "R5ct2oJKFq9e",
    "outputId": "017b4814-245b-4d1f-a5e4-cf0d9c7abcff"
   },
   "outputs": [
    {
     "data": {
      "text/plain": [
       "(4913, 556)"
      ]
     },
     "execution_count": 231,
     "metadata": {},
     "output_type": "execute_result"
    }
   ],
   "source": [
    "okt = Okt()\n",
    "vocab_size = 32000\n",
    "sentences = data.non_label_sentence\n",
    "sentences = [(okt.morphs(sen)) for sen in sentences]\n",
    "tokenizer = Tokenizer(num_words = vocab_size)\n",
    "tokenizer.fit_on_texts(sentences)\n",
    "word_dic = tokenizer.word_index\n",
    "sequences = tokenizer.texts_to_sequences(sentences)\n",
    "padded = pad_sequences(sequences)\n",
    "np.shape(padded)"
   ]
  },
  {
   "cell_type": "code",
   "execution_count": 232,
   "metadata": {
    "colab": {
     "base_uri": "https://localhost:8080/"
    },
    "id": "yNQRtLz9biAf",
    "outputId": "3ce655bb-814e-4aa1-b9fc-f835002d3f78"
   },
   "outputs": [
    {
     "data": {
      "text/plain": [
       "32745"
      ]
     },
     "execution_count": 232,
     "metadata": {},
     "output_type": "execute_result"
    }
   ],
   "source": [
    "len(word_dic)"
   ]
  },
  {
   "cell_type": "code",
   "execution_count": 233,
   "metadata": {
    "colab": {
     "base_uri": "https://localhost:8080/"
    },
    "id": "ecw2j-NTIvvu",
    "outputId": "6dd99533-cdd5-450b-fa09-be78c32752e6"
   },
   "outputs": [
    {
     "name": "stdout",
     "output_type": "stream",
     "text": [
      "4913 4913\n"
     ]
    }
   ],
   "source": [
    "train_data = padded\n",
    "train_label = data['class']\n",
    "print(len(train_data), len(train_label))"
   ]
  },
  {
   "cell_type": "code",
   "execution_count": 234,
   "metadata": {
    "colab": {
     "base_uri": "https://localhost:8080/"
    },
    "id": "qt0u-2UTKUsF",
    "outputId": "3789632e-f39d-4718-e403-a144f0db6713"
   },
   "outputs": [
    {
     "name": "stdout",
     "output_type": "stream",
     "text": [
      "3930 491 492\n",
      "3930 491 492\n"
     ]
    }
   ],
   "source": [
    "labels = {'직장 내 괴롭힘 대화':0, '기타 괴롭힘 대화':1, '갈취 대화':2, '협박 대화':3, '일반 대화': 4}\n",
    "train_label = train_label.apply(lambda x: labels[x])\n",
    "train_label = pd.get_dummies(train_label)\n",
    "\n",
    "from sklearn.model_selection import train_test_split\n",
    "\n",
    "train_X, test_X, train_Y, test_Y = train_test_split(train_data, train_label, test_size=0.2, random_state=22)\n",
    "valid_X, test_X, valid_Y, test_Y = train_test_split(test_X, test_Y, test_size=0.5, random_state=22)\n",
    "\n",
    "print(len(train_X), len(valid_X), len(test_X))\n",
    "print(len(train_Y), len(valid_Y), len(test_Y))"
   ]
  },
  {
   "cell_type": "markdown",
   "metadata": {
    "id": "RzB2haBJLJoH"
   },
   "source": [
    "# 모델 \n",
    "- LSTM 사용"
   ]
  },
  {
   "cell_type": "code",
   "execution_count": 235,
   "metadata": {
    "colab": {
     "base_uri": "https://localhost:8080/"
    },
    "id": "C8kkPNDrLKZ7",
    "outputId": "8457f8f7-ebd4-4ea3-b938-93b4c4e8b1e6"
   },
   "outputs": [
    {
     "name": "stdout",
     "output_type": "stream",
     "text": [
      "Model: \"sequential_13\"\n",
      "_________________________________________________________________\n",
      "Layer (type)                 Output Shape              Param #   \n",
      "=================================================================\n",
      "embedding_13 (Embedding)     (None, None, 1024)        32768000  \n",
      "_________________________________________________________________\n",
      "lstm_39 (LSTM)               (None, None, 128)         590336    \n",
      "_________________________________________________________________\n",
      "lstm_40 (LSTM)               (None, None, 128)         131584    \n",
      "_________________________________________________________________\n",
      "lstm_41 (LSTM)               (None, 64)                49408     \n",
      "_________________________________________________________________\n",
      "dense_26 (Dense)             (None, 32000)             2080000   \n",
      "_________________________________________________________________\n",
      "dropout_13 (Dropout)         (None, 32000)             0         \n",
      "_________________________________________________________________\n",
      "dense_27 (Dense)             (None, 5)                 160005    \n",
      "=================================================================\n",
      "Total params: 35,779,333\n",
      "Trainable params: 35,779,333\n",
      "Non-trainable params: 0\n",
      "_________________________________________________________________\n"
     ]
    }
   ],
   "source": [
    "word_vector_dim = 1024\n",
    "labels_size = len(labels)\n",
    "hidden_size = 128\n",
    "\n",
    "model = tf.keras.Sequential()\n",
    "model.add(tf.keras.layers.Embedding(vocab_size, word_vector_dim, input_shape=(None,)))\n",
    "model.add(tf.keras.layers.LSTM(hidden_size, return_sequences=True))\n",
    "model.add(tf.keras.layers.LSTM(hidden_size, return_sequences=True))\n",
    "model.add(tf.keras.layers.LSTM(hidden_size//2))\n",
    "model.add(tf.keras.layers.Dense(vocab_size, activation='relu'))\n",
    "model.add(tf.keras.layers.Dropout(0.4))\n",
    "model.add(tf.keras.layers.Dense(labels_size, activation='softmax'))\n",
    "\n",
    "model.summary()"
   ]
  },
  {
   "cell_type": "code",
   "execution_count": 236,
   "metadata": {
    "colab": {
     "base_uri": "https://localhost:8080/",
     "height": 500
    },
    "id": "a0sS-wccLaok",
    "outputId": "78166618-b960-4af9-b3da-dabbb73cdf2b"
   },
   "outputs": [
    {
     "name": "stdout",
     "output_type": "stream",
     "text": [
      "Epoch 1/10\n",
      "16/16 [==============================] - 10s 363ms/step - loss: 1.4240 - accuracy: 0.3415 - val_loss: 1.1030 - val_accuracy: 0.5234\n",
      "Epoch 2/10\n",
      "16/16 [==============================] - 5s 288ms/step - loss: 0.7115 - accuracy: 0.7359 - val_loss: 0.6183 - val_accuracy: 0.7760\n",
      "Epoch 3/10\n",
      "16/16 [==============================] - 5s 290ms/step - loss: 0.2648 - accuracy: 0.9097 - val_loss: 0.8316 - val_accuracy: 0.7312\n",
      "Epoch 4/10\n",
      "16/16 [==============================] - 5s 291ms/step - loss: 0.1009 - accuracy: 0.9672 - val_loss: 0.6167 - val_accuracy: 0.8289\n",
      "Epoch 5/10\n",
      "16/16 [==============================] - 5s 301ms/step - loss: 0.0152 - accuracy: 0.9962 - val_loss: 0.7659 - val_accuracy: 0.8411\n",
      "Epoch 6/10\n",
      "16/16 [==============================] - 5s 301ms/step - loss: 0.0236 - accuracy: 0.9921 - val_loss: 0.8206 - val_accuracy: 0.8086\n",
      "Epoch 7/10\n",
      "16/16 [==============================] - 5s 294ms/step - loss: 0.0091 - accuracy: 0.9967 - val_loss: 0.8356 - val_accuracy: 0.8167\n",
      "Epoch 8/10\n",
      "16/16 [==============================] - 5s 297ms/step - loss: 0.0031 - accuracy: 0.9992 - val_loss: 0.9939 - val_accuracy: 0.8187\n",
      "Epoch 9/10\n",
      "16/16 [==============================] - 5s 301ms/step - loss: 8.9782e-04 - accuracy: 0.9997 - val_loss: 1.0301 - val_accuracy: 0.8106\n",
      "Epoch 10/10\n",
      "16/16 [==============================] - 5s 301ms/step - loss: 9.4036e-05 - accuracy: 1.0000 - val_loss: 1.0321 - val_accuracy: 0.8106\n"
     ]
    }
   ],
   "source": [
    "model.compile(optimizer='adam',\n",
    "              loss='categorical_crossentropy',\n",
    "              metrics=['accuracy'])\n",
    "              \n",
    "epochs=10\n",
    "\n",
    "history = model.fit(train_X,\n",
    "                    train_Y,\n",
    "                    epochs=epochs,\n",
    "                    batch_size=256,\n",
    "                    validation_data=(valid_X, valid_Y),\n",
    "                    verbose=1)"
   ]
  },
  {
   "cell_type": "code",
   "execution_count": 237,
   "metadata": {
    "id": "TO27X8V71GuQ",
    "scrolled": true
   },
   "outputs": [
    {
     "name": "stdout",
     "output_type": "stream",
     "text": [
      "              precision    recall  f1-score   support\n",
      "\n",
      "           0       0.75      0.80      0.78       110\n",
      "           1       0.68      0.73      0.70       115\n",
      "           2       0.79      0.71      0.75        94\n",
      "           3       0.75      0.70      0.72        69\n",
      "           4       0.97      0.95      0.96       104\n",
      "\n",
      "    accuracy                           0.78       492\n",
      "   macro avg       0.79      0.78      0.78       492\n",
      "weighted avg       0.79      0.78      0.79       492\n",
      "\n"
     ]
    }
   ],
   "source": [
    "pred = model.predict(test_X)\n",
    "\n",
    "from sklearn.metrics import classification_report\n",
    "\n",
    "pred_label = []\n",
    "test_label = []\n",
    "\n",
    "for i in range(len(pred)):\n",
    "  pred_label.append((str)(np.argmax(pred[i])))\n",
    "  test_label.append((str)(labels[data['class'][test_Y.index[i]]]))\n",
    "\n",
    "print(classification_report(test_label, pred_label))"
   ]
  },
  {
   "cell_type": "code",
   "execution_count": 238,
   "metadata": {
    "id": "rVkmWtDSlG95"
   },
   "outputs": [],
   "source": [
    "to_text = {0:'직장 내 괴롭힘 대화', 1:'기타 괴롭힘 대화', 2:'갈취 대화', 3:'협박 대화', 4:'일반 대화'}\n",
    "result = pd.DataFrame([pred_label,test_label]).T\n",
    "error_target = result[result[0] != result[1]].reset_index(drop=True)\n",
    "idx = result[result[0] != result[1]].index\n",
    "error = data.non_label_sentence[idx]\n",
    "idx = pd.DataFrame(zip(idx))\n",
    "error = pd.DataFrame(zip(error))\n",
    "error_result = pd.concat([idx,error,error_target], axis=1)\n",
    "error_result.columns = ['idx', 'conversation', 'pred', 'real']\n",
    "error_result['pred'] = error_result['pred'].apply(lambda x: to_text[int(x)])\n",
    "error_result['real'] = error_result['real'].apply(lambda x: to_text[int(x)])"
   ]
  },
  {
   "cell_type": "code",
   "execution_count": 239,
   "metadata": {
    "id": "Tj8C_h0zmeQ6"
   },
   "outputs": [
    {
     "data": {
      "text/html": [
       "<div>\n",
       "<style scoped>\n",
       "    .dataframe tbody tr th:only-of-type {\n",
       "        vertical-align: middle;\n",
       "    }\n",
       "\n",
       "    .dataframe tbody tr th {\n",
       "        vertical-align: top;\n",
       "    }\n",
       "\n",
       "    .dataframe thead th {\n",
       "        text-align: right;\n",
       "    }\n",
       "</style>\n",
       "<table border=\"1\" class=\"dataframe\">\n",
       "  <thead>\n",
       "    <tr style=\"text-align: right;\">\n",
       "      <th></th>\n",
       "      <th>idx</th>\n",
       "      <th>pred</th>\n",
       "      <th>real</th>\n",
       "    </tr>\n",
       "  </thead>\n",
       "  <tbody>\n",
       "    <tr>\n",
       "      <th>2</th>\n",
       "      <td>8</td>\n",
       "      <td>기타 괴롭힘 대화</td>\n",
       "      <td>직장 내 괴롭힘 대화</td>\n",
       "    </tr>\n",
       "    <tr>\n",
       "      <th>104</th>\n",
       "      <td>481</td>\n",
       "      <td>기타 괴롭힘 대화</td>\n",
       "      <td>직장 내 괴롭힘 대화</td>\n",
       "    </tr>\n",
       "  </tbody>\n",
       "</table>\n",
       "</div>"
      ],
      "text/plain": [
       "     idx       pred         real\n",
       "2      8  기타 괴롭힘 대화  직장 내 괴롭힘 대화\n",
       "104  481  기타 괴롭힘 대화  직장 내 괴롭힘 대화"
      ]
     },
     "execution_count": 239,
     "metadata": {},
     "output_type": "execute_result"
    }
   ],
   "source": [
    "Sam = error_result[error_result['real'] == '직장 내 괴롭힘 대화'].sample(n=2)\n",
    "id = Sam.index\n",
    "Sam[['idx','pred', 'real']]"
   ]
  },
  {
   "cell_type": "code",
   "execution_count": 240,
   "metadata": {
    "id": "DR3aWGfK7g18"
   },
   "outputs": [
    {
     "data": {
      "text/plain": [
       "'우리 강아지 오늘 산책을 못했어\\n아니 저번에 보내준다던 내 반려 문어는 어떻게 거\\n하루 종일 비가 와가꾸\\n벅수 산책을 못 갔다고 줘런\\n아 반려 문어 돌잔치 때문에 못 잡았어\\n강아지는 산책이 최고인데\\n내말이 강아지 산책이 힐링인디\\n줴가 문어 잡아서 보내준댔거든 반려문어\\n강아지 목욕도 시켜야 하는데\\n반려 갑오징어도 한 마리 부탁해\\n강아지 목욕 시키지 진짜 힘듬\\n어 오늘 날씨 정말 춥더라\\n알았어 내가 바로 어부닷\\n강아지 목욕은 그 드라이룸만 있으면 좀 수월할 거 같아\\n어 그거 즘 사주라 로또 되면\\n먹을 거야 아마도\\n로또 되고싶다'"
      ]
     },
     "execution_count": 240,
     "metadata": {},
     "output_type": "execute_result"
    }
   ],
   "source": [
    "Sam['conversation'][id[0]]"
   ]
  },
  {
   "cell_type": "code",
   "execution_count": 241,
   "metadata": {
    "id": "20juSRbT8Mmb"
   },
   "outputs": [
    {
     "data": {
      "text/plain": [
       "'는 어짜피 군대 가야지\\n군대는 사람을 힘들게 하는 곳이지\\n가서 인내심을 배워 그럼 농사 할 수 있어\\n가서 잘하면 선임들한테 칭찬을 받지\\n그건 아닌데 농사 하려면 인내심은 기본이야\\n인내심은 모든 곳의 기본이지\\n하하 오빠는 군대에서 인내심을 길렀어\\n군대에 가면 자기개발은 무었을 할 거니\\n오빠는 후임들 괴롭히고 놀았을 듯\\n난 족구를 열심히 하며 시간을 가졌어\\n오빠 축구 잘 못하지 않어\\n족구 마스터가 되어 나오게 될 거야 너는\\n난 축구 족구 피구 다 못해\\n난 북일고에서 축구로 제일가는 선수였어\\n난 배드민턴 잘하는데 군대에서 이것도 좋아해줘\\n축구는 잘 하는 편이니\\n군대는 풋살 못하면 친해지기 힘들 것이야'"
      ]
     },
     "execution_count": 241,
     "metadata": {},
     "output_type": "execute_result"
    }
   ],
   "source": [
    "Sam['conversation'][id[1]]"
   ]
  },
  {
   "cell_type": "code",
   "execution_count": 242,
   "metadata": {
    "id": "joR1rWyb81PZ"
   },
   "outputs": [
    {
     "data": {
      "text/html": [
       "<div>\n",
       "<style scoped>\n",
       "    .dataframe tbody tr th:only-of-type {\n",
       "        vertical-align: middle;\n",
       "    }\n",
       "\n",
       "    .dataframe tbody tr th {\n",
       "        vertical-align: top;\n",
       "    }\n",
       "\n",
       "    .dataframe thead th {\n",
       "        text-align: right;\n",
       "    }\n",
       "</style>\n",
       "<table border=\"1\" class=\"dataframe\">\n",
       "  <thead>\n",
       "    <tr style=\"text-align: right;\">\n",
       "      <th></th>\n",
       "      <th>idx</th>\n",
       "      <th>pred</th>\n",
       "      <th>real</th>\n",
       "    </tr>\n",
       "  </thead>\n",
       "  <tbody>\n",
       "    <tr>\n",
       "      <th>8</th>\n",
       "      <td>35</td>\n",
       "      <td>갈취 대화</td>\n",
       "      <td>기타 괴롭힘 대화</td>\n",
       "    </tr>\n",
       "    <tr>\n",
       "      <th>42</th>\n",
       "      <td>198</td>\n",
       "      <td>일반 대화</td>\n",
       "      <td>기타 괴롭힘 대화</td>\n",
       "    </tr>\n",
       "  </tbody>\n",
       "</table>\n",
       "</div>"
      ],
      "text/plain": [
       "    idx   pred       real\n",
       "8    35  갈취 대화  기타 괴롭힘 대화\n",
       "42  198  일반 대화  기타 괴롭힘 대화"
      ]
     },
     "execution_count": 242,
     "metadata": {},
     "output_type": "execute_result"
    }
   ],
   "source": [
    "Sam = error_result[error_result['real'] == '기타 괴롭힘 대화'].sample(n=2)\n",
    "id = Sam.index\n",
    "Sam[['idx','pred', 'real']]"
   ]
  },
  {
   "cell_type": "code",
   "execution_count": 243,
   "metadata": {
    "id": "NDxs1k3v8_1P"
   },
   "outputs": [
    {
     "data": {
      "text/plain": [
       "'니는 아직 결혼 생각 없는 거가\\n어 나는 결혼 천천히 할 생각이야 너는\\n주변 친구들 결혼 많이 하지 않았나\\n주변에 나름 좀 하긴 했지\\n근데 친한 친구들은 그렇게 많이 한 편은 아니라서 하하\\n나도 결혼은 미룰 수 있을 때 까지 미뤄야 하지 않겠나\\n맞는 말이다 우리 평균 수명이 늘어나서 천천히 가야 된다\\n나도 친한 친구들 중에 결혼 한 애가 한 명 밖에 없어 아직\\n한 명 진짜 많이 없네\\n결혼까지는 좋은데 애 낳고 하면 힘들다\\n그래 그래 결혼식 안 간지도 엄청 오래됐다 나는\\n나는 올해 6월에 절친 결혼해서 갔다 왔어\\n그렇지 요즘 아무리 남편이랑 같이 육아하고 한다 해도 여자들이 많이 손해를 보는 것 같다 아직까진\\n어 대부분의 남편들 육아 잘 안 함\\n난 내년에 친구 하나 결혼 예정이라 결혼식 가 볼 수 있다\\n그 전에 코로나가 좀 나아져야 할 텐데\\n어어 육아 같이 한다고 말은 하던데\\n실제로 잘 안되겠지\\n애를 또 잘 보는 남자가 잘 없더라'"
      ]
     },
     "execution_count": 243,
     "metadata": {},
     "output_type": "execute_result"
    }
   ],
   "source": [
    "Sam['conversation'][id[0]]"
   ]
  },
  {
   "cell_type": "code",
   "execution_count": 244,
   "metadata": {
    "id": "4Y5IffD29BeC"
   },
   "outputs": [
    {
     "data": {
      "text/plain": [
       "'이번 여름 장마에는 비가 많이 안 왔어요\\n그러게요 여름에 안 오고 오히려 가을에 많이 온 것 같은데요\\n이번 여름에 하도 무더워서 고생했는데 금방 가을이 온 것 같아요\\n맞아요 여름에 우리 셋이 강아지들 산책 시키느라 땀 뻘뻘 흘렸죠\\n그러게요 우리 날도 좋아졌으니 어디 놀러 갈까요\\n너무 좋죠 그런데 저 어릴 때는 추석 때 추워서 두꺼운 스웨터 입었던 기억이 나는데 날씨가 많이 변한 것 같아요\\n전 그나마 가을 도 좋고 봄도 괜찮은데 두 분은 어떤 계절 좋아하세요\\n전 봄이랑 가을요\\n근데 가을이 더 좋은 것 같아요\\n봄에는 미세먼지가 좀 있잖아요\\n아 맞아요 저도 미세먼지 정말 싫어요\\n그런데 전 여름도 좋고 겨울도 좋아요\\n사실 여러 스포츠를 즐길 수 있어서요\\n요가도 잘하시던데 다른 운동도 좋아하나 봐요\\n네 저는 계절마다 할 수 있는 것들을 다 해보려고 하는 편이에요\\n와 대단하네요 저는 사실 집에 있는 걸 제일 좋아해요 집순이에요\\n저는 힘들게 하는 걸 더 좋아해요\\n가을에는 설악산이나 지리산에 가서 등산하는 게 최고죠\\n헐 저는 가을에 그냥 집 근처 산책하는 게 더 좋아요 아니면 그냥 가까운 곳이요\\n전 가을에 산에 가서 단풍 보면 행복해지더라구요\\n그럼 우리 가을에 같이 산에 단풍 보러 갈까요 강아지들 데리구요'"
      ]
     },
     "execution_count": 244,
     "metadata": {},
     "output_type": "execute_result"
    }
   ],
   "source": [
    "Sam['conversation'][id[1]]"
   ]
  },
  {
   "cell_type": "code",
   "execution_count": 245,
   "metadata": {
    "id": "actI3OJK9DA9"
   },
   "outputs": [
    {
     "data": {
      "text/html": [
       "<div>\n",
       "<style scoped>\n",
       "    .dataframe tbody tr th:only-of-type {\n",
       "        vertical-align: middle;\n",
       "    }\n",
       "\n",
       "    .dataframe tbody tr th {\n",
       "        vertical-align: top;\n",
       "    }\n",
       "\n",
       "    .dataframe thead th {\n",
       "        text-align: right;\n",
       "    }\n",
       "</style>\n",
       "<table border=\"1\" class=\"dataframe\">\n",
       "  <thead>\n",
       "    <tr style=\"text-align: right;\">\n",
       "      <th></th>\n",
       "      <th>idx</th>\n",
       "      <th>pred</th>\n",
       "      <th>real</th>\n",
       "    </tr>\n",
       "  </thead>\n",
       "  <tbody>\n",
       "    <tr>\n",
       "      <th>3</th>\n",
       "      <td>11</td>\n",
       "      <td>기타 괴롭힘 대화</td>\n",
       "      <td>갈취 대화</td>\n",
       "    </tr>\n",
       "    <tr>\n",
       "      <th>18</th>\n",
       "      <td>98</td>\n",
       "      <td>기타 괴롭힘 대화</td>\n",
       "      <td>갈취 대화</td>\n",
       "    </tr>\n",
       "  </tbody>\n",
       "</table>\n",
       "</div>"
      ],
      "text/plain": [
       "    idx       pred   real\n",
       "3    11  기타 괴롭힘 대화  갈취 대화\n",
       "18   98  기타 괴롭힘 대화  갈취 대화"
      ]
     },
     "execution_count": 245,
     "metadata": {},
     "output_type": "execute_result"
    }
   ],
   "source": [
    "Sam = error_result[error_result['real'] == '갈취 대화'].sample(n=2)\n",
    "id = Sam.index\n",
    "Sam[['idx','pred', 'real']]"
   ]
  },
  {
   "cell_type": "code",
   "execution_count": 246,
   "metadata": {
    "id": "0L9R3zUo9GrC"
   },
   "outputs": [
    {
     "data": {
      "text/plain": [
       "'니는 결혼식 크게 할 생각이가\\n어 한 번 하는 건데 크게 해야지\\n니는 외동이라서 진짜 크게 해야 된다\\n니는 크게 안 할 거가\\n나는 첫째라서 집안에서 크게 하라고 그러더라\\n그래 한 번 하는 건데 기억에 남게 해야지\\n결혼할 때도 돈 진짜 많이 들어갈 텐데\\n결혼식은 축의금으로 거의 계산한대\\n축의금으로 그게 맞춰지는가\\n생각보다 많이 들어온다던데\\n근데 우리는 다 부모님이 뿌린 만큼\\n부모님 지인이지 뭐 ㅋ\\n맞다 받으면 돌려줘야지\\n결혼해서는 이제 우리가 뿌려야 된다\\n맞다 니 친구들은 결혼 다 했나\\n아니 결혼한 애들도 있는데 안 한 애들이 더 많다\\n내 주위도 안 한 사람이 많타'"
      ]
     },
     "execution_count": 246,
     "metadata": {},
     "output_type": "execute_result"
    }
   ],
   "source": [
    "Sam['conversation'][id[0]]"
   ]
  },
  {
   "cell_type": "code",
   "execution_count": 247,
   "metadata": {
    "id": "pJ_li-UF9IFd"
   },
   "outputs": [
    {
     "data": {
      "text/plain": [
       "'여전히 보험금 사기 사건은 끊이질 않네\\n나도 봤어 기사 고액 알바로 공범 모집해서 보험금 사기 친 거\\n근데 주범이 되게 대담한 것 같아\\n고액 알바 구한다고 구인구직 사이트에서 공범을 모집하다니\\n그러니까 그런 쪽으로 잘 아는 건가\\n정확히 어떤 거 보험금 사기를 치는 거야\\n미리 짜고 교통사고를 낸 다음에 보험사로부터 합의금이랑 차량 수리비를 받는 거지\\n보험이 그러라고 있는 게 아닌데\\n그런 보험금 사기 사건들 때문에 일반인들만 힘들어지지\\n진짜 교통사고 나면 보험금 받기 너무 까다롭다고 하더라\\n어쨌든 보험도 확인을 하고 보험금을 지급해야 하니까\\n그렇긴 하지\\n보험금 사기 사건이 한둘이 아니니까\\n진짜 보험금 사기 사건이 여러 방법으로 일어나서 경찰이나 보험나 힘들 것 같아\\n나도 그럴 것 같다는 생각했어\\n보험금 사기 사건으로 얼마 전에도 엄청 이슈였잖아\\n아 외제차값 갚으려고 보험금 노리고 여자친구 살해하려다 살인 미수된 사건'"
      ]
     },
     "execution_count": 247,
     "metadata": {},
     "output_type": "execute_result"
    }
   ],
   "source": [
    "Sam['conversation'][id[1]]"
   ]
  },
  {
   "cell_type": "code",
   "execution_count": 248,
   "metadata": {
    "id": "lPch9TLs9JXr"
   },
   "outputs": [
    {
     "data": {
      "text/html": [
       "<div>\n",
       "<style scoped>\n",
       "    .dataframe tbody tr th:only-of-type {\n",
       "        vertical-align: middle;\n",
       "    }\n",
       "\n",
       "    .dataframe tbody tr th {\n",
       "        vertical-align: top;\n",
       "    }\n",
       "\n",
       "    .dataframe thead th {\n",
       "        text-align: right;\n",
       "    }\n",
       "</style>\n",
       "<table border=\"1\" class=\"dataframe\">\n",
       "  <thead>\n",
       "    <tr style=\"text-align: right;\">\n",
       "      <th></th>\n",
       "      <th>idx</th>\n",
       "      <th>pred</th>\n",
       "      <th>real</th>\n",
       "    </tr>\n",
       "  </thead>\n",
       "  <tbody>\n",
       "    <tr>\n",
       "      <th>11</th>\n",
       "      <td>47</td>\n",
       "      <td>갈취 대화</td>\n",
       "      <td>협박 대화</td>\n",
       "    </tr>\n",
       "    <tr>\n",
       "      <th>90</th>\n",
       "      <td>390</td>\n",
       "      <td>기타 괴롭힘 대화</td>\n",
       "      <td>협박 대화</td>\n",
       "    </tr>\n",
       "  </tbody>\n",
       "</table>\n",
       "</div>"
      ],
      "text/plain": [
       "    idx       pred   real\n",
       "11   47      갈취 대화  협박 대화\n",
       "90  390  기타 괴롭힘 대화  협박 대화"
      ]
     },
     "execution_count": 248,
     "metadata": {},
     "output_type": "execute_result"
    }
   ],
   "source": [
    "Sam = error_result[error_result['real'] == '협박 대화'].sample(n=2)\n",
    "id = Sam.index\n",
    "Sam[['idx','pred', 'real']]"
   ]
  },
  {
   "cell_type": "code",
   "execution_count": 249,
   "metadata": {
    "id": "bCGtn-rQ9QpU"
   },
   "outputs": [
    {
     "data": {
      "text/plain": [
       "'너는 아르바이트 많이 해봤어\\n아뇨 하하\\n가끔 사촌형 가게 알바 했어요\\n아 진짜\\n어떤 가게 업무였어\\n사촌형이 떡집을 해서 힘 쓰는 일이 많이 필요해요\\n아 진짜\\n떡집은 바쁜 시즌이 딱 있는 거지\\n넵 하하 아무래도 명절이 대목이죠\\n명절 때 진짜 바빠서 업무가 많겠다\\n명절 2주 전부터 떡집은 전쟁이죠 하하\\n그럼 떡 엄청 많이 먹을 수 있었겠네\\n넵 하하 근데 떡을 좋아하지는 않아서 그냥 일만 도왔어요\\n뭔가 알바할 때 급여가 높았을 거 같은데\\n그렇게 많이 받지는 못했어요 하하\\n사촌 형이 급여 많이 챙겨줘서 좋았겠다\\n많이 챙겨줬으면 좋았을텐데 아쉽네요 하하\\n그래도 뭔가 부수입이 있으면 좋지 않나\\n넵 하하 그런 점에서는 좋아요 하하'"
      ]
     },
     "execution_count": 249,
     "metadata": {},
     "output_type": "execute_result"
    }
   ],
   "source": [
    "Sam['conversation'][id[0]]"
   ]
  },
  {
   "cell_type": "code",
   "execution_count": 250,
   "metadata": {
    "id": "7Sk2Sblc9RxD"
   },
   "outputs": [
    {
     "data": {
      "text/plain": [
       "'다이어트는 평생의 숙제인 듯해\\n그치 나도 올해 연말까지 몇 키로 만들기로 했는데\\n운동은 그렇다 쳐 식이조절 진짜 너무 하기 싫어\\n난 둘 다 식이가 더 힘들긴 해\\n아까 다이어트 도시락 얘기했잖아\\n먹고 있어\\n아 작년에 좀 먹다가 때려쳤지\\n저녁에 더 많이 먹게 되어서\\n하나에 330칼로리쯤 하는데 두 개 먹어야 대\\n그러니까 맛있어서 많이 먹게 되더라고\\n나 요즘 투고샐러드에 빠짐\\n맛있어\\n나는 사 먹는 샐러드는 서브웨이밖에 안 먹어봤어\\n웅 맛나는데 문제는 샐러드가 맛나서 먹는 게 아니라 계란밥을 먹어 목살 얹어서\\n반찬이네 샐러드는\\n근데 샐러드도 넘 맛있게 잘 나오더라 요즘\\n맞아 파스타 샐러드 특히 바질\\n와 말만 들어도 맛있겠다\\n그래서 다이어트 떄문에 먹는 게 맞는 건지 싶다니까\\n나는 점심때 거의 나가서 외식 하는데 항상 고칼로리만 먹어서 걱정이야'"
      ]
     },
     "execution_count": 250,
     "metadata": {},
     "output_type": "execute_result"
    }
   ],
   "source": [
    "Sam['conversation'][id[1]]"
   ]
  },
  {
   "cell_type": "code",
   "execution_count": 251,
   "metadata": {
    "id": "6xWUr7F39VUv"
   },
   "outputs": [
    {
     "data": {
      "text/html": [
       "<div>\n",
       "<style scoped>\n",
       "    .dataframe tbody tr th:only-of-type {\n",
       "        vertical-align: middle;\n",
       "    }\n",
       "\n",
       "    .dataframe tbody tr th {\n",
       "        vertical-align: top;\n",
       "    }\n",
       "\n",
       "    .dataframe thead th {\n",
       "        text-align: right;\n",
       "    }\n",
       "</style>\n",
       "<table border=\"1\" class=\"dataframe\">\n",
       "  <thead>\n",
       "    <tr style=\"text-align: right;\">\n",
       "      <th></th>\n",
       "      <th>idx</th>\n",
       "      <th>pred</th>\n",
       "      <th>real</th>\n",
       "    </tr>\n",
       "  </thead>\n",
       "  <tbody>\n",
       "    <tr>\n",
       "      <th>47</th>\n",
       "      <td>228</td>\n",
       "      <td>직장 내 괴롭힘 대화</td>\n",
       "      <td>일반 대화</td>\n",
       "    </tr>\n",
       "    <tr>\n",
       "      <th>16</th>\n",
       "      <td>76</td>\n",
       "      <td>직장 내 괴롭힘 대화</td>\n",
       "      <td>일반 대화</td>\n",
       "    </tr>\n",
       "  </tbody>\n",
       "</table>\n",
       "</div>"
      ],
      "text/plain": [
       "    idx         pred   real\n",
       "47  228  직장 내 괴롭힘 대화  일반 대화\n",
       "16   76  직장 내 괴롭힘 대화  일반 대화"
      ]
     },
     "execution_count": 251,
     "metadata": {},
     "output_type": "execute_result"
    }
   ],
   "source": [
    "Sam = error_result[error_result['real'] == '일반 대화'].sample(n=2)\n",
    "id = Sam.index\n",
    "Sam[['idx','pred', 'real']]"
   ]
  },
  {
   "cell_type": "code",
   "execution_count": 252,
   "metadata": {
    "id": "FdRKF-0-9Ydi"
   },
   "outputs": [
    {
     "data": {
      "text/plain": [
       "'야 너네 다음 카페 업뎃 된 거 들었어\\n아니 다음 카페를 안 해서 몰긋다\\n아니 그게 악성 페미니즘 카페가 다음에 있거든\\n아 어어 무서운 카페 그거\\n어어 우리가 지겹게 시달린 그곳이 다음 카페에 있단 말이야\\n어 근데 머가 업뎃 됐는디\\n응응 거기에 원래 글도 익명 댓글도 익명으로 올렸었나 봐\\n근데 이번에 업뎃 해 가지고 글쓴이가 쓴 댓글은 익명이어도 옆에 글쓴이 댓글이라고 뱃지가 달려\\n그럼 머 악플 이런 게 좀 덜 해지낭\\n아니 그건 아닌데\\n악성 페미 카페에 망상글 올리고 댓글로 싸우고 남자 욕하고 사회 욕하고 글 올린 사람 옹호하고 이런 댓글이 엄청 많았을 거 아니야\\n어엉 그런 거 장난 아니었지\\n근데 그게 알고 보니까 다 글쓴이 뱃지가 달린 댓글인 거야\\n한마디로 자기가 글 쓰고 자기가 주작질 해서 댓글 쓴 거지\\n아아 헐 대체 왜 그러는 거여 관심 받고 싶나\\n심지어 그런 글이 한두 개가 아니라 거진 대다수인 게 밝혀져서 여론 장난 없음 진짜\\n에혀 네이버도 연옌들 악플 심해서 댓글창 없애고 그랬었자너\\n맞아 진짜 주작들이나 망상 글은 왜 이렇게 해대는지 이해가 안 가 난\\n마자 다들 피해 의식이 장난 아닌 듯'"
      ]
     },
     "execution_count": 252,
     "metadata": {},
     "output_type": "execute_result"
    }
   ],
   "source": [
    "Sam['conversation'][id[0]]"
   ]
  },
  {
   "cell_type": "code",
   "execution_count": 253,
   "metadata": {
    "id": "wyc1uvSf9Zii"
   },
   "outputs": [
    {
     "data": {
      "text/plain": [
       "'저녁 메뉴로 소고기 먹으려고\\n저녁 메뉴가 소고기라니 부럽다\\n저녁이니까 메뉴가 과해야지\\n갑자기 소고기가 땡겼어\\n살치살도 맛있고 부채살도 맛있고\\n새우살은 한 번도 안 먹어 봤는데 먹어봐야겠네\\n나도 새우살은 안 먹어 봤어\\n하 부럽다\\n그렇지 소고기는 다 맛있지\\n등심 안심 소고기는 사랑입니다\\n맞다 육회랑 육사시미 다 먹어 주겠어\\n누구랑 가는데 저녁 메뉴가 어마어마해\\n부모님이랑 밖에 나가서 먹고 오려고\\n아 그럼 먹어야지\\n부모님 좋아하시겠다\\n응 엄마가 소고기 먹고 싶다고 하셔서\\n그럼 풀로 다 먹어 줘야지\\n세 명이 먹는데 너무 많지 않을까\\n다 1인분씩 시켜서 먹으면 되지'"
      ]
     },
     "execution_count": 253,
     "metadata": {},
     "output_type": "execute_result"
    }
   ],
   "source": [
    "Sam['conversation'][id[1]]"
   ]
  }
 ],
 "metadata": {
  "accelerator": "GPU",
  "colab": {
   "provenance": []
  },
  "gpuClass": "standard",
  "kernelspec": {
   "display_name": "Python 3 (ipykernel)",
   "language": "python",
   "name": "python3"
  },
  "language_info": {
   "codemirror_mode": {
    "name": "ipython",
    "version": 3
   },
   "file_extension": ".py",
   "mimetype": "text/x-python",
   "name": "python",
   "nbconvert_exporter": "python",
   "pygments_lexer": "ipython3",
   "version": "3.9.7"
  }
 },
 "nbformat": 4,
 "nbformat_minor": 1
}
