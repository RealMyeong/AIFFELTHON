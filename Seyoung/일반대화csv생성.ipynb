{
  "nbformat": 4,
  "nbformat_minor": 0,
  "metadata": {
    "colab": {
      "provenance": [],
      "mount_file_id": "1Mttlp3hWmcBqgqVrUxrDQuoqmd9AdGTT",
      "authorship_tag": "ABX9TyN5C9m5vauBxX55X8FC/Ve6",
      "include_colab_link": true
    },
    "kernelspec": {
      "name": "python3",
      "display_name": "Python 3"
    },
    "language_info": {
      "name": "python"
    },
    "accelerator": "GPU",
    "gpuClass": "standard"
  },
  "cells": [
    {
      "cell_type": "markdown",
      "metadata": {
        "id": "view-in-github",
        "colab_type": "text"
      },
      "source": [
        "<a href=\"https://colab.research.google.com/github/RealMyeong/AIFFELTHON/blob/main/Seyoung/%EC%9D%BC%EB%B0%98%EB%8C%80%ED%99%94csv%EC%83%9D%EC%84%B1.ipynb\" target=\"_parent\"><img src=\"https://colab.research.google.com/assets/colab-badge.svg\" alt=\"Open In Colab\"/></a>"
      ]
    },
    {
      "cell_type": "code",
      "source": [
        "import numpy as np\n",
        "import pandas as pd\n",
        "import os\n",
        "import re"
      ],
      "metadata": {
        "id": "f4-tG-mdSOu5"
      },
      "execution_count": 5,
      "outputs": []
    },
    {
      "cell_type": "markdown",
      "source": [
        "# 카카오톡"
      ],
      "metadata": {
        "id": "VABhFkUhZoMR"
      }
    },
    {
      "cell_type": "code",
      "source": [
        "kakao_path = '/content/drive/MyDrive/AIFFELTHON/일반대화/TS_KAKAO'\n",
        "KAKAO_list = os.listdir(kakao_path)"
      ],
      "metadata": {
        "id": "JCqLtrQ2TI8X"
      },
      "execution_count": 7,
      "outputs": []
    },
    {
      "cell_type": "code",
      "source": [
        "kakao_list = []\n",
        "for i in KAKAO_list[:350]:\n",
        "    with open(f'{kakao_path}/{i}', 'r') as f:\n",
        "        list_file = []\n",
        "        for line in f:\n",
        "            line = line.strip()\n",
        "            list_file.append(line)\n",
        "        kakao_list.append(list_file)\n",
        "\n",
        "len(kakao_list)"
      ],
      "metadata": {
        "colab": {
          "base_uri": "https://localhost:8080/"
        },
        "id": "Eiw-u7VuUASv",
        "outputId": "6da1cbe4-b0b4-4dfa-8c79-5555447c39dd"
      },
      "execution_count": 11,
      "outputs": [
        {
          "output_type": "execute_result",
          "data": {
            "text/plain": [
              "350"
            ]
          },
          "metadata": {},
          "execution_count": 11
        }
      ]
    },
    {
      "cell_type": "code",
      "source": [
        "kakao_list[0]"
      ],
      "metadata": {
        "colab": {
          "base_uri": "https://localhost:8080/"
        },
        "id": "IMpX3iUsjsxj",
        "outputId": "12fa61dd-4382-4ee0-c488-29929bee6443"
      },
      "execution_count": 14,
      "outputs": [
        {
          "output_type": "execute_result",
          "data": {
            "text/plain": [
              "['1 : 아니야 싫어',\n",
              " '1 : 난 자격증 공부나 할래',\n",
              " '2 : 자격증 공부는 좀 돼가...?',\n",
              " '1 : 요즘 계속 못하다가 오늘 정말 조금 했어',\n",
              " '2 : 다행이네 감은 아직 안 죽은 거지?',\n",
              " '1 : 응응 그래도 어제 올만에 강의 들었는데 잘한대 이주 쉬었어도',\n",
              " '2 : 강의를 듣다 보면 사고력이 자라나',\n",
              " '1 : 그것도 맞지. 나도 강의 들어야 하는데',\n",
              " '2 : 강의는 얼마나 더 들어야 해?',\n",
              " '1 : 지금껀 세 번 더 들으면 결제 강의 수가 끝나는데 들을 건 많아서 더 결제해야 해',\n",
              " '2 : 엄청 힘들겠다 ㅠㅠ 어떡해',\n",
              " '1 : 그래도 해야지 별 수 있나',\n",
              " '2 : 하지만 배움은 끝이 없기에 계속 도전해야 해',\n",
              " '1 : 맞아 배울 건 많고 도전할 것도 많아',\n",
              " '2 : 난 자기를 항상 응원해!',\n",
              " '1 : 나도 자기 항상 응원해',\n",
              " '2 : 우리 계속 도전하는 사이 되자']"
            ]
          },
          "metadata": {},
          "execution_count": 14
        }
      ]
    },
    {
      "cell_type": "code",
      "source": [
        "new_kakao = []\n",
        "\n",
        "for kakao in kakao_list:\n",
        "    new_sen = ''\n",
        "    for s in kakao:\n",
        "        s = re.sub('(\\d{1}) : ', '', s)\n",
        "        s += '\\n'\n",
        "        new_sen += s\n",
        "    \n",
        "    new_kakao.append(new_sen[:-1])\n",
        "\n",
        "new_kakao[3]"
      ],
      "metadata": {
        "colab": {
          "base_uri": "https://localhost:8080/",
          "height": 132
        },
        "id": "B9ULr8cbjuq8",
        "outputId": "251fecc8-b0c7-4bbf-b619-150f979b736c"
      },
      "execution_count": 23,
      "outputs": [
        {
          "output_type": "execute_result",
          "data": {
            "text/plain": [
              "'니는 예능 프로그램 챙겨 보는 거 뭐 있어? 키키\\n음 대탈출 챙겨 봤었어요 하하\\n나는 놀면 뭐 하니는 잘 챙겨 보는 편이다! 키키\\n오호 놀면 뭐 하니 최근에 김태호 피디 그만두지 않았어요?\\n오... 대탈출 그게 방탈출 게임 하는 거 맞제? 키키\\n넵 하하 방탈출 게임을 모티브로 했죠 하하\\n오... 그만둔다고 하던데 벌써 그만둔 건지는 모르겠다 키키\\n아하 바뀌면 놀면 뭐 하니 좀 많이 달라질 수도 있겠네요\\n대탈출 그거 재밌다고 하더라고?\\n시즌이 꽤 많이 나왔다고 하던데?\\n시즌4까지 나왔을걸요? 하하\\n한 달 전인가 두 달 전에 대탈출 시즌4 끝났어요 하하\\n응 그럴 것 같은데...\\n김태로랑 유재석 케미가 너무 좋았어서... 아쉽긴 하다 ㅜ\\n맞아요 하하\\n김태호가 유재석 악개로 유명하죠\\n오... 시즌 4까지 나왔구나!\\n그거 한 시리즈에 한 개 탈출하는 거가? 키키\\n아뇨 하하\\n스토리는 바뀌는데 시즌마다 이전 시즌이랑 세계관이 이어져요 하하\\n재밌겠네? 키키\\n넷플릭스 이런 데서 볼 수 있는가? 키키\\n넵 하하 아마 넷플릭스에 올라와 있을 거예요'"
            ],
            "application/vnd.google.colaboratory.intrinsic+json": {
              "type": "string"
            }
          },
          "metadata": {},
          "execution_count": 23
        }
      ]
    },
    {
      "cell_type": "code",
      "source": [
        "new_label = ['일반 대화']*350\n",
        "new_label = pd.DataFrame(zip(new_label))"
      ],
      "metadata": {
        "id": "qi5ZCknjqYiv"
      },
      "execution_count": null,
      "outputs": []
    },
    {
      "cell_type": "code",
      "source": [
        "kakao = pd.DataFrame(zip(new_kakao))\n",
        "kakao = pd.concat([kakao,new_label],axis=1)\n",
        "kakao.columns = ['conversation', 'class']\n",
        "kakao.head()"
      ],
      "metadata": {
        "colab": {
          "base_uri": "https://localhost:8080/",
          "height": 201
        },
        "id": "DBUHanTiekZ8",
        "outputId": "0b304ad1-5ccd-4b1e-923e-5b77cd7e92d9"
      },
      "execution_count": 76,
      "outputs": [
        {
          "output_type": "execute_result",
          "data": {
            "text/plain": [
              "                                        conversation  class\n",
              "0  아니야 싫어\\n난 자격증 공부나 할래\\n자격증 공부는 좀 돼가...?\\n요즘 계속 ...  일반 대화\n",
              "1  자격증을 딸까 아니면 지금 하고 있는 일에 집중할까?\\n흠 너 무슨 자격증 따려고 ...  일반 대화\n",
              "2  니는 예능 프로그램 챙겨 보는 거 뭐 있어? 키키\\n음 대탈출 챙겨 봤었어요 하하\\...  일반 대화\n",
              "3  니는 예능 프로그램 챙겨 보는 거 뭐 있어? 키키\\n음 대탈출 챙겨 봤었어요 하하\\...  일반 대화\n",
              "4  자격증을 딸까 아니면 지금 하고 있는 일에 집중할까?\\n흠 너 무슨 자격증 따려고 ...  일반 대화"
            ],
            "text/html": [
              "\n",
              "  <div id=\"df-b3bda766-d4c5-4831-9a69-972ae68567c6\">\n",
              "    <div class=\"colab-df-container\">\n",
              "      <div>\n",
              "<style scoped>\n",
              "    .dataframe tbody tr th:only-of-type {\n",
              "        vertical-align: middle;\n",
              "    }\n",
              "\n",
              "    .dataframe tbody tr th {\n",
              "        vertical-align: top;\n",
              "    }\n",
              "\n",
              "    .dataframe thead th {\n",
              "        text-align: right;\n",
              "    }\n",
              "</style>\n",
              "<table border=\"1\" class=\"dataframe\">\n",
              "  <thead>\n",
              "    <tr style=\"text-align: right;\">\n",
              "      <th></th>\n",
              "      <th>conversation</th>\n",
              "      <th>class</th>\n",
              "    </tr>\n",
              "  </thead>\n",
              "  <tbody>\n",
              "    <tr>\n",
              "      <th>0</th>\n",
              "      <td>아니야 싫어\\n난 자격증 공부나 할래\\n자격증 공부는 좀 돼가...?\\n요즘 계속 ...</td>\n",
              "      <td>일반 대화</td>\n",
              "    </tr>\n",
              "    <tr>\n",
              "      <th>1</th>\n",
              "      <td>자격증을 딸까 아니면 지금 하고 있는 일에 집중할까?\\n흠 너 무슨 자격증 따려고 ...</td>\n",
              "      <td>일반 대화</td>\n",
              "    </tr>\n",
              "    <tr>\n",
              "      <th>2</th>\n",
              "      <td>니는 예능 프로그램 챙겨 보는 거 뭐 있어? 키키\\n음 대탈출 챙겨 봤었어요 하하\\...</td>\n",
              "      <td>일반 대화</td>\n",
              "    </tr>\n",
              "    <tr>\n",
              "      <th>3</th>\n",
              "      <td>니는 예능 프로그램 챙겨 보는 거 뭐 있어? 키키\\n음 대탈출 챙겨 봤었어요 하하\\...</td>\n",
              "      <td>일반 대화</td>\n",
              "    </tr>\n",
              "    <tr>\n",
              "      <th>4</th>\n",
              "      <td>자격증을 딸까 아니면 지금 하고 있는 일에 집중할까?\\n흠 너 무슨 자격증 따려고 ...</td>\n",
              "      <td>일반 대화</td>\n",
              "    </tr>\n",
              "  </tbody>\n",
              "</table>\n",
              "</div>\n",
              "      <button class=\"colab-df-convert\" onclick=\"convertToInteractive('df-b3bda766-d4c5-4831-9a69-972ae68567c6')\"\n",
              "              title=\"Convert this dataframe to an interactive table.\"\n",
              "              style=\"display:none;\">\n",
              "        \n",
              "  <svg xmlns=\"http://www.w3.org/2000/svg\" height=\"24px\"viewBox=\"0 0 24 24\"\n",
              "       width=\"24px\">\n",
              "    <path d=\"M0 0h24v24H0V0z\" fill=\"none\"/>\n",
              "    <path d=\"M18.56 5.44l.94 2.06.94-2.06 2.06-.94-2.06-.94-.94-2.06-.94 2.06-2.06.94zm-11 1L8.5 8.5l.94-2.06 2.06-.94-2.06-.94L8.5 2.5l-.94 2.06-2.06.94zm10 10l.94 2.06.94-2.06 2.06-.94-2.06-.94-.94-2.06-.94 2.06-2.06.94z\"/><path d=\"M17.41 7.96l-1.37-1.37c-.4-.4-.92-.59-1.43-.59-.52 0-1.04.2-1.43.59L10.3 9.45l-7.72 7.72c-.78.78-.78 2.05 0 2.83L4 21.41c.39.39.9.59 1.41.59.51 0 1.02-.2 1.41-.59l7.78-7.78 2.81-2.81c.8-.78.8-2.07 0-2.86zM5.41 20L4 18.59l7.72-7.72 1.47 1.35L5.41 20z\"/>\n",
              "  </svg>\n",
              "      </button>\n",
              "      \n",
              "  <style>\n",
              "    .colab-df-container {\n",
              "      display:flex;\n",
              "      flex-wrap:wrap;\n",
              "      gap: 12px;\n",
              "    }\n",
              "\n",
              "    .colab-df-convert {\n",
              "      background-color: #E8F0FE;\n",
              "      border: none;\n",
              "      border-radius: 50%;\n",
              "      cursor: pointer;\n",
              "      display: none;\n",
              "      fill: #1967D2;\n",
              "      height: 32px;\n",
              "      padding: 0 0 0 0;\n",
              "      width: 32px;\n",
              "    }\n",
              "\n",
              "    .colab-df-convert:hover {\n",
              "      background-color: #E2EBFA;\n",
              "      box-shadow: 0px 1px 2px rgba(60, 64, 67, 0.3), 0px 1px 3px 1px rgba(60, 64, 67, 0.15);\n",
              "      fill: #174EA6;\n",
              "    }\n",
              "\n",
              "    [theme=dark] .colab-df-convert {\n",
              "      background-color: #3B4455;\n",
              "      fill: #D2E3FC;\n",
              "    }\n",
              "\n",
              "    [theme=dark] .colab-df-convert:hover {\n",
              "      background-color: #434B5C;\n",
              "      box-shadow: 0px 1px 3px 1px rgba(0, 0, 0, 0.15);\n",
              "      filter: drop-shadow(0px 1px 2px rgba(0, 0, 0, 0.3));\n",
              "      fill: #FFFFFF;\n",
              "    }\n",
              "  </style>\n",
              "\n",
              "      <script>\n",
              "        const buttonEl =\n",
              "          document.querySelector('#df-b3bda766-d4c5-4831-9a69-972ae68567c6 button.colab-df-convert');\n",
              "        buttonEl.style.display =\n",
              "          google.colab.kernel.accessAllowed ? 'block' : 'none';\n",
              "\n",
              "        async function convertToInteractive(key) {\n",
              "          const element = document.querySelector('#df-b3bda766-d4c5-4831-9a69-972ae68567c6');\n",
              "          const dataTable =\n",
              "            await google.colab.kernel.invokeFunction('convertToInteractive',\n",
              "                                                     [key], {});\n",
              "          if (!dataTable) return;\n",
              "\n",
              "          const docLinkHtml = 'Like what you see? Visit the ' +\n",
              "            '<a target=\"_blank\" href=https://colab.research.google.com/notebooks/data_table.ipynb>data table notebook</a>'\n",
              "            + ' to learn more about interactive tables.';\n",
              "          element.innerHTML = '';\n",
              "          dataTable['output_type'] = 'display_data';\n",
              "          await google.colab.output.renderOutput(dataTable, element);\n",
              "          const docLink = document.createElement('div');\n",
              "          docLink.innerHTML = docLinkHtml;\n",
              "          element.appendChild(docLink);\n",
              "        }\n",
              "      </script>\n",
              "    </div>\n",
              "  </div>\n",
              "  "
            ]
          },
          "metadata": {},
          "execution_count": 76
        }
      ]
    },
    {
      "cell_type": "markdown",
      "source": [
        "# 에듀케이션"
      ],
      "metadata": {
        "id": "kpEDHtoKZr26"
      }
    },
    {
      "cell_type": "code",
      "source": [
        "EDU_path = '/content/drive/MyDrive/AIFFELTHON/일반대화/TS_EDU/01.프로그램문의'\n",
        "EDU_list = os.listdir(EDU_path)\n",
        "\n",
        "edu_list = []\n",
        "for i in EDU_list[:350]:\n",
        "    with open(f'{EDU_path}/{i}', 'r') as f:\n",
        "        list_file = []\n",
        "        for line in f:\n",
        "            line = line.strip()\n",
        "            list_file.append(line)\n",
        "        edu_list.append(list_file)\n",
        "\n",
        "len(edu_list)"
      ],
      "metadata": {
        "colab": {
          "base_uri": "https://localhost:8080/"
        },
        "id": "mICYsqwwYaIl",
        "outputId": "4fd2d3c1-a264-4808-d63d-78758dc4f34b"
      },
      "execution_count": 57,
      "outputs": [
        {
          "output_type": "execute_result",
          "data": {
            "text/plain": [
              "350"
            ]
          },
          "metadata": {},
          "execution_count": 57
        }
      ]
    },
    {
      "cell_type": "code",
      "source": [
        "edu_list[1]"
      ],
      "metadata": {
        "colab": {
          "base_uri": "https://localhost:8080/"
        },
        "id": "r_5aXJDXZI9o",
        "outputId": "abdc17d5-cc2b-4791-ffea-f28bc96a229e"
      },
      "execution_count": 58,
      "outputs": [
        {
          "output_type": "execute_result",
          "data": {
            "text/plain": [
              "['A.무엇을 도와드릴까요 #@소속# 고객센터 상담원 #@이름#입니다',\n",
              " 'B.상담 좀 하고 싶은데요 어제 #@소속#으로 전학 왔어요',\n",
              " 'A.고객님 어떤 게 궁금하신가요',\n",
              " 'B.그러니까 한 텀이라고 해야 되나 그런 건 얼마나 되나요',\n",
              " 'A.기본적으론 3개월인데요 내신대비 기간 포함 4개월 정도 돼요',\n",
              " 'B.그럼 3개월 동안 레벨이 올라가고 내려갈 수도 있고 그런가요',\n",
              " 'A.학생의 레벨하고 맞지 않다면 당연히 조정해야지요',\n",
              " 'B.그럼 한 반에는 몇 명이나 있나요',\n",
              " 'A.반마다 다른데요 그래도 일곱에서 열명 내외 그 정도예요',\n",
              " 'B.그럼 레벨테스트도 있는 거고요',\n",
              " 'A.그렇습니다 자녀분 테스트 시간에 상담받아보시는 건 어떠세요',\n",
              " 'B.그럼 아이 일정 조율해서 연락드릴게요 수고하세요',\n",
              " 'A.문의 사항 있으시면 연락 주세요 #@소속# #@이름# 이었습니다']"
            ]
          },
          "metadata": {},
          "execution_count": 58
        }
      ]
    },
    {
      "cell_type": "code",
      "source": [
        "new_edu = []\n",
        "\n",
        "for edu in edu_list:\n",
        "    new_sen = ''\n",
        "    for s in edu:\n",
        "        s = re.sub('^[A-Z].', '', s)\n",
        "        s += '\\n'\n",
        "        new_sen += s\n",
        "    \n",
        "    new_edu.append(new_sen[:-1])\n",
        "\n",
        "new_edu[3]"
      ],
      "metadata": {
        "colab": {
          "base_uri": "https://localhost:8080/",
          "height": 83
        },
        "id": "NESYa2cfnlK-",
        "outputId": "ab8bbf52-b695-4021-b589-b6db227bee61"
      },
      "execution_count": 59,
      "outputs": [
        {
          "output_type": "execute_result",
          "data": {
            "text/plain": [
              "'날개를 달아줄게요#@소속# 고객센터 상담원#@이름#입니다\\n여긴 #@주소# 쪽인데 학원 위치가 어딘가요\\n#@주소#에서 #@주소# 방면으로 쭉 올라오시면 되는데요\\n그럼 걸어가긴 좀 그러네요 차 갖고 가도 되죠\\n#@소속# 1관 검색하고 오셔서 1관 앞에 주차 하시구요\\n#@소속# 1관 으로 요\\n네 앞에 주차하시고 경비원에게 안내받으시면 되세요\\n내비게이션에 나오는#@주소# 이거 맞죠\\n맞습니다 1관 앞에 #@소속#경비원이 앞에 있을 거예요\\n알겠습니다 감사합니다 수고하세요\\n #@소속# 상담원#@이름# 였습니다 좋은 하루 되세요'"
            ],
            "application/vnd.google.colaboratory.intrinsic+json": {
              "type": "string"
            }
          },
          "metadata": {},
          "execution_count": 59
        }
      ]
    },
    {
      "cell_type": "code",
      "source": [
        "edu = pd.DataFrame(zip(new_edu))\n",
        "edu = pd.concat([edu,new_label],axis=1)\n",
        "edu.columns = ['conversation', 'class']\n",
        "edu.shape\n",
        "edu.head()"
      ],
      "metadata": {
        "colab": {
          "base_uri": "https://localhost:8080/",
          "height": 201
        },
        "id": "GRH8ggj0o7Td",
        "outputId": "ee699288-43de-4181-9c0d-7277129eec88"
      },
      "execution_count": 60,
      "outputs": [
        {
          "output_type": "execute_result",
          "data": {
            "text/plain": [
              "                                        conversation  class\n",
              "0  친절한 상담으로 보답합니다#@소속# 고객센터#@이름# 입니다\\n안녕하세요 6620 ...  일반 대화\n",
              "1  무엇을 도와드릴까요 #@소속# 고객센터 상담원 #@이름#입니다\\n상담 좀 하고 싶은...  일반 대화\n",
              "2  안녕하십니까 #@소속# 고객센터 상담원 #@이름# 입니다\\n궁금한게 있어서 전화 드...  일반 대화\n",
              "3  날개를 달아줄게요#@소속# 고객센터 상담원#@이름#입니다\\n여긴 #@주소# 쪽인데 ...  일반 대화\n",
              "4  늦게 받아 죄송합니다 #@소속# 고객센터 #@이름# 입니다\\n숙제 관련해서 문의 사...  일반 대화"
            ],
            "text/html": [
              "\n",
              "  <div id=\"df-680d854e-fc35-4a57-b403-969da37550a8\">\n",
              "    <div class=\"colab-df-container\">\n",
              "      <div>\n",
              "<style scoped>\n",
              "    .dataframe tbody tr th:only-of-type {\n",
              "        vertical-align: middle;\n",
              "    }\n",
              "\n",
              "    .dataframe tbody tr th {\n",
              "        vertical-align: top;\n",
              "    }\n",
              "\n",
              "    .dataframe thead th {\n",
              "        text-align: right;\n",
              "    }\n",
              "</style>\n",
              "<table border=\"1\" class=\"dataframe\">\n",
              "  <thead>\n",
              "    <tr style=\"text-align: right;\">\n",
              "      <th></th>\n",
              "      <th>conversation</th>\n",
              "      <th>class</th>\n",
              "    </tr>\n",
              "  </thead>\n",
              "  <tbody>\n",
              "    <tr>\n",
              "      <th>0</th>\n",
              "      <td>친절한 상담으로 보답합니다#@소속# 고객센터#@이름# 입니다\\n안녕하세요 6620 ...</td>\n",
              "      <td>일반 대화</td>\n",
              "    </tr>\n",
              "    <tr>\n",
              "      <th>1</th>\n",
              "      <td>무엇을 도와드릴까요 #@소속# 고객센터 상담원 #@이름#입니다\\n상담 좀 하고 싶은...</td>\n",
              "      <td>일반 대화</td>\n",
              "    </tr>\n",
              "    <tr>\n",
              "      <th>2</th>\n",
              "      <td>안녕하십니까 #@소속# 고객센터 상담원 #@이름# 입니다\\n궁금한게 있어서 전화 드...</td>\n",
              "      <td>일반 대화</td>\n",
              "    </tr>\n",
              "    <tr>\n",
              "      <th>3</th>\n",
              "      <td>날개를 달아줄게요#@소속# 고객센터 상담원#@이름#입니다\\n여긴 #@주소# 쪽인데 ...</td>\n",
              "      <td>일반 대화</td>\n",
              "    </tr>\n",
              "    <tr>\n",
              "      <th>4</th>\n",
              "      <td>늦게 받아 죄송합니다 #@소속# 고객센터 #@이름# 입니다\\n숙제 관련해서 문의 사...</td>\n",
              "      <td>일반 대화</td>\n",
              "    </tr>\n",
              "  </tbody>\n",
              "</table>\n",
              "</div>\n",
              "      <button class=\"colab-df-convert\" onclick=\"convertToInteractive('df-680d854e-fc35-4a57-b403-969da37550a8')\"\n",
              "              title=\"Convert this dataframe to an interactive table.\"\n",
              "              style=\"display:none;\">\n",
              "        \n",
              "  <svg xmlns=\"http://www.w3.org/2000/svg\" height=\"24px\"viewBox=\"0 0 24 24\"\n",
              "       width=\"24px\">\n",
              "    <path d=\"M0 0h24v24H0V0z\" fill=\"none\"/>\n",
              "    <path d=\"M18.56 5.44l.94 2.06.94-2.06 2.06-.94-2.06-.94-.94-2.06-.94 2.06-2.06.94zm-11 1L8.5 8.5l.94-2.06 2.06-.94-2.06-.94L8.5 2.5l-.94 2.06-2.06.94zm10 10l.94 2.06.94-2.06 2.06-.94-2.06-.94-.94-2.06-.94 2.06-2.06.94z\"/><path d=\"M17.41 7.96l-1.37-1.37c-.4-.4-.92-.59-1.43-.59-.52 0-1.04.2-1.43.59L10.3 9.45l-7.72 7.72c-.78.78-.78 2.05 0 2.83L4 21.41c.39.39.9.59 1.41.59.51 0 1.02-.2 1.41-.59l7.78-7.78 2.81-2.81c.8-.78.8-2.07 0-2.86zM5.41 20L4 18.59l7.72-7.72 1.47 1.35L5.41 20z\"/>\n",
              "  </svg>\n",
              "      </button>\n",
              "      \n",
              "  <style>\n",
              "    .colab-df-container {\n",
              "      display:flex;\n",
              "      flex-wrap:wrap;\n",
              "      gap: 12px;\n",
              "    }\n",
              "\n",
              "    .colab-df-convert {\n",
              "      background-color: #E8F0FE;\n",
              "      border: none;\n",
              "      border-radius: 50%;\n",
              "      cursor: pointer;\n",
              "      display: none;\n",
              "      fill: #1967D2;\n",
              "      height: 32px;\n",
              "      padding: 0 0 0 0;\n",
              "      width: 32px;\n",
              "    }\n",
              "\n",
              "    .colab-df-convert:hover {\n",
              "      background-color: #E2EBFA;\n",
              "      box-shadow: 0px 1px 2px rgba(60, 64, 67, 0.3), 0px 1px 3px 1px rgba(60, 64, 67, 0.15);\n",
              "      fill: #174EA6;\n",
              "    }\n",
              "\n",
              "    [theme=dark] .colab-df-convert {\n",
              "      background-color: #3B4455;\n",
              "      fill: #D2E3FC;\n",
              "    }\n",
              "\n",
              "    [theme=dark] .colab-df-convert:hover {\n",
              "      background-color: #434B5C;\n",
              "      box-shadow: 0px 1px 3px 1px rgba(0, 0, 0, 0.15);\n",
              "      filter: drop-shadow(0px 1px 2px rgba(0, 0, 0, 0.3));\n",
              "      fill: #FFFFFF;\n",
              "    }\n",
              "  </style>\n",
              "\n",
              "      <script>\n",
              "        const buttonEl =\n",
              "          document.querySelector('#df-680d854e-fc35-4a57-b403-969da37550a8 button.colab-df-convert');\n",
              "        buttonEl.style.display =\n",
              "          google.colab.kernel.accessAllowed ? 'block' : 'none';\n",
              "\n",
              "        async function convertToInteractive(key) {\n",
              "          const element = document.querySelector('#df-680d854e-fc35-4a57-b403-969da37550a8');\n",
              "          const dataTable =\n",
              "            await google.colab.kernel.invokeFunction('convertToInteractive',\n",
              "                                                     [key], {});\n",
              "          if (!dataTable) return;\n",
              "\n",
              "          const docLinkHtml = 'Like what you see? Visit the ' +\n",
              "            '<a target=\"_blank\" href=https://colab.research.google.com/notebooks/data_table.ipynb>data table notebook</a>'\n",
              "            + ' to learn more about interactive tables.';\n",
              "          element.innerHTML = '';\n",
              "          dataTable['output_type'] = 'display_data';\n",
              "          await google.colab.output.renderOutput(dataTable, element);\n",
              "          const docLink = document.createElement('div');\n",
              "          docLink.innerHTML = docLinkHtml;\n",
              "          element.appendChild(docLink);\n",
              "        }\n",
              "      </script>\n",
              "    </div>\n",
              "  </div>\n",
              "  "
            ]
          },
          "metadata": {},
          "execution_count": 60
        }
      ]
    },
    {
      "cell_type": "markdown",
      "source": [
        "# 쇼핑"
      ],
      "metadata": {
        "id": "TKM6IaIBZxPN"
      }
    },
    {
      "cell_type": "code",
      "source": [
        "sho_path = '/content/drive/MyDrive/AIFFELTHON/일반대화/TS_Shopping/07.온오프라인안내'\n",
        "SHO_list = os.listdir(sho_path)\n",
        "\n",
        "sho_list = []\n",
        "for i in SHO_list[:350]:\n",
        "    with open(f'{sho_path}/{i}', 'r') as f:\n",
        "        list_file = []\n",
        "        for line in f:\n",
        "            line = line.strip()\n",
        "            list_file.append(line)\n",
        "        sho_list.append(list_file)\n",
        "\n",
        "len(sho_list)"
      ],
      "metadata": {
        "colab": {
          "base_uri": "https://localhost:8080/"
        },
        "id": "MbWGdng2V_k8",
        "outputId": "b574238c-ee46-4104-d33b-6f028a5d9331"
      },
      "execution_count": 63,
      "outputs": [
        {
          "output_type": "execute_result",
          "data": {
            "text/plain": [
              "350"
            ]
          },
          "metadata": {},
          "execution_count": 63
        }
      ]
    },
    {
      "cell_type": "code",
      "source": [
        "sho_list[1]"
      ],
      "metadata": {
        "colab": {
          "base_uri": "https://localhost:8080/"
        },
        "id": "PUdSWkuHac8k",
        "outputId": "9bc26540-b216-4e53-9039-da2b2cdc2cf6"
      },
      "execution_count": 64,
      "outputs": [
        {
          "output_type": "execute_result",
          "data": {
            "text/plain": [
              "['A.안녕하세요 #@소속# 고객센터입니다',\n",
              " 'A.어떤 도움 필요하세요 고객님',\n",
              " 'B.네 온라인 회원번호를 잊어먹어서요',\n",
              " 'B.혹시 여기에서 알려줄 수 있나요',\n",
              " 'A.네 고객님 회원번호요',\n",
              " 'A.제가 해드리기는 힘들고요',\n",
              " 'A.#@전번# 여기로 전화해주시겠어요',\n",
              " 'B.거기서 찾아주나요 회원번호를요',\n",
              " 'A.연락주시면 바로 확인해 드릴 거예요',\n",
              " 'B.네 그러면 해볼게요 감사합니다',\n",
              " 'A.감사합니다 고객님 #@소속#였습니다']"
            ]
          },
          "metadata": {},
          "execution_count": 64
        }
      ]
    },
    {
      "cell_type": "code",
      "source": [
        "new_sho = []\n",
        "\n",
        "for sho in sho_list:\n",
        "    new_sen = ''\n",
        "    for s in sho:\n",
        "        s = re.sub('^[A-Z].', '', s)\n",
        "        s += '\\n'\n",
        "        new_sen += s\n",
        "    \n",
        "    new_sho.append(new_sen[:-1])\n",
        "\n",
        "new_sho[3]"
      ],
      "metadata": {
        "colab": {
          "base_uri": "https://localhost:8080/",
          "height": 67
        },
        "id": "eF-lLchypYOO",
        "outputId": "57e7b7ee-eccb-4cdd-d14e-9a8f14b9b17d"
      },
      "execution_count": 65,
      "outputs": [
        {
          "output_type": "execute_result",
          "data": {
            "text/plain": [
              "'안녕하세요 #@소속# 고객센터입니다\\n고객님의 질문에 성심껏 답변해 드리겠습니다\\n회원 정보를 변경하고 싶습니다\\n어떻게 해야 하나요\\n로그인 하셨나요 고객님\\n마이페이지의 회원정보 수정 메뉴가 있습니다\\n네 로그인하고 마이페이지요\\n회원정보는 언제든지 수정 가능합니다\\n수정된 사항은 즉시 반영됩니다\\n네 그럼 해볼게요 감사합니다\\n언제나 고객님의 편의를 위해 노력하겠습니다\\n감사합니다 고객님 #@소속#였습니다'"
            ],
            "application/vnd.google.colaboratory.intrinsic+json": {
              "type": "string"
            }
          },
          "metadata": {},
          "execution_count": 65
        }
      ]
    },
    {
      "cell_type": "code",
      "source": [
        "sho = pd.DataFrame(zip(new_sho))\n",
        "sho = pd.concat([sho,new_label],axis=1)\n",
        "sho.columns = ['conversation', 'class']\n",
        "sho.shape\n",
        "sho.head()"
      ],
      "metadata": {
        "colab": {
          "base_uri": "https://localhost:8080/",
          "height": 201
        },
        "id": "HM4tCzVdpbPu",
        "outputId": "294cf2d8-2c09-459d-9a78-76f27db32a2d"
      },
      "execution_count": 66,
      "outputs": [
        {
          "output_type": "execute_result",
          "data": {
            "text/plain": [
              "                                        conversation  class\n",
              "0  네 안녕하세요 #@소속# 상담원 #@이름# 입니다\\n제가 외국인인데 #@소속# 온라...  일반 대화\n",
              "1  안녕하세요 #@소속# 고객센터입니다\\n어떤 도움 필요하세요 고객님\\n네 온라인 회원...  일반 대화\n",
              "2  반갑습니다 @#소속# 상담사 #@이름#입니다\\n안녕하세요 회원 탈퇴를 하려고 하는데...  일반 대화\n",
              "3  안녕하세요 #@소속# 고객센터입니다\\n고객님의 질문에 성심껏 답변해 드리겠습니다\\n...  일반 대화\n",
              "4  전화 주셔서 감사합니다 #@소속# #@이름# 상담원입니다\\n휴대폰 인증은 본인 거로...  일반 대화"
            ],
            "text/html": [
              "\n",
              "  <div id=\"df-5fb955a0-3afc-4be2-807c-01a3cabc6ead\">\n",
              "    <div class=\"colab-df-container\">\n",
              "      <div>\n",
              "<style scoped>\n",
              "    .dataframe tbody tr th:only-of-type {\n",
              "        vertical-align: middle;\n",
              "    }\n",
              "\n",
              "    .dataframe tbody tr th {\n",
              "        vertical-align: top;\n",
              "    }\n",
              "\n",
              "    .dataframe thead th {\n",
              "        text-align: right;\n",
              "    }\n",
              "</style>\n",
              "<table border=\"1\" class=\"dataframe\">\n",
              "  <thead>\n",
              "    <tr style=\"text-align: right;\">\n",
              "      <th></th>\n",
              "      <th>conversation</th>\n",
              "      <th>class</th>\n",
              "    </tr>\n",
              "  </thead>\n",
              "  <tbody>\n",
              "    <tr>\n",
              "      <th>0</th>\n",
              "      <td>네 안녕하세요 #@소속# 상담원 #@이름# 입니다\\n제가 외국인인데 #@소속# 온라...</td>\n",
              "      <td>일반 대화</td>\n",
              "    </tr>\n",
              "    <tr>\n",
              "      <th>1</th>\n",
              "      <td>안녕하세요 #@소속# 고객센터입니다\\n어떤 도움 필요하세요 고객님\\n네 온라인 회원...</td>\n",
              "      <td>일반 대화</td>\n",
              "    </tr>\n",
              "    <tr>\n",
              "      <th>2</th>\n",
              "      <td>반갑습니다 @#소속# 상담사 #@이름#입니다\\n안녕하세요 회원 탈퇴를 하려고 하는데...</td>\n",
              "      <td>일반 대화</td>\n",
              "    </tr>\n",
              "    <tr>\n",
              "      <th>3</th>\n",
              "      <td>안녕하세요 #@소속# 고객센터입니다\\n고객님의 질문에 성심껏 답변해 드리겠습니다\\n...</td>\n",
              "      <td>일반 대화</td>\n",
              "    </tr>\n",
              "    <tr>\n",
              "      <th>4</th>\n",
              "      <td>전화 주셔서 감사합니다 #@소속# #@이름# 상담원입니다\\n휴대폰 인증은 본인 거로...</td>\n",
              "      <td>일반 대화</td>\n",
              "    </tr>\n",
              "  </tbody>\n",
              "</table>\n",
              "</div>\n",
              "      <button class=\"colab-df-convert\" onclick=\"convertToInteractive('df-5fb955a0-3afc-4be2-807c-01a3cabc6ead')\"\n",
              "              title=\"Convert this dataframe to an interactive table.\"\n",
              "              style=\"display:none;\">\n",
              "        \n",
              "  <svg xmlns=\"http://www.w3.org/2000/svg\" height=\"24px\"viewBox=\"0 0 24 24\"\n",
              "       width=\"24px\">\n",
              "    <path d=\"M0 0h24v24H0V0z\" fill=\"none\"/>\n",
              "    <path d=\"M18.56 5.44l.94 2.06.94-2.06 2.06-.94-2.06-.94-.94-2.06-.94 2.06-2.06.94zm-11 1L8.5 8.5l.94-2.06 2.06-.94-2.06-.94L8.5 2.5l-.94 2.06-2.06.94zm10 10l.94 2.06.94-2.06 2.06-.94-2.06-.94-.94-2.06-.94 2.06-2.06.94z\"/><path d=\"M17.41 7.96l-1.37-1.37c-.4-.4-.92-.59-1.43-.59-.52 0-1.04.2-1.43.59L10.3 9.45l-7.72 7.72c-.78.78-.78 2.05 0 2.83L4 21.41c.39.39.9.59 1.41.59.51 0 1.02-.2 1.41-.59l7.78-7.78 2.81-2.81c.8-.78.8-2.07 0-2.86zM5.41 20L4 18.59l7.72-7.72 1.47 1.35L5.41 20z\"/>\n",
              "  </svg>\n",
              "      </button>\n",
              "      \n",
              "  <style>\n",
              "    .colab-df-container {\n",
              "      display:flex;\n",
              "      flex-wrap:wrap;\n",
              "      gap: 12px;\n",
              "    }\n",
              "\n",
              "    .colab-df-convert {\n",
              "      background-color: #E8F0FE;\n",
              "      border: none;\n",
              "      border-radius: 50%;\n",
              "      cursor: pointer;\n",
              "      display: none;\n",
              "      fill: #1967D2;\n",
              "      height: 32px;\n",
              "      padding: 0 0 0 0;\n",
              "      width: 32px;\n",
              "    }\n",
              "\n",
              "    .colab-df-convert:hover {\n",
              "      background-color: #E2EBFA;\n",
              "      box-shadow: 0px 1px 2px rgba(60, 64, 67, 0.3), 0px 1px 3px 1px rgba(60, 64, 67, 0.15);\n",
              "      fill: #174EA6;\n",
              "    }\n",
              "\n",
              "    [theme=dark] .colab-df-convert {\n",
              "      background-color: #3B4455;\n",
              "      fill: #D2E3FC;\n",
              "    }\n",
              "\n",
              "    [theme=dark] .colab-df-convert:hover {\n",
              "      background-color: #434B5C;\n",
              "      box-shadow: 0px 1px 3px 1px rgba(0, 0, 0, 0.15);\n",
              "      filter: drop-shadow(0px 1px 2px rgba(0, 0, 0, 0.3));\n",
              "      fill: #FFFFFF;\n",
              "    }\n",
              "  </style>\n",
              "\n",
              "      <script>\n",
              "        const buttonEl =\n",
              "          document.querySelector('#df-5fb955a0-3afc-4be2-807c-01a3cabc6ead button.colab-df-convert');\n",
              "        buttonEl.style.display =\n",
              "          google.colab.kernel.accessAllowed ? 'block' : 'none';\n",
              "\n",
              "        async function convertToInteractive(key) {\n",
              "          const element = document.querySelector('#df-5fb955a0-3afc-4be2-807c-01a3cabc6ead');\n",
              "          const dataTable =\n",
              "            await google.colab.kernel.invokeFunction('convertToInteractive',\n",
              "                                                     [key], {});\n",
              "          if (!dataTable) return;\n",
              "\n",
              "          const docLinkHtml = 'Like what you see? Visit the ' +\n",
              "            '<a target=\"_blank\" href=https://colab.research.google.com/notebooks/data_table.ipynb>data table notebook</a>'\n",
              "            + ' to learn more about interactive tables.';\n",
              "          element.innerHTML = '';\n",
              "          dataTable['output_type'] = 'display_data';\n",
              "          await google.colab.output.renderOutput(dataTable, element);\n",
              "          const docLink = document.createElement('div');\n",
              "          docLink.innerHTML = docLinkHtml;\n",
              "          element.appendChild(docLink);\n",
              "        }\n",
              "      </script>\n",
              "    </div>\n",
              "  </div>\n",
              "  "
            ]
          },
          "metadata": {},
          "execution_count": 66
        }
      ]
    },
    {
      "cell_type": "markdown",
      "source": [
        "# 병합 및 csv저장"
      ],
      "metadata": {
        "id": "dkHdcyS-qt8T"
      }
    },
    {
      "cell_type": "code",
      "source": [
        "daily_talk = pd.concat([kakao, edu, sho], axis=0)\n",
        "daily_talk.head()"
      ],
      "metadata": {
        "colab": {
          "base_uri": "https://localhost:8080/",
          "height": 201
        },
        "id": "OVjjCbxxppCS",
        "outputId": "407af885-043d-4dff-fd85-75d94f4996fa"
      },
      "execution_count": 68,
      "outputs": [
        {
          "output_type": "execute_result",
          "data": {
            "text/plain": [
              "                                        conversation  class\n",
              "0  아니야 싫어\\n난 자격증 공부나 할래\\n자격증 공부는 좀 돼가...?\\n요즘 계속 ...  일반 대화\n",
              "1  자격증을 딸까 아니면 지금 하고 있는 일에 집중할까?\\n흠 너 무슨 자격증 따려고 ...  일반 대화\n",
              "2  니는 예능 프로그램 챙겨 보는 거 뭐 있어? 키키\\n음 대탈출 챙겨 봤었어요 하하\\...  일반 대화\n",
              "3  니는 예능 프로그램 챙겨 보는 거 뭐 있어? 키키\\n음 대탈출 챙겨 봤었어요 하하\\...  일반 대화\n",
              "4  자격증을 딸까 아니면 지금 하고 있는 일에 집중할까?\\n흠 너 무슨 자격증 따려고 ...  일반 대화"
            ],
            "text/html": [
              "\n",
              "  <div id=\"df-a1fb9699-39d8-446e-9a52-727e3db474b5\">\n",
              "    <div class=\"colab-df-container\">\n",
              "      <div>\n",
              "<style scoped>\n",
              "    .dataframe tbody tr th:only-of-type {\n",
              "        vertical-align: middle;\n",
              "    }\n",
              "\n",
              "    .dataframe tbody tr th {\n",
              "        vertical-align: top;\n",
              "    }\n",
              "\n",
              "    .dataframe thead th {\n",
              "        text-align: right;\n",
              "    }\n",
              "</style>\n",
              "<table border=\"1\" class=\"dataframe\">\n",
              "  <thead>\n",
              "    <tr style=\"text-align: right;\">\n",
              "      <th></th>\n",
              "      <th>conversation</th>\n",
              "      <th>class</th>\n",
              "    </tr>\n",
              "  </thead>\n",
              "  <tbody>\n",
              "    <tr>\n",
              "      <th>0</th>\n",
              "      <td>아니야 싫어\\n난 자격증 공부나 할래\\n자격증 공부는 좀 돼가...?\\n요즘 계속 ...</td>\n",
              "      <td>일반 대화</td>\n",
              "    </tr>\n",
              "    <tr>\n",
              "      <th>1</th>\n",
              "      <td>자격증을 딸까 아니면 지금 하고 있는 일에 집중할까?\\n흠 너 무슨 자격증 따려고 ...</td>\n",
              "      <td>일반 대화</td>\n",
              "    </tr>\n",
              "    <tr>\n",
              "      <th>2</th>\n",
              "      <td>니는 예능 프로그램 챙겨 보는 거 뭐 있어? 키키\\n음 대탈출 챙겨 봤었어요 하하\\...</td>\n",
              "      <td>일반 대화</td>\n",
              "    </tr>\n",
              "    <tr>\n",
              "      <th>3</th>\n",
              "      <td>니는 예능 프로그램 챙겨 보는 거 뭐 있어? 키키\\n음 대탈출 챙겨 봤었어요 하하\\...</td>\n",
              "      <td>일반 대화</td>\n",
              "    </tr>\n",
              "    <tr>\n",
              "      <th>4</th>\n",
              "      <td>자격증을 딸까 아니면 지금 하고 있는 일에 집중할까?\\n흠 너 무슨 자격증 따려고 ...</td>\n",
              "      <td>일반 대화</td>\n",
              "    </tr>\n",
              "  </tbody>\n",
              "</table>\n",
              "</div>\n",
              "      <button class=\"colab-df-convert\" onclick=\"convertToInteractive('df-a1fb9699-39d8-446e-9a52-727e3db474b5')\"\n",
              "              title=\"Convert this dataframe to an interactive table.\"\n",
              "              style=\"display:none;\">\n",
              "        \n",
              "  <svg xmlns=\"http://www.w3.org/2000/svg\" height=\"24px\"viewBox=\"0 0 24 24\"\n",
              "       width=\"24px\">\n",
              "    <path d=\"M0 0h24v24H0V0z\" fill=\"none\"/>\n",
              "    <path d=\"M18.56 5.44l.94 2.06.94-2.06 2.06-.94-2.06-.94-.94-2.06-.94 2.06-2.06.94zm-11 1L8.5 8.5l.94-2.06 2.06-.94-2.06-.94L8.5 2.5l-.94 2.06-2.06.94zm10 10l.94 2.06.94-2.06 2.06-.94-2.06-.94-.94-2.06-.94 2.06-2.06.94z\"/><path d=\"M17.41 7.96l-1.37-1.37c-.4-.4-.92-.59-1.43-.59-.52 0-1.04.2-1.43.59L10.3 9.45l-7.72 7.72c-.78.78-.78 2.05 0 2.83L4 21.41c.39.39.9.59 1.41.59.51 0 1.02-.2 1.41-.59l7.78-7.78 2.81-2.81c.8-.78.8-2.07 0-2.86zM5.41 20L4 18.59l7.72-7.72 1.47 1.35L5.41 20z\"/>\n",
              "  </svg>\n",
              "      </button>\n",
              "      \n",
              "  <style>\n",
              "    .colab-df-container {\n",
              "      display:flex;\n",
              "      flex-wrap:wrap;\n",
              "      gap: 12px;\n",
              "    }\n",
              "\n",
              "    .colab-df-convert {\n",
              "      background-color: #E8F0FE;\n",
              "      border: none;\n",
              "      border-radius: 50%;\n",
              "      cursor: pointer;\n",
              "      display: none;\n",
              "      fill: #1967D2;\n",
              "      height: 32px;\n",
              "      padding: 0 0 0 0;\n",
              "      width: 32px;\n",
              "    }\n",
              "\n",
              "    .colab-df-convert:hover {\n",
              "      background-color: #E2EBFA;\n",
              "      box-shadow: 0px 1px 2px rgba(60, 64, 67, 0.3), 0px 1px 3px 1px rgba(60, 64, 67, 0.15);\n",
              "      fill: #174EA6;\n",
              "    }\n",
              "\n",
              "    [theme=dark] .colab-df-convert {\n",
              "      background-color: #3B4455;\n",
              "      fill: #D2E3FC;\n",
              "    }\n",
              "\n",
              "    [theme=dark] .colab-df-convert:hover {\n",
              "      background-color: #434B5C;\n",
              "      box-shadow: 0px 1px 3px 1px rgba(0, 0, 0, 0.15);\n",
              "      filter: drop-shadow(0px 1px 2px rgba(0, 0, 0, 0.3));\n",
              "      fill: #FFFFFF;\n",
              "    }\n",
              "  </style>\n",
              "\n",
              "      <script>\n",
              "        const buttonEl =\n",
              "          document.querySelector('#df-a1fb9699-39d8-446e-9a52-727e3db474b5 button.colab-df-convert');\n",
              "        buttonEl.style.display =\n",
              "          google.colab.kernel.accessAllowed ? 'block' : 'none';\n",
              "\n",
              "        async function convertToInteractive(key) {\n",
              "          const element = document.querySelector('#df-a1fb9699-39d8-446e-9a52-727e3db474b5');\n",
              "          const dataTable =\n",
              "            await google.colab.kernel.invokeFunction('convertToInteractive',\n",
              "                                                     [key], {});\n",
              "          if (!dataTable) return;\n",
              "\n",
              "          const docLinkHtml = 'Like what you see? Visit the ' +\n",
              "            '<a target=\"_blank\" href=https://colab.research.google.com/notebooks/data_table.ipynb>data table notebook</a>'\n",
              "            + ' to learn more about interactive tables.';\n",
              "          element.innerHTML = '';\n",
              "          dataTable['output_type'] = 'display_data';\n",
              "          await google.colab.output.renderOutput(dataTable, element);\n",
              "          const docLink = document.createElement('div');\n",
              "          docLink.innerHTML = docLinkHtml;\n",
              "          element.appendChild(docLink);\n",
              "        }\n",
              "      </script>\n",
              "    </div>\n",
              "  </div>\n",
              "  "
            ]
          },
          "metadata": {},
          "execution_count": 68
        }
      ]
    },
    {
      "cell_type": "code",
      "source": [
        "daily_talk.shape"
      ],
      "metadata": {
        "colab": {
          "base_uri": "https://localhost:8080/"
        },
        "id": "0ieCsFgZrdT2",
        "outputId": "95030b6f-1c38-49e1-b875-46a4bb4cde5f"
      },
      "execution_count": 80,
      "outputs": [
        {
          "output_type": "execute_result",
          "data": {
            "text/plain": [
              "(1050, 2)"
            ]
          },
          "metadata": {},
          "execution_count": 80
        }
      ]
    },
    {
      "cell_type": "code",
      "source": [
        "daily_talk.isnull().sum()"
      ],
      "metadata": {
        "colab": {
          "base_uri": "https://localhost:8080/"
        },
        "id": "TIoyEkgdqBAc",
        "outputId": "fe8d7be7-1382-489a-8f51-6f4d778e342a"
      },
      "execution_count": 75,
      "outputs": [
        {
          "output_type": "execute_result",
          "data": {
            "text/plain": [
              "conversation    0\n",
              "class           0\n",
              "dtype: int64"
            ]
          },
          "metadata": {},
          "execution_count": 75
        }
      ]
    },
    {
      "cell_type": "code",
      "source": [
        "id = []\n",
        "for i in range(3950,5000):\n",
        "    id.append(str(i))\n",
        "    \n",
        "id = pd.DataFrame(zip(id))\n",
        "id.columns = ['idx']"
      ],
      "metadata": {
        "id": "z0Jn_uZgrWO9"
      },
      "execution_count": 100,
      "outputs": []
    },
    {
      "cell_type": "code",
      "source": [
        "daily_talk.reset_index(inplace=True, drop=True)"
      ],
      "metadata": {
        "id": "0bawMA9LuleA"
      },
      "execution_count": 106,
      "outputs": []
    },
    {
      "cell_type": "code",
      "source": [
        "daily_talk = pd.concat([id, daily_talk], axis=1)"
      ],
      "metadata": {
        "id": "9_N74Tkfrpto"
      },
      "execution_count": null,
      "outputs": []
    },
    {
      "cell_type": "code",
      "source": [
        "daily_talk = daily_talk[['idx','class','conversation']]\n",
        "daily_talk.head()"
      ],
      "metadata": {
        "colab": {
          "base_uri": "https://localhost:8080/",
          "height": 201
        },
        "id": "BVpeqgUmu1Rx",
        "outputId": "7b52eee6-c1b9-439b-cc04-5ff97f1b8249"
      },
      "execution_count": 111,
      "outputs": [
        {
          "output_type": "execute_result",
          "data": {
            "text/plain": [
              "    idx  class                                       conversation\n",
              "0  3950  일반 대화  아니야 싫어\\n난 자격증 공부나 할래\\n자격증 공부는 좀 돼가...?\\n요즘 계속 ...\n",
              "1  3951  일반 대화  자격증을 딸까 아니면 지금 하고 있는 일에 집중할까?\\n흠 너 무슨 자격증 따려고 ...\n",
              "2  3952  일반 대화  니는 예능 프로그램 챙겨 보는 거 뭐 있어? 키키\\n음 대탈출 챙겨 봤었어요 하하\\...\n",
              "3  3953  일반 대화  니는 예능 프로그램 챙겨 보는 거 뭐 있어? 키키\\n음 대탈출 챙겨 봤었어요 하하\\...\n",
              "4  3954  일반 대화  자격증을 딸까 아니면 지금 하고 있는 일에 집중할까?\\n흠 너 무슨 자격증 따려고 ..."
            ],
            "text/html": [
              "\n",
              "  <div id=\"df-04c5cad0-4cb9-457b-8a64-f74d7b82c051\">\n",
              "    <div class=\"colab-df-container\">\n",
              "      <div>\n",
              "<style scoped>\n",
              "    .dataframe tbody tr th:only-of-type {\n",
              "        vertical-align: middle;\n",
              "    }\n",
              "\n",
              "    .dataframe tbody tr th {\n",
              "        vertical-align: top;\n",
              "    }\n",
              "\n",
              "    .dataframe thead th {\n",
              "        text-align: right;\n",
              "    }\n",
              "</style>\n",
              "<table border=\"1\" class=\"dataframe\">\n",
              "  <thead>\n",
              "    <tr style=\"text-align: right;\">\n",
              "      <th></th>\n",
              "      <th>idx</th>\n",
              "      <th>class</th>\n",
              "      <th>conversation</th>\n",
              "    </tr>\n",
              "  </thead>\n",
              "  <tbody>\n",
              "    <tr>\n",
              "      <th>0</th>\n",
              "      <td>3950</td>\n",
              "      <td>일반 대화</td>\n",
              "      <td>아니야 싫어\\n난 자격증 공부나 할래\\n자격증 공부는 좀 돼가...?\\n요즘 계속 ...</td>\n",
              "    </tr>\n",
              "    <tr>\n",
              "      <th>1</th>\n",
              "      <td>3951</td>\n",
              "      <td>일반 대화</td>\n",
              "      <td>자격증을 딸까 아니면 지금 하고 있는 일에 집중할까?\\n흠 너 무슨 자격증 따려고 ...</td>\n",
              "    </tr>\n",
              "    <tr>\n",
              "      <th>2</th>\n",
              "      <td>3952</td>\n",
              "      <td>일반 대화</td>\n",
              "      <td>니는 예능 프로그램 챙겨 보는 거 뭐 있어? 키키\\n음 대탈출 챙겨 봤었어요 하하\\...</td>\n",
              "    </tr>\n",
              "    <tr>\n",
              "      <th>3</th>\n",
              "      <td>3953</td>\n",
              "      <td>일반 대화</td>\n",
              "      <td>니는 예능 프로그램 챙겨 보는 거 뭐 있어? 키키\\n음 대탈출 챙겨 봤었어요 하하\\...</td>\n",
              "    </tr>\n",
              "    <tr>\n",
              "      <th>4</th>\n",
              "      <td>3954</td>\n",
              "      <td>일반 대화</td>\n",
              "      <td>자격증을 딸까 아니면 지금 하고 있는 일에 집중할까?\\n흠 너 무슨 자격증 따려고 ...</td>\n",
              "    </tr>\n",
              "  </tbody>\n",
              "</table>\n",
              "</div>\n",
              "      <button class=\"colab-df-convert\" onclick=\"convertToInteractive('df-04c5cad0-4cb9-457b-8a64-f74d7b82c051')\"\n",
              "              title=\"Convert this dataframe to an interactive table.\"\n",
              "              style=\"display:none;\">\n",
              "        \n",
              "  <svg xmlns=\"http://www.w3.org/2000/svg\" height=\"24px\"viewBox=\"0 0 24 24\"\n",
              "       width=\"24px\">\n",
              "    <path d=\"M0 0h24v24H0V0z\" fill=\"none\"/>\n",
              "    <path d=\"M18.56 5.44l.94 2.06.94-2.06 2.06-.94-2.06-.94-.94-2.06-.94 2.06-2.06.94zm-11 1L8.5 8.5l.94-2.06 2.06-.94-2.06-.94L8.5 2.5l-.94 2.06-2.06.94zm10 10l.94 2.06.94-2.06 2.06-.94-2.06-.94-.94-2.06-.94 2.06-2.06.94z\"/><path d=\"M17.41 7.96l-1.37-1.37c-.4-.4-.92-.59-1.43-.59-.52 0-1.04.2-1.43.59L10.3 9.45l-7.72 7.72c-.78.78-.78 2.05 0 2.83L4 21.41c.39.39.9.59 1.41.59.51 0 1.02-.2 1.41-.59l7.78-7.78 2.81-2.81c.8-.78.8-2.07 0-2.86zM5.41 20L4 18.59l7.72-7.72 1.47 1.35L5.41 20z\"/>\n",
              "  </svg>\n",
              "      </button>\n",
              "      \n",
              "  <style>\n",
              "    .colab-df-container {\n",
              "      display:flex;\n",
              "      flex-wrap:wrap;\n",
              "      gap: 12px;\n",
              "    }\n",
              "\n",
              "    .colab-df-convert {\n",
              "      background-color: #E8F0FE;\n",
              "      border: none;\n",
              "      border-radius: 50%;\n",
              "      cursor: pointer;\n",
              "      display: none;\n",
              "      fill: #1967D2;\n",
              "      height: 32px;\n",
              "      padding: 0 0 0 0;\n",
              "      width: 32px;\n",
              "    }\n",
              "\n",
              "    .colab-df-convert:hover {\n",
              "      background-color: #E2EBFA;\n",
              "      box-shadow: 0px 1px 2px rgba(60, 64, 67, 0.3), 0px 1px 3px 1px rgba(60, 64, 67, 0.15);\n",
              "      fill: #174EA6;\n",
              "    }\n",
              "\n",
              "    [theme=dark] .colab-df-convert {\n",
              "      background-color: #3B4455;\n",
              "      fill: #D2E3FC;\n",
              "    }\n",
              "\n",
              "    [theme=dark] .colab-df-convert:hover {\n",
              "      background-color: #434B5C;\n",
              "      box-shadow: 0px 1px 3px 1px rgba(0, 0, 0, 0.15);\n",
              "      filter: drop-shadow(0px 1px 2px rgba(0, 0, 0, 0.3));\n",
              "      fill: #FFFFFF;\n",
              "    }\n",
              "  </style>\n",
              "\n",
              "      <script>\n",
              "        const buttonEl =\n",
              "          document.querySelector('#df-04c5cad0-4cb9-457b-8a64-f74d7b82c051 button.colab-df-convert');\n",
              "        buttonEl.style.display =\n",
              "          google.colab.kernel.accessAllowed ? 'block' : 'none';\n",
              "\n",
              "        async function convertToInteractive(key) {\n",
              "          const element = document.querySelector('#df-04c5cad0-4cb9-457b-8a64-f74d7b82c051');\n",
              "          const dataTable =\n",
              "            await google.colab.kernel.invokeFunction('convertToInteractive',\n",
              "                                                     [key], {});\n",
              "          if (!dataTable) return;\n",
              "\n",
              "          const docLinkHtml = 'Like what you see? Visit the ' +\n",
              "            '<a target=\"_blank\" href=https://colab.research.google.com/notebooks/data_table.ipynb>data table notebook</a>'\n",
              "            + ' to learn more about interactive tables.';\n",
              "          element.innerHTML = '';\n",
              "          dataTable['output_type'] = 'display_data';\n",
              "          await google.colab.output.renderOutput(dataTable, element);\n",
              "          const docLink = document.createElement('div');\n",
              "          docLink.innerHTML = docLinkHtml;\n",
              "          element.appendChild(docLink);\n",
              "        }\n",
              "      </script>\n",
              "    </div>\n",
              "  </div>\n",
              "  "
            ]
          },
          "metadata": {},
          "execution_count": 111
        }
      ]
    },
    {
      "cell_type": "code",
      "source": [
        "daily_talk.to_csv('/content/drive/MyDrive/아이펠톤/daily.csv')"
      ],
      "metadata": {
        "id": "y2AE3JGYvIoU"
      },
      "execution_count": 113,
      "outputs": []
    }
  ]
}