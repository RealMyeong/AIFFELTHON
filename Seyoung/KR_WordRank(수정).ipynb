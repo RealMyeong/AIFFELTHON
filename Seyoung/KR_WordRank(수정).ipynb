{
  "nbformat": 4,
  "nbformat_minor": 0,
  "metadata": {
    "colab": {
      "provenance": [],
      "mount_file_id": "1C8e_HNvDmVw_mhBHZtZzsRfzqVTPx3g_",
      "authorship_tag": "ABX9TyMjhFjSKouFXF3J1rIXuZAF",
      "include_colab_link": true
    },
    "kernelspec": {
      "name": "python3",
      "display_name": "Python 3"
    },
    "language_info": {
      "name": "python"
    }
  },
  "cells": [
    {
      "cell_type": "markdown",
      "metadata": {
        "id": "view-in-github",
        "colab_type": "text"
      },
      "source": [
        "<a href=\"https://colab.research.google.com/github/RealMyeong/AIFFELTHON/blob/main/Seyoung/KR_WordRank(%EC%88%98%EC%A0%95).ipynb\" target=\"_parent\"><img src=\"https://colab.research.google.com/assets/colab-badge.svg\" alt=\"Open In Colab\"/></a>"
      ]
    },
    {
      "cell_type": "code",
      "source": [
        "!pip install konlpy"
      ],
      "metadata": {
        "id": "uE_ysnHYSgKE"
      },
      "execution_count": null,
      "outputs": []
    },
    {
      "cell_type": "code",
      "source": [
        "!pip install sentence_transformers"
      ],
      "metadata": {
        "id": "1bMGUtn3na2_"
      },
      "execution_count": null,
      "outputs": []
    },
    {
      "cell_type": "code",
      "source": [
        "import seaborn as sns\n",
        "import matplotlib.pyplot as plt\n",
        "import numpy as np\n",
        "import pandas as pd\n",
        "from sklearn.feature_extraction.text import TfidfVectorizer\n",
        "from konlpy.tag import Mecab\n",
        "from konlpy.tag import Okt\n",
        "import numpy as np\n",
        "import itertools\n",
        "\n",
        "from konlpy.tag import Okt\n",
        "from sklearn.feature_extraction.text import CountVectorizer\n",
        "from sklearn.metrics.pairwise import cosine_similarity"
      ],
      "metadata": {
        "id": "Y5RMT7IVSisJ"
      },
      "execution_count": 3,
      "outputs": []
    },
    {
      "cell_type": "code",
      "source": [
        "data = pd.read_csv('/content/drive/MyDrive/AIFFELTHON/TUNiB/train_spell_check.csv')\n",
        "data.head()"
      ],
      "metadata": {
        "colab": {
          "base_uri": "https://localhost:8080/",
          "height": 327
        },
        "id": "2YLTvC7xSlPO",
        "outputId": "39c3213b-6c5f-400b-f326-afb1536a612a"
      },
      "execution_count": 6,
      "outputs": [
        {
          "output_type": "execute_result",
          "data": {
            "text/plain": [
              "         class                                       conversation  \\\n",
              "0  직장 내 괴롭힘 대화  길동씨 이번에 이것좀 처리해요\\n이거 제가 한게 아닌데요\\n팀에서 내가 니가가 어딨...   \n",
              "1    기타 괴롭힘 대화  야 너 앞니 왜 그렇게 튀어나왔냐?\\n 태어날때부터 그랬어 물어보지마.\\n 아 그럼...   \n",
              "2        갈취 대화  원후야 학원 교재 사야되는데 8만원만 주면 안돼?\\n 미안 나 오늘은 진짜 돈이 없...   \n",
              "3        갈취 대화  너 저번에 술먹은 날 기억해?\\n아니 왜?\\n야 300만원만 가져와.\\n뭔 소리야....   \n",
              "4        협박 대화  너 또 내말 무시하냐?\\n 이새끼 널 좆으로 보나본데?\\n아냐 진짜 시간이 없었어 ...   \n",
              "\n",
              "                     labelling  \\\n",
              "0          1,2,1,2,1,2,1,2,1,2   \n",
              "1  1,2,1,2,1,2,1,2,1,1,1,2,1,1   \n",
              "2          1,2,1,2,1,2,1,2,1,2   \n",
              "3          1,2,1,2,1,2,1,2,1,2   \n",
              "4          1,1,2,1,1,2,1,2,1,1   \n",
              "\n",
              "                                      label_sentence  \\\n",
              "0  1:길동씨 이번에 이것좀 처리해요\\n2:이거 제가 한게 아닌데요\\n1:팀에서 내가 ...   \n",
              "1  1:야 너 앞니 왜 그렇게 튀어나왔냐?\\n2:태어날때부터 그랬어 물어보지마.\\n1:...   \n",
              "2  1:원후야 학원 교재 사야되는데 8만원만 주면 안돼?\\n2:미안 나 오늘은 진짜 돈...   \n",
              "3  1:너 저번에 술먹은 날 기억해?\\n2:아니 왜?\\n1:야 300만원만 가져와.\\n...   \n",
              "4  1:너 또 내말 무시하냐?\\n1:이새끼 널 좆으로 보나본데?\\n2:아냐 진짜 시간이...   \n",
              "\n",
              "                                    cleaned_sentence  \\\n",
              "0  길동씨 이번에 이것좀 처리해요\\n이거 제가 한게 아닌데요\\n팀에서 내가 니가가 어딨...   \n",
              "1  야 너 앞니 왜 그렇게 튀어나왔냐?\\n태어날때부터 그랬어 물어보지마.\\n아 그럼 태...   \n",
              "2  원후야 학원 교재 사야되는데 8만원만 주면 안돼?\\n미안 나 오늘은 진짜 돈이 없어...   \n",
              "3  너 저번에 술먹은 날 기억해?\\n아니 왜?\\n야 300만원만 가져와.\\n뭔 소리야....   \n",
              "4  너 또 내말 무시하냐?\\n이새끼 널 좆으로 보나본데?\\n아냐 진짜 시간이 없었어 미...   \n",
              "\n",
              "                          spell_checked_conversation  \n",
              "0  길동 씨 이번에 이것 좀 처리해요\\n이거 제가 한 게 아닌데요\\n팀에서 내가 네가 ...  \n",
              "1  야 너 앞니 왜 그렇게 튀어나왔냐?\\n태어날 때부터 그랬어 물어보지 마.\\n아 그럼...  \n",
              "2  원후야 학원 교재 사야 되는데 8만 원만 주면 안 돼?\\n미안 나 오늘은 진짜 돈이...  \n",
              "3  너 저번에 술 먹은 날 기억해?\\n아니 왜?\\n야 300만 원만 가져와.\\n뭔 소리...  \n",
              "4  너 또 내말 무시하냐?\\n이 새끼 널 좆으로 보나 본데?\\n아냐 진짜 시간이 없었어...  "
            ],
            "text/html": [
              "\n",
              "  <div id=\"df-97d13d1b-9e89-49ab-b0d0-859412abc167\">\n",
              "    <div class=\"colab-df-container\">\n",
              "      <div>\n",
              "<style scoped>\n",
              "    .dataframe tbody tr th:only-of-type {\n",
              "        vertical-align: middle;\n",
              "    }\n",
              "\n",
              "    .dataframe tbody tr th {\n",
              "        vertical-align: top;\n",
              "    }\n",
              "\n",
              "    .dataframe thead th {\n",
              "        text-align: right;\n",
              "    }\n",
              "</style>\n",
              "<table border=\"1\" class=\"dataframe\">\n",
              "  <thead>\n",
              "    <tr style=\"text-align: right;\">\n",
              "      <th></th>\n",
              "      <th>class</th>\n",
              "      <th>conversation</th>\n",
              "      <th>labelling</th>\n",
              "      <th>label_sentence</th>\n",
              "      <th>cleaned_sentence</th>\n",
              "      <th>spell_checked_conversation</th>\n",
              "    </tr>\n",
              "  </thead>\n",
              "  <tbody>\n",
              "    <tr>\n",
              "      <th>0</th>\n",
              "      <td>직장 내 괴롭힘 대화</td>\n",
              "      <td>길동씨 이번에 이것좀 처리해요\\n이거 제가 한게 아닌데요\\n팀에서 내가 니가가 어딨...</td>\n",
              "      <td>1,2,1,2,1,2,1,2,1,2</td>\n",
              "      <td>1:길동씨 이번에 이것좀 처리해요\\n2:이거 제가 한게 아닌데요\\n1:팀에서 내가 ...</td>\n",
              "      <td>길동씨 이번에 이것좀 처리해요\\n이거 제가 한게 아닌데요\\n팀에서 내가 니가가 어딨...</td>\n",
              "      <td>길동 씨 이번에 이것 좀 처리해요\\n이거 제가 한 게 아닌데요\\n팀에서 내가 네가 ...</td>\n",
              "    </tr>\n",
              "    <tr>\n",
              "      <th>1</th>\n",
              "      <td>기타 괴롭힘 대화</td>\n",
              "      <td>야 너 앞니 왜 그렇게 튀어나왔냐?\\n 태어날때부터 그랬어 물어보지마.\\n 아 그럼...</td>\n",
              "      <td>1,2,1,2,1,2,1,2,1,1,1,2,1,1</td>\n",
              "      <td>1:야 너 앞니 왜 그렇게 튀어나왔냐?\\n2:태어날때부터 그랬어 물어보지마.\\n1:...</td>\n",
              "      <td>야 너 앞니 왜 그렇게 튀어나왔냐?\\n태어날때부터 그랬어 물어보지마.\\n아 그럼 태...</td>\n",
              "      <td>야 너 앞니 왜 그렇게 튀어나왔냐?\\n태어날 때부터 그랬어 물어보지 마.\\n아 그럼...</td>\n",
              "    </tr>\n",
              "    <tr>\n",
              "      <th>2</th>\n",
              "      <td>갈취 대화</td>\n",
              "      <td>원후야 학원 교재 사야되는데 8만원만 주면 안돼?\\n 미안 나 오늘은 진짜 돈이 없...</td>\n",
              "      <td>1,2,1,2,1,2,1,2,1,2</td>\n",
              "      <td>1:원후야 학원 교재 사야되는데 8만원만 주면 안돼?\\n2:미안 나 오늘은 진짜 돈...</td>\n",
              "      <td>원후야 학원 교재 사야되는데 8만원만 주면 안돼?\\n미안 나 오늘은 진짜 돈이 없어...</td>\n",
              "      <td>원후야 학원 교재 사야 되는데 8만 원만 주면 안 돼?\\n미안 나 오늘은 진짜 돈이...</td>\n",
              "    </tr>\n",
              "    <tr>\n",
              "      <th>3</th>\n",
              "      <td>갈취 대화</td>\n",
              "      <td>너 저번에 술먹은 날 기억해?\\n아니 왜?\\n야 300만원만 가져와.\\n뭔 소리야....</td>\n",
              "      <td>1,2,1,2,1,2,1,2,1,2</td>\n",
              "      <td>1:너 저번에 술먹은 날 기억해?\\n2:아니 왜?\\n1:야 300만원만 가져와.\\n...</td>\n",
              "      <td>너 저번에 술먹은 날 기억해?\\n아니 왜?\\n야 300만원만 가져와.\\n뭔 소리야....</td>\n",
              "      <td>너 저번에 술 먹은 날 기억해?\\n아니 왜?\\n야 300만 원만 가져와.\\n뭔 소리...</td>\n",
              "    </tr>\n",
              "    <tr>\n",
              "      <th>4</th>\n",
              "      <td>협박 대화</td>\n",
              "      <td>너 또 내말 무시하냐?\\n 이새끼 널 좆으로 보나본데?\\n아냐 진짜 시간이 없었어 ...</td>\n",
              "      <td>1,1,2,1,1,2,1,2,1,1</td>\n",
              "      <td>1:너 또 내말 무시하냐?\\n1:이새끼 널 좆으로 보나본데?\\n2:아냐 진짜 시간이...</td>\n",
              "      <td>너 또 내말 무시하냐?\\n이새끼 널 좆으로 보나본데?\\n아냐 진짜 시간이 없었어 미...</td>\n",
              "      <td>너 또 내말 무시하냐?\\n이 새끼 널 좆으로 보나 본데?\\n아냐 진짜 시간이 없었어...</td>\n",
              "    </tr>\n",
              "  </tbody>\n",
              "</table>\n",
              "</div>\n",
              "      <button class=\"colab-df-convert\" onclick=\"convertToInteractive('df-97d13d1b-9e89-49ab-b0d0-859412abc167')\"\n",
              "              title=\"Convert this dataframe to an interactive table.\"\n",
              "              style=\"display:none;\">\n",
              "        \n",
              "  <svg xmlns=\"http://www.w3.org/2000/svg\" height=\"24px\"viewBox=\"0 0 24 24\"\n",
              "       width=\"24px\">\n",
              "    <path d=\"M0 0h24v24H0V0z\" fill=\"none\"/>\n",
              "    <path d=\"M18.56 5.44l.94 2.06.94-2.06 2.06-.94-2.06-.94-.94-2.06-.94 2.06-2.06.94zm-11 1L8.5 8.5l.94-2.06 2.06-.94-2.06-.94L8.5 2.5l-.94 2.06-2.06.94zm10 10l.94 2.06.94-2.06 2.06-.94-2.06-.94-.94-2.06-.94 2.06-2.06.94z\"/><path d=\"M17.41 7.96l-1.37-1.37c-.4-.4-.92-.59-1.43-.59-.52 0-1.04.2-1.43.59L10.3 9.45l-7.72 7.72c-.78.78-.78 2.05 0 2.83L4 21.41c.39.39.9.59 1.41.59.51 0 1.02-.2 1.41-.59l7.78-7.78 2.81-2.81c.8-.78.8-2.07 0-2.86zM5.41 20L4 18.59l7.72-7.72 1.47 1.35L5.41 20z\"/>\n",
              "  </svg>\n",
              "      </button>\n",
              "      \n",
              "  <style>\n",
              "    .colab-df-container {\n",
              "      display:flex;\n",
              "      flex-wrap:wrap;\n",
              "      gap: 12px;\n",
              "    }\n",
              "\n",
              "    .colab-df-convert {\n",
              "      background-color: #E8F0FE;\n",
              "      border: none;\n",
              "      border-radius: 50%;\n",
              "      cursor: pointer;\n",
              "      display: none;\n",
              "      fill: #1967D2;\n",
              "      height: 32px;\n",
              "      padding: 0 0 0 0;\n",
              "      width: 32px;\n",
              "    }\n",
              "\n",
              "    .colab-df-convert:hover {\n",
              "      background-color: #E2EBFA;\n",
              "      box-shadow: 0px 1px 2px rgba(60, 64, 67, 0.3), 0px 1px 3px 1px rgba(60, 64, 67, 0.15);\n",
              "      fill: #174EA6;\n",
              "    }\n",
              "\n",
              "    [theme=dark] .colab-df-convert {\n",
              "      background-color: #3B4455;\n",
              "      fill: #D2E3FC;\n",
              "    }\n",
              "\n",
              "    [theme=dark] .colab-df-convert:hover {\n",
              "      background-color: #434B5C;\n",
              "      box-shadow: 0px 1px 3px 1px rgba(0, 0, 0, 0.15);\n",
              "      filter: drop-shadow(0px 1px 2px rgba(0, 0, 0, 0.3));\n",
              "      fill: #FFFFFF;\n",
              "    }\n",
              "  </style>\n",
              "\n",
              "      <script>\n",
              "        const buttonEl =\n",
              "          document.querySelector('#df-97d13d1b-9e89-49ab-b0d0-859412abc167 button.colab-df-convert');\n",
              "        buttonEl.style.display =\n",
              "          google.colab.kernel.accessAllowed ? 'block' : 'none';\n",
              "\n",
              "        async function convertToInteractive(key) {\n",
              "          const element = document.querySelector('#df-97d13d1b-9e89-49ab-b0d0-859412abc167');\n",
              "          const dataTable =\n",
              "            await google.colab.kernel.invokeFunction('convertToInteractive',\n",
              "                                                     [key], {});\n",
              "          if (!dataTable) return;\n",
              "\n",
              "          const docLinkHtml = 'Like what you see? Visit the ' +\n",
              "            '<a target=\"_blank\" href=https://colab.research.google.com/notebooks/data_table.ipynb>data table notebook</a>'\n",
              "            + ' to learn more about interactive tables.';\n",
              "          element.innerHTML = '';\n",
              "          dataTable['output_type'] = 'display_data';\n",
              "          await google.colab.output.renderOutput(dataTable, element);\n",
              "          const docLink = document.createElement('div');\n",
              "          docLink.innerHTML = docLinkHtml;\n",
              "          element.appendChild(docLink);\n",
              "        }\n",
              "      </script>\n",
              "    </div>\n",
              "  </div>\n",
              "  "
            ]
          },
          "metadata": {},
          "execution_count": 6
        }
      ]
    },
    {
      "cell_type": "markdown",
      "source": [
        "# **KR-WordRank**"
      ],
      "metadata": {
        "id": "NDwlD46GTXCR"
      }
    },
    {
      "cell_type": "code",
      "source": [
        "%cd /content/drive/MyDrive/아이펠톤"
      ],
      "metadata": {
        "colab": {
          "base_uri": "https://localhost:8080/"
        },
        "id": "vMwHauoPRmJl",
        "outputId": "cd7e61ca-20e4-4dc0-ddeb-bcee208a2ddd"
      },
      "execution_count": 14,
      "outputs": [
        {
          "output_type": "stream",
          "name": "stdout",
          "text": [
            "/content/drive/MyDrive/아이펠톤\n"
          ]
        }
      ]
    },
    {
      "cell_type": "code",
      "source": [
        "!ls"
      ],
      "metadata": {
        "colab": {
          "base_uri": "https://localhost:8080/"
        },
        "id": "ckBzZLgZRs0Y",
        "outputId": "e65b31a6-d2d9-4b5e-8b3c-8f36c9a5f7db"
      },
      "execution_count": 15,
      "outputs": [
        {
          "output_type": "stream",
          "name": "stdout",
          "text": [
            " 일반대화csv생성.ipynb\t\t       '일반대화추가 성능확인.ipynb'\n",
            " daily.csv\t\t\t        krwordrank\n",
            "'data_TFIDF(Verb,띄어쓰기추가).ipynb'   T5-finetuning2.ipynb\n",
            " DKTCdata\t\t\t        T5-finetuning3.ipynb\n",
            "'idx_2650 - train.csv'\t\t        textrank\n",
            " 허깅페이스.ipynb\n"
          ]
        }
      ]
    },
    {
      "cell_type": "code",
      "source": [
        "def keyword(class_name):\n",
        "    genre = data[data['class']==class_name].reset_index(drop=True).label_sentence\n",
        "\n",
        "    attack, damaged = [], []\n",
        "\n",
        "    for e in genre:\n",
        "        e = e.split('\\n')\n",
        "        for e_ in e:\n",
        "            if e_[0] == '1':\n",
        "                attack.append(e_[2:])\n",
        "            else:\n",
        "                damaged.append(e_[2:])\n",
        "\n",
        "    from krwordrank.sentence import summarize_with_sentences\n",
        "\n",
        "    texts = attack\n",
        "    keywords_att, sents = summarize_with_sentences(texts, num_keywords=50, \n",
        "                                           num_keysents=10, max_length=10, diversity=0.5)\n",
        "\n",
        "    texts = damaged\n",
        "    keywords_dam, sents = summarize_with_sentences(texts, num_keywords=50, \n",
        "                                           num_keysents=10, max_length=10, diversity=0.5)\n",
        "\n",
        "    print('{}의 가해자 :'.format(class_name),keywords_att.keys())\n",
        "    print()\n",
        "    print('{}의 피해자 :'.format(class_name),keywords_dam.keys())\n",
        "    \n",
        "    keywords_att = list(keywords_att.keys())\n",
        "    keywords_dam = list(keywords_dam.keys())\n",
        "    \n",
        "    target_attack, target_damaged = [], []\n",
        "\n",
        "    for i in range(50):\n",
        "        if (keywords_att[i] not in keywords_dam) : target_attack.append(keywords_att[i])\n",
        "        if len(target_attack) == n: break \n",
        "\n",
        "    for i in range(50):\n",
        "        if (keywords_dam[i] not in keywords_att) : target_damaged.append(keywords_dam[i])\n",
        "        if len(target_damaged) == n: break\n",
        "    \n",
        "    print()\n",
        "    print('{}의 가해자(중복제거) :'.format(class_name),target_attack)\n",
        "    print()\n",
        "    print('{}의 피해자(중복제거) :'.format(class_name),target_damaged)   "
      ],
      "metadata": {
        "id": "zpVG7QAjR7N9"
      },
      "execution_count": 138,
      "outputs": []
    },
    {
      "cell_type": "code",
      "source": [
        "keyword('갈취 대화')"
      ],
      "metadata": {
        "colab": {
          "base_uri": "https://localhost:8080/"
        },
        "id": "69APudTHV-vx",
        "outputId": "6bbc3d0a-cafc-45ef-d759-fa50b987fc6f"
      },
      "execution_count": 139,
      "outputs": [
        {
          "output_type": "stream",
          "name": "stdout",
          "text": [
            "갈취 대화의 가해자 : dict_keys(['내가', '그럼', '아니', '지금', '그냥', '이거', '그래', '빌려', '내놔', '빨리', '진짜', '돈이', '우리', '친구', '오늘', '나도', '제가', '니가', '여기', '없어', '나오면', '있는', '당장', '너무', '그러', '어떻게', '있어', '좋은', '가져', '이번', '거기', '그거', '그렇게', '보내', '10', '뒤져서', '나한테', '얼마', '사람', '어이', '당신', '내일', '한번', '알아', '그건', '엄마', '이렇게', '얼른', '근데', '맞고'])\n",
            "\n",
            "갈취 대화의 피해자 : dict_keys(['제발', '아니', '진짜', '없어', '이거', '안돼', '무슨', '네?', '내가', '돈이', '정말', '아.', '제가', '지금', '그건', '어떻게', '미안', '여기', '그래', '그게', '나도', '알겠', '네.', '그러', '그럼', '죄송', '엄마', '그거', '저희', '이건', '이게', '저번에도', '이번', '그런', '없는', '빌려', '빨리', '돌려', '우리', '근데', '그냥', '한번만', '너무', '이제', '이러', '오늘', '돈을', '안되', '얼마', '조금만'])\n",
            "\n",
            "갈취 대화의 가해자(중복제거) : ['내놔', '친구', '니가', '나오면', '있는', '당장', '있어', '좋은', '가져', '거기', '그렇게', '보내', '10', '뒤져서', '나한테']\n",
            "\n",
            "갈취 대화의 피해자(중복제거) : ['제발', '안돼', '무슨', '네?', '정말', '아.', '미안', '그게', '알겠', '네.', '죄송', '저희', '이건', '이게', '저번에도']\n"
          ]
        }
      ]
    },
    {
      "cell_type": "code",
      "source": [
        "keyword('직장 내 괴롭힘 대화')"
      ],
      "metadata": {
        "colab": {
          "base_uri": "https://localhost:8080/"
        },
        "id": "Y2g0UAaLXBgC",
        "outputId": "4f6ec585-ae90-4b0b-d3ca-b85b1d013654"
      },
      "execution_count": 141,
      "outputs": [
        {
          "output_type": "stream",
          "name": "stdout",
          "text": [
            "직장 내 괴롭힘 대화의 가해자 : dict_keys(['내가', '아니', '회사', '지금', '그럼', '오늘', '그래', '자네', '그렇게', '우리', '그냥', '이렇게', '김대리', '무슨', '사람', '하는', '이거', '일을', '진짜', '어떻게', '이번', '요즘', '하고', '너무', '제대로', '내일', '그런', '말이', '이런', '그러', '다른', '없어', '니가', '다시', '빨리', '아주', '보고', '누가', '휴가', '너가', '일이', '생각', '근데', '같이', '뭐가', '하면', '하나', '못하', '어디', '그게'])\n",
            "\n",
            "직장 내 괴롭힘 대화의 피해자 : dict_keys(['제가', '네?', '죄송', '아니', '부장님', '무슨', '너무', '네.', '정말', '다시', '지금', '아.', '과장님', '아닙니다', '말씀', '저도', '그건', '그래도', '일이', '오늘', '그게', '팀장님', '이건', '저는', '그런', '하겠습니다.', '열심히', '사장님', '대리님', '알겠', '빨리', '업무', '진짜', '같습니다.', '그럼', '있어서', '아닌', '내일', '다른', '어떻게', '이번', '하고', '아직', '앞으로', '그렇게', '바로', '혹시', '그냥', '회사', '그러'])\n",
            "\n",
            "직장 내 괴롭힘 대화의 가해자(중복제거) : ['내가', '그래', '자네', '우리', '이렇게', '김대리', '사람', '하는', '이거', '일을', '요즘', '제대로', '말이', '이런', '없어']\n",
            "\n",
            "직장 내 괴롭힘 대화의 피해자(중복제거) : ['제가', '네?', '죄송', '부장님', '네.', '정말', '아.', '과장님', '아닙니다', '말씀', '저도', '그건', '그래도', '팀장님', '이건']\n"
          ]
        }
      ]
    },
    {
      "cell_type": "code",
      "source": [
        "keyword('기타 괴롭힘 대화')"
      ],
      "metadata": {
        "colab": {
          "base_uri": "https://localhost:8080/"
        },
        "id": "2oP6o8pPZyc_",
        "outputId": "fa9f4030-8708-40e5-b5d0-04662c99e207"
      },
      "execution_count": 142,
      "outputs": [
        {
          "output_type": "stream",
          "name": "stdout",
          "text": [
            "기타 괴롭힘 대화의 가해자 : dict_keys(['아니', '내가', '진짜', '그냥', '니가', '그래', '그럼', '우리', '여기', '그렇게', '지금', '너무', '무슨', '너가', '어떻게', '이거', '빨리', '사람', '그러', '어디', '얼굴', '이렇게', '뭐가', '너는', '냄새', '이게', '그런', '엄마', '새끼', '장애인', '친구', '돼지', '하는', '오늘', '근데', '나는', '그거', '하고', '없어', '애들', '기분', '너도', '뭐야', '말이', '못생', '같이', '너네', '저기', '다른', '이런'])\n",
            "\n",
            "기타 괴롭힘 대화의 피해자 : dict_keys(['아니', '내가', '고객님', '무슨', '제발', '그만', '손님', '제가', '진짜', '지금', '너무', '죄송', '그런', '네?', '그렇게', '우리', '그게', '하지', '그래', '미안', '그냥', '말이', '나도', '나한테', '그러', '정말', '네.', '어떻게', '저희', '아.', '이거', '그건', '응?', '여기', '하는', '그럼', '자꾸', '사람', '너네', '있어', '오늘', '너가', '엄마', '니가', '혹시', '왜그', '선생님', '나는', '기분', '없어'])\n",
            "\n",
            "기타 괴롭힘 대화의 가해자(중복제거) : ['빨리', '어디', '얼굴', '이렇게', '뭐가', '너는', '냄새', '이게', '새끼', '장애인', '친구', '돼지', '근데', '그거', '하고']\n",
            "\n",
            "기타 괴롭힘 대화의 피해자(중복제거) : ['고객님', '제발', '그만', '손님', '제가', '죄송', '네?', '그게', '하지', '미안', '나도', '나한테', '정말', '네.', '저희']\n"
          ]
        }
      ]
    },
    {
      "cell_type": "code",
      "source": [
        "keyword('협박 대화')"
      ],
      "metadata": {
        "colab": {
          "base_uri": "https://localhost:8080/"
        },
        "id": "v97MJ0o3aCHD",
        "outputId": "f293fcf6-f5e3-4593-8e22-6c48ea723c0b"
      },
      "execution_count": 145,
      "outputs": [
        {
          "output_type": "stream",
          "name": "stdout",
          "text": [
            "협박 대화의 가해자 : dict_keys(['내가', '지금', '니가', '진짜', '그럼', '그냥', '아니', '그래', '우리', '죽여', '너가', '당장', '어떻게', '사람', '빨리', '너도', '있어', '하나', '죽어', '나도', '그렇게', '당신', '죽고', '이렇게', '그러', '여기', '없어', '어디', '알아', '이게', '전에', '나한테', '오늘', '같이', '자꾸', '하면', '이제', '아주', '정신', '가족', '무슨', '이거', '말이', '있는', '생각', '칼로', '네가', '한번', '너네', '않으면'])\n",
            "\n",
            "협박 대화의 피해자 : dict_keys(['제발', '아니', '내가', '제가', '정말', '무슨', '지금', '진짜', '우리', '죄송', '살려', '어떻게', '그래', '그러', '그게', '잘못', '경찰에', '너무', '그렇게', '이제', '그건', '그냥', '그만', '그런', '네?', '이거', '사람', '미안', '이러', '알겠', '건들지', '한번만', '신고', '나도', '선생님', '조금만', '시간을', '저는', '나는', '없어', '협박', '당장', '그럼', '니가', '너가', '당신', '네.', '다시', '빨리', '주세요'])\n",
            "\n",
            "협박 대화의 가해자(중복제거) : ['죽여', '너도', '있어', '하나', '죽어', '죽고', '이렇게', '여기', '어디', '알아', '이게', '전에', '나한테', '오늘', '같이']\n",
            "\n",
            "협박 대화의 피해자(중복제거) : ['제발', '제가', '정말', '죄송', '살려', '그게', '잘못', '경찰에', '너무', '그건', '그만', '그런', '네?', '미안', '이러']\n"
          ]
        }
      ]
    }
  ]
}