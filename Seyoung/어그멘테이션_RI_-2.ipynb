{
  "nbformat": 4,
  "nbformat_minor": 0,
  "metadata": {
    "colab": {
      "provenance": []
    },
    "kernelspec": {
      "name": "python3",
      "display_name": "Python 3"
    },
    "language_info": {
      "name": "python"
    }
  },
  "cells": [
    {
      "cell_type": "markdown",
      "source": [
        "# 유의어 랜덤 추가"
      ],
      "metadata": {
        "id": "7uE4DqF9nC6Y"
      }
    },
    {
      "cell_type": "code",
      "source": [
        "!pip install konlpy"
      ],
      "metadata": {
        "id": "kzGhs0sPDbTa"
      },
      "execution_count": null,
      "outputs": []
    },
    {
      "cell_type": "code",
      "execution_count": 33,
      "metadata": {
        "id": "rB3iQF6W3lAz"
      },
      "outputs": [],
      "source": [
        "import gensim\n",
        "from konlpy.tag import Okt\n",
        "import pandas as pd\n",
        "import random"
      ]
    },
    {
      "cell_type": "code",
      "source": [
        "data = pd.read_csv('/content/drive/MyDrive/AIFFELTHON/TUNiB/train_normalization.csv')\n",
        "data.head()"
      ],
      "metadata": {
        "colab": {
          "base_uri": "https://localhost:8080/",
          "height": 204
        },
        "id": "boHLHhExFHSw",
        "outputId": "def8bf02-5ba8-4c0e-92c0-480050bfc534"
      },
      "execution_count": 211,
      "outputs": [
        {
          "output_type": "execute_result",
          "data": {
            "text/plain": [
              "         class                                     label_sentence  \\\n",
              "0  직장 내 괴롭힘 대화  1:길동 씨 이번에 이것 좀 처리해요\\n2:이거 제가 한 게 아닌데요\\n1:팀에서 ...   \n",
              "1    기타 괴롭힘 대화  1:야 너 앞니 왜 그렇게 튀어나왔냐\\n2:태어날 때부터 그랬어 물어보지 마\\n1:...   \n",
              "2        갈취 대화  1:원후야 학원 교재 사야 되는데 8만 원만 주면 안 돼\\n2:미안 나 오늘은 진짜...   \n",
              "3        갈취 대화  1:너 저번에 술 먹은 날 기억해\\n2:아니 왜\\n1:야 300만 원만 가져와\\n2...   \n",
              "4        협박 대화  1:너 또 내말 무시하냐\\n1:이 새끼 널 좆으로 보나 본데\\n2:아냐 진짜 시간이...   \n",
              "\n",
              "                                  non_label_sentence binary_class  \n",
              "0  길동 씨 이번에 이것 좀 처리해요\\n이거 제가 한 게 아닌데요\\n팀에서 내가 네가 ...        공격 대화  \n",
              "1  야 너 앞니 왜 그렇게 튀어나왔냐\\n태어날 때부터 그랬어 물어보지 마\\n아 그럼 태...        공격 대화  \n",
              "2  원후야 학원 교재 사야 되는데 8만 원만 주면 안 돼\\n미안 나 오늘은 진짜 돈이 ...        공격 대화  \n",
              "3  너 저번에 술 먹은 날 기억해\\n아니 왜\\n야 300만 원만 가져와\\n뭔 소리야  ...        공격 대화  \n",
              "4  너 또 내말 무시하냐\\n이 새끼 널 좆으로 보나 본데\\n아냐 진짜 시간이 없었어 미...        공격 대화  "
            ],
            "text/html": [
              "\n",
              "  <div id=\"df-f38c460c-e639-414c-aa3d-be4b5e75ecb3\">\n",
              "    <div class=\"colab-df-container\">\n",
              "      <div>\n",
              "<style scoped>\n",
              "    .dataframe tbody tr th:only-of-type {\n",
              "        vertical-align: middle;\n",
              "    }\n",
              "\n",
              "    .dataframe tbody tr th {\n",
              "        vertical-align: top;\n",
              "    }\n",
              "\n",
              "    .dataframe thead th {\n",
              "        text-align: right;\n",
              "    }\n",
              "</style>\n",
              "<table border=\"1\" class=\"dataframe\">\n",
              "  <thead>\n",
              "    <tr style=\"text-align: right;\">\n",
              "      <th></th>\n",
              "      <th>class</th>\n",
              "      <th>label_sentence</th>\n",
              "      <th>non_label_sentence</th>\n",
              "      <th>binary_class</th>\n",
              "    </tr>\n",
              "  </thead>\n",
              "  <tbody>\n",
              "    <tr>\n",
              "      <th>0</th>\n",
              "      <td>직장 내 괴롭힘 대화</td>\n",
              "      <td>1:길동 씨 이번에 이것 좀 처리해요\\n2:이거 제가 한 게 아닌데요\\n1:팀에서 ...</td>\n",
              "      <td>길동 씨 이번에 이것 좀 처리해요\\n이거 제가 한 게 아닌데요\\n팀에서 내가 네가 ...</td>\n",
              "      <td>공격 대화</td>\n",
              "    </tr>\n",
              "    <tr>\n",
              "      <th>1</th>\n",
              "      <td>기타 괴롭힘 대화</td>\n",
              "      <td>1:야 너 앞니 왜 그렇게 튀어나왔냐\\n2:태어날 때부터 그랬어 물어보지 마\\n1:...</td>\n",
              "      <td>야 너 앞니 왜 그렇게 튀어나왔냐\\n태어날 때부터 그랬어 물어보지 마\\n아 그럼 태...</td>\n",
              "      <td>공격 대화</td>\n",
              "    </tr>\n",
              "    <tr>\n",
              "      <th>2</th>\n",
              "      <td>갈취 대화</td>\n",
              "      <td>1:원후야 학원 교재 사야 되는데 8만 원만 주면 안 돼\\n2:미안 나 오늘은 진짜...</td>\n",
              "      <td>원후야 학원 교재 사야 되는데 8만 원만 주면 안 돼\\n미안 나 오늘은 진짜 돈이 ...</td>\n",
              "      <td>공격 대화</td>\n",
              "    </tr>\n",
              "    <tr>\n",
              "      <th>3</th>\n",
              "      <td>갈취 대화</td>\n",
              "      <td>1:너 저번에 술 먹은 날 기억해\\n2:아니 왜\\n1:야 300만 원만 가져와\\n2...</td>\n",
              "      <td>너 저번에 술 먹은 날 기억해\\n아니 왜\\n야 300만 원만 가져와\\n뭔 소리야  ...</td>\n",
              "      <td>공격 대화</td>\n",
              "    </tr>\n",
              "    <tr>\n",
              "      <th>4</th>\n",
              "      <td>협박 대화</td>\n",
              "      <td>1:너 또 내말 무시하냐\\n1:이 새끼 널 좆으로 보나 본데\\n2:아냐 진짜 시간이...</td>\n",
              "      <td>너 또 내말 무시하냐\\n이 새끼 널 좆으로 보나 본데\\n아냐 진짜 시간이 없었어 미...</td>\n",
              "      <td>공격 대화</td>\n",
              "    </tr>\n",
              "  </tbody>\n",
              "</table>\n",
              "</div>\n",
              "      <button class=\"colab-df-convert\" onclick=\"convertToInteractive('df-f38c460c-e639-414c-aa3d-be4b5e75ecb3')\"\n",
              "              title=\"Convert this dataframe to an interactive table.\"\n",
              "              style=\"display:none;\">\n",
              "        \n",
              "  <svg xmlns=\"http://www.w3.org/2000/svg\" height=\"24px\"viewBox=\"0 0 24 24\"\n",
              "       width=\"24px\">\n",
              "    <path d=\"M0 0h24v24H0V0z\" fill=\"none\"/>\n",
              "    <path d=\"M18.56 5.44l.94 2.06.94-2.06 2.06-.94-2.06-.94-.94-2.06-.94 2.06-2.06.94zm-11 1L8.5 8.5l.94-2.06 2.06-.94-2.06-.94L8.5 2.5l-.94 2.06-2.06.94zm10 10l.94 2.06.94-2.06 2.06-.94-2.06-.94-.94-2.06-.94 2.06-2.06.94z\"/><path d=\"M17.41 7.96l-1.37-1.37c-.4-.4-.92-.59-1.43-.59-.52 0-1.04.2-1.43.59L10.3 9.45l-7.72 7.72c-.78.78-.78 2.05 0 2.83L4 21.41c.39.39.9.59 1.41.59.51 0 1.02-.2 1.41-.59l7.78-7.78 2.81-2.81c.8-.78.8-2.07 0-2.86zM5.41 20L4 18.59l7.72-7.72 1.47 1.35L5.41 20z\"/>\n",
              "  </svg>\n",
              "      </button>\n",
              "      \n",
              "  <style>\n",
              "    .colab-df-container {\n",
              "      display:flex;\n",
              "      flex-wrap:wrap;\n",
              "      gap: 12px;\n",
              "    }\n",
              "\n",
              "    .colab-df-convert {\n",
              "      background-color: #E8F0FE;\n",
              "      border: none;\n",
              "      border-radius: 50%;\n",
              "      cursor: pointer;\n",
              "      display: none;\n",
              "      fill: #1967D2;\n",
              "      height: 32px;\n",
              "      padding: 0 0 0 0;\n",
              "      width: 32px;\n",
              "    }\n",
              "\n",
              "    .colab-df-convert:hover {\n",
              "      background-color: #E2EBFA;\n",
              "      box-shadow: 0px 1px 2px rgba(60, 64, 67, 0.3), 0px 1px 3px 1px rgba(60, 64, 67, 0.15);\n",
              "      fill: #174EA6;\n",
              "    }\n",
              "\n",
              "    [theme=dark] .colab-df-convert {\n",
              "      background-color: #3B4455;\n",
              "      fill: #D2E3FC;\n",
              "    }\n",
              "\n",
              "    [theme=dark] .colab-df-convert:hover {\n",
              "      background-color: #434B5C;\n",
              "      box-shadow: 0px 1px 3px 1px rgba(0, 0, 0, 0.15);\n",
              "      filter: drop-shadow(0px 1px 2px rgba(0, 0, 0, 0.3));\n",
              "      fill: #FFFFFF;\n",
              "    }\n",
              "  </style>\n",
              "\n",
              "      <script>\n",
              "        const buttonEl =\n",
              "          document.querySelector('#df-f38c460c-e639-414c-aa3d-be4b5e75ecb3 button.colab-df-convert');\n",
              "        buttonEl.style.display =\n",
              "          google.colab.kernel.accessAllowed ? 'block' : 'none';\n",
              "\n",
              "        async function convertToInteractive(key) {\n",
              "          const element = document.querySelector('#df-f38c460c-e639-414c-aa3d-be4b5e75ecb3');\n",
              "          const dataTable =\n",
              "            await google.colab.kernel.invokeFunction('convertToInteractive',\n",
              "                                                     [key], {});\n",
              "          if (!dataTable) return;\n",
              "\n",
              "          const docLinkHtml = 'Like what you see? Visit the ' +\n",
              "            '<a target=\"_blank\" href=https://colab.research.google.com/notebooks/data_table.ipynb>data table notebook</a>'\n",
              "            + ' to learn more about interactive tables.';\n",
              "          element.innerHTML = '';\n",
              "          dataTable['output_type'] = 'display_data';\n",
              "          await google.colab.output.renderOutput(dataTable, element);\n",
              "          const docLink = document.createElement('div');\n",
              "          docLink.innerHTML = docLinkHtml;\n",
              "          element.appendChild(docLink);\n",
              "        }\n",
              "      </script>\n",
              "    </div>\n",
              "  </div>\n",
              "  "
            ]
          },
          "metadata": {},
          "execution_count": 211
        }
      ]
    },
    {
      "cell_type": "code",
      "source": [
        "data.shape"
      ],
      "metadata": {
        "colab": {
          "base_uri": "https://localhost:8080/"
        },
        "id": "Vv_fkGcwGAfA",
        "outputId": "f8db232a-74f9-4c38-cd7b-abf441ac8733"
      },
      "execution_count": 17,
      "outputs": [
        {
          "output_type": "execute_result",
          "data": {
            "text/plain": [
              "(3870, 4)"
            ]
          },
          "metadata": {},
          "execution_count": 17
        }
      ]
    },
    {
      "cell_type": "code",
      "source": [
        "model = gensim.models.Word2Vec.load('/content/drive/MyDrive/아이펠톤/ko.bin')"
      ],
      "metadata": {
        "id": "LKt_FHdXDSCZ"
      },
      "execution_count": 4,
      "outputs": []
    },
    {
      "cell_type": "code",
      "source": [
        "model.most_similar(\"돈\")[0][0]"
      ],
      "metadata": {
        "colab": {
          "base_uri": "https://localhost:8080/",
          "height": 91
        },
        "id": "jtAgOOq2EI24",
        "outputId": "9f49b27e-028f-41c4-949e-c03831b4f5e4"
      },
      "execution_count": 22,
      "outputs": [
        {
          "output_type": "stream",
          "name": "stderr",
          "text": [
            "/usr/local/lib/python3.7/dist-packages/ipykernel_launcher.py:1: DeprecationWarning: Call to deprecated `most_similar` (Method will be removed in 4.0.0, use self.wv.most_similar() instead).\n",
            "  \"\"\"Entry point for launching an IPython kernel.\n"
          ]
        },
        {
          "output_type": "execute_result",
          "data": {
            "text/plain": [
              "'현상금'"
            ],
            "application/vnd.google.colaboratory.intrinsic+json": {
              "type": "string"
            }
          },
          "metadata": {},
          "execution_count": 22
        }
      ]
    },
    {
      "cell_type": "code",
      "source": [
        "def random_insertion(sen):\n",
        "    noun = []\n",
        "    origin = okt.morphs(sen)\n",
        "    tokens = okt.pos(sen, stem=True, norm=True)\n",
        "    for word in tokens:\n",
        "        if word[1] in ['Noun']:\n",
        "            noun.append(word[0])\n",
        "\n",
        "    simi = []\n",
        "    for n in noun:\n",
        "        try:\n",
        "            simi.append(model.most_similar(n)[0][0])\n",
        "        except:\n",
        "            continue\n",
        "\n",
        "    ran_idx = random.randint(0,len(origin))\n",
        "\n",
        "    for s in simi:\n",
        "        origin.insert(ran_idx, s)\n",
        "\n",
        "    return ' '.join(origin)"
      ],
      "metadata": {
        "id": "o7Vq13FmEZMM"
      },
      "execution_count": 71,
      "outputs": []
    },
    {
      "cell_type": "code",
      "source": [
        "def augmen_conversation(sen):\n",
        "    new_sen = []\n",
        "    sen_split = sen.split('\\n')\n",
        "    for sen in sen_split:\n",
        "        new_sen.append(random_insertion(sen)+'\\n')\n",
        "\n",
        "    new_sen = ' '.join(new_sen)\n",
        "    new_sen = new_sen[:-1]\n",
        "    return new_sen"
      ],
      "metadata": {
        "id": "JvXjjeeqJ2v3"
      },
      "execution_count": 85,
      "outputs": []
    },
    {
      "cell_type": "code",
      "source": [
        "sen = '길동 씨 이번에 이것 좀 처리해요'\n",
        "random_insertion(sen)"
      ],
      "metadata": {
        "colab": {
          "base_uri": "https://localhost:8080/",
          "height": 91
        },
        "id": "fy9mq4wVM29O",
        "outputId": "3857ba43-ec51-4375-8d31-62c000fc8ae2"
      },
      "execution_count": 94,
      "outputs": [
        {
          "output_type": "stream",
          "name": "stderr",
          "text": [
            "/usr/local/lib/python3.7/dist-packages/ipykernel_launcher.py:12: DeprecationWarning: Call to deprecated `most_similar` (Method will be removed in 4.0.0, use self.wv.most_similar() instead).\n",
            "  if sys.path[0] == '':\n"
          ]
        },
        {
          "output_type": "execute_result",
          "data": {
            "text/plain": [
              "'길동 씨 이번 에 이 것 좀 처리 입력 조금 방법 저번 정씨 신길 해요'"
            ],
            "application/vnd.google.colaboratory.intrinsic+json": {
              "type": "string"
            }
          },
          "metadata": {},
          "execution_count": 94
        }
      ]
    },
    {
      "cell_type": "code",
      "source": [
        "origin = list(data.non_label_sentence)\n",
        "\n",
        "insert_conversation = []\n",
        "\n",
        "for ori in origin:\n",
        "    insert_conversation.append(augmen_conversation(ori))\n",
        "\n",
        "insert_data = pd.DataFrame(zip(insert_conversation))\n",
        "insert_data"
      ],
      "metadata": {
        "colab": {
          "base_uri": "https://localhost:8080/",
          "height": 473
        },
        "id": "GN9nZlBiNwCj",
        "outputId": "e926d8ef-b0f4-4302-e09b-a9282111deea"
      },
      "execution_count": 100,
      "outputs": [
        {
          "output_type": "stream",
          "name": "stderr",
          "text": [
            "/usr/local/lib/python3.7/dist-packages/ipykernel_launcher.py:12: DeprecationWarning: Call to deprecated `most_similar` (Method will be removed in 4.0.0, use self.wv.most_similar() instead).\n",
            "  if sys.path[0] == '':\n"
          ]
        },
        {
          "output_type": "execute_result",
          "data": {
            "text/plain": [
              "                                                      0\n",
              "0     길동 입력 조금 방법 저번 정씨 신길 씨 이번 에 이 것 좀 처리 해요\\n 이 거 ...\n",
              "1     야 너 과연 에드 앞니 왜 그렇게 튀어나왔냐\\n 마가 때쯤 태어날 때 부터 그랬어 ...\n",
              "2     원후 야 학원 교재 사야 되는데 못가 돈독 교과서 학교 8만 원만 주면 안 돼\\n ...\n",
              "3     회상 첫날 독약 지난번 에드 너 저번 에 술 먹은 날 기억 해\\n 아니 왜 과연\\n...\n",
              "4     너 또 배제 말로 각기 에드 내 말 무시 하냐\\n 이 새끼 널 좆 널이 암컷 그러 ...\n",
              "...                                                 ...\n",
              "3865  준 하야 넌 대가리 가 왜 과연 플리트 스즈키 우승자 이렇게 크냐\\n 내 머리 가 ...\n",
              "3866  내 가 지금 너 아들 김길준 데리 고 있어 살리고 싶으면 계좌 에 1억만 예금 거느...\n",
              "3867  나 는 씨 같은 사람 보면 참 신기하더라 어떻게 저렇게 살 지 살아오 젊은이 정씨 ...\n",
              "3868  누구 맘대로 여기 서 장사 태수 알리 어디 하래\\n 이 게 입히 어찌 그러 무슨 일...\n",
              "3869  희 정 정씨 정이 씨\\n 카나 네\\n 주말 분간 토요일 에 시간 이 넘쳐나나 봐\\n...\n",
              "\n",
              "[3870 rows x 1 columns]"
            ],
            "text/html": [
              "\n",
              "  <div id=\"df-a0ff4df9-a60f-4fad-939d-0a5d5eeeb9fa\">\n",
              "    <div class=\"colab-df-container\">\n",
              "      <div>\n",
              "<style scoped>\n",
              "    .dataframe tbody tr th:only-of-type {\n",
              "        vertical-align: middle;\n",
              "    }\n",
              "\n",
              "    .dataframe tbody tr th {\n",
              "        vertical-align: top;\n",
              "    }\n",
              "\n",
              "    .dataframe thead th {\n",
              "        text-align: right;\n",
              "    }\n",
              "</style>\n",
              "<table border=\"1\" class=\"dataframe\">\n",
              "  <thead>\n",
              "    <tr style=\"text-align: right;\">\n",
              "      <th></th>\n",
              "      <th>0</th>\n",
              "    </tr>\n",
              "  </thead>\n",
              "  <tbody>\n",
              "    <tr>\n",
              "      <th>0</th>\n",
              "      <td>길동 입력 조금 방법 저번 정씨 신길 씨 이번 에 이 것 좀 처리 해요\\n 이 거 ...</td>\n",
              "    </tr>\n",
              "    <tr>\n",
              "      <th>1</th>\n",
              "      <td>야 너 과연 에드 앞니 왜 그렇게 튀어나왔냐\\n 마가 때쯤 태어날 때 부터 그랬어 ...</td>\n",
              "    </tr>\n",
              "    <tr>\n",
              "      <th>2</th>\n",
              "      <td>원후 야 학원 교재 사야 되는데 못가 돈독 교과서 학교 8만 원만 주면 안 돼\\n ...</td>\n",
              "    </tr>\n",
              "    <tr>\n",
              "      <th>3</th>\n",
              "      <td>회상 첫날 독약 지난번 에드 너 저번 에 술 먹은 날 기억 해\\n 아니 왜 과연\\n...</td>\n",
              "    </tr>\n",
              "    <tr>\n",
              "      <th>4</th>\n",
              "      <td>너 또 배제 말로 각기 에드 내 말 무시 하냐\\n 이 새끼 널 좆 널이 암컷 그러 ...</td>\n",
              "    </tr>\n",
              "    <tr>\n",
              "      <th>...</th>\n",
              "      <td>...</td>\n",
              "    </tr>\n",
              "    <tr>\n",
              "      <th>3865</th>\n",
              "      <td>준 하야 넌 대가리 가 왜 과연 플리트 스즈키 우승자 이렇게 크냐\\n 내 머리 가 ...</td>\n",
              "    </tr>\n",
              "    <tr>\n",
              "      <th>3866</th>\n",
              "      <td>내 가 지금 너 아들 김길준 데리 고 있어 살리고 싶으면 계좌 에 1억만 예금 거느...</td>\n",
              "    </tr>\n",
              "    <tr>\n",
              "      <th>3867</th>\n",
              "      <td>나 는 씨 같은 사람 보면 참 신기하더라 어떻게 저렇게 살 지 살아오 젊은이 정씨 ...</td>\n",
              "    </tr>\n",
              "    <tr>\n",
              "      <th>3868</th>\n",
              "      <td>누구 맘대로 여기 서 장사 태수 알리 어디 하래\\n 이 게 입히 어찌 그러 무슨 일...</td>\n",
              "    </tr>\n",
              "    <tr>\n",
              "      <th>3869</th>\n",
              "      <td>희 정 정씨 정이 씨\\n 카나 네\\n 주말 분간 토요일 에 시간 이 넘쳐나나 봐\\n...</td>\n",
              "    </tr>\n",
              "  </tbody>\n",
              "</table>\n",
              "<p>3870 rows × 1 columns</p>\n",
              "</div>\n",
              "      <button class=\"colab-df-convert\" onclick=\"convertToInteractive('df-a0ff4df9-a60f-4fad-939d-0a5d5eeeb9fa')\"\n",
              "              title=\"Convert this dataframe to an interactive table.\"\n",
              "              style=\"display:none;\">\n",
              "        \n",
              "  <svg xmlns=\"http://www.w3.org/2000/svg\" height=\"24px\"viewBox=\"0 0 24 24\"\n",
              "       width=\"24px\">\n",
              "    <path d=\"M0 0h24v24H0V0z\" fill=\"none\"/>\n",
              "    <path d=\"M18.56 5.44l.94 2.06.94-2.06 2.06-.94-2.06-.94-.94-2.06-.94 2.06-2.06.94zm-11 1L8.5 8.5l.94-2.06 2.06-.94-2.06-.94L8.5 2.5l-.94 2.06-2.06.94zm10 10l.94 2.06.94-2.06 2.06-.94-2.06-.94-.94-2.06-.94 2.06-2.06.94z\"/><path d=\"M17.41 7.96l-1.37-1.37c-.4-.4-.92-.59-1.43-.59-.52 0-1.04.2-1.43.59L10.3 9.45l-7.72 7.72c-.78.78-.78 2.05 0 2.83L4 21.41c.39.39.9.59 1.41.59.51 0 1.02-.2 1.41-.59l7.78-7.78 2.81-2.81c.8-.78.8-2.07 0-2.86zM5.41 20L4 18.59l7.72-7.72 1.47 1.35L5.41 20z\"/>\n",
              "  </svg>\n",
              "      </button>\n",
              "      \n",
              "  <style>\n",
              "    .colab-df-container {\n",
              "      display:flex;\n",
              "      flex-wrap:wrap;\n",
              "      gap: 12px;\n",
              "    }\n",
              "\n",
              "    .colab-df-convert {\n",
              "      background-color: #E8F0FE;\n",
              "      border: none;\n",
              "      border-radius: 50%;\n",
              "      cursor: pointer;\n",
              "      display: none;\n",
              "      fill: #1967D2;\n",
              "      height: 32px;\n",
              "      padding: 0 0 0 0;\n",
              "      width: 32px;\n",
              "    }\n",
              "\n",
              "    .colab-df-convert:hover {\n",
              "      background-color: #E2EBFA;\n",
              "      box-shadow: 0px 1px 2px rgba(60, 64, 67, 0.3), 0px 1px 3px 1px rgba(60, 64, 67, 0.15);\n",
              "      fill: #174EA6;\n",
              "    }\n",
              "\n",
              "    [theme=dark] .colab-df-convert {\n",
              "      background-color: #3B4455;\n",
              "      fill: #D2E3FC;\n",
              "    }\n",
              "\n",
              "    [theme=dark] .colab-df-convert:hover {\n",
              "      background-color: #434B5C;\n",
              "      box-shadow: 0px 1px 3px 1px rgba(0, 0, 0, 0.15);\n",
              "      filter: drop-shadow(0px 1px 2px rgba(0, 0, 0, 0.3));\n",
              "      fill: #FFFFFF;\n",
              "    }\n",
              "  </style>\n",
              "\n",
              "      <script>\n",
              "        const buttonEl =\n",
              "          document.querySelector('#df-a0ff4df9-a60f-4fad-939d-0a5d5eeeb9fa button.colab-df-convert');\n",
              "        buttonEl.style.display =\n",
              "          google.colab.kernel.accessAllowed ? 'block' : 'none';\n",
              "\n",
              "        async function convertToInteractive(key) {\n",
              "          const element = document.querySelector('#df-a0ff4df9-a60f-4fad-939d-0a5d5eeeb9fa');\n",
              "          const dataTable =\n",
              "            await google.colab.kernel.invokeFunction('convertToInteractive',\n",
              "                                                     [key], {});\n",
              "          if (!dataTable) return;\n",
              "\n",
              "          const docLinkHtml = 'Like what you see? Visit the ' +\n",
              "            '<a target=\"_blank\" href=https://colab.research.google.com/notebooks/data_table.ipynb>data table notebook</a>'\n",
              "            + ' to learn more about interactive tables.';\n",
              "          element.innerHTML = '';\n",
              "          dataTable['output_type'] = 'display_data';\n",
              "          await google.colab.output.renderOutput(dataTable, element);\n",
              "          const docLink = document.createElement('div');\n",
              "          docLink.innerHTML = docLinkHtml;\n",
              "          element.appendChild(docLink);\n",
              "        }\n",
              "      </script>\n",
              "    </div>\n",
              "  </div>\n",
              "  "
            ]
          },
          "metadata": {},
          "execution_count": 100
        }
      ]
    },
    {
      "cell_type": "code",
      "source": [
        "cla = pd.DataFrame(data['class'])\n",
        "data_insertion = pd.concat([insert_data,cla],axis=1)\n",
        "data_insertion.rename(columns = {0:'non_label_sentence'}, inplace=True)\n",
        "data_insertion.head()"
      ],
      "metadata": {
        "colab": {
          "base_uri": "https://localhost:8080/",
          "height": 204
        },
        "id": "tLZPAmW4Th0L",
        "outputId": "f668f29c-2e38-4168-f883-bafd927a83be"
      },
      "execution_count": 121,
      "outputs": [
        {
          "output_type": "execute_result",
          "data": {
            "text/plain": [
              "                                  non_label_sentence        class\n",
              "0  길동 입력 조금 방법 저번 정씨 신길 씨 이번 에 이 것 좀 처리 해요\\n 이 거 ...  직장 내 괴롭힘 대화\n",
              "1  야 너 과연 에드 앞니 왜 그렇게 튀어나왔냐\\n 마가 때쯤 태어날 때 부터 그랬어 ...    기타 괴롭힘 대화\n",
              "2  원후 야 학원 교재 사야 되는데 못가 돈독 교과서 학교 8만 원만 주면 안 돼\\n ...        갈취 대화\n",
              "3  회상 첫날 독약 지난번 에드 너 저번 에 술 먹은 날 기억 해\\n 아니 왜 과연\\n...        갈취 대화\n",
              "4  너 또 배제 말로 각기 에드 내 말 무시 하냐\\n 이 새끼 널 좆 널이 암컷 그러 ...        협박 대화"
            ],
            "text/html": [
              "\n",
              "  <div id=\"df-102abf66-aed1-43bc-b623-b662071fe3bb\">\n",
              "    <div class=\"colab-df-container\">\n",
              "      <div>\n",
              "<style scoped>\n",
              "    .dataframe tbody tr th:only-of-type {\n",
              "        vertical-align: middle;\n",
              "    }\n",
              "\n",
              "    .dataframe tbody tr th {\n",
              "        vertical-align: top;\n",
              "    }\n",
              "\n",
              "    .dataframe thead th {\n",
              "        text-align: right;\n",
              "    }\n",
              "</style>\n",
              "<table border=\"1\" class=\"dataframe\">\n",
              "  <thead>\n",
              "    <tr style=\"text-align: right;\">\n",
              "      <th></th>\n",
              "      <th>non_label_sentence</th>\n",
              "      <th>class</th>\n",
              "    </tr>\n",
              "  </thead>\n",
              "  <tbody>\n",
              "    <tr>\n",
              "      <th>0</th>\n",
              "      <td>길동 입력 조금 방법 저번 정씨 신길 씨 이번 에 이 것 좀 처리 해요\\n 이 거 ...</td>\n",
              "      <td>직장 내 괴롭힘 대화</td>\n",
              "    </tr>\n",
              "    <tr>\n",
              "      <th>1</th>\n",
              "      <td>야 너 과연 에드 앞니 왜 그렇게 튀어나왔냐\\n 마가 때쯤 태어날 때 부터 그랬어 ...</td>\n",
              "      <td>기타 괴롭힘 대화</td>\n",
              "    </tr>\n",
              "    <tr>\n",
              "      <th>2</th>\n",
              "      <td>원후 야 학원 교재 사야 되는데 못가 돈독 교과서 학교 8만 원만 주면 안 돼\\n ...</td>\n",
              "      <td>갈취 대화</td>\n",
              "    </tr>\n",
              "    <tr>\n",
              "      <th>3</th>\n",
              "      <td>회상 첫날 독약 지난번 에드 너 저번 에 술 먹은 날 기억 해\\n 아니 왜 과연\\n...</td>\n",
              "      <td>갈취 대화</td>\n",
              "    </tr>\n",
              "    <tr>\n",
              "      <th>4</th>\n",
              "      <td>너 또 배제 말로 각기 에드 내 말 무시 하냐\\n 이 새끼 널 좆 널이 암컷 그러 ...</td>\n",
              "      <td>협박 대화</td>\n",
              "    </tr>\n",
              "  </tbody>\n",
              "</table>\n",
              "</div>\n",
              "      <button class=\"colab-df-convert\" onclick=\"convertToInteractive('df-102abf66-aed1-43bc-b623-b662071fe3bb')\"\n",
              "              title=\"Convert this dataframe to an interactive table.\"\n",
              "              style=\"display:none;\">\n",
              "        \n",
              "  <svg xmlns=\"http://www.w3.org/2000/svg\" height=\"24px\"viewBox=\"0 0 24 24\"\n",
              "       width=\"24px\">\n",
              "    <path d=\"M0 0h24v24H0V0z\" fill=\"none\"/>\n",
              "    <path d=\"M18.56 5.44l.94 2.06.94-2.06 2.06-.94-2.06-.94-.94-2.06-.94 2.06-2.06.94zm-11 1L8.5 8.5l.94-2.06 2.06-.94-2.06-.94L8.5 2.5l-.94 2.06-2.06.94zm10 10l.94 2.06.94-2.06 2.06-.94-2.06-.94-.94-2.06-.94 2.06-2.06.94z\"/><path d=\"M17.41 7.96l-1.37-1.37c-.4-.4-.92-.59-1.43-.59-.52 0-1.04.2-1.43.59L10.3 9.45l-7.72 7.72c-.78.78-.78 2.05 0 2.83L4 21.41c.39.39.9.59 1.41.59.51 0 1.02-.2 1.41-.59l7.78-7.78 2.81-2.81c.8-.78.8-2.07 0-2.86zM5.41 20L4 18.59l7.72-7.72 1.47 1.35L5.41 20z\"/>\n",
              "  </svg>\n",
              "      </button>\n",
              "      \n",
              "  <style>\n",
              "    .colab-df-container {\n",
              "      display:flex;\n",
              "      flex-wrap:wrap;\n",
              "      gap: 12px;\n",
              "    }\n",
              "\n",
              "    .colab-df-convert {\n",
              "      background-color: #E8F0FE;\n",
              "      border: none;\n",
              "      border-radius: 50%;\n",
              "      cursor: pointer;\n",
              "      display: none;\n",
              "      fill: #1967D2;\n",
              "      height: 32px;\n",
              "      padding: 0 0 0 0;\n",
              "      width: 32px;\n",
              "    }\n",
              "\n",
              "    .colab-df-convert:hover {\n",
              "      background-color: #E2EBFA;\n",
              "      box-shadow: 0px 1px 2px rgba(60, 64, 67, 0.3), 0px 1px 3px 1px rgba(60, 64, 67, 0.15);\n",
              "      fill: #174EA6;\n",
              "    }\n",
              "\n",
              "    [theme=dark] .colab-df-convert {\n",
              "      background-color: #3B4455;\n",
              "      fill: #D2E3FC;\n",
              "    }\n",
              "\n",
              "    [theme=dark] .colab-df-convert:hover {\n",
              "      background-color: #434B5C;\n",
              "      box-shadow: 0px 1px 3px 1px rgba(0, 0, 0, 0.15);\n",
              "      filter: drop-shadow(0px 1px 2px rgba(0, 0, 0, 0.3));\n",
              "      fill: #FFFFFF;\n",
              "    }\n",
              "  </style>\n",
              "\n",
              "      <script>\n",
              "        const buttonEl =\n",
              "          document.querySelector('#df-102abf66-aed1-43bc-b623-b662071fe3bb button.colab-df-convert');\n",
              "        buttonEl.style.display =\n",
              "          google.colab.kernel.accessAllowed ? 'block' : 'none';\n",
              "\n",
              "        async function convertToInteractive(key) {\n",
              "          const element = document.querySelector('#df-102abf66-aed1-43bc-b623-b662071fe3bb');\n",
              "          const dataTable =\n",
              "            await google.colab.kernel.invokeFunction('convertToInteractive',\n",
              "                                                     [key], {});\n",
              "          if (!dataTable) return;\n",
              "\n",
              "          const docLinkHtml = 'Like what you see? Visit the ' +\n",
              "            '<a target=\"_blank\" href=https://colab.research.google.com/notebooks/data_table.ipynb>data table notebook</a>'\n",
              "            + ' to learn more about interactive tables.';\n",
              "          element.innerHTML = '';\n",
              "          dataTable['output_type'] = 'display_data';\n",
              "          await google.colab.output.renderOutput(dataTable, element);\n",
              "          const docLink = document.createElement('div');\n",
              "          docLink.innerHTML = docLinkHtml;\n",
              "          element.appendChild(docLink);\n",
              "        }\n",
              "      </script>\n",
              "    </div>\n",
              "  </div>\n",
              "  "
            ]
          },
          "metadata": {},
          "execution_count": 121
        }
      ]
    },
    {
      "cell_type": "code",
      "source": [
        "ori = data[['non_label_sentence', 'class']]"
      ],
      "metadata": {
        "id": "nP4FhqkbUAk1"
      },
      "execution_count": 122,
      "outputs": []
    },
    {
      "cell_type": "code",
      "source": [
        "last = pd.concat([ori, data_insertion]).reset_index(drop=True)\n",
        "last"
      ],
      "metadata": {
        "id": "b1xp1ZOsUNue"
      },
      "execution_count": null,
      "outputs": []
    },
    {
      "cell_type": "code",
      "source": [
        "last.to_csv('/content/drive/MyDrive/AIFFELTHON/TUNiB/train_insertion.csv', index=False)"
      ],
      "metadata": {
        "id": "sbyK17a-QLLI"
      },
      "execution_count": 130,
      "outputs": []
    },
    {
      "cell_type": "markdown",
      "source": [
        "# 원래단어 바로뒤 유의어 추가"
      ],
      "metadata": {
        "id": "3-kJFx_Km1KK"
      }
    },
    {
      "cell_type": "code",
      "source": [
        "def random_insertion(sen):\n",
        "    noun = []\n",
        "    origin = okt.morphs(sen)\n",
        "    tokens = okt.pos(sen, stem=True, norm=True)\n",
        "    for word in tokens:\n",
        "        if word[1] in ['Noun']:\n",
        "            noun.append(word[0])\n",
        "\n",
        "    for n in noun:\n",
        "        try:\n",
        "            s = model.most_similar(n)[0][0]\n",
        "            i = origin.index(n)\n",
        "            origin.insert(i+1, s)\n",
        "        except:\n",
        "            continue\n",
        "\n",
        "    return ' '.join(origin)"
      ],
      "metadata": {
        "id": "TqvY7zUSq1yE"
      },
      "execution_count": 160,
      "outputs": []
    },
    {
      "cell_type": "code",
      "source": [
        "def augmen_conversation(sen):\n",
        "    new_sen = []\n",
        "    sen_split = sen.split('\\n')\n",
        "    for sen in sen_split:\n",
        "        new_sen.append(random_insertion(sen)+'\\n')\n",
        "\n",
        "    new_sen = ' '.join(new_sen)\n",
        "    new_sen = new_sen[:-1]\n",
        "    return new_sen"
      ],
      "metadata": {
        "id": "RMIrDATnrGFG"
      },
      "execution_count": 161,
      "outputs": []
    },
    {
      "cell_type": "code",
      "source": [
        "origin = list(data.non_label_sentence)\n",
        "\n",
        "insert_conversation = []\n",
        "\n",
        "for ori in origin:\n",
        "    insert_conversation.append(augmen_conversation(ori))\n",
        "\n",
        "insert_data = pd.DataFrame(zip(insert_conversation))\n",
        "insert_data.head()"
      ],
      "metadata": {
        "colab": {
          "base_uri": "https://localhost:8080/",
          "height": 258
        },
        "id": "nQdRQusRrU5C",
        "outputId": "fa81eba1-51a1-48b4-aa6d-e8dc7e4effe9"
      },
      "execution_count": 164,
      "outputs": [
        {
          "output_type": "stream",
          "name": "stderr",
          "text": [
            "/usr/local/lib/python3.7/dist-packages/ipykernel_launcher.py:11: DeprecationWarning: Call to deprecated `most_similar` (Method will be removed in 4.0.0, use self.wv.most_similar() instead).\n",
            "  # This is added back by InteractiveShellApp.init_path()\n"
          ]
        },
        {
          "output_type": "execute_result",
          "data": {
            "text/plain": [
              "                                                   0\n",
              "0  길동 신길 씨 정씨 이번 저번 에 이 것 방법 좀 조금 처리 입력 해요\\n 이 거 ...\n",
              "1  야 너 에드 앞니 왜 과연 그렇게 튀어나왔냐\\n 태어날 때 때쯤 부터 그랬어 물어보...\n",
              "2  원후 야 학원 학교 교재 교과서 사야 되는데 8만 원만 돈독 주면 안 못가 돼\\n ...\n",
              "3  너 에드 저번 지난번 에 술 독약 먹은 날 첫날 기억 회상 해\\n 아니 왜 과연\\n...\n",
              "4  너 에드 또 각기 내 말 말로 무시 배제 하냐\\n 이 그러 새끼 암컷 널 널이 좆 ..."
            ],
            "text/html": [
              "\n",
              "  <div id=\"df-0f1f9d70-6109-4306-9955-232334b3504f\">\n",
              "    <div class=\"colab-df-container\">\n",
              "      <div>\n",
              "<style scoped>\n",
              "    .dataframe tbody tr th:only-of-type {\n",
              "        vertical-align: middle;\n",
              "    }\n",
              "\n",
              "    .dataframe tbody tr th {\n",
              "        vertical-align: top;\n",
              "    }\n",
              "\n",
              "    .dataframe thead th {\n",
              "        text-align: right;\n",
              "    }\n",
              "</style>\n",
              "<table border=\"1\" class=\"dataframe\">\n",
              "  <thead>\n",
              "    <tr style=\"text-align: right;\">\n",
              "      <th></th>\n",
              "      <th>0</th>\n",
              "    </tr>\n",
              "  </thead>\n",
              "  <tbody>\n",
              "    <tr>\n",
              "      <th>0</th>\n",
              "      <td>길동 신길 씨 정씨 이번 저번 에 이 것 방법 좀 조금 처리 입력 해요\\n 이 거 ...</td>\n",
              "    </tr>\n",
              "    <tr>\n",
              "      <th>1</th>\n",
              "      <td>야 너 에드 앞니 왜 과연 그렇게 튀어나왔냐\\n 태어날 때 때쯤 부터 그랬어 물어보...</td>\n",
              "    </tr>\n",
              "    <tr>\n",
              "      <th>2</th>\n",
              "      <td>원후 야 학원 학교 교재 교과서 사야 되는데 8만 원만 돈독 주면 안 못가 돼\\n ...</td>\n",
              "    </tr>\n",
              "    <tr>\n",
              "      <th>3</th>\n",
              "      <td>너 에드 저번 지난번 에 술 독약 먹은 날 첫날 기억 회상 해\\n 아니 왜 과연\\n...</td>\n",
              "    </tr>\n",
              "    <tr>\n",
              "      <th>4</th>\n",
              "      <td>너 에드 또 각기 내 말 말로 무시 배제 하냐\\n 이 그러 새끼 암컷 널 널이 좆 ...</td>\n",
              "    </tr>\n",
              "  </tbody>\n",
              "</table>\n",
              "</div>\n",
              "      <button class=\"colab-df-convert\" onclick=\"convertToInteractive('df-0f1f9d70-6109-4306-9955-232334b3504f')\"\n",
              "              title=\"Convert this dataframe to an interactive table.\"\n",
              "              style=\"display:none;\">\n",
              "        \n",
              "  <svg xmlns=\"http://www.w3.org/2000/svg\" height=\"24px\"viewBox=\"0 0 24 24\"\n",
              "       width=\"24px\">\n",
              "    <path d=\"M0 0h24v24H0V0z\" fill=\"none\"/>\n",
              "    <path d=\"M18.56 5.44l.94 2.06.94-2.06 2.06-.94-2.06-.94-.94-2.06-.94 2.06-2.06.94zm-11 1L8.5 8.5l.94-2.06 2.06-.94-2.06-.94L8.5 2.5l-.94 2.06-2.06.94zm10 10l.94 2.06.94-2.06 2.06-.94-2.06-.94-.94-2.06-.94 2.06-2.06.94z\"/><path d=\"M17.41 7.96l-1.37-1.37c-.4-.4-.92-.59-1.43-.59-.52 0-1.04.2-1.43.59L10.3 9.45l-7.72 7.72c-.78.78-.78 2.05 0 2.83L4 21.41c.39.39.9.59 1.41.59.51 0 1.02-.2 1.41-.59l7.78-7.78 2.81-2.81c.8-.78.8-2.07 0-2.86zM5.41 20L4 18.59l7.72-7.72 1.47 1.35L5.41 20z\"/>\n",
              "  </svg>\n",
              "      </button>\n",
              "      \n",
              "  <style>\n",
              "    .colab-df-container {\n",
              "      display:flex;\n",
              "      flex-wrap:wrap;\n",
              "      gap: 12px;\n",
              "    }\n",
              "\n",
              "    .colab-df-convert {\n",
              "      background-color: #E8F0FE;\n",
              "      border: none;\n",
              "      border-radius: 50%;\n",
              "      cursor: pointer;\n",
              "      display: none;\n",
              "      fill: #1967D2;\n",
              "      height: 32px;\n",
              "      padding: 0 0 0 0;\n",
              "      width: 32px;\n",
              "    }\n",
              "\n",
              "    .colab-df-convert:hover {\n",
              "      background-color: #E2EBFA;\n",
              "      box-shadow: 0px 1px 2px rgba(60, 64, 67, 0.3), 0px 1px 3px 1px rgba(60, 64, 67, 0.15);\n",
              "      fill: #174EA6;\n",
              "    }\n",
              "\n",
              "    [theme=dark] .colab-df-convert {\n",
              "      background-color: #3B4455;\n",
              "      fill: #D2E3FC;\n",
              "    }\n",
              "\n",
              "    [theme=dark] .colab-df-convert:hover {\n",
              "      background-color: #434B5C;\n",
              "      box-shadow: 0px 1px 3px 1px rgba(0, 0, 0, 0.15);\n",
              "      filter: drop-shadow(0px 1px 2px rgba(0, 0, 0, 0.3));\n",
              "      fill: #FFFFFF;\n",
              "    }\n",
              "  </style>\n",
              "\n",
              "      <script>\n",
              "        const buttonEl =\n",
              "          document.querySelector('#df-0f1f9d70-6109-4306-9955-232334b3504f button.colab-df-convert');\n",
              "        buttonEl.style.display =\n",
              "          google.colab.kernel.accessAllowed ? 'block' : 'none';\n",
              "\n",
              "        async function convertToInteractive(key) {\n",
              "          const element = document.querySelector('#df-0f1f9d70-6109-4306-9955-232334b3504f');\n",
              "          const dataTable =\n",
              "            await google.colab.kernel.invokeFunction('convertToInteractive',\n",
              "                                                     [key], {});\n",
              "          if (!dataTable) return;\n",
              "\n",
              "          const docLinkHtml = 'Like what you see? Visit the ' +\n",
              "            '<a target=\"_blank\" href=https://colab.research.google.com/notebooks/data_table.ipynb>data table notebook</a>'\n",
              "            + ' to learn more about interactive tables.';\n",
              "          element.innerHTML = '';\n",
              "          dataTable['output_type'] = 'display_data';\n",
              "          await google.colab.output.renderOutput(dataTable, element);\n",
              "          const docLink = document.createElement('div');\n",
              "          docLink.innerHTML = docLinkHtml;\n",
              "          element.appendChild(docLink);\n",
              "        }\n",
              "      </script>\n",
              "    </div>\n",
              "  </div>\n",
              "  "
            ]
          },
          "metadata": {},
          "execution_count": 164
        }
      ]
    },
    {
      "cell_type": "code",
      "source": [
        "insert_data.rename(columns = {0:'non_label_sentence'}, inplace=True)\n",
        "add_data = data.copy()\n",
        "add_data = add_data.drop('non_label_sentence', axis=1)\n",
        "new = pd.concat([add_data,insert_data], axis=1).reset_index(drop=True)\n",
        "new = new[['class', 'label_sentence', 'non_label_sentence', 'binary_class']]\n",
        "new_100 = pd.concat([data,new]).reset_index(drop=True)"
      ],
      "metadata": {
        "id": "bNfXPPWqsBYN"
      },
      "execution_count": 166,
      "outputs": []
    },
    {
      "cell_type": "code",
      "source": [
        "new_100.to_csv('/content/drive/MyDrive/AIFFELTHON/TUNiB/train_contextualized_RI_100.csv', index=False)\n",
        "pd.read_csv('/content/drive/MyDrive/AIFFELTHON/TUNiB/train_contextualized_RI_100.csv')"
      ],
      "metadata": {
        "id": "h2bvcGr9uTIP"
      },
      "execution_count": 174,
      "outputs": []
    },
    {
      "cell_type": "code",
      "source": [
        "data = pd.read_csv('/content/drive/MyDrive/AIFFELTHON/TUNiB/train_contextualized_RI_100.csv')\n",
        "data[3870"
      ],
      "metadata": {
        "id": "8zkRDCF01DN_"
      },
      "execution_count": null,
      "outputs": []
    },
    {
      "cell_type": "code",
      "source": [
        "idx = list(range(3870))"
      ],
      "metadata": {
        "id": "UethyiCG1kCb"
      },
      "execution_count": 214,
      "outputs": []
    },
    {
      "cell_type": "code",
      "source": [
        "data = data.drop(idx) "
      ],
      "metadata": {
        "id": "NaJFOjmS1ff4"
      },
      "execution_count": 215,
      "outputs": []
    },
    {
      "cell_type": "code",
      "source": [
        "new = data.reset_index(drop=True)"
      ],
      "metadata": {
        "id": "zldzF0TL1rwg"
      },
      "execution_count": 218,
      "outputs": []
    },
    {
      "cell_type": "code",
      "source": [
        "new.to_csv('/content/drive/MyDrive/AIFFELTHON/TUNiB/train_contextualized_RI.csv', index=False)\n",
        "pd.read_csv('/content/drive/MyDrive/AIFFELTHON/TUNiB/train_contextualized_RI.csv')"
      ],
      "metadata": {
        "colab": {
          "base_uri": "https://localhost:8080/",
          "height": 419
        },
        "id": "l8L8yrbS16Fs",
        "outputId": "eb3de519-7abb-4dd4-a454-705fe0c267b3"
      },
      "execution_count": 220,
      "outputs": [
        {
          "output_type": "execute_result",
          "data": {
            "text/plain": [
              "            class                                     label_sentence  \\\n",
              "0     직장 내 괴롭힘 대화  1:길동 씨 이번에 이것 좀 처리해요\\n2:이거 제가 한 게 아닌데요\\n1:팀에서 ...   \n",
              "1       기타 괴롭힘 대화  1:야 너 앞니 왜 그렇게 튀어나왔냐\\n2:태어날 때부터 그랬어 물어보지 마\\n1:...   \n",
              "2           갈취 대화  1:원후야 학원 교재 사야 되는데 8만 원만 주면 안 돼\\n2:미안 나 오늘은 진짜...   \n",
              "3           갈취 대화  1:너 저번에 술 먹은 날 기억해\\n2:아니 왜\\n1:야 300만 원만 가져와\\n2...   \n",
              "4           협박 대화  1:너 또 내말 무시하냐\\n1:이 새끼 널 좆으로 보나 본데\\n2:아냐 진짜 시간이...   \n",
              "...           ...                                                ...   \n",
              "3865    기타 괴롭힘 대화  1:준하야 넌 대가리가 왜 이렇게 크냐\\n2:내 머리가 뭐\\n1:밥 먹으면 대가리만...   \n",
              "3866        갈취 대화  1:내가 지금 너 아들 김길준 데리고 있어  살리고 싶으면 계좌에 1억만 보내\\n2...   \n",
              "3867  직장 내 괴롭힘 대화  1:나는 씨 같은 사람 보면 참 신기하더라  어떻게 저렇게 살지\\n1:왜 그래  들...   \n",
              "3868        갈취 대화  1:누구 맘대로 여기서 장사하래\\n2:이게 무슨 일입니까\\n1:남의 구역에서 장사하...   \n",
              "3869  직장 내 괴롭힘 대화  1:희정 씨\\n2:네\\n1:주말에 시간이 넘쳐나나 봐\\n2:갑자기 왜 그러세요\\n1...   \n",
              "\n",
              "                                     non_label_sentence binary_class  \n",
              "0     길동 신길 씨 정씨 이번 저번 에 이 것 방법 좀 조금 처리 입력 해요\\n 이 거 ...        공격 대화  \n",
              "1     야 너 에드 앞니 왜 과연 그렇게 튀어나왔냐\\n 태어날 때 때쯤 부터 그랬어 물어보...        공격 대화  \n",
              "2     원후 야 학원 학교 교재 교과서 사야 되는데 8만 원만 돈독 주면 안 못가 돼\\n ...        공격 대화  \n",
              "3     너 에드 저번 지난번 에 술 독약 먹은 날 첫날 기억 회상 해\\n 아니 왜 과연\\n...        공격 대화  \n",
              "4     너 에드 또 각기 내 말 말로 무시 배제 하냐\\n 이 그러 새끼 암컷 널 널이 좆 ...        공격 대화  \n",
              "...                                                 ...          ...  \n",
              "3865  준 우승자 하야 스즈키 넌 플리트 대가리 가 왜 과연 이렇게 크냐\\n 내 내고 머리...        공격 대화  \n",
              "3866  내 내고 가 지금 현재 너 에드 아들 딸 김길준 데리 거느리 고 있어 살리고 싶으면...        공격 대화  \n",
              "3867  나 나의 는 씨 정씨 같은 사람 젊은이 보면 참 신기하더라 어떻게 저렇게 살 살아오...        공격 대화  \n",
              "3868  누구 어디 맘대로 여기 알리 서 장사 태수 하래\\n 이 그러 게 무슨 어찌 일 입 ...        공격 대화  \n",
              "3869  희 정 정이 씨 정씨\\n 네 카나\\n 주말 토요일 에 시간 분간 이 넘쳐나나 봐\\n...        공격 대화  \n",
              "\n",
              "[3870 rows x 4 columns]"
            ],
            "text/html": [
              "\n",
              "  <div id=\"df-80cade3f-222f-49cb-9d26-975b3a4109cc\">\n",
              "    <div class=\"colab-df-container\">\n",
              "      <div>\n",
              "<style scoped>\n",
              "    .dataframe tbody tr th:only-of-type {\n",
              "        vertical-align: middle;\n",
              "    }\n",
              "\n",
              "    .dataframe tbody tr th {\n",
              "        vertical-align: top;\n",
              "    }\n",
              "\n",
              "    .dataframe thead th {\n",
              "        text-align: right;\n",
              "    }\n",
              "</style>\n",
              "<table border=\"1\" class=\"dataframe\">\n",
              "  <thead>\n",
              "    <tr style=\"text-align: right;\">\n",
              "      <th></th>\n",
              "      <th>class</th>\n",
              "      <th>label_sentence</th>\n",
              "      <th>non_label_sentence</th>\n",
              "      <th>binary_class</th>\n",
              "    </tr>\n",
              "  </thead>\n",
              "  <tbody>\n",
              "    <tr>\n",
              "      <th>0</th>\n",
              "      <td>직장 내 괴롭힘 대화</td>\n",
              "      <td>1:길동 씨 이번에 이것 좀 처리해요\\n2:이거 제가 한 게 아닌데요\\n1:팀에서 ...</td>\n",
              "      <td>길동 신길 씨 정씨 이번 저번 에 이 것 방법 좀 조금 처리 입력 해요\\n 이 거 ...</td>\n",
              "      <td>공격 대화</td>\n",
              "    </tr>\n",
              "    <tr>\n",
              "      <th>1</th>\n",
              "      <td>기타 괴롭힘 대화</td>\n",
              "      <td>1:야 너 앞니 왜 그렇게 튀어나왔냐\\n2:태어날 때부터 그랬어 물어보지 마\\n1:...</td>\n",
              "      <td>야 너 에드 앞니 왜 과연 그렇게 튀어나왔냐\\n 태어날 때 때쯤 부터 그랬어 물어보...</td>\n",
              "      <td>공격 대화</td>\n",
              "    </tr>\n",
              "    <tr>\n",
              "      <th>2</th>\n",
              "      <td>갈취 대화</td>\n",
              "      <td>1:원후야 학원 교재 사야 되는데 8만 원만 주면 안 돼\\n2:미안 나 오늘은 진짜...</td>\n",
              "      <td>원후 야 학원 학교 교재 교과서 사야 되는데 8만 원만 돈독 주면 안 못가 돼\\n ...</td>\n",
              "      <td>공격 대화</td>\n",
              "    </tr>\n",
              "    <tr>\n",
              "      <th>3</th>\n",
              "      <td>갈취 대화</td>\n",
              "      <td>1:너 저번에 술 먹은 날 기억해\\n2:아니 왜\\n1:야 300만 원만 가져와\\n2...</td>\n",
              "      <td>너 에드 저번 지난번 에 술 독약 먹은 날 첫날 기억 회상 해\\n 아니 왜 과연\\n...</td>\n",
              "      <td>공격 대화</td>\n",
              "    </tr>\n",
              "    <tr>\n",
              "      <th>4</th>\n",
              "      <td>협박 대화</td>\n",
              "      <td>1:너 또 내말 무시하냐\\n1:이 새끼 널 좆으로 보나 본데\\n2:아냐 진짜 시간이...</td>\n",
              "      <td>너 에드 또 각기 내 말 말로 무시 배제 하냐\\n 이 그러 새끼 암컷 널 널이 좆 ...</td>\n",
              "      <td>공격 대화</td>\n",
              "    </tr>\n",
              "    <tr>\n",
              "      <th>...</th>\n",
              "      <td>...</td>\n",
              "      <td>...</td>\n",
              "      <td>...</td>\n",
              "      <td>...</td>\n",
              "    </tr>\n",
              "    <tr>\n",
              "      <th>3865</th>\n",
              "      <td>기타 괴롭힘 대화</td>\n",
              "      <td>1:준하야 넌 대가리가 왜 이렇게 크냐\\n2:내 머리가 뭐\\n1:밥 먹으면 대가리만...</td>\n",
              "      <td>준 우승자 하야 스즈키 넌 플리트 대가리 가 왜 과연 이렇게 크냐\\n 내 내고 머리...</td>\n",
              "      <td>공격 대화</td>\n",
              "    </tr>\n",
              "    <tr>\n",
              "      <th>3866</th>\n",
              "      <td>갈취 대화</td>\n",
              "      <td>1:내가 지금 너 아들 김길준 데리고 있어  살리고 싶으면 계좌에 1억만 보내\\n2...</td>\n",
              "      <td>내 내고 가 지금 현재 너 에드 아들 딸 김길준 데리 거느리 고 있어 살리고 싶으면...</td>\n",
              "      <td>공격 대화</td>\n",
              "    </tr>\n",
              "    <tr>\n",
              "      <th>3867</th>\n",
              "      <td>직장 내 괴롭힘 대화</td>\n",
              "      <td>1:나는 씨 같은 사람 보면 참 신기하더라  어떻게 저렇게 살지\\n1:왜 그래  들...</td>\n",
              "      <td>나 나의 는 씨 정씨 같은 사람 젊은이 보면 참 신기하더라 어떻게 저렇게 살 살아오...</td>\n",
              "      <td>공격 대화</td>\n",
              "    </tr>\n",
              "    <tr>\n",
              "      <th>3868</th>\n",
              "      <td>갈취 대화</td>\n",
              "      <td>1:누구 맘대로 여기서 장사하래\\n2:이게 무슨 일입니까\\n1:남의 구역에서 장사하...</td>\n",
              "      <td>누구 어디 맘대로 여기 알리 서 장사 태수 하래\\n 이 그러 게 무슨 어찌 일 입 ...</td>\n",
              "      <td>공격 대화</td>\n",
              "    </tr>\n",
              "    <tr>\n",
              "      <th>3869</th>\n",
              "      <td>직장 내 괴롭힘 대화</td>\n",
              "      <td>1:희정 씨\\n2:네\\n1:주말에 시간이 넘쳐나나 봐\\n2:갑자기 왜 그러세요\\n1...</td>\n",
              "      <td>희 정 정이 씨 정씨\\n 네 카나\\n 주말 토요일 에 시간 분간 이 넘쳐나나 봐\\n...</td>\n",
              "      <td>공격 대화</td>\n",
              "    </tr>\n",
              "  </tbody>\n",
              "</table>\n",
              "<p>3870 rows × 4 columns</p>\n",
              "</div>\n",
              "      <button class=\"colab-df-convert\" onclick=\"convertToInteractive('df-80cade3f-222f-49cb-9d26-975b3a4109cc')\"\n",
              "              title=\"Convert this dataframe to an interactive table.\"\n",
              "              style=\"display:none;\">\n",
              "        \n",
              "  <svg xmlns=\"http://www.w3.org/2000/svg\" height=\"24px\"viewBox=\"0 0 24 24\"\n",
              "       width=\"24px\">\n",
              "    <path d=\"M0 0h24v24H0V0z\" fill=\"none\"/>\n",
              "    <path d=\"M18.56 5.44l.94 2.06.94-2.06 2.06-.94-2.06-.94-.94-2.06-.94 2.06-2.06.94zm-11 1L8.5 8.5l.94-2.06 2.06-.94-2.06-.94L8.5 2.5l-.94 2.06-2.06.94zm10 10l.94 2.06.94-2.06 2.06-.94-2.06-.94-.94-2.06-.94 2.06-2.06.94z\"/><path d=\"M17.41 7.96l-1.37-1.37c-.4-.4-.92-.59-1.43-.59-.52 0-1.04.2-1.43.59L10.3 9.45l-7.72 7.72c-.78.78-.78 2.05 0 2.83L4 21.41c.39.39.9.59 1.41.59.51 0 1.02-.2 1.41-.59l7.78-7.78 2.81-2.81c.8-.78.8-2.07 0-2.86zM5.41 20L4 18.59l7.72-7.72 1.47 1.35L5.41 20z\"/>\n",
              "  </svg>\n",
              "      </button>\n",
              "      \n",
              "  <style>\n",
              "    .colab-df-container {\n",
              "      display:flex;\n",
              "      flex-wrap:wrap;\n",
              "      gap: 12px;\n",
              "    }\n",
              "\n",
              "    .colab-df-convert {\n",
              "      background-color: #E8F0FE;\n",
              "      border: none;\n",
              "      border-radius: 50%;\n",
              "      cursor: pointer;\n",
              "      display: none;\n",
              "      fill: #1967D2;\n",
              "      height: 32px;\n",
              "      padding: 0 0 0 0;\n",
              "      width: 32px;\n",
              "    }\n",
              "\n",
              "    .colab-df-convert:hover {\n",
              "      background-color: #E2EBFA;\n",
              "      box-shadow: 0px 1px 2px rgba(60, 64, 67, 0.3), 0px 1px 3px 1px rgba(60, 64, 67, 0.15);\n",
              "      fill: #174EA6;\n",
              "    }\n",
              "\n",
              "    [theme=dark] .colab-df-convert {\n",
              "      background-color: #3B4455;\n",
              "      fill: #D2E3FC;\n",
              "    }\n",
              "\n",
              "    [theme=dark] .colab-df-convert:hover {\n",
              "      background-color: #434B5C;\n",
              "      box-shadow: 0px 1px 3px 1px rgba(0, 0, 0, 0.15);\n",
              "      filter: drop-shadow(0px 1px 2px rgba(0, 0, 0, 0.3));\n",
              "      fill: #FFFFFF;\n",
              "    }\n",
              "  </style>\n",
              "\n",
              "      <script>\n",
              "        const buttonEl =\n",
              "          document.querySelector('#df-80cade3f-222f-49cb-9d26-975b3a4109cc button.colab-df-convert');\n",
              "        buttonEl.style.display =\n",
              "          google.colab.kernel.accessAllowed ? 'block' : 'none';\n",
              "\n",
              "        async function convertToInteractive(key) {\n",
              "          const element = document.querySelector('#df-80cade3f-222f-49cb-9d26-975b3a4109cc');\n",
              "          const dataTable =\n",
              "            await google.colab.kernel.invokeFunction('convertToInteractive',\n",
              "                                                     [key], {});\n",
              "          if (!dataTable) return;\n",
              "\n",
              "          const docLinkHtml = 'Like what you see? Visit the ' +\n",
              "            '<a target=\"_blank\" href=https://colab.research.google.com/notebooks/data_table.ipynb>data table notebook</a>'\n",
              "            + ' to learn more about interactive tables.';\n",
              "          element.innerHTML = '';\n",
              "          dataTable['output_type'] = 'display_data';\n",
              "          await google.colab.output.renderOutput(dataTable, element);\n",
              "          const docLink = document.createElement('div');\n",
              "          docLink.innerHTML = docLinkHtml;\n",
              "          element.appendChild(docLink);\n",
              "        }\n",
              "      </script>\n",
              "    </div>\n",
              "  </div>\n",
              "  "
            ]
          },
          "metadata": {},
          "execution_count": 220
        }
      ]
    },
    {
      "cell_type": "markdown",
      "source": [
        "# 노이즈추가10%"
      ],
      "metadata": {
        "id": "p1FuMkIBwQTZ"
      }
    },
    {
      "cell_type": "code",
      "source": [
        "percent = 0.1\n",
        "n = list(range(data.shape[0]))\n",
        "ran_idx = random.sample(n, int(data.shape[0]*percent))\n",
        "ran_idx = sorted(ran_idx)\n",
        "len(ran_idx)"
      ],
      "metadata": {
        "colab": {
          "base_uri": "https://localhost:8080/"
        },
        "id": "yuEpeRFvy0ZC",
        "outputId": "8944b3af-e01d-456f-c87a-43f8b8893ced"
      },
      "execution_count": 201,
      "outputs": [
        {
          "output_type": "execute_result",
          "data": {
            "text/plain": [
              "387"
            ]
          },
          "metadata": {},
          "execution_count": 201
        }
      ]
    },
    {
      "cell_type": "code",
      "source": [
        "choied_data = data.loc[ran_idx]"
      ],
      "metadata": {
        "id": "aee8pTEcxa9A"
      },
      "execution_count": 203,
      "outputs": []
    },
    {
      "cell_type": "code",
      "source": [
        "origin = list(choied_data.non_label_sentence)\n",
        "\n",
        "insert_conversation = []\n",
        "\n",
        "for ori in origin:\n",
        "    insert_conversation.append(augmen_conversation(ori))\n",
        "\n",
        "insert_data = pd.DataFrame(zip(insert_conversation))\n",
        "insert_data.head()"
      ],
      "metadata": {
        "colab": {
          "base_uri": "https://localhost:8080/",
          "height": 258
        },
        "id": "gu8b4_v6wEfG",
        "outputId": "1c5c2271-3295-4a28-c9fe-ee7fbf6e125a"
      },
      "execution_count": 205,
      "outputs": [
        {
          "output_type": "stream",
          "name": "stderr",
          "text": [
            "/usr/local/lib/python3.7/dist-packages/ipykernel_launcher.py:11: DeprecationWarning: Call to deprecated `most_similar` (Method will be removed in 4.0.0, use self.wv.most_similar() instead).\n",
            "  # This is added back by InteractiveShellApp.init_path()\n"
          ]
        },
        {
          "output_type": "execute_result",
          "data": {
            "text/plain": [
              "                                                   0\n",
              "0  안녕하십니까 사장 부사장 님\\n 뭔 안녕해 미친 놈 녀석 아 저리 졀 꺼져\\n 죄송...\n",
              "1  네 카나 길동 신길 샐러드 디저트\\n 아 저기 불쌍히 요 제 저 가 아까 거기 여기...\n",
              "2  아가씨 엄마 택시 운전사 비 빌 가 없는데 돈 현상금 좀 조금 빌려\\n 얼마 며칠 ...\n",
              "3  어이 손색 거기 여기저기\\n 저 제 저희 그분 조 조의\\n 그래 거기 여기저기 너 ...\n",
              "4  너 에드 왜 과연 내 내고 욕 욕계 하고 다니냐\\n 무슨 어찌 소리 울음소리 야\\n..."
            ],
            "text/html": [
              "\n",
              "  <div id=\"df-58798759-d9e5-4aec-bc00-8ac1c36406cf\">\n",
              "    <div class=\"colab-df-container\">\n",
              "      <div>\n",
              "<style scoped>\n",
              "    .dataframe tbody tr th:only-of-type {\n",
              "        vertical-align: middle;\n",
              "    }\n",
              "\n",
              "    .dataframe tbody tr th {\n",
              "        vertical-align: top;\n",
              "    }\n",
              "\n",
              "    .dataframe thead th {\n",
              "        text-align: right;\n",
              "    }\n",
              "</style>\n",
              "<table border=\"1\" class=\"dataframe\">\n",
              "  <thead>\n",
              "    <tr style=\"text-align: right;\">\n",
              "      <th></th>\n",
              "      <th>0</th>\n",
              "    </tr>\n",
              "  </thead>\n",
              "  <tbody>\n",
              "    <tr>\n",
              "      <th>0</th>\n",
              "      <td>안녕하십니까 사장 부사장 님\\n 뭔 안녕해 미친 놈 녀석 아 저리 졀 꺼져\\n 죄송...</td>\n",
              "    </tr>\n",
              "    <tr>\n",
              "      <th>1</th>\n",
              "      <td>네 카나 길동 신길 샐러드 디저트\\n 아 저기 불쌍히 요 제 저 가 아까 거기 여기...</td>\n",
              "    </tr>\n",
              "    <tr>\n",
              "      <th>2</th>\n",
              "      <td>아가씨 엄마 택시 운전사 비 빌 가 없는데 돈 현상금 좀 조금 빌려\\n 얼마 며칠 ...</td>\n",
              "    </tr>\n",
              "    <tr>\n",
              "      <th>3</th>\n",
              "      <td>어이 손색 거기 여기저기\\n 저 제 저희 그분 조 조의\\n 그래 거기 여기저기 너 ...</td>\n",
              "    </tr>\n",
              "    <tr>\n",
              "      <th>4</th>\n",
              "      <td>너 에드 왜 과연 내 내고 욕 욕계 하고 다니냐\\n 무슨 어찌 소리 울음소리 야\\n...</td>\n",
              "    </tr>\n",
              "  </tbody>\n",
              "</table>\n",
              "</div>\n",
              "      <button class=\"colab-df-convert\" onclick=\"convertToInteractive('df-58798759-d9e5-4aec-bc00-8ac1c36406cf')\"\n",
              "              title=\"Convert this dataframe to an interactive table.\"\n",
              "              style=\"display:none;\">\n",
              "        \n",
              "  <svg xmlns=\"http://www.w3.org/2000/svg\" height=\"24px\"viewBox=\"0 0 24 24\"\n",
              "       width=\"24px\">\n",
              "    <path d=\"M0 0h24v24H0V0z\" fill=\"none\"/>\n",
              "    <path d=\"M18.56 5.44l.94 2.06.94-2.06 2.06-.94-2.06-.94-.94-2.06-.94 2.06-2.06.94zm-11 1L8.5 8.5l.94-2.06 2.06-.94-2.06-.94L8.5 2.5l-.94 2.06-2.06.94zm10 10l.94 2.06.94-2.06 2.06-.94-2.06-.94-.94-2.06-.94 2.06-2.06.94z\"/><path d=\"M17.41 7.96l-1.37-1.37c-.4-.4-.92-.59-1.43-.59-.52 0-1.04.2-1.43.59L10.3 9.45l-7.72 7.72c-.78.78-.78 2.05 0 2.83L4 21.41c.39.39.9.59 1.41.59.51 0 1.02-.2 1.41-.59l7.78-7.78 2.81-2.81c.8-.78.8-2.07 0-2.86zM5.41 20L4 18.59l7.72-7.72 1.47 1.35L5.41 20z\"/>\n",
              "  </svg>\n",
              "      </button>\n",
              "      \n",
              "  <style>\n",
              "    .colab-df-container {\n",
              "      display:flex;\n",
              "      flex-wrap:wrap;\n",
              "      gap: 12px;\n",
              "    }\n",
              "\n",
              "    .colab-df-convert {\n",
              "      background-color: #E8F0FE;\n",
              "      border: none;\n",
              "      border-radius: 50%;\n",
              "      cursor: pointer;\n",
              "      display: none;\n",
              "      fill: #1967D2;\n",
              "      height: 32px;\n",
              "      padding: 0 0 0 0;\n",
              "      width: 32px;\n",
              "    }\n",
              "\n",
              "    .colab-df-convert:hover {\n",
              "      background-color: #E2EBFA;\n",
              "      box-shadow: 0px 1px 2px rgba(60, 64, 67, 0.3), 0px 1px 3px 1px rgba(60, 64, 67, 0.15);\n",
              "      fill: #174EA6;\n",
              "    }\n",
              "\n",
              "    [theme=dark] .colab-df-convert {\n",
              "      background-color: #3B4455;\n",
              "      fill: #D2E3FC;\n",
              "    }\n",
              "\n",
              "    [theme=dark] .colab-df-convert:hover {\n",
              "      background-color: #434B5C;\n",
              "      box-shadow: 0px 1px 3px 1px rgba(0, 0, 0, 0.15);\n",
              "      filter: drop-shadow(0px 1px 2px rgba(0, 0, 0, 0.3));\n",
              "      fill: #FFFFFF;\n",
              "    }\n",
              "  </style>\n",
              "\n",
              "      <script>\n",
              "        const buttonEl =\n",
              "          document.querySelector('#df-58798759-d9e5-4aec-bc00-8ac1c36406cf button.colab-df-convert');\n",
              "        buttonEl.style.display =\n",
              "          google.colab.kernel.accessAllowed ? 'block' : 'none';\n",
              "\n",
              "        async function convertToInteractive(key) {\n",
              "          const element = document.querySelector('#df-58798759-d9e5-4aec-bc00-8ac1c36406cf');\n",
              "          const dataTable =\n",
              "            await google.colab.kernel.invokeFunction('convertToInteractive',\n",
              "                                                     [key], {});\n",
              "          if (!dataTable) return;\n",
              "\n",
              "          const docLinkHtml = 'Like what you see? Visit the ' +\n",
              "            '<a target=\"_blank\" href=https://colab.research.google.com/notebooks/data_table.ipynb>data table notebook</a>'\n",
              "            + ' to learn more about interactive tables.';\n",
              "          element.innerHTML = '';\n",
              "          dataTable['output_type'] = 'display_data';\n",
              "          await google.colab.output.renderOutput(dataTable, element);\n",
              "          const docLink = document.createElement('div');\n",
              "          docLink.innerHTML = docLinkHtml;\n",
              "          element.appendChild(docLink);\n",
              "        }\n",
              "      </script>\n",
              "    </div>\n",
              "  </div>\n",
              "  "
            ]
          },
          "metadata": {},
          "execution_count": 205
        }
      ]
    },
    {
      "cell_type": "code",
      "source": [
        "insert_data.rename(columns = {0:'non_label_sentence'}, inplace=True)\n",
        "add_data = choied_data.copy()\n",
        "add_data = add_data.drop('non_label_sentence', axis=1)\n",
        "new = pd.concat([add_data,insert_data], axis=1).reset_index(drop=True)\n",
        "new = new[['class', 'label_sentence', 'non_label_sentence', 'binary_class']]\n",
        "new_10 = pd.concat([data,new]).reset_index(drop=True)\n",
        "new_10.head()"
      ],
      "metadata": {
        "colab": {
          "base_uri": "https://localhost:8080/",
          "height": 204
        },
        "id": "aqYMXHP6zxJD",
        "outputId": "370f1fc4-3cc7-4d2c-d415-ac4ce4f56f6a"
      },
      "execution_count": 209,
      "outputs": [
        {
          "output_type": "execute_result",
          "data": {
            "text/plain": [
              "         class                                     label_sentence  \\\n",
              "0  직장 내 괴롭힘 대화  1:길동 씨 이번에 이것 좀 처리해요\\n2:이거 제가 한 게 아닌데요\\n1:팀에서 ...   \n",
              "1    기타 괴롭힘 대화  1:야 너 앞니 왜 그렇게 튀어나왔냐\\n2:태어날 때부터 그랬어 물어보지 마\\n1:...   \n",
              "2        갈취 대화  1:원후야 학원 교재 사야 되는데 8만 원만 주면 안 돼\\n2:미안 나 오늘은 진짜...   \n",
              "3        갈취 대화  1:너 저번에 술 먹은 날 기억해\\n2:아니 왜\\n1:야 300만 원만 가져와\\n2...   \n",
              "4        협박 대화  1:너 또 내말 무시하냐\\n1:이 새끼 널 좆으로 보나 본데\\n2:아냐 진짜 시간이...   \n",
              "\n",
              "                                  non_label_sentence binary_class  \n",
              "0  길동 씨 이번에 이것 좀 처리해요\\n이거 제가 한 게 아닌데요\\n팀에서 내가 네가 ...        공격 대화  \n",
              "1  야 너 앞니 왜 그렇게 튀어나왔냐\\n태어날 때부터 그랬어 물어보지 마\\n아 그럼 태...        공격 대화  \n",
              "2  원후야 학원 교재 사야 되는데 8만 원만 주면 안 돼\\n미안 나 오늘은 진짜 돈이 ...        공격 대화  \n",
              "3  너 저번에 술 먹은 날 기억해\\n아니 왜\\n야 300만 원만 가져와\\n뭔 소리야  ...        공격 대화  \n",
              "4  너 또 내말 무시하냐\\n이 새끼 널 좆으로 보나 본데\\n아냐 진짜 시간이 없었어 미...        공격 대화  "
            ],
            "text/html": [
              "\n",
              "  <div id=\"df-80c0acfb-a99f-4a35-b2d2-baea4a4c4d85\">\n",
              "    <div class=\"colab-df-container\">\n",
              "      <div>\n",
              "<style scoped>\n",
              "    .dataframe tbody tr th:only-of-type {\n",
              "        vertical-align: middle;\n",
              "    }\n",
              "\n",
              "    .dataframe tbody tr th {\n",
              "        vertical-align: top;\n",
              "    }\n",
              "\n",
              "    .dataframe thead th {\n",
              "        text-align: right;\n",
              "    }\n",
              "</style>\n",
              "<table border=\"1\" class=\"dataframe\">\n",
              "  <thead>\n",
              "    <tr style=\"text-align: right;\">\n",
              "      <th></th>\n",
              "      <th>class</th>\n",
              "      <th>label_sentence</th>\n",
              "      <th>non_label_sentence</th>\n",
              "      <th>binary_class</th>\n",
              "    </tr>\n",
              "  </thead>\n",
              "  <tbody>\n",
              "    <tr>\n",
              "      <th>0</th>\n",
              "      <td>직장 내 괴롭힘 대화</td>\n",
              "      <td>1:길동 씨 이번에 이것 좀 처리해요\\n2:이거 제가 한 게 아닌데요\\n1:팀에서 ...</td>\n",
              "      <td>길동 씨 이번에 이것 좀 처리해요\\n이거 제가 한 게 아닌데요\\n팀에서 내가 네가 ...</td>\n",
              "      <td>공격 대화</td>\n",
              "    </tr>\n",
              "    <tr>\n",
              "      <th>1</th>\n",
              "      <td>기타 괴롭힘 대화</td>\n",
              "      <td>1:야 너 앞니 왜 그렇게 튀어나왔냐\\n2:태어날 때부터 그랬어 물어보지 마\\n1:...</td>\n",
              "      <td>야 너 앞니 왜 그렇게 튀어나왔냐\\n태어날 때부터 그랬어 물어보지 마\\n아 그럼 태...</td>\n",
              "      <td>공격 대화</td>\n",
              "    </tr>\n",
              "    <tr>\n",
              "      <th>2</th>\n",
              "      <td>갈취 대화</td>\n",
              "      <td>1:원후야 학원 교재 사야 되는데 8만 원만 주면 안 돼\\n2:미안 나 오늘은 진짜...</td>\n",
              "      <td>원후야 학원 교재 사야 되는데 8만 원만 주면 안 돼\\n미안 나 오늘은 진짜 돈이 ...</td>\n",
              "      <td>공격 대화</td>\n",
              "    </tr>\n",
              "    <tr>\n",
              "      <th>3</th>\n",
              "      <td>갈취 대화</td>\n",
              "      <td>1:너 저번에 술 먹은 날 기억해\\n2:아니 왜\\n1:야 300만 원만 가져와\\n2...</td>\n",
              "      <td>너 저번에 술 먹은 날 기억해\\n아니 왜\\n야 300만 원만 가져와\\n뭔 소리야  ...</td>\n",
              "      <td>공격 대화</td>\n",
              "    </tr>\n",
              "    <tr>\n",
              "      <th>4</th>\n",
              "      <td>협박 대화</td>\n",
              "      <td>1:너 또 내말 무시하냐\\n1:이 새끼 널 좆으로 보나 본데\\n2:아냐 진짜 시간이...</td>\n",
              "      <td>너 또 내말 무시하냐\\n이 새끼 널 좆으로 보나 본데\\n아냐 진짜 시간이 없었어 미...</td>\n",
              "      <td>공격 대화</td>\n",
              "    </tr>\n",
              "  </tbody>\n",
              "</table>\n",
              "</div>\n",
              "      <button class=\"colab-df-convert\" onclick=\"convertToInteractive('df-80c0acfb-a99f-4a35-b2d2-baea4a4c4d85')\"\n",
              "              title=\"Convert this dataframe to an interactive table.\"\n",
              "              style=\"display:none;\">\n",
              "        \n",
              "  <svg xmlns=\"http://www.w3.org/2000/svg\" height=\"24px\"viewBox=\"0 0 24 24\"\n",
              "       width=\"24px\">\n",
              "    <path d=\"M0 0h24v24H0V0z\" fill=\"none\"/>\n",
              "    <path d=\"M18.56 5.44l.94 2.06.94-2.06 2.06-.94-2.06-.94-.94-2.06-.94 2.06-2.06.94zm-11 1L8.5 8.5l.94-2.06 2.06-.94-2.06-.94L8.5 2.5l-.94 2.06-2.06.94zm10 10l.94 2.06.94-2.06 2.06-.94-2.06-.94-.94-2.06-.94 2.06-2.06.94z\"/><path d=\"M17.41 7.96l-1.37-1.37c-.4-.4-.92-.59-1.43-.59-.52 0-1.04.2-1.43.59L10.3 9.45l-7.72 7.72c-.78.78-.78 2.05 0 2.83L4 21.41c.39.39.9.59 1.41.59.51 0 1.02-.2 1.41-.59l7.78-7.78 2.81-2.81c.8-.78.8-2.07 0-2.86zM5.41 20L4 18.59l7.72-7.72 1.47 1.35L5.41 20z\"/>\n",
              "  </svg>\n",
              "      </button>\n",
              "      \n",
              "  <style>\n",
              "    .colab-df-container {\n",
              "      display:flex;\n",
              "      flex-wrap:wrap;\n",
              "      gap: 12px;\n",
              "    }\n",
              "\n",
              "    .colab-df-convert {\n",
              "      background-color: #E8F0FE;\n",
              "      border: none;\n",
              "      border-radius: 50%;\n",
              "      cursor: pointer;\n",
              "      display: none;\n",
              "      fill: #1967D2;\n",
              "      height: 32px;\n",
              "      padding: 0 0 0 0;\n",
              "      width: 32px;\n",
              "    }\n",
              "\n",
              "    .colab-df-convert:hover {\n",
              "      background-color: #E2EBFA;\n",
              "      box-shadow: 0px 1px 2px rgba(60, 64, 67, 0.3), 0px 1px 3px 1px rgba(60, 64, 67, 0.15);\n",
              "      fill: #174EA6;\n",
              "    }\n",
              "\n",
              "    [theme=dark] .colab-df-convert {\n",
              "      background-color: #3B4455;\n",
              "      fill: #D2E3FC;\n",
              "    }\n",
              "\n",
              "    [theme=dark] .colab-df-convert:hover {\n",
              "      background-color: #434B5C;\n",
              "      box-shadow: 0px 1px 3px 1px rgba(0, 0, 0, 0.15);\n",
              "      filter: drop-shadow(0px 1px 2px rgba(0, 0, 0, 0.3));\n",
              "      fill: #FFFFFF;\n",
              "    }\n",
              "  </style>\n",
              "\n",
              "      <script>\n",
              "        const buttonEl =\n",
              "          document.querySelector('#df-80c0acfb-a99f-4a35-b2d2-baea4a4c4d85 button.colab-df-convert');\n",
              "        buttonEl.style.display =\n",
              "          google.colab.kernel.accessAllowed ? 'block' : 'none';\n",
              "\n",
              "        async function convertToInteractive(key) {\n",
              "          const element = document.querySelector('#df-80c0acfb-a99f-4a35-b2d2-baea4a4c4d85');\n",
              "          const dataTable =\n",
              "            await google.colab.kernel.invokeFunction('convertToInteractive',\n",
              "                                                     [key], {});\n",
              "          if (!dataTable) return;\n",
              "\n",
              "          const docLinkHtml = 'Like what you see? Visit the ' +\n",
              "            '<a target=\"_blank\" href=https://colab.research.google.com/notebooks/data_table.ipynb>data table notebook</a>'\n",
              "            + ' to learn more about interactive tables.';\n",
              "          element.innerHTML = '';\n",
              "          dataTable['output_type'] = 'display_data';\n",
              "          await google.colab.output.renderOutput(dataTable, element);\n",
              "          const docLink = document.createElement('div');\n",
              "          docLink.innerHTML = docLinkHtml;\n",
              "          element.appendChild(docLink);\n",
              "        }\n",
              "      </script>\n",
              "    </div>\n",
              "  </div>\n",
              "  "
            ]
          },
          "metadata": {},
          "execution_count": 209
        }
      ]
    },
    {
      "cell_type": "code",
      "source": [
        "new_10.shape"
      ],
      "metadata": {
        "colab": {
          "base_uri": "https://localhost:8080/"
        },
        "id": "ioBCacXUz_L7",
        "outputId": "36798158-4fd4-4384-a722-0103e459d355"
      },
      "execution_count": 210,
      "outputs": [
        {
          "output_type": "execute_result",
          "data": {
            "text/plain": [
              "(4609, 4)"
            ]
          },
          "metadata": {},
          "execution_count": 210
        }
      ]
    }
  ]
}