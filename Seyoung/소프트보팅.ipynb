{
 "cells": [
  {
   "cell_type": "code",
   "execution_count": 1,
   "id": "fc32a544",
   "metadata": {},
   "outputs": [],
   "source": [
    "import pandas as pd\n",
    "import numpy as np\n",
    "import tensorflow as tf"
   ]
  },
  {
   "cell_type": "code",
   "execution_count": 83,
   "id": "41d76101",
   "metadata": {},
   "outputs": [],
   "source": [
    "kcbert_pred = np.load('/aiffel/aiffel/aiffelthon/submission/kcBERT_ep1.npy', allow_pickle=True)\n",
    "\n",
    "# labels = {'갈취 대화': '01', '기타 괴롭힘 대화': '03', '일반 대화': '04', '직장 내 괴롭힘 대화': '02', '협박 대화': '00'}\n",
    "kcbert_pred_2 = []\n",
    "\n",
    "for pre in kcbert_pred:\n",
    "    a = []\n",
    "    a.append(pre[4]['score'])\n",
    "    a.append(pre[0]['score'])\n",
    "    a.append(pre[3]['score'])\n",
    "    a.append(pre[1]['score'])\n",
    "    a.append(pre[2]['score'])\n",
    "    kcbert_pred_2.append(a)\n",
    "    \n",
    "kcbert_pred = np.array(kcbert_pred_2)   "
   ]
  },
  {
   "cell_type": "code",
   "execution_count": 10,
   "id": "8eca9285",
   "metadata": {
    "scrolled": false
   },
   "outputs": [
    {
     "data": {
      "text/plain": [
       "array([4.0593333e-04, 9.9872029e-01, 1.5850972e-04, 6.2708918e-04,\n",
       "       8.8240442e-05], dtype=float32)"
      ]
     },
     "execution_count": 10,
     "metadata": {},
     "output_type": "execute_result"
    }
   ],
   "source": [
    "kcelectra_pred = np.load('/aiffel/aiffel/aiffelthon/submission/kcELECTRA.npy', allow_pickle=True)\n",
    "kcelectra_pred[0]"
   ]
  },
  {
   "cell_type": "code",
   "execution_count": 70,
   "id": "d3c91535",
   "metadata": {},
   "outputs": [],
   "source": [
    "kluebert_pred = np.load('/aiffel/aiffel/aiffelthon/submission/klue_bert.npy', allow_pickle=True)\n",
    "\n",
    "kluebert_pred_2 = []\n",
    "\n",
    "for pre in kluebert_pred:\n",
    "    a = []\n",
    "    a.append(pre[4]['score'])\n",
    "    a.append(pre[0]['score'])\n",
    "    a.append(pre[3]['score'])\n",
    "    a.append(pre[1]['score'])\n",
    "    a.append(pre[2]['score'])\n",
    "    kluebert_pred_2.append(a)\n",
    "    \n",
    "kluebert_pred = np.array(kluebert_pred_2)"
   ]
  },
  {
   "cell_type": "code",
   "execution_count": 78,
   "id": "1504200e",
   "metadata": {},
   "outputs": [],
   "source": [
    "labels = {1: '01', 3: '03', 4: '04', 2: '02', 0: '00'}"
   ]
  },
  {
   "cell_type": "code",
   "execution_count": 79,
   "id": "1529e2b0",
   "metadata": {},
   "outputs": [
    {
     "data": {
      "text/plain": [
       "['01', '02', '02', '04', '01', '00', '00', '01', '04', '01']"
      ]
     },
     "execution_count": 79,
     "metadata": {},
     "output_type": "execute_result"
    }
   ],
   "source": [
    "pred_label = []\n",
    "\n",
    "for kcbert, electra, kluebert in zip(kcbert_pred, kcelectra_pred, kluebert_pred):\n",
    "    total = (kcbert + electra + kluebert)/3\n",
    "    idx = np.argmax(total)\n",
    "    pred_label.append(labels[idx])\n",
    "    \n",
    "pred_label[:10]"
   ]
  },
  {
   "cell_type": "code",
   "execution_count": 82,
   "id": "16ba5576",
   "metadata": {},
   "outputs": [],
   "source": [
    "test_file_path = '/aiffel/aiffel/aiffelthon/test.json'\n",
    "with open(test_file_path, mode='rt', encoding='utf-8') as f:\n",
    "    test_dataset = pd.read_json(f)\n",
    "    \n",
    "test_data = test_dataset.transpose()\n",
    "\n",
    "submission = test_data.assign(CLASS=pred_label)\n",
    "submission = submission.rename(columns={'CLASS':'class'})\n",
    "submission.drop(['text'], axis=1, inplace=True)\n",
    "submission = submission.transpose()\n",
    "\n",
    "import json\n",
    "\n",
    "submission_file_path = '/aiffel/aiffel/aiffelthon/submission/sub_voting.json'\n",
    "result = submission.to_json(submission_file_path)\n",
    "\n",
    "with open(submission_file_path) as f:\n",
    "    parsed = json.load(f)\n",
    "\n",
    "with open(submission_file_path, 'w') as f:\n",
    "    json.dump(parsed, f, indent=4)"
   ]
  }
 ],
 "metadata": {
  "kernelspec": {
   "display_name": "Python 3 (ipykernel)",
   "language": "python",
   "name": "python3"
  },
  "language_info": {
   "codemirror_mode": {
    "name": "ipython",
    "version": 3
   },
   "file_extension": ".py",
   "mimetype": "text/x-python",
   "name": "python",
   "nbconvert_exporter": "python",
   "pygments_lexer": "ipython3",
   "version": "3.9.7"
  }
 },
 "nbformat": 4,
 "nbformat_minor": 5
}
