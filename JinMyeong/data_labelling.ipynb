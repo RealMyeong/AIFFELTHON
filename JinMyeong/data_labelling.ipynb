{
  "nbformat": 4,
  "nbformat_minor": 0,
  "metadata": {
    "colab": {
      "provenance": [],
      "mount_file_id": "1x0r6c5WozJag_ynIsfyKPQblgUXEwHWT",
      "authorship_tag": "ABX9TyNP2NJptI1ZMr2qTR6N84sF",
      "include_colab_link": true
    },
    "kernelspec": {
      "name": "python3",
      "display_name": "Python 3"
    },
    "language_info": {
      "name": "python"
    }
  },
  "cells": [
    {
      "cell_type": "markdown",
      "metadata": {
        "id": "view-in-github",
        "colab_type": "text"
      },
      "source": [
        "<a href=\"https://colab.research.google.com/github/RealMyeong/AIFFELTHON/blob/main/JinMyeong/data_labelling.ipynb\" target=\"_parent\"><img src=\"https://colab.research.google.com/assets/colab-badge.svg\" alt=\"Open In Colab\"/></a>"
      ]
    },
    {
      "cell_type": "code",
      "execution_count": 15,
      "metadata": {
        "id": "jraBr3y8HwOW"
      },
      "outputs": [],
      "source": [
        "import pandas as pd\n",
        "\n",
        "data_1 = pd.read_csv('/content/drive/MyDrive/AIFFELTHON/TUNiB/train_진명.csv')"
      ]
    },
    {
      "cell_type": "code",
      "source": [
        "data_1.head()"
      ],
      "metadata": {
        "colab": {
          "base_uri": "https://localhost:8080/",
          "height": 206
        },
        "id": "4SE_16DvI8So",
        "outputId": "31d2e173-9e64-48aa-b8fb-00c65ff6741a"
      },
      "execution_count": 16,
      "outputs": [
        {
          "output_type": "execute_result",
          "data": {
            "text/plain": [
              "   idx      class                                       conversation  \\\n",
              "0    0      협박 대화  지금 너 스스로를 죽여달라고 애원하는 것인가?\\n 아닙니다. 죄송합니다.\\n 죽을 ...   \n",
              "1    1      협박 대화  길동경찰서입니다.\\n9시 40분 마트에 폭발물을 설치할거다.\\n네?\\n똑바로 들어 ...   \n",
              "2    2  기타 괴롭힘 대화  너 되게 귀여운거 알지? 나보다 작은 남자는 첨봤어.\\n그만해. 니들 놀리는거 재미...   \n",
              "3    3      갈취 대화  어이 거기\\n예??\\n너 말이야 너. 이리 오라고\\n무슨 일.\\n너 옷 좋아보인다?...   \n",
              "4    4      갈취 대화  저기요 혹시 날이 너무 뜨겁잖아요? 저희 회사에서 이 선크림 파는데 한 번 손등에 ...   \n",
              "\n",
              "  Unnamed: 3  \n",
              "0        NaN  \n",
              "1        NaN  \n",
              "2        NaN  \n",
              "3        NaN  \n",
              "4        NaN  "
            ],
            "text/html": [
              "\n",
              "  <div id=\"df-f51052a6-282c-4636-85df-b0ed3af8efc8\">\n",
              "    <div class=\"colab-df-container\">\n",
              "      <div>\n",
              "<style scoped>\n",
              "    .dataframe tbody tr th:only-of-type {\n",
              "        vertical-align: middle;\n",
              "    }\n",
              "\n",
              "    .dataframe tbody tr th {\n",
              "        vertical-align: top;\n",
              "    }\n",
              "\n",
              "    .dataframe thead th {\n",
              "        text-align: right;\n",
              "    }\n",
              "</style>\n",
              "<table border=\"1\" class=\"dataframe\">\n",
              "  <thead>\n",
              "    <tr style=\"text-align: right;\">\n",
              "      <th></th>\n",
              "      <th>idx</th>\n",
              "      <th>class</th>\n",
              "      <th>conversation</th>\n",
              "      <th>Unnamed: 3</th>\n",
              "    </tr>\n",
              "  </thead>\n",
              "  <tbody>\n",
              "    <tr>\n",
              "      <th>0</th>\n",
              "      <td>0</td>\n",
              "      <td>협박 대화</td>\n",
              "      <td>지금 너 스스로를 죽여달라고 애원하는 것인가?\\n 아닙니다. 죄송합니다.\\n 죽을 ...</td>\n",
              "      <td>NaN</td>\n",
              "    </tr>\n",
              "    <tr>\n",
              "      <th>1</th>\n",
              "      <td>1</td>\n",
              "      <td>협박 대화</td>\n",
              "      <td>길동경찰서입니다.\\n9시 40분 마트에 폭발물을 설치할거다.\\n네?\\n똑바로 들어 ...</td>\n",
              "      <td>NaN</td>\n",
              "    </tr>\n",
              "    <tr>\n",
              "      <th>2</th>\n",
              "      <td>2</td>\n",
              "      <td>기타 괴롭힘 대화</td>\n",
              "      <td>너 되게 귀여운거 알지? 나보다 작은 남자는 첨봤어.\\n그만해. 니들 놀리는거 재미...</td>\n",
              "      <td>NaN</td>\n",
              "    </tr>\n",
              "    <tr>\n",
              "      <th>3</th>\n",
              "      <td>3</td>\n",
              "      <td>갈취 대화</td>\n",
              "      <td>어이 거기\\n예??\\n너 말이야 너. 이리 오라고\\n무슨 일.\\n너 옷 좋아보인다?...</td>\n",
              "      <td>NaN</td>\n",
              "    </tr>\n",
              "    <tr>\n",
              "      <th>4</th>\n",
              "      <td>4</td>\n",
              "      <td>갈취 대화</td>\n",
              "      <td>저기요 혹시 날이 너무 뜨겁잖아요? 저희 회사에서 이 선크림 파는데 한 번 손등에 ...</td>\n",
              "      <td>NaN</td>\n",
              "    </tr>\n",
              "  </tbody>\n",
              "</table>\n",
              "</div>\n",
              "      <button class=\"colab-df-convert\" onclick=\"convertToInteractive('df-f51052a6-282c-4636-85df-b0ed3af8efc8')\"\n",
              "              title=\"Convert this dataframe to an interactive table.\"\n",
              "              style=\"display:none;\">\n",
              "        \n",
              "  <svg xmlns=\"http://www.w3.org/2000/svg\" height=\"24px\"viewBox=\"0 0 24 24\"\n",
              "       width=\"24px\">\n",
              "    <path d=\"M0 0h24v24H0V0z\" fill=\"none\"/>\n",
              "    <path d=\"M18.56 5.44l.94 2.06.94-2.06 2.06-.94-2.06-.94-.94-2.06-.94 2.06-2.06.94zm-11 1L8.5 8.5l.94-2.06 2.06-.94-2.06-.94L8.5 2.5l-.94 2.06-2.06.94zm10 10l.94 2.06.94-2.06 2.06-.94-2.06-.94-.94-2.06-.94 2.06-2.06.94z\"/><path d=\"M17.41 7.96l-1.37-1.37c-.4-.4-.92-.59-1.43-.59-.52 0-1.04.2-1.43.59L10.3 9.45l-7.72 7.72c-.78.78-.78 2.05 0 2.83L4 21.41c.39.39.9.59 1.41.59.51 0 1.02-.2 1.41-.59l7.78-7.78 2.81-2.81c.8-.78.8-2.07 0-2.86zM5.41 20L4 18.59l7.72-7.72 1.47 1.35L5.41 20z\"/>\n",
              "  </svg>\n",
              "      </button>\n",
              "      \n",
              "  <style>\n",
              "    .colab-df-container {\n",
              "      display:flex;\n",
              "      flex-wrap:wrap;\n",
              "      gap: 12px;\n",
              "    }\n",
              "\n",
              "    .colab-df-convert {\n",
              "      background-color: #E8F0FE;\n",
              "      border: none;\n",
              "      border-radius: 50%;\n",
              "      cursor: pointer;\n",
              "      display: none;\n",
              "      fill: #1967D2;\n",
              "      height: 32px;\n",
              "      padding: 0 0 0 0;\n",
              "      width: 32px;\n",
              "    }\n",
              "\n",
              "    .colab-df-convert:hover {\n",
              "      background-color: #E2EBFA;\n",
              "      box-shadow: 0px 1px 2px rgba(60, 64, 67, 0.3), 0px 1px 3px 1px rgba(60, 64, 67, 0.15);\n",
              "      fill: #174EA6;\n",
              "    }\n",
              "\n",
              "    [theme=dark] .colab-df-convert {\n",
              "      background-color: #3B4455;\n",
              "      fill: #D2E3FC;\n",
              "    }\n",
              "\n",
              "    [theme=dark] .colab-df-convert:hover {\n",
              "      background-color: #434B5C;\n",
              "      box-shadow: 0px 1px 3px 1px rgba(0, 0, 0, 0.15);\n",
              "      filter: drop-shadow(0px 1px 2px rgba(0, 0, 0, 0.3));\n",
              "      fill: #FFFFFF;\n",
              "    }\n",
              "  </style>\n",
              "\n",
              "      <script>\n",
              "        const buttonEl =\n",
              "          document.querySelector('#df-f51052a6-282c-4636-85df-b0ed3af8efc8 button.colab-df-convert');\n",
              "        buttonEl.style.display =\n",
              "          google.colab.kernel.accessAllowed ? 'block' : 'none';\n",
              "\n",
              "        async function convertToInteractive(key) {\n",
              "          const element = document.querySelector('#df-f51052a6-282c-4636-85df-b0ed3af8efc8');\n",
              "          const dataTable =\n",
              "            await google.colab.kernel.invokeFunction('convertToInteractive',\n",
              "                                                     [key], {});\n",
              "          if (!dataTable) return;\n",
              "\n",
              "          const docLinkHtml = 'Like what you see? Visit the ' +\n",
              "            '<a target=\"_blank\" href=https://colab.research.google.com/notebooks/data_table.ipynb>data table notebook</a>'\n",
              "            + ' to learn more about interactive tables.';\n",
              "          element.innerHTML = '';\n",
              "          dataTable['output_type'] = 'display_data';\n",
              "          await google.colab.output.renderOutput(dataTable, element);\n",
              "          const docLink = document.createElement('div');\n",
              "          docLink.innerHTML = docLinkHtml;\n",
              "          element.appendChild(docLink);\n",
              "        }\n",
              "      </script>\n",
              "    </div>\n",
              "  </div>\n",
              "  "
            ]
          },
          "metadata": {},
          "execution_count": 16
        }
      ]
    },
    {
      "cell_type": "code",
      "source": [
        "data_1 = data_1.dropna(axis=0)"
      ],
      "metadata": {
        "id": "U7ccVSUtI94Q"
      },
      "execution_count": 17,
      "outputs": []
    },
    {
      "cell_type": "code",
      "source": [
        "len(data_1)"
      ],
      "metadata": {
        "colab": {
          "base_uri": "https://localhost:8080/"
        },
        "id": "VLEFk4IOJBfs",
        "outputId": "4cfb2c7b-f60b-4e15-f552-3851b6c3985b"
      },
      "execution_count": 18,
      "outputs": [
        {
          "output_type": "execute_result",
          "data": {
            "text/plain": [
              "1343"
            ]
          },
          "metadata": {},
          "execution_count": 18
        }
      ]
    },
    {
      "cell_type": "code",
      "source": [
        "data_1.duplicated(['conversation']).sum()"
      ],
      "metadata": {
        "colab": {
          "base_uri": "https://localhost:8080/"
        },
        "id": "lAa3Z_2rJOsL",
        "outputId": "d98c99cb-ba39-4328-d158-335ebc8b6c1d"
      },
      "execution_count": 19,
      "outputs": [
        {
          "output_type": "execute_result",
          "data": {
            "text/plain": [
              "9"
            ]
          },
          "metadata": {},
          "execution_count": 19
        }
      ]
    },
    {
      "cell_type": "code",
      "source": [
        "data_1 = data_1.drop_duplicates(['conversation'], keep='first')"
      ],
      "metadata": {
        "id": "yodFNUpDJe7D"
      },
      "execution_count": 22,
      "outputs": []
    },
    {
      "cell_type": "code",
      "source": [
        "data_1.duplicated(['conversation']).sum()"
      ],
      "metadata": {
        "colab": {
          "base_uri": "https://localhost:8080/"
        },
        "id": "ax-RNakXJzBt",
        "outputId": "42b5dc51-c668-48f0-82bb-aa2e0d39bed1"
      },
      "execution_count": 23,
      "outputs": [
        {
          "output_type": "execute_result",
          "data": {
            "text/plain": [
              "0"
            ]
          },
          "metadata": {},
          "execution_count": 23
        }
      ]
    },
    {
      "cell_type": "code",
      "source": [
        "len(data_1)"
      ],
      "metadata": {
        "colab": {
          "base_uri": "https://localhost:8080/"
        },
        "id": "mlkCuw5JJ1zA",
        "outputId": "e95af8d1-528c-4b5e-948b-ffafc7a27714"
      },
      "execution_count": 24,
      "outputs": [
        {
          "output_type": "execute_result",
          "data": {
            "text/plain": [
              "1334"
            ]
          },
          "metadata": {},
          "execution_count": 24
        }
      ]
    },
    {
      "cell_type": "code",
      "source": [
        "data_1.head()"
      ],
      "metadata": {
        "colab": {
          "base_uri": "https://localhost:8080/",
          "height": 206
        },
        "id": "hYEFPYl7Krxe",
        "outputId": "d3de5818-d257-4366-88b9-8577d177b56a"
      },
      "execution_count": 25,
      "outputs": [
        {
          "output_type": "execute_result",
          "data": {
            "text/plain": [
              "       idx        class                                       conversation  \\\n",
              "1299  1299  직장 내 괴롭힘 대화  길동씨 이번에 이것좀 처리해요\\n이거 제가 한게 아닌데요\\n팀에서 내가 니가가 어딨...   \n",
              "1300  1300    기타 괴롭힘 대화  야 너 앞니 왜 그렇게 튀어나왔냐?\\n 태어날때부터 그랬어 물어보지마.\\n 아 그럼...   \n",
              "1301  1301        갈취 대화  원후야 학원 교재 사야되는데 8만원만 주면 안돼?\\n 미안 나 오늘은 진짜 돈이 없...   \n",
              "1302  1302        갈취 대화  너 저번에 술먹은 날 기억해?\\n아니 왜?\\n야 300만원만 가져와.\\n뭔 소리야....   \n",
              "1303  1303        협박 대화  너 또 내말 무시하냐?\\n 이새끼 널 좆으로 보나본데?\\n아냐 진짜 시간이 없었어 ...   \n",
              "\n",
              "                       Unnamed: 3  \n",
              "1299          1,2,1,2,1,2,1,2,1,2  \n",
              "1300  1,2,1,2,1,2,1,2,1,1,1,2,1,1  \n",
              "1301          1,2,1,2,1,2,1,2,1,2  \n",
              "1302          1,2,1,2,1,2,1,2,1,2  \n",
              "1303          1,1,2,1,1,2,1,2,1,1  "
            ],
            "text/html": [
              "\n",
              "  <div id=\"df-e1c41eef-1334-4d42-b389-9c1b8436c676\">\n",
              "    <div class=\"colab-df-container\">\n",
              "      <div>\n",
              "<style scoped>\n",
              "    .dataframe tbody tr th:only-of-type {\n",
              "        vertical-align: middle;\n",
              "    }\n",
              "\n",
              "    .dataframe tbody tr th {\n",
              "        vertical-align: top;\n",
              "    }\n",
              "\n",
              "    .dataframe thead th {\n",
              "        text-align: right;\n",
              "    }\n",
              "</style>\n",
              "<table border=\"1\" class=\"dataframe\">\n",
              "  <thead>\n",
              "    <tr style=\"text-align: right;\">\n",
              "      <th></th>\n",
              "      <th>idx</th>\n",
              "      <th>class</th>\n",
              "      <th>conversation</th>\n",
              "      <th>Unnamed: 3</th>\n",
              "    </tr>\n",
              "  </thead>\n",
              "  <tbody>\n",
              "    <tr>\n",
              "      <th>1299</th>\n",
              "      <td>1299</td>\n",
              "      <td>직장 내 괴롭힘 대화</td>\n",
              "      <td>길동씨 이번에 이것좀 처리해요\\n이거 제가 한게 아닌데요\\n팀에서 내가 니가가 어딨...</td>\n",
              "      <td>1,2,1,2,1,2,1,2,1,2</td>\n",
              "    </tr>\n",
              "    <tr>\n",
              "      <th>1300</th>\n",
              "      <td>1300</td>\n",
              "      <td>기타 괴롭힘 대화</td>\n",
              "      <td>야 너 앞니 왜 그렇게 튀어나왔냐?\\n 태어날때부터 그랬어 물어보지마.\\n 아 그럼...</td>\n",
              "      <td>1,2,1,2,1,2,1,2,1,1,1,2,1,1</td>\n",
              "    </tr>\n",
              "    <tr>\n",
              "      <th>1301</th>\n",
              "      <td>1301</td>\n",
              "      <td>갈취 대화</td>\n",
              "      <td>원후야 학원 교재 사야되는데 8만원만 주면 안돼?\\n 미안 나 오늘은 진짜 돈이 없...</td>\n",
              "      <td>1,2,1,2,1,2,1,2,1,2</td>\n",
              "    </tr>\n",
              "    <tr>\n",
              "      <th>1302</th>\n",
              "      <td>1302</td>\n",
              "      <td>갈취 대화</td>\n",
              "      <td>너 저번에 술먹은 날 기억해?\\n아니 왜?\\n야 300만원만 가져와.\\n뭔 소리야....</td>\n",
              "      <td>1,2,1,2,1,2,1,2,1,2</td>\n",
              "    </tr>\n",
              "    <tr>\n",
              "      <th>1303</th>\n",
              "      <td>1303</td>\n",
              "      <td>협박 대화</td>\n",
              "      <td>너 또 내말 무시하냐?\\n 이새끼 널 좆으로 보나본데?\\n아냐 진짜 시간이 없었어 ...</td>\n",
              "      <td>1,1,2,1,1,2,1,2,1,1</td>\n",
              "    </tr>\n",
              "  </tbody>\n",
              "</table>\n",
              "</div>\n",
              "      <button class=\"colab-df-convert\" onclick=\"convertToInteractive('df-e1c41eef-1334-4d42-b389-9c1b8436c676')\"\n",
              "              title=\"Convert this dataframe to an interactive table.\"\n",
              "              style=\"display:none;\">\n",
              "        \n",
              "  <svg xmlns=\"http://www.w3.org/2000/svg\" height=\"24px\"viewBox=\"0 0 24 24\"\n",
              "       width=\"24px\">\n",
              "    <path d=\"M0 0h24v24H0V0z\" fill=\"none\"/>\n",
              "    <path d=\"M18.56 5.44l.94 2.06.94-2.06 2.06-.94-2.06-.94-.94-2.06-.94 2.06-2.06.94zm-11 1L8.5 8.5l.94-2.06 2.06-.94-2.06-.94L8.5 2.5l-.94 2.06-2.06.94zm10 10l.94 2.06.94-2.06 2.06-.94-2.06-.94-.94-2.06-.94 2.06-2.06.94z\"/><path d=\"M17.41 7.96l-1.37-1.37c-.4-.4-.92-.59-1.43-.59-.52 0-1.04.2-1.43.59L10.3 9.45l-7.72 7.72c-.78.78-.78 2.05 0 2.83L4 21.41c.39.39.9.59 1.41.59.51 0 1.02-.2 1.41-.59l7.78-7.78 2.81-2.81c.8-.78.8-2.07 0-2.86zM5.41 20L4 18.59l7.72-7.72 1.47 1.35L5.41 20z\"/>\n",
              "  </svg>\n",
              "      </button>\n",
              "      \n",
              "  <style>\n",
              "    .colab-df-container {\n",
              "      display:flex;\n",
              "      flex-wrap:wrap;\n",
              "      gap: 12px;\n",
              "    }\n",
              "\n",
              "    .colab-df-convert {\n",
              "      background-color: #E8F0FE;\n",
              "      border: none;\n",
              "      border-radius: 50%;\n",
              "      cursor: pointer;\n",
              "      display: none;\n",
              "      fill: #1967D2;\n",
              "      height: 32px;\n",
              "      padding: 0 0 0 0;\n",
              "      width: 32px;\n",
              "    }\n",
              "\n",
              "    .colab-df-convert:hover {\n",
              "      background-color: #E2EBFA;\n",
              "      box-shadow: 0px 1px 2px rgba(60, 64, 67, 0.3), 0px 1px 3px 1px rgba(60, 64, 67, 0.15);\n",
              "      fill: #174EA6;\n",
              "    }\n",
              "\n",
              "    [theme=dark] .colab-df-convert {\n",
              "      background-color: #3B4455;\n",
              "      fill: #D2E3FC;\n",
              "    }\n",
              "\n",
              "    [theme=dark] .colab-df-convert:hover {\n",
              "      background-color: #434B5C;\n",
              "      box-shadow: 0px 1px 3px 1px rgba(0, 0, 0, 0.15);\n",
              "      filter: drop-shadow(0px 1px 2px rgba(0, 0, 0, 0.3));\n",
              "      fill: #FFFFFF;\n",
              "    }\n",
              "  </style>\n",
              "\n",
              "      <script>\n",
              "        const buttonEl =\n",
              "          document.querySelector('#df-e1c41eef-1334-4d42-b389-9c1b8436c676 button.colab-df-convert');\n",
              "        buttonEl.style.display =\n",
              "          google.colab.kernel.accessAllowed ? 'block' : 'none';\n",
              "\n",
              "        async function convertToInteractive(key) {\n",
              "          const element = document.querySelector('#df-e1c41eef-1334-4d42-b389-9c1b8436c676');\n",
              "          const dataTable =\n",
              "            await google.colab.kernel.invokeFunction('convertToInteractive',\n",
              "                                                     [key], {});\n",
              "          if (!dataTable) return;\n",
              "\n",
              "          const docLinkHtml = 'Like what you see? Visit the ' +\n",
              "            '<a target=\"_blank\" href=https://colab.research.google.com/notebooks/data_table.ipynb>data table notebook</a>'\n",
              "            + ' to learn more about interactive tables.';\n",
              "          element.innerHTML = '';\n",
              "          dataTable['output_type'] = 'display_data';\n",
              "          await google.colab.output.renderOutput(dataTable, element);\n",
              "          const docLink = document.createElement('div');\n",
              "          docLink.innerHTML = docLinkHtml;\n",
              "          element.appendChild(docLink);\n",
              "        }\n",
              "      </script>\n",
              "    </div>\n",
              "  </div>\n",
              "  "
            ]
          },
          "metadata": {},
          "execution_count": 25
        }
      ]
    },
    {
      "cell_type": "code",
      "source": [
        "data_2 = pd.read_csv('/content/drive/MyDrive/AIFFELTHON/TUNiB/train_심성보 (1).csv')\n",
        "data_2.head()"
      ],
      "metadata": {
        "colab": {
          "base_uri": "https://localhost:8080/",
          "height": 206
        },
        "id": "oPzjZSOVJ2xZ",
        "outputId": "9cfb90f9-7fb2-483d-fd74-723d1af11e47"
      },
      "execution_count": 26,
      "outputs": [
        {
          "output_type": "execute_result",
          "data": {
            "text/plain": [
              "   idx      class                                       conversation  \\\n",
              "0    0      협박 대화  지금 너 스스로를 죽여달라고 애원하는 것인가?\\n 아닙니다. 죄송합니다.\\n 죽을 ...   \n",
              "1    1      협박 대화  길동경찰서입니다.\\n9시 40분 마트에 폭발물을 설치할거다.\\n네?\\n똑바로 들어 ...   \n",
              "2    2  기타 괴롭힘 대화  너 되게 귀여운거 알지? 나보다 작은 남자는 첨봤어.\\n그만해. 니들 놀리는거 재미...   \n",
              "3    3      갈취 대화  어이 거기\\n예??\\n너 말이야 너. 이리 오라고\\n무슨 일.\\n너 옷 좋아보인다?...   \n",
              "4    4      갈취 대화  저기요 혹시 날이 너무 뜨겁잖아요? 저희 회사에서 이 선크림 파는데 한 번 손등에 ...   \n",
              "\n",
              "                 labelling  \n",
              "0      1,2,1,2,1,2,1,2,1,2  \n",
              "1      2,1,2,1,2,1,2,1,2,1  \n",
              "2      1,2,1,1,2,1,2,1,1,2  \n",
              "3    1,2,1,2,1,1,2,1,1,1,2  \n",
              "4  1,2,1,2,1,2,1,2,1,2,1,2  "
            ],
            "text/html": [
              "\n",
              "  <div id=\"df-24ac40d5-7c8c-4139-82d8-bce098fd1dc8\">\n",
              "    <div class=\"colab-df-container\">\n",
              "      <div>\n",
              "<style scoped>\n",
              "    .dataframe tbody tr th:only-of-type {\n",
              "        vertical-align: middle;\n",
              "    }\n",
              "\n",
              "    .dataframe tbody tr th {\n",
              "        vertical-align: top;\n",
              "    }\n",
              "\n",
              "    .dataframe thead th {\n",
              "        text-align: right;\n",
              "    }\n",
              "</style>\n",
              "<table border=\"1\" class=\"dataframe\">\n",
              "  <thead>\n",
              "    <tr style=\"text-align: right;\">\n",
              "      <th></th>\n",
              "      <th>idx</th>\n",
              "      <th>class</th>\n",
              "      <th>conversation</th>\n",
              "      <th>labelling</th>\n",
              "    </tr>\n",
              "  </thead>\n",
              "  <tbody>\n",
              "    <tr>\n",
              "      <th>0</th>\n",
              "      <td>0</td>\n",
              "      <td>협박 대화</td>\n",
              "      <td>지금 너 스스로를 죽여달라고 애원하는 것인가?\\n 아닙니다. 죄송합니다.\\n 죽을 ...</td>\n",
              "      <td>1,2,1,2,1,2,1,2,1,2</td>\n",
              "    </tr>\n",
              "    <tr>\n",
              "      <th>1</th>\n",
              "      <td>1</td>\n",
              "      <td>협박 대화</td>\n",
              "      <td>길동경찰서입니다.\\n9시 40분 마트에 폭발물을 설치할거다.\\n네?\\n똑바로 들어 ...</td>\n",
              "      <td>2,1,2,1,2,1,2,1,2,1</td>\n",
              "    </tr>\n",
              "    <tr>\n",
              "      <th>2</th>\n",
              "      <td>2</td>\n",
              "      <td>기타 괴롭힘 대화</td>\n",
              "      <td>너 되게 귀여운거 알지? 나보다 작은 남자는 첨봤어.\\n그만해. 니들 놀리는거 재미...</td>\n",
              "      <td>1,2,1,1,2,1,2,1,1,2</td>\n",
              "    </tr>\n",
              "    <tr>\n",
              "      <th>3</th>\n",
              "      <td>3</td>\n",
              "      <td>갈취 대화</td>\n",
              "      <td>어이 거기\\n예??\\n너 말이야 너. 이리 오라고\\n무슨 일.\\n너 옷 좋아보인다?...</td>\n",
              "      <td>1,2,1,2,1,1,2,1,1,1,2</td>\n",
              "    </tr>\n",
              "    <tr>\n",
              "      <th>4</th>\n",
              "      <td>4</td>\n",
              "      <td>갈취 대화</td>\n",
              "      <td>저기요 혹시 날이 너무 뜨겁잖아요? 저희 회사에서 이 선크림 파는데 한 번 손등에 ...</td>\n",
              "      <td>1,2,1,2,1,2,1,2,1,2,1,2</td>\n",
              "    </tr>\n",
              "  </tbody>\n",
              "</table>\n",
              "</div>\n",
              "      <button class=\"colab-df-convert\" onclick=\"convertToInteractive('df-24ac40d5-7c8c-4139-82d8-bce098fd1dc8')\"\n",
              "              title=\"Convert this dataframe to an interactive table.\"\n",
              "              style=\"display:none;\">\n",
              "        \n",
              "  <svg xmlns=\"http://www.w3.org/2000/svg\" height=\"24px\"viewBox=\"0 0 24 24\"\n",
              "       width=\"24px\">\n",
              "    <path d=\"M0 0h24v24H0V0z\" fill=\"none\"/>\n",
              "    <path d=\"M18.56 5.44l.94 2.06.94-2.06 2.06-.94-2.06-.94-.94-2.06-.94 2.06-2.06.94zm-11 1L8.5 8.5l.94-2.06 2.06-.94-2.06-.94L8.5 2.5l-.94 2.06-2.06.94zm10 10l.94 2.06.94-2.06 2.06-.94-2.06-.94-.94-2.06-.94 2.06-2.06.94z\"/><path d=\"M17.41 7.96l-1.37-1.37c-.4-.4-.92-.59-1.43-.59-.52 0-1.04.2-1.43.59L10.3 9.45l-7.72 7.72c-.78.78-.78 2.05 0 2.83L4 21.41c.39.39.9.59 1.41.59.51 0 1.02-.2 1.41-.59l7.78-7.78 2.81-2.81c.8-.78.8-2.07 0-2.86zM5.41 20L4 18.59l7.72-7.72 1.47 1.35L5.41 20z\"/>\n",
              "  </svg>\n",
              "      </button>\n",
              "      \n",
              "  <style>\n",
              "    .colab-df-container {\n",
              "      display:flex;\n",
              "      flex-wrap:wrap;\n",
              "      gap: 12px;\n",
              "    }\n",
              "\n",
              "    .colab-df-convert {\n",
              "      background-color: #E8F0FE;\n",
              "      border: none;\n",
              "      border-radius: 50%;\n",
              "      cursor: pointer;\n",
              "      display: none;\n",
              "      fill: #1967D2;\n",
              "      height: 32px;\n",
              "      padding: 0 0 0 0;\n",
              "      width: 32px;\n",
              "    }\n",
              "\n",
              "    .colab-df-convert:hover {\n",
              "      background-color: #E2EBFA;\n",
              "      box-shadow: 0px 1px 2px rgba(60, 64, 67, 0.3), 0px 1px 3px 1px rgba(60, 64, 67, 0.15);\n",
              "      fill: #174EA6;\n",
              "    }\n",
              "\n",
              "    [theme=dark] .colab-df-convert {\n",
              "      background-color: #3B4455;\n",
              "      fill: #D2E3FC;\n",
              "    }\n",
              "\n",
              "    [theme=dark] .colab-df-convert:hover {\n",
              "      background-color: #434B5C;\n",
              "      box-shadow: 0px 1px 3px 1px rgba(0, 0, 0, 0.15);\n",
              "      filter: drop-shadow(0px 1px 2px rgba(0, 0, 0, 0.3));\n",
              "      fill: #FFFFFF;\n",
              "    }\n",
              "  </style>\n",
              "\n",
              "      <script>\n",
              "        const buttonEl =\n",
              "          document.querySelector('#df-24ac40d5-7c8c-4139-82d8-bce098fd1dc8 button.colab-df-convert');\n",
              "        buttonEl.style.display =\n",
              "          google.colab.kernel.accessAllowed ? 'block' : 'none';\n",
              "\n",
              "        async function convertToInteractive(key) {\n",
              "          const element = document.querySelector('#df-24ac40d5-7c8c-4139-82d8-bce098fd1dc8');\n",
              "          const dataTable =\n",
              "            await google.colab.kernel.invokeFunction('convertToInteractive',\n",
              "                                                     [key], {});\n",
              "          if (!dataTable) return;\n",
              "\n",
              "          const docLinkHtml = 'Like what you see? Visit the ' +\n",
              "            '<a target=\"_blank\" href=https://colab.research.google.com/notebooks/data_table.ipynb>data table notebook</a>'\n",
              "            + ' to learn more about interactive tables.';\n",
              "          element.innerHTML = '';\n",
              "          dataTable['output_type'] = 'display_data';\n",
              "          await google.colab.output.renderOutput(dataTable, element);\n",
              "          const docLink = document.createElement('div');\n",
              "          docLink.innerHTML = docLinkHtml;\n",
              "          element.appendChild(docLink);\n",
              "        }\n",
              "      </script>\n",
              "    </div>\n",
              "  </div>\n",
              "  "
            ]
          },
          "metadata": {},
          "execution_count": 26
        }
      ]
    },
    {
      "cell_type": "code",
      "source": [
        "data_2 = data_2.dropna(axis=0)"
      ],
      "metadata": {
        "id": "Z1B44mxCKI-h"
      },
      "execution_count": 28,
      "outputs": []
    },
    {
      "cell_type": "code",
      "source": [
        "len(data_2)"
      ],
      "metadata": {
        "colab": {
          "base_uri": "https://localhost:8080/"
        },
        "id": "WlJJZLLVK2VF",
        "outputId": "8b70859e-0ab2-4277-8b64-5db8e63cd8a1"
      },
      "execution_count": 29,
      "outputs": [
        {
          "output_type": "execute_result",
          "data": {
            "text/plain": [
              "1300"
            ]
          },
          "metadata": {},
          "execution_count": 29
        }
      ]
    },
    {
      "cell_type": "code",
      "source": [
        "data_2.duplicated(['conversation']).sum()"
      ],
      "metadata": {
        "colab": {
          "base_uri": "https://localhost:8080/"
        },
        "id": "vzvBVDDtK850",
        "outputId": "334e05f8-1bcf-4e7b-c204-87ebaada6cf5"
      },
      "execution_count": 32,
      "outputs": [
        {
          "output_type": "execute_result",
          "data": {
            "text/plain": [
              "11"
            ]
          },
          "metadata": {},
          "execution_count": 32
        }
      ]
    },
    {
      "cell_type": "code",
      "source": [
        "data_2 = data_2.drop_duplicates(['conversation'], keep='first')"
      ],
      "metadata": {
        "id": "Ba7SI0PhK_HM"
      },
      "execution_count": 33,
      "outputs": []
    },
    {
      "cell_type": "code",
      "source": [
        "len(data_2)"
      ],
      "metadata": {
        "colab": {
          "base_uri": "https://localhost:8080/"
        },
        "id": "JptGeDn9LLtx",
        "outputId": "e247e5f2-67c6-49e8-ed77-5c191d5415e8"
      },
      "execution_count": 34,
      "outputs": [
        {
          "output_type": "execute_result",
          "data": {
            "text/plain": [
              "1289"
            ]
          },
          "metadata": {},
          "execution_count": 34
        }
      ]
    },
    {
      "cell_type": "code",
      "source": [
        "a = data_2['conversation'][0]"
      ],
      "metadata": {
        "id": "Z1Xr6hBBLPD-"
      },
      "execution_count": 36,
      "outputs": []
    },
    {
      "cell_type": "code",
      "source": [
        "data_1.rename(columns = {\"Unnamed: 3\": \"labelling\"}, inplace = True)"
      ],
      "metadata": {
        "id": "mxX2sMxVOrjp"
      },
      "execution_count": 45,
      "outputs": []
    },
    {
      "cell_type": "code",
      "source": [
        "data_1.head()"
      ],
      "metadata": {
        "colab": {
          "base_uri": "https://localhost:8080/",
          "height": 206
        },
        "id": "KI5IsiDoQCRa",
        "outputId": "b29ca96a-3ec3-4fcc-964d-147bc959d1e0"
      },
      "execution_count": 46,
      "outputs": [
        {
          "output_type": "execute_result",
          "data": {
            "text/plain": [
              "       idx        class                                       conversation  \\\n",
              "1299  1299  직장 내 괴롭힘 대화  길동씨 이번에 이것좀 처리해요\\n이거 제가 한게 아닌데요\\n팀에서 내가 니가가 어딨...   \n",
              "1300  1300    기타 괴롭힘 대화  야 너 앞니 왜 그렇게 튀어나왔냐?\\n 태어날때부터 그랬어 물어보지마.\\n 아 그럼...   \n",
              "1301  1301        갈취 대화  원후야 학원 교재 사야되는데 8만원만 주면 안돼?\\n 미안 나 오늘은 진짜 돈이 없...   \n",
              "1302  1302        갈취 대화  너 저번에 술먹은 날 기억해?\\n아니 왜?\\n야 300만원만 가져와.\\n뭔 소리야....   \n",
              "1303  1303        협박 대화  너 또 내말 무시하냐?\\n 이새끼 널 좆으로 보나본데?\\n아냐 진짜 시간이 없었어 ...   \n",
              "\n",
              "                        labelling  \n",
              "1299          1,2,1,2,1,2,1,2,1,2  \n",
              "1300  1,2,1,2,1,2,1,2,1,1,1,2,1,1  \n",
              "1301          1,2,1,2,1,2,1,2,1,2  \n",
              "1302          1,2,1,2,1,2,1,2,1,2  \n",
              "1303          1,1,2,1,1,2,1,2,1,1  "
            ],
            "text/html": [
              "\n",
              "  <div id=\"df-a1742e2e-e8ee-43b8-8739-f9d0ca7fd4ba\">\n",
              "    <div class=\"colab-df-container\">\n",
              "      <div>\n",
              "<style scoped>\n",
              "    .dataframe tbody tr th:only-of-type {\n",
              "        vertical-align: middle;\n",
              "    }\n",
              "\n",
              "    .dataframe tbody tr th {\n",
              "        vertical-align: top;\n",
              "    }\n",
              "\n",
              "    .dataframe thead th {\n",
              "        text-align: right;\n",
              "    }\n",
              "</style>\n",
              "<table border=\"1\" class=\"dataframe\">\n",
              "  <thead>\n",
              "    <tr style=\"text-align: right;\">\n",
              "      <th></th>\n",
              "      <th>idx</th>\n",
              "      <th>class</th>\n",
              "      <th>conversation</th>\n",
              "      <th>labelling</th>\n",
              "    </tr>\n",
              "  </thead>\n",
              "  <tbody>\n",
              "    <tr>\n",
              "      <th>1299</th>\n",
              "      <td>1299</td>\n",
              "      <td>직장 내 괴롭힘 대화</td>\n",
              "      <td>길동씨 이번에 이것좀 처리해요\\n이거 제가 한게 아닌데요\\n팀에서 내가 니가가 어딨...</td>\n",
              "      <td>1,2,1,2,1,2,1,2,1,2</td>\n",
              "    </tr>\n",
              "    <tr>\n",
              "      <th>1300</th>\n",
              "      <td>1300</td>\n",
              "      <td>기타 괴롭힘 대화</td>\n",
              "      <td>야 너 앞니 왜 그렇게 튀어나왔냐?\\n 태어날때부터 그랬어 물어보지마.\\n 아 그럼...</td>\n",
              "      <td>1,2,1,2,1,2,1,2,1,1,1,2,1,1</td>\n",
              "    </tr>\n",
              "    <tr>\n",
              "      <th>1301</th>\n",
              "      <td>1301</td>\n",
              "      <td>갈취 대화</td>\n",
              "      <td>원후야 학원 교재 사야되는데 8만원만 주면 안돼?\\n 미안 나 오늘은 진짜 돈이 없...</td>\n",
              "      <td>1,2,1,2,1,2,1,2,1,2</td>\n",
              "    </tr>\n",
              "    <tr>\n",
              "      <th>1302</th>\n",
              "      <td>1302</td>\n",
              "      <td>갈취 대화</td>\n",
              "      <td>너 저번에 술먹은 날 기억해?\\n아니 왜?\\n야 300만원만 가져와.\\n뭔 소리야....</td>\n",
              "      <td>1,2,1,2,1,2,1,2,1,2</td>\n",
              "    </tr>\n",
              "    <tr>\n",
              "      <th>1303</th>\n",
              "      <td>1303</td>\n",
              "      <td>협박 대화</td>\n",
              "      <td>너 또 내말 무시하냐?\\n 이새끼 널 좆으로 보나본데?\\n아냐 진짜 시간이 없었어 ...</td>\n",
              "      <td>1,1,2,1,1,2,1,2,1,1</td>\n",
              "    </tr>\n",
              "  </tbody>\n",
              "</table>\n",
              "</div>\n",
              "      <button class=\"colab-df-convert\" onclick=\"convertToInteractive('df-a1742e2e-e8ee-43b8-8739-f9d0ca7fd4ba')\"\n",
              "              title=\"Convert this dataframe to an interactive table.\"\n",
              "              style=\"display:none;\">\n",
              "        \n",
              "  <svg xmlns=\"http://www.w3.org/2000/svg\" height=\"24px\"viewBox=\"0 0 24 24\"\n",
              "       width=\"24px\">\n",
              "    <path d=\"M0 0h24v24H0V0z\" fill=\"none\"/>\n",
              "    <path d=\"M18.56 5.44l.94 2.06.94-2.06 2.06-.94-2.06-.94-.94-2.06-.94 2.06-2.06.94zm-11 1L8.5 8.5l.94-2.06 2.06-.94-2.06-.94L8.5 2.5l-.94 2.06-2.06.94zm10 10l.94 2.06.94-2.06 2.06-.94-2.06-.94-.94-2.06-.94 2.06-2.06.94z\"/><path d=\"M17.41 7.96l-1.37-1.37c-.4-.4-.92-.59-1.43-.59-.52 0-1.04.2-1.43.59L10.3 9.45l-7.72 7.72c-.78.78-.78 2.05 0 2.83L4 21.41c.39.39.9.59 1.41.59.51 0 1.02-.2 1.41-.59l7.78-7.78 2.81-2.81c.8-.78.8-2.07 0-2.86zM5.41 20L4 18.59l7.72-7.72 1.47 1.35L5.41 20z\"/>\n",
              "  </svg>\n",
              "      </button>\n",
              "      \n",
              "  <style>\n",
              "    .colab-df-container {\n",
              "      display:flex;\n",
              "      flex-wrap:wrap;\n",
              "      gap: 12px;\n",
              "    }\n",
              "\n",
              "    .colab-df-convert {\n",
              "      background-color: #E8F0FE;\n",
              "      border: none;\n",
              "      border-radius: 50%;\n",
              "      cursor: pointer;\n",
              "      display: none;\n",
              "      fill: #1967D2;\n",
              "      height: 32px;\n",
              "      padding: 0 0 0 0;\n",
              "      width: 32px;\n",
              "    }\n",
              "\n",
              "    .colab-df-convert:hover {\n",
              "      background-color: #E2EBFA;\n",
              "      box-shadow: 0px 1px 2px rgba(60, 64, 67, 0.3), 0px 1px 3px 1px rgba(60, 64, 67, 0.15);\n",
              "      fill: #174EA6;\n",
              "    }\n",
              "\n",
              "    [theme=dark] .colab-df-convert {\n",
              "      background-color: #3B4455;\n",
              "      fill: #D2E3FC;\n",
              "    }\n",
              "\n",
              "    [theme=dark] .colab-df-convert:hover {\n",
              "      background-color: #434B5C;\n",
              "      box-shadow: 0px 1px 3px 1px rgba(0, 0, 0, 0.15);\n",
              "      filter: drop-shadow(0px 1px 2px rgba(0, 0, 0, 0.3));\n",
              "      fill: #FFFFFF;\n",
              "    }\n",
              "  </style>\n",
              "\n",
              "      <script>\n",
              "        const buttonEl =\n",
              "          document.querySelector('#df-a1742e2e-e8ee-43b8-8739-f9d0ca7fd4ba button.colab-df-convert');\n",
              "        buttonEl.style.display =\n",
              "          google.colab.kernel.accessAllowed ? 'block' : 'none';\n",
              "\n",
              "        async function convertToInteractive(key) {\n",
              "          const element = document.querySelector('#df-a1742e2e-e8ee-43b8-8739-f9d0ca7fd4ba');\n",
              "          const dataTable =\n",
              "            await google.colab.kernel.invokeFunction('convertToInteractive',\n",
              "                                                     [key], {});\n",
              "          if (!dataTable) return;\n",
              "\n",
              "          const docLinkHtml = 'Like what you see? Visit the ' +\n",
              "            '<a target=\"_blank\" href=https://colab.research.google.com/notebooks/data_table.ipynb>data table notebook</a>'\n",
              "            + ' to learn more about interactive tables.';\n",
              "          element.innerHTML = '';\n",
              "          dataTable['output_type'] = 'display_data';\n",
              "          await google.colab.output.renderOutput(dataTable, element);\n",
              "          const docLink = document.createElement('div');\n",
              "          docLink.innerHTML = docLinkHtml;\n",
              "          element.appendChild(docLink);\n",
              "        }\n",
              "      </script>\n",
              "    </div>\n",
              "  </div>\n",
              "  "
            ]
          },
          "metadata": {},
          "execution_count": 46
        }
      ]
    },
    {
      "cell_type": "code",
      "source": [
        "data_1['split_conversation'] = data_1['conversation'].apply(lambda x : x.split('\\n'))"
      ],
      "metadata": {
        "id": "B6rACyuTQDXV"
      },
      "execution_count": 48,
      "outputs": []
    },
    {
      "cell_type": "code",
      "source": [
        "data_1.head()"
      ],
      "metadata": {
        "colab": {
          "base_uri": "https://localhost:8080/",
          "height": 250
        },
        "id": "yLZu5TTdUsnE",
        "outputId": "e2e6844a-b1ed-43d4-bfd3-9c2906c69153"
      },
      "execution_count": 49,
      "outputs": [
        {
          "output_type": "execute_result",
          "data": {
            "text/plain": [
              "       idx        class                                       conversation  \\\n",
              "1299  1299  직장 내 괴롭힘 대화  길동씨 이번에 이것좀 처리해요\\n이거 제가 한게 아닌데요\\n팀에서 내가 니가가 어딨...   \n",
              "1300  1300    기타 괴롭힘 대화  야 너 앞니 왜 그렇게 튀어나왔냐?\\n 태어날때부터 그랬어 물어보지마.\\n 아 그럼...   \n",
              "1301  1301        갈취 대화  원후야 학원 교재 사야되는데 8만원만 주면 안돼?\\n 미안 나 오늘은 진짜 돈이 없...   \n",
              "1302  1302        갈취 대화  너 저번에 술먹은 날 기억해?\\n아니 왜?\\n야 300만원만 가져와.\\n뭔 소리야....   \n",
              "1303  1303        협박 대화  너 또 내말 무시하냐?\\n 이새끼 널 좆으로 보나본데?\\n아냐 진짜 시간이 없었어 ...   \n",
              "\n",
              "                        labelling  \\\n",
              "1299          1,2,1,2,1,2,1,2,1,2   \n",
              "1300  1,2,1,2,1,2,1,2,1,1,1,2,1,1   \n",
              "1301          1,2,1,2,1,2,1,2,1,2   \n",
              "1302          1,2,1,2,1,2,1,2,1,2   \n",
              "1303          1,1,2,1,1,2,1,2,1,1   \n",
              "\n",
              "                                     split_conversation  \n",
              "1299  [길동씨 이번에 이것좀 처리해요, 이거 제가 한게 아닌데요, 팀에서 내가 니가가 어...  \n",
              "1300  [야 너 앞니 왜 그렇게 튀어나왔냐?,  태어날때부터 그랬어 물어보지마.,  아 그...  \n",
              "1301  [원후야 학원 교재 사야되는데 8만원만 주면 안돼?,  미안 나 오늘은 진짜 돈이 ...  \n",
              "1302  [너 저번에 술먹은 날 기억해?, 아니 왜?, 야 300만원만 가져와., 뭔 소리야...  \n",
              "1303  [너 또 내말 무시하냐?,  이새끼 널 좆으로 보나본데?, 아냐 진짜 시간이 없었어...  "
            ],
            "text/html": [
              "\n",
              "  <div id=\"df-bb4bf1c1-c713-4c46-a11a-1c6d6be33d67\">\n",
              "    <div class=\"colab-df-container\">\n",
              "      <div>\n",
              "<style scoped>\n",
              "    .dataframe tbody tr th:only-of-type {\n",
              "        vertical-align: middle;\n",
              "    }\n",
              "\n",
              "    .dataframe tbody tr th {\n",
              "        vertical-align: top;\n",
              "    }\n",
              "\n",
              "    .dataframe thead th {\n",
              "        text-align: right;\n",
              "    }\n",
              "</style>\n",
              "<table border=\"1\" class=\"dataframe\">\n",
              "  <thead>\n",
              "    <tr style=\"text-align: right;\">\n",
              "      <th></th>\n",
              "      <th>idx</th>\n",
              "      <th>class</th>\n",
              "      <th>conversation</th>\n",
              "      <th>labelling</th>\n",
              "      <th>split_conversation</th>\n",
              "    </tr>\n",
              "  </thead>\n",
              "  <tbody>\n",
              "    <tr>\n",
              "      <th>1299</th>\n",
              "      <td>1299</td>\n",
              "      <td>직장 내 괴롭힘 대화</td>\n",
              "      <td>길동씨 이번에 이것좀 처리해요\\n이거 제가 한게 아닌데요\\n팀에서 내가 니가가 어딨...</td>\n",
              "      <td>1,2,1,2,1,2,1,2,1,2</td>\n",
              "      <td>[길동씨 이번에 이것좀 처리해요, 이거 제가 한게 아닌데요, 팀에서 내가 니가가 어...</td>\n",
              "    </tr>\n",
              "    <tr>\n",
              "      <th>1300</th>\n",
              "      <td>1300</td>\n",
              "      <td>기타 괴롭힘 대화</td>\n",
              "      <td>야 너 앞니 왜 그렇게 튀어나왔냐?\\n 태어날때부터 그랬어 물어보지마.\\n 아 그럼...</td>\n",
              "      <td>1,2,1,2,1,2,1,2,1,1,1,2,1,1</td>\n",
              "      <td>[야 너 앞니 왜 그렇게 튀어나왔냐?,  태어날때부터 그랬어 물어보지마.,  아 그...</td>\n",
              "    </tr>\n",
              "    <tr>\n",
              "      <th>1301</th>\n",
              "      <td>1301</td>\n",
              "      <td>갈취 대화</td>\n",
              "      <td>원후야 학원 교재 사야되는데 8만원만 주면 안돼?\\n 미안 나 오늘은 진짜 돈이 없...</td>\n",
              "      <td>1,2,1,2,1,2,1,2,1,2</td>\n",
              "      <td>[원후야 학원 교재 사야되는데 8만원만 주면 안돼?,  미안 나 오늘은 진짜 돈이 ...</td>\n",
              "    </tr>\n",
              "    <tr>\n",
              "      <th>1302</th>\n",
              "      <td>1302</td>\n",
              "      <td>갈취 대화</td>\n",
              "      <td>너 저번에 술먹은 날 기억해?\\n아니 왜?\\n야 300만원만 가져와.\\n뭔 소리야....</td>\n",
              "      <td>1,2,1,2,1,2,1,2,1,2</td>\n",
              "      <td>[너 저번에 술먹은 날 기억해?, 아니 왜?, 야 300만원만 가져와., 뭔 소리야...</td>\n",
              "    </tr>\n",
              "    <tr>\n",
              "      <th>1303</th>\n",
              "      <td>1303</td>\n",
              "      <td>협박 대화</td>\n",
              "      <td>너 또 내말 무시하냐?\\n 이새끼 널 좆으로 보나본데?\\n아냐 진짜 시간이 없었어 ...</td>\n",
              "      <td>1,1,2,1,1,2,1,2,1,1</td>\n",
              "      <td>[너 또 내말 무시하냐?,  이새끼 널 좆으로 보나본데?, 아냐 진짜 시간이 없었어...</td>\n",
              "    </tr>\n",
              "  </tbody>\n",
              "</table>\n",
              "</div>\n",
              "      <button class=\"colab-df-convert\" onclick=\"convertToInteractive('df-bb4bf1c1-c713-4c46-a11a-1c6d6be33d67')\"\n",
              "              title=\"Convert this dataframe to an interactive table.\"\n",
              "              style=\"display:none;\">\n",
              "        \n",
              "  <svg xmlns=\"http://www.w3.org/2000/svg\" height=\"24px\"viewBox=\"0 0 24 24\"\n",
              "       width=\"24px\">\n",
              "    <path d=\"M0 0h24v24H0V0z\" fill=\"none\"/>\n",
              "    <path d=\"M18.56 5.44l.94 2.06.94-2.06 2.06-.94-2.06-.94-.94-2.06-.94 2.06-2.06.94zm-11 1L8.5 8.5l.94-2.06 2.06-.94-2.06-.94L8.5 2.5l-.94 2.06-2.06.94zm10 10l.94 2.06.94-2.06 2.06-.94-2.06-.94-.94-2.06-.94 2.06-2.06.94z\"/><path d=\"M17.41 7.96l-1.37-1.37c-.4-.4-.92-.59-1.43-.59-.52 0-1.04.2-1.43.59L10.3 9.45l-7.72 7.72c-.78.78-.78 2.05 0 2.83L4 21.41c.39.39.9.59 1.41.59.51 0 1.02-.2 1.41-.59l7.78-7.78 2.81-2.81c.8-.78.8-2.07 0-2.86zM5.41 20L4 18.59l7.72-7.72 1.47 1.35L5.41 20z\"/>\n",
              "  </svg>\n",
              "      </button>\n",
              "      \n",
              "  <style>\n",
              "    .colab-df-container {\n",
              "      display:flex;\n",
              "      flex-wrap:wrap;\n",
              "      gap: 12px;\n",
              "    }\n",
              "\n",
              "    .colab-df-convert {\n",
              "      background-color: #E8F0FE;\n",
              "      border: none;\n",
              "      border-radius: 50%;\n",
              "      cursor: pointer;\n",
              "      display: none;\n",
              "      fill: #1967D2;\n",
              "      height: 32px;\n",
              "      padding: 0 0 0 0;\n",
              "      width: 32px;\n",
              "    }\n",
              "\n",
              "    .colab-df-convert:hover {\n",
              "      background-color: #E2EBFA;\n",
              "      box-shadow: 0px 1px 2px rgba(60, 64, 67, 0.3), 0px 1px 3px 1px rgba(60, 64, 67, 0.15);\n",
              "      fill: #174EA6;\n",
              "    }\n",
              "\n",
              "    [theme=dark] .colab-df-convert {\n",
              "      background-color: #3B4455;\n",
              "      fill: #D2E3FC;\n",
              "    }\n",
              "\n",
              "    [theme=dark] .colab-df-convert:hover {\n",
              "      background-color: #434B5C;\n",
              "      box-shadow: 0px 1px 3px 1px rgba(0, 0, 0, 0.15);\n",
              "      filter: drop-shadow(0px 1px 2px rgba(0, 0, 0, 0.3));\n",
              "      fill: #FFFFFF;\n",
              "    }\n",
              "  </style>\n",
              "\n",
              "      <script>\n",
              "        const buttonEl =\n",
              "          document.querySelector('#df-bb4bf1c1-c713-4c46-a11a-1c6d6be33d67 button.colab-df-convert');\n",
              "        buttonEl.style.display =\n",
              "          google.colab.kernel.accessAllowed ? 'block' : 'none';\n",
              "\n",
              "        async function convertToInteractive(key) {\n",
              "          const element = document.querySelector('#df-bb4bf1c1-c713-4c46-a11a-1c6d6be33d67');\n",
              "          const dataTable =\n",
              "            await google.colab.kernel.invokeFunction('convertToInteractive',\n",
              "                                                     [key], {});\n",
              "          if (!dataTable) return;\n",
              "\n",
              "          const docLinkHtml = 'Like what you see? Visit the ' +\n",
              "            '<a target=\"_blank\" href=https://colab.research.google.com/notebooks/data_table.ipynb>data table notebook</a>'\n",
              "            + ' to learn more about interactive tables.';\n",
              "          element.innerHTML = '';\n",
              "          dataTable['output_type'] = 'display_data';\n",
              "          await google.colab.output.renderOutput(dataTable, element);\n",
              "          const docLink = document.createElement('div');\n",
              "          docLink.innerHTML = docLinkHtml;\n",
              "          element.appendChild(docLink);\n",
              "        }\n",
              "      </script>\n",
              "    </div>\n",
              "  </div>\n",
              "  "
            ]
          },
          "metadata": {},
          "execution_count": 49
        }
      ]
    },
    {
      "cell_type": "code",
      "source": [
        "def label_mapping(data):\n",
        "  label_sentence = []\n",
        "  error_sentence = []\n",
        "  for row in data.iterrows():\n",
        "    conversation = row[1]['split_conversation']\n",
        "    labelling = row[1]['labelling'].split(',')\n",
        "    conversation = [x for x in conversation if x != '']\n",
        "    try:\n",
        "      sen = []\n",
        "      for i in range(len(labelling)):\n",
        "        label_sen = labelling[i] + ':' + conversation[i].strip()\n",
        "        sen.append(label_sen)\n",
        "      label_sentence.append(sen)\n",
        "    except:\n",
        "      sen = []\n",
        "      labelling = row[1]['labelling'].split(',')\n",
        "      labelling.pop()\n",
        "      for i in range(len(labelling)):\n",
        "        label_sen = labelling[i] + ':' + conversation[i].strip()\n",
        "        sen.append(label_sen)\n",
        "      label_sentence.append(sen)\n",
        "      error_sentence.append(sen)\n",
        "\n",
        "  return label_sentence, error_sentence"
      ],
      "metadata": {
        "id": "rrpFZovvUxRY"
      },
      "execution_count": 115,
      "outputs": []
    },
    {
      "cell_type": "code",
      "source": [
        "label_sentence, error_sentence = label_mapping(data_1)"
      ],
      "metadata": {
        "id": "CT3M4RVAXfxl"
      },
      "execution_count": 116,
      "outputs": []
    },
    {
      "cell_type": "code",
      "source": [
        "label_sentence[1]"
      ],
      "metadata": {
        "colab": {
          "base_uri": "https://localhost:8080/"
        },
        "id": "wzWjDh_-YB3n",
        "outputId": "76adb026-6980-4ba5-db5b-7e8dfc6ec3f9"
      },
      "execution_count": 117,
      "outputs": [
        {
          "output_type": "execute_result",
          "data": {
            "text/plain": [
              "['1:야 너 앞니 왜 그렇게 튀어나왔냐?',\n",
              " '2:태어날때부터 그랬어 물어보지마.',\n",
              " '1:아 그럼 태어날때부터 못생기거네?',\n",
              " '2:괴롭히지마 제발',\n",
              " '1:아니 너는 내가 말만하면 괴롭혔다고 한다?',\n",
              " '2:혼자있게해줘',\n",
              " '1:지 혼자 있는거같아서 말걸어줬더니만 나쁜 사람만드네 그래놓고 왕따 시켰다고 말하지나 마 진짜 성격이 왜그따위야? 가정교육 잘못받았냐',\n",
              " '2:부모님은 건드리지마',\n",
              " '1:어쭈 발끈한다 지도 자식이라 이거지',\n",
              " '1:얘 왜 우냐?',\n",
              " '1:아니 몰라 지혼자 갑자기 화내',\n",
              " '2:제발 혼자있게 해줘 내버려둬',\n",
              " '1:이거 왜 또 지 혼자 감성적이냐? 애니 그만 보라했지',\n",
              " '1:완전 얘 코미디언 아니냐']"
            ]
          },
          "metadata": {},
          "execution_count": 117
        }
      ]
    },
    {
      "cell_type": "code",
      "source": [
        "error_sentence"
      ],
      "metadata": {
        "colab": {
          "base_uri": "https://localhost:8080/"
        },
        "id": "1KuZPtHbYrXb",
        "outputId": "e7399677-9ecf-45a3-c0e6-7eab02ac2bdd"
      },
      "execution_count": 118,
      "outputs": [
        {
          "output_type": "execute_result",
          "data": {
            "text/plain": [
              "[['1:야! 누가 카드를 한손으로 줘. 다시 두손으로 줘',\n",
              "  '2:고객님 원래 카드는 한손으로 주는데요.',\n",
              "  '1:어린노무자식이 어른한테 꼬박꼬박 말대꾸네. 가정교육 어떻게 배운거야 이거',\n",
              "  '1:죄송합니다. 제가 이 가게 사장인데요. 얼른 사과드려 빨리',\n",
              "  '2:이분께서 카드 결제하고 두손으로 안줬다고 먼저 저희 부모님 욕하셨는데요?',\n",
              "  '1:아니 이자식이 끝까지 말대꾸네. 저 싸가지 없는거. 장사 그만하고 싶어? 가게 망하게 해줘?',\n",
              "  '1:죄송합니다. 이 친구가 어려서 아직 잘 몰라서 그럽니다. 빨리 사과드리라니까',\n",
              "  '2:저는 사과 못해요. 저는 잘못한거 하나 없어요.',\n",
              "  '1:선생님. 제가 대신 사과 드리겠습니다. 이 친구가 아직 사회생활을 안해봐서 그런것 같습니다. 넌 해고야. 월급도 없을줄 알아. 집에가 나가',\n",
              "  '1:이자식 학교랑 부모님 전화번호좀 줘봐. 아니 가정교육 인성교육을 어떻게 받았길래 내가 한마디 해야지. 안주면 서울역점 편의점 고객응대 엉망이고 개판이라고 언론에 올릴꺼야. 내가 뭐하는 사람인지 알아? 나 이런 사람이야.'],\n",
              " ['1:저 제스타일이신데 번호점',\n",
              "  '2:싫어요',\n",
              "  '1:아 존나 튕기네',\n",
              "  '2:싫다는데 왜 물어봐요',\n",
              "  '1:존나 비싸게 구네 비싸게 굴지말고 전번좀 주라',\n",
              "  '2:저 남자친구 있어서 전번줄수 없어요',\n",
              "  '1:그럼 친구라도 지내게 전화번호좀 주세요',\n",
              "  '2:싫어요 왜자꾸 전화번호 달라고 하세요',\n",
              "  '1:전번줄때까지 휴대폰 안줄꺼예요',\n",
              "  '2:전번줄테니까 휴대폰 주세요'],\n",
              " ['1:친구야 나 돈좀빌리자',\n",
              "  '2:안돼 나 이거 독서실갈돈이야.',\n",
              "  '1:독서실갈돈은있고 나빌려줄돈은 없냐',\n",
              "  '2:저번에도 빌려줘서 안갚았잖아',\n",
              "  '1:야 그거랑 같이쳐서 내일줄테니까 오늘만 빌리자',\n",
              "  '2:나진짜 이제 엄마한테 돈검사 받아야되서 안돼.',\n",
              "  '1:니엄마한테는 돈썻다 하면되지 뭘그러냐',\n",
              "  '2:너 나한테 빌려간돈만 5만원이넘어.',\n",
              "  '1:야 그거다 갚아주면되잖아 째째하게 왜그러냐',\n",
              "  '2:아 알았어.이번이 마지막이야.']]"
            ]
          },
          "metadata": {},
          "execution_count": 118
        }
      ]
    },
    {
      "cell_type": "code",
      "source": [
        "data_2['split_conversation'] = data_2['conversation'].apply(lambda x : x.split('\\n'))"
      ],
      "metadata": {
        "id": "IuufcDn2V4U5"
      },
      "execution_count": 120,
      "outputs": []
    },
    {
      "cell_type": "code",
      "source": [
        "data_2.head()"
      ],
      "metadata": {
        "colab": {
          "base_uri": "https://localhost:8080/",
          "height": 206
        },
        "id": "E11bxDP4b9Xr",
        "outputId": "8b4b101e-d720-4ab5-e870-12adeb480abe"
      },
      "execution_count": 121,
      "outputs": [
        {
          "output_type": "execute_result",
          "data": {
            "text/plain": [
              "   idx      class                                       conversation  \\\n",
              "0    0      협박 대화  지금 너 스스로를 죽여달라고 애원하는 것인가?\\n 아닙니다. 죄송합니다.\\n 죽을 ...   \n",
              "1    1      협박 대화  길동경찰서입니다.\\n9시 40분 마트에 폭발물을 설치할거다.\\n네?\\n똑바로 들어 ...   \n",
              "2    2  기타 괴롭힘 대화  너 되게 귀여운거 알지? 나보다 작은 남자는 첨봤어.\\n그만해. 니들 놀리는거 재미...   \n",
              "3    3      갈취 대화  어이 거기\\n예??\\n너 말이야 너. 이리 오라고\\n무슨 일.\\n너 옷 좋아보인다?...   \n",
              "4    4      갈취 대화  저기요 혹시 날이 너무 뜨겁잖아요? 저희 회사에서 이 선크림 파는데 한 번 손등에 ...   \n",
              "\n",
              "                 labelling                                 split_conversation  \n",
              "0      1,2,1,2,1,2,1,2,1,2  [지금 너 스스로를 죽여달라고 애원하는 것인가?,  아닙니다. 죄송합니다.,  죽을...  \n",
              "1      2,1,2,1,2,1,2,1,2,1  [길동경찰서입니다., 9시 40분 마트에 폭발물을 설치할거다., 네?, 똑바로 들어...  \n",
              "2      1,2,1,1,2,1,2,1,1,2  [너 되게 귀여운거 알지? 나보다 작은 남자는 첨봤어., 그만해. 니들 놀리는거 재...  \n",
              "3    1,2,1,2,1,1,2,1,1,1,2  [어이 거기, 예??, 너 말이야 너. 이리 오라고, 무슨 일., 너 옷 좋아보인다...  \n",
              "4  1,2,1,2,1,2,1,2,1,2,1,2  [저기요 혹시 날이 너무 뜨겁잖아요? 저희 회사에서 이 선크림 파는데 한 번 손등에...  "
            ],
            "text/html": [
              "\n",
              "  <div id=\"df-4a8f9b72-9663-4288-96b0-845457de1eae\">\n",
              "    <div class=\"colab-df-container\">\n",
              "      <div>\n",
              "<style scoped>\n",
              "    .dataframe tbody tr th:only-of-type {\n",
              "        vertical-align: middle;\n",
              "    }\n",
              "\n",
              "    .dataframe tbody tr th {\n",
              "        vertical-align: top;\n",
              "    }\n",
              "\n",
              "    .dataframe thead th {\n",
              "        text-align: right;\n",
              "    }\n",
              "</style>\n",
              "<table border=\"1\" class=\"dataframe\">\n",
              "  <thead>\n",
              "    <tr style=\"text-align: right;\">\n",
              "      <th></th>\n",
              "      <th>idx</th>\n",
              "      <th>class</th>\n",
              "      <th>conversation</th>\n",
              "      <th>labelling</th>\n",
              "      <th>split_conversation</th>\n",
              "    </tr>\n",
              "  </thead>\n",
              "  <tbody>\n",
              "    <tr>\n",
              "      <th>0</th>\n",
              "      <td>0</td>\n",
              "      <td>협박 대화</td>\n",
              "      <td>지금 너 스스로를 죽여달라고 애원하는 것인가?\\n 아닙니다. 죄송합니다.\\n 죽을 ...</td>\n",
              "      <td>1,2,1,2,1,2,1,2,1,2</td>\n",
              "      <td>[지금 너 스스로를 죽여달라고 애원하는 것인가?,  아닙니다. 죄송합니다.,  죽을...</td>\n",
              "    </tr>\n",
              "    <tr>\n",
              "      <th>1</th>\n",
              "      <td>1</td>\n",
              "      <td>협박 대화</td>\n",
              "      <td>길동경찰서입니다.\\n9시 40분 마트에 폭발물을 설치할거다.\\n네?\\n똑바로 들어 ...</td>\n",
              "      <td>2,1,2,1,2,1,2,1,2,1</td>\n",
              "      <td>[길동경찰서입니다., 9시 40분 마트에 폭발물을 설치할거다., 네?, 똑바로 들어...</td>\n",
              "    </tr>\n",
              "    <tr>\n",
              "      <th>2</th>\n",
              "      <td>2</td>\n",
              "      <td>기타 괴롭힘 대화</td>\n",
              "      <td>너 되게 귀여운거 알지? 나보다 작은 남자는 첨봤어.\\n그만해. 니들 놀리는거 재미...</td>\n",
              "      <td>1,2,1,1,2,1,2,1,1,2</td>\n",
              "      <td>[너 되게 귀여운거 알지? 나보다 작은 남자는 첨봤어., 그만해. 니들 놀리는거 재...</td>\n",
              "    </tr>\n",
              "    <tr>\n",
              "      <th>3</th>\n",
              "      <td>3</td>\n",
              "      <td>갈취 대화</td>\n",
              "      <td>어이 거기\\n예??\\n너 말이야 너. 이리 오라고\\n무슨 일.\\n너 옷 좋아보인다?...</td>\n",
              "      <td>1,2,1,2,1,1,2,1,1,1,2</td>\n",
              "      <td>[어이 거기, 예??, 너 말이야 너. 이리 오라고, 무슨 일., 너 옷 좋아보인다...</td>\n",
              "    </tr>\n",
              "    <tr>\n",
              "      <th>4</th>\n",
              "      <td>4</td>\n",
              "      <td>갈취 대화</td>\n",
              "      <td>저기요 혹시 날이 너무 뜨겁잖아요? 저희 회사에서 이 선크림 파는데 한 번 손등에 ...</td>\n",
              "      <td>1,2,1,2,1,2,1,2,1,2,1,2</td>\n",
              "      <td>[저기요 혹시 날이 너무 뜨겁잖아요? 저희 회사에서 이 선크림 파는데 한 번 손등에...</td>\n",
              "    </tr>\n",
              "  </tbody>\n",
              "</table>\n",
              "</div>\n",
              "      <button class=\"colab-df-convert\" onclick=\"convertToInteractive('df-4a8f9b72-9663-4288-96b0-845457de1eae')\"\n",
              "              title=\"Convert this dataframe to an interactive table.\"\n",
              "              style=\"display:none;\">\n",
              "        \n",
              "  <svg xmlns=\"http://www.w3.org/2000/svg\" height=\"24px\"viewBox=\"0 0 24 24\"\n",
              "       width=\"24px\">\n",
              "    <path d=\"M0 0h24v24H0V0z\" fill=\"none\"/>\n",
              "    <path d=\"M18.56 5.44l.94 2.06.94-2.06 2.06-.94-2.06-.94-.94-2.06-.94 2.06-2.06.94zm-11 1L8.5 8.5l.94-2.06 2.06-.94-2.06-.94L8.5 2.5l-.94 2.06-2.06.94zm10 10l.94 2.06.94-2.06 2.06-.94-2.06-.94-.94-2.06-.94 2.06-2.06.94z\"/><path d=\"M17.41 7.96l-1.37-1.37c-.4-.4-.92-.59-1.43-.59-.52 0-1.04.2-1.43.59L10.3 9.45l-7.72 7.72c-.78.78-.78 2.05 0 2.83L4 21.41c.39.39.9.59 1.41.59.51 0 1.02-.2 1.41-.59l7.78-7.78 2.81-2.81c.8-.78.8-2.07 0-2.86zM5.41 20L4 18.59l7.72-7.72 1.47 1.35L5.41 20z\"/>\n",
              "  </svg>\n",
              "      </button>\n",
              "      \n",
              "  <style>\n",
              "    .colab-df-container {\n",
              "      display:flex;\n",
              "      flex-wrap:wrap;\n",
              "      gap: 12px;\n",
              "    }\n",
              "\n",
              "    .colab-df-convert {\n",
              "      background-color: #E8F0FE;\n",
              "      border: none;\n",
              "      border-radius: 50%;\n",
              "      cursor: pointer;\n",
              "      display: none;\n",
              "      fill: #1967D2;\n",
              "      height: 32px;\n",
              "      padding: 0 0 0 0;\n",
              "      width: 32px;\n",
              "    }\n",
              "\n",
              "    .colab-df-convert:hover {\n",
              "      background-color: #E2EBFA;\n",
              "      box-shadow: 0px 1px 2px rgba(60, 64, 67, 0.3), 0px 1px 3px 1px rgba(60, 64, 67, 0.15);\n",
              "      fill: #174EA6;\n",
              "    }\n",
              "\n",
              "    [theme=dark] .colab-df-convert {\n",
              "      background-color: #3B4455;\n",
              "      fill: #D2E3FC;\n",
              "    }\n",
              "\n",
              "    [theme=dark] .colab-df-convert:hover {\n",
              "      background-color: #434B5C;\n",
              "      box-shadow: 0px 1px 3px 1px rgba(0, 0, 0, 0.15);\n",
              "      filter: drop-shadow(0px 1px 2px rgba(0, 0, 0, 0.3));\n",
              "      fill: #FFFFFF;\n",
              "    }\n",
              "  </style>\n",
              "\n",
              "      <script>\n",
              "        const buttonEl =\n",
              "          document.querySelector('#df-4a8f9b72-9663-4288-96b0-845457de1eae button.colab-df-convert');\n",
              "        buttonEl.style.display =\n",
              "          google.colab.kernel.accessAllowed ? 'block' : 'none';\n",
              "\n",
              "        async function convertToInteractive(key) {\n",
              "          const element = document.querySelector('#df-4a8f9b72-9663-4288-96b0-845457de1eae');\n",
              "          const dataTable =\n",
              "            await google.colab.kernel.invokeFunction('convertToInteractive',\n",
              "                                                     [key], {});\n",
              "          if (!dataTable) return;\n",
              "\n",
              "          const docLinkHtml = 'Like what you see? Visit the ' +\n",
              "            '<a target=\"_blank\" href=https://colab.research.google.com/notebooks/data_table.ipynb>data table notebook</a>'\n",
              "            + ' to learn more about interactive tables.';\n",
              "          element.innerHTML = '';\n",
              "          dataTable['output_type'] = 'display_data';\n",
              "          await google.colab.output.renderOutput(dataTable, element);\n",
              "          const docLink = document.createElement('div');\n",
              "          docLink.innerHTML = docLinkHtml;\n",
              "          element.appendChild(docLink);\n",
              "        }\n",
              "      </script>\n",
              "    </div>\n",
              "  </div>\n",
              "  "
            ]
          },
          "metadata": {},
          "execution_count": 121
        }
      ]
    },
    {
      "cell_type": "code",
      "source": [
        "label_sentence_2, error_sentence_2 = label_mapping(data_2)"
      ],
      "metadata": {
        "id": "W2P9MM0Fb-Xc"
      },
      "execution_count": 122,
      "outputs": []
    },
    {
      "cell_type": "code",
      "source": [
        "label_sentence_2[0]"
      ],
      "metadata": {
        "colab": {
          "base_uri": "https://localhost:8080/"
        },
        "id": "h70-tDShcEaM",
        "outputId": "7fe10a2b-0a6e-4ca5-c017-59ae5d212946"
      },
      "execution_count": 123,
      "outputs": [
        {
          "output_type": "execute_result",
          "data": {
            "text/plain": [
              "['1:지금 너 스스로를 죽여달라고 애원하는 것인가?',\n",
              " '2:아닙니다. 죄송합니다.',\n",
              " '1:죽을 거면 혼자 죽지 우리까지 사건에 휘말리게 해? 진짜 죽여버리고 싶게.',\n",
              " '2:정말 잘못했습니다.',\n",
              " '1:너가 선택해. 너가 죽을래 네 가족을 죽여줄까.',\n",
              " '2:죄송합니다. 정말 잘못했습니다.',\n",
              " '1:너에게는 선택권이 없어. 선택 못한다면 너와 네 가족까지 모조리 죽여버릴거야.',\n",
              " '2:선택 못하겠습니다. 한번만 도와주세요.',\n",
              " '1:그냥 다 죽여버려야겠군. 이의 없지?',\n",
              " '2:제발 도와주세요.']"
            ]
          },
          "metadata": {},
          "execution_count": 123
        }
      ]
    },
    {
      "cell_type": "code",
      "source": [
        "error_sentence_2"
      ],
      "metadata": {
        "colab": {
          "base_uri": "https://localhost:8080/"
        },
        "id": "YllKmk48cGEk",
        "outputId": "02e726c5-dfa5-49a3-ca4c-daa867af842a"
      },
      "execution_count": 124,
      "outputs": [
        {
          "output_type": "execute_result",
          "data": {
            "text/plain": [
              "[]"
            ]
          },
          "metadata": {},
          "execution_count": 124
        }
      ]
    },
    {
      "cell_type": "code",
      "source": [
        "data_3 = pd.read_csv('/content/drive/MyDrive/AIFFELTHON/TUNiB/train_권세영.csv')\n",
        "data_3.head()"
      ],
      "metadata": {
        "colab": {
          "base_uri": "https://localhost:8080/",
          "height": 206
        },
        "id": "xh5RZDmVVvc6",
        "outputId": "0d0c6e8d-870d-4543-bd86-b76b65dc76ef"
      },
      "execution_count": 119,
      "outputs": [
        {
          "output_type": "execute_result",
          "data": {
            "text/plain": [
              "    idx        class                                       conversation  \\\n",
              "0  2650        협박 대화  야 니동생 엄청 예쁘더라\\n미안해. 우리동생 건들지 말아줘. 나 절대 다시 못들어가...   \n",
              "1  2651  직장 내 괴롭힘 대화  어 이과장이 이번에 곧 승진이라고 했나?\\n맞습니다.\\n그러면 너가 일을 해줘야 겠...   \n",
              "2  2652    기타 괴롭힘 대화  야 병신! 넌 학교 왜 나오냐? 어차피 졸업해도 취직도 못할텐데\\n저리가\\n줘리가야...   \n",
              "3  2653        협박 대화  야 니가 나에 대해 이상한 소문 내고 다닌다면서?\\n 너에 대해 이야기 한적 없어....   \n",
              "4  2654    기타 괴롭힘 대화  너 나랑 헤어지면 이거 니 주변 사람들한테 다 돌린다\\n이게 뭐야?\\n이게 뭐긴 우...   \n",
              "\n",
              "                   new_label  \n",
              "0      1,2,1,2,1,1,2,1,2,1,2  \n",
              "1  1,2,1,2,1,2,1,2,1,2,1,2,1  \n",
              "2        1,2,1,1,2,1,1,1,1,2  \n",
              "3          1,2,1,2,1,2,1,2,1  \n",
              "4        1,2,1,2,1,2,1,2,1,2  "
            ],
            "text/html": [
              "\n",
              "  <div id=\"df-9ec77a89-c5aa-4f1b-b7de-344908b53391\">\n",
              "    <div class=\"colab-df-container\">\n",
              "      <div>\n",
              "<style scoped>\n",
              "    .dataframe tbody tr th:only-of-type {\n",
              "        vertical-align: middle;\n",
              "    }\n",
              "\n",
              "    .dataframe tbody tr th {\n",
              "        vertical-align: top;\n",
              "    }\n",
              "\n",
              "    .dataframe thead th {\n",
              "        text-align: right;\n",
              "    }\n",
              "</style>\n",
              "<table border=\"1\" class=\"dataframe\">\n",
              "  <thead>\n",
              "    <tr style=\"text-align: right;\">\n",
              "      <th></th>\n",
              "      <th>idx</th>\n",
              "      <th>class</th>\n",
              "      <th>conversation</th>\n",
              "      <th>new_label</th>\n",
              "    </tr>\n",
              "  </thead>\n",
              "  <tbody>\n",
              "    <tr>\n",
              "      <th>0</th>\n",
              "      <td>2650</td>\n",
              "      <td>협박 대화</td>\n",
              "      <td>야 니동생 엄청 예쁘더라\\n미안해. 우리동생 건들지 말아줘. 나 절대 다시 못들어가...</td>\n",
              "      <td>1,2,1,2,1,1,2,1,2,1,2</td>\n",
              "    </tr>\n",
              "    <tr>\n",
              "      <th>1</th>\n",
              "      <td>2651</td>\n",
              "      <td>직장 내 괴롭힘 대화</td>\n",
              "      <td>어 이과장이 이번에 곧 승진이라고 했나?\\n맞습니다.\\n그러면 너가 일을 해줘야 겠...</td>\n",
              "      <td>1,2,1,2,1,2,1,2,1,2,1,2,1</td>\n",
              "    </tr>\n",
              "    <tr>\n",
              "      <th>2</th>\n",
              "      <td>2652</td>\n",
              "      <td>기타 괴롭힘 대화</td>\n",
              "      <td>야 병신! 넌 학교 왜 나오냐? 어차피 졸업해도 취직도 못할텐데\\n저리가\\n줘리가야...</td>\n",
              "      <td>1,2,1,1,2,1,1,1,1,2</td>\n",
              "    </tr>\n",
              "    <tr>\n",
              "      <th>3</th>\n",
              "      <td>2653</td>\n",
              "      <td>협박 대화</td>\n",
              "      <td>야 니가 나에 대해 이상한 소문 내고 다닌다면서?\\n 너에 대해 이야기 한적 없어....</td>\n",
              "      <td>1,2,1,2,1,2,1,2,1</td>\n",
              "    </tr>\n",
              "    <tr>\n",
              "      <th>4</th>\n",
              "      <td>2654</td>\n",
              "      <td>기타 괴롭힘 대화</td>\n",
              "      <td>너 나랑 헤어지면 이거 니 주변 사람들한테 다 돌린다\\n이게 뭐야?\\n이게 뭐긴 우...</td>\n",
              "      <td>1,2,1,2,1,2,1,2,1,2</td>\n",
              "    </tr>\n",
              "  </tbody>\n",
              "</table>\n",
              "</div>\n",
              "      <button class=\"colab-df-convert\" onclick=\"convertToInteractive('df-9ec77a89-c5aa-4f1b-b7de-344908b53391')\"\n",
              "              title=\"Convert this dataframe to an interactive table.\"\n",
              "              style=\"display:none;\">\n",
              "        \n",
              "  <svg xmlns=\"http://www.w3.org/2000/svg\" height=\"24px\"viewBox=\"0 0 24 24\"\n",
              "       width=\"24px\">\n",
              "    <path d=\"M0 0h24v24H0V0z\" fill=\"none\"/>\n",
              "    <path d=\"M18.56 5.44l.94 2.06.94-2.06 2.06-.94-2.06-.94-.94-2.06-.94 2.06-2.06.94zm-11 1L8.5 8.5l.94-2.06 2.06-.94-2.06-.94L8.5 2.5l-.94 2.06-2.06.94zm10 10l.94 2.06.94-2.06 2.06-.94-2.06-.94-.94-2.06-.94 2.06-2.06.94z\"/><path d=\"M17.41 7.96l-1.37-1.37c-.4-.4-.92-.59-1.43-.59-.52 0-1.04.2-1.43.59L10.3 9.45l-7.72 7.72c-.78.78-.78 2.05 0 2.83L4 21.41c.39.39.9.59 1.41.59.51 0 1.02-.2 1.41-.59l7.78-7.78 2.81-2.81c.8-.78.8-2.07 0-2.86zM5.41 20L4 18.59l7.72-7.72 1.47 1.35L5.41 20z\"/>\n",
              "  </svg>\n",
              "      </button>\n",
              "      \n",
              "  <style>\n",
              "    .colab-df-container {\n",
              "      display:flex;\n",
              "      flex-wrap:wrap;\n",
              "      gap: 12px;\n",
              "    }\n",
              "\n",
              "    .colab-df-convert {\n",
              "      background-color: #E8F0FE;\n",
              "      border: none;\n",
              "      border-radius: 50%;\n",
              "      cursor: pointer;\n",
              "      display: none;\n",
              "      fill: #1967D2;\n",
              "      height: 32px;\n",
              "      padding: 0 0 0 0;\n",
              "      width: 32px;\n",
              "    }\n",
              "\n",
              "    .colab-df-convert:hover {\n",
              "      background-color: #E2EBFA;\n",
              "      box-shadow: 0px 1px 2px rgba(60, 64, 67, 0.3), 0px 1px 3px 1px rgba(60, 64, 67, 0.15);\n",
              "      fill: #174EA6;\n",
              "    }\n",
              "\n",
              "    [theme=dark] .colab-df-convert {\n",
              "      background-color: #3B4455;\n",
              "      fill: #D2E3FC;\n",
              "    }\n",
              "\n",
              "    [theme=dark] .colab-df-convert:hover {\n",
              "      background-color: #434B5C;\n",
              "      box-shadow: 0px 1px 3px 1px rgba(0, 0, 0, 0.15);\n",
              "      filter: drop-shadow(0px 1px 2px rgba(0, 0, 0, 0.3));\n",
              "      fill: #FFFFFF;\n",
              "    }\n",
              "  </style>\n",
              "\n",
              "      <script>\n",
              "        const buttonEl =\n",
              "          document.querySelector('#df-9ec77a89-c5aa-4f1b-b7de-344908b53391 button.colab-df-convert');\n",
              "        buttonEl.style.display =\n",
              "          google.colab.kernel.accessAllowed ? 'block' : 'none';\n",
              "\n",
              "        async function convertToInteractive(key) {\n",
              "          const element = document.querySelector('#df-9ec77a89-c5aa-4f1b-b7de-344908b53391');\n",
              "          const dataTable =\n",
              "            await google.colab.kernel.invokeFunction('convertToInteractive',\n",
              "                                                     [key], {});\n",
              "          if (!dataTable) return;\n",
              "\n",
              "          const docLinkHtml = 'Like what you see? Visit the ' +\n",
              "            '<a target=\"_blank\" href=https://colab.research.google.com/notebooks/data_table.ipynb>data table notebook</a>'\n",
              "            + ' to learn more about interactive tables.';\n",
              "          element.innerHTML = '';\n",
              "          dataTable['output_type'] = 'display_data';\n",
              "          await google.colab.output.renderOutput(dataTable, element);\n",
              "          const docLink = document.createElement('div');\n",
              "          docLink.innerHTML = docLinkHtml;\n",
              "          element.appendChild(docLink);\n",
              "        }\n",
              "      </script>\n",
              "    </div>\n",
              "  </div>\n",
              "  "
            ]
          },
          "metadata": {},
          "execution_count": 119
        }
      ]
    },
    {
      "cell_type": "code",
      "source": [
        "len(data_3)"
      ],
      "metadata": {
        "colab": {
          "base_uri": "https://localhost:8080/"
        },
        "id": "7yrvFTCBenfY",
        "outputId": "a1db948e-cb41-493f-e65f-4e3b2fd83ff6"
      },
      "execution_count": 132,
      "outputs": [
        {
          "output_type": "execute_result",
          "data": {
            "text/plain": [
              "1300"
            ]
          },
          "metadata": {},
          "execution_count": 132
        }
      ]
    },
    {
      "cell_type": "code",
      "source": [
        "data_3['split_conversation'] = data_3['conversation'].apply(lambda x : x.split('\\n'))\n",
        "data_3.head()"
      ],
      "metadata": {
        "colab": {
          "base_uri": "https://localhost:8080/",
          "height": 206
        },
        "id": "7pz6IfNccRGE",
        "outputId": "1d5354ab-302d-4cf5-8c60-131de5a18293"
      },
      "execution_count": 125,
      "outputs": [
        {
          "output_type": "execute_result",
          "data": {
            "text/plain": [
              "    idx        class                                       conversation  \\\n",
              "0  2650        협박 대화  야 니동생 엄청 예쁘더라\\n미안해. 우리동생 건들지 말아줘. 나 절대 다시 못들어가...   \n",
              "1  2651  직장 내 괴롭힘 대화  어 이과장이 이번에 곧 승진이라고 했나?\\n맞습니다.\\n그러면 너가 일을 해줘야 겠...   \n",
              "2  2652    기타 괴롭힘 대화  야 병신! 넌 학교 왜 나오냐? 어차피 졸업해도 취직도 못할텐데\\n저리가\\n줘리가야...   \n",
              "3  2653        협박 대화  야 니가 나에 대해 이상한 소문 내고 다닌다면서?\\n 너에 대해 이야기 한적 없어....   \n",
              "4  2654    기타 괴롭힘 대화  너 나랑 헤어지면 이거 니 주변 사람들한테 다 돌린다\\n이게 뭐야?\\n이게 뭐긴 우...   \n",
              "\n",
              "                   new_label  \\\n",
              "0      1,2,1,2,1,1,2,1,2,1,2   \n",
              "1  1,2,1,2,1,2,1,2,1,2,1,2,1   \n",
              "2        1,2,1,1,2,1,1,1,1,2   \n",
              "3          1,2,1,2,1,2,1,2,1   \n",
              "4        1,2,1,2,1,2,1,2,1,2   \n",
              "\n",
              "                                  split_conversation  \n",
              "0  [야 니동생 엄청 예쁘더라, 미안해. 우리동생 건들지 말아줘. 나 절대 다시 못들어...  \n",
              "1  [어 이과장이 이번에 곧 승진이라고 했나?, 맞습니다., 그러면 너가 일을 해줘야 ...  \n",
              "2  [야 병신! 넌 학교 왜 나오냐? 어차피 졸업해도 취직도 못할텐데, 저리가, 줘리가...  \n",
              "3  [야 니가 나에 대해 이상한 소문 내고 다닌다면서?,  너에 대해 이야기 한적 없어...  \n",
              "4  [너 나랑 헤어지면 이거 니 주변 사람들한테 다 돌린다, 이게 뭐야?, 이게 뭐긴 ...  "
            ],
            "text/html": [
              "\n",
              "  <div id=\"df-3a464616-8cc1-4e71-8cd4-73e023af8dd3\">\n",
              "    <div class=\"colab-df-container\">\n",
              "      <div>\n",
              "<style scoped>\n",
              "    .dataframe tbody tr th:only-of-type {\n",
              "        vertical-align: middle;\n",
              "    }\n",
              "\n",
              "    .dataframe tbody tr th {\n",
              "        vertical-align: top;\n",
              "    }\n",
              "\n",
              "    .dataframe thead th {\n",
              "        text-align: right;\n",
              "    }\n",
              "</style>\n",
              "<table border=\"1\" class=\"dataframe\">\n",
              "  <thead>\n",
              "    <tr style=\"text-align: right;\">\n",
              "      <th></th>\n",
              "      <th>idx</th>\n",
              "      <th>class</th>\n",
              "      <th>conversation</th>\n",
              "      <th>new_label</th>\n",
              "      <th>split_conversation</th>\n",
              "    </tr>\n",
              "  </thead>\n",
              "  <tbody>\n",
              "    <tr>\n",
              "      <th>0</th>\n",
              "      <td>2650</td>\n",
              "      <td>협박 대화</td>\n",
              "      <td>야 니동생 엄청 예쁘더라\\n미안해. 우리동생 건들지 말아줘. 나 절대 다시 못들어가...</td>\n",
              "      <td>1,2,1,2,1,1,2,1,2,1,2</td>\n",
              "      <td>[야 니동생 엄청 예쁘더라, 미안해. 우리동생 건들지 말아줘. 나 절대 다시 못들어...</td>\n",
              "    </tr>\n",
              "    <tr>\n",
              "      <th>1</th>\n",
              "      <td>2651</td>\n",
              "      <td>직장 내 괴롭힘 대화</td>\n",
              "      <td>어 이과장이 이번에 곧 승진이라고 했나?\\n맞습니다.\\n그러면 너가 일을 해줘야 겠...</td>\n",
              "      <td>1,2,1,2,1,2,1,2,1,2,1,2,1</td>\n",
              "      <td>[어 이과장이 이번에 곧 승진이라고 했나?, 맞습니다., 그러면 너가 일을 해줘야 ...</td>\n",
              "    </tr>\n",
              "    <tr>\n",
              "      <th>2</th>\n",
              "      <td>2652</td>\n",
              "      <td>기타 괴롭힘 대화</td>\n",
              "      <td>야 병신! 넌 학교 왜 나오냐? 어차피 졸업해도 취직도 못할텐데\\n저리가\\n줘리가야...</td>\n",
              "      <td>1,2,1,1,2,1,1,1,1,2</td>\n",
              "      <td>[야 병신! 넌 학교 왜 나오냐? 어차피 졸업해도 취직도 못할텐데, 저리가, 줘리가...</td>\n",
              "    </tr>\n",
              "    <tr>\n",
              "      <th>3</th>\n",
              "      <td>2653</td>\n",
              "      <td>협박 대화</td>\n",
              "      <td>야 니가 나에 대해 이상한 소문 내고 다닌다면서?\\n 너에 대해 이야기 한적 없어....</td>\n",
              "      <td>1,2,1,2,1,2,1,2,1</td>\n",
              "      <td>[야 니가 나에 대해 이상한 소문 내고 다닌다면서?,  너에 대해 이야기 한적 없어...</td>\n",
              "    </tr>\n",
              "    <tr>\n",
              "      <th>4</th>\n",
              "      <td>2654</td>\n",
              "      <td>기타 괴롭힘 대화</td>\n",
              "      <td>너 나랑 헤어지면 이거 니 주변 사람들한테 다 돌린다\\n이게 뭐야?\\n이게 뭐긴 우...</td>\n",
              "      <td>1,2,1,2,1,2,1,2,1,2</td>\n",
              "      <td>[너 나랑 헤어지면 이거 니 주변 사람들한테 다 돌린다, 이게 뭐야?, 이게 뭐긴 ...</td>\n",
              "    </tr>\n",
              "  </tbody>\n",
              "</table>\n",
              "</div>\n",
              "      <button class=\"colab-df-convert\" onclick=\"convertToInteractive('df-3a464616-8cc1-4e71-8cd4-73e023af8dd3')\"\n",
              "              title=\"Convert this dataframe to an interactive table.\"\n",
              "              style=\"display:none;\">\n",
              "        \n",
              "  <svg xmlns=\"http://www.w3.org/2000/svg\" height=\"24px\"viewBox=\"0 0 24 24\"\n",
              "       width=\"24px\">\n",
              "    <path d=\"M0 0h24v24H0V0z\" fill=\"none\"/>\n",
              "    <path d=\"M18.56 5.44l.94 2.06.94-2.06 2.06-.94-2.06-.94-.94-2.06-.94 2.06-2.06.94zm-11 1L8.5 8.5l.94-2.06 2.06-.94-2.06-.94L8.5 2.5l-.94 2.06-2.06.94zm10 10l.94 2.06.94-2.06 2.06-.94-2.06-.94-.94-2.06-.94 2.06-2.06.94z\"/><path d=\"M17.41 7.96l-1.37-1.37c-.4-.4-.92-.59-1.43-.59-.52 0-1.04.2-1.43.59L10.3 9.45l-7.72 7.72c-.78.78-.78 2.05 0 2.83L4 21.41c.39.39.9.59 1.41.59.51 0 1.02-.2 1.41-.59l7.78-7.78 2.81-2.81c.8-.78.8-2.07 0-2.86zM5.41 20L4 18.59l7.72-7.72 1.47 1.35L5.41 20z\"/>\n",
              "  </svg>\n",
              "      </button>\n",
              "      \n",
              "  <style>\n",
              "    .colab-df-container {\n",
              "      display:flex;\n",
              "      flex-wrap:wrap;\n",
              "      gap: 12px;\n",
              "    }\n",
              "\n",
              "    .colab-df-convert {\n",
              "      background-color: #E8F0FE;\n",
              "      border: none;\n",
              "      border-radius: 50%;\n",
              "      cursor: pointer;\n",
              "      display: none;\n",
              "      fill: #1967D2;\n",
              "      height: 32px;\n",
              "      padding: 0 0 0 0;\n",
              "      width: 32px;\n",
              "    }\n",
              "\n",
              "    .colab-df-convert:hover {\n",
              "      background-color: #E2EBFA;\n",
              "      box-shadow: 0px 1px 2px rgba(60, 64, 67, 0.3), 0px 1px 3px 1px rgba(60, 64, 67, 0.15);\n",
              "      fill: #174EA6;\n",
              "    }\n",
              "\n",
              "    [theme=dark] .colab-df-convert {\n",
              "      background-color: #3B4455;\n",
              "      fill: #D2E3FC;\n",
              "    }\n",
              "\n",
              "    [theme=dark] .colab-df-convert:hover {\n",
              "      background-color: #434B5C;\n",
              "      box-shadow: 0px 1px 3px 1px rgba(0, 0, 0, 0.15);\n",
              "      filter: drop-shadow(0px 1px 2px rgba(0, 0, 0, 0.3));\n",
              "      fill: #FFFFFF;\n",
              "    }\n",
              "  </style>\n",
              "\n",
              "      <script>\n",
              "        const buttonEl =\n",
              "          document.querySelector('#df-3a464616-8cc1-4e71-8cd4-73e023af8dd3 button.colab-df-convert');\n",
              "        buttonEl.style.display =\n",
              "          google.colab.kernel.accessAllowed ? 'block' : 'none';\n",
              "\n",
              "        async function convertToInteractive(key) {\n",
              "          const element = document.querySelector('#df-3a464616-8cc1-4e71-8cd4-73e023af8dd3');\n",
              "          const dataTable =\n",
              "            await google.colab.kernel.invokeFunction('convertToInteractive',\n",
              "                                                     [key], {});\n",
              "          if (!dataTable) return;\n",
              "\n",
              "          const docLinkHtml = 'Like what you see? Visit the ' +\n",
              "            '<a target=\"_blank\" href=https://colab.research.google.com/notebooks/data_table.ipynb>data table notebook</a>'\n",
              "            + ' to learn more about interactive tables.';\n",
              "          element.innerHTML = '';\n",
              "          dataTable['output_type'] = 'display_data';\n",
              "          await google.colab.output.renderOutput(dataTable, element);\n",
              "          const docLink = document.createElement('div');\n",
              "          docLink.innerHTML = docLinkHtml;\n",
              "          element.appendChild(docLink);\n",
              "        }\n",
              "      </script>\n",
              "    </div>\n",
              "  </div>\n",
              "  "
            ]
          },
          "metadata": {},
          "execution_count": 125
        }
      ]
    },
    {
      "cell_type": "code",
      "source": [
        "data_3.rename(columns = {\"new_label\": \"labelling\"}, inplace = True)"
      ],
      "metadata": {
        "id": "LIEPlzyjdYmH"
      },
      "execution_count": 126,
      "outputs": []
    },
    {
      "cell_type": "code",
      "source": [
        "label_sentence_3, error_sentence_3 = label_mapping(data_3)"
      ],
      "metadata": {
        "id": "Kfp6c7fcdMs1"
      },
      "execution_count": 127,
      "outputs": []
    },
    {
      "cell_type": "code",
      "source": [
        "label_sentence_3[1]"
      ],
      "metadata": {
        "colab": {
          "base_uri": "https://localhost:8080/"
        },
        "id": "Nu6ig9NydUjK",
        "outputId": "a039ab9a-5603-4eed-89ac-aca7edae1889"
      },
      "execution_count": 128,
      "outputs": [
        {
          "output_type": "execute_result",
          "data": {
            "text/plain": [
              "['1:어 이과장이 이번에 곧 승진이라고 했나?',\n",
              " '2:맞습니다.',\n",
              " '1:그러면 너가 일을 해줘야 겠어',\n",
              " '2:네?',\n",
              " '1:이번에 낙하산이 한명 들어올거야.',\n",
              " '2:네?',\n",
              " '1:그럼 너가 잘관리 좀 해줘.',\n",
              " '2:아 제가요.?',\n",
              " '1:그래 이번에 승진인데 일 좀 해야지?',\n",
              " '2:아.',\n",
              " '1:왜 싫어?',\n",
              " '2:아닙니다.',\n",
              " '1:그래 가족도 있는데 열심히 해야지.']"
            ]
          },
          "metadata": {},
          "execution_count": 128
        }
      ]
    },
    {
      "cell_type": "code",
      "source": [
        "error_sentence_3"
      ],
      "metadata": {
        "colab": {
          "base_uri": "https://localhost:8080/"
        },
        "id": "ANEuTb7NddZ6",
        "outputId": "473d4b16-828a-472c-e932-ac9c90d3f110"
      },
      "execution_count": 129,
      "outputs": [
        {
          "output_type": "execute_result",
          "data": {
            "text/plain": [
              "[]"
            ]
          },
          "metadata": {},
          "execution_count": 129
        }
      ]
    },
    {
      "cell_type": "code",
      "source": [
        "data_3.duplicated(['conversation']).sum()"
      ],
      "metadata": {
        "colab": {
          "base_uri": "https://localhost:8080/"
        },
        "id": "JJWUBGvld1fn",
        "outputId": "6fa45756-866e-4ae2-d834-8cf35a5d4d78"
      },
      "execution_count": 131,
      "outputs": [
        {
          "output_type": "execute_result",
          "data": {
            "text/plain": [
              "10"
            ]
          },
          "metadata": {},
          "execution_count": 131
        }
      ]
    },
    {
      "cell_type": "code",
      "source": [
        "data_3.drop_duplicates(['conversation'], keep='first', inplace=True)"
      ],
      "metadata": {
        "id": "wH0nz2Z1eYMf"
      },
      "execution_count": 136,
      "outputs": []
    },
    {
      "cell_type": "code",
      "source": [
        "data_3.duplicated(['conversation']).sum()"
      ],
      "metadata": {
        "colab": {
          "base_uri": "https://localhost:8080/"
        },
        "id": "_umPyuN5y8Hg",
        "outputId": "26963df9-824c-49fe-f4aa-bd8bf8edfbdd"
      },
      "execution_count": 137,
      "outputs": [
        {
          "output_type": "execute_result",
          "data": {
            "text/plain": [
              "0"
            ]
          },
          "metadata": {},
          "execution_count": 137
        }
      ]
    },
    {
      "cell_type": "code",
      "source": [],
      "metadata": {
        "id": "FYcQOm2wzC0W"
      },
      "execution_count": null,
      "outputs": []
    }
  ]
}