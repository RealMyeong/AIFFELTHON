{
  "nbformat": 4,
  "nbformat_minor": 0,
  "metadata": {
    "colab": {
      "provenance": [],
      "mount_file_id": "1yjLa5Ht6lV7lRumGSmCWxXuc-wu2nlJb",
      "authorship_tag": "ABX9TyMg7LtkRGObvOu6LjuNJkCp",
      "include_colab_link": true
    },
    "kernelspec": {
      "name": "python3",
      "display_name": "Python 3"
    },
    "language_info": {
      "name": "python"
    }
  },
  "cells": [
    {
      "cell_type": "markdown",
      "metadata": {
        "id": "view-in-github",
        "colab_type": "text"
      },
      "source": [
        "<a href=\"https://colab.research.google.com/github/RealMyeong/AIFFELTHON/blob/main/JinMyeong/TUNiB%26Extra_data_Analysis.ipynb\" target=\"_parent\"><img src=\"https://colab.research.google.com/assets/colab-badge.svg\" alt=\"Open In Colab\"/></a>"
      ]
    },
    {
      "cell_type": "code",
      "execution_count": 1,
      "metadata": {
        "id": "DXruzLpX-h2q"
      },
      "outputs": [],
      "source": [
        "import numpy as np\n",
        "import pandas as pd\n",
        "import matplotlib.pyplot as plt\n",
        "import seaborn as sns"
      ]
    },
    {
      "cell_type": "code",
      "source": [
        "!unzip -qq \"/content/drive/MyDrive/AIFFELTHON/일반대화/TS_01. KAKAO(1).zip\" -d \"/content/drive/MyDrive/AIFFELTHON/일반대화/TS_KAKAO\"\n"
      ],
      "metadata": {
        "colab": {
          "base_uri": "https://localhost:8080/"
        },
        "id": "d8rrwqmm608E",
        "outputId": "5b277686-1715-4a3f-de6e-e7d80e34ca65"
      },
      "execution_count": 2,
      "outputs": [
        {
          "output_type": "stream",
          "name": "stdout",
          "text": [
            "replace /content/drive/MyDrive/AIFFELTHON/일반대화/TS_KAKAO/KAKAO_898_17.txt? [y]es, [n]o, [A]ll, [N]one, [r]ename: N\n"
          ]
        }
      ]
    },
    {
      "cell_type": "code",
      "source": [
        "!unzip -qq \"/content/drive/MyDrive/AIFFELTHON/일반대화/TS_3.education.zip\" -d \"/content/drive/MyDrive/AIFFELTHON/일반대화/TS_EDU\"\n"
      ],
      "metadata": {
        "colab": {
          "base_uri": "https://localhost:8080/"
        },
        "id": "BUVmXSP67H8T",
        "outputId": "10d4d09f-e7f7-4ef9-b81e-74e068727519"
      },
      "execution_count": 3,
      "outputs": [
        {
          "output_type": "stream",
          "name": "stdout",
          "text": [
            "replace /content/drive/MyDrive/AIFFELTHON/일반대화/TS_EDU/01.프로그램문의/education1_0603.txt? [y]es, [n]o, [A]ll, [N]one, [r]ename: N\n"
          ]
        }
      ]
    },
    {
      "cell_type": "markdown",
      "source": [
        "- 카카오톡 대화 내용"
      ],
      "metadata": {
        "id": "h16oJ-WP_dFM"
      }
    },
    {
      "cell_type": "code",
      "source": [
        "import os\n",
        "\n",
        "dir_path = '/content/drive/MyDrive/AIFFELTHON/일반대화/TS_KAKAO'\n",
        "\n",
        "file_list = os.listdir(dir_path)\n"
      ],
      "metadata": {
        "id": "_Y6mYFHm9NKg"
      },
      "execution_count": 4,
      "outputs": []
    },
    {
      "cell_type": "code",
      "source": [
        "len(file_list), file_list[2]"
      ],
      "metadata": {
        "colab": {
          "base_uri": "https://localhost:8080/"
        },
        "id": "T-v2F7Eu-EB0",
        "outputId": "fd5f4636-aa98-4ca7-8fbb-8fde946d796b"
      },
      "execution_count": 5,
      "outputs": [
        {
          "output_type": "execute_result",
          "data": {
            "text/plain": [
              "(18000, 'KAKAO_898_19.txt')"
            ]
          },
          "metadata": {},
          "execution_count": 5
        }
      ]
    },
    {
      "cell_type": "code",
      "source": [
        "file_list"
      ],
      "metadata": {
        "id": "7tP70d8UCdJj"
      },
      "execution_count": null,
      "outputs": []
    },
    {
      "cell_type": "code",
      "source": [
        "kakao_text_list = []\n",
        "for i in file_list:\n",
        "  with open(f'{dir_path}/{i}', 'r') as f:\n",
        "    list_file = []\n",
        "    for line in f:\n",
        "      line = line.strip()\n",
        "      list_file.append(line)\n",
        "  kakao_text_list.append(list_file)"
      ],
      "metadata": {
        "id": "nzmlqLYq-Enn"
      },
      "execution_count": 7,
      "outputs": []
    },
    {
      "cell_type": "code",
      "source": [
        "len(kakao_text_list)"
      ],
      "metadata": {
        "colab": {
          "base_uri": "https://localhost:8080/"
        },
        "id": "-DYMO7eVB64Q",
        "outputId": "63827db1-d9c3-4056-ee18-d3e6b7dd5765"
      },
      "execution_count": 8,
      "outputs": [
        {
          "output_type": "execute_result",
          "data": {
            "text/plain": [
              "18000"
            ]
          },
          "metadata": {},
          "execution_count": 8
        }
      ]
    },
    {
      "cell_type": "code",
      "source": [
        "kakao_text_list[1]"
      ],
      "metadata": {
        "colab": {
          "base_uri": "https://localhost:8080/"
        },
        "id": "zZhQ6jUp_G70",
        "outputId": "698df099-d694-4cd0-fe26-fe442cf8dc5a"
      },
      "execution_count": 9,
      "outputs": [
        {
          "output_type": "execute_result",
          "data": {
            "text/plain": [
              "['1 : 요즘 택배가 참 편하긴 한 것 같아요',\n",
              " '2 : 맞아요,\\xa0옛날엔\\xa0몰랐는데\\xa0새벽\\xa0배송에\\xa0로켓\\xa0배송까지...',\n",
              " '3 : 그래서 전 뭐든 대부분 전자상거래로 사는 것 같아요',\n",
              " '1 : 전 쇼핑몰 가본 지가... 엄청 오래되었어요',\n",
              " '2 : 저도요!\\xa0가격도\\xa0더\\xa0저렴하고요',\n",
              " '3 : 그것도 그런데 거래한 사람의 후기를 볼 수 있는 게 가장 좋아요',\n",
              " '1 : 음 그것도 그렇긴 해요',\n",
              " '2 : 근데\\xa0전\\xa0개인적으로\\xa0거래량이\\xa0많을수록\\xa0리뷰도\\xa0종\\xa0잡을\\xa0수가\\xa0없어요',\n",
              " '3 : 하긴... 좋다는 사람은 엄청 좋다 그러고 별로였단 사람은 또 반대니까...',\n",
              " '1 : 그래도 한 눈에 가격 비교도 가능하고 오프라인에 없는 것도 온라인에는 대부분 다 있어서 결국 온라인으로 사게 돼요',\n",
              " '2 : 그래도\\xa0저는\\xa0옷은\\xa0쇼핑몰\\xa0가서\\xa0입어\\xa0보고\\xa0사는게\\xa0더\\xa0편해요',\n",
              " '3 : 저희 엄마도 그러세요.',\n",
              " '1 : 인터넷으로 사면 실패하는 경우가 종종 있어서 그런 것 같아요',\n",
              " '2 : 전\\xa0전자상거래로는\\xa0식재료\\xa0\\xa0많이\\xa0사는\\xa0것\\xa0같아요',\n",
              " '3 : 오오 전 식재료는 상할까봐 불안해서 안 시켜봤는데... 어때요?',\n",
              " '1 : 저도 물이나 이런 건 시켜도 고기나 생선 야채들은 불안해서...',\n",
              " '2 : 아이스팩에\\xa0잘\\xa0포장되어\\xa0오더라고요!',\n",
              " '2 : 요즘 정말 잘 나와있어요',\n",
              " '3 : 오호라... 그렇구나 다음에 저도 식재료 주문해봐야겠어요',\n",
              " '1 : 어제 서점에 갔다가 정말 마음에 드는 책을 발견해서 사왔는데 오늘 인터넷이랑 비교하니까 가격 차이가 나서 아까워요',\n",
              " '2 : 아이고...\\xa0그래서\\xa0전\\xa0서점\\xa0가서\\xa0훑어보다\\xa0마음에\\xa0들면\\xa0인터넷이랑\\xa0\\xa0가격\\xa0비교해서\\xa0상황에\\xa0따라\\xa0구매해요',\n",
              " '3 : 전 주로 ebook을 많이 보는데 그게 훨씬 싸요!',\n",
              " '1 : 전 사실 아날로그가 좋아요 하하',\n",
              " '1 : 그래서 종이책을 더 선호해요',\n",
              " '2 : 전\\xa0책\\xa0냄새\\xa0맡는\\xa0걸\\xa0좋아해서\\xa0저도\\xa0종이책이\\xa0더\\xa0좋아요',\n",
              " '3 : 저희 엄마도 분위기 있는 종이책을 더 선호하시기는 하더라고요']"
            ]
          },
          "metadata": {},
          "execution_count": 9
        }
      ]
    },
    {
      "cell_type": "markdown",
      "source": [
        "- 주제별 일반 대화 내용"
      ],
      "metadata": {
        "id": "2LDwCd4r_g-S"
      }
    },
    {
      "cell_type": "code",
      "source": [
        "dir_path_list = []\n",
        "\n",
        "master_dir_path = '/content/drive/MyDrive/AIFFELTHON/일반대화/TS_EDU'\n",
        "dir_list = os.listdir(master_dir_path)\n",
        "\n",
        "for i in dir_list:\n",
        "  dir_path = f'{master_dir_path}/{i}'\n",
        "  dir_path_list.append(dir_path)\n",
        "\n",
        "\n",
        "edu_text_list = []\n",
        "for i in dir_path_list:\n",
        "  file_list = os.listdir(i)\n",
        "  for j in file_list:\n",
        "    with open(f'{i}/{j}', 'r') as f:\n",
        "      list_file = []\n",
        "      for line in f:\n",
        "        line = line.strip()\n",
        "        list_file.append(line)\n",
        "    edu_text_list.append(list_file)"
      ],
      "metadata": {
        "id": "3h1V6aco_KbN"
      },
      "execution_count": 10,
      "outputs": []
    },
    {
      "cell_type": "code",
      "source": [
        "len(edu_text_list)"
      ],
      "metadata": {
        "colab": {
          "base_uri": "https://localhost:8080/"
        },
        "id": "_tvqQUpP_5LG",
        "outputId": "6b8497b4-b4b8-461f-b0e6-cdb0ab8c7952"
      },
      "execution_count": 11,
      "outputs": [
        {
          "output_type": "execute_result",
          "data": {
            "text/plain": [
              "6393"
            ]
          },
          "metadata": {},
          "execution_count": 11
        }
      ]
    },
    {
      "cell_type": "code",
      "source": [
        "edu_text_list[1]"
      ],
      "metadata": {
        "colab": {
          "base_uri": "https://localhost:8080/"
        },
        "id": "ekgyPbra_5rt",
        "outputId": "52c640f4-83fe-4905-9d0e-784a3d3fda1c"
      },
      "execution_count": 12,
      "outputs": [
        {
          "output_type": "execute_result",
          "data": {
            "text/plain": [
              "['A.합격을 기원합니다 #@소속# 고객센터 #@이름#입니다',\n",
              " 'B.네 궁금한 게 있는데요',\n",
              " 'A.네 고객님 편하게 말씀하세요',\n",
              " 'B.제가 중간고사 대비 특강을 신청하려고 하는데요 여러 번 들을 수 있는 건가요',\n",
              " 'A.네 고객님 구매하신 강좌는 횟수 제한 없이 반복 수강 가능하세요',\n",
              " 'B.아 그래요 근데 수강 기간이 있잖아요',\n",
              " 'A.네 물론 수강 기간 동안만 반복 수강하실 수 있으십니다',\n",
              " 'B.그렇죠 혹시나 해서요',\n",
              " 'A.네 고객님 다른 궁금하신 사항 없으실까요',\n",
              " 'B.궁금한거 생기면 또 전화드릴게요 수고하세요',\n",
              " 'A.네 좋은 하루 되세요 상담원 #@이름#이었습니다']"
            ]
          },
          "metadata": {},
          "execution_count": 12
        }
      ]
    }
  ]
}