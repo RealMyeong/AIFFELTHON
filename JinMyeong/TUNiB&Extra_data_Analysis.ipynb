{
  "nbformat": 4,
  "nbformat_minor": 0,
  "metadata": {
    "colab": {
      "provenance": [],
      "mount_file_id": "1yjLa5Ht6lV7lRumGSmCWxXuc-wu2nlJb",
      "authorship_tag": "ABX9TyNM+XfXvfapuIe0I36fXCVw",
      "include_colab_link": true
    },
    "kernelspec": {
      "name": "python3",
      "display_name": "Python 3"
    },
    "language_info": {
      "name": "python"
    }
  },
  "cells": [
    {
      "cell_type": "markdown",
      "metadata": {
        "id": "view-in-github",
        "colab_type": "text"
      },
      "source": [
        "<a href=\"https://colab.research.google.com/github/RealMyeong/AIFFELTHON/blob/main/JinMyeong/TUNiB%26Extra_data_Analysis.ipynb\" target=\"_parent\"><img src=\"https://colab.research.google.com/assets/colab-badge.svg\" alt=\"Open In Colab\"/></a>"
      ]
    },
    {
      "cell_type": "code",
      "execution_count": 1,
      "metadata": {
        "id": "DXruzLpX-h2q"
      },
      "outputs": [],
      "source": [
        "import numpy as np\n",
        "import pandas as pd\n",
        "import matplotlib.pyplot as plt\n",
        "import seaborn as sns"
      ]
    },
    {
      "cell_type": "code",
      "source": [
        "!unzip -qq \"/content/drive/MyDrive/AIFFELTHON/일반대화/TS_01. KAKAO(1).zip\" -d \"/content/drive/MyDrive/AIFFELTHON/일반대화/TS_KAKAO\"\n"
      ],
      "metadata": {
        "colab": {
          "base_uri": "https://localhost:8080/"
        },
        "id": "d8rrwqmm608E",
        "outputId": "76e74d1d-1b94-4b70-93b9-e5dc33314760"
      },
      "execution_count": 2,
      "outputs": [
        {
          "output_type": "stream",
          "name": "stdout",
          "text": [
            "replace /content/drive/MyDrive/AIFFELTHON/일반대화/TS_KAKAO/KAKAO_898_17.txt? [y]es, [n]o, [A]ll, [N]one, [r]ename: N\n"
          ]
        }
      ]
    },
    {
      "cell_type": "code",
      "source": [
        "!unzip -qq \"/content/drive/MyDrive/AIFFELTHON/일반대화/TS_3.education.zip\" -d \"/content/drive/MyDrive/AIFFELTHON/일반대화/TS_EDU\"\n"
      ],
      "metadata": {
        "id": "BUVmXSP67H8T"
      },
      "execution_count": 3,
      "outputs": []
    },
    {
      "cell_type": "code",
      "source": [
        "!unzip -qq \"/content/drive/MyDrive/AIFFELTHON/일반대화/TS_2.civil complaint.zip\" -d \"/content/drive/MyDrive/AIFFELTHON/일반대화/TS_Civil\"\n"
      ],
      "metadata": {
        "id": "qLq6bqFeGa2H"
      },
      "execution_count": 4,
      "outputs": []
    },
    {
      "cell_type": "code",
      "source": [
        "!unzip -qq \"/content/drive/MyDrive/AIFFELTHON/일반대화/TS_1.shopping.zip\" -d \"/content/drive/MyDrive/AIFFELTHON/일반대화/TS_Shopping\"\n"
      ],
      "metadata": {
        "id": "a-HCoUfCGoiR"
      },
      "execution_count": 5,
      "outputs": []
    },
    {
      "cell_type": "markdown",
      "source": [
        "- 카카오톡 대화 내용"
      ],
      "metadata": {
        "id": "h16oJ-WP_dFM"
      }
    },
    {
      "cell_type": "code",
      "source": [
        "import os\n",
        "\n",
        "dir_path = '/content/drive/MyDrive/AIFFELTHON/일반대화/TS_KAKAO'\n",
        "\n",
        "file_list = os.listdir(dir_path)\n"
      ],
      "metadata": {
        "id": "_Y6mYFHm9NKg"
      },
      "execution_count": 6,
      "outputs": []
    },
    {
      "cell_type": "code",
      "source": [
        "len(file_list), file_list[2]"
      ],
      "metadata": {
        "colab": {
          "base_uri": "https://localhost:8080/"
        },
        "id": "T-v2F7Eu-EB0",
        "outputId": "b73ce687-cff1-4d2e-a092-a19d07477ff5"
      },
      "execution_count": 7,
      "outputs": [
        {
          "output_type": "execute_result",
          "data": {
            "text/plain": [
              "(18000, 'KAKAO_1664_19.txt')"
            ]
          },
          "metadata": {},
          "execution_count": 7
        }
      ]
    },
    {
      "cell_type": "code",
      "source": [
        "file_list"
      ],
      "metadata": {
        "id": "7tP70d8UCdJj"
      },
      "execution_count": null,
      "outputs": []
    },
    {
      "cell_type": "code",
      "source": [
        "kakao_text_list = []\n",
        "for i in file_list:\n",
        "  with open(f'{dir_path}/{i}', 'r') as f:\n",
        "    list_file = []\n",
        "    for line in f:\n",
        "      line = line.strip()\n",
        "      list_file.append(line)\n",
        "  kakao_text_list.append(list_file)"
      ],
      "metadata": {
        "id": "nzmlqLYq-Enn"
      },
      "execution_count": 9,
      "outputs": []
    },
    {
      "cell_type": "code",
      "source": [
        "len(kakao_text_list)"
      ],
      "metadata": {
        "colab": {
          "base_uri": "https://localhost:8080/"
        },
        "id": "-DYMO7eVB64Q",
        "outputId": "93aac90a-883e-410f-d11a-eab940a22619"
      },
      "execution_count": 10,
      "outputs": [
        {
          "output_type": "execute_result",
          "data": {
            "text/plain": [
              "18000"
            ]
          },
          "metadata": {},
          "execution_count": 10
        }
      ]
    },
    {
      "cell_type": "code",
      "source": [
        "kakao_text_list[1]"
      ],
      "metadata": {
        "colab": {
          "base_uri": "https://localhost:8080/"
        },
        "id": "zZhQ6jUp_G70",
        "outputId": "211ee51d-ab02-461a-93b8-6af3c0d9a3cf"
      },
      "execution_count": 11,
      "outputs": [
        {
          "output_type": "execute_result",
          "data": {
            "text/plain": [
              "['1 : 주말에 여행 계획 세워야지 키키',\n",
              " '2 : 여행 가려고? 어디로 키키',\n",
              " '1 : 아니 안 가도 미리 세워두려고 키키',\n",
              " '2 : 안 가는데 여행 계획을 왜 미리 세워 키키',\n",
              " '1 : 갈 맘 생기면 바로 예약하고 떠날 수 있게 키키',\n",
              " '2 : 키키 그것도 뭐 나쁘지 않네 ㅋ',\n",
              " '1 : 그치? 키키 여행 계획 세우는 거 은근 귀찮다고 키키',\n",
              " '2 : 키키 여행 다가와서 급하게 세우는 것보다 나은 거 같다 ㅋ',\n",
              " '1 : 응 키키 천천히 어디 갈지 여행 장소랑 경로 짜 놓으면 편할 거 같아 키키',\n",
              " '2 : 원래 여행 계획 안 세우지 않았어?',\n",
              " '1 : 키키 여행 계획 세워봤자 여행 가면 무조건 변수가 발생하니까 꼼꼼히 안 세우지 키키',\n",
              " '2 : 그렇긴 하지 키키 변수가 어떻게 발생할지 모르지 키키',\n",
              " '1 : 그러니까 키키 그래도 대략적으로 미리 갈 곳 찾아보는 것 정도까진 괜찮은 거 같아 키키',\n",
              " '2 : 좋지 키키 여행 계획 열심히 세워봐 키키',\n",
              " '1 : 응 키키 일단 제주도 찾아봐야지',\n",
              " '1 : 키키 계획부터 기대되는군',\n",
              " '2 : 제주도 좋지 키키',\n",
              " '2 : 새로 갈 곳 많이 있을 듯 키키']"
            ]
          },
          "metadata": {},
          "execution_count": 11
        }
      ]
    },
    {
      "cell_type": "markdown",
      "source": [
        "- 주제별 일반 대화 내용"
      ],
      "metadata": {
        "id": "2LDwCd4r_g-S"
      }
    },
    {
      "cell_type": "code",
      "source": [
        "dir_path_list = []\n",
        "\n",
        "master_dir_path = '/content/drive/MyDrive/AIFFELTHON/일반대화/TS_EDU'\n",
        "dir_list = os.listdir(master_dir_path)\n",
        "\n",
        "for i in dir_list:\n",
        "  dir_path = f'{master_dir_path}/{i}'\n",
        "  dir_path_list.append(dir_path)\n",
        "\n",
        "\n",
        "edu_text_list = []\n",
        "for i in dir_path_list:\n",
        "  file_list = os.listdir(i)\n",
        "  for j in file_list:\n",
        "    with open(f'{i}/{j}', 'r') as f:\n",
        "      list_file = []\n",
        "      for line in f:\n",
        "        line = line.strip()\n",
        "        list_file.append(line)\n",
        "    edu_text_list.append(list_file)"
      ],
      "metadata": {
        "id": "3h1V6aco_KbN"
      },
      "execution_count": 12,
      "outputs": []
    },
    {
      "cell_type": "code",
      "source": [
        "len(edu_text_list)"
      ],
      "metadata": {
        "colab": {
          "base_uri": "https://localhost:8080/"
        },
        "id": "_tvqQUpP_5LG",
        "outputId": "c1ff0dbb-6fde-4535-d04e-178685321b95"
      },
      "execution_count": 13,
      "outputs": [
        {
          "output_type": "execute_result",
          "data": {
            "text/plain": [
              "6393"
            ]
          },
          "metadata": {},
          "execution_count": 13
        }
      ]
    },
    {
      "cell_type": "code",
      "source": [
        "edu_text_list[1]"
      ],
      "metadata": {
        "colab": {
          "base_uri": "https://localhost:8080/"
        },
        "id": "ekgyPbra_5rt",
        "outputId": "d3ba1364-1464-4d79-b1e5-45dbee3cec1c"
      },
      "execution_count": 14,
      "outputs": [
        {
          "output_type": "execute_result",
          "data": {
            "text/plain": [
              "['A.합격을 기원합니다 #@소속# 고객센터 #@이름#입니다',\n",
              " 'B.네 궁금한 게 있는데요',\n",
              " 'A.네 고객님 편하게 말씀하세요',\n",
              " 'B.제가 중간고사 대비 특강을 신청하려고 하는데요 여러 번 들을 수 있는 건가요',\n",
              " 'A.네 고객님 구매하신 강좌는 횟수 제한 없이 반복 수강 가능하세요',\n",
              " 'B.아 그래요 근데 수강 기간이 있잖아요',\n",
              " 'A.네 물론 수강 기간 동안만 반복 수강하실 수 있으십니다',\n",
              " 'B.그렇죠 혹시나 해서요',\n",
              " 'A.네 고객님 다른 궁금하신 사항 없으실까요',\n",
              " 'B.궁금한거 생기면 또 전화드릴게요 수고하세요',\n",
              " 'A.네 좋은 하루 되세요 상담원 #@이름#이었습니다']"
            ]
          },
          "metadata": {},
          "execution_count": 14
        }
      ]
    }
  ]
}