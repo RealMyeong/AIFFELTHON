{
  "nbformat": 4,
  "nbformat_minor": 0,
  "metadata": {
    "colab": {
      "provenance": [],
      "mount_file_id": "1txD2_ethdSGSAdsctTLl3tFXicWV_bRU",
      "authorship_tag": "ABX9TyN2u10gxaiMKwXAK1AWk3/z",
      "include_colab_link": true
    },
    "kernelspec": {
      "name": "python3",
      "display_name": "Python 3"
    },
    "language_info": {
      "name": "python"
    },
    "gpuClass": "standard",
    "accelerator": "GPU"
  },
  "cells": [
    {
      "cell_type": "markdown",
      "metadata": {
        "id": "view-in-github",
        "colab_type": "text"
      },
      "source": [
        "<a href=\"https://colab.research.google.com/github/RealMyeong/AIFFELTHON/blob/main/JinMyeong/BiLSTM.ipynb\" target=\"_parent\"><img src=\"https://colab.research.google.com/assets/colab-badge.svg\" alt=\"Open In Colab\"/></a>"
      ]
    },
    {
      "cell_type": "code",
      "execution_count": 1,
      "metadata": {
        "id": "QfAmaWUynrVY"
      },
      "outputs": [],
      "source": [
        "# %%bash\n",
        "# apt-get update\n",
        "# apt-get install g++ openjdk-8-jdk python-dev python3-dev\n",
        "# pip3 install JPype1\n",
        "# pip3 install konlpy"
      ]
    },
    {
      "cell_type": "code",
      "source": [
        "# %env JAVA_HOME \"/usr/lib/jvm/java-8-openjdk-amd64\""
      ],
      "metadata": {
        "id": "RT5b1pHJnut8"
      },
      "execution_count": 2,
      "outputs": []
    },
    {
      "cell_type": "code",
      "source": [
        "# # Mecab 설치\n",
        "# !apt-get update\n",
        "# !apt-get install g++ openjdk-8-jdk \n",
        "# !pip3 install konlpy JPype1-py3\n",
        "# !bash <(curl -s https://raw.githubusercontent.com/konlpy/konlpy/master/scripts/mecab.sh)"
      ],
      "metadata": {
        "id": "PPn8Bze1TRmm"
      },
      "execution_count": 3,
      "outputs": []
    },
    {
      "cell_type": "code",
      "source": [
        "# !sudo apt-get install -y fonts-nanum\n",
        "# !sudo fc-cache -fv\n",
        "# !rm ~/.cache/matplotlib -rf"
      ],
      "metadata": {
        "id": "MkuxlmGtTUsj"
      },
      "execution_count": 4,
      "outputs": []
    },
    {
      "cell_type": "code",
      "source": [
        "import pandas as pd\n",
        "import numpy as np\n",
        "import matplotlib.pyplot as plt\n",
        "import seaborn as sns\n",
        "import tensorflow as tf\n",
        "\n",
        "%matplotlib inline\n",
        "# 한글 지원 폰트\n",
        "plt.rc('font', family='NanumBarunGothic')\n",
        "\n",
        "# 마이너스 부호 \n",
        "plt.rcParams['axes.unicode_minus'] = False\n",
        "\n",
        "import re\n",
        "from tensorflow.keras.layers import Embedding, Dense, LSTM, Bidirectional\n",
        "from tensorflow.keras.models import Sequential\n",
        "from tensorflow.keras.models import load_model\n",
        "from tensorflow.keras.callbacks import EarlyStopping, ModelCheckpoint\n",
        "from tensorflow.keras.preprocessing.text import Tokenizer\n",
        "from tensorflow.keras.preprocessing.sequence import pad_sequences\n",
        "\n",
        "from konlpy.tag import Mecab\n",
        "\n",
        "vocab_size = 32000\n",
        "\n",
        "data = pd.read_csv('/content/drive/MyDrive/AIFFELTHON/TUNiB/train_1000.csv')"
      ],
      "metadata": {
        "id": "TSl2n3vGTYlD"
      },
      "execution_count": 5,
      "outputs": []
    },
    {
      "cell_type": "code",
      "source": [
        "data"
      ],
      "metadata": {
        "colab": {
          "base_uri": "https://localhost:8080/",
          "height": 572
        },
        "id": "XDs9O9NeUlOV",
        "outputId": "74fbc6e9-b951-4af3-cf65-aed63752faea"
      },
      "execution_count": 6,
      "outputs": [
        {
          "output_type": "execute_result",
          "data": {
            "text/plain": [
              "      Unnamed: 0                                 non_label_sentence  \\\n",
              "0              0  아오 요즘 맨날 늦게 자고 일찍 일어나니까 피부가 꺼슬꺼슬 다크 서클 잔뜩 내려옴\\...   \n",
              "1              1  고양이를 키우는 건 정말 즐거운 일이야 감자를 캐자\\n우리집 고양이는 보일러 틀어주...   \n",
              "2              2  조금 전에 뉴스 본 거 있어\\n아니 뉴스에 무슨 기사 떴어\\n완전 조금 전에 대박 ...   \n",
              "3              3  난 강아지 같은 푸근한 인상이 좋아\\n오 나는 원래 고양이 상 좋아했는데 나도 강아...   \n",
              "4              4  니는 폰 게임 자주 하는 편이가\\n가끔 삘 받으면 하긴 하는데 거의 안 하는 편 너...   \n",
              "...          ...                                                ...   \n",
              "4908        3908  준하야 넌 대가리가 왜 이렇게 크냐\\n내 머리가 뭐\\n밥 먹으면 대가리만 크냐 너는...   \n",
              "4909        3909  내가 지금 너 아들 김길준 데리고 있어  살리고 싶으면 계좌에 1억만 보내\\n예  ...   \n",
              "4910        3910  나는 씨 같은 사람 보면 참 신기하더라  어떻게 저렇게 살지\\n왜 그래  들리겠어\\...   \n",
              "4911        3911  누구 맘대로 여기서 장사하래\\n이게 무슨 일입니까\\n남의 구역에서 장사하려면 자릿세...   \n",
              "4912        3912  희정 씨\\n네\\n주말에 시간이 넘쳐나나 봐\\n갑자기 왜 그러세요\\n손이 빤짝빤짝 네...   \n",
              "\n",
              "                                         label_sentence        class  \\\n",
              "0     1:아오 요즘 맨날 늦게 자고 일찍 일어나니까 피부가 꺼슬꺼슬 다크 서클 잔뜩 내려...        일반 대화   \n",
              "1     1:고양이를 키우는 건 정말 즐거운 일이야 감자를 캐자\\n2:우리집 고양이는 보일러...        일반 대화   \n",
              "2     1:조금 전에 뉴스 본 거 있어\\n2:아니 뉴스에 무슨 기사 떴어\\n1:완전 조금 ...        일반 대화   \n",
              "3     1:난 강아지 같은 푸근한 인상이 좋아\\n2:오 나는 원래 고양이 상 좋아했는데 나...        일반 대화   \n",
              "4     1:니는 폰 게임 자주 하는 편이가\\n2:가끔 삘 받으면 하긴 하는데 거의 안 하는...        일반 대화   \n",
              "...                                                 ...          ...   \n",
              "4908  1:준하야 넌 대가리가 왜이렇게 크냐\\n2:내 머리가 뭐\\n1:밥먹으면 대가리만 크...    기타 괴롭힘 대화   \n",
              "4909  1:내가 지금 너 아들 김길준 데리고 있어  살리고 싶으면 계좌에 1억만 보내\\n2...        갈취 대화   \n",
              "4910  1:나는 씨 같은 사람 보면 참 신기하더라  어떻게 저렇게 살지\\n1:왜 그래  들...  직장 내 괴롭힘 대화   \n",
              "4911  1:누구맘대로 여기서 장사하래\\n2:이게 무슨일입니까\\n1:남의 구역에서 장사하려면...        갈취 대화   \n",
              "4912  1:희정씨\\n2:네\\n1:주말에 시간이 넘쳐나나봐\\n2:갑자기 왜그러세요\\n1:손이...  직장 내 괴롭힘 대화   \n",
              "\n",
              "     binary_class  \n",
              "0           일반 대화  \n",
              "1           일반 대화  \n",
              "2           일반 대화  \n",
              "3           일반 대화  \n",
              "4           일반 대화  \n",
              "...           ...  \n",
              "4908        공격 대화  \n",
              "4909        공격 대화  \n",
              "4910        공격 대화  \n",
              "4911        공격 대화  \n",
              "4912        공격 대화  \n",
              "\n",
              "[4913 rows x 5 columns]"
            ],
            "text/html": [
              "\n",
              "  <div id=\"df-b95757b4-21af-4398-a13b-ce5cc5c5e5fc\">\n",
              "    <div class=\"colab-df-container\">\n",
              "      <div>\n",
              "<style scoped>\n",
              "    .dataframe tbody tr th:only-of-type {\n",
              "        vertical-align: middle;\n",
              "    }\n",
              "\n",
              "    .dataframe tbody tr th {\n",
              "        vertical-align: top;\n",
              "    }\n",
              "\n",
              "    .dataframe thead th {\n",
              "        text-align: right;\n",
              "    }\n",
              "</style>\n",
              "<table border=\"1\" class=\"dataframe\">\n",
              "  <thead>\n",
              "    <tr style=\"text-align: right;\">\n",
              "      <th></th>\n",
              "      <th>Unnamed: 0</th>\n",
              "      <th>non_label_sentence</th>\n",
              "      <th>label_sentence</th>\n",
              "      <th>class</th>\n",
              "      <th>binary_class</th>\n",
              "    </tr>\n",
              "  </thead>\n",
              "  <tbody>\n",
              "    <tr>\n",
              "      <th>0</th>\n",
              "      <td>0</td>\n",
              "      <td>아오 요즘 맨날 늦게 자고 일찍 일어나니까 피부가 꺼슬꺼슬 다크 서클 잔뜩 내려옴\\...</td>\n",
              "      <td>1:아오 요즘 맨날 늦게 자고 일찍 일어나니까 피부가 꺼슬꺼슬 다크 서클 잔뜩 내려...</td>\n",
              "      <td>일반 대화</td>\n",
              "      <td>일반 대화</td>\n",
              "    </tr>\n",
              "    <tr>\n",
              "      <th>1</th>\n",
              "      <td>1</td>\n",
              "      <td>고양이를 키우는 건 정말 즐거운 일이야 감자를 캐자\\n우리집 고양이는 보일러 틀어주...</td>\n",
              "      <td>1:고양이를 키우는 건 정말 즐거운 일이야 감자를 캐자\\n2:우리집 고양이는 보일러...</td>\n",
              "      <td>일반 대화</td>\n",
              "      <td>일반 대화</td>\n",
              "    </tr>\n",
              "    <tr>\n",
              "      <th>2</th>\n",
              "      <td>2</td>\n",
              "      <td>조금 전에 뉴스 본 거 있어\\n아니 뉴스에 무슨 기사 떴어\\n완전 조금 전에 대박 ...</td>\n",
              "      <td>1:조금 전에 뉴스 본 거 있어\\n2:아니 뉴스에 무슨 기사 떴어\\n1:완전 조금 ...</td>\n",
              "      <td>일반 대화</td>\n",
              "      <td>일반 대화</td>\n",
              "    </tr>\n",
              "    <tr>\n",
              "      <th>3</th>\n",
              "      <td>3</td>\n",
              "      <td>난 강아지 같은 푸근한 인상이 좋아\\n오 나는 원래 고양이 상 좋아했는데 나도 강아...</td>\n",
              "      <td>1:난 강아지 같은 푸근한 인상이 좋아\\n2:오 나는 원래 고양이 상 좋아했는데 나...</td>\n",
              "      <td>일반 대화</td>\n",
              "      <td>일반 대화</td>\n",
              "    </tr>\n",
              "    <tr>\n",
              "      <th>4</th>\n",
              "      <td>4</td>\n",
              "      <td>니는 폰 게임 자주 하는 편이가\\n가끔 삘 받으면 하긴 하는데 거의 안 하는 편 너...</td>\n",
              "      <td>1:니는 폰 게임 자주 하는 편이가\\n2:가끔 삘 받으면 하긴 하는데 거의 안 하는...</td>\n",
              "      <td>일반 대화</td>\n",
              "      <td>일반 대화</td>\n",
              "    </tr>\n",
              "    <tr>\n",
              "      <th>...</th>\n",
              "      <td>...</td>\n",
              "      <td>...</td>\n",
              "      <td>...</td>\n",
              "      <td>...</td>\n",
              "      <td>...</td>\n",
              "    </tr>\n",
              "    <tr>\n",
              "      <th>4908</th>\n",
              "      <td>3908</td>\n",
              "      <td>준하야 넌 대가리가 왜 이렇게 크냐\\n내 머리가 뭐\\n밥 먹으면 대가리만 크냐 너는...</td>\n",
              "      <td>1:준하야 넌 대가리가 왜이렇게 크냐\\n2:내 머리가 뭐\\n1:밥먹으면 대가리만 크...</td>\n",
              "      <td>기타 괴롭힘 대화</td>\n",
              "      <td>공격 대화</td>\n",
              "    </tr>\n",
              "    <tr>\n",
              "      <th>4909</th>\n",
              "      <td>3909</td>\n",
              "      <td>내가 지금 너 아들 김길준 데리고 있어  살리고 싶으면 계좌에 1억만 보내\\n예  ...</td>\n",
              "      <td>1:내가 지금 너 아들 김길준 데리고 있어  살리고 싶으면 계좌에 1억만 보내\\n2...</td>\n",
              "      <td>갈취 대화</td>\n",
              "      <td>공격 대화</td>\n",
              "    </tr>\n",
              "    <tr>\n",
              "      <th>4910</th>\n",
              "      <td>3910</td>\n",
              "      <td>나는 씨 같은 사람 보면 참 신기하더라  어떻게 저렇게 살지\\n왜 그래  들리겠어\\...</td>\n",
              "      <td>1:나는 씨 같은 사람 보면 참 신기하더라  어떻게 저렇게 살지\\n1:왜 그래  들...</td>\n",
              "      <td>직장 내 괴롭힘 대화</td>\n",
              "      <td>공격 대화</td>\n",
              "    </tr>\n",
              "    <tr>\n",
              "      <th>4911</th>\n",
              "      <td>3911</td>\n",
              "      <td>누구 맘대로 여기서 장사하래\\n이게 무슨 일입니까\\n남의 구역에서 장사하려면 자릿세...</td>\n",
              "      <td>1:누구맘대로 여기서 장사하래\\n2:이게 무슨일입니까\\n1:남의 구역에서 장사하려면...</td>\n",
              "      <td>갈취 대화</td>\n",
              "      <td>공격 대화</td>\n",
              "    </tr>\n",
              "    <tr>\n",
              "      <th>4912</th>\n",
              "      <td>3912</td>\n",
              "      <td>희정 씨\\n네\\n주말에 시간이 넘쳐나나 봐\\n갑자기 왜 그러세요\\n손이 빤짝빤짝 네...</td>\n",
              "      <td>1:희정씨\\n2:네\\n1:주말에 시간이 넘쳐나나봐\\n2:갑자기 왜그러세요\\n1:손이...</td>\n",
              "      <td>직장 내 괴롭힘 대화</td>\n",
              "      <td>공격 대화</td>\n",
              "    </tr>\n",
              "  </tbody>\n",
              "</table>\n",
              "<p>4913 rows × 5 columns</p>\n",
              "</div>\n",
              "      <button class=\"colab-df-convert\" onclick=\"convertToInteractive('df-b95757b4-21af-4398-a13b-ce5cc5c5e5fc')\"\n",
              "              title=\"Convert this dataframe to an interactive table.\"\n",
              "              style=\"display:none;\">\n",
              "        \n",
              "  <svg xmlns=\"http://www.w3.org/2000/svg\" height=\"24px\"viewBox=\"0 0 24 24\"\n",
              "       width=\"24px\">\n",
              "    <path d=\"M0 0h24v24H0V0z\" fill=\"none\"/>\n",
              "    <path d=\"M18.56 5.44l.94 2.06.94-2.06 2.06-.94-2.06-.94-.94-2.06-.94 2.06-2.06.94zm-11 1L8.5 8.5l.94-2.06 2.06-.94-2.06-.94L8.5 2.5l-.94 2.06-2.06.94zm10 10l.94 2.06.94-2.06 2.06-.94-2.06-.94-.94-2.06-.94 2.06-2.06.94z\"/><path d=\"M17.41 7.96l-1.37-1.37c-.4-.4-.92-.59-1.43-.59-.52 0-1.04.2-1.43.59L10.3 9.45l-7.72 7.72c-.78.78-.78 2.05 0 2.83L4 21.41c.39.39.9.59 1.41.59.51 0 1.02-.2 1.41-.59l7.78-7.78 2.81-2.81c.8-.78.8-2.07 0-2.86zM5.41 20L4 18.59l7.72-7.72 1.47 1.35L5.41 20z\"/>\n",
              "  </svg>\n",
              "      </button>\n",
              "      \n",
              "  <style>\n",
              "    .colab-df-container {\n",
              "      display:flex;\n",
              "      flex-wrap:wrap;\n",
              "      gap: 12px;\n",
              "    }\n",
              "\n",
              "    .colab-df-convert {\n",
              "      background-color: #E8F0FE;\n",
              "      border: none;\n",
              "      border-radius: 50%;\n",
              "      cursor: pointer;\n",
              "      display: none;\n",
              "      fill: #1967D2;\n",
              "      height: 32px;\n",
              "      padding: 0 0 0 0;\n",
              "      width: 32px;\n",
              "    }\n",
              "\n",
              "    .colab-df-convert:hover {\n",
              "      background-color: #E2EBFA;\n",
              "      box-shadow: 0px 1px 2px rgba(60, 64, 67, 0.3), 0px 1px 3px 1px rgba(60, 64, 67, 0.15);\n",
              "      fill: #174EA6;\n",
              "    }\n",
              "\n",
              "    [theme=dark] .colab-df-convert {\n",
              "      background-color: #3B4455;\n",
              "      fill: #D2E3FC;\n",
              "    }\n",
              "\n",
              "    [theme=dark] .colab-df-convert:hover {\n",
              "      background-color: #434B5C;\n",
              "      box-shadow: 0px 1px 3px 1px rgba(0, 0, 0, 0.15);\n",
              "      filter: drop-shadow(0px 1px 2px rgba(0, 0, 0, 0.3));\n",
              "      fill: #FFFFFF;\n",
              "    }\n",
              "  </style>\n",
              "\n",
              "      <script>\n",
              "        const buttonEl =\n",
              "          document.querySelector('#df-b95757b4-21af-4398-a13b-ce5cc5c5e5fc button.colab-df-convert');\n",
              "        buttonEl.style.display =\n",
              "          google.colab.kernel.accessAllowed ? 'block' : 'none';\n",
              "\n",
              "        async function convertToInteractive(key) {\n",
              "          const element = document.querySelector('#df-b95757b4-21af-4398-a13b-ce5cc5c5e5fc');\n",
              "          const dataTable =\n",
              "            await google.colab.kernel.invokeFunction('convertToInteractive',\n",
              "                                                     [key], {});\n",
              "          if (!dataTable) return;\n",
              "\n",
              "          const docLinkHtml = 'Like what you see? Visit the ' +\n",
              "            '<a target=\"_blank\" href=https://colab.research.google.com/notebooks/data_table.ipynb>data table notebook</a>'\n",
              "            + ' to learn more about interactive tables.';\n",
              "          element.innerHTML = '';\n",
              "          dataTable['output_type'] = 'display_data';\n",
              "          await google.colab.output.renderOutput(dataTable, element);\n",
              "          const docLink = document.createElement('div');\n",
              "          docLink.innerHTML = docLinkHtml;\n",
              "          element.appendChild(docLink);\n",
              "        }\n",
              "      </script>\n",
              "    </div>\n",
              "  </div>\n",
              "  "
            ]
          },
          "metadata": {},
          "execution_count": 6
        }
      ]
    },
    {
      "cell_type": "code",
      "source": [
        "# 불용어 정의\n",
        "stopwords = ['도', '는', '다', '의', '가', '이', '은', '한', '에', '하', '고', '을', '를', '인', '듯', '과', '와', '네', '들', '듯', '지', '임', '게', '만', '게임', '겜', '되', '음', '면']"
      ],
      "metadata": {
        "id": "P6fs3Gk_UnzN"
      },
      "execution_count": 7,
      "outputs": []
    },
    {
      "cell_type": "code",
      "source": [
        "mecab = Mecab() \n",
        "\n",
        "data['tokenized'] = data['non_label_sentence'].apply(mecab.morphs)\n",
        "data['tokenized'] = data['tokenized'].apply(lambda x: [item for item in x if item not in stopwords])\n",
        "data"
      ],
      "metadata": {
        "colab": {
          "base_uri": "https://localhost:8080/",
          "height": 659
        },
        "id": "Q6C0_H41UyoK",
        "outputId": "b0f4492f-9b89-44cc-cd7a-3e1676312e70"
      },
      "execution_count": 8,
      "outputs": [
        {
          "output_type": "execute_result",
          "data": {
            "text/plain": [
              "      Unnamed: 0                                 non_label_sentence  \\\n",
              "0              0  아오 요즘 맨날 늦게 자고 일찍 일어나니까 피부가 꺼슬꺼슬 다크 서클 잔뜩 내려옴\\...   \n",
              "1              1  고양이를 키우는 건 정말 즐거운 일이야 감자를 캐자\\n우리집 고양이는 보일러 틀어주...   \n",
              "2              2  조금 전에 뉴스 본 거 있어\\n아니 뉴스에 무슨 기사 떴어\\n완전 조금 전에 대박 ...   \n",
              "3              3  난 강아지 같은 푸근한 인상이 좋아\\n오 나는 원래 고양이 상 좋아했는데 나도 강아...   \n",
              "4              4  니는 폰 게임 자주 하는 편이가\\n가끔 삘 받으면 하긴 하는데 거의 안 하는 편 너...   \n",
              "...          ...                                                ...   \n",
              "4908        3908  준하야 넌 대가리가 왜 이렇게 크냐\\n내 머리가 뭐\\n밥 먹으면 대가리만 크냐 너는...   \n",
              "4909        3909  내가 지금 너 아들 김길준 데리고 있어  살리고 싶으면 계좌에 1억만 보내\\n예  ...   \n",
              "4910        3910  나는 씨 같은 사람 보면 참 신기하더라  어떻게 저렇게 살지\\n왜 그래  들리겠어\\...   \n",
              "4911        3911  누구 맘대로 여기서 장사하래\\n이게 무슨 일입니까\\n남의 구역에서 장사하려면 자릿세...   \n",
              "4912        3912  희정 씨\\n네\\n주말에 시간이 넘쳐나나 봐\\n갑자기 왜 그러세요\\n손이 빤짝빤짝 네...   \n",
              "\n",
              "                                         label_sentence        class  \\\n",
              "0     1:아오 요즘 맨날 늦게 자고 일찍 일어나니까 피부가 꺼슬꺼슬 다크 서클 잔뜩 내려...        일반 대화   \n",
              "1     1:고양이를 키우는 건 정말 즐거운 일이야 감자를 캐자\\n2:우리집 고양이는 보일러...        일반 대화   \n",
              "2     1:조금 전에 뉴스 본 거 있어\\n2:아니 뉴스에 무슨 기사 떴어\\n1:완전 조금 ...        일반 대화   \n",
              "3     1:난 강아지 같은 푸근한 인상이 좋아\\n2:오 나는 원래 고양이 상 좋아했는데 나...        일반 대화   \n",
              "4     1:니는 폰 게임 자주 하는 편이가\\n2:가끔 삘 받으면 하긴 하는데 거의 안 하는...        일반 대화   \n",
              "...                                                 ...          ...   \n",
              "4908  1:준하야 넌 대가리가 왜이렇게 크냐\\n2:내 머리가 뭐\\n1:밥먹으면 대가리만 크...    기타 괴롭힘 대화   \n",
              "4909  1:내가 지금 너 아들 김길준 데리고 있어  살리고 싶으면 계좌에 1억만 보내\\n2...        갈취 대화   \n",
              "4910  1:나는 씨 같은 사람 보면 참 신기하더라  어떻게 저렇게 살지\\n1:왜 그래  들...  직장 내 괴롭힘 대화   \n",
              "4911  1:누구맘대로 여기서 장사하래\\n2:이게 무슨일입니까\\n1:남의 구역에서 장사하려면...        갈취 대화   \n",
              "4912  1:희정씨\\n2:네\\n1:주말에 시간이 넘쳐나나봐\\n2:갑자기 왜그러세요\\n1:손이...  직장 내 괴롭힘 대화   \n",
              "\n",
              "     binary_class                                          tokenized  \n",
              "0           일반 대화  [아오, 요즘, 맨날, 늦, 자, 일찍, 일어나, 니까, 피부, 꺼슬꺼슬, 다크, ...  \n",
              "1           일반 대화  [고양이, 키우, 건, 정말, 즐거운, 일, 야, 감자, 캐, 자, 우리, 집, 고...  \n",
              "2           일반 대화  [조금, 전, 뉴스, 본, 거, 있, 어, 아니, 뉴스, 무슨, 기사, 떴, 어, ...  \n",
              "3           일반 대화  [난, 강아지, 같, 푸근, 인상, 좋, 아, 오, 나, 원래, 고양이, 상, 좋,...  \n",
              "4           일반 대화  [니, 폰, 자주, 편이, 가끔, 삘, 받, 으면, 긴, 는데, 거의, 안, 편, ...  \n",
              "...           ...                                                ...  \n",
              "4908        공격 대화  [준, 야, 넌, 대가리, 왜, 이렇게, 크, 냐, 내, 머리, 뭐, 밥, 먹, 으...  \n",
              "4909        공격 대화  [내, 지금, 너, 아들, 김길준, 데리, 있, 어, 살리, 싶, 으면, 계좌, 1...  \n",
              "4910        공격 대화  [나, 씨, 같, 사람, 보, 참, 신기, 더라, 어떻게, 저렇게, 살, 왜, 그래...  \n",
              "4911        공격 대화  [누구, 맘대로, 여기, 서, 장사, 래, 이게, 무슨, 일, 입니까, 남, 구역,...  \n",
              "4912        공격 대화  [희정, 씨, 주말, 시간, 넘쳐나, 나, 봐, 갑자기, 왜, 그러, 세요, 손, ...  \n",
              "\n",
              "[4913 rows x 6 columns]"
            ],
            "text/html": [
              "\n",
              "  <div id=\"df-a68e22c7-fd5d-48d5-8a9a-f9417985896d\">\n",
              "    <div class=\"colab-df-container\">\n",
              "      <div>\n",
              "<style scoped>\n",
              "    .dataframe tbody tr th:only-of-type {\n",
              "        vertical-align: middle;\n",
              "    }\n",
              "\n",
              "    .dataframe tbody tr th {\n",
              "        vertical-align: top;\n",
              "    }\n",
              "\n",
              "    .dataframe thead th {\n",
              "        text-align: right;\n",
              "    }\n",
              "</style>\n",
              "<table border=\"1\" class=\"dataframe\">\n",
              "  <thead>\n",
              "    <tr style=\"text-align: right;\">\n",
              "      <th></th>\n",
              "      <th>Unnamed: 0</th>\n",
              "      <th>non_label_sentence</th>\n",
              "      <th>label_sentence</th>\n",
              "      <th>class</th>\n",
              "      <th>binary_class</th>\n",
              "      <th>tokenized</th>\n",
              "    </tr>\n",
              "  </thead>\n",
              "  <tbody>\n",
              "    <tr>\n",
              "      <th>0</th>\n",
              "      <td>0</td>\n",
              "      <td>아오 요즘 맨날 늦게 자고 일찍 일어나니까 피부가 꺼슬꺼슬 다크 서클 잔뜩 내려옴\\...</td>\n",
              "      <td>1:아오 요즘 맨날 늦게 자고 일찍 일어나니까 피부가 꺼슬꺼슬 다크 서클 잔뜩 내려...</td>\n",
              "      <td>일반 대화</td>\n",
              "      <td>일반 대화</td>\n",
              "      <td>[아오, 요즘, 맨날, 늦, 자, 일찍, 일어나, 니까, 피부, 꺼슬꺼슬, 다크, ...</td>\n",
              "    </tr>\n",
              "    <tr>\n",
              "      <th>1</th>\n",
              "      <td>1</td>\n",
              "      <td>고양이를 키우는 건 정말 즐거운 일이야 감자를 캐자\\n우리집 고양이는 보일러 틀어주...</td>\n",
              "      <td>1:고양이를 키우는 건 정말 즐거운 일이야 감자를 캐자\\n2:우리집 고양이는 보일러...</td>\n",
              "      <td>일반 대화</td>\n",
              "      <td>일반 대화</td>\n",
              "      <td>[고양이, 키우, 건, 정말, 즐거운, 일, 야, 감자, 캐, 자, 우리, 집, 고...</td>\n",
              "    </tr>\n",
              "    <tr>\n",
              "      <th>2</th>\n",
              "      <td>2</td>\n",
              "      <td>조금 전에 뉴스 본 거 있어\\n아니 뉴스에 무슨 기사 떴어\\n완전 조금 전에 대박 ...</td>\n",
              "      <td>1:조금 전에 뉴스 본 거 있어\\n2:아니 뉴스에 무슨 기사 떴어\\n1:완전 조금 ...</td>\n",
              "      <td>일반 대화</td>\n",
              "      <td>일반 대화</td>\n",
              "      <td>[조금, 전, 뉴스, 본, 거, 있, 어, 아니, 뉴스, 무슨, 기사, 떴, 어, ...</td>\n",
              "    </tr>\n",
              "    <tr>\n",
              "      <th>3</th>\n",
              "      <td>3</td>\n",
              "      <td>난 강아지 같은 푸근한 인상이 좋아\\n오 나는 원래 고양이 상 좋아했는데 나도 강아...</td>\n",
              "      <td>1:난 강아지 같은 푸근한 인상이 좋아\\n2:오 나는 원래 고양이 상 좋아했는데 나...</td>\n",
              "      <td>일반 대화</td>\n",
              "      <td>일반 대화</td>\n",
              "      <td>[난, 강아지, 같, 푸근, 인상, 좋, 아, 오, 나, 원래, 고양이, 상, 좋,...</td>\n",
              "    </tr>\n",
              "    <tr>\n",
              "      <th>4</th>\n",
              "      <td>4</td>\n",
              "      <td>니는 폰 게임 자주 하는 편이가\\n가끔 삘 받으면 하긴 하는데 거의 안 하는 편 너...</td>\n",
              "      <td>1:니는 폰 게임 자주 하는 편이가\\n2:가끔 삘 받으면 하긴 하는데 거의 안 하는...</td>\n",
              "      <td>일반 대화</td>\n",
              "      <td>일반 대화</td>\n",
              "      <td>[니, 폰, 자주, 편이, 가끔, 삘, 받, 으면, 긴, 는데, 거의, 안, 편, ...</td>\n",
              "    </tr>\n",
              "    <tr>\n",
              "      <th>...</th>\n",
              "      <td>...</td>\n",
              "      <td>...</td>\n",
              "      <td>...</td>\n",
              "      <td>...</td>\n",
              "      <td>...</td>\n",
              "      <td>...</td>\n",
              "    </tr>\n",
              "    <tr>\n",
              "      <th>4908</th>\n",
              "      <td>3908</td>\n",
              "      <td>준하야 넌 대가리가 왜 이렇게 크냐\\n내 머리가 뭐\\n밥 먹으면 대가리만 크냐 너는...</td>\n",
              "      <td>1:준하야 넌 대가리가 왜이렇게 크냐\\n2:내 머리가 뭐\\n1:밥먹으면 대가리만 크...</td>\n",
              "      <td>기타 괴롭힘 대화</td>\n",
              "      <td>공격 대화</td>\n",
              "      <td>[준, 야, 넌, 대가리, 왜, 이렇게, 크, 냐, 내, 머리, 뭐, 밥, 먹, 으...</td>\n",
              "    </tr>\n",
              "    <tr>\n",
              "      <th>4909</th>\n",
              "      <td>3909</td>\n",
              "      <td>내가 지금 너 아들 김길준 데리고 있어  살리고 싶으면 계좌에 1억만 보내\\n예  ...</td>\n",
              "      <td>1:내가 지금 너 아들 김길준 데리고 있어  살리고 싶으면 계좌에 1억만 보내\\n2...</td>\n",
              "      <td>갈취 대화</td>\n",
              "      <td>공격 대화</td>\n",
              "      <td>[내, 지금, 너, 아들, 김길준, 데리, 있, 어, 살리, 싶, 으면, 계좌, 1...</td>\n",
              "    </tr>\n",
              "    <tr>\n",
              "      <th>4910</th>\n",
              "      <td>3910</td>\n",
              "      <td>나는 씨 같은 사람 보면 참 신기하더라  어떻게 저렇게 살지\\n왜 그래  들리겠어\\...</td>\n",
              "      <td>1:나는 씨 같은 사람 보면 참 신기하더라  어떻게 저렇게 살지\\n1:왜 그래  들...</td>\n",
              "      <td>직장 내 괴롭힘 대화</td>\n",
              "      <td>공격 대화</td>\n",
              "      <td>[나, 씨, 같, 사람, 보, 참, 신기, 더라, 어떻게, 저렇게, 살, 왜, 그래...</td>\n",
              "    </tr>\n",
              "    <tr>\n",
              "      <th>4911</th>\n",
              "      <td>3911</td>\n",
              "      <td>누구 맘대로 여기서 장사하래\\n이게 무슨 일입니까\\n남의 구역에서 장사하려면 자릿세...</td>\n",
              "      <td>1:누구맘대로 여기서 장사하래\\n2:이게 무슨일입니까\\n1:남의 구역에서 장사하려면...</td>\n",
              "      <td>갈취 대화</td>\n",
              "      <td>공격 대화</td>\n",
              "      <td>[누구, 맘대로, 여기, 서, 장사, 래, 이게, 무슨, 일, 입니까, 남, 구역,...</td>\n",
              "    </tr>\n",
              "    <tr>\n",
              "      <th>4912</th>\n",
              "      <td>3912</td>\n",
              "      <td>희정 씨\\n네\\n주말에 시간이 넘쳐나나 봐\\n갑자기 왜 그러세요\\n손이 빤짝빤짝 네...</td>\n",
              "      <td>1:희정씨\\n2:네\\n1:주말에 시간이 넘쳐나나봐\\n2:갑자기 왜그러세요\\n1:손이...</td>\n",
              "      <td>직장 내 괴롭힘 대화</td>\n",
              "      <td>공격 대화</td>\n",
              "      <td>[희정, 씨, 주말, 시간, 넘쳐나, 나, 봐, 갑자기, 왜, 그러, 세요, 손, ...</td>\n",
              "    </tr>\n",
              "  </tbody>\n",
              "</table>\n",
              "<p>4913 rows × 6 columns</p>\n",
              "</div>\n",
              "      <button class=\"colab-df-convert\" onclick=\"convertToInteractive('df-a68e22c7-fd5d-48d5-8a9a-f9417985896d')\"\n",
              "              title=\"Convert this dataframe to an interactive table.\"\n",
              "              style=\"display:none;\">\n",
              "        \n",
              "  <svg xmlns=\"http://www.w3.org/2000/svg\" height=\"24px\"viewBox=\"0 0 24 24\"\n",
              "       width=\"24px\">\n",
              "    <path d=\"M0 0h24v24H0V0z\" fill=\"none\"/>\n",
              "    <path d=\"M18.56 5.44l.94 2.06.94-2.06 2.06-.94-2.06-.94-.94-2.06-.94 2.06-2.06.94zm-11 1L8.5 8.5l.94-2.06 2.06-.94-2.06-.94L8.5 2.5l-.94 2.06-2.06.94zm10 10l.94 2.06.94-2.06 2.06-.94-2.06-.94-.94-2.06-.94 2.06-2.06.94z\"/><path d=\"M17.41 7.96l-1.37-1.37c-.4-.4-.92-.59-1.43-.59-.52 0-1.04.2-1.43.59L10.3 9.45l-7.72 7.72c-.78.78-.78 2.05 0 2.83L4 21.41c.39.39.9.59 1.41.59.51 0 1.02-.2 1.41-.59l7.78-7.78 2.81-2.81c.8-.78.8-2.07 0-2.86zM5.41 20L4 18.59l7.72-7.72 1.47 1.35L5.41 20z\"/>\n",
              "  </svg>\n",
              "      </button>\n",
              "      \n",
              "  <style>\n",
              "    .colab-df-container {\n",
              "      display:flex;\n",
              "      flex-wrap:wrap;\n",
              "      gap: 12px;\n",
              "    }\n",
              "\n",
              "    .colab-df-convert {\n",
              "      background-color: #E8F0FE;\n",
              "      border: none;\n",
              "      border-radius: 50%;\n",
              "      cursor: pointer;\n",
              "      display: none;\n",
              "      fill: #1967D2;\n",
              "      height: 32px;\n",
              "      padding: 0 0 0 0;\n",
              "      width: 32px;\n",
              "    }\n",
              "\n",
              "    .colab-df-convert:hover {\n",
              "      background-color: #E2EBFA;\n",
              "      box-shadow: 0px 1px 2px rgba(60, 64, 67, 0.3), 0px 1px 3px 1px rgba(60, 64, 67, 0.15);\n",
              "      fill: #174EA6;\n",
              "    }\n",
              "\n",
              "    [theme=dark] .colab-df-convert {\n",
              "      background-color: #3B4455;\n",
              "      fill: #D2E3FC;\n",
              "    }\n",
              "\n",
              "    [theme=dark] .colab-df-convert:hover {\n",
              "      background-color: #434B5C;\n",
              "      box-shadow: 0px 1px 3px 1px rgba(0, 0, 0, 0.15);\n",
              "      filter: drop-shadow(0px 1px 2px rgba(0, 0, 0, 0.3));\n",
              "      fill: #FFFFFF;\n",
              "    }\n",
              "  </style>\n",
              "\n",
              "      <script>\n",
              "        const buttonEl =\n",
              "          document.querySelector('#df-a68e22c7-fd5d-48d5-8a9a-f9417985896d button.colab-df-convert');\n",
              "        buttonEl.style.display =\n",
              "          google.colab.kernel.accessAllowed ? 'block' : 'none';\n",
              "\n",
              "        async function convertToInteractive(key) {\n",
              "          const element = document.querySelector('#df-a68e22c7-fd5d-48d5-8a9a-f9417985896d');\n",
              "          const dataTable =\n",
              "            await google.colab.kernel.invokeFunction('convertToInteractive',\n",
              "                                                     [key], {});\n",
              "          if (!dataTable) return;\n",
              "\n",
              "          const docLinkHtml = 'Like what you see? Visit the ' +\n",
              "            '<a target=\"_blank\" href=https://colab.research.google.com/notebooks/data_table.ipynb>data table notebook</a>'\n",
              "            + ' to learn more about interactive tables.';\n",
              "          element.innerHTML = '';\n",
              "          dataTable['output_type'] = 'display_data';\n",
              "          await google.colab.output.renderOutput(dataTable, element);\n",
              "          const docLink = document.createElement('div');\n",
              "          docLink.innerHTML = docLinkHtml;\n",
              "          element.appendChild(docLink);\n",
              "        }\n",
              "      </script>\n",
              "    </div>\n",
              "  </div>\n",
              "  "
            ]
          },
          "metadata": {},
          "execution_count": 8
        }
      ]
    },
    {
      "cell_type": "code",
      "source": [
        "conversation = data['tokenized'].values\n",
        "\n",
        "tokenizer = Tokenizer()\n",
        "tokenizer.fit_on_texts(conversation)"
      ],
      "metadata": {
        "id": "AMKe5m6BU60A"
      },
      "execution_count": 9,
      "outputs": []
    },
    {
      "cell_type": "code",
      "source": [
        "len(tokenizer.word_index)"
      ],
      "metadata": {
        "colab": {
          "base_uri": "https://localhost:8080/"
        },
        "id": "s0HIS6XkVD1b",
        "outputId": "47c7528d-0dd0-430c-8c29-b8385e21e49b"
      },
      "execution_count": 10,
      "outputs": [
        {
          "output_type": "execute_result",
          "data": {
            "text/plain": [
              "17536"
            ]
          },
          "metadata": {},
          "execution_count": 10
        }
      ]
    },
    {
      "cell_type": "code",
      "source": [
        "threshold = 2\n",
        "total_cnt = len(tokenizer.word_index) # 단어의 수\n",
        "rare_cnt = 0 # 등장 빈도수가 threshold보다 작은 단어의 개수를 카운트\n",
        "total_freq = 0 # 훈련 데이터의 전체 단어 빈도수 총 합\n",
        "rare_freq = 0 # 등장 빈도수가 threshold보다 작은 단어의 등장 빈도수의 총 합\n",
        "\n",
        "# 단어와 빈도수의 쌍(pair)을 key와 value로 받는다.\n",
        "for key, value in tokenizer.word_counts.items():\n",
        "    total_freq = total_freq + value\n",
        "\n",
        "    # 단어의 등장 빈도수가 threshold보다 작으면\n",
        "    if(value < threshold):\n",
        "        rare_cnt = rare_cnt + 1\n",
        "        rare_freq = rare_freq + value\n",
        "\n",
        "print('단어 집합(vocabulary)의 크기 :',total_cnt)\n",
        "print('등장 빈도가 %s번 이하인 희귀 단어의 수: %s'%(threshold - 1, rare_cnt))\n",
        "print(\"단어 집합에서 희귀 단어의 비율:\", (rare_cnt / total_cnt)*100)\n",
        "print(\"전체 등장 빈도에서 희귀 단어 등장 빈도 비율:\", (rare_freq / total_freq)*100)"
      ],
      "metadata": {
        "colab": {
          "base_uri": "https://localhost:8080/"
        },
        "id": "XEiUCZySWs0i",
        "outputId": "26b11ecd-ca4e-42e2-8509-43fa44db6756"
      },
      "execution_count": 11,
      "outputs": [
        {
          "output_type": "stream",
          "name": "stdout",
          "text": [
            "단어 집합(vocabulary)의 크기 : 17536\n",
            "등장 빈도가 1번 이하인 희귀 단어의 수: 6836\n",
            "단어 집합에서 희귀 단어의 비율: 38.98266423357664\n",
            "전체 등장 빈도에서 희귀 단어 등장 빈도 비율: 1.470831872040209\n"
          ]
        }
      ]
    },
    {
      "cell_type": "code",
      "source": [
        "# 전체 단어 개수 중 빈도수 2이하인 단어 개수는 제거.\n",
        "# 0번 패딩 토큰과 1번 OOV 토큰을 고려하여 +2\n",
        "vocab_size = total_cnt - rare_cnt + 2\n",
        "print('단어 집합의 크기 :',vocab_size)"
      ],
      "metadata": {
        "colab": {
          "base_uri": "https://localhost:8080/"
        },
        "id": "f1XH5X5BW1jJ",
        "outputId": "ffc45bb6-6e68-4a4d-b15e-59e86548fdff"
      },
      "execution_count": 12,
      "outputs": [
        {
          "output_type": "stream",
          "name": "stdout",
          "text": [
            "단어 집합의 크기 : 10702\n"
          ]
        }
      ]
    },
    {
      "cell_type": "code",
      "source": [
        "tokenizer = Tokenizer(vocab_size) \n",
        "tokenizer.fit_on_texts(conversation)\n",
        "X_data = tokenizer.texts_to_sequences(conversation)"
      ],
      "metadata": {
        "id": "gbfJhNOeW-W3"
      },
      "execution_count": 13,
      "outputs": []
    },
    {
      "cell_type": "code",
      "source": [
        "padded = pad_sequences(X_data)\n",
        "print(padded)"
      ],
      "metadata": {
        "colab": {
          "base_uri": "https://localhost:8080/"
        },
        "id": "fRd4CeLZXXgG",
        "outputId": "9179b23f-671d-4700-c22d-351539b13afd"
      },
      "execution_count": 14,
      "outputs": [
        {
          "output_type": "stream",
          "name": "stdout",
          "text": [
            "[[   0    0    0 ...  451    7  433]\n",
            " [   0    0    0 ...  223  530    7]\n",
            " [   0    0    0 ...    1 1441    1]\n",
            " ...\n",
            " [   0    0    0 ...    3   13  193]\n",
            " [   0    0    0 ...  207   11   17]\n",
            " [   0    0    0 ...  419   57 2098]]\n"
          ]
        }
      ]
    },
    {
      "cell_type": "code",
      "source": [
        "np.shape(padded)"
      ],
      "metadata": {
        "colab": {
          "base_uri": "https://localhost:8080/"
        },
        "id": "_WLnA1MQXYZg",
        "outputId": "9461a3fc-a19f-404a-b9fa-c969e7f51dd4"
      },
      "execution_count": 15,
      "outputs": [
        {
          "output_type": "execute_result",
          "data": {
            "text/plain": [
              "(4913, 485)"
            ]
          },
          "metadata": {},
          "execution_count": 15
        }
      ]
    },
    {
      "cell_type": "code",
      "source": [
        "train_data = padded\n",
        "train_label = data['class']"
      ],
      "metadata": {
        "id": "8mQNOQt0Xq8_"
      },
      "execution_count": 16,
      "outputs": []
    },
    {
      "cell_type": "code",
      "source": [
        "labels = {'협박 대화':0, '갈취 대화':1, '직장 내 괴롭힘 대화':2, '기타 괴롭힘 대화':3, '일반 대화': 4}"
      ],
      "metadata": {
        "id": "U8BfJXp6X5ei"
      },
      "execution_count": 17,
      "outputs": []
    },
    {
      "cell_type": "code",
      "source": [
        "train_label = train_label.apply(lambda x: labels[x])\n",
        "train_label = pd.get_dummies(train_label)\n",
        "print(train_label)"
      ],
      "metadata": {
        "colab": {
          "base_uri": "https://localhost:8080/"
        },
        "id": "meyLyvLAX9Fb",
        "outputId": "df8677b4-950f-4de4-9c61-c6d5560f8525"
      },
      "execution_count": 18,
      "outputs": [
        {
          "output_type": "stream",
          "name": "stdout",
          "text": [
            "      0  1  2  3  4\n",
            "0     0  0  0  0  1\n",
            "1     0  0  0  0  1\n",
            "2     0  0  0  0  1\n",
            "3     0  0  0  0  1\n",
            "4     0  0  0  0  1\n",
            "...  .. .. .. .. ..\n",
            "4908  0  0  0  1  0\n",
            "4909  0  1  0  0  0\n",
            "4910  0  0  1  0  0\n",
            "4911  0  1  0  0  0\n",
            "4912  0  0  1  0  0\n",
            "\n",
            "[4913 rows x 5 columns]\n"
          ]
        }
      ]
    },
    {
      "cell_type": "code",
      "source": [
        "from sklearn.model_selection import train_test_split\n",
        "\n",
        "train_X, test_X, train_Y, test_Y = train_test_split(train_data, train_label, test_size=0.2, random_state=22)\n",
        "valid_X, test_X, valid_Y, test_Y = train_test_split(test_X, test_Y, test_size=0.5, random_state=22)\n",
        "\n",
        "print(len(train_X), len(valid_X), len(test_X))\n",
        "print(len(train_Y), len(valid_Y), len(test_Y))"
      ],
      "metadata": {
        "colab": {
          "base_uri": "https://localhost:8080/"
        },
        "id": "NwSlYygRYStw",
        "outputId": "dee477e1-9b25-46ac-9d99-ac72afb2fca8"
      },
      "execution_count": 19,
      "outputs": [
        {
          "output_type": "stream",
          "name": "stdout",
          "text": [
            "3930 491 492\n",
            "3930 491 492\n"
          ]
        }
      ]
    },
    {
      "cell_type": "code",
      "source": [
        "embedding_dim = 256\n",
        "hidden_units = 128\n",
        "\n",
        "model = tf.keras.Sequential()\n",
        "model.add(tf.keras.layers.Embedding(vocab_size, embedding_dim, input_shape=(None,)))\n",
        "model.add(tf.keras.layers.Bidirectional(LSTM(hidden_units, return_sequences=True, dropout = 0.3)))\n",
        "model.add(tf.keras.layers.Bidirectional(LSTM(hidden_units, return_sequences=True, dropout = 0.3)))\n",
        "model.add(tf.keras.layers.Bidirectional(LSTM(hidden_units//2, dropout = 0.3)))\n",
        "model.add(tf.keras.layers.Dense(vocab_size, activation='relu'))\n",
        "model.add(tf.keras.layers.Dense(5, activation='softmax'))\n",
        "\n",
        "\n",
        "model.summary()"
      ],
      "metadata": {
        "colab": {
          "base_uri": "https://localhost:8080/"
        },
        "id": "2nOghK4ZYgQs",
        "outputId": "86abebbf-2d3a-4dcc-d2a5-7c15c131c221"
      },
      "execution_count": 20,
      "outputs": [
        {
          "output_type": "stream",
          "name": "stdout",
          "text": [
            "Model: \"sequential\"\n",
            "_________________________________________________________________\n",
            " Layer (type)                Output Shape              Param #   \n",
            "=================================================================\n",
            " embedding (Embedding)       (None, None, 256)         2739712   \n",
            "                                                                 \n",
            " bidirectional (Bidirectiona  (None, None, 256)        394240    \n",
            " l)                                                              \n",
            "                                                                 \n",
            " bidirectional_1 (Bidirectio  (None, None, 256)        394240    \n",
            " nal)                                                            \n",
            "                                                                 \n",
            " bidirectional_2 (Bidirectio  (None, 128)              164352    \n",
            " nal)                                                            \n",
            "                                                                 \n",
            " dense (Dense)               (None, 10702)             1380558   \n",
            "                                                                 \n",
            " dense_1 (Dense)             (None, 5)                 53515     \n",
            "                                                                 \n",
            "=================================================================\n",
            "Total params: 5,126,617\n",
            "Trainable params: 5,126,617\n",
            "Non-trainable params: 0\n",
            "_________________________________________________________________\n"
          ]
        }
      ]
    },
    {
      "cell_type": "code",
      "source": [
        "es = EarlyStopping(monitor='val_loss', mode='min', verbose=1, patience=2)\n",
        "mc = ModelCheckpoint(filepath='/content/sample_data/best_model.h5', monitor='val_acc', mode='max', verbose=1, save_best_only=True)\n",
        "\n",
        "model.compile(optimizer='adam',\n",
        "              loss='categorical_crossentropy',\n",
        "              metrics=['accuracy'])\n",
        "\n",
        "epochs=10\n",
        "\n",
        "history = model.fit(train_X,\n",
        "                    train_Y,\n",
        "                    epochs=epochs,\n",
        "                    batch_size=64,\n",
        "                    callbacks=[es, mc],\n",
        "                    validation_data=(valid_X, valid_Y),\n",
        "                    verbose=1)"
      ],
      "metadata": {
        "colab": {
          "base_uri": "https://localhost:8080/",
          "height": 390
        },
        "id": "ciQkCMuxZ3_Z",
        "outputId": "7dbb4dcc-8823-45bc-a9a8-0cccb707ec1e"
      },
      "execution_count": 30,
      "outputs": [
        {
          "output_type": "stream",
          "name": "stdout",
          "text": [
            "Epoch 1/10\n",
            "15/62 [======>.......................] - ETA: 7s - loss: 0.0897 - accuracy: 0.9781"
          ]
        },
        {
          "output_type": "error",
          "ename": "KeyboardInterrupt",
          "evalue": "ignored",
          "traceback": [
            "\u001b[0;31m---------------------------------------------------------------------------\u001b[0m",
            "\u001b[0;31mKeyboardInterrupt\u001b[0m                         Traceback (most recent call last)",
            "\u001b[0;32m<ipython-input-30-6a4232fdd8ed>\u001b[0m in \u001b[0;36m<module>\u001b[0;34m\u001b[0m\n\u001b[1;32m     14\u001b[0m                     \u001b[0mcallbacks\u001b[0m\u001b[0;34m=\u001b[0m\u001b[0;34m[\u001b[0m\u001b[0mes\u001b[0m\u001b[0;34m,\u001b[0m \u001b[0mmc\u001b[0m\u001b[0;34m]\u001b[0m\u001b[0;34m,\u001b[0m\u001b[0;34m\u001b[0m\u001b[0;34m\u001b[0m\u001b[0m\n\u001b[1;32m     15\u001b[0m                     \u001b[0mvalidation_data\u001b[0m\u001b[0;34m=\u001b[0m\u001b[0;34m(\u001b[0m\u001b[0mvalid_X\u001b[0m\u001b[0;34m,\u001b[0m \u001b[0mvalid_Y\u001b[0m\u001b[0;34m)\u001b[0m\u001b[0;34m,\u001b[0m\u001b[0;34m\u001b[0m\u001b[0;34m\u001b[0m\u001b[0m\n\u001b[0;32m---> 16\u001b[0;31m                     verbose=1)\n\u001b[0m",
            "\u001b[0;32m/usr/local/lib/python3.7/dist-packages/keras/utils/traceback_utils.py\u001b[0m in \u001b[0;36merror_handler\u001b[0;34m(*args, **kwargs)\u001b[0m\n\u001b[1;32m     62\u001b[0m     \u001b[0mfiltered_tb\u001b[0m \u001b[0;34m=\u001b[0m \u001b[0;32mNone\u001b[0m\u001b[0;34m\u001b[0m\u001b[0;34m\u001b[0m\u001b[0m\n\u001b[1;32m     63\u001b[0m     \u001b[0;32mtry\u001b[0m\u001b[0;34m:\u001b[0m\u001b[0;34m\u001b[0m\u001b[0;34m\u001b[0m\u001b[0m\n\u001b[0;32m---> 64\u001b[0;31m       \u001b[0;32mreturn\u001b[0m \u001b[0mfn\u001b[0m\u001b[0;34m(\u001b[0m\u001b[0;34m*\u001b[0m\u001b[0margs\u001b[0m\u001b[0;34m,\u001b[0m \u001b[0;34m**\u001b[0m\u001b[0mkwargs\u001b[0m\u001b[0;34m)\u001b[0m\u001b[0;34m\u001b[0m\u001b[0;34m\u001b[0m\u001b[0m\n\u001b[0m\u001b[1;32m     65\u001b[0m     \u001b[0;32mexcept\u001b[0m \u001b[0mException\u001b[0m \u001b[0;32mas\u001b[0m \u001b[0me\u001b[0m\u001b[0;34m:\u001b[0m  \u001b[0;31m# pylint: disable=broad-except\u001b[0m\u001b[0;34m\u001b[0m\u001b[0;34m\u001b[0m\u001b[0m\n\u001b[1;32m     66\u001b[0m       \u001b[0mfiltered_tb\u001b[0m \u001b[0;34m=\u001b[0m \u001b[0m_process_traceback_frames\u001b[0m\u001b[0;34m(\u001b[0m\u001b[0me\u001b[0m\u001b[0;34m.\u001b[0m\u001b[0m__traceback__\u001b[0m\u001b[0;34m)\u001b[0m\u001b[0;34m\u001b[0m\u001b[0;34m\u001b[0m\u001b[0m\n",
            "\u001b[0;32m/usr/local/lib/python3.7/dist-packages/keras/engine/training.py\u001b[0m in \u001b[0;36mfit\u001b[0;34m(self, x, y, batch_size, epochs, verbose, callbacks, validation_split, validation_data, shuffle, class_weight, sample_weight, initial_epoch, steps_per_epoch, validation_steps, validation_batch_size, validation_freq, max_queue_size, workers, use_multiprocessing)\u001b[0m\n\u001b[1;32m   1412\u001b[0m               \u001b[0mlogs\u001b[0m \u001b[0;34m=\u001b[0m \u001b[0mtmp_logs\u001b[0m  \u001b[0;31m# No error, now safe to assign to logs.\u001b[0m\u001b[0;34m\u001b[0m\u001b[0;34m\u001b[0m\u001b[0m\n\u001b[1;32m   1413\u001b[0m               \u001b[0mend_step\u001b[0m \u001b[0;34m=\u001b[0m \u001b[0mstep\u001b[0m \u001b[0;34m+\u001b[0m \u001b[0mdata_handler\u001b[0m\u001b[0;34m.\u001b[0m\u001b[0mstep_increment\u001b[0m\u001b[0;34m\u001b[0m\u001b[0;34m\u001b[0m\u001b[0m\n\u001b[0;32m-> 1414\u001b[0;31m               \u001b[0mcallbacks\u001b[0m\u001b[0;34m.\u001b[0m\u001b[0mon_train_batch_end\u001b[0m\u001b[0;34m(\u001b[0m\u001b[0mend_step\u001b[0m\u001b[0;34m,\u001b[0m \u001b[0mlogs\u001b[0m\u001b[0;34m)\u001b[0m\u001b[0;34m\u001b[0m\u001b[0;34m\u001b[0m\u001b[0m\n\u001b[0m\u001b[1;32m   1415\u001b[0m               \u001b[0;32mif\u001b[0m \u001b[0mself\u001b[0m\u001b[0;34m.\u001b[0m\u001b[0mstop_training\u001b[0m\u001b[0;34m:\u001b[0m\u001b[0;34m\u001b[0m\u001b[0;34m\u001b[0m\u001b[0m\n\u001b[1;32m   1416\u001b[0m                 \u001b[0;32mbreak\u001b[0m\u001b[0;34m\u001b[0m\u001b[0;34m\u001b[0m\u001b[0m\n",
            "\u001b[0;32m/usr/local/lib/python3.7/dist-packages/keras/callbacks.py\u001b[0m in \u001b[0;36mon_train_batch_end\u001b[0;34m(self, batch, logs)\u001b[0m\n\u001b[1;32m    436\u001b[0m     \"\"\"\n\u001b[1;32m    437\u001b[0m     \u001b[0;32mif\u001b[0m \u001b[0mself\u001b[0m\u001b[0;34m.\u001b[0m\u001b[0m_should_call_train_batch_hooks\u001b[0m\u001b[0;34m:\u001b[0m\u001b[0;34m\u001b[0m\u001b[0;34m\u001b[0m\u001b[0m\n\u001b[0;32m--> 438\u001b[0;31m       \u001b[0mself\u001b[0m\u001b[0;34m.\u001b[0m\u001b[0m_call_batch_hook\u001b[0m\u001b[0;34m(\u001b[0m\u001b[0mModeKeys\u001b[0m\u001b[0;34m.\u001b[0m\u001b[0mTRAIN\u001b[0m\u001b[0;34m,\u001b[0m \u001b[0;34m'end'\u001b[0m\u001b[0;34m,\u001b[0m \u001b[0mbatch\u001b[0m\u001b[0;34m,\u001b[0m \u001b[0mlogs\u001b[0m\u001b[0;34m=\u001b[0m\u001b[0mlogs\u001b[0m\u001b[0;34m)\u001b[0m\u001b[0;34m\u001b[0m\u001b[0;34m\u001b[0m\u001b[0m\n\u001b[0m\u001b[1;32m    439\u001b[0m \u001b[0;34m\u001b[0m\u001b[0m\n\u001b[1;32m    440\u001b[0m   \u001b[0;32mdef\u001b[0m \u001b[0mon_test_batch_begin\u001b[0m\u001b[0;34m(\u001b[0m\u001b[0mself\u001b[0m\u001b[0;34m,\u001b[0m \u001b[0mbatch\u001b[0m\u001b[0;34m,\u001b[0m \u001b[0mlogs\u001b[0m\u001b[0;34m=\u001b[0m\u001b[0;32mNone\u001b[0m\u001b[0;34m)\u001b[0m\u001b[0;34m:\u001b[0m\u001b[0;34m\u001b[0m\u001b[0;34m\u001b[0m\u001b[0m\n",
            "\u001b[0;32m/usr/local/lib/python3.7/dist-packages/keras/callbacks.py\u001b[0m in \u001b[0;36m_call_batch_hook\u001b[0;34m(self, mode, hook, batch, logs)\u001b[0m\n\u001b[1;32m    295\u001b[0m       \u001b[0mself\u001b[0m\u001b[0;34m.\u001b[0m\u001b[0m_call_batch_begin_hook\u001b[0m\u001b[0;34m(\u001b[0m\u001b[0mmode\u001b[0m\u001b[0;34m,\u001b[0m \u001b[0mbatch\u001b[0m\u001b[0;34m,\u001b[0m \u001b[0mlogs\u001b[0m\u001b[0;34m)\u001b[0m\u001b[0;34m\u001b[0m\u001b[0;34m\u001b[0m\u001b[0m\n\u001b[1;32m    296\u001b[0m     \u001b[0;32melif\u001b[0m \u001b[0mhook\u001b[0m \u001b[0;34m==\u001b[0m \u001b[0;34m'end'\u001b[0m\u001b[0;34m:\u001b[0m\u001b[0;34m\u001b[0m\u001b[0;34m\u001b[0m\u001b[0m\n\u001b[0;32m--> 297\u001b[0;31m       \u001b[0mself\u001b[0m\u001b[0;34m.\u001b[0m\u001b[0m_call_batch_end_hook\u001b[0m\u001b[0;34m(\u001b[0m\u001b[0mmode\u001b[0m\u001b[0;34m,\u001b[0m \u001b[0mbatch\u001b[0m\u001b[0;34m,\u001b[0m \u001b[0mlogs\u001b[0m\u001b[0;34m)\u001b[0m\u001b[0;34m\u001b[0m\u001b[0;34m\u001b[0m\u001b[0m\n\u001b[0m\u001b[1;32m    298\u001b[0m     \u001b[0;32melse\u001b[0m\u001b[0;34m:\u001b[0m\u001b[0;34m\u001b[0m\u001b[0;34m\u001b[0m\u001b[0m\n\u001b[1;32m    299\u001b[0m       raise ValueError(\n",
            "\u001b[0;32m/usr/local/lib/python3.7/dist-packages/keras/callbacks.py\u001b[0m in \u001b[0;36m_call_batch_end_hook\u001b[0;34m(self, mode, batch, logs)\u001b[0m\n\u001b[1;32m    316\u001b[0m       \u001b[0mself\u001b[0m\u001b[0;34m.\u001b[0m\u001b[0m_batch_times\u001b[0m\u001b[0;34m.\u001b[0m\u001b[0mappend\u001b[0m\u001b[0;34m(\u001b[0m\u001b[0mbatch_time\u001b[0m\u001b[0;34m)\u001b[0m\u001b[0;34m\u001b[0m\u001b[0;34m\u001b[0m\u001b[0m\n\u001b[1;32m    317\u001b[0m \u001b[0;34m\u001b[0m\u001b[0m\n\u001b[0;32m--> 318\u001b[0;31m     \u001b[0mself\u001b[0m\u001b[0;34m.\u001b[0m\u001b[0m_call_batch_hook_helper\u001b[0m\u001b[0;34m(\u001b[0m\u001b[0mhook_name\u001b[0m\u001b[0;34m,\u001b[0m \u001b[0mbatch\u001b[0m\u001b[0;34m,\u001b[0m \u001b[0mlogs\u001b[0m\u001b[0;34m)\u001b[0m\u001b[0;34m\u001b[0m\u001b[0;34m\u001b[0m\u001b[0m\n\u001b[0m\u001b[1;32m    319\u001b[0m \u001b[0;34m\u001b[0m\u001b[0m\n\u001b[1;32m    320\u001b[0m     \u001b[0;32mif\u001b[0m \u001b[0mlen\u001b[0m\u001b[0;34m(\u001b[0m\u001b[0mself\u001b[0m\u001b[0;34m.\u001b[0m\u001b[0m_batch_times\u001b[0m\u001b[0;34m)\u001b[0m \u001b[0;34m>=\u001b[0m \u001b[0mself\u001b[0m\u001b[0;34m.\u001b[0m\u001b[0m_num_batches_for_timing_check\u001b[0m\u001b[0;34m:\u001b[0m\u001b[0;34m\u001b[0m\u001b[0;34m\u001b[0m\u001b[0m\n",
            "\u001b[0;32m/usr/local/lib/python3.7/dist-packages/keras/callbacks.py\u001b[0m in \u001b[0;36m_call_batch_hook_helper\u001b[0;34m(self, hook_name, batch, logs)\u001b[0m\n\u001b[1;32m    354\u001b[0m     \u001b[0;32mfor\u001b[0m \u001b[0mcallback\u001b[0m \u001b[0;32min\u001b[0m \u001b[0mself\u001b[0m\u001b[0;34m.\u001b[0m\u001b[0mcallbacks\u001b[0m\u001b[0;34m:\u001b[0m\u001b[0;34m\u001b[0m\u001b[0;34m\u001b[0m\u001b[0m\n\u001b[1;32m    355\u001b[0m       \u001b[0mhook\u001b[0m \u001b[0;34m=\u001b[0m \u001b[0mgetattr\u001b[0m\u001b[0;34m(\u001b[0m\u001b[0mcallback\u001b[0m\u001b[0;34m,\u001b[0m \u001b[0mhook_name\u001b[0m\u001b[0;34m)\u001b[0m\u001b[0;34m\u001b[0m\u001b[0;34m\u001b[0m\u001b[0m\n\u001b[0;32m--> 356\u001b[0;31m       \u001b[0mhook\u001b[0m\u001b[0;34m(\u001b[0m\u001b[0mbatch\u001b[0m\u001b[0;34m,\u001b[0m \u001b[0mlogs\u001b[0m\u001b[0;34m)\u001b[0m\u001b[0;34m\u001b[0m\u001b[0;34m\u001b[0m\u001b[0m\n\u001b[0m\u001b[1;32m    357\u001b[0m \u001b[0;34m\u001b[0m\u001b[0m\n\u001b[1;32m    358\u001b[0m     \u001b[0;32mif\u001b[0m \u001b[0mself\u001b[0m\u001b[0;34m.\u001b[0m\u001b[0m_check_timing\u001b[0m\u001b[0;34m:\u001b[0m\u001b[0;34m\u001b[0m\u001b[0;34m\u001b[0m\u001b[0m\n",
            "\u001b[0;32m/usr/local/lib/python3.7/dist-packages/keras/callbacks.py\u001b[0m in \u001b[0;36mon_train_batch_end\u001b[0;34m(self, batch, logs)\u001b[0m\n\u001b[1;32m   1032\u001b[0m \u001b[0;34m\u001b[0m\u001b[0m\n\u001b[1;32m   1033\u001b[0m   \u001b[0;32mdef\u001b[0m \u001b[0mon_train_batch_end\u001b[0m\u001b[0;34m(\u001b[0m\u001b[0mself\u001b[0m\u001b[0;34m,\u001b[0m \u001b[0mbatch\u001b[0m\u001b[0;34m,\u001b[0m \u001b[0mlogs\u001b[0m\u001b[0;34m=\u001b[0m\u001b[0;32mNone\u001b[0m\u001b[0;34m)\u001b[0m\u001b[0;34m:\u001b[0m\u001b[0;34m\u001b[0m\u001b[0;34m\u001b[0m\u001b[0m\n\u001b[0;32m-> 1034\u001b[0;31m     \u001b[0mself\u001b[0m\u001b[0;34m.\u001b[0m\u001b[0m_batch_update_progbar\u001b[0m\u001b[0;34m(\u001b[0m\u001b[0mbatch\u001b[0m\u001b[0;34m,\u001b[0m \u001b[0mlogs\u001b[0m\u001b[0;34m)\u001b[0m\u001b[0;34m\u001b[0m\u001b[0;34m\u001b[0m\u001b[0m\n\u001b[0m\u001b[1;32m   1035\u001b[0m \u001b[0;34m\u001b[0m\u001b[0m\n\u001b[1;32m   1036\u001b[0m   \u001b[0;32mdef\u001b[0m \u001b[0mon_test_batch_end\u001b[0m\u001b[0;34m(\u001b[0m\u001b[0mself\u001b[0m\u001b[0;34m,\u001b[0m \u001b[0mbatch\u001b[0m\u001b[0;34m,\u001b[0m \u001b[0mlogs\u001b[0m\u001b[0;34m=\u001b[0m\u001b[0;32mNone\u001b[0m\u001b[0;34m)\u001b[0m\u001b[0;34m:\u001b[0m\u001b[0;34m\u001b[0m\u001b[0;34m\u001b[0m\u001b[0m\n",
            "\u001b[0;32m/usr/local/lib/python3.7/dist-packages/keras/callbacks.py\u001b[0m in \u001b[0;36m_batch_update_progbar\u001b[0;34m(self, batch, logs)\u001b[0m\n\u001b[1;32m   1104\u001b[0m     \u001b[0;32mif\u001b[0m \u001b[0mself\u001b[0m\u001b[0;34m.\u001b[0m\u001b[0mverbose\u001b[0m \u001b[0;34m==\u001b[0m \u001b[0;36m1\u001b[0m\u001b[0;34m:\u001b[0m\u001b[0;34m\u001b[0m\u001b[0;34m\u001b[0m\u001b[0m\n\u001b[1;32m   1105\u001b[0m       \u001b[0;31m# Only block async when verbose = 1.\u001b[0m\u001b[0;34m\u001b[0m\u001b[0;34m\u001b[0m\u001b[0;34m\u001b[0m\u001b[0m\n\u001b[0;32m-> 1106\u001b[0;31m       \u001b[0mlogs\u001b[0m \u001b[0;34m=\u001b[0m \u001b[0mtf_utils\u001b[0m\u001b[0;34m.\u001b[0m\u001b[0msync_to_numpy_or_python_type\u001b[0m\u001b[0;34m(\u001b[0m\u001b[0mlogs\u001b[0m\u001b[0;34m)\u001b[0m\u001b[0;34m\u001b[0m\u001b[0;34m\u001b[0m\u001b[0m\n\u001b[0m\u001b[1;32m   1107\u001b[0m       \u001b[0mself\u001b[0m\u001b[0;34m.\u001b[0m\u001b[0mprogbar\u001b[0m\u001b[0;34m.\u001b[0m\u001b[0mupdate\u001b[0m\u001b[0;34m(\u001b[0m\u001b[0mself\u001b[0m\u001b[0;34m.\u001b[0m\u001b[0mseen\u001b[0m\u001b[0;34m,\u001b[0m \u001b[0mlist\u001b[0m\u001b[0;34m(\u001b[0m\u001b[0mlogs\u001b[0m\u001b[0;34m.\u001b[0m\u001b[0mitems\u001b[0m\u001b[0;34m(\u001b[0m\u001b[0;34m)\u001b[0m\u001b[0;34m)\u001b[0m\u001b[0;34m,\u001b[0m \u001b[0mfinalize\u001b[0m\u001b[0;34m=\u001b[0m\u001b[0;32mFalse\u001b[0m\u001b[0;34m)\u001b[0m\u001b[0;34m\u001b[0m\u001b[0;34m\u001b[0m\u001b[0m\n\u001b[1;32m   1108\u001b[0m \u001b[0;34m\u001b[0m\u001b[0m\n",
            "\u001b[0;32m/usr/local/lib/python3.7/dist-packages/keras/utils/tf_utils.py\u001b[0m in \u001b[0;36msync_to_numpy_or_python_type\u001b[0;34m(tensors)\u001b[0m\n\u001b[1;32m    605\u001b[0m     \u001b[0;32mreturn\u001b[0m \u001b[0mt\u001b[0m\u001b[0;34m.\u001b[0m\u001b[0mitem\u001b[0m\u001b[0;34m(\u001b[0m\u001b[0;34m)\u001b[0m \u001b[0;32mif\u001b[0m \u001b[0mnp\u001b[0m\u001b[0;34m.\u001b[0m\u001b[0mndim\u001b[0m\u001b[0;34m(\u001b[0m\u001b[0mt\u001b[0m\u001b[0;34m)\u001b[0m \u001b[0;34m==\u001b[0m \u001b[0;36m0\u001b[0m \u001b[0;32melse\u001b[0m \u001b[0mt\u001b[0m\u001b[0;34m\u001b[0m\u001b[0;34m\u001b[0m\u001b[0m\n\u001b[1;32m    606\u001b[0m \u001b[0;34m\u001b[0m\u001b[0m\n\u001b[0;32m--> 607\u001b[0;31m   \u001b[0;32mreturn\u001b[0m \u001b[0mtf\u001b[0m\u001b[0;34m.\u001b[0m\u001b[0mnest\u001b[0m\u001b[0;34m.\u001b[0m\u001b[0mmap_structure\u001b[0m\u001b[0;34m(\u001b[0m\u001b[0m_to_single_numpy_or_python_type\u001b[0m\u001b[0;34m,\u001b[0m \u001b[0mtensors\u001b[0m\u001b[0;34m)\u001b[0m\u001b[0;34m\u001b[0m\u001b[0;34m\u001b[0m\u001b[0m\n\u001b[0m\u001b[1;32m    608\u001b[0m \u001b[0;34m\u001b[0m\u001b[0m\n\u001b[1;32m    609\u001b[0m \u001b[0;34m\u001b[0m\u001b[0m\n",
            "\u001b[0;32m/usr/local/lib/python3.7/dist-packages/tensorflow/python/util/nest.py\u001b[0m in \u001b[0;36mmap_structure\u001b[0;34m(func, *structure, **kwargs)\u001b[0m\n\u001b[1;32m    914\u001b[0m \u001b[0;34m\u001b[0m\u001b[0m\n\u001b[1;32m    915\u001b[0m   return pack_sequence_as(\n\u001b[0;32m--> 916\u001b[0;31m       \u001b[0mstructure\u001b[0m\u001b[0;34m[\u001b[0m\u001b[0;36m0\u001b[0m\u001b[0;34m]\u001b[0m\u001b[0;34m,\u001b[0m \u001b[0;34m[\u001b[0m\u001b[0mfunc\u001b[0m\u001b[0;34m(\u001b[0m\u001b[0;34m*\u001b[0m\u001b[0mx\u001b[0m\u001b[0;34m)\u001b[0m \u001b[0;32mfor\u001b[0m \u001b[0mx\u001b[0m \u001b[0;32min\u001b[0m \u001b[0mentries\u001b[0m\u001b[0;34m]\u001b[0m\u001b[0;34m,\u001b[0m\u001b[0;34m\u001b[0m\u001b[0;34m\u001b[0m\u001b[0m\n\u001b[0m\u001b[1;32m    917\u001b[0m       expand_composites=expand_composites)\n\u001b[1;32m    918\u001b[0m \u001b[0;34m\u001b[0m\u001b[0m\n",
            "\u001b[0;32m/usr/local/lib/python3.7/dist-packages/tensorflow/python/util/nest.py\u001b[0m in \u001b[0;36m<listcomp>\u001b[0;34m(.0)\u001b[0m\n\u001b[1;32m    914\u001b[0m \u001b[0;34m\u001b[0m\u001b[0m\n\u001b[1;32m    915\u001b[0m   return pack_sequence_as(\n\u001b[0;32m--> 916\u001b[0;31m       \u001b[0mstructure\u001b[0m\u001b[0;34m[\u001b[0m\u001b[0;36m0\u001b[0m\u001b[0;34m]\u001b[0m\u001b[0;34m,\u001b[0m \u001b[0;34m[\u001b[0m\u001b[0mfunc\u001b[0m\u001b[0;34m(\u001b[0m\u001b[0;34m*\u001b[0m\u001b[0mx\u001b[0m\u001b[0;34m)\u001b[0m \u001b[0;32mfor\u001b[0m \u001b[0mx\u001b[0m \u001b[0;32min\u001b[0m \u001b[0mentries\u001b[0m\u001b[0;34m]\u001b[0m\u001b[0;34m,\u001b[0m\u001b[0;34m\u001b[0m\u001b[0;34m\u001b[0m\u001b[0m\n\u001b[0m\u001b[1;32m    917\u001b[0m       expand_composites=expand_composites)\n\u001b[1;32m    918\u001b[0m \u001b[0;34m\u001b[0m\u001b[0m\n",
            "\u001b[0;32m/usr/local/lib/python3.7/dist-packages/keras/utils/tf_utils.py\u001b[0m in \u001b[0;36m_to_single_numpy_or_python_type\u001b[0;34m(t)\u001b[0m\n\u001b[1;32m    599\u001b[0m     \u001b[0;31m# Don't turn ragged or sparse tensors to NumPy.\u001b[0m\u001b[0;34m\u001b[0m\u001b[0;34m\u001b[0m\u001b[0;34m\u001b[0m\u001b[0m\n\u001b[1;32m    600\u001b[0m     \u001b[0;32mif\u001b[0m \u001b[0misinstance\u001b[0m\u001b[0;34m(\u001b[0m\u001b[0mt\u001b[0m\u001b[0;34m,\u001b[0m \u001b[0mtf\u001b[0m\u001b[0;34m.\u001b[0m\u001b[0mTensor\u001b[0m\u001b[0;34m)\u001b[0m\u001b[0;34m:\u001b[0m\u001b[0;34m\u001b[0m\u001b[0;34m\u001b[0m\u001b[0m\n\u001b[0;32m--> 601\u001b[0;31m       \u001b[0mt\u001b[0m \u001b[0;34m=\u001b[0m \u001b[0mt\u001b[0m\u001b[0;34m.\u001b[0m\u001b[0mnumpy\u001b[0m\u001b[0;34m(\u001b[0m\u001b[0;34m)\u001b[0m\u001b[0;34m\u001b[0m\u001b[0;34m\u001b[0m\u001b[0m\n\u001b[0m\u001b[1;32m    602\u001b[0m     \u001b[0;31m# Strings, ragged and sparse tensors don't have .item(). Return them as-is.\u001b[0m\u001b[0;34m\u001b[0m\u001b[0;34m\u001b[0m\u001b[0;34m\u001b[0m\u001b[0m\n\u001b[1;32m    603\u001b[0m     \u001b[0;32mif\u001b[0m \u001b[0;32mnot\u001b[0m \u001b[0misinstance\u001b[0m\u001b[0;34m(\u001b[0m\u001b[0mt\u001b[0m\u001b[0;34m,\u001b[0m \u001b[0;34m(\u001b[0m\u001b[0mnp\u001b[0m\u001b[0;34m.\u001b[0m\u001b[0mndarray\u001b[0m\u001b[0;34m,\u001b[0m \u001b[0mnp\u001b[0m\u001b[0;34m.\u001b[0m\u001b[0mgeneric\u001b[0m\u001b[0;34m)\u001b[0m\u001b[0;34m)\u001b[0m\u001b[0;34m:\u001b[0m\u001b[0;34m\u001b[0m\u001b[0;34m\u001b[0m\u001b[0m\n",
            "\u001b[0;32m/usr/local/lib/python3.7/dist-packages/tensorflow/python/framework/ops.py\u001b[0m in \u001b[0;36mnumpy\u001b[0;34m(self)\u001b[0m\n\u001b[1;32m   1157\u001b[0m     \"\"\"\n\u001b[1;32m   1158\u001b[0m     \u001b[0;31m# TODO(slebedev): Consider avoiding a copy for non-CPU or remote tensors.\u001b[0m\u001b[0;34m\u001b[0m\u001b[0;34m\u001b[0m\u001b[0;34m\u001b[0m\u001b[0m\n\u001b[0;32m-> 1159\u001b[0;31m     \u001b[0mmaybe_arr\u001b[0m \u001b[0;34m=\u001b[0m \u001b[0mself\u001b[0m\u001b[0;34m.\u001b[0m\u001b[0m_numpy\u001b[0m\u001b[0;34m(\u001b[0m\u001b[0;34m)\u001b[0m  \u001b[0;31m# pylint: disable=protected-access\u001b[0m\u001b[0;34m\u001b[0m\u001b[0;34m\u001b[0m\u001b[0m\n\u001b[0m\u001b[1;32m   1160\u001b[0m     \u001b[0;32mreturn\u001b[0m \u001b[0mmaybe_arr\u001b[0m\u001b[0;34m.\u001b[0m\u001b[0mcopy\u001b[0m\u001b[0;34m(\u001b[0m\u001b[0;34m)\u001b[0m \u001b[0;32mif\u001b[0m \u001b[0misinstance\u001b[0m\u001b[0;34m(\u001b[0m\u001b[0mmaybe_arr\u001b[0m\u001b[0;34m,\u001b[0m \u001b[0mnp\u001b[0m\u001b[0;34m.\u001b[0m\u001b[0mndarray\u001b[0m\u001b[0;34m)\u001b[0m \u001b[0;32melse\u001b[0m \u001b[0mmaybe_arr\u001b[0m\u001b[0;34m\u001b[0m\u001b[0;34m\u001b[0m\u001b[0m\n\u001b[1;32m   1161\u001b[0m \u001b[0;34m\u001b[0m\u001b[0m\n",
            "\u001b[0;32m/usr/local/lib/python3.7/dist-packages/tensorflow/python/framework/ops.py\u001b[0m in \u001b[0;36m_numpy\u001b[0;34m(self)\u001b[0m\n\u001b[1;32m   1123\u001b[0m   \u001b[0;32mdef\u001b[0m \u001b[0m_numpy\u001b[0m\u001b[0;34m(\u001b[0m\u001b[0mself\u001b[0m\u001b[0;34m)\u001b[0m\u001b[0;34m:\u001b[0m\u001b[0;34m\u001b[0m\u001b[0;34m\u001b[0m\u001b[0m\n\u001b[1;32m   1124\u001b[0m     \u001b[0;32mtry\u001b[0m\u001b[0;34m:\u001b[0m\u001b[0;34m\u001b[0m\u001b[0;34m\u001b[0m\u001b[0m\n\u001b[0;32m-> 1125\u001b[0;31m       \u001b[0;32mreturn\u001b[0m \u001b[0mself\u001b[0m\u001b[0;34m.\u001b[0m\u001b[0m_numpy_internal\u001b[0m\u001b[0;34m(\u001b[0m\u001b[0;34m)\u001b[0m\u001b[0;34m\u001b[0m\u001b[0;34m\u001b[0m\u001b[0m\n\u001b[0m\u001b[1;32m   1126\u001b[0m     \u001b[0;32mexcept\u001b[0m \u001b[0mcore\u001b[0m\u001b[0;34m.\u001b[0m\u001b[0m_NotOkStatusException\u001b[0m \u001b[0;32mas\u001b[0m \u001b[0me\u001b[0m\u001b[0;34m:\u001b[0m  \u001b[0;31m# pylint: disable=protected-access\u001b[0m\u001b[0;34m\u001b[0m\u001b[0;34m\u001b[0m\u001b[0m\n\u001b[1;32m   1127\u001b[0m       \u001b[0;32mraise\u001b[0m \u001b[0mcore\u001b[0m\u001b[0;34m.\u001b[0m\u001b[0m_status_to_exception\u001b[0m\u001b[0;34m(\u001b[0m\u001b[0me\u001b[0m\u001b[0;34m)\u001b[0m \u001b[0;32mfrom\u001b[0m \u001b[0;32mNone\u001b[0m  \u001b[0;31m# pylint: disable=protected-access\u001b[0m\u001b[0;34m\u001b[0m\u001b[0;34m\u001b[0m\u001b[0m\n",
            "\u001b[0;31mKeyboardInterrupt\u001b[0m: "
          ]
        }
      ]
    },
    {
      "cell_type": "code",
      "source": [
        "loaded_model = load_model('/content/sample_data/best_model.h5')\n",
        "print(\"테스트 정확도: %.4f\" % (loaded_model.evaluate(test_X, test_Y)[1]))"
      ],
      "metadata": {
        "colab": {
          "base_uri": "https://localhost:8080/"
        },
        "id": "OLnvKjK4aV_K",
        "outputId": "05c52e83-c527-4539-8b46-13583c581bd6"
      },
      "execution_count": 22,
      "outputs": [
        {
          "output_type": "stream",
          "name": "stdout",
          "text": [
            "16/16 [==============================] - 3s 54ms/step\n"
          ]
        }
      ]
    },
    {
      "cell_type": "code",
      "source": [
        "pred = loaded_model.predict(test_X)"
      ],
      "metadata": {
        "id": "oW0py0YLjVVV"
      },
      "execution_count": null,
      "outputs": []
    },
    {
      "cell_type": "code",
      "source": [
        "from sklearn.metrics import classification_report\n",
        "\n",
        "pred_label = []\n",
        "test_label = []\n",
        "\n",
        "for i in range(len(pred)):\n",
        "  pred_label.append((str)(np.argmax(pred[i])))\n",
        "  test_label.append((str)(labels[data['class'][test_Y.index[i]]]))\n",
        "\n",
        "print(classification_report(test_label, pred_label))"
      ],
      "metadata": {
        "colab": {
          "base_uri": "https://localhost:8080/"
        },
        "id": "XNEG_SlQb3Of",
        "outputId": "8021d6a1-9637-47e1-bd54-09283a8b01f2"
      },
      "execution_count": 23,
      "outputs": [
        {
          "output_type": "stream",
          "name": "stdout",
          "text": [
            "              precision    recall  f1-score   support\n",
            "\n",
            "           0       0.85      0.57      0.68        69\n",
            "           1       0.69      0.80      0.74        94\n",
            "           2       0.84      0.84      0.84       110\n",
            "           3       0.75      0.69      0.71       115\n",
            "           4       0.85      1.00      0.92       104\n",
            "\n",
            "    accuracy                           0.79       492\n",
            "   macro avg       0.80      0.78      0.78       492\n",
            "weighted avg       0.79      0.79      0.79       492\n",
            "\n"
          ]
        }
      ]
    },
    {
      "cell_type": "code",
      "source": [
        "test_X"
      ],
      "metadata": {
        "colab": {
          "base_uri": "https://localhost:8080/"
        },
        "id": "aSbqw_Tdc0fN",
        "outputId": "7dd5d321-7848-4fc5-b401-aa4dac8edfd9"
      },
      "execution_count": 24,
      "outputs": [
        {
          "output_type": "execute_result",
          "data": {
            "text/plain": [
              "array([[   0,    0,    0, ...,   61,   50,  351],\n",
              "       [   0,    0,    0, ...,    8,   11,   17],\n",
              "       [   0,    0,    0, ...,   23,   11,   17],\n",
              "       ...,\n",
              "       [   0,    0,    0, ..., 1457,  144,    4],\n",
              "       [   0,    0,    0, ...,  299,   52,  117],\n",
              "       [   0,    0,    0, ...,  258, 1689,  258]], dtype=int32)"
            ]
          },
          "metadata": {},
          "execution_count": 24
        }
      ]
    },
    {
      "cell_type": "code",
      "source": [
        "labels = {'협박 대화':0, '갈취 대화':1, '직장 내 괴롭힘 대화':2, '기타 괴롭힘 대화':3, '일반 대화': 4}\n",
        "lidx2labels = {str(v) : k for k, v in labels.items()}"
      ],
      "metadata": {
        "id": "aPJoXaI0h8HE"
      },
      "execution_count": 37,
      "outputs": []
    },
    {
      "cell_type": "code",
      "source": [
        "# 잘못 분류한 부분 출력\n",
        "error_idx = []\n",
        "error_label = []\n",
        "\n",
        "for idx, val in enumerate(pred_label):\n",
        "  if val != test_label[idx]:\n",
        "    error_idx.append(idx)\n",
        "    error_label.append(val)"
      ],
      "metadata": {
        "id": "6wTgsWVXb8uP"
      },
      "execution_count": 25,
      "outputs": []
    },
    {
      "cell_type": "code",
      "source": [
        "len(error_idx)"
      ],
      "metadata": {
        "colab": {
          "base_uri": "https://localhost:8080/"
        },
        "id": "Hun-ty37dBSf",
        "outputId": "1d7ee45a-9877-4bef-8e9c-80c9164b3fd5"
      },
      "execution_count": 26,
      "outputs": [
        {
          "output_type": "execute_result",
          "data": {
            "text/plain": [
              "103"
            ]
          },
          "metadata": {},
          "execution_count": 26
        }
      ]
    },
    {
      "cell_type": "code",
      "source": [
        "error = test_X[error_idx]"
      ],
      "metadata": {
        "id": "RkowI69sdCro"
      },
      "execution_count": 27,
      "outputs": []
    },
    {
      "cell_type": "code",
      "source": [
        "error_text = tokenizer.sequences_to_texts(error)"
      ],
      "metadata": {
        "id": "q-feCBpadMXF"
      },
      "execution_count": 28,
      "outputs": []
    },
    {
      "cell_type": "code",
      "source": [
        "lidx2labels[0]"
      ],
      "metadata": {
        "colab": {
          "base_uri": "https://localhost:8080/",
          "height": 36
        },
        "id": "ESfR2cFNi43x",
        "outputId": "fc8b8965-c814-4463-8198-9a85cfe86f45"
      },
      "execution_count": 35,
      "outputs": [
        {
          "output_type": "execute_result",
          "data": {
            "text/plain": [
              "'협박 대화'"
            ],
            "application/vnd.google.colaboratory.intrinsic+json": {
              "type": "string"
            }
          },
          "metadata": {},
          "execution_count": 35
        }
      ]
    },
    {
      "cell_type": "code",
      "source": [
        "error_label[0]"
      ],
      "metadata": {
        "colab": {
          "base_uri": "https://localhost:8080/",
          "height": 36
        },
        "id": "V7koaVm1i9YH",
        "outputId": "ead90d2e-e03d-43e5-8478-879a9ebd3253"
      },
      "execution_count": 36,
      "outputs": [
        {
          "output_type": "execute_result",
          "data": {
            "text/plain": [
              "'0'"
            ],
            "application/vnd.google.colaboratory.intrinsic+json": {
              "type": "string"
            }
          },
          "metadata": {},
          "execution_count": 36
        }
      ]
    },
    {
      "cell_type": "code",
      "source": [
        "test_label[0]"
      ],
      "metadata": {
        "colab": {
          "base_uri": "https://localhost:8080/",
          "height": 36
        },
        "id": "_rxhJmeAjkOl",
        "outputId": "a28927ba-ecce-4029-ccfb-1b2c62c55c79"
      },
      "execution_count": 40,
      "outputs": [
        {
          "output_type": "execute_result",
          "data": {
            "text/plain": [
              "'2'"
            ],
            "application/vnd.google.colaboratory.intrinsic+json": {
              "type": "string"
            }
          },
          "metadata": {},
          "execution_count": 40
        }
      ]
    },
    {
      "cell_type": "code",
      "source": [
        "result = []\n",
        "\n",
        "for i in range(len(error_idx)):\n",
        "  result.append([error_text[i], lidx2labels[error_label[i]], lidx2labels[test_label[idx]]])\n",
        "\n",
        "result"
      ],
      "metadata": {
        "colab": {
          "base_uri": "https://localhost:8080/"
        },
        "id": "MnWkxPREdPFv",
        "outputId": "3bed00ce-ad49-4a6f-f574-12f47edf4067"
      },
      "execution_count": 39,
      "outputs": [
        {
          "output_type": "execute_result",
          "data": {
            "text/plain": [
              "[['너 이거 이렇게 라 했 어 안 했 어 저번 선배 님 설명 해 주 신 대로 했 는데요 장난 해 내 언제 이렇게 라 했 어 너 머리 장식 니 제 착각 했 나 봐요 죄송 합니다 죄송 야 정말 답답 해 죽 겠 죽 겠 어 죄송 합니다 죄송 할 짓 말 아야지 너 오늘 이거 기 전 까지 집 못 죄송 해요 좌 속 다는 말 밖에 못 너 앞 으로 실수 안 겠 습니다',\n",
              "  '협박 대화',\n",
              "  '일반 대화'],\n",
              " ['아줌마 손 든 거 뭐 예요 장바구니 인데요 아니 장바구니 아 는데 뭐 었 어요 오늘 애 먹일 기요 아줌마 미안 한데 나 집 애 둘 이나 있 는데 돈 없 어요 소고기 좀 같이 나눠 먹 요 아줌마 옷 잘 입 거 보 니 있 어 보이 는데 나 신랑 우리 버리 서 연락 안 돼서 돈 없 어요 주민 센터 같 은데 연락 해서 도움 좀 받 그래요 아 주말 주민 센터 여 거 봤 어요 우선 당장 굶 어 죽 생겼 으니까 좀 주 라고요 죄송 해요 저 볼게요 아줌마 그냥 나 아줌마 집 까지 쫓아가 서 그 집 앞 앉 아서 애 기다려요 기다려서 뭐 요 글쎄 뭐 할까 궁금 그냥 가시 든가 아니 그냥 소고기 좀 주 던가',\n",
              "  '직장 내 괴롭힘 대화',\n",
              "  '일반 대화'],\n",
              " ['뭐 라고 뭔데 뭐 요 너 나 누군지 몰라 몰라요 그래 너 잘 만났 이리 와봐 제 왜 요 그냥 얼굴 맘 안 어 오늘 기분 안 좋 은데 너 잘 걸렸 왜 그러 세요',\n",
              "  '기타 괴롭힘 대화',\n",
              "  '일반 대화'],\n",
              " ['왜 이렇게 시끄러워 그렇 다고 애 묶 어 둬요 다리 확 부러뜨려 버릴까 보 아니 아이 좀 뛰 었 다고 협박 거 야 못 할 거 같 아 내 가만히 있 거 같 아 애 항상 너 랑 있 건 아니 무슨 말 야 담 또 뛰 기 해 봐 진짜 부러뜨릴 거 니까 뭐 야 당신',\n",
              "  '기타 괴롭힘 대화',\n",
              "  '일반 대화'],\n",
              " ['야 너 그거 었 냐 뭐 아니 걔 있 잖아 이번 프로젝트 망쳐서 엄청 깨졌 다잖아 난 또 뭐 라고 걔 원래 일 못 기 로 유명 잖아 안녕 여기 있 었 어 아니 야 뭐 지금 뭐 거 야 너 말 야 너 이번 실패 해서 깨졌 다며 부장 님 참 불쌍 어쩌다 너 같 들어와서 너 진짜 너무 한다',\n",
              "  '기타 괴롭힘 대화',\n",
              "  '일반 대화'],\n",
              " ['어때 예쁜 손가락 곧 없 어 질 텐데 림 그리 사람 한테 손 생명 에요 그러게 좋 얘기 할 때 5 개 손가락 가질 수 있 지금 작품 마무리 할게요 시간 없 다고 하루 개 씩 손가락 사라진다고 생각 해 봐 최대한 노력 해서 빨리 끝내 도록 할게요 그래 그럼 손가락 에서 발가락 까지 범위 거 야 기억 라고 기억 겠 습니다 속 셈 치 믿 어 보 매일 진행 상황 보고 라고 보 드리 겠 습니다',\n",
              "  '직장 내 괴롭힘 대화',\n",
              "  '일반 대화'],\n",
              " ['님 그만 좀 죽 어요 있 이유 님 때문 잖아요 저 별로 안 죽 었 어요 핑 찍 어서 나 핑 들어갔 는데 같이 죽 어 놓 왜 정글 욕 해요 님 그만 좀 핑계 대요 똥 손 인가 자꾸 죽 정 글 차이 인정 봐요 팀원 인정 잖아 사람 좀 인정 살 아야지 아니 왜 나 한테 그러 냐고요 님 키보드 칠 시간 이나 세요 님 제발 조용 진짜 양심 없 나 아니 그리고 여러분 저 보다 많이 죽 었 잖아요 차단 신고 시 죠 여러분 정지 당해 봐야 정신 차리',\n",
              "  '직장 내 괴롭힘 대화',\n",
              "  '일반 대화'],\n",
              " ['야 롤 티어 응 맞아 나 요즘 롤 즐겨 는데 티어 안 오르 던데 너 좀 치 냐 응 조금 편 야 그래 내 티어 좀 올려 줘라 안 돼 나 공부 해야 된단 말 야 야 너 여동생 우리 고등학교 다니 더라 얘 때리 건 질렸 는데 걔 나 때려 볼까 안 돼 여동생 건드리 말 아 줘 그러면 달 줄게 티 어 딱 올려 놔라 알 았 어',\n",
              "  '갈취 대화',\n",
              "  '일반 대화'],\n",
              " ['너 빵 좀 사 저기 방금 과자 사 왔 는데 그냥 내 배고프 니까 제발 나 좀 그만 놔줘 아니 넌 평생 해야 할 거 야 안 그래 얘 아 그치 졸업 해도 평생 제발 이번 번 사 오 보내 줘 너 말 많 아 졌 그냥 라면 해 부탁 야 맞 을래 그냥',\n",
              "  '갈취 대화',\n",
              "  '일반 대화'],\n",
              " ['어 거기 떡볶이 집 이번 달 자릿세 7 원 올랐 으니까 알 아 둬 사장 님 마디 상의 없이 그렇게 올려 버리 시 어떡 해요 안 그래도 장사 안 돼서 살 기 힘든 데 살 기 힘들 다른 일 시 던가 맨날 그렇게 놀 먹 으려 안 저희 진짜 열심히 돈 벌 아끼 아껴서 내 거 예요 된다면 다음 달 부터 안 될까요 달 라면 빨리 줘야지 내 갑 너 야 몰라 왜 협상 려고 그게 아니 저희 이번 달 돈 어떻게 쓸지 계획 있 는데 갑자기 당황 스러워서 그렇 죠 그니까 조금 조금 아끼 7 원 더 못내 여기 서 장사 면서 돈 많이 벌 잖 아 원래 받 아야 할 금액 만큼 안 받 다가 이제 받 겠 다는데 뭐 문제 야 진짜 다음 달 부터 허락 해 주 시 꼬박꼬박 7 원 씩 더 내 도록 겠 습니다 아 됐 7 원 안 낼 거 자리 에서 나 당신 말 자리 들어올 사람 많 아 아니 달 라면 줘야지 왜 안 주 건데 이번 달 부터 드리 도록 할게요',\n",
              "  '일반 대화',\n",
              "  '일반 대화'],\n",
              " ['너 되게 귀여운 거 알 나 보다 작 남자 첨 봤 어 그만 해 너희 놀리 거 재미없 어 지영 아 키 160 그럼 재 160 안 거 너 군대 안 좋 겠 너희 나 작 데 보태 준 거 있 냐 난쟁이 장가가 던데 너 희망 가져 봐 더 이상 마 라 그 키 크 수술 있 다잖아 너 엄마 그거 안 해 주 디 나라 해 줬 어 저 키 로 어찌 살 아 제발 그만 괴롭히 라고',\n",
              "  '갈취 대화',\n",
              "  '일반 대화'],\n",
              " ['지우 야 너 카톡 계정 있 그것 좀 빌려 주 라 근데 왜 요 내 계정 정지 됐 는데 비밀 번호 까먹 었 어 그거 비번 재 설정 않 아요 아 내 몰라서 묻 거 같 아 여러 번 했 는데 안 돼서 너 한테 물 어 보 거 잖 아 다른 애 한테 부탁 안 될까요 너 안 빌려 주 죽 는다 제발 요 너 형 잘 해 주 니까 무시 냐 야',\n",
              "  '갈취 대화',\n",
              "  '일반 대화'],\n",
              " ['우와 00 아 너 이번 올라온 사진 정말 예쁘 더라 아 응 고마워 그래서 그 사진 보 입 옷 이랑 립스틱 따라 사 싶 은데 어디 제품 인지 알려 줄 수 있 을까 나 정말 너 좋 아 해서 따라 사진 찍 싶 어 어 0000 여기 제품 야 우와 봤 는데 너무 비싼 것 같 아 어차피 사진 번 찍 건데 둘 빌려 주 안 될까 아 그래 빌려줄 그러 빌려 주 김 피드 올린 옷 같이 빌려 줘 아 그거 내 사촌 언니 이미 빌려 줘서 못 빌려줄 것 같 아 그래 근데 나 진짜 너무 궁금 한데 언니 한테 얼른 다시 받 아서 빌려 주 안 될까 너 엄청 착하 잖아 믿 어도 거 알 겠 어',\n",
              "  '갈취 대화',\n",
              "  '일반 대화'],\n",
              " ['안녕 세요 중고 나라 보 문 드려요 아이폰 50 원 팔 아요 입금 했 습니다 택배 보낼 요 저기요 택배 잘못 왔 는데요 아이 폰 아니 잖아요 사 기 에요 무슨 소리 는지 잘 모르 겠 네요 사기 꾼 새끼야 내 너 경찰 신고 죽여 버리 기 전 당장 내 돈 내놔라 싶 데 로 세요 너 경기 살 어떻게 알 았 내 지금 당장 찾아가 서 너 죽여버린다 기다려라',\n",
              "  '갈취 대화',\n",
              "  '일반 대화'],\n",
              " ['자기 일 로 와봐 무슨 일 십니까 오늘 내 와이프 넥타이 골라 줬 는데 어때 셔츠 랑 잘 어울리 나 잘 어울리 십니다 이건 내 여자 친구 골라 준 셔츠 야 안목 있 는데 앞 으로 내 셔츠 좀 골라 줄 수 있 나 남자 친구 없 못 걸로 겠 습니다 남편 없 으면 자기 애인 둘 있 잖아 그만 세요',\n",
              "  '기타 괴롭힘 대화',\n",
              "  '일반 대화'],\n",
              " ['민수 야 나 수술비 필요 해서 그러 데 5 원 빌려줄 수 있 을까 응 안 돼 나 다음 달 용돈 받 기 전 까지 힘들 어 아 나 수술 해야 는데 당장 돈 없 어서 그래 정말 미안 해 나 돈 진짜 없 어서 그래 나 돈 없 어 근데 수술 또 해야 좀 빌려 주 라 미안 해 야 너무 않 아 당장 수술 데 병 원비 없 어서 수술 못 잡 는데 좀 도와 줄 수 있 잖아 아니 그게 아니 라 너 수술비 보태 주 나 어떻게 벼 터 퇴원 해서 일 해서 갚 그러 잖아 좀 빌려 주 라 나 빨리 수술 해야 돼 알 았 어',\n",
              "  '일반 대화',\n",
              "  '일반 대화'],\n",
              " ['어 양 선생 교장 선생 님 양 선생 계약 기간 5 월 까지 아닌가 맞 습니다 아이고 마음 약해 는구먼 양 선생 열정 보여 주 내 번 고려 해 볼 수 있 는데 어때 열정 오 그게 무슨 알 사람 왜 그래 교장 선생 님 왜 그러 세요 아이고 싫 으면 말 아요 싶 사람 많 으니까 생각 할 시간 좀 주세요',\n",
              "  '기타 괴롭힘 대화',\n",
              "  '일반 대화'],\n",
              " ['김수임 김수임 넥타이 누가 골랐 어 김철수 주임 누가 물으면 꼭 되묻 더라 그래 넥타이 제 골랐 어요 나 이번 어머니 골라 준 줄 알 았 벼 별로 인가요 아니야 잘 어울려 김수임 얼굴 이랑 잘 어울리 팀장 님 너무 시 하하 왜 얼굴 가지 그래요 두꺼비 처럼 잘 생겼 구먼 두 두꺼비 요 어 또 되묻 는다',\n",
              "  '기타 괴롭힘 대화',\n",
              "  '일반 대화'],\n",
              " ['오늘 휴가 내 겠 습니다 휴가 왜 내 뭐 있 다고 내일 사정 있 어서 휴가 내 라고 있 거 아닌가요 새끼 그러니까 이제 취직 거 아니 야 그러 얼마나 일 못 피곤 해서 휴가 내 나 때 휴가 낸다는 말 못 했 거기 말 대들 던데 너 이번 연말 평가 점수 나 기대 해라 그러 험한 말 좀 안 나오 조심 해라',\n",
              "  '기타 괴롭힘 대화',\n",
              "  '일반 대화'],\n",
              " ['김 사장 사장 님 자네 업체 에서 이번 우리 업체 넣 기 좀 해 그게 무슨 말씀 신지 저번 이랑 말씀 다르 신데요 아 그 땐 그거 이번 자네 업체 보다 가격 싸 양 많 준다는 데 있 는데 사장 님 저 사장 님 제 평생 어떤 거짓 같 것 적 없 습니다 아 시 않 습니까 아 내 알 김 사장 야 있 거 왜 모르 겠 나 그런 저 에게 왜 그러 십니까 아니 왜 그러 겠 어 이유 있 않 겠 어 이유 요 그래그래 이제서야 말 통하 이유 뭔가요 아니 이번 에서 나온 영 좋 아 보 더라고 자네 알 잖아 우리 아버지 다리 수술 셔서 차 한대 있 었 으면 좋 겠 더라고 너무 십니다 싫 으면 마 나 강요 할 생각 없 어 그 상대 업체 우리 아버지 왔 더라고 봉투 까지 담 아서',\n",
              "  '일반 대화',\n",
              "  '일반 대화'],\n",
              " ['여보세요 저 수원 지방 법원 검사 라고 합니다 무슨 일 시 죠 선생 님 아들 성함 박 준 수 맞 죠 맞 습니다 지금 현재 님 사기 범죄 연루 셔서 아드 님 협조 잘 안 해 주 시 계셔서 저 랑 대화 좀 해 보 시 겠 어요 예 제 뭘 됩니까 지금 아드 님 연락 잘 안 제 전화 피하 는데 이거 업무 방해죄 해당 건 알 계시 요 지금 아버님 위치 에서 주민 센터 방향 으로 보관함 25 번 보일 거 예요 그 위치 5 천만 원 준비 해서 갖 놓 으시 고요 검사 님 저 그만한 돈 준비 못 는데요 기간 안 해결 해 주 셔야 문제 라 기간 지나 더더욱 불어날 텐데요 검사 님 다른 방법 없 나요',\n",
              "  '일반 대화',\n",
              "  '일반 대화'],\n",
              " ['저기요 몇 시 까지 댈 겁니까 다뇨 시끄러워서 잘 수 없 어요 조용 좋 거 요 우리 집 아닙니다 아니 긴 벌써 내 몇 번 참 았었 는데 글쎄 아니 라니까요 시치미 떼 마쇼 다음 엔 가만 있 않 거 야 됐 문 닫 겠 습니다 또 시끄럽 죽 줄 알 아 또 찾아오 신고 겠 소',\n",
              "  '갈취 대화',\n",
              "  '일반 대화'],\n",
              " ['나 아니 야 정말로 어 그래 너 나중 나 한테 좀 맞 자 미안 얼굴 거지 같 미안 해 진짜 왜 그렇게 사 냐 재수 없 으려니까 내 미안 해 너 번 더 그러 자퇴 시켜 버린다 미안 근데 내 그런 건 진짜 아니야 그걸 믿 으라고 됐 말 기 싫 으니까 꺼져',\n",
              "  '갈취 대화',\n",
              "  '일반 대화'],\n",
              " ['1 억 준비 해라 누구 야 너 지난달 거 알 있 사진 있 어 뭔 소리 야 그래 모른 척하 겠 당신 뭐 야 사진 있 다고 말 했 1 시간 안 1 억 준비 안 마누라 회사 제보 한다 도대체 왜 이러 세요 긴 말 안 할 테 니 1 시간 후 놀이터 에서 보 자 여보세요 여보세요',\n",
              "  '기타 괴롭힘 대화',\n",
              "  '일반 대화'],\n",
              " ['어제 맛있 드셨 죠 너무 맛있 었 어요 덕분 잘 먹 었 습니다 길동 님 기분 안 좋 일 있 으세요 아니요 그런 거 없 습니다 전 그럼 일 보 러 보 겠 습니다 단도직입 적 으로 하나 묻 죠 무슨 저희 아버지 회장 라 자격지심 느껴서 저 한테 대하 태도 그런 거 죠 기분 탓 십니다 맞 는데요 뭘 불 있 으면 말 로 해요 기분 나쁘 행동 으로 드러내 말',\n",
              "  '기타 괴롭힘 대화',\n",
              "  '일반 대화'],\n",
              " ['어머니 안녕 십니까 예 교장 선생 님 안녕 세요 아드님 때문 걱정 많 으시 겠 어요 정말 죄송 합니다 면목 없 습니다 교장 선생 님 안 그래도 이번 학 폭위 열 까 얘기 많이 나오 있 어요 어머니 아 안 돼요 그것 제발 안 됩니다 그렇 죠 아드 님 앞길 막히 안 잖아요 어머님 제 제 뭘 나요 뭐 든지 겠 습니다 제발 학 폭 위 막 아 주 세요 저 그렇 해 드리 싶 은데 학 폭위 열 려면 돈 좀 들어가 거든요 근데 제 그걸 막 돈 좀 없 어서 알 겠 습니다 교장 선생 님 내일 까지 바로 드리 될까요',\n",
              "  '일반 대화',\n",
              "  '일반 대화'],\n",
              " ['이야 내 동생 여자 친구 한테 편지 쓰 아 형 돌려줘 어디 보 자 사랑 여자 친구 에게 아 읽 말 라고 아니 이게 어디 서 형 한테 가만 있 어 봐 내 편지 야 요즘 항상 생각 난다 너 무슨 냐 웃기 그만 내놔 헤이 나 제수씨 대해 알 아야지 이거 사생활 침 해야 내놔',\n",
              "  '갈취 대화',\n",
              "  '일반 대화'],\n",
              " ['자네 생각 없 는가 내 자네 결혼 할 때 빈 몸 으로 와서 집 사 줬 으면 우리 집 주말 마다 와서 얼굴 비추 자네 장모 니 이야기 밥 해 먹 그래야 거 아닌가 저번 주 들렸 는데 아니 장인어른 말 죄송 합니다 자네 집 에서 교육 그렇게 받 았 는가 장인어른 말씀 좀 심하 신 것 같 습니다 왜 기분 나쁜가 나 기분 자네 때문 안 좋 제 뭘 그렇게 잘못 했 는지 모르 겠 습니다 나 참 사위 라도 마음 안 드 거 데려왔 어도 딸아이 좋 받 아 줬 더니 이런 일 생기 장인어른 너무 십니다',\n",
              "  '직장 내 괴롭힘 대화',\n",
              "  '일반 대화'],\n",
              " ['씨 왜 맨날 아무것 안 먹 어 그렇게 빼빼 말라서 야 남자 좋 아 겠 어 회식 에서 같 여자 로서 보 기 안 좋 아 선배 님 제 소화 기능 안 좋 아서 많이 못 먹 어서 그럽니다 불편 셨 다면 죄송 합니다 번 아니 여러 번 그렇 보 사람 밥맛 떨어져 그리고 왜 이렇게 남자 사원 이랑 친하 지내 거 야 꼬리 치 거 니 그런 아니 라 제 그냥 성격 잘 맞 사람 이랑 있 보 니 어쩌다 직장 눈치챘 어 씨 그렇게 남자 며 아닙니다 오해 입니다 됐 어 너 이미 어 아 그러 보 니 나 오늘 저녁 데이트 있 어서 일찍 퇴근 할 거 니까 내 몫 까지 일 끝내 둬 아무리 그래도 그건 그럼 씨 우리 부서 군 이랑 그렇 그런 사이 면서 그 와중 다른 남자 한테 꼬리 치 다닌 거 소문 쫙 내줄까 여자 소문 빨라 무서운 걸 모르 제발 그러 말 아 주 세요 말 을게요',\n",
              "  '갈취 대화',\n",
              "  '일반 대화'],\n",
              " ['잘 지내 보인다 제 여기 있 거 어떻게 알 았 어요 숨겨둔 아이 어디 있 줄 알 아 제발 제발 그 아이 안 돼요 아아 너 거 봐서 원 뭐 예요 원 뭐 겠 어 나 한테 늘 먹 던 거 그거 약속 해 줄 수 있 어요 글쎄 거 보 아이 꽤 귀엽 더라 아이 가지 이러 거 창피 않 나요 아니 전혀 너 한테 아직 받 아야 할 많 아 제발 구할 테 니깐 기다려 주 세요',\n",
              "  '일반 대화',\n",
              "  '일반 대화'],\n",
              " ['야 저 사람 봐 봐 진짜 그 티브이 나오 못생긴 개그맨 닮 않 았 냐 푸하하하 야 진짜 못 생겼 헐 너무 크 얘기 했 나 봐 저기요 지금 저 한테 말씀 신 거 예요 아닌데요 아 그래요 그냥 던 길 가시 될 거 같 은데요 야 저 사람 못생긴 대신 귀 밝 은가 봐 자기 못생긴 아나 보 저기요 저 한테 신 말 맞 네요 저 지금 심각 모욕감 느끼 있 는데 빨리 사과 세요 다른 사람 보 말 인데요 그쪽 너무 예민 거 같 은데요 제 었 어요 그 두 분 신 편 아닌 거 같 은데 그런 말 할 권리 어디 있 나요 대체',\n",
              "  '직장 내 괴롭힘 대화',\n",
              "  '일반 대화'],\n",
              " ['아이고 우리 조부장 요새 좀 부서 분위기 괜찮 나 아 하하 아이고 여긴 어쩐 일 세요 감찰관 님 께서 아이 나 뭐 우리 조부장 얼굴 보 싶 어서 왔 아 아 하하 하하 하하 저 감찰관 님 너무 보 싶 었 어요 그치 역시 우리 조부장 야 아니 근데 그나저나 저번 업무 보 고서 보 니까 중간 좀 더라 아 아 예 그 그게 그렇게 아이 조부장 뭘 이리 긴장 해 가볍 물어본 건데 허허 아 하하 예 그 그러면 아니 요번 우리 딸 학교 입학 데 조부장 친지 쪽 인사 쪽 에서 일 시 분 있 아마 아 예 예 있 죠 그럼요 그 우리 딸아이 입학 부터 졸업 까지 좀 그 부탁 싶 은데 그러 뭐 앞 으로 조부장 부서 내 확실히 뒤 봐줄 테 어떤가 하하하',\n",
              "  '일반 대화',\n",
              "  '일반 대화'],\n",
              " ['야 새끼 아 빨리 일 안 뭐 해 또 왔 저 악마 놈 임금 확 안 줘 버릴 거 너 그딴 식 으로 돈 원 없 줄 알 아 빨리빨리 제대로 저놈 대가 받 필요 없 어 점심 값 아까운 애 이야 형 님 점심 값 뭐 예요 여기 에서 일 해 주 자체 영광 인지 알 아야 됩니다 야 저기 일 해야 될 거 산더미 만큼 쌓여 있 거든 오늘 저거 못 오늘 너희 일당 없 으니까 빨리빨리 해라',\n",
              "  '일반 대화',\n",
              "  '일반 대화'],\n",
              " ['당신 우리 딸 에게 약 먹 으면 살 빠진다고 했 다면서 따님 감량 할 필요 없 어서 다이어트 약 처방 거부 했 습니다 그런데 막무가내 로 원하 셔서 처방 했 습니다 그게 그거 아니야 당신 때문 우리 딸 죽 었 어 그게 왜 저 때문 인가요 따님 제 처방 약 너무 많 약 먹 었 어요 당신 의사 야 살인자 당신 내 가만 안 둘 거 야 죽여 버리 겠 어 우리 딸 처럼 당신 번 죽 어 봐 무슨 소리 입니까 오 남용 당신 딸 때문 어서 나가 세요 병원 내 소문내 당신 얼굴 못 다닐 할 거 야 어디 한번 너 당해 봐 이러면 나 가만히 안 했 습니다 어디 해 볼 테 해 보 세요 좋 아 번 해 보 시 겠 당신 같이 남 탓 면서 사람 여럿 봤 습니다 저 생각 있 어요',\n",
              "  '기타 괴롭힘 대화',\n",
              "  '일반 대화'],\n",
              " ['이걸 이렇게 밖에 못 해 죄송 합니다 죄송 야 죄송 해요 이럴 거 그만둬 너 같 거 죽이 딴 놈 쓰 돼 죄송 해요 내 너 집 주소 랑 아 거 알 살 싶 으면 앞 으로 조심 해라 알 겠 습니다 잘 자',\n",
              "  '기타 괴롭힘 대화',\n",
              "  '일반 대화'],\n",
              " ['여기 아기 먹 공 밥 좀 주 세요 아 공깃밥 하나 추가 해드릴까요 아니 추가 말 그냥 하나 주 라고 말귀 못 알아먹 어요 그냥 아기 먹 으면 얼마나 먹 는다고 조금 덜 어 주 라고 아 저희 그렇게 안 팔 공깃밥 하나 로 판매 있 습니다 그러니까 덜 어서 주 다른 아기 손 님 오 서비스 로 주 잖아 그렇 그건 좀 아 말귀 안 통하 점장 이나 사장 불러와 알 겠 습니다',\n",
              "  '갈취 대화',\n",
              "  '일반 대화'],\n",
              " ['야 아프 냐 마 아파 해 매 애 크크 크크 야 이번 엔 이걸로 그 어 보 자 올 재미 있 겠 는데 크크 야 붙잡 아 마 재미없 어 무서워 뭐 무서워 내 칼 로 문신 만들 어 줄 멋있 거 야 칼 빵 어때 어디 그 어 줄까 오른쪽 왼쪽 어때 싫 어 이거 놔줘 싫 으면 어떻게 할 건데 왜 도망 라도',\n",
              "  '협박 대화',\n",
              "  '일반 대화'],\n",
              " ['너 자식 살리 싶 그러 빨리 널 나 에게 보낸 인간 말 못 해 그래 그렇 다면야 이제 부터 시작 으악 윽 으 그만 둬 왜 내 너 새끼 잡 아 둘 때 부터 각오 했 던 거 아니 야 아직 꺾 뼈 개 나 남 았 어 천천히 생각 해 봐 나 랑 내 자식 모두 죽여도 넌 어차피 못 벗어나 그래 그럼 난 그 사이 재미 좀 보다 죽 뭐 아아아아아 어휴 뼈 살 밖 으로 튀어나왔 아프 겠 다야 그만둬 말 할 말 잖아 날 보낸 사람',\n",
              "  '직장 내 괴롭힘 대화',\n",
              "  '일반 대화'],\n",
              " ['근데 너 부모 님 어디 나라 셔 우리 부모 님 아빠 인도 사람 엄마 중국 사람 셔 그럼 너 잡종 강아지 나 고양이 종 서로 잡종 잖아 너 잡종 야 사람 한테 잡종 라니 그냥 나 일 뿐 야 잡종 라는 말 기분 나빠 너 잡종 맞 잖아 잡종 잡종 라 뭐 라 그래 근데 왜 두 분 외국인 신데 한국 에서 살 아 한국 기업 에서 일 계셔서 그래 잡종 인데 한국 에서 돈 받 일 한다니 진짜 잡종 중 완전 잡종 잡종 아니 라고 그리고 우리 엄마 아빠 이제 한국인 라서 한국 세금 내 그 전 까지 안 냈 거 아니 야 잡종 잡종 나라 로 돌아가 괜히 우리 나라 물 흐리 말 나중 결혼 해서 애 낳 으면 거의 아님 너 말 사람 너무 기분 나쁘 한다 말 좀 예쁘 해 주 안 돼',\n",
              "  '일반 대화',\n",
              "  '일반 대화'],\n",
              " ['자네 내일 그룹 회장 억 했 다는 사실 기사 로 기자 인가 맞 습니다 좋 말 로 할 때 그 기사 올리 말 당신 천 앞 린 아파트 동 101 호 살 당신 자식 8 시 35 분 경 등교 여 4 시 피아노 학원 헉 그걸 어떻게 지금 까지 앞 말 잘 었 거 야 우리 왜 자네 에게 이런 말 했 는지 모르 겠 나 제 만약 올리 된다면 어떻게 나요 저 시민 알 권리 있 대한 민국 밝히 일 제 직업 적 소명 기에 기자 라는 직업 습니다 자네 같 기자 수십 아니 하루 열 명 씩 처리 한다네 세상 엔 권력 자네 목숨 값 하나 정도 야 쉬워 지금 안 한다고 목숨 챙겨 나갈 수 있 지만 내일 당신 포함 당신 가족 전부 죽 될 거 야 세상 엔 경찰 있 않 습니까 분명 폭로 한다고 했 던 기자 죽 것 보 공론 화 어서 당신 죽인 날 거 예요 말귀 잘 못 알아먹 군 자네 세상 바꿀 수 있 거 라 생각 한다면 큰 야 멍청 직업 적 소명 내일 당장 인사 못 채 로 산 쳐 묻히 기 싫 으면 조용히 파일 넘기 나가 살려 주 세요',\n",
              "  '갈취 대화',\n",
              "  '일반 대화'],\n",
              " ['이번 대회 나가 는데 말 필요 해요 말 요 어떤 말 될까요 실장 님 우리 딸 탈 거 니까 제주도 에서 나 자란 최 고급 말 로 부탁 해요 알 겠 습니다 그런데 저희 회사 돈 좀 부족 해서 그런데 언제 까지 마련 될까요 김 대표 요즘 배 많이 부른 봐 아닙니다 제 말 실수 했 습니다 알 됐 어 이달 말 까지 부탁 해 알 겠 습니다 더 필요 것 없 으세요 다른 건 괜찮 아',\n",
              "  '직장 내 괴롭힘 대화',\n",
              "  '일반 대화'],\n",
              " ['결정 했 어 불로 거 야 듣 있 잠깐 테이프 때 줄 갑자기 왜 이러 겁니까 도대체 미쳤 습니까 선생 님 전 적 있 어 즉 불 타 죽 가장 고통 스러운 죽음 라고 줌 재 싶 않 으면 지금 부터 말 잘 어 어린 친구 뭘 말 입니까 집 에서 꺼져 공간 나 것 야 나 없이 절대 완성 될 수 없 공간 그랬 어야 했 어 나 위해 만들 어 진 곳 에서 다른 누군가 산다 그건 안 될 말 전 무슨 말 는지 전혀 모르 겠 습니다 집 정당 구입 것 으로 제 소유 받아들이 못하 겠 다면 걸 기름 부 어 줄게 그리고 머리 위 올려 줄게 그럼 천천히 불 번지 뜨겁 타오르 기 시작 하나 촛불 거 정말 거 야 너 에게 있 어서 굉장히 고통 스럽 겠 진짜로 완전히 미쳤 군요 지금 까지 계속 미치 않 척 겁니까 말조심 친구 난 단 순간 제정신 아니 었 던 적 없 어 더 할 말 없 으니 자네 결정 순간 알 겠 습니다 지금 나간다고 요 일단 이것 좀 풀 어 주 세요 당장',\n",
              "  '기타 괴롭힘 대화',\n",
              "  '일반 대화'],\n",
              " ['몽둥이 로 너 두들겨 팰 거 야 나 한테 왜 이러 거 야 최 교수 너 너무 많 과제 줬 어 학생 진정 도록 해 내 당신 수업 만든 줄 아 나 보 제발 이러 마 나 한테 학점 거지 같이 줬 겠 누가 좀 살려 줘요 너 자식 오늘 제삿날 제발 부탁 야 앞 으로 안 그럴 테 니 제발',\n",
              "  '갈취 대화',\n",
              "  '일반 대화'],\n",
              " ['저기 나 오늘 에어컨 사고 세탁기 샀 는데 왜 사은품 안 줘 세일 들어간 상품 이나 전시 상품 사은품 안 드려요 이미 할인 들어간 제품 라서요 그런 어디 있 어 돈 차이 나 얼마나 차이 난다고 나 저 인가 뭐 랑 토스 사은품 줘 저희 물품 마다 사은품 개수 정해져 있 어서 드리 싶 어도 마음대로 못 드려요 이해 해 주 세요 어머니 난 이해 못 혀 내 이거 받 으려고 여기 서 산 건데 원래 세일 아니 토스트 기 주 거 맞 맞 아요 그 토스 트 기 현재 정가 에서 약 20 할인 된 가격 으로 사실 수 있 으니 번 생각 해 보 세요 뭔 내 돈 주 사 나 그냥 이거 하나 가져간다 솔직히 하나 줄 수 있 는데 거짓말 거 잖 아 아니 에요 어머니 진짜 사은품 개수 정해져 있 어서 저희 마음대로 드릴 수 없 어요 그거 내려놓 으세요 그거 가져가 절 죄 입니다 안 가져가 내 돈 주 살 거 야 마음대로 생각 마 아 진짜 요 죄송 합니다 어머니 오늘 좋 시간 보내 시 행복 세요 어 저기 아가씨 이거 많이 사면 사은품 준다고 거 야 훔친 아니 아니 저기 어머니 그거 제 사은품 아니 라고 했잖아요 이리 가져오 세요 가지 나가 시 절도죄 로 신고 합니다',\n",
              "  '일반 대화',\n",
              "  '일반 대화'],\n",
              " ['우리 친구 기범 오늘 무슨 찐 또 짓 있 을까요 우리 같이 찾아가 봐요 멈춰 맨 하하하 그 그 그만 괴롭혀 줬 으면 조 좋 겠 어 그 그 그 그럴까 조 조 조 좆 까 키 킥 아니 하하하 이건 너무 웃기 하하하 진짜 레전드 하하 마 말 란 말 으로 모든 해결 학교 폭력 누구 누구 선정 4 대 아니 겠 지요 야 말 가려서 해라 이건 하늘 에서 정의 현장 폭력 아니 라 하하하 뭐 그렇 긴 해 키킥 어디 봅시다 어이쿠 오타쿠 기범 폰 으로 애니메이션 보 있 었 네요 돌려줘 오우 너무나 혐오 스러운 걸 얘 아 윤 기범 님 요즘 커플 하트 오브 신다고 한다 야 근데 너 이거 비슷 거 보 않 냐 아마추어 같이 왜 이래 봐서 혐오 스러운 거 겠 냐 아니면 윤 기범 그 자체 혐오 스러운 거 겠 냐 아 키킥 이거 돌려줘 이게 갖 싶 으면 키 킥 점심 시간 옥상 으로 따라와라 과연 기범 폰 돌려받 수 있 을까요 2 부 에서 계속 됩니다 구라 지만 하하하',\n",
              "  '갈취 대화',\n",
              "  '일반 대화'],\n",
              " ['컥컥 오늘 공기 탁 한가 봐요 스 읍 오늘 따라 숨 더 잘 안 쉬 어 네요 야 너 제발 회사 에서 좀 적당히 안 냐 시끄러워 죽 겠 어 제 어릴 때 부터 호흡기 안 좋 아서 앓 있 어서 그래요 죄송 해요 그리고 너 맨날 그 뭐 냐 호흡기 그것 그만 흔들 어 정신 나가 버리 겠 어 사람 이거 안 숨 너무 막혀서 호흡 곤란 와요 최대한 적 쓰 든 록 노력 할게요 그거 내놔 봐 호흡기 인가 뭔가 그거 줘 봐 나 한테 여기 요 근데 왜 요 아니 적 쓰 든 록 노력 한다며 내 도와 주 려고 집 기 전 줄게 회사 에서 하루 번 씩 써 그래야 쓰 양 줄지 대리 님 빨리 주 세요 저 지금 숨 빨리요 야 엄살 피우 마 안 죽 어 적 쓰 도록 노력 한다며 알 아서 잘 조절 해 봐 그것 조절 할 수 있 어야 그게 사람',\n",
              "  '협박 대화',\n",
              "  '일반 대화'],\n",
              " ['먼저 끼어들 었 잖아 지금 누구 보 러 너 라고 십니까 새끼 인성 있 척하 내 길 방해 안 했 나 아닙니다 전 여유 두 들어왔 습니다 비켜 주 시 죠 치아 뽑 아 피 철철 나 면서 생 마감 해 주 까 선생 님 이러 말 비켜 주 시 죠 못 알아듣 영영 눈 못 뜨 해 준다는 말 인데 죄송 합니다 제 죄송 합니다 표정 영 맘 않 아 제 표정 안 좋 았 다면 죄송 합니다 좋 인상 으로 바꾸 겠 습니다 이제 그만둬 주 세요',\n",
              "  '직장 내 괴롭힘 대화',\n",
              "  '일반 대화'],\n",
              " ['똑바로 안 할 거 야 지금 며칠 지났 는데 죄송 합니다 그게 수행 방해 꾼 나타나 서 그건 알 아서 했 어야지 못 어쩔 수 없 그게 무슨 말씀 몸 으로 때워야 자네 신장 멀쩡 한가 죄송 합니다 제대로 겠 습니다 그럼 제대로 해야지 아니 너 신장 하나 떼 겠 저 한테 너무 시 거 아닙니까 너무 다고 말귀 못 알아듣 시간 지연 하나 가져갈 테 니까 똑바로 해 알 겠 습니다',\n",
              "  '기타 괴롭힘 대화',\n",
              "  '일반 대화'],\n",
              " ['당신 생각 있 사람 야 없 사람 야 어 왜 나 한테 그래요 내 뭘 잘못 했 다고 아니 어떻게 모임 사람 만나 자리 옷 그따위 로 입 나올 생각 해 어 옷 뭐 어 때 서요 옛날 엔 이쁘 다고 해 줬 잖아요 야 참 10 년 전이 랑 똑같 아 얼굴 주름 해서 어 다른 집 와이프 관리 잘 다니 더라 어휴 내 관리 안 한다고요 야 이거 이거 봐라 옷 터지 려고 한다 옷 안쓰럽 않 아 당신 왜 이렇게 변했 어요 여자 냐 집 에서 좀 입 말 야 그런 모임 간다고 했 으면 숍 라도 좀 그러 라고 답답 여편네 야 당신 맨날 돈 못 벌 어 오 면서 쓰 기 한다고 니까 나 아끼 려고 거 잖 아요 이쁘 내 그런 말 겠 냐 아주 주 근데 그렇게 생겨 먹 었 는데 내 피 같 돈 쓰 얼마나 아깝 겠 냐',\n",
              "  '갈취 대화',\n",
              "  '일반 대화'],\n",
              " ['야 팀장 유독 너 한테 되게 까칠 괴롭히 것 같 아 똑같 일 는데 계속 너 혼 내 잖 아 흑흑 정말 힘들 어요 왜 절 싫 어 는지 모르 겠 어요 너 지금 일 안 왜 옆 사람 이랑 떠들 놀 아 너 당장 내 자리 로 어이구 또 시작 너 지금 나 엿 먹이 려고 본사 직원 왔 갔 니까 일부러 우 거 아니 에요 저 한테 왜 이러 세요 아니 긴 뭐 아니야 누가 보 내 너 괴롭히 줄 알 거 아냐 그만 뚝 그치 못해 안 겠 잘못 반성 때 까지 여기 서 계속 서 있 어',\n",
              "  '기타 괴롭힘 대화',\n",
              "  '일반 대화'],\n",
              " ['그러 무사 할 줄 알 았 어 두 발 로 걸 어 다니 싶 으면 처신 잘 해라 진짜 어 없 어서 우리 참 건 줄 알 아라 제 그렇게 잘못 했 나요 알 겠 습니다 주의 할게요 빌빌 기 것 좀 봐라 구토 나온다 다행 야 위 선 에서 모르 있 어서 우리 그나마 착해서 넘어가 거 야 아니면 너 랑 가족 어떻게 될지 몰라 궁금 번 계속 해 보 시 든가 볼 겠 는데 아니 요 알 겠 다고요 볼 일 끝 나 셨 으면 세요 너 말투 왜 그래 좀 거슬린다 새끼 아직 정신 못 차렸',\n",
              "  '갈취 대화',\n",
              "  '일반 대화'],\n",
              " ['애 니까 뛰 그럼 애 묶 어 놓 을까요 뜨거운 음식 나르 는데 위험 해서 요 사고 날 뻔 했 습니다 그러니까 서빙 할 때 잘 보 다녀야 죠 우리 애 어떡 할 뻔 했어요 죄송 합니다 애 갑자기 튀어나와서 그래서 우리 애 잘 못 했 다는 거 예요 아니요 아니 여기 직원 관리 어떻게 시키 거 야 죄송 합니다 조심 좀 해 주 세요 아들 공부 안 저렇게 아저씨 처럼 이런 곳 에서 일 거 야 저 아저씨 처럼 기 싫 으면 공부 열심히 자',\n",
              "  '직장 내 괴롭힘 대화',\n",
              "  '일반 대화'],\n",
              " ['야 너 어제 내 대신 동아리 방 청소 랬지 아 맞 맞 싶 냐 오늘 당장 해라 알 았 어 야 라 꾸 라 꾸 없 던데 하나 사 놔 내 돈 으로 어 그럼 내 돈 냐 나 돈 없 는데 박 씨 너 이따 뒷골목 으로 따라와 알 았 어',\n",
              "  '갈취 대화',\n",
              "  '일반 대화'],\n",
              " ['당신 아들 사람 때렸 다고 우리 대가 요 6 주 나왔 는데 어쩔 거 예요 우리 애 그런 맞 아요 나 경찰 신고 해도 상관없 는데 그냥 치료비 주 세요 조용히 처리 합시다 아니 그럴 리 없 는데 아 그럼 경찰서 아니 잠깐 요',\n",
              "  '기타 괴롭힘 대화',\n",
              "  '일반 대화'],\n",
              " ['야 너희 둘 뭐 야 아 들켰 뭐 긴 머 야 연인 사이 뭐 왜 놀라 그래 남자 너 랑 만나 라는 법 있 니 뭐 나 보다 잘난 뭐 있 니 외모 몸매 너 그냥 잠깐 만나 기 좋 여자 일 뿐 야 그리고 너 한테 남자 어울린다고 생각 니 전혀 사람 너 한테 질릴 만큼 질렸 으니까 나 한테 넘어온 거 너무 안 좋 생각 마 아 있 때 잘 그랬 어 질리 여자 걸 내 뭐 어떻게 니',\n",
              "  '갈취 대화',\n",
              "  '일반 대화'],\n",
              " ['좀 조용히 해 주 세요 여기 놀이터 입니까 애 휴일 라 좀 그런 걸 가지 그러 세요 밖 에서 놀 는데 왜 집 에서 그래요 밑 지진 나 요 코로나 때문 나가 기 그래서 그러 니 이웃 끼리 이해 좀 지금 하루 이틀 입니까 새벽 뛰 는데 누가 이해 해요 우리 애 잠 별로 없 어서 그래요 밖 에서 에너지 빼 야 는데 못 그러 니 집 에서 에너지 당신 사 오 전 우울증 까지 와서 정신 약 먹 있 어요 그 책임 질 겁니까 그게 우리 때문 라는 증거 있 나요 내 돌 아 버리 기 전 집 불 내면 너희 어찌 될까 당신 제정신 아니 군 제정신 아니 니 정신 다니 이사 갈래 불 맛 볼래',\n",
              "  '갈취 대화',\n",
              "  '일반 대화'],\n",
              " ['얘 아 맛있 먹 어 생일 축하 해 역시 우리 반 애 밖에 없 야 근데 쟤 먹 것 좀 봐 왜 저렇게 돼지 처럼 먹 냐 그러 니깐 눈치 없 왜 가지 진짜 올 줄 몰랐 먹 것 젤 많이 먹 야 들리 겠 작 말 해 빨리 먹 우리 끼리 놀 러 자 오케이 오케이 쟤 빼 빨리 놀 러 야지',\n",
              "  '직장 내 괴롭힘 대화',\n",
              "  '일반 대화'],\n",
              " ['야 너 내 수비 제대로 라 했 미안 미안 야 니 땜 축구 졌 잖아 진짜 미안 너 내 예쁜 척하 말 수비 나 제대로 라고 했잖아 미안 근데 예쁜 척 적 없 어 꼬리 나 치 마 화난다 미안 해 담임 한테 고자 질 죽 는다 응',\n",
              "  '갈취 대화',\n",
              "  '일반 대화'],\n",
              " ['입 더 크 벌려 마세요 독약 흘려 넣 어 줄 안 돼요 제발 아주 치명 적 오 안 돼 마시 바로 즉사 할 걸 제발 살려 주 세요 모금 삼 켜 아주 치명 적 야 안 돼 안 돼 벌레 처럼 대 참 볼 살려 주 세요 제발',\n",
              "  '갈취 대화',\n",
              "  '일반 대화'],\n",
              " ['이번 제 낸 프로젝트 어때요 그냥 솔직히 말 세요 안 불편 세요 뭐 요 그거 제 아이디어 잖 아요 무슨 소리 세요 제 낸 아이디어 가져가 서 쓰 신 거 잖 아요 무슨 너 아이디어 야 말 제대로 해 실적 낮춰 줘 뭐 라 던 난 널 망가뜨릴 수 있 어 그냥 조용히 있 어 회사 말 할게요 저 더 이상 못 참 겠 네요',\n",
              "  '협박 대화',\n",
              "  '일반 대화'],\n",
              " ['너 태어날 때 부터 휠체어 타 다녔 냐 아니 그러면 사고 났 냐 어릴 적 교통사고 났 어 진짜 불편 겠 내 너 였으면 그냥 살 기 싫 었 거 같 아 그게 무슨 소리야 맞 잖아 혼자 일어나 못하 뭘 혼자 서 할 수 있 는데 그만 해 제발 나 할 수 있 거 많 아 할 수 있 으면 일어나 봐 으윽',\n",
              "  '직장 내 괴롭힘 대화',\n",
              "  '일반 대화'],\n",
              " ['혹시 오늘 교시 자율 빠지 수업 보충 인가요 저희 반 애 그러 길래 모르 셨 어요 어떻게 애 보다 학교 공지 더 수 있 어요 저 한테 공지 안 와서 미쳐 확인 못 했 네요 어쩌 죠 교과서 안 가지 온 애 많 다고 던데 혹시 저희 반 5 교시 수학 던데 선생 님 오늘 교과서 없이 수업 나가 실 수 없 을까요 그건 안 겠 는데요 이제 곧 시험 라 다른 반 이랑 똑같이 안 맞춰 주 애 사이 에서 불만 나와요 그니까 왜 담임 어서 학교 공지 확인 안 다니 십니까 제 확인 안 아니 공지 문자 저 한테 안 온 거 같 아요 누락 된 거 같 아요 국어 선생 님 선생 님 학교 공지 담당 죠 어제 수업 보충 한다고 공지 보낸 거 누락 된 분 계세요 없 을걸요 왜 요 화학 선생 님 아니 제 아무리 공지 누락 시켰 해도 알 아서 확인 셔야 그럼 뭐 애 따로 공지 받 소식 아나 요 저 한테 공지 안 온 걸 제 무슨 수 로 알 아 학사 일정 자율 라 어 있 으니 저 학급 활동 려고 했 죠 화학 선생 님 반 애 너무 불쌍 시험 기간 얼마 남 았 다고 어휴 못난 담임 둬서 애 불쌍 네요 그러 말 에요 학교 관심 없 공지 안 해 주 애 무슨 대학 수업 듣 것 아니 자기 알 아서 해야 건가 봐요 선생 님 분발 좀 해요 공지 안 온다고 손 빼놓 있 말 요 일부러 공지 저 한테 안 보내 신 거 아니 죠 왠지 말씀 시 거 보 니까 일부러 그러 신 거 같 은데요 저 봐 저 봐 또 남 한테 핑계 찾 일부러 그랬 다면 어쩔 건데요 그리고 담임 어서 내일 변동 사항 없 는지 다른 선생 님 물어봐야 거 아닌가요',\n",
              "  '기타 괴롭힘 대화',\n",
              "  '일반 대화'],\n",
              " ['사장 님 안녕 세요 출근 셨 습니까 생신 축하 합니다 제 편지 습니다 오 편지 야 감동 번 읽 어 볼 야 근데 너 글씨체 왜 이러 냐 아 제 어릴 때 부터 글씨 지렁 같 다는 말 많이 었 습니다 정성 안 들어간 거 아니 야 우리 5 살 딸 글씨 써도 너 보다 잘 쓸 거 같 아 에이 부장 님 왜 이러 세요 그냥 마음 봐 주 세요 글 내용 제 거의 3 일 고민 면서 쓴 편지 라고 요 글 내용 눈 안 들어와 글씨 너무 이상 해서 야 정도 너 어머니 애 낳 미역국 안 먹 거 아니 야 그래서 모질 라 진 거 사장 님 사장 님 생신 라고 제 선물 이랑 편지 하나하나 준비 건데 너무 세요 야 왜 아니 딱 글씨체 봐도 알 수 있 약간 글씨 불 안정 너 집안 정말 불 안정 했 던 거 아니 냐 아닙니다 자꾸 그렇게 얘기 실 거 돌려주 세요 저 이런 말 듣 드리 싶 생각 없 어요 야 그래 가져가 가져가 너 부모 이렇게 졸렬 밑 에서 나온 애 뭐 이렇 너 글씨체 봐도 사회생활 되게 못 할 거 같 글씨체 야 알 아',\n",
              "  '기타 괴롭힘 대화',\n",
              "  '일반 대화'],\n",
              " ['요즘 액수 작 미안 해 요즘 용돈 작 아 그게 나 랑 무슨 상관 야 저번 줬 는데 또 필요 해 야야야 당연 너 지키 값 작 냐 아니 그건 너 왕따 에서 벗어나 해 준 누구 야 나 잖 아 늘 고맙 생각 는데 이제 그만 다시 왕따 속 에서 구르 싶 은가 봐 괴롭혀 줄까 아니 돈 가져 올래 다시 구해올',\n",
              "  '기타 괴롭힘 대화',\n",
              "  '일반 대화'],\n",
              " ['야 그래픽 작업 퀄리티 이따위 야 죄송 합니다 아오 진짜 왜 이런 쓰레기 뽑 았 을까 죄송 합니다 사장 님 너 죄송 다는 말 잘 차라리 그런 말 할 시간 일 이나 해 넵 사장 님 요즘 신입 문제 죠 아니 아주 물건 들어왔 어 저 신입 재능 있 어 그럼 왜 그리고 나 요 새끼야 이게 회사 위한 거 야 무슨 소리 죠 저 녀석 만든 그래픽 내 칭찬 저 녀석 알 아서 저작 권 가져간다고 그 말 즉 슨 고럼 욕 해서 라고 말 다음 포기 시키 우리 저작 권 꿀꺽 거 야 이야 사장 님 천재 입니다',\n",
              "  '기타 괴롭힘 대화',\n",
              "  '일반 대화'],\n",
              " ['아 너 어디 냐 어 나 엄마 심부름 야 길 내 빵 돌 좀 사 와라 나 돈 주 사 올게 돈 없 으니까 대충 아무거 나 좀 사 와라 친구 끼리 뭐 돈 받 그러 냐 어 진짜 돈 없 는데 쪼잔 놈 너 학교 에서 우리 랑 어울리 기 싫 냐 왕따 싶 맘대로 해라 아 그게 아니 빨리 사와 알 겠 어',\n",
              "  '갈취 대화',\n",
              "  '일반 대화'],\n",
              " ['좋 좋 갑시다 어차피 두 개 달린 거 하나 없 다고 죽 것 아니 잖아 왜 이러 세요 누구 세요 서로 서로 좋 자고 건데 눈 하나 빠진다고 앞 안 보여 그런 거 아닌데 그냥 순순히 수술 합시다 제 왜 제 눈 그 사람 한테 왜 제 눈 까지 내줘야 합니까 이렇게 말 서운 한데 그 동안 당신 우리 도움 으로 애 학교 보내 거 아닌가 그건 당신 못 주 겠 다고 뭐 이번 첫째 고등학교 들어갔 다고 했 나 한창 공부 할 나이 겠 아이 건들 마십시오 공부 해야 나이 눈 참 중요 데 그렇 제발 이러 마시 다른 방법 찾아봐 주 세요',\n",
              "  '갈취 대화',\n",
              "  '일반 대화'],\n",
              " ['나 후배 오빠 랑 같이 밥 먹 데이트 자 죄송 합니다 선배 저 선배 한테 관심 없 어요 어허 선배 사 준다 오빠 고맙 습니다 이쁘 웃 으면 거 야 선배 한테 밥 얻어먹 이유 없 고요 예쁘 웃 으라는 발언 좀 불편 합니다 아니 내 성희롱 했 어 왜 사람 범죄자 취급 해 그렇게 들리 셨 으면 죄송 합니다 그렇지만 저 싫 어요 튕기 것 적당히 해야 귀여운 거 야 나 랑 척 져 봤 자 대학 생활 좋 거 없 어 선배 이러 시 거 협박 에요 협박 같 아 곧 현실 될 걸 그럼 저 가만히 있 않 겁니다',\n",
              "  '협박 대화',\n",
              "  '일반 대화'],\n",
              " ['오늘 윗집 축구 하나 보다 어휴 오늘 또 잠 잤 구나 경비실 전화 해야 겠 경비 아저씨 죄송 데 101 동 호 층간 소음 인터폰 좀 해 주 세요 여기 호 인데요 그쪽 에서 인터폰 셨 어요 하루 이틀 아니 11 시 자 야 시간 인데 너무 신 거 아니 에요 그쪽 애 키우 면서 정도 예민 굴 려면 아파트 왜 살아요 낮 참 9 시 부터 시작 해서 11 시 예요 윗 집 에서 조심 해야 시간 죠 제 일 와서 애 반갑 다고 인사 씻 인데 그게 시끄럽 다면 어쩌 라고요 어쩌 라니요 조심 해 달 라고요 사람 이런 식 으로 나오 망치 내려갑니다 제대로 층간 소음 알려 드려요 지금 뭐 라고 셨 어요 협박 거 예요 경찰 불러요 경찰 오 기 전 제 제대로 판 니 조용히 살 싶 으면 인터폰 마요 번 더 경비실 에서 전화 오 밑 집 버릴 테 니',\n",
              "  '갈취 대화',\n",
              "  '일반 대화'],\n",
              " ['너 올해 몇 살 00 살 이요 야 너 안 겠 빨리 결혼 해야 겠 아직 경제 적 으로 그렇 여러 가지 로 준비 안 어서요 너 공무원 이랑 결혼 해야 해 안정 적 사람 비슷 안정 적 사람 만나 싶 어 않 을까요 아니야 안 그래 아 뭐 어디 같 대단 집안 이랑 결혼 려고 결혼 안 건 아니 그럴 리 가요',\n",
              "  '직장 내 괴롭힘 대화',\n",
              "  '일반 대화'],\n",
              " ['자네 집 개 우리 집 개 물 어서 피 나 뜯겨 서 병원 까지 다녀왔 아 미안 됐 목줄 풀 어느새 나가 버렸 뭔가 자꾸 그런 식 으로 사과 넘어가 는데 내 기분 좋 않 아휴 강아지 싸움 우리 까지 이러 쓰 나 그냥 강아지 아니 라 나 한테 가족 같 아이 아이 알 았 알 았 어 이번 그냥 넘어가 세 내 기분 너무 안 좋 이러 다가 정말 될 것 같 은데 병원 비랑 사과 제대로 받 겠 진짜 자네 쪼잔 스럽 나오 겠 는가 또 잔 라고 했 어 진짜 보 자 보 자 니까 안 겠 내 자네 집 개새끼 목 비틀 어 죽 어 버리 자네 가만 안 둘 테 니 기다리 소 아니 자네 갑자기 왜 그런가 별일 아닌데 오버 말 진정 자꾸 나 예민 사람 쪼잔 사람 만드 는데 진짜 내 터져서 살 수 없 기다리 내 낫 라도 가져와서 다시 대화',\n",
              "  '갈취 대화',\n",
              "  '일반 대화'],\n",
              " ['그냥 우리 이거 마시 죽 자 여보 갑자기 왜 그래요 이렇게 살 아도 사 아닐 바 그냥 죽 자 무섭 이러 말 아요 조금 진정 해요 마셔 마시 라고 마셔서 죽 것 만큼 깔끔 빠른 것 없 어 그렇지만 우리 잘 해 왔 잖아요 잘 해 뭘 잘 해와 맨날 이렇게 빚 도망 다니 숨 어 사 것 지긋지긋하 나 무서워요 죽 기 싫 어요 여보 무서워 그럼 입 벌려 내 먹여 줄 테 니까 그럼 거 아냐 손 으로 직접 못 마시 겠 으면 내 먹이 겠 다고 마요 여보 진짜 싫 어요',\n",
              "  '갈취 대화',\n",
              "  '일반 대화'],\n",
              " ['제발 부탁드려요 아직 돈 준비 못 했 어요 조금 더 시간 주 세요 아니 이게 도대체 몇 번 째 야 내 이번 까지 준비 못 찾아가 서 죽여버린다 했 요즘 경기 안 좋 아서 장사 잘 안 돼요 조금 연장 해 주 시 안 될까요 내 장사 안 거 까지 봐 주 면서 돈 받 아야 냐 그건 사정 5 일 뒤 돈 들어오 있 어요 제발 요 3 일 3 일 준다고 그 안 돈 만들 어 가지 감사 합니다 감사 합니다 3 일 뒤 안 가지 오 그 땐 각오 좋 거 야',\n",
              "  '일반 대화',\n",
              "  '일반 대화'],\n",
              " ['아 운전 똑바로 셔야죠 죄송 해요 이걸 어쩌 차 긁혔 잖아요 일단 보험 사 내 한가 해 보여요 보험 사 기다리 그럼 어쩌 죠 내 알 아서 수리 200 원 입금 해요 살짝 긁혔 는데 200 원 이요 아니 과실 완전히 그쪽 있 잖아요 아 그럼 어쩔 수 없 죠',\n",
              "  '일반 대화',\n",
              "  '일반 대화'],\n",
              " ['선생 님 음주운전 측정 있 겠 습니다 어 고생 많 아 후 불 어 주 세요 아 나 모르 나 아직 신입 인가 나 너 서장 이랑 친구 인데 오늘 좀 좋 자리 있 어서 한잔 했 어 아 그렇 습니까 그럼 후 불 어 주 세요 아니 말귀 안 통하 젊 친구 그렇게 원칙 대로 다가 먼저 골 로 수 있 어 왜 그러 십니까 이럴 때 눈치껏 보내 줘야 무슨 짓 이야 내 서장 친구 라니까 어 아주 무서운지 모르 내 만만 해 제 일 했 뿐 입니다',\n",
              "  '협박 대화',\n",
              "  '일반 대화'],\n",
              " ['우리 셔틀 왜 이렇게 얼굴 았 어 어 나 잘 모르 겠 어 너 그 전 학교 에서 셔틀 었 다며 아 아니야 아니 긴 뭘 아니 야 딱 봐도 셔틀 인데 아냐 아 맞 나 배고픈데 빵 좀 사 와봐 나 오늘 돈 없 는데 돈 없 나 랑 뭔 상관 냐 맞 을래 학교 생활 힘들 어 싶 어 미안 해',\n",
              "  '갈취 대화',\n",
              "  '일반 대화'],\n",
              " ['아저씨 저 담배 하나 사 주 세요 아니 학생 담배 몸 안 좋 아 아저씨 무슨 상관 에요 부모 라도 돼 생각 말 라 그래 아 됐 안 사 줄 거 됐 어요 학생 아 진짜 짜증 나 어딜 잡 아요 안 사 줄 거 꺼지 라고 학생 그러 안 돼 안 긴 뭐 안 돼 아저씨 내 인생 살 아 줄 거 야 기분 나쁘 니까 꺼지 라고 대 맞 아야 정신 차릴 거 예요 학생 나중 후회 해 그래서 말 이야 아주 그냥 성자 나 셨 성자 두 번 말 안 해 안 사 줄 거 꺼져 처맞 기 싫 으면',\n",
              "  '기타 괴롭힘 대화',\n",
              "  '일반 대화'],\n",
              " ['동생 아 너 내 어제 설거지 해 놓 으라고 했 형 나 어제 오늘 바쁘 다고 말 했잖아 어쭈 그래서 안 이번 형 해 주 라 설거지 안 해 두 너 지난번 성적표 숨긴 거 엄마 께 말 한다 아 그건 좀 아니 그리고 저번 오 티 간다고 거짓말 클럽 에서 것 말 할 거 야 형 진짜 러 야 싫 으면 해 놓 던가 아 잖아 설거지',\n",
              "  '갈취 대화',\n",
              "  '일반 대화'],\n",
              " ['민수 이름 으로 예약 했 는데요 손님 예약 안 돼 있 어요 제 제 이름 으로 예약 분명히 했 어요 확인 해 봤 지만 예약 안 돼 있 습니다 여기 잘못 니까 자리 내 줘요 예약 안 돼 있 어서 그건 어렵 습니다 난 아무 자리 앉 거 니까 알 아서 해요 나가 주 셔서 기다려 주 세요 난 못 해 자리 만들 어 줘 자리 없 는데 어떡 죠',\n",
              "  '직장 내 괴롭힘 대화',\n",
              "  '일반 대화'],\n",
              " ['할아버지 담배 갑 사 주 세요 녀석 어디 어른 한테 심부름 시켜 아 저희 라 안 요 좋 말 할 때 사 주 시 죠 뭐 좋 말 할 때 늙 어서 힘 없 주제 제 심부름 값 드릴게요 이것 아 할아버지 화내 것 봐 진정 세요 그러 골 로 가시 겠 뭐 어 아 빨리요 저승길 기 전 담배 값 사 주 세요 이놈',\n",
              "  '갈취 대화',\n",
              "  '일반 대화'],\n",
              " ['나 만나 줘 왜 그러 세요 정말 부담 스러워 요 부장 님 아니 같이 나이 들어가 처지 노처녀 키 라 번 만나 자는데 뭐 문제 야 제발 요 저 누구 만날 생각 없 어요 아니 몸 금칠 라도 거 야 밥 번 먹 어 보 아니 싶 으면 안 만나 잖아 아니요 저 그럴 생각 없 어요 제 생각 단호 요 어쭈 진짜 몸 금칠 라도 했 는지 피부 라도 벗겨 봐야 알 겠 어 그런 모욕 적 참 있 않 겠 습니다 안 참으 어쩔 건데 어 악 아파 요 놔 주 세요 머리 뽑혀 요 너 같 것 말 로 해서 안 돼',\n",
              "  '기타 괴롭힘 대화',\n",
              "  '일반 대화'],\n",
              " ['인테리어 비 좀 깎 아 주 세요 이것 진짜 많이 깎 아 드린 건데요 아 그런데 나 맘 카페 운 거 아 시 죠 내 카페 후기 잘 써볼 테 니까 더 깎 아 줘요 삼 백 까 주 거 어때 사모님 인건비 안 아니 남 없 다는 건 그렇 그런 말 삼 백 진짜 안 돼요 사장 님 그냥 통 크 해 아직 젊 거 같 은데 업체 라도 망하 큰일 잖아 그렇 괜히 입소문 타 서 좋 거 없 어 생각 좀 해 보 겠 습니다',\n",
              "  '일반 대화',\n",
              "  '일반 대화'],\n",
              " ['당신 미쳤 어 왜 남 차 부시 지랄 야 앗 드디어 나왔 허 나 참 남 차 창문 부시 면서 웃 놈 처음 야 너 뭐 야 뭔데 지랄 냐고 내 묻 잖아 아 저 아까 차 45 바 인데요 아까 무단 시 온 준 셔서 이제 그런 행동 못 려고 부시 있 어요 이런 미친놈 처음 보 야 너 뒤지 싶 냐 어디 서 어린놈 면서 지랄 야 너 내 누군지 몰라 좀 맞 자 아 아아악 그러게 저 왜 때려요 맞 으면 아프 단 말 에요 맞 으면 아픈 데 아픈데 왜 때리 거 야',\n",
              "  '기타 괴롭힘 대화',\n",
              "  '일반 대화'],\n",
              " ['씨 주말 뭐 했 어 가족 이랑 어디 좀 갔 왔 어요 가족 무슨 남자 친구 겠 가족 이랑 갔 온 거 맞 아요 남자 친구 잘 해 줘 그때 보 니까 힘 없 어 보이 던데 아니 남자 힘 좀 써야지 안 그래 저 이제 볼게요',\n",
              "  '기타 괴롭힘 대화',\n",
              "  '일반 대화'],\n",
              " ['야 시간 있 냐 무슨 일 야 잠깐 와봐 왜 그래 너 그 패딩 이번 신상 이쁘 어 어 생일 선물 야 나 오늘 중요 날 인데 좀 빌리 자 안 는데 나 입 어야 는데 잠깐 입 줄게 그 대신 내 거 입 어 아 안 는데',\n",
              "  '기타 괴롭힘 대화',\n",
              "  '일반 대화'],\n",
              " ['어 이야기 돈 준비 됐 나 아직 요 그 큰돈 어떻게 구해요 우리 대화 잊 었 나 본데 목숨 달려 있 어 시간 조금 더 주 시 안 될까요 다음 주 월요일 까지 제대로 상환 안 그땐 정말 죽이 러 올 거 야 경고 했 제 처자식 봐서 라도 조금 시간 주 세요 그러게 남 돈 손 댔 으면 그 정도 감수 해야지 죄송 합니다 정말 죄송 합니다 그럼 다음 주 두둑 준비 오 나 예',\n",
              "  '직장 내 괴롭힘 대화',\n",
              "  '일반 대화'],\n",
              " ['내 리포트 내일 까지 써 내 왜 내 말 안 들으면 나체 사진 인터넷 뿌릴 거 야 그런 사진 있 다고 이거 너 잖 아 너 이거 어디 서 났 어 그건 알 거 없 내 시킨 대로 돼 미쳤 니 사진 다른 사람 봐도 된다는 거 야 너 협박죄 불법 촬영 으로 고소 할 거 야',\n",
              "  '협박 대화',\n",
              "  '일반 대화'],\n",
              " ['안 냥 쎄 요 안 냥 쎄 요 말투 이상 시 네요 낄낄 남 말투 왜 따라 세요 웃겨서 요 예의 없 으시 네요 그럼 그렇게 발음 웃기 래요 일부 로 그러 나요 신체 구조 상 그렇게 것 그럼 놀림 당하 것 감수 셔야죠 정말 말 안 통하 시 분 군요 정말 말 안 통하 시 분 군요 낄낄',\n",
              "  '갈취 대화',\n",
              "  '일반 대화'],\n",
              " ['나 오늘 배고파서 그러 는데 우리 나가 서 밥 먹 자 급식 진짜 맛 없 거 야 오늘 아 그래 그러 자 근데 너 오늘 돈 가져왔 어 아까 없 다고 했 던 것 같 은데 어 맞 아 돈 없 어 그래서 그런데 오늘 내 밥값 좀 내 줘라 머 차라리 돈 빌려 달 라고 좀 그렇 잖아 아 미안 근데 나 돈 없 어서 하루 내 줘라 나 진짜 파스타 먹 싶 단 말 야 파스타 너무 비싸 나 돈 없 어 야 넌 친구 파스타 먹 싶 다는 데 좀 빌려 주 그게 어렵 냐 좀 하루 내주 라 다음 내 살 아니 너 전 그러 지금 까지 돈 안 갚 았 잖아 야 이번 갚 는다고 맛있 거 산다니까 그러니까 오늘 사라 마지막 야',\n",
              "  '일반 대화',\n",
              "  '일반 대화'],\n",
              " ['아 따라 말 라고 따라 말 라고 아 따라 말 라고 목소리 정말 웃겨 야 야 이거 봐라 우리 반 저능아 흉내 우 헤헤 아니 야 아니 라고 아니 야 아니 라고 아니 긴 뭐 아니야 저능아 놈 아 지능 딸리 좀 집 에서 박혀 있 던가 왜 굳이 기 어 나와서 귀찮 구 냐 그래도 우린 괴롭힐 놈 하나 생겨서 재밌 긴 지만 어 그거 인정 제발 그만 해',\n",
              "  '직장 내 괴롭힘 대화',\n",
              "  '일반 대화'],\n",
              " ['아 정글 씨발 새끼 정글 엄마 묻 어 놨 냐 계속 찾아다니 그니까 쉬 발 갱 당해 뒤져 놓 지랄 니 엄마 그만 찾 아 벌레 년 아 내 묻 어 놨 저거 터트려 야 찾 수 있 어 어휴 버러지 년 수준 보인다 정글 씨 아 뭐 냐 칠 시간 갱 이나 쳐 다녀 상대 정글 10 번 왔 어 미친년 아 쌍 으로 똥 싸 놓 지랄 정 글 차이 정글 차이 정글 차이',\n",
              "  '일반 대화',\n",
              "  '일반 대화'],\n",
              " ['그 건물 나 한테 넘겨 뭐 나 한테 말조심 좋 걸 내 모를 거 라고 생각 해 무슨 소리 야 더러운 짓 너 저렇게 믿 따르 저 사람 알 어떻게 될까 증거 있 어 잊 었 어 내 항상 넥타이 챙겨 줬 던 거 좋 많이 어 있 던 데 어쩜 그렇 뻔뻔 웃 수 있 을까 대단 해 원 뭐 야 그 건물 나 한테 넘겨 그리고 이혼 위자료 로 재산 절반 잘 생각 해 봐 어느 쪽 이득 인지 그런 거 잘 잖아 너',\n",
              "  '일반 대화',\n",
              "  '일반 대화'],\n",
              " ['야 너 이리 와봐 경례 똑바로 안 냐 죄송 합니다 뭐 죄송 한데 경례 똑바로 안 해서 죄송 합니다 미쳤 말 대답 냐 죄송 합니다 너 따위 죄송 필요 없 대가리 박아 알 겠 습니다 자 따라 한다 실시 나 구제 불능 나 구제 불능',\n",
              "  '직장 내 괴롭힘 대화',\n",
              "  '일반 대화'],\n",
              " ['저기 님 내일 발표 날 인데 왜 발표 자료 안 주 시 죠 제 왜 줘야 해요 제 열심히 준비 해서 만든 건데요 그게 뭔 소리 입니까 같이 역할 분담 해서 정한 건데 제일 늦 고르 셔서 발표 자료 준비 된 거 잖 아요 제 허락 없이 정해 놓 제 만드 니 그걸 나눠서 봐야 나요 그럼 5 일 째 문자 안 보 시 는데 더 기다렸 어야 나요 역할 다니까 바로 보 셨잖아요 어쨌든 제 만든 거 니 같이 볼 필요 없 거 같 네요 그게 무슨 말 안 소리 예요 이제 곧 발표 시간 라고요 저희 학점 깎이 모습 보 싶 어서 그러 시 나요 그럼 도왔 어야죠 않 가져간다는 건 무슨 심보 죠 저희 다양 논문 자료 보 면서 분석 해서 보내 드렸 잖아요 더군다나 다른 나라 에서 각 언어 로 나온 논문 분석 해서 정리 해 보내 드렸 는데 그게 무슨 소립니까 어쨌든 만드 느라 제일 수고 건 저 것 같 으니 자료 필요 10 원 사 세요 솔직히 제 노력 비해 적 받 겁니다 아니 같이 발표 데 서 금전 오가 안 죠 그것 제일 연락 안 보 셨 던 분 지금 이러 시 옳 다고 생각 시 나요 안 옳 다고 생각 시 어쩔 수 없 죠 발표 자료 알 아서 만드 시 던가 아니 그냥 학점 깎이 세요 뭐 제 간섭 해야 할 이유 없 으니 발표 할 거 그냥 10 원 보내 요 바로 보내 드린 다니까',\n",
              "  '기타 괴롭힘 대화',\n",
              "  '일반 대화'],\n",
              " ['어제 누구 랑 같이 있 었 어 친구 랑 얘기 밖 에서 놀 보 니 전화 온 줄 몰랐 어 전화 온 줄 모를 정도 남친 나 개무 시 거 잖 아 그 정도 로 왜 흥분 그래 흥분 너 딴 놈 생겨서 거짓말 거 아니 야 뭐 라고 날 그 정도 로 밖 생각 안 건 너 아냐 이런 신뢰 조차 없 너 랑 계속 만날 수 없 어 지금 다른 놈 이랑 바람 펴 놓 나 랑 헤어지 자는 거 야 말 똑바로 해 입 찢 어 버리 기 전 너 나 말조심 해 무슨 그런 표현 나 한테 쓰 니 정말 끝 야 헤어지 자고 그게 마음대로 될 줄 알 아 너희 부모 님 안녕 시 너희 집 앞 에서 내 내일 사 드려야 겠 뭐 라고 지금 협박 거 야 아니 잘난 부모 님 께 당신 딸 교육 부터 잘 시키 라고 조용 곳 에서 내 제대로 알려 드려야 너 당장 그 말 취소 안 경찰 신고 할 거 야 병원 부터 잘 알 아 놔둬 두 다리 로 못 거 야',\n",
              "  '갈취 대화',\n",
              "  '일반 대화'],\n",
              " ['야 새꺄 일로 바 일병 보 니까 너 이미 노래방 청소 했 는데 우리 거기 담당 더라고 너 주방 청소 저희 이미 했 는데 내일 부터 그러 겠 습니다 아니 너 담당 주방 해야지 지금 저희 이미 노래방 했 않 슴 까 병장 한테 대드 거 냐 와서 나 힘든 데 어이없 내일 부터 겠 습니다 병장 보이 냐 뒤 질 래 아',\n",
              "  '갈취 대화',\n",
              "  '일반 대화'],\n",
              " ['호두 깡 저 또 시작 아니 쟤 또 왜 저 럼 자랑 상관 없 는데 너 드립 치 거 선 넘 거 라는 생각 안 해봄 그냥 볼 수 없 어서 그럼 그럼 꺼지 걸 괜히 또 불 란 조장 십 나 셨 구요 나라 안 이랬 으면 너 그러 거 아무런 없 을까 봐 내 도와 주 건데 같이 재밌 즐기 됐 현실 에서 나 그러 세요 호두 깡 신상 터 는데 개 많이 나오 야 이거 너 그건 어디 서 찾 았 아 케 이것 너지 님 호두 깡 셀카 공개 합니다 개 빻 았 두 강',\n",
              "  '일반 대화',\n",
              "  '일반 대화'],\n",
              " ['내 사진 몰래 찍 거 사진 올라왔 던데 찍 거 니 나 아니야 우리 관계 사진 찍 사람 너 밖에 없 잖아 나 아니 라니까 자꾸 그러 누군가 몰카 설치 했 나 보 핸드폰 줘 봐 아이 씨 나 못 믿 어 사람 못 믿 지랄 야 사실 확인 해 보 려는 거 뿐 인데 왜 화 내 나 아니 라니까 자꾸 의심 잖아 짜증 나 확인 해 보 자고 짜증 나 마 죽여 버리 기 전',\n",
              "  '기타 괴롭힘 대화',\n",
              "  '일반 대화'],\n",
              " ['이거 딱 봐도 비싸 보인다 아 아빠 수행평가 있 다고 니까 사 주 셨 어 좋 겠 나 앞 에서 샀 는데 너 백화점 에서 라도 사 온 것 같이 생겼 응 맞아 아 그래 그래서 자랑 려고 가지 왔 어 아니 자랑 아니 그냥 오늘 미술 시간 쓰 려고 100 개 나 필요 없 으니까 우리 반 친구 한테 하나 씩 나눠 주 자 색깔 다른 데 20 개 나눠 줘도 아직 80 개 나 남 는데 너 진짜 생긴 것 처럼 욕심 많 구나 이건 좀 그런데 그러 말 나눠 쓰 자',\n",
              "  '기타 괴롭힘 대화',\n",
              "  '일반 대화'],\n",
              " ['야 라면 하나 끓여 봐 아 형 끓여 뭐 새끼 미쳐 돌 았 냐 아 왜 맨 나 내 끓여 정신 차려라 뚝배기 깨지 싶 냐 엄마 한테 말 한다 말 해라 지금 엄마 없 는데 요새 제정신 아닌 것 같 아서 형 정신 건강 시켜 줘야겠다 아 마 뭘 마 병신 새끼 형 한테 개기 끓여 올게',\n",
              "  '갈취 대화',\n",
              "  '일반 대화'],\n",
              " ['김 사원 오늘 밥 혼자 따로 먹 저 혼자 따로 요 갑자기 왜 요 시간 혼자 받 아 주 식당 없 어요 그게 내 알 아야 거 야 그냥 혼자 먹 으라고 혼자 먹 어 같이 밥 먹 으면 밥맛 떨어질 거 같 으니까 그럼 밥 먹 밥 먹 영수증 끊 어서 회사 제출 건가요 식비 때문 요 진짜 짠 돌 그깟 점심 하나 돈 주 사 먹 어 뭘 맨날 돈 받 점심 먹 으려고 그러 냐 아니 원래 점심밥 제공 었잖 아요 그래서 영수증 제출 한다고 건데 너 돈 그렇게 아껴서 어디 쓰 냐 너 치장 는데 너 그래서 내 딸 결혼식 축의금 5 원 냈 어 5 원 말 따님 께 백화점 상품권 20 원 드렸 는데요 설마 그래서 저 혼자 밥 먹 으라고 그러 신 거 예요 넌 상품권 축의금 같 아 내 축의금 여 데 쪽팔려서 진짜 앞 으로 쭉 혼자 먹 혼자 다녀 얘 아 자 너무 시 네요 저 없 돈 모아서 드린 건데 그런 걸로 회사 에서 따돌림 이나 당 해야 건가요 그니까 없 돈 모아서 줄 거 그냥 축의금 내 가지 그랬 어 너 밥 먹 었잖 아 돈 아깝',\n",
              "  '일반 대화',\n",
              "  '일반 대화'],\n",
              " ['안녕 세요 혹시 씨 인가요 맞 아요 왜 그러 시 죠 돈 안 갚 으셨 네요 아 맞 내일 까지 꼭 갚 을게요 오늘 까지 갚 으세요 돈 없 어요 그럼 맞 으세요',\n",
              "  '갈취 대화',\n",
              "  '일반 대화'],\n",
              " ['쟤 봐 눈 진짜 작 아 뭐 보이 긴 하나 저기요 저 말 거 예요 꼴 귀 밝 뭐 라고 요 못 었 어요 귀 밝 다고요 혼잣말 거 니까 신경 꺼 요 되게 무례 시 네요 눈 작 으니까 작 다고 죠 큰 눈 아니 잖아요 남 외모 지적 함부로 시 네요 누가 봐도 작 눈 인데 왜 그렇게 발끈 해요 막말 마세요',\n",
              "  '직장 내 괴롭힘 대화',\n",
              "  '일반 대화']]"
            ]
          },
          "metadata": {},
          "execution_count": 39
        }
      ]
    },
    {
      "cell_type": "code",
      "source": [],
      "metadata": {
        "id": "B85xpllndeOV"
      },
      "execution_count": 29,
      "outputs": []
    }
  ]
}