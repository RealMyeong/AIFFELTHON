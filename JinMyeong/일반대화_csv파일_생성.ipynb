{
  "nbformat": 4,
  "nbformat_minor": 0,
  "metadata": {
    "colab": {
      "provenance": [],
      "mount_file_id": "1FItTylyV2XKuu0M2PtRq8ZviziMGp9HN",
      "authorship_tag": "ABX9TyNh1C3PXNQy1rs4bIN/fcsD",
      "include_colab_link": true
    },
    "kernelspec": {
      "name": "python3",
      "display_name": "Python 3"
    },
    "language_info": {
      "name": "python"
    }
  },
  "cells": [
    {
      "cell_type": "markdown",
      "metadata": {
        "id": "view-in-github",
        "colab_type": "text"
      },
      "source": [
        "<a href=\"https://colab.research.google.com/github/RealMyeong/AIFFELTHON/blob/main/JinMyeong/%EC%9D%BC%EB%B0%98%EB%8C%80%ED%99%94_csv%ED%8C%8C%EC%9D%BC_%EC%83%9D%EC%84%B1.ipynb\" target=\"_parent\"><img src=\"https://colab.research.google.com/assets/colab-badge.svg\" alt=\"Open In Colab\"/></a>"
      ]
    },
    {
      "cell_type": "markdown",
      "source": [
        "일반 대화를 추가할 때 단순히 추가하는 것이 아니라 기존에 가지고있던 공격대화 데이터의 TF-IDF스코어를 이용해 키워드를 뽑고 추가할 일반 대화 데이터에서 가지고 있는 공격성 키워드와의 일치율을 계산하고 기준점을 넘어가지 않는 대화만 일반대화로 추가\n",
        "\n",
        "이렇게 하는 이유는 고객센터 대화를 쓴다고 하더라도 공격적인 말을 하는 고객이 있을 수 있기 때문에 걸러주기 위함임."
      ],
      "metadata": {
        "id": "qC43z3myGENi"
      }
    },
    {
      "cell_type": "code",
      "execution_count": 1,
      "metadata": {
        "id": "aN8lF1gDFI4U"
      },
      "outputs": [],
      "source": [
        "# 추가할 일반대화들 전부 불러와서 DataFrame으로 저장\n",
        "import numpy as np\n",
        "import pandas as pd\n",
        "import matplotlib.pyplot as plt\n",
        "import seaborn as sns"
      ]
    },
    {
      "cell_type": "code",
      "source": [
        "# 카카오톡 대화\n",
        "import os\n",
        "\n",
        "dir_path = '/content/drive/MyDrive/AIFFELTHON/일반대화/TS_KAKAO'\n",
        "\n",
        "file_list = os.listdir(dir_path)"
      ],
      "metadata": {
        "id": "ARFzE4HtGD81"
      },
      "execution_count": 4,
      "outputs": []
    },
    {
      "cell_type": "code",
      "source": [
        "kakao_text_list = []\n",
        "\n",
        "for i in file_list:\n",
        "  with open(f'{dir_path}/{i}', 'r') as f:\n",
        "    list_file = []\n",
        "\n",
        "    for line in f:\n",
        "      line = line.strip()\n",
        "      list_file.append(line)\n",
        "      \n",
        "  kakao_text_list.append(list_file)"
      ],
      "metadata": {
        "id": "wVQ5IXMBJAr0"
      },
      "execution_count": 5,
      "outputs": []
    },
    {
      "cell_type": "code",
      "source": [
        "len(kakao_text_list)"
      ],
      "metadata": {
        "colab": {
          "base_uri": "https://localhost:8080/"
        },
        "id": "LCzNp4b3JFKd",
        "outputId": "a2384666-51bc-4b9d-dd17-cda4d4ae9f7c"
      },
      "execution_count": 6,
      "outputs": [
        {
          "output_type": "execute_result",
          "data": {
            "text/plain": [
              "18517"
            ]
          },
          "metadata": {},
          "execution_count": 6
        }
      ]
    },
    {
      "cell_type": "code",
      "source": [
        "kakao_text_list[1:3]\n"
      ],
      "metadata": {
        "colab": {
          "base_uri": "https://localhost:8080/"
        },
        "id": "K8HVAHhvJIGZ",
        "outputId": "6298ca22-2750-414a-d9d0-91d83db671c4"
      },
      "execution_count": 11,
      "outputs": [
        {
          "output_type": "execute_result",
          "data": {
            "text/plain": [
              "[['1 : 자격증을 딸까 아니면 지금 하고 있는 일에 집중할까?',\n",
              "  '2 : 흠 너 무슨 자격증 따려고 하는데?',\n",
              "  '1 : 나 포토샵 자격증 따려고',\n",
              "  '2 : 너 전공에서 꼭 필요한 자격증이야?',\n",
              "  '1 : 음 그런 거 아닌데 있으면 좋을 것 같아서',\n",
              "  '2 : 나는 전공에 관련된 자격증 위주로 따는 게 좋을 것 같아',\n",
              "  '1 : 흠 그럼 다른 거 따야겠어',\n",
              "  '2 : 일도 좋은데 취업 준비를 잘하는 게 우선이지',\n",
              "  '1 : 그러게... 공부를 해야 하는데 점점 머리가 굳는 느낌이야',\n",
              "  '2 : 나이 들어서 그래, 아니면 학원은 안 다녀?',\n",
              "  '1 : 생각보다 학원비가 너무 비싸서 ㅜㅜ 고민',\n",
              "  '2 : 성인이라 그런지 학원비가 만만치 않아',\n",
              "  '1 : 응 한 과목에 25만원인데 두 과목 하면 거의 50만원...',\n",
              "  '2 : 너가 독학할 수 있으면 독학으로 하는 게 좋지',\n",
              "  '1 : 응응 유튜브 같은 곳 찾아보고 있는 중이야...',\n",
              "  '2 : 어지간히 중요한 거 아니면 독학으로 해봐!'],\n",
              " ['1 : 니는 예능 프로그램 챙겨 보는 거 뭐 있어? 키키',\n",
              "  '2 : 음 대탈출 챙겨 봤었어요 하하',\n",
              "  '1 : 나는 놀면 뭐 하니는 잘 챙겨 보는 편이다! 키키',\n",
              "  '2 : 오호 놀면 뭐 하니 최근에 김태호 피디 그만두지 않았어요?',\n",
              "  '1 : 오... 대탈출 그게 방탈출 게임 하는 거 맞제? 키키',\n",
              "  '2 : 넵 하하 방탈출 게임을 모티브로 했죠 하하',\n",
              "  '1 : 오... 그만둔다고 하던데 벌써 그만둔 건지는 모르겠다 키키',\n",
              "  '2 : 아하 바뀌면 놀면 뭐 하니 좀 많이 달라질 수도 있겠네요',\n",
              "  '1 : 대탈출 그거 재밌다고 하더라고?',\n",
              "  '1 : 시즌이 꽤 많이 나왔다고 하던데?',\n",
              "  '2 : 시즌4까지 나왔을걸요? 하하',\n",
              "  '2 : 한 달 전인가 두 달 전에 대탈출 시즌4 끝났어요 하하',\n",
              "  '1 : 응 그럴 것 같은데...',\n",
              "  '1 : 김태로랑 유재석 케미가 너무 좋았어서... 아쉽긴 하다 ㅜ',\n",
              "  '2 : 맞아요 하하',\n",
              "  '2 : 김태호가 유재석 악개로 유명하죠',\n",
              "  '1 : 오... 시즌 4까지 나왔구나!',\n",
              "  '1 : 그거 한 시리즈에 한 개 탈출하는 거가? 키키',\n",
              "  '2 : 아뇨 하하',\n",
              "  '2 : 스토리는 바뀌는데 시즌마다 이전 시즌이랑 세계관이 이어져요 하하',\n",
              "  '1 : 재밌겠네? 키키',\n",
              "  '1 : 넷플릭스 이런 데서 볼 수 있는가? 키키',\n",
              "  '2 : 넵 하하 아마 넷플릭스에 올라와 있을 거예요']]"
            ]
          },
          "metadata": {},
          "execution_count": 11
        }
      ]
    },
    {
      "cell_type": "code",
      "source": [
        "# 주제별 대화\n",
        "# 교육\n",
        "dir_path_list = []\n",
        "\n",
        "master_dir_path = '/content/drive/MyDrive/AIFFELTHON/일반대화/TS_EDU'\n",
        "dir_list = os.listdir(master_dir_path)\n",
        "\n",
        "for i in dir_list:\n",
        "  dir_path = f'{master_dir_path}/{i}'\n",
        "  dir_path_list.append(dir_path)\n",
        "\n",
        "\n",
        "edu_text_list = []\n",
        "for i in dir_path_list:\n",
        "  file_list = os.listdir(i)\n",
        "  for j in file_list:\n",
        "    with open(f'{i}/{j}', 'r') as f:\n",
        "      list_file = []\n",
        "      for line in f:\n",
        "        line = line.strip()\n",
        "        list_file.append(line)\n",
        "    edu_text_list.append(list_file)"
      ],
      "metadata": {
        "id": "T1kXGrdQJniK"
      },
      "execution_count": 12,
      "outputs": []
    },
    {
      "cell_type": "code",
      "source": [
        "len(edu_text_list)\n"
      ],
      "metadata": {
        "colab": {
          "base_uri": "https://localhost:8080/"
        },
        "id": "2IrcEtiLJq3w",
        "outputId": "7557178f-df79-4c2b-c91e-e7ff3ff0a42c"
      },
      "execution_count": 13,
      "outputs": [
        {
          "output_type": "execute_result",
          "data": {
            "text/plain": [
              "6393"
            ]
          },
          "metadata": {},
          "execution_count": 13
        }
      ]
    },
    {
      "cell_type": "code",
      "source": [
        "edu_text_list[1]\n"
      ],
      "metadata": {
        "colab": {
          "base_uri": "https://localhost:8080/"
        },
        "id": "A1DHqk3aJtXQ",
        "outputId": "2c19798a-0d39-44f5-c416-8f58eaa90965"
      },
      "execution_count": 14,
      "outputs": [
        {
          "output_type": "execute_result",
          "data": {
            "text/plain": [
              "['A.무엇을 도와드릴까요 #@소속# 고객센터 상담원 #@이름#입니다',\n",
              " 'B.상담 좀 하고 싶은데요 어제 #@소속#으로 전학 왔어요',\n",
              " 'A.고객님 어떤 게 궁금하신가요',\n",
              " 'B.그러니까 한 텀이라고 해야 되나 그런 건 얼마나 되나요',\n",
              " 'A.기본적으론 3개월인데요 내신대비 기간 포함 4개월 정도 돼요',\n",
              " 'B.그럼 3개월 동안 레벨이 올라가고 내려갈 수도 있고 그런가요',\n",
              " 'A.학생의 레벨하고 맞지 않다면 당연히 조정해야지요',\n",
              " 'B.그럼 한 반에는 몇 명이나 있나요',\n",
              " 'A.반마다 다른데요 그래도 일곱에서 열명 내외 그 정도예요',\n",
              " 'B.그럼 레벨테스트도 있는 거고요',\n",
              " 'A.그렇습니다 자녀분 테스트 시간에 상담받아보시는 건 어떠세요',\n",
              " 'B.그럼 아이 일정 조율해서 연락드릴게요 수고하세요',\n",
              " 'A.문의 사항 있으시면 연락 주세요 #@소속# #@이름# 이었습니다']"
            ]
          },
          "metadata": {},
          "execution_count": 14
        }
      ]
    },
    {
      "cell_type": "code",
      "source": [
        "# 쇼핑\n",
        "dir_path_list = []\n",
        "\n",
        "master_dir_path = '/content/drive/MyDrive/AIFFELTHON/일반대화/TS_Shopping'\n",
        "dir_list = os.listdir(master_dir_path)\n",
        "\n",
        "for i in dir_list:\n",
        "  dir_path = f'{master_dir_path}/{i}'\n",
        "  dir_path_list.append(dir_path)\n",
        "\n",
        "\n",
        "shop_text_list = []\n",
        "for i in dir_path_list:\n",
        "  file_list = os.listdir(i)\n",
        "  for j in file_list:\n",
        "    with open(f'{i}/{j}', 'r') as f:\n",
        "      list_file = []\n",
        "      for line in f:\n",
        "        line = line.strip()\n",
        "        list_file.append(line)\n",
        "    shop_text_list.append(list_file)"
      ],
      "metadata": {
        "id": "J5DopB5VPqyX"
      },
      "execution_count": 15,
      "outputs": []
    },
    {
      "cell_type": "code",
      "source": [
        "len(shop_text_list)"
      ],
      "metadata": {
        "colab": {
          "base_uri": "https://localhost:8080/"
        },
        "id": "uaLJrJh7PjEn",
        "outputId": "37de384f-dfaa-48dd-cd78-10b6dfa55652"
      },
      "execution_count": 16,
      "outputs": [
        {
          "output_type": "execute_result",
          "data": {
            "text/plain": [
              "13832"
            ]
          },
          "metadata": {},
          "execution_count": 16
        }
      ]
    },
    {
      "cell_type": "code",
      "source": [
        "shop_text_list[1]"
      ],
      "metadata": {
        "colab": {
          "base_uri": "https://localhost:8080/"
        },
        "id": "gUXHG2mwP1rh",
        "outputId": "f64e000c-c2e0-4e3c-9803-7a9b2924bef3"
      },
      "execution_count": 17,
      "outputs": [
        {
          "output_type": "execute_result",
          "data": {
            "text/plain": [
              "['A.반갑습니다 #@소속# 상담사입니다',\n",
              " 'B.네 좀 전에 연락 드렸었는데요',\n",
              " 'B.저는 창고 쪽 담당자이고요 실외기 하얀 연기 때문에요',\n",
              " 'A.네 고객님 상담 내역 확인 하겠습니다',\n",
              " 'A.혹시 에어컨 구매 하신 지는 이 년 넘으셨습니까',\n",
              " 'B.예 이 년 넘었어요',\n",
              " 'A.네 확인 감사드립니다',\n",
              " 'A.죄송하지만 현재 상담 지연으로 한 시간 정도 대기 예상됩니다',\n",
              " 'A.고객님 전화번호 남겨주시면 신속하게 전화 드리겠습니다',\n",
              " 'B.예 알겠습니다 #@전번#',\n",
              " 'A.네 고객님 성함 어떻게 되세요',\n",
              " 'B.예 #@소속# #@이름# 입니다',\n",
              " 'A.네 알겠습니다 바로 상담 잘 받으시고요',\n",
              " 'A.즐거운 하루 보내세요',\n",
              " 'B.네 고맙습니다 수고하세요']"
            ]
          },
          "metadata": {},
          "execution_count": 17
        }
      ]
    },
    {
      "cell_type": "code",
      "source": [
        "# 민원\n",
        "dir_path_list = []\n",
        "\n",
        "master_dir_path = '/content/drive/MyDrive/AIFFELTHON/일반대화/TS_Civil'\n",
        "dir_list = os.listdir(master_dir_path)\n",
        "\n",
        "for i in dir_list:\n",
        "  dir_path = f'{master_dir_path}/{i}'\n",
        "  dir_path_list.append(dir_path)\n",
        "\n",
        "\n",
        "civil_text_list = []\n",
        "for i in dir_path_list:\n",
        "  file_list = os.listdir(i)\n",
        "  for j in file_list:\n",
        "    with open(f'{i}/{j}', 'r') as f:\n",
        "      list_file = []\n",
        "      for line in f:\n",
        "        line = line.strip()\n",
        "        list_file.append(line)\n",
        "    civil_text_list.append(list_file)"
      ],
      "metadata": {
        "id": "X9ZJm0_zP3PF"
      },
      "execution_count": 18,
      "outputs": []
    },
    {
      "cell_type": "code",
      "source": [
        "len(civil_text_list)"
      ],
      "metadata": {
        "colab": {
          "base_uri": "https://localhost:8080/"
        },
        "id": "rP_hbCHpP97N",
        "outputId": "623ad5c1-c042-405a-c8e8-a65a4f9d0143"
      },
      "execution_count": 19,
      "outputs": [
        {
          "output_type": "execute_result",
          "data": {
            "text/plain": [
              "9909"
            ]
          },
          "metadata": {},
          "execution_count": 19
        }
      ]
    },
    {
      "cell_type": "code",
      "source": [
        "civil_text_list[1]"
      ],
      "metadata": {
        "colab": {
          "base_uri": "https://localhost:8080/"
        },
        "id": "UJQOKgfuQAIr",
        "outputId": "ebb88d2d-9fbb-4d94-df9f-0cc4d54f2185"
      },
      "execution_count": 20,
      "outputs": [
        {
          "output_type": "execute_result",
          "data": {
            "text/plain": [
              "['A.#@소속# 조직도 확인 후 연락드렸습니다.',\n",
              " 'A.정확한 문의는 #@소속#부서에 문의를 해보시면 좋으실 듯 합니다',\n",
              " 'B.#@소속#에 조사 부서가 따로 있나요',\n",
              " 'A.네 맞습니다 따로 있습니다',\n",
              " 'B.예 그러면 번호를 따로 확인해주시겠습니까',\n",
              " 'A.네 메모 가능하십니까',\n",
              " 'B.네 불러 주세요 메모 가능합니다',\n",
              " 'A.네 #@전번#입니다',\n",
              " 'B.죄송한데 저희 민원인께서 지금 민원을 먼저 넣으시고요',\n",
              " 'B.시 담당 공무원에게 민원인의 신분을 일차 피해를 당했다고 합니다',\n",
              " 'B.가해자한테 민원인 신분을 유출을 당해서 이차 피해를 당하셨거든요',\n",
              " 'B.그래서 민원인의 가족분이 크게 다치셨고',\n",
              " 'B.거기에 대해서 사과를 했다고합니다',\n",
              " 'B.그 부분에 대해서 징계 요청을 하셨다고 합니다',\n",
              " 'B.하지만 가해자가 높은 사람이라 담당 공무원이 못하겠다 라고 하셨대요',\n",
              " 'A.위치한 지역에 시청 또는 군청에 감사관에도 문의를 해 본 부분입니까',\n",
              " 'B.담당 공무원이 가해자가 높은 사람이라서 어렵다고합니다',\n",
              " 'B.민원인이 일차적으로는 본인의 신분이 유출 되었다고 하는데요',\n",
              " 'B.그 쪽을 믿을 수가 없대요',\n",
              " 'B.제가 감사위원회 민원인이 어느 시에서 그렇게 당하셨는지 여쭤봤는데요',\n",
              " 'B.답변을 못하시겠다라고 하셨어요',\n",
              " 'A.네 불만이신 경우에는 안내해드린 #@전번#으로 상담해보시면 어떨까요',\n",
              " 'B.그러면 혹시 연결이 가능할까요',\n",
              " 'A.네 저희 쪽에서 연결 가능합니다 바로 연결해드리겠습니다',\n",
              " 'B.예 선생님 혹시 이분 담당자 성함도 알 수 있을까요',\n",
              " 'A.네 #@이름# 주사입니다',\n",
              " 'B.네 감사합니다 연결 해주시겠어요',\n",
              " 'A.네 바로 연결하겠습니다',\n",
              " 'B.예 감사합니다 수고하세요']"
            ]
          },
          "metadata": {},
          "execution_count": 20
        }
      ]
    },
    {
      "cell_type": "markdown",
      "source": [
        "- 일반 대화를 하나의 데이터 프레임으로"
      ],
      "metadata": {
        "id": "C9SVYuksRmmA"
      }
    },
    {
      "cell_type": "code",
      "source": [
        "# 카카오 대화\n",
        "kakao_conversation = []\n",
        "\n",
        "for conv in kakao_text_list:\n",
        "\n",
        "  conv_list = []\n",
        "  for sen in conv:\n",
        "    sen = sen[4:]\n",
        "    conv_list.append(sen)\n",
        "  conversation = '\\n'.join(conv_list)\n",
        "  kakao_conversation.append(conversation)"
      ],
      "metadata": {
        "id": "Mz1DIKptQBaz"
      },
      "execution_count": 21,
      "outputs": []
    },
    {
      "cell_type": "code",
      "source": [
        "kakao_conversation[1]"
      ],
      "metadata": {
        "colab": {
          "base_uri": "https://localhost:8080/",
          "height": 89
        },
        "id": "wR9atbgjS8vM",
        "outputId": "087e3d9c-8372-4aaa-8ef2-7fdd6566c24b"
      },
      "execution_count": 23,
      "outputs": [
        {
          "output_type": "execute_result",
          "data": {
            "text/plain": [
              "'자격증을 딸까 아니면 지금 하고 있는 일에 집중할까?\\n흠 너 무슨 자격증 따려고 하는데?\\n나 포토샵 자격증 따려고\\n너 전공에서 꼭 필요한 자격증이야?\\n음 그런 거 아닌데 있으면 좋을 것 같아서\\n나는 전공에 관련된 자격증 위주로 따는 게 좋을 것 같아\\n흠 그럼 다른 거 따야겠어\\n일도 좋은데 취업 준비를 잘하는 게 우선이지\\n그러게... 공부를 해야 하는데 점점 머리가 굳는 느낌이야\\n나이 들어서 그래, 아니면 학원은 안 다녀?\\n생각보다 학원비가 너무 비싸서 ㅜㅜ 고민\\n성인이라 그런지 학원비가 만만치 않아\\n응 한 과목에 25만원인데 두 과목 하면 거의 50만원...\\n너가 독학할 수 있으면 독학으로 하는 게 좋지\\n응응 유튜브 같은 곳 찾아보고 있는 중이야...\\n어지간히 중요한 거 아니면 독학으로 해봐!'"
            ],
            "application/vnd.google.colaboratory.intrinsic+json": {
              "type": "string"
            }
          },
          "metadata": {},
          "execution_count": 23
        }
      ]
    },
    {
      "cell_type": "code",
      "source": [
        "len(kakao_conversation)"
      ],
      "metadata": {
        "colab": {
          "base_uri": "https://localhost:8080/"
        },
        "id": "gS1TRJgVS-ay",
        "outputId": "72eba0e3-a7a8-44ad-9874-a4e75d9cf236"
      },
      "execution_count": 24,
      "outputs": [
        {
          "output_type": "execute_result",
          "data": {
            "text/plain": [
              "18517"
            ]
          },
          "metadata": {},
          "execution_count": 24
        }
      ]
    },
    {
      "cell_type": "code",
      "source": [
        "# 교육, 민원, 쇼핑 대화 생성\n",
        "data_list = [civil_text_list, shop_text_list, edu_text_list]\n",
        "\n",
        "other_conversation = []\n",
        "\n",
        "for i in data_list:\n",
        "  for conv in i:\n",
        "    conv_list = []\n",
        "    for sen in conv:\n",
        "      sen = sen[2:]\n",
        "      conv_list.append(sen)\n",
        "    conversation = '\\n'.join(conv_list)\n",
        "    other_conversation.append(conversation)"
      ],
      "metadata": {
        "id": "9ldcLL9tTE_a"
      },
      "execution_count": 25,
      "outputs": []
    },
    {
      "cell_type": "code",
      "source": [
        "len(other_conversation)"
      ],
      "metadata": {
        "colab": {
          "base_uri": "https://localhost:8080/"
        },
        "id": "XF3YtpbcT1Mc",
        "outputId": "59cf4bcd-407a-47ce-decf-906f4a95c563"
      },
      "execution_count": 26,
      "outputs": [
        {
          "output_type": "execute_result",
          "data": {
            "text/plain": [
              "30134"
            ]
          },
          "metadata": {},
          "execution_count": 26
        }
      ]
    },
    {
      "cell_type": "code",
      "source": [
        "other_conversation[1]"
      ],
      "metadata": {
        "colab": {
          "base_uri": "https://localhost:8080/",
          "height": 143
        },
        "id": "8JNdlXVWT3cq",
        "outputId": "8423cda5-7909-4533-d0fb-3618a550c44f"
      },
      "execution_count": 27,
      "outputs": [
        {
          "output_type": "execute_result",
          "data": {
            "text/plain": [
              "'#@소속# 조직도 확인 후 연락드렸습니다.\\n정확한 문의는 #@소속#부서에 문의를 해보시면 좋으실 듯 합니다\\n#@소속#에 조사 부서가 따로 있나요\\n네 맞습니다 따로 있습니다\\n예 그러면 번호를 따로 확인해주시겠습니까\\n네 메모 가능하십니까\\n네 불러 주세요 메모 가능합니다\\n네 #@전번#입니다\\n죄송한데 저희 민원인께서 지금 민원을 먼저 넣으시고요\\n시 담당 공무원에게 민원인의 신분을 일차 피해를 당했다고 합니다\\n가해자한테 민원인 신분을 유출을 당해서 이차 피해를 당하셨거든요\\n그래서 민원인의 가족분이 크게 다치셨고\\n거기에 대해서 사과를 했다고합니다\\n그 부분에 대해서 징계 요청을 하셨다고 합니다\\n하지만 가해자가 높은 사람이라 담당 공무원이 못하겠다 라고 하셨대요\\n위치한 지역에 시청 또는 군청에 감사관에도 문의를 해 본 부분입니까\\n담당 공무원이 가해자가 높은 사람이라서 어렵다고합니다\\n민원인이 일차적으로는 본인의 신분이 유출 되었다고 하는데요\\n그 쪽을 믿을 수가 없대요\\n제가 감사위원회 민원인이 어느 시에서 그렇게 당하셨는지 여쭤봤는데요\\n답변을 못하시겠다라고 하셨어요\\n네 불만이신 경우에는 안내해드린 #@전번#으로 상담해보시면 어떨까요\\n그러면 혹시 연결이 가능할까요\\n네 저희 쪽에서 연결 가능합니다 바로 연결해드리겠습니다\\n예 선생님 혹시 이분 담당자 성함도 알 수 있을까요\\n네 #@이름# 주사입니다\\n네 감사합니다 연결 해주시겠어요\\n네 바로 연결하겠습니다\\n예 감사합니다 수고하세요'"
            ],
            "application/vnd.google.colaboratory.intrinsic+json": {
              "type": "string"
            }
          },
          "metadata": {},
          "execution_count": 27
        }
      ]
    },
    {
      "cell_type": "markdown",
      "source": [
        "데이터 프레임 만들기"
      ],
      "metadata": {
        "id": "GtFV-TSHUGIq"
      }
    },
    {
      "cell_type": "code",
      "source": [
        "other_data = pd.DataFrame(other_conversation, columns=['conversation'])"
      ],
      "metadata": {
        "id": "Henqne8IT5zq"
      },
      "execution_count": 43,
      "outputs": []
    },
    {
      "cell_type": "code",
      "source": [
        "other_data.head()"
      ],
      "metadata": {
        "colab": {
          "base_uri": "https://localhost:8080/",
          "height": 206
        },
        "id": "uUbba7UzVaNJ",
        "outputId": "6739c6db-b380-4e07-d0f7-800a738a813f"
      },
      "execution_count": 44,
      "outputs": [
        {
          "output_type": "execute_result",
          "data": {
            "text/plain": [
              "                                        conversation\n",
              "0  반갑습니다 #@소속# #@이름#입니다 무엇을 도와드릴까요\\n여보세요 네 안녕하세요 ...\n",
              "1  #@소속# 조직도 확인 후 연락드렸습니다.\\n정확한 문의는 #@소속#부서에 문의를 ...\n",
              "2  반갑습니다 #@소속#  #@이름#입니다 무엇을 도와드릴까요\\n제가 주택 임대차로 분...\n",
              "3  반갑습니다 #@소속#  #@이름#입니다 무엇을 도와 드릴까요\\n여기요 #@소속#인가...\n",
              "4  네 #@소속# #@이름#입니다\\n안녕하세요 #@소속# #@이름#입니다\\n네 안녕하세..."
            ],
            "text/html": [
              "\n",
              "  <div id=\"df-8443a1ad-87a5-4da5-b0e4-99b921c369cd\">\n",
              "    <div class=\"colab-df-container\">\n",
              "      <div>\n",
              "<style scoped>\n",
              "    .dataframe tbody tr th:only-of-type {\n",
              "        vertical-align: middle;\n",
              "    }\n",
              "\n",
              "    .dataframe tbody tr th {\n",
              "        vertical-align: top;\n",
              "    }\n",
              "\n",
              "    .dataframe thead th {\n",
              "        text-align: right;\n",
              "    }\n",
              "</style>\n",
              "<table border=\"1\" class=\"dataframe\">\n",
              "  <thead>\n",
              "    <tr style=\"text-align: right;\">\n",
              "      <th></th>\n",
              "      <th>conversation</th>\n",
              "    </tr>\n",
              "  </thead>\n",
              "  <tbody>\n",
              "    <tr>\n",
              "      <th>0</th>\n",
              "      <td>반갑습니다 #@소속# #@이름#입니다 무엇을 도와드릴까요\\n여보세요 네 안녕하세요 ...</td>\n",
              "    </tr>\n",
              "    <tr>\n",
              "      <th>1</th>\n",
              "      <td>#@소속# 조직도 확인 후 연락드렸습니다.\\n정확한 문의는 #@소속#부서에 문의를 ...</td>\n",
              "    </tr>\n",
              "    <tr>\n",
              "      <th>2</th>\n",
              "      <td>반갑습니다 #@소속#  #@이름#입니다 무엇을 도와드릴까요\\n제가 주택 임대차로 분...</td>\n",
              "    </tr>\n",
              "    <tr>\n",
              "      <th>3</th>\n",
              "      <td>반갑습니다 #@소속#  #@이름#입니다 무엇을 도와 드릴까요\\n여기요 #@소속#인가...</td>\n",
              "    </tr>\n",
              "    <tr>\n",
              "      <th>4</th>\n",
              "      <td>네 #@소속# #@이름#입니다\\n안녕하세요 #@소속# #@이름#입니다\\n네 안녕하세...</td>\n",
              "    </tr>\n",
              "  </tbody>\n",
              "</table>\n",
              "</div>\n",
              "      <button class=\"colab-df-convert\" onclick=\"convertToInteractive('df-8443a1ad-87a5-4da5-b0e4-99b921c369cd')\"\n",
              "              title=\"Convert this dataframe to an interactive table.\"\n",
              "              style=\"display:none;\">\n",
              "        \n",
              "  <svg xmlns=\"http://www.w3.org/2000/svg\" height=\"24px\"viewBox=\"0 0 24 24\"\n",
              "       width=\"24px\">\n",
              "    <path d=\"M0 0h24v24H0V0z\" fill=\"none\"/>\n",
              "    <path d=\"M18.56 5.44l.94 2.06.94-2.06 2.06-.94-2.06-.94-.94-2.06-.94 2.06-2.06.94zm-11 1L8.5 8.5l.94-2.06 2.06-.94-2.06-.94L8.5 2.5l-.94 2.06-2.06.94zm10 10l.94 2.06.94-2.06 2.06-.94-2.06-.94-.94-2.06-.94 2.06-2.06.94z\"/><path d=\"M17.41 7.96l-1.37-1.37c-.4-.4-.92-.59-1.43-.59-.52 0-1.04.2-1.43.59L10.3 9.45l-7.72 7.72c-.78.78-.78 2.05 0 2.83L4 21.41c.39.39.9.59 1.41.59.51 0 1.02-.2 1.41-.59l7.78-7.78 2.81-2.81c.8-.78.8-2.07 0-2.86zM5.41 20L4 18.59l7.72-7.72 1.47 1.35L5.41 20z\"/>\n",
              "  </svg>\n",
              "      </button>\n",
              "      \n",
              "  <style>\n",
              "    .colab-df-container {\n",
              "      display:flex;\n",
              "      flex-wrap:wrap;\n",
              "      gap: 12px;\n",
              "    }\n",
              "\n",
              "    .colab-df-convert {\n",
              "      background-color: #E8F0FE;\n",
              "      border: none;\n",
              "      border-radius: 50%;\n",
              "      cursor: pointer;\n",
              "      display: none;\n",
              "      fill: #1967D2;\n",
              "      height: 32px;\n",
              "      padding: 0 0 0 0;\n",
              "      width: 32px;\n",
              "    }\n",
              "\n",
              "    .colab-df-convert:hover {\n",
              "      background-color: #E2EBFA;\n",
              "      box-shadow: 0px 1px 2px rgba(60, 64, 67, 0.3), 0px 1px 3px 1px rgba(60, 64, 67, 0.15);\n",
              "      fill: #174EA6;\n",
              "    }\n",
              "\n",
              "    [theme=dark] .colab-df-convert {\n",
              "      background-color: #3B4455;\n",
              "      fill: #D2E3FC;\n",
              "    }\n",
              "\n",
              "    [theme=dark] .colab-df-convert:hover {\n",
              "      background-color: #434B5C;\n",
              "      box-shadow: 0px 1px 3px 1px rgba(0, 0, 0, 0.15);\n",
              "      filter: drop-shadow(0px 1px 2px rgba(0, 0, 0, 0.3));\n",
              "      fill: #FFFFFF;\n",
              "    }\n",
              "  </style>\n",
              "\n",
              "      <script>\n",
              "        const buttonEl =\n",
              "          document.querySelector('#df-8443a1ad-87a5-4da5-b0e4-99b921c369cd button.colab-df-convert');\n",
              "        buttonEl.style.display =\n",
              "          google.colab.kernel.accessAllowed ? 'block' : 'none';\n",
              "\n",
              "        async function convertToInteractive(key) {\n",
              "          const element = document.querySelector('#df-8443a1ad-87a5-4da5-b0e4-99b921c369cd');\n",
              "          const dataTable =\n",
              "            await google.colab.kernel.invokeFunction('convertToInteractive',\n",
              "                                                     [key], {});\n",
              "          if (!dataTable) return;\n",
              "\n",
              "          const docLinkHtml = 'Like what you see? Visit the ' +\n",
              "            '<a target=\"_blank\" href=https://colab.research.google.com/notebooks/data_table.ipynb>data table notebook</a>'\n",
              "            + ' to learn more about interactive tables.';\n",
              "          element.innerHTML = '';\n",
              "          dataTable['output_type'] = 'display_data';\n",
              "          await google.colab.output.renderOutput(dataTable, element);\n",
              "          const docLink = document.createElement('div');\n",
              "          docLink.innerHTML = docLinkHtml;\n",
              "          element.appendChild(docLink);\n",
              "        }\n",
              "      </script>\n",
              "    </div>\n",
              "  </div>\n",
              "  "
            ]
          },
          "metadata": {},
          "execution_count": 44
        }
      ]
    },
    {
      "cell_type": "code",
      "source": [
        "other_data['type'] = '고객센터'"
      ],
      "metadata": {
        "id": "1tKBdaU5Ww2U"
      },
      "execution_count": 56,
      "outputs": []
    },
    {
      "cell_type": "code",
      "source": [
        "other_data.head()"
      ],
      "metadata": {
        "colab": {
          "base_uri": "https://localhost:8080/",
          "height": 206
        },
        "id": "XuUhtNkBW0fs",
        "outputId": "1ed71c5b-3067-465e-ffa5-8b103efb7cde"
      },
      "execution_count": 57,
      "outputs": [
        {
          "output_type": "execute_result",
          "data": {
            "text/plain": [
              "                                        conversation  type\n",
              "0  반갑습니다 #@소속# #@이름#입니다 무엇을 도와드릴까요\\n여보세요 네 안녕하세요 ...  고객센터\n",
              "1  #@소속# 조직도 확인 후 연락드렸습니다.\\n정확한 문의는 #@소속#부서에 문의를 ...  고객센터\n",
              "2  반갑습니다 #@소속#  #@이름#입니다 무엇을 도와드릴까요\\n제가 주택 임대차로 분...  고객센터\n",
              "3  반갑습니다 #@소속#  #@이름#입니다 무엇을 도와 드릴까요\\n여기요 #@소속#인가...  고객센터\n",
              "4  네 #@소속# #@이름#입니다\\n안녕하세요 #@소속# #@이름#입니다\\n네 안녕하세...  고객센터"
            ],
            "text/html": [
              "\n",
              "  <div id=\"df-702c4e6b-d09b-4d96-b074-0acef0290e00\">\n",
              "    <div class=\"colab-df-container\">\n",
              "      <div>\n",
              "<style scoped>\n",
              "    .dataframe tbody tr th:only-of-type {\n",
              "        vertical-align: middle;\n",
              "    }\n",
              "\n",
              "    .dataframe tbody tr th {\n",
              "        vertical-align: top;\n",
              "    }\n",
              "\n",
              "    .dataframe thead th {\n",
              "        text-align: right;\n",
              "    }\n",
              "</style>\n",
              "<table border=\"1\" class=\"dataframe\">\n",
              "  <thead>\n",
              "    <tr style=\"text-align: right;\">\n",
              "      <th></th>\n",
              "      <th>conversation</th>\n",
              "      <th>type</th>\n",
              "    </tr>\n",
              "  </thead>\n",
              "  <tbody>\n",
              "    <tr>\n",
              "      <th>0</th>\n",
              "      <td>반갑습니다 #@소속# #@이름#입니다 무엇을 도와드릴까요\\n여보세요 네 안녕하세요 ...</td>\n",
              "      <td>고객센터</td>\n",
              "    </tr>\n",
              "    <tr>\n",
              "      <th>1</th>\n",
              "      <td>#@소속# 조직도 확인 후 연락드렸습니다.\\n정확한 문의는 #@소속#부서에 문의를 ...</td>\n",
              "      <td>고객센터</td>\n",
              "    </tr>\n",
              "    <tr>\n",
              "      <th>2</th>\n",
              "      <td>반갑습니다 #@소속#  #@이름#입니다 무엇을 도와드릴까요\\n제가 주택 임대차로 분...</td>\n",
              "      <td>고객센터</td>\n",
              "    </tr>\n",
              "    <tr>\n",
              "      <th>3</th>\n",
              "      <td>반갑습니다 #@소속#  #@이름#입니다 무엇을 도와 드릴까요\\n여기요 #@소속#인가...</td>\n",
              "      <td>고객센터</td>\n",
              "    </tr>\n",
              "    <tr>\n",
              "      <th>4</th>\n",
              "      <td>네 #@소속# #@이름#입니다\\n안녕하세요 #@소속# #@이름#입니다\\n네 안녕하세...</td>\n",
              "      <td>고객센터</td>\n",
              "    </tr>\n",
              "  </tbody>\n",
              "</table>\n",
              "</div>\n",
              "      <button class=\"colab-df-convert\" onclick=\"convertToInteractive('df-702c4e6b-d09b-4d96-b074-0acef0290e00')\"\n",
              "              title=\"Convert this dataframe to an interactive table.\"\n",
              "              style=\"display:none;\">\n",
              "        \n",
              "  <svg xmlns=\"http://www.w3.org/2000/svg\" height=\"24px\"viewBox=\"0 0 24 24\"\n",
              "       width=\"24px\">\n",
              "    <path d=\"M0 0h24v24H0V0z\" fill=\"none\"/>\n",
              "    <path d=\"M18.56 5.44l.94 2.06.94-2.06 2.06-.94-2.06-.94-.94-2.06-.94 2.06-2.06.94zm-11 1L8.5 8.5l.94-2.06 2.06-.94-2.06-.94L8.5 2.5l-.94 2.06-2.06.94zm10 10l.94 2.06.94-2.06 2.06-.94-2.06-.94-.94-2.06-.94 2.06-2.06.94z\"/><path d=\"M17.41 7.96l-1.37-1.37c-.4-.4-.92-.59-1.43-.59-.52 0-1.04.2-1.43.59L10.3 9.45l-7.72 7.72c-.78.78-.78 2.05 0 2.83L4 21.41c.39.39.9.59 1.41.59.51 0 1.02-.2 1.41-.59l7.78-7.78 2.81-2.81c.8-.78.8-2.07 0-2.86zM5.41 20L4 18.59l7.72-7.72 1.47 1.35L5.41 20z\"/>\n",
              "  </svg>\n",
              "      </button>\n",
              "      \n",
              "  <style>\n",
              "    .colab-df-container {\n",
              "      display:flex;\n",
              "      flex-wrap:wrap;\n",
              "      gap: 12px;\n",
              "    }\n",
              "\n",
              "    .colab-df-convert {\n",
              "      background-color: #E8F0FE;\n",
              "      border: none;\n",
              "      border-radius: 50%;\n",
              "      cursor: pointer;\n",
              "      display: none;\n",
              "      fill: #1967D2;\n",
              "      height: 32px;\n",
              "      padding: 0 0 0 0;\n",
              "      width: 32px;\n",
              "    }\n",
              "\n",
              "    .colab-df-convert:hover {\n",
              "      background-color: #E2EBFA;\n",
              "      box-shadow: 0px 1px 2px rgba(60, 64, 67, 0.3), 0px 1px 3px 1px rgba(60, 64, 67, 0.15);\n",
              "      fill: #174EA6;\n",
              "    }\n",
              "\n",
              "    [theme=dark] .colab-df-convert {\n",
              "      background-color: #3B4455;\n",
              "      fill: #D2E3FC;\n",
              "    }\n",
              "\n",
              "    [theme=dark] .colab-df-convert:hover {\n",
              "      background-color: #434B5C;\n",
              "      box-shadow: 0px 1px 3px 1px rgba(0, 0, 0, 0.15);\n",
              "      filter: drop-shadow(0px 1px 2px rgba(0, 0, 0, 0.3));\n",
              "      fill: #FFFFFF;\n",
              "    }\n",
              "  </style>\n",
              "\n",
              "      <script>\n",
              "        const buttonEl =\n",
              "          document.querySelector('#df-702c4e6b-d09b-4d96-b074-0acef0290e00 button.colab-df-convert');\n",
              "        buttonEl.style.display =\n",
              "          google.colab.kernel.accessAllowed ? 'block' : 'none';\n",
              "\n",
              "        async function convertToInteractive(key) {\n",
              "          const element = document.querySelector('#df-702c4e6b-d09b-4d96-b074-0acef0290e00');\n",
              "          const dataTable =\n",
              "            await google.colab.kernel.invokeFunction('convertToInteractive',\n",
              "                                                     [key], {});\n",
              "          if (!dataTable) return;\n",
              "\n",
              "          const docLinkHtml = 'Like what you see? Visit the ' +\n",
              "            '<a target=\"_blank\" href=https://colab.research.google.com/notebooks/data_table.ipynb>data table notebook</a>'\n",
              "            + ' to learn more about interactive tables.';\n",
              "          element.innerHTML = '';\n",
              "          dataTable['output_type'] = 'display_data';\n",
              "          await google.colab.output.renderOutput(dataTable, element);\n",
              "          const docLink = document.createElement('div');\n",
              "          docLink.innerHTML = docLinkHtml;\n",
              "          element.appendChild(docLink);\n",
              "        }\n",
              "      </script>\n",
              "    </div>\n",
              "  </div>\n",
              "  "
            ]
          },
          "metadata": {},
          "execution_count": 57
        }
      ]
    },
    {
      "cell_type": "code",
      "source": [
        "kakao_data = pd.DataFrame(kakao_conversation, columns=['conversation'])"
      ],
      "metadata": {
        "id": "DPpEc1smVbRd"
      },
      "execution_count": 58,
      "outputs": []
    },
    {
      "cell_type": "code",
      "source": [
        "kakao_data.head()"
      ],
      "metadata": {
        "colab": {
          "base_uri": "https://localhost:8080/",
          "height": 206
        },
        "id": "y95elRXnVlJ4",
        "outputId": "f447df7b-6170-421e-ced5-bc9d4c2d1017"
      },
      "execution_count": 59,
      "outputs": [
        {
          "output_type": "execute_result",
          "data": {
            "text/plain": [
              "                                        conversation\n",
              "0  아니야 싫어\\n난 자격증 공부나 할래\\n자격증 공부는 좀 돼가...?\\n요즘 계속 ...\n",
              "1  자격증을 딸까 아니면 지금 하고 있는 일에 집중할까?\\n흠 너 무슨 자격증 따려고 ...\n",
              "2  니는 예능 프로그램 챙겨 보는 거 뭐 있어? 키키\\n음 대탈출 챙겨 봤었어요 하하\\...\n",
              "3  니는 예능 프로그램 챙겨 보는 거 뭐 있어? 키키\\n음 대탈출 챙겨 봤었어요 하하\\...\n",
              "4  자격증을 딸까 아니면 지금 하고 있는 일에 집중할까?\\n흠 너 무슨 자격증 따려고 ..."
            ],
            "text/html": [
              "\n",
              "  <div id=\"df-c1ec3034-6f09-4595-bbfe-26891956f607\">\n",
              "    <div class=\"colab-df-container\">\n",
              "      <div>\n",
              "<style scoped>\n",
              "    .dataframe tbody tr th:only-of-type {\n",
              "        vertical-align: middle;\n",
              "    }\n",
              "\n",
              "    .dataframe tbody tr th {\n",
              "        vertical-align: top;\n",
              "    }\n",
              "\n",
              "    .dataframe thead th {\n",
              "        text-align: right;\n",
              "    }\n",
              "</style>\n",
              "<table border=\"1\" class=\"dataframe\">\n",
              "  <thead>\n",
              "    <tr style=\"text-align: right;\">\n",
              "      <th></th>\n",
              "      <th>conversation</th>\n",
              "    </tr>\n",
              "  </thead>\n",
              "  <tbody>\n",
              "    <tr>\n",
              "      <th>0</th>\n",
              "      <td>아니야 싫어\\n난 자격증 공부나 할래\\n자격증 공부는 좀 돼가...?\\n요즘 계속 ...</td>\n",
              "    </tr>\n",
              "    <tr>\n",
              "      <th>1</th>\n",
              "      <td>자격증을 딸까 아니면 지금 하고 있는 일에 집중할까?\\n흠 너 무슨 자격증 따려고 ...</td>\n",
              "    </tr>\n",
              "    <tr>\n",
              "      <th>2</th>\n",
              "      <td>니는 예능 프로그램 챙겨 보는 거 뭐 있어? 키키\\n음 대탈출 챙겨 봤었어요 하하\\...</td>\n",
              "    </tr>\n",
              "    <tr>\n",
              "      <th>3</th>\n",
              "      <td>니는 예능 프로그램 챙겨 보는 거 뭐 있어? 키키\\n음 대탈출 챙겨 봤었어요 하하\\...</td>\n",
              "    </tr>\n",
              "    <tr>\n",
              "      <th>4</th>\n",
              "      <td>자격증을 딸까 아니면 지금 하고 있는 일에 집중할까?\\n흠 너 무슨 자격증 따려고 ...</td>\n",
              "    </tr>\n",
              "  </tbody>\n",
              "</table>\n",
              "</div>\n",
              "      <button class=\"colab-df-convert\" onclick=\"convertToInteractive('df-c1ec3034-6f09-4595-bbfe-26891956f607')\"\n",
              "              title=\"Convert this dataframe to an interactive table.\"\n",
              "              style=\"display:none;\">\n",
              "        \n",
              "  <svg xmlns=\"http://www.w3.org/2000/svg\" height=\"24px\"viewBox=\"0 0 24 24\"\n",
              "       width=\"24px\">\n",
              "    <path d=\"M0 0h24v24H0V0z\" fill=\"none\"/>\n",
              "    <path d=\"M18.56 5.44l.94 2.06.94-2.06 2.06-.94-2.06-.94-.94-2.06-.94 2.06-2.06.94zm-11 1L8.5 8.5l.94-2.06 2.06-.94-2.06-.94L8.5 2.5l-.94 2.06-2.06.94zm10 10l.94 2.06.94-2.06 2.06-.94-2.06-.94-.94-2.06-.94 2.06-2.06.94z\"/><path d=\"M17.41 7.96l-1.37-1.37c-.4-.4-.92-.59-1.43-.59-.52 0-1.04.2-1.43.59L10.3 9.45l-7.72 7.72c-.78.78-.78 2.05 0 2.83L4 21.41c.39.39.9.59 1.41.59.51 0 1.02-.2 1.41-.59l7.78-7.78 2.81-2.81c.8-.78.8-2.07 0-2.86zM5.41 20L4 18.59l7.72-7.72 1.47 1.35L5.41 20z\"/>\n",
              "  </svg>\n",
              "      </button>\n",
              "      \n",
              "  <style>\n",
              "    .colab-df-container {\n",
              "      display:flex;\n",
              "      flex-wrap:wrap;\n",
              "      gap: 12px;\n",
              "    }\n",
              "\n",
              "    .colab-df-convert {\n",
              "      background-color: #E8F0FE;\n",
              "      border: none;\n",
              "      border-radius: 50%;\n",
              "      cursor: pointer;\n",
              "      display: none;\n",
              "      fill: #1967D2;\n",
              "      height: 32px;\n",
              "      padding: 0 0 0 0;\n",
              "      width: 32px;\n",
              "    }\n",
              "\n",
              "    .colab-df-convert:hover {\n",
              "      background-color: #E2EBFA;\n",
              "      box-shadow: 0px 1px 2px rgba(60, 64, 67, 0.3), 0px 1px 3px 1px rgba(60, 64, 67, 0.15);\n",
              "      fill: #174EA6;\n",
              "    }\n",
              "\n",
              "    [theme=dark] .colab-df-convert {\n",
              "      background-color: #3B4455;\n",
              "      fill: #D2E3FC;\n",
              "    }\n",
              "\n",
              "    [theme=dark] .colab-df-convert:hover {\n",
              "      background-color: #434B5C;\n",
              "      box-shadow: 0px 1px 3px 1px rgba(0, 0, 0, 0.15);\n",
              "      filter: drop-shadow(0px 1px 2px rgba(0, 0, 0, 0.3));\n",
              "      fill: #FFFFFF;\n",
              "    }\n",
              "  </style>\n",
              "\n",
              "      <script>\n",
              "        const buttonEl =\n",
              "          document.querySelector('#df-c1ec3034-6f09-4595-bbfe-26891956f607 button.colab-df-convert');\n",
              "        buttonEl.style.display =\n",
              "          google.colab.kernel.accessAllowed ? 'block' : 'none';\n",
              "\n",
              "        async function convertToInteractive(key) {\n",
              "          const element = document.querySelector('#df-c1ec3034-6f09-4595-bbfe-26891956f607');\n",
              "          const dataTable =\n",
              "            await google.colab.kernel.invokeFunction('convertToInteractive',\n",
              "                                                     [key], {});\n",
              "          if (!dataTable) return;\n",
              "\n",
              "          const docLinkHtml = 'Like what you see? Visit the ' +\n",
              "            '<a target=\"_blank\" href=https://colab.research.google.com/notebooks/data_table.ipynb>data table notebook</a>'\n",
              "            + ' to learn more about interactive tables.';\n",
              "          element.innerHTML = '';\n",
              "          dataTable['output_type'] = 'display_data';\n",
              "          await google.colab.output.renderOutput(dataTable, element);\n",
              "          const docLink = document.createElement('div');\n",
              "          docLink.innerHTML = docLinkHtml;\n",
              "          element.appendChild(docLink);\n",
              "        }\n",
              "      </script>\n",
              "    </div>\n",
              "  </div>\n",
              "  "
            ]
          },
          "metadata": {},
          "execution_count": 59
        }
      ]
    },
    {
      "cell_type": "code",
      "source": [
        "kakao_data['type'] = '카카오'"
      ],
      "metadata": {
        "id": "JKDAFibpWnZ7"
      },
      "execution_count": 60,
      "outputs": []
    },
    {
      "cell_type": "code",
      "source": [
        "kakao_data.head()"
      ],
      "metadata": {
        "colab": {
          "base_uri": "https://localhost:8080/",
          "height": 206
        },
        "id": "dM_So-q9Wtyy",
        "outputId": "34f7729d-baa3-4956-9bfb-9e5657fa0621"
      },
      "execution_count": 61,
      "outputs": [
        {
          "output_type": "execute_result",
          "data": {
            "text/plain": [
              "                                        conversation type\n",
              "0  아니야 싫어\\n난 자격증 공부나 할래\\n자격증 공부는 좀 돼가...?\\n요즘 계속 ...  카카오\n",
              "1  자격증을 딸까 아니면 지금 하고 있는 일에 집중할까?\\n흠 너 무슨 자격증 따려고 ...  카카오\n",
              "2  니는 예능 프로그램 챙겨 보는 거 뭐 있어? 키키\\n음 대탈출 챙겨 봤었어요 하하\\...  카카오\n",
              "3  니는 예능 프로그램 챙겨 보는 거 뭐 있어? 키키\\n음 대탈출 챙겨 봤었어요 하하\\...  카카오\n",
              "4  자격증을 딸까 아니면 지금 하고 있는 일에 집중할까?\\n흠 너 무슨 자격증 따려고 ...  카카오"
            ],
            "text/html": [
              "\n",
              "  <div id=\"df-3db5142e-f598-4518-a076-b5ada2c5e855\">\n",
              "    <div class=\"colab-df-container\">\n",
              "      <div>\n",
              "<style scoped>\n",
              "    .dataframe tbody tr th:only-of-type {\n",
              "        vertical-align: middle;\n",
              "    }\n",
              "\n",
              "    .dataframe tbody tr th {\n",
              "        vertical-align: top;\n",
              "    }\n",
              "\n",
              "    .dataframe thead th {\n",
              "        text-align: right;\n",
              "    }\n",
              "</style>\n",
              "<table border=\"1\" class=\"dataframe\">\n",
              "  <thead>\n",
              "    <tr style=\"text-align: right;\">\n",
              "      <th></th>\n",
              "      <th>conversation</th>\n",
              "      <th>type</th>\n",
              "    </tr>\n",
              "  </thead>\n",
              "  <tbody>\n",
              "    <tr>\n",
              "      <th>0</th>\n",
              "      <td>아니야 싫어\\n난 자격증 공부나 할래\\n자격증 공부는 좀 돼가...?\\n요즘 계속 ...</td>\n",
              "      <td>카카오</td>\n",
              "    </tr>\n",
              "    <tr>\n",
              "      <th>1</th>\n",
              "      <td>자격증을 딸까 아니면 지금 하고 있는 일에 집중할까?\\n흠 너 무슨 자격증 따려고 ...</td>\n",
              "      <td>카카오</td>\n",
              "    </tr>\n",
              "    <tr>\n",
              "      <th>2</th>\n",
              "      <td>니는 예능 프로그램 챙겨 보는 거 뭐 있어? 키키\\n음 대탈출 챙겨 봤었어요 하하\\...</td>\n",
              "      <td>카카오</td>\n",
              "    </tr>\n",
              "    <tr>\n",
              "      <th>3</th>\n",
              "      <td>니는 예능 프로그램 챙겨 보는 거 뭐 있어? 키키\\n음 대탈출 챙겨 봤었어요 하하\\...</td>\n",
              "      <td>카카오</td>\n",
              "    </tr>\n",
              "    <tr>\n",
              "      <th>4</th>\n",
              "      <td>자격증을 딸까 아니면 지금 하고 있는 일에 집중할까?\\n흠 너 무슨 자격증 따려고 ...</td>\n",
              "      <td>카카오</td>\n",
              "    </tr>\n",
              "  </tbody>\n",
              "</table>\n",
              "</div>\n",
              "      <button class=\"colab-df-convert\" onclick=\"convertToInteractive('df-3db5142e-f598-4518-a076-b5ada2c5e855')\"\n",
              "              title=\"Convert this dataframe to an interactive table.\"\n",
              "              style=\"display:none;\">\n",
              "        \n",
              "  <svg xmlns=\"http://www.w3.org/2000/svg\" height=\"24px\"viewBox=\"0 0 24 24\"\n",
              "       width=\"24px\">\n",
              "    <path d=\"M0 0h24v24H0V0z\" fill=\"none\"/>\n",
              "    <path d=\"M18.56 5.44l.94 2.06.94-2.06 2.06-.94-2.06-.94-.94-2.06-.94 2.06-2.06.94zm-11 1L8.5 8.5l.94-2.06 2.06-.94-2.06-.94L8.5 2.5l-.94 2.06-2.06.94zm10 10l.94 2.06.94-2.06 2.06-.94-2.06-.94-.94-2.06-.94 2.06-2.06.94z\"/><path d=\"M17.41 7.96l-1.37-1.37c-.4-.4-.92-.59-1.43-.59-.52 0-1.04.2-1.43.59L10.3 9.45l-7.72 7.72c-.78.78-.78 2.05 0 2.83L4 21.41c.39.39.9.59 1.41.59.51 0 1.02-.2 1.41-.59l7.78-7.78 2.81-2.81c.8-.78.8-2.07 0-2.86zM5.41 20L4 18.59l7.72-7.72 1.47 1.35L5.41 20z\"/>\n",
              "  </svg>\n",
              "      </button>\n",
              "      \n",
              "  <style>\n",
              "    .colab-df-container {\n",
              "      display:flex;\n",
              "      flex-wrap:wrap;\n",
              "      gap: 12px;\n",
              "    }\n",
              "\n",
              "    .colab-df-convert {\n",
              "      background-color: #E8F0FE;\n",
              "      border: none;\n",
              "      border-radius: 50%;\n",
              "      cursor: pointer;\n",
              "      display: none;\n",
              "      fill: #1967D2;\n",
              "      height: 32px;\n",
              "      padding: 0 0 0 0;\n",
              "      width: 32px;\n",
              "    }\n",
              "\n",
              "    .colab-df-convert:hover {\n",
              "      background-color: #E2EBFA;\n",
              "      box-shadow: 0px 1px 2px rgba(60, 64, 67, 0.3), 0px 1px 3px 1px rgba(60, 64, 67, 0.15);\n",
              "      fill: #174EA6;\n",
              "    }\n",
              "\n",
              "    [theme=dark] .colab-df-convert {\n",
              "      background-color: #3B4455;\n",
              "      fill: #D2E3FC;\n",
              "    }\n",
              "\n",
              "    [theme=dark] .colab-df-convert:hover {\n",
              "      background-color: #434B5C;\n",
              "      box-shadow: 0px 1px 3px 1px rgba(0, 0, 0, 0.15);\n",
              "      filter: drop-shadow(0px 1px 2px rgba(0, 0, 0, 0.3));\n",
              "      fill: #FFFFFF;\n",
              "    }\n",
              "  </style>\n",
              "\n",
              "      <script>\n",
              "        const buttonEl =\n",
              "          document.querySelector('#df-3db5142e-f598-4518-a076-b5ada2c5e855 button.colab-df-convert');\n",
              "        buttonEl.style.display =\n",
              "          google.colab.kernel.accessAllowed ? 'block' : 'none';\n",
              "\n",
              "        async function convertToInteractive(key) {\n",
              "          const element = document.querySelector('#df-3db5142e-f598-4518-a076-b5ada2c5e855');\n",
              "          const dataTable =\n",
              "            await google.colab.kernel.invokeFunction('convertToInteractive',\n",
              "                                                     [key], {});\n",
              "          if (!dataTable) return;\n",
              "\n",
              "          const docLinkHtml = 'Like what you see? Visit the ' +\n",
              "            '<a target=\"_blank\" href=https://colab.research.google.com/notebooks/data_table.ipynb>data table notebook</a>'\n",
              "            + ' to learn more about interactive tables.';\n",
              "          element.innerHTML = '';\n",
              "          dataTable['output_type'] = 'display_data';\n",
              "          await google.colab.output.renderOutput(dataTable, element);\n",
              "          const docLink = document.createElement('div');\n",
              "          docLink.innerHTML = docLinkHtml;\n",
              "          element.appendChild(docLink);\n",
              "        }\n",
              "      </script>\n",
              "    </div>\n",
              "  </div>\n",
              "  "
            ]
          },
          "metadata": {},
          "execution_count": 61
        }
      ]
    },
    {
      "cell_type": "code",
      "source": [
        "data = pd.concat([other_data, kakao_data], ignore_index=True)"
      ],
      "metadata": {
        "id": "ur_775GXVmYA"
      },
      "execution_count": 62,
      "outputs": []
    },
    {
      "cell_type": "code",
      "source": [
        "len(data)"
      ],
      "metadata": {
        "colab": {
          "base_uri": "https://localhost:8080/"
        },
        "id": "-FRXaMWyV2M6",
        "outputId": "374923d6-6e3e-4048-c0ec-8c9ea66c718e"
      },
      "execution_count": 63,
      "outputs": [
        {
          "output_type": "execute_result",
          "data": {
            "text/plain": [
              "48651"
            ]
          },
          "metadata": {},
          "execution_count": 63
        }
      ]
    },
    {
      "cell_type": "code",
      "source": [
        "data.head()"
      ],
      "metadata": {
        "colab": {
          "base_uri": "https://localhost:8080/",
          "height": 206
        },
        "id": "Yk3MrtO0V3E6",
        "outputId": "8e0c87dc-229d-4284-b682-ca0eff13ec12"
      },
      "execution_count": 64,
      "outputs": [
        {
          "output_type": "execute_result",
          "data": {
            "text/plain": [
              "                                        conversation  type\n",
              "0  반갑습니다 #@소속# #@이름#입니다 무엇을 도와드릴까요\\n여보세요 네 안녕하세요 ...  고객센터\n",
              "1  #@소속# 조직도 확인 후 연락드렸습니다.\\n정확한 문의는 #@소속#부서에 문의를 ...  고객센터\n",
              "2  반갑습니다 #@소속#  #@이름#입니다 무엇을 도와드릴까요\\n제가 주택 임대차로 분...  고객센터\n",
              "3  반갑습니다 #@소속#  #@이름#입니다 무엇을 도와 드릴까요\\n여기요 #@소속#인가...  고객센터\n",
              "4  네 #@소속# #@이름#입니다\\n안녕하세요 #@소속# #@이름#입니다\\n네 안녕하세...  고객센터"
            ],
            "text/html": [
              "\n",
              "  <div id=\"df-a0ec8bfb-2b1e-4521-b978-4a6d7a1c348a\">\n",
              "    <div class=\"colab-df-container\">\n",
              "      <div>\n",
              "<style scoped>\n",
              "    .dataframe tbody tr th:only-of-type {\n",
              "        vertical-align: middle;\n",
              "    }\n",
              "\n",
              "    .dataframe tbody tr th {\n",
              "        vertical-align: top;\n",
              "    }\n",
              "\n",
              "    .dataframe thead th {\n",
              "        text-align: right;\n",
              "    }\n",
              "</style>\n",
              "<table border=\"1\" class=\"dataframe\">\n",
              "  <thead>\n",
              "    <tr style=\"text-align: right;\">\n",
              "      <th></th>\n",
              "      <th>conversation</th>\n",
              "      <th>type</th>\n",
              "    </tr>\n",
              "  </thead>\n",
              "  <tbody>\n",
              "    <tr>\n",
              "      <th>0</th>\n",
              "      <td>반갑습니다 #@소속# #@이름#입니다 무엇을 도와드릴까요\\n여보세요 네 안녕하세요 ...</td>\n",
              "      <td>고객센터</td>\n",
              "    </tr>\n",
              "    <tr>\n",
              "      <th>1</th>\n",
              "      <td>#@소속# 조직도 확인 후 연락드렸습니다.\\n정확한 문의는 #@소속#부서에 문의를 ...</td>\n",
              "      <td>고객센터</td>\n",
              "    </tr>\n",
              "    <tr>\n",
              "      <th>2</th>\n",
              "      <td>반갑습니다 #@소속#  #@이름#입니다 무엇을 도와드릴까요\\n제가 주택 임대차로 분...</td>\n",
              "      <td>고객센터</td>\n",
              "    </tr>\n",
              "    <tr>\n",
              "      <th>3</th>\n",
              "      <td>반갑습니다 #@소속#  #@이름#입니다 무엇을 도와 드릴까요\\n여기요 #@소속#인가...</td>\n",
              "      <td>고객센터</td>\n",
              "    </tr>\n",
              "    <tr>\n",
              "      <th>4</th>\n",
              "      <td>네 #@소속# #@이름#입니다\\n안녕하세요 #@소속# #@이름#입니다\\n네 안녕하세...</td>\n",
              "      <td>고객센터</td>\n",
              "    </tr>\n",
              "  </tbody>\n",
              "</table>\n",
              "</div>\n",
              "      <button class=\"colab-df-convert\" onclick=\"convertToInteractive('df-a0ec8bfb-2b1e-4521-b978-4a6d7a1c348a')\"\n",
              "              title=\"Convert this dataframe to an interactive table.\"\n",
              "              style=\"display:none;\">\n",
              "        \n",
              "  <svg xmlns=\"http://www.w3.org/2000/svg\" height=\"24px\"viewBox=\"0 0 24 24\"\n",
              "       width=\"24px\">\n",
              "    <path d=\"M0 0h24v24H0V0z\" fill=\"none\"/>\n",
              "    <path d=\"M18.56 5.44l.94 2.06.94-2.06 2.06-.94-2.06-.94-.94-2.06-.94 2.06-2.06.94zm-11 1L8.5 8.5l.94-2.06 2.06-.94-2.06-.94L8.5 2.5l-.94 2.06-2.06.94zm10 10l.94 2.06.94-2.06 2.06-.94-2.06-.94-.94-2.06-.94 2.06-2.06.94z\"/><path d=\"M17.41 7.96l-1.37-1.37c-.4-.4-.92-.59-1.43-.59-.52 0-1.04.2-1.43.59L10.3 9.45l-7.72 7.72c-.78.78-.78 2.05 0 2.83L4 21.41c.39.39.9.59 1.41.59.51 0 1.02-.2 1.41-.59l7.78-7.78 2.81-2.81c.8-.78.8-2.07 0-2.86zM5.41 20L4 18.59l7.72-7.72 1.47 1.35L5.41 20z\"/>\n",
              "  </svg>\n",
              "      </button>\n",
              "      \n",
              "  <style>\n",
              "    .colab-df-container {\n",
              "      display:flex;\n",
              "      flex-wrap:wrap;\n",
              "      gap: 12px;\n",
              "    }\n",
              "\n",
              "    .colab-df-convert {\n",
              "      background-color: #E8F0FE;\n",
              "      border: none;\n",
              "      border-radius: 50%;\n",
              "      cursor: pointer;\n",
              "      display: none;\n",
              "      fill: #1967D2;\n",
              "      height: 32px;\n",
              "      padding: 0 0 0 0;\n",
              "      width: 32px;\n",
              "    }\n",
              "\n",
              "    .colab-df-convert:hover {\n",
              "      background-color: #E2EBFA;\n",
              "      box-shadow: 0px 1px 2px rgba(60, 64, 67, 0.3), 0px 1px 3px 1px rgba(60, 64, 67, 0.15);\n",
              "      fill: #174EA6;\n",
              "    }\n",
              "\n",
              "    [theme=dark] .colab-df-convert {\n",
              "      background-color: #3B4455;\n",
              "      fill: #D2E3FC;\n",
              "    }\n",
              "\n",
              "    [theme=dark] .colab-df-convert:hover {\n",
              "      background-color: #434B5C;\n",
              "      box-shadow: 0px 1px 3px 1px rgba(0, 0, 0, 0.15);\n",
              "      filter: drop-shadow(0px 1px 2px rgba(0, 0, 0, 0.3));\n",
              "      fill: #FFFFFF;\n",
              "    }\n",
              "  </style>\n",
              "\n",
              "      <script>\n",
              "        const buttonEl =\n",
              "          document.querySelector('#df-a0ec8bfb-2b1e-4521-b978-4a6d7a1c348a button.colab-df-convert');\n",
              "        buttonEl.style.display =\n",
              "          google.colab.kernel.accessAllowed ? 'block' : 'none';\n",
              "\n",
              "        async function convertToInteractive(key) {\n",
              "          const element = document.querySelector('#df-a0ec8bfb-2b1e-4521-b978-4a6d7a1c348a');\n",
              "          const dataTable =\n",
              "            await google.colab.kernel.invokeFunction('convertToInteractive',\n",
              "                                                     [key], {});\n",
              "          if (!dataTable) return;\n",
              "\n",
              "          const docLinkHtml = 'Like what you see? Visit the ' +\n",
              "            '<a target=\"_blank\" href=https://colab.research.google.com/notebooks/data_table.ipynb>data table notebook</a>'\n",
              "            + ' to learn more about interactive tables.';\n",
              "          element.innerHTML = '';\n",
              "          dataTable['output_type'] = 'display_data';\n",
              "          await google.colab.output.renderOutput(dataTable, element);\n",
              "          const docLink = document.createElement('div');\n",
              "          docLink.innerHTML = docLinkHtml;\n",
              "          element.appendChild(docLink);\n",
              "        }\n",
              "      </script>\n",
              "    </div>\n",
              "  </div>\n",
              "  "
            ]
          },
          "metadata": {},
          "execution_count": 64
        }
      ]
    },
    {
      "cell_type": "code",
      "source": [
        "data.tail()"
      ],
      "metadata": {
        "colab": {
          "base_uri": "https://localhost:8080/",
          "height": 206
        },
        "id": "n3arPjOeV4I6",
        "outputId": "66795ef6-a13c-4da8-a3c8-fcef49fcbebd"
      },
      "execution_count": 65,
      "outputs": [
        {
          "output_type": "execute_result",
          "data": {
            "text/plain": [
              "                                            conversation type\n",
              "48646  요즘에 엄마가 나 씻고 화장하면 남자 만나냐고 물어봄 키키\\n갑자기? 키키 집이랑 ...  카카오\n",
              "48647  주말에 보드 타러 갈래? 사상에 괜찮은 데 있음 잘 가르치던대\\n뭐 바퀴 달린 거?...  카카오\n",
              "48648  우리 집 뒤에 중국집 가지마\\n왜? 너 거기 좋아했잖아 맛있다며\\n다 다음 달까지 ...  카카오\n",
              "48649  엄마 생신 선물 눈치 게임 실패했다 아 키키\\n왜 너희 오빠랑 같이 준비해서 드린다...  카카오\n",
              "48650  요새 군대 편한가 봄? 옛날이랑 다르네\\n왜 그러는데 니 어디 가서 그런 말 하면 ...  카카오"
            ],
            "text/html": [
              "\n",
              "  <div id=\"df-420e5c71-e932-45f6-ae09-d5b04272d51a\">\n",
              "    <div class=\"colab-df-container\">\n",
              "      <div>\n",
              "<style scoped>\n",
              "    .dataframe tbody tr th:only-of-type {\n",
              "        vertical-align: middle;\n",
              "    }\n",
              "\n",
              "    .dataframe tbody tr th {\n",
              "        vertical-align: top;\n",
              "    }\n",
              "\n",
              "    .dataframe thead th {\n",
              "        text-align: right;\n",
              "    }\n",
              "</style>\n",
              "<table border=\"1\" class=\"dataframe\">\n",
              "  <thead>\n",
              "    <tr style=\"text-align: right;\">\n",
              "      <th></th>\n",
              "      <th>conversation</th>\n",
              "      <th>type</th>\n",
              "    </tr>\n",
              "  </thead>\n",
              "  <tbody>\n",
              "    <tr>\n",
              "      <th>48646</th>\n",
              "      <td>요즘에 엄마가 나 씻고 화장하면 남자 만나냐고 물어봄 키키\\n갑자기? 키키 집이랑 ...</td>\n",
              "      <td>카카오</td>\n",
              "    </tr>\n",
              "    <tr>\n",
              "      <th>48647</th>\n",
              "      <td>주말에 보드 타러 갈래? 사상에 괜찮은 데 있음 잘 가르치던대\\n뭐 바퀴 달린 거?...</td>\n",
              "      <td>카카오</td>\n",
              "    </tr>\n",
              "    <tr>\n",
              "      <th>48648</th>\n",
              "      <td>우리 집 뒤에 중국집 가지마\\n왜? 너 거기 좋아했잖아 맛있다며\\n다 다음 달까지 ...</td>\n",
              "      <td>카카오</td>\n",
              "    </tr>\n",
              "    <tr>\n",
              "      <th>48649</th>\n",
              "      <td>엄마 생신 선물 눈치 게임 실패했다 아 키키\\n왜 너희 오빠랑 같이 준비해서 드린다...</td>\n",
              "      <td>카카오</td>\n",
              "    </tr>\n",
              "    <tr>\n",
              "      <th>48650</th>\n",
              "      <td>요새 군대 편한가 봄? 옛날이랑 다르네\\n왜 그러는데 니 어디 가서 그런 말 하면 ...</td>\n",
              "      <td>카카오</td>\n",
              "    </tr>\n",
              "  </tbody>\n",
              "</table>\n",
              "</div>\n",
              "      <button class=\"colab-df-convert\" onclick=\"convertToInteractive('df-420e5c71-e932-45f6-ae09-d5b04272d51a')\"\n",
              "              title=\"Convert this dataframe to an interactive table.\"\n",
              "              style=\"display:none;\">\n",
              "        \n",
              "  <svg xmlns=\"http://www.w3.org/2000/svg\" height=\"24px\"viewBox=\"0 0 24 24\"\n",
              "       width=\"24px\">\n",
              "    <path d=\"M0 0h24v24H0V0z\" fill=\"none\"/>\n",
              "    <path d=\"M18.56 5.44l.94 2.06.94-2.06 2.06-.94-2.06-.94-.94-2.06-.94 2.06-2.06.94zm-11 1L8.5 8.5l.94-2.06 2.06-.94-2.06-.94L8.5 2.5l-.94 2.06-2.06.94zm10 10l.94 2.06.94-2.06 2.06-.94-2.06-.94-.94-2.06-.94 2.06-2.06.94z\"/><path d=\"M17.41 7.96l-1.37-1.37c-.4-.4-.92-.59-1.43-.59-.52 0-1.04.2-1.43.59L10.3 9.45l-7.72 7.72c-.78.78-.78 2.05 0 2.83L4 21.41c.39.39.9.59 1.41.59.51 0 1.02-.2 1.41-.59l7.78-7.78 2.81-2.81c.8-.78.8-2.07 0-2.86zM5.41 20L4 18.59l7.72-7.72 1.47 1.35L5.41 20z\"/>\n",
              "  </svg>\n",
              "      </button>\n",
              "      \n",
              "  <style>\n",
              "    .colab-df-container {\n",
              "      display:flex;\n",
              "      flex-wrap:wrap;\n",
              "      gap: 12px;\n",
              "    }\n",
              "\n",
              "    .colab-df-convert {\n",
              "      background-color: #E8F0FE;\n",
              "      border: none;\n",
              "      border-radius: 50%;\n",
              "      cursor: pointer;\n",
              "      display: none;\n",
              "      fill: #1967D2;\n",
              "      height: 32px;\n",
              "      padding: 0 0 0 0;\n",
              "      width: 32px;\n",
              "    }\n",
              "\n",
              "    .colab-df-convert:hover {\n",
              "      background-color: #E2EBFA;\n",
              "      box-shadow: 0px 1px 2px rgba(60, 64, 67, 0.3), 0px 1px 3px 1px rgba(60, 64, 67, 0.15);\n",
              "      fill: #174EA6;\n",
              "    }\n",
              "\n",
              "    [theme=dark] .colab-df-convert {\n",
              "      background-color: #3B4455;\n",
              "      fill: #D2E3FC;\n",
              "    }\n",
              "\n",
              "    [theme=dark] .colab-df-convert:hover {\n",
              "      background-color: #434B5C;\n",
              "      box-shadow: 0px 1px 3px 1px rgba(0, 0, 0, 0.15);\n",
              "      filter: drop-shadow(0px 1px 2px rgba(0, 0, 0, 0.3));\n",
              "      fill: #FFFFFF;\n",
              "    }\n",
              "  </style>\n",
              "\n",
              "      <script>\n",
              "        const buttonEl =\n",
              "          document.querySelector('#df-420e5c71-e932-45f6-ae09-d5b04272d51a button.colab-df-convert');\n",
              "        buttonEl.style.display =\n",
              "          google.colab.kernel.accessAllowed ? 'block' : 'none';\n",
              "\n",
              "        async function convertToInteractive(key) {\n",
              "          const element = document.querySelector('#df-420e5c71-e932-45f6-ae09-d5b04272d51a');\n",
              "          const dataTable =\n",
              "            await google.colab.kernel.invokeFunction('convertToInteractive',\n",
              "                                                     [key], {});\n",
              "          if (!dataTable) return;\n",
              "\n",
              "          const docLinkHtml = 'Like what you see? Visit the ' +\n",
              "            '<a target=\"_blank\" href=https://colab.research.google.com/notebooks/data_table.ipynb>data table notebook</a>'\n",
              "            + ' to learn more about interactive tables.';\n",
              "          element.innerHTML = '';\n",
              "          dataTable['output_type'] = 'display_data';\n",
              "          await google.colab.output.renderOutput(dataTable, element);\n",
              "          const docLink = document.createElement('div');\n",
              "          docLink.innerHTML = docLinkHtml;\n",
              "          element.appendChild(docLink);\n",
              "        }\n",
              "      </script>\n",
              "    </div>\n",
              "  </div>\n",
              "  "
            ]
          },
          "metadata": {},
          "execution_count": 65
        }
      ]
    },
    {
      "cell_type": "code",
      "source": [
        "data.duplicated().sum()"
      ],
      "metadata": {
        "colab": {
          "base_uri": "https://localhost:8080/"
        },
        "id": "avnvoJxHV4vg",
        "outputId": "86a1bfe2-1c5c-49d6-89a9-4c2857db8770"
      },
      "execution_count": 66,
      "outputs": [
        {
          "output_type": "execute_result",
          "data": {
            "text/plain": [
              "656"
            ]
          },
          "metadata": {},
          "execution_count": 66
        }
      ]
    },
    {
      "cell_type": "code",
      "source": [
        "data.drop_duplicates('conversation', keep='first', inplace=True)"
      ],
      "metadata": {
        "id": "qnwIysxqV99z"
      },
      "execution_count": 67,
      "outputs": []
    },
    {
      "cell_type": "code",
      "source": [
        "len(data)"
      ],
      "metadata": {
        "colab": {
          "base_uri": "https://localhost:8080/"
        },
        "id": "IbumLWR-WVe4",
        "outputId": "ea476dc3-7bf5-4d74-e59c-371e7228b219"
      },
      "execution_count": 68,
      "outputs": [
        {
          "output_type": "execute_result",
          "data": {
            "text/plain": [
              "47995"
            ]
          },
          "metadata": {},
          "execution_count": 68
        }
      ]
    },
    {
      "cell_type": "code",
      "source": [
        "data.to_csv('/content/drive/MyDrive/AIFFELTHON/일반대화/normal_conversation.csv')"
      ],
      "metadata": {
        "id": "4jXRzD_pWbSA"
      },
      "execution_count": 69,
      "outputs": []
    }
  ]
}