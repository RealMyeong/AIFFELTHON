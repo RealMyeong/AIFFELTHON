{
  "nbformat": 4,
  "nbformat_minor": 0,
  "metadata": {
    "colab": {
      "provenance": [],
      "mount_file_id": "1A8QLJ761OMFBokSau3gDDJpDwFpxTGh0",
      "authorship_tag": "ABX9TyOdczwEK+fhdsYwmdZvgcCn",
      "include_colab_link": true
    },
    "kernelspec": {
      "name": "python3",
      "display_name": "Python 3"
    },
    "language_info": {
      "name": "python"
    },
    "accelerator": "GPU",
    "gpuClass": "standard",
    "widgets": {
      "application/vnd.jupyter.widget-state+json": {
        "5838aa622cf44dbfa7b6cf7bff148c52": {
          "model_module": "@jupyter-widgets/controls",
          "model_name": "HBoxModel",
          "model_module_version": "1.5.0",
          "state": {
            "_dom_classes": [],
            "_model_module": "@jupyter-widgets/controls",
            "_model_module_version": "1.5.0",
            "_model_name": "HBoxModel",
            "_view_count": null,
            "_view_module": "@jupyter-widgets/controls",
            "_view_module_version": "1.5.0",
            "_view_name": "HBoxView",
            "box_style": "",
            "children": [
              "IPY_MODEL_1fd517d87bc44060b3e632b46050b08c",
              "IPY_MODEL_437f1e2a0336428f8b034963ad048ee4",
              "IPY_MODEL_f63668564b574b3080de4d7ba793715d"
            ],
            "layout": "IPY_MODEL_9575c4c44fc0445fb14f71eadd476b9c"
          }
        },
        "1fd517d87bc44060b3e632b46050b08c": {
          "model_module": "@jupyter-widgets/controls",
          "model_name": "HTMLModel",
          "model_module_version": "1.5.0",
          "state": {
            "_dom_classes": [],
            "_model_module": "@jupyter-widgets/controls",
            "_model_module_version": "1.5.0",
            "_model_name": "HTMLModel",
            "_view_count": null,
            "_view_module": "@jupyter-widgets/controls",
            "_view_module_version": "1.5.0",
            "_view_name": "HTMLView",
            "description": "",
            "description_tooltip": null,
            "layout": "IPY_MODEL_26e48196ff9948b8b364bc649fdf2c47",
            "placeholder": "​",
            "style": "IPY_MODEL_5c1226a6715a4d4ca94eb3fc122abaf2",
            "value": "Epoch 0: 100%"
          }
        },
        "437f1e2a0336428f8b034963ad048ee4": {
          "model_module": "@jupyter-widgets/controls",
          "model_name": "FloatProgressModel",
          "model_module_version": "1.5.0",
          "state": {
            "_dom_classes": [],
            "_model_module": "@jupyter-widgets/controls",
            "_model_module_version": "1.5.0",
            "_model_name": "FloatProgressModel",
            "_view_count": null,
            "_view_module": "@jupyter-widgets/controls",
            "_view_module_version": "1.5.0",
            "_view_name": "ProgressView",
            "bar_style": "success",
            "description": "",
            "description_tooltip": null,
            "layout": "IPY_MODEL_5b94bee284404c33b346b56a4a51e895",
            "max": 223,
            "min": 0,
            "orientation": "horizontal",
            "style": "IPY_MODEL_5f8d809f9688412e8eac88d95dc0b560",
            "value": 223
          }
        },
        "f63668564b574b3080de4d7ba793715d": {
          "model_module": "@jupyter-widgets/controls",
          "model_name": "HTMLModel",
          "model_module_version": "1.5.0",
          "state": {
            "_dom_classes": [],
            "_model_module": "@jupyter-widgets/controls",
            "_model_module_version": "1.5.0",
            "_model_name": "HTMLModel",
            "_view_count": null,
            "_view_module": "@jupyter-widgets/controls",
            "_view_module_version": "1.5.0",
            "_view_name": "HTMLView",
            "description": "",
            "description_tooltip": null,
            "layout": "IPY_MODEL_2786a460a3e04a13a0232c7a71bbfee1",
            "placeholder": "​",
            "style": "IPY_MODEL_94a0a93b34f041a7b51df2923dabc0e9",
            "value": " 223/223 [03:57&lt;00:00,  1.41it/s]"
          }
        },
        "9575c4c44fc0445fb14f71eadd476b9c": {
          "model_module": "@jupyter-widgets/base",
          "model_name": "LayoutModel",
          "model_module_version": "1.2.0",
          "state": {
            "_model_module": "@jupyter-widgets/base",
            "_model_module_version": "1.2.0",
            "_model_name": "LayoutModel",
            "_view_count": null,
            "_view_module": "@jupyter-widgets/base",
            "_view_module_version": "1.2.0",
            "_view_name": "LayoutView",
            "align_content": null,
            "align_items": null,
            "align_self": null,
            "border": null,
            "bottom": null,
            "display": null,
            "flex": null,
            "flex_flow": null,
            "grid_area": null,
            "grid_auto_columns": null,
            "grid_auto_flow": null,
            "grid_auto_rows": null,
            "grid_column": null,
            "grid_gap": null,
            "grid_row": null,
            "grid_template_areas": null,
            "grid_template_columns": null,
            "grid_template_rows": null,
            "height": null,
            "justify_content": null,
            "justify_items": null,
            "left": null,
            "margin": null,
            "max_height": null,
            "max_width": null,
            "min_height": null,
            "min_width": null,
            "object_fit": null,
            "object_position": null,
            "order": null,
            "overflow": null,
            "overflow_x": null,
            "overflow_y": null,
            "padding": null,
            "right": null,
            "top": null,
            "visibility": null,
            "width": null
          }
        },
        "26e48196ff9948b8b364bc649fdf2c47": {
          "model_module": "@jupyter-widgets/base",
          "model_name": "LayoutModel",
          "model_module_version": "1.2.0",
          "state": {
            "_model_module": "@jupyter-widgets/base",
            "_model_module_version": "1.2.0",
            "_model_name": "LayoutModel",
            "_view_count": null,
            "_view_module": "@jupyter-widgets/base",
            "_view_module_version": "1.2.0",
            "_view_name": "LayoutView",
            "align_content": null,
            "align_items": null,
            "align_self": null,
            "border": null,
            "bottom": null,
            "display": null,
            "flex": null,
            "flex_flow": null,
            "grid_area": null,
            "grid_auto_columns": null,
            "grid_auto_flow": null,
            "grid_auto_rows": null,
            "grid_column": null,
            "grid_gap": null,
            "grid_row": null,
            "grid_template_areas": null,
            "grid_template_columns": null,
            "grid_template_rows": null,
            "height": null,
            "justify_content": null,
            "justify_items": null,
            "left": null,
            "margin": null,
            "max_height": null,
            "max_width": null,
            "min_height": null,
            "min_width": null,
            "object_fit": null,
            "object_position": null,
            "order": null,
            "overflow": null,
            "overflow_x": null,
            "overflow_y": null,
            "padding": null,
            "right": null,
            "top": null,
            "visibility": null,
            "width": null
          }
        },
        "5c1226a6715a4d4ca94eb3fc122abaf2": {
          "model_module": "@jupyter-widgets/controls",
          "model_name": "DescriptionStyleModel",
          "model_module_version": "1.5.0",
          "state": {
            "_model_module": "@jupyter-widgets/controls",
            "_model_module_version": "1.5.0",
            "_model_name": "DescriptionStyleModel",
            "_view_count": null,
            "_view_module": "@jupyter-widgets/base",
            "_view_module_version": "1.2.0",
            "_view_name": "StyleView",
            "description_width": ""
          }
        },
        "5b94bee284404c33b346b56a4a51e895": {
          "model_module": "@jupyter-widgets/base",
          "model_name": "LayoutModel",
          "model_module_version": "1.2.0",
          "state": {
            "_model_module": "@jupyter-widgets/base",
            "_model_module_version": "1.2.0",
            "_model_name": "LayoutModel",
            "_view_count": null,
            "_view_module": "@jupyter-widgets/base",
            "_view_module_version": "1.2.0",
            "_view_name": "LayoutView",
            "align_content": null,
            "align_items": null,
            "align_self": null,
            "border": null,
            "bottom": null,
            "display": null,
            "flex": null,
            "flex_flow": null,
            "grid_area": null,
            "grid_auto_columns": null,
            "grid_auto_flow": null,
            "grid_auto_rows": null,
            "grid_column": null,
            "grid_gap": null,
            "grid_row": null,
            "grid_template_areas": null,
            "grid_template_columns": null,
            "grid_template_rows": null,
            "height": null,
            "justify_content": null,
            "justify_items": null,
            "left": null,
            "margin": null,
            "max_height": null,
            "max_width": null,
            "min_height": null,
            "min_width": null,
            "object_fit": null,
            "object_position": null,
            "order": null,
            "overflow": null,
            "overflow_x": null,
            "overflow_y": null,
            "padding": null,
            "right": null,
            "top": null,
            "visibility": null,
            "width": null
          }
        },
        "5f8d809f9688412e8eac88d95dc0b560": {
          "model_module": "@jupyter-widgets/controls",
          "model_name": "ProgressStyleModel",
          "model_module_version": "1.5.0",
          "state": {
            "_model_module": "@jupyter-widgets/controls",
            "_model_module_version": "1.5.0",
            "_model_name": "ProgressStyleModel",
            "_view_count": null,
            "_view_module": "@jupyter-widgets/base",
            "_view_module_version": "1.2.0",
            "_view_name": "StyleView",
            "bar_color": null,
            "description_width": ""
          }
        },
        "2786a460a3e04a13a0232c7a71bbfee1": {
          "model_module": "@jupyter-widgets/base",
          "model_name": "LayoutModel",
          "model_module_version": "1.2.0",
          "state": {
            "_model_module": "@jupyter-widgets/base",
            "_model_module_version": "1.2.0",
            "_model_name": "LayoutModel",
            "_view_count": null,
            "_view_module": "@jupyter-widgets/base",
            "_view_module_version": "1.2.0",
            "_view_name": "LayoutView",
            "align_content": null,
            "align_items": null,
            "align_self": null,
            "border": null,
            "bottom": null,
            "display": null,
            "flex": null,
            "flex_flow": null,
            "grid_area": null,
            "grid_auto_columns": null,
            "grid_auto_flow": null,
            "grid_auto_rows": null,
            "grid_column": null,
            "grid_gap": null,
            "grid_row": null,
            "grid_template_areas": null,
            "grid_template_columns": null,
            "grid_template_rows": null,
            "height": null,
            "justify_content": null,
            "justify_items": null,
            "left": null,
            "margin": null,
            "max_height": null,
            "max_width": null,
            "min_height": null,
            "min_width": null,
            "object_fit": null,
            "object_position": null,
            "order": null,
            "overflow": null,
            "overflow_x": null,
            "overflow_y": null,
            "padding": null,
            "right": null,
            "top": null,
            "visibility": null,
            "width": null
          }
        },
        "94a0a93b34f041a7b51df2923dabc0e9": {
          "model_module": "@jupyter-widgets/controls",
          "model_name": "DescriptionStyleModel",
          "model_module_version": "1.5.0",
          "state": {
            "_model_module": "@jupyter-widgets/controls",
            "_model_module_version": "1.5.0",
            "_model_name": "DescriptionStyleModel",
            "_view_count": null,
            "_view_module": "@jupyter-widgets/base",
            "_view_module_version": "1.2.0",
            "_view_name": "StyleView",
            "description_width": ""
          }
        }
      }
    }
  },
  "cells": [
    {
      "cell_type": "markdown",
      "metadata": {
        "id": "view-in-github",
        "colab_type": "text"
      },
      "source": [
        "<a href=\"https://colab.research.google.com/github/RealMyeong/AIFFELTHON/blob/main/JinMyeong/T5_torch.ipynb\" target=\"_parent\"><img src=\"https://colab.research.google.com/assets/colab-badge.svg\" alt=\"Open In Colab\"/></a>"
      ]
    },
    {
      "cell_type": "code",
      "execution_count": 1,
      "metadata": {
        "id": "C6ORPrsTekj9",
        "colab": {
          "base_uri": "https://localhost:8080/"
        },
        "outputId": "50028adc-660a-4b54-ae36-423c09bf0565"
      },
      "outputs": [
        {
          "output_type": "stream",
          "name": "stdout",
          "text": [
            "Looking in indexes: https://pypi.org/simple, https://us-python.pkg.dev/colab-wheels/public/simple/\n",
            "Requirement already satisfied: transformers in /usr/local/lib/python3.7/dist-packages (4.24.0)\n",
            "Requirement already satisfied: tqdm>=4.27 in /usr/local/lib/python3.7/dist-packages (from transformers) (4.64.1)\n",
            "Requirement already satisfied: pyyaml>=5.1 in /usr/local/lib/python3.7/dist-packages (from transformers) (6.0)\n",
            "Requirement already satisfied: packaging>=20.0 in /usr/local/lib/python3.7/dist-packages (from transformers) (21.3)\n",
            "Requirement already satisfied: huggingface-hub<1.0,>=0.10.0 in /usr/local/lib/python3.7/dist-packages (from transformers) (0.10.1)\n",
            "Requirement already satisfied: importlib-metadata in /usr/local/lib/python3.7/dist-packages (from transformers) (4.13.0)\n",
            "Requirement already satisfied: filelock in /usr/local/lib/python3.7/dist-packages (from transformers) (3.8.0)\n",
            "Requirement already satisfied: numpy>=1.17 in /usr/local/lib/python3.7/dist-packages (from transformers) (1.21.6)\n",
            "Requirement already satisfied: regex!=2019.12.17 in /usr/local/lib/python3.7/dist-packages (from transformers) (2022.6.2)\n",
            "Requirement already satisfied: requests in /usr/local/lib/python3.7/dist-packages (from transformers) (2.23.0)\n",
            "Requirement already satisfied: tokenizers!=0.11.3,<0.14,>=0.11.1 in /usr/local/lib/python3.7/dist-packages (from transformers) (0.13.1)\n",
            "Requirement already satisfied: typing-extensions>=3.7.4.3 in /usr/local/lib/python3.7/dist-packages (from huggingface-hub<1.0,>=0.10.0->transformers) (4.1.1)\n",
            "Requirement already satisfied: pyparsing!=3.0.5,>=2.0.2 in /usr/local/lib/python3.7/dist-packages (from packaging>=20.0->transformers) (3.0.9)\n",
            "Requirement already satisfied: zipp>=0.5 in /usr/local/lib/python3.7/dist-packages (from importlib-metadata->transformers) (3.10.0)\n",
            "Requirement already satisfied: urllib3!=1.25.0,!=1.25.1,<1.26,>=1.21.1 in /usr/local/lib/python3.7/dist-packages (from requests->transformers) (1.24.3)\n",
            "Requirement already satisfied: certifi>=2017.4.17 in /usr/local/lib/python3.7/dist-packages (from requests->transformers) (2022.9.24)\n",
            "Requirement already satisfied: chardet<4,>=3.0.2 in /usr/local/lib/python3.7/dist-packages (from requests->transformers) (3.0.4)\n",
            "Requirement already satisfied: idna<3,>=2.5 in /usr/local/lib/python3.7/dist-packages (from requests->transformers) (2.10)\n"
          ]
        }
      ],
      "source": [
        "!pip install transformers"
      ]
    },
    {
      "cell_type": "code",
      "source": [
        "!sudo apt-get install -y fonts-nanum\n",
        "!sudo fc-cache -fv\n",
        "!rm ~/.cache/matplotlib -rf"
      ],
      "metadata": {
        "colab": {
          "base_uri": "https://localhost:8080/"
        },
        "id": "avwYm_tnOXGK",
        "outputId": "3e656c45-8c07-41d4-e1c9-19d2538c269b"
      },
      "execution_count": 2,
      "outputs": [
        {
          "output_type": "stream",
          "name": "stdout",
          "text": [
            "Reading package lists... Done\n",
            "Building dependency tree       \n",
            "Reading state information... Done\n",
            "fonts-nanum is already the newest version (20170925-1).\n",
            "The following package was automatically installed and is no longer required:\n",
            "  libnvidia-common-460\n",
            "Use 'sudo apt autoremove' to remove it.\n",
            "0 upgraded, 0 newly installed, 0 to remove and 4 not upgraded.\n",
            "/usr/share/fonts: caching, new cache contents: 0 fonts, 1 dirs\n",
            "/usr/share/fonts/truetype: caching, new cache contents: 0 fonts, 3 dirs\n",
            "/usr/share/fonts/truetype/humor-sans: caching, new cache contents: 1 fonts, 0 dirs\n",
            "/usr/share/fonts/truetype/liberation: caching, new cache contents: 16 fonts, 0 dirs\n",
            "/usr/share/fonts/truetype/nanum: caching, new cache contents: 10 fonts, 0 dirs\n",
            "/usr/local/share/fonts: caching, new cache contents: 0 fonts, 0 dirs\n",
            "/root/.local/share/fonts: skipping, no such directory\n",
            "/root/.fonts: skipping, no such directory\n",
            "/var/cache/fontconfig: cleaning cache directory\n",
            "/root/.cache/fontconfig: not cleaning non-existent cache directory\n",
            "/root/.fontconfig: not cleaning non-existent cache directory\n",
            "fc-cache: succeeded\n"
          ]
        }
      ]
    },
    {
      "cell_type": "code",
      "source": [
        "import pandas as pd\n",
        "import numpy as np\n",
        "import pickle\n",
        "import matplotlib.pyplot as plt\n",
        "import seaborn as sns\n",
        "\n",
        "# 한글 지원 폰트\n",
        "plt.rc('font', family='NanumBarunGothic')\n",
        "\n",
        "# 마이너스 부호 \n",
        "plt.rcParams['axes.unicode_minus'] = False\n",
        "\n",
        "import re\n",
        "import copy\n",
        "from tqdm.notebook import tqdm\n",
        "import gc\n",
        "\n",
        "import torch\n",
        "import torch.nn as nn\n",
        "import torch.nn.functional as F\n",
        "from torch import optim\n",
        "from torch.utils.data import Dataset, DataLoader\n",
        "\n",
        "from sklearn.metrics import (\n",
        "    accuracy_score, \n",
        "    f1_score, \n",
        "    classification_report\n",
        ")\n",
        "\n",
        "from transformers import (\n",
        "    T5Tokenizer, \n",
        "    T5Model,\n",
        "    T5ForConditionalGeneration,\n",
        "    get_linear_schedule_with_warmup\n",
        ")\n",
        "\n",
        "project_dir = '/content/drive/MyDrive/AIFFELTHON/TUNiB/'"
      ],
      "metadata": {
        "id": "9lE6FDVdK7aA"
      },
      "execution_count": 3,
      "outputs": []
    },
    {
      "cell_type": "code",
      "source": [
        "! nvidia-smi"
      ],
      "metadata": {
        "colab": {
          "base_uri": "https://localhost:8080/"
        },
        "id": "3MsWL-qVLmI4",
        "outputId": "3be6bdf2-1fd0-4c74-fd95-aae8707fd2fe"
      },
      "execution_count": 4,
      "outputs": [
        {
          "output_type": "stream",
          "name": "stdout",
          "text": [
            "Thu Nov  3 07:39:12 2022       \n",
            "+-----------------------------------------------------------------------------+\n",
            "| NVIDIA-SMI 460.32.03    Driver Version: 460.32.03    CUDA Version: 11.2     |\n",
            "|-------------------------------+----------------------+----------------------+\n",
            "| GPU  Name        Persistence-M| Bus-Id        Disp.A | Volatile Uncorr. ECC |\n",
            "| Fan  Temp  Perf  Pwr:Usage/Cap|         Memory-Usage | GPU-Util  Compute M. |\n",
            "|                               |                      |               MIG M. |\n",
            "|===============================+======================+======================|\n",
            "|   0  Tesla T4            Off  | 00000000:00:04.0 Off |                    0 |\n",
            "| N/A   65C    P8    11W /  70W |      0MiB / 15109MiB |      0%      Default |\n",
            "|                               |                      |                  N/A |\n",
            "+-------------------------------+----------------------+----------------------+\n",
            "                                                                               \n",
            "+-----------------------------------------------------------------------------+\n",
            "| Processes:                                                                  |\n",
            "|  GPU   GI   CI        PID   Type   Process name                  GPU Memory |\n",
            "|        ID   ID                                                   Usage      |\n",
            "|=============================================================================|\n",
            "|  No running processes found                                                 |\n",
            "+-----------------------------------------------------------------------------+\n"
          ]
        }
      ]
    },
    {
      "cell_type": "code",
      "source": [
        "train_df = pd.read_csv(project_dir + 'train.csv')\n",
        "train_df.head()"
      ],
      "metadata": {
        "colab": {
          "base_uri": "https://localhost:8080/",
          "height": 206
        },
        "id": "eUBB5G8XL8Pj",
        "outputId": "310a7150-206a-4593-a9c1-5a55d55b5f8e"
      },
      "execution_count": 5,
      "outputs": [
        {
          "output_type": "execute_result",
          "data": {
            "text/plain": [
              "   idx      class                                       conversation\n",
              "0    0      협박 대화  지금 너 스스로를 죽여달라고 애원하는 것인가?\\n 아닙니다. 죄송합니다.\\n 죽을 ...\n",
              "1    1      협박 대화  길동경찰서입니다.\\n9시 40분 마트에 폭발물을 설치할거다.\\n네?\\n똑바로 들어 ...\n",
              "2    2  기타 괴롭힘 대화  너 되게 귀여운거 알지? 나보다 작은 남자는 첨봤어.\\n그만해. 니들 놀리는거 재미...\n",
              "3    3      갈취 대화  어이 거기\\n예??\\n너 말이야 너. 이리 오라고\\n무슨 일.\\n너 옷 좋아보인다?...\n",
              "4    4      갈취 대화  저기요 혹시 날이 너무 뜨겁잖아요? 저희 회사에서 이 선크림 파는데 한 번 손등에 ..."
            ],
            "text/html": [
              "\n",
              "  <div id=\"df-f7a93399-41cf-44a2-bda4-5e18a0c95967\">\n",
              "    <div class=\"colab-df-container\">\n",
              "      <div>\n",
              "<style scoped>\n",
              "    .dataframe tbody tr th:only-of-type {\n",
              "        vertical-align: middle;\n",
              "    }\n",
              "\n",
              "    .dataframe tbody tr th {\n",
              "        vertical-align: top;\n",
              "    }\n",
              "\n",
              "    .dataframe thead th {\n",
              "        text-align: right;\n",
              "    }\n",
              "</style>\n",
              "<table border=\"1\" class=\"dataframe\">\n",
              "  <thead>\n",
              "    <tr style=\"text-align: right;\">\n",
              "      <th></th>\n",
              "      <th>idx</th>\n",
              "      <th>class</th>\n",
              "      <th>conversation</th>\n",
              "    </tr>\n",
              "  </thead>\n",
              "  <tbody>\n",
              "    <tr>\n",
              "      <th>0</th>\n",
              "      <td>0</td>\n",
              "      <td>협박 대화</td>\n",
              "      <td>지금 너 스스로를 죽여달라고 애원하는 것인가?\\n 아닙니다. 죄송합니다.\\n 죽을 ...</td>\n",
              "    </tr>\n",
              "    <tr>\n",
              "      <th>1</th>\n",
              "      <td>1</td>\n",
              "      <td>협박 대화</td>\n",
              "      <td>길동경찰서입니다.\\n9시 40분 마트에 폭발물을 설치할거다.\\n네?\\n똑바로 들어 ...</td>\n",
              "    </tr>\n",
              "    <tr>\n",
              "      <th>2</th>\n",
              "      <td>2</td>\n",
              "      <td>기타 괴롭힘 대화</td>\n",
              "      <td>너 되게 귀여운거 알지? 나보다 작은 남자는 첨봤어.\\n그만해. 니들 놀리는거 재미...</td>\n",
              "    </tr>\n",
              "    <tr>\n",
              "      <th>3</th>\n",
              "      <td>3</td>\n",
              "      <td>갈취 대화</td>\n",
              "      <td>어이 거기\\n예??\\n너 말이야 너. 이리 오라고\\n무슨 일.\\n너 옷 좋아보인다?...</td>\n",
              "    </tr>\n",
              "    <tr>\n",
              "      <th>4</th>\n",
              "      <td>4</td>\n",
              "      <td>갈취 대화</td>\n",
              "      <td>저기요 혹시 날이 너무 뜨겁잖아요? 저희 회사에서 이 선크림 파는데 한 번 손등에 ...</td>\n",
              "    </tr>\n",
              "  </tbody>\n",
              "</table>\n",
              "</div>\n",
              "      <button class=\"colab-df-convert\" onclick=\"convertToInteractive('df-f7a93399-41cf-44a2-bda4-5e18a0c95967')\"\n",
              "              title=\"Convert this dataframe to an interactive table.\"\n",
              "              style=\"display:none;\">\n",
              "        \n",
              "  <svg xmlns=\"http://www.w3.org/2000/svg\" height=\"24px\"viewBox=\"0 0 24 24\"\n",
              "       width=\"24px\">\n",
              "    <path d=\"M0 0h24v24H0V0z\" fill=\"none\"/>\n",
              "    <path d=\"M18.56 5.44l.94 2.06.94-2.06 2.06-.94-2.06-.94-.94-2.06-.94 2.06-2.06.94zm-11 1L8.5 8.5l.94-2.06 2.06-.94-2.06-.94L8.5 2.5l-.94 2.06-2.06.94zm10 10l.94 2.06.94-2.06 2.06-.94-2.06-.94-.94-2.06-.94 2.06-2.06.94z\"/><path d=\"M17.41 7.96l-1.37-1.37c-.4-.4-.92-.59-1.43-.59-.52 0-1.04.2-1.43.59L10.3 9.45l-7.72 7.72c-.78.78-.78 2.05 0 2.83L4 21.41c.39.39.9.59 1.41.59.51 0 1.02-.2 1.41-.59l7.78-7.78 2.81-2.81c.8-.78.8-2.07 0-2.86zM5.41 20L4 18.59l7.72-7.72 1.47 1.35L5.41 20z\"/>\n",
              "  </svg>\n",
              "      </button>\n",
              "      \n",
              "  <style>\n",
              "    .colab-df-container {\n",
              "      display:flex;\n",
              "      flex-wrap:wrap;\n",
              "      gap: 12px;\n",
              "    }\n",
              "\n",
              "    .colab-df-convert {\n",
              "      background-color: #E8F0FE;\n",
              "      border: none;\n",
              "      border-radius: 50%;\n",
              "      cursor: pointer;\n",
              "      display: none;\n",
              "      fill: #1967D2;\n",
              "      height: 32px;\n",
              "      padding: 0 0 0 0;\n",
              "      width: 32px;\n",
              "    }\n",
              "\n",
              "    .colab-df-convert:hover {\n",
              "      background-color: #E2EBFA;\n",
              "      box-shadow: 0px 1px 2px rgba(60, 64, 67, 0.3), 0px 1px 3px 1px rgba(60, 64, 67, 0.15);\n",
              "      fill: #174EA6;\n",
              "    }\n",
              "\n",
              "    [theme=dark] .colab-df-convert {\n",
              "      background-color: #3B4455;\n",
              "      fill: #D2E3FC;\n",
              "    }\n",
              "\n",
              "    [theme=dark] .colab-df-convert:hover {\n",
              "      background-color: #434B5C;\n",
              "      box-shadow: 0px 1px 3px 1px rgba(0, 0, 0, 0.15);\n",
              "      filter: drop-shadow(0px 1px 2px rgba(0, 0, 0, 0.3));\n",
              "      fill: #FFFFFF;\n",
              "    }\n",
              "  </style>\n",
              "\n",
              "      <script>\n",
              "        const buttonEl =\n",
              "          document.querySelector('#df-f7a93399-41cf-44a2-bda4-5e18a0c95967 button.colab-df-convert');\n",
              "        buttonEl.style.display =\n",
              "          google.colab.kernel.accessAllowed ? 'block' : 'none';\n",
              "\n",
              "        async function convertToInteractive(key) {\n",
              "          const element = document.querySelector('#df-f7a93399-41cf-44a2-bda4-5e18a0c95967');\n",
              "          const dataTable =\n",
              "            await google.colab.kernel.invokeFunction('convertToInteractive',\n",
              "                                                     [key], {});\n",
              "          if (!dataTable) return;\n",
              "\n",
              "          const docLinkHtml = 'Like what you see? Visit the ' +\n",
              "            '<a target=\"_blank\" href=https://colab.research.google.com/notebooks/data_table.ipynb>data table notebook</a>'\n",
              "            + ' to learn more about interactive tables.';\n",
              "          element.innerHTML = '';\n",
              "          dataTable['output_type'] = 'display_data';\n",
              "          await google.colab.output.renderOutput(dataTable, element);\n",
              "          const docLink = document.createElement('div');\n",
              "          docLink.innerHTML = docLinkHtml;\n",
              "          element.appendChild(docLink);\n",
              "        }\n",
              "      </script>\n",
              "    </div>\n",
              "  </div>\n",
              "  "
            ]
          },
          "metadata": {},
          "execution_count": 5
        }
      ]
    },
    {
      "cell_type": "code",
      "source": [
        "ohe_train_df = pd.get_dummies(train_df, columns = ['class'])"
      ],
      "metadata": {
        "id": "t_oVicwYMAGr"
      },
      "execution_count": 6,
      "outputs": []
    },
    {
      "cell_type": "code",
      "source": [
        "ohe_train_df.head()"
      ],
      "metadata": {
        "colab": {
          "base_uri": "https://localhost:8080/",
          "height": 206
        },
        "id": "44dslIPNMopw",
        "outputId": "b46c6757-7922-4de5-927b-d8ca5520a404"
      },
      "execution_count": 7,
      "outputs": [
        {
          "output_type": "execute_result",
          "data": {
            "text/plain": [
              "   idx                                       conversation  class_갈취 대화  \\\n",
              "0    0  지금 너 스스로를 죽여달라고 애원하는 것인가?\\n 아닙니다. 죄송합니다.\\n 죽을 ...            0   \n",
              "1    1  길동경찰서입니다.\\n9시 40분 마트에 폭발물을 설치할거다.\\n네?\\n똑바로 들어 ...            0   \n",
              "2    2  너 되게 귀여운거 알지? 나보다 작은 남자는 첨봤어.\\n그만해. 니들 놀리는거 재미...            0   \n",
              "3    3  어이 거기\\n예??\\n너 말이야 너. 이리 오라고\\n무슨 일.\\n너 옷 좋아보인다?...            1   \n",
              "4    4  저기요 혹시 날이 너무 뜨겁잖아요? 저희 회사에서 이 선크림 파는데 한 번 손등에 ...            1   \n",
              "\n",
              "   class_기타 괴롭힘 대화  class_직장 내 괴롭힘 대화  class_협박 대화  \n",
              "0                0                  0            1  \n",
              "1                0                  0            1  \n",
              "2                1                  0            0  \n",
              "3                0                  0            0  \n",
              "4                0                  0            0  "
            ],
            "text/html": [
              "\n",
              "  <div id=\"df-6bc03e5c-2506-47d7-91fa-f998c9309796\">\n",
              "    <div class=\"colab-df-container\">\n",
              "      <div>\n",
              "<style scoped>\n",
              "    .dataframe tbody tr th:only-of-type {\n",
              "        vertical-align: middle;\n",
              "    }\n",
              "\n",
              "    .dataframe tbody tr th {\n",
              "        vertical-align: top;\n",
              "    }\n",
              "\n",
              "    .dataframe thead th {\n",
              "        text-align: right;\n",
              "    }\n",
              "</style>\n",
              "<table border=\"1\" class=\"dataframe\">\n",
              "  <thead>\n",
              "    <tr style=\"text-align: right;\">\n",
              "      <th></th>\n",
              "      <th>idx</th>\n",
              "      <th>conversation</th>\n",
              "      <th>class_갈취 대화</th>\n",
              "      <th>class_기타 괴롭힘 대화</th>\n",
              "      <th>class_직장 내 괴롭힘 대화</th>\n",
              "      <th>class_협박 대화</th>\n",
              "    </tr>\n",
              "  </thead>\n",
              "  <tbody>\n",
              "    <tr>\n",
              "      <th>0</th>\n",
              "      <td>0</td>\n",
              "      <td>지금 너 스스로를 죽여달라고 애원하는 것인가?\\n 아닙니다. 죄송합니다.\\n 죽을 ...</td>\n",
              "      <td>0</td>\n",
              "      <td>0</td>\n",
              "      <td>0</td>\n",
              "      <td>1</td>\n",
              "    </tr>\n",
              "    <tr>\n",
              "      <th>1</th>\n",
              "      <td>1</td>\n",
              "      <td>길동경찰서입니다.\\n9시 40분 마트에 폭발물을 설치할거다.\\n네?\\n똑바로 들어 ...</td>\n",
              "      <td>0</td>\n",
              "      <td>0</td>\n",
              "      <td>0</td>\n",
              "      <td>1</td>\n",
              "    </tr>\n",
              "    <tr>\n",
              "      <th>2</th>\n",
              "      <td>2</td>\n",
              "      <td>너 되게 귀여운거 알지? 나보다 작은 남자는 첨봤어.\\n그만해. 니들 놀리는거 재미...</td>\n",
              "      <td>0</td>\n",
              "      <td>1</td>\n",
              "      <td>0</td>\n",
              "      <td>0</td>\n",
              "    </tr>\n",
              "    <tr>\n",
              "      <th>3</th>\n",
              "      <td>3</td>\n",
              "      <td>어이 거기\\n예??\\n너 말이야 너. 이리 오라고\\n무슨 일.\\n너 옷 좋아보인다?...</td>\n",
              "      <td>1</td>\n",
              "      <td>0</td>\n",
              "      <td>0</td>\n",
              "      <td>0</td>\n",
              "    </tr>\n",
              "    <tr>\n",
              "      <th>4</th>\n",
              "      <td>4</td>\n",
              "      <td>저기요 혹시 날이 너무 뜨겁잖아요? 저희 회사에서 이 선크림 파는데 한 번 손등에 ...</td>\n",
              "      <td>1</td>\n",
              "      <td>0</td>\n",
              "      <td>0</td>\n",
              "      <td>0</td>\n",
              "    </tr>\n",
              "  </tbody>\n",
              "</table>\n",
              "</div>\n",
              "      <button class=\"colab-df-convert\" onclick=\"convertToInteractive('df-6bc03e5c-2506-47d7-91fa-f998c9309796')\"\n",
              "              title=\"Convert this dataframe to an interactive table.\"\n",
              "              style=\"display:none;\">\n",
              "        \n",
              "  <svg xmlns=\"http://www.w3.org/2000/svg\" height=\"24px\"viewBox=\"0 0 24 24\"\n",
              "       width=\"24px\">\n",
              "    <path d=\"M0 0h24v24H0V0z\" fill=\"none\"/>\n",
              "    <path d=\"M18.56 5.44l.94 2.06.94-2.06 2.06-.94-2.06-.94-.94-2.06-.94 2.06-2.06.94zm-11 1L8.5 8.5l.94-2.06 2.06-.94-2.06-.94L8.5 2.5l-.94 2.06-2.06.94zm10 10l.94 2.06.94-2.06 2.06-.94-2.06-.94-.94-2.06-.94 2.06-2.06.94z\"/><path d=\"M17.41 7.96l-1.37-1.37c-.4-.4-.92-.59-1.43-.59-.52 0-1.04.2-1.43.59L10.3 9.45l-7.72 7.72c-.78.78-.78 2.05 0 2.83L4 21.41c.39.39.9.59 1.41.59.51 0 1.02-.2 1.41-.59l7.78-7.78 2.81-2.81c.8-.78.8-2.07 0-2.86zM5.41 20L4 18.59l7.72-7.72 1.47 1.35L5.41 20z\"/>\n",
              "  </svg>\n",
              "      </button>\n",
              "      \n",
              "  <style>\n",
              "    .colab-df-container {\n",
              "      display:flex;\n",
              "      flex-wrap:wrap;\n",
              "      gap: 12px;\n",
              "    }\n",
              "\n",
              "    .colab-df-convert {\n",
              "      background-color: #E8F0FE;\n",
              "      border: none;\n",
              "      border-radius: 50%;\n",
              "      cursor: pointer;\n",
              "      display: none;\n",
              "      fill: #1967D2;\n",
              "      height: 32px;\n",
              "      padding: 0 0 0 0;\n",
              "      width: 32px;\n",
              "    }\n",
              "\n",
              "    .colab-df-convert:hover {\n",
              "      background-color: #E2EBFA;\n",
              "      box-shadow: 0px 1px 2px rgba(60, 64, 67, 0.3), 0px 1px 3px 1px rgba(60, 64, 67, 0.15);\n",
              "      fill: #174EA6;\n",
              "    }\n",
              "\n",
              "    [theme=dark] .colab-df-convert {\n",
              "      background-color: #3B4455;\n",
              "      fill: #D2E3FC;\n",
              "    }\n",
              "\n",
              "    [theme=dark] .colab-df-convert:hover {\n",
              "      background-color: #434B5C;\n",
              "      box-shadow: 0px 1px 3px 1px rgba(0, 0, 0, 0.15);\n",
              "      filter: drop-shadow(0px 1px 2px rgba(0, 0, 0, 0.3));\n",
              "      fill: #FFFFFF;\n",
              "    }\n",
              "  </style>\n",
              "\n",
              "      <script>\n",
              "        const buttonEl =\n",
              "          document.querySelector('#df-6bc03e5c-2506-47d7-91fa-f998c9309796 button.colab-df-convert');\n",
              "        buttonEl.style.display =\n",
              "          google.colab.kernel.accessAllowed ? 'block' : 'none';\n",
              "\n",
              "        async function convertToInteractive(key) {\n",
              "          const element = document.querySelector('#df-6bc03e5c-2506-47d7-91fa-f998c9309796');\n",
              "          const dataTable =\n",
              "            await google.colab.kernel.invokeFunction('convertToInteractive',\n",
              "                                                     [key], {});\n",
              "          if (!dataTable) return;\n",
              "\n",
              "          const docLinkHtml = 'Like what you see? Visit the ' +\n",
              "            '<a target=\"_blank\" href=https://colab.research.google.com/notebooks/data_table.ipynb>data table notebook</a>'\n",
              "            + ' to learn more about interactive tables.';\n",
              "          element.innerHTML = '';\n",
              "          dataTable['output_type'] = 'display_data';\n",
              "          await google.colab.output.renderOutput(dataTable, element);\n",
              "          const docLink = document.createElement('div');\n",
              "          docLink.innerHTML = docLinkHtml;\n",
              "          element.appendChild(docLink);\n",
              "        }\n",
              "      </script>\n",
              "    </div>\n",
              "  </div>\n",
              "  "
            ]
          },
          "metadata": {},
          "execution_count": 7
        }
      ]
    },
    {
      "cell_type": "code",
      "source": [
        "def get_texts(df):\n",
        "    texts = 'conversation: ' + df['conversation']\n",
        "    texts = texts.values.tolist()\n",
        "    return texts\n",
        "\n",
        "\n",
        "def get_labels(df):\n",
        "    labels_li = [' '.join(x.lower().split()) for x in df.columns.to_list()[2:]]\n",
        "    labels_matrix = np.array([labels_li] * len(df))\n",
        "\n",
        "    mask = df.iloc[:, 2:].values.astype(bool)\n",
        "    labels = []\n",
        "    for l, m in zip(labels_matrix, mask):\n",
        "        x = l[m]\n",
        "        if len(x) > 0:\n",
        "            labels.append(' , '.join(x.tolist()) + ' </s>')\n",
        "        else:\n",
        "            labels.append('none </s>')\n",
        "    return labels\n",
        "\n",
        "texts = get_texts(ohe_train_df)\n",
        "labels = get_labels(ohe_train_df)\n",
        "\n",
        "for text, label in zip(texts[:5], labels[:5]):\n",
        "    print(f'TEXT -\\t{text}')\n",
        "    print(f'LABEL -\\t{label}')\n",
        "    print()"
      ],
      "metadata": {
        "colab": {
          "base_uri": "https://localhost:8080/"
        },
        "id": "xyBt8_8NMwSv",
        "outputId": "cf791c84-f1af-4b3a-bfad-71240dfda8f6"
      },
      "execution_count": 8,
      "outputs": [
        {
          "output_type": "stream",
          "name": "stdout",
          "text": [
            "TEXT -\tconversation: 지금 너 스스로를 죽여달라고 애원하는 것인가?\n",
            " 아닙니다. 죄송합니다.\n",
            " 죽을 거면 혼자 죽지 우리까지 사건에 휘말리게 해? 진짜 죽여버리고 싶게.\n",
            " 정말 잘못했습니다.\n",
            " 너가 선택해. 너가 죽을래 네 가족을 죽여줄까.\n",
            " 죄송합니다. 정말 잘못했습니다.\n",
            " 너에게는 선택권이 없어. 선택 못한다면 너와 네 가족까지 모조리 죽여버릴거야.\n",
            " 선택 못하겠습니다. 한번만 도와주세요.\n",
            " 그냥 다 죽여버려야겠군. 이의 없지?\n",
            " 제발 도와주세요.\n",
            "LABEL -\tclass_협박 대화 </s>\n",
            "\n",
            "TEXT -\tconversation: 길동경찰서입니다.\n",
            "9시 40분 마트에 폭발물을 설치할거다.\n",
            "네?\n",
            "똑바로 들어 한번만 더 얘기한다.\n",
            "장난전화 걸지 마시죠. \n",
            "9시 40분 마트에 폭발물이 터지면 다 죽는거야. \n",
            "장난전화는 업무방해죄에 해당됩니다.\n",
            "판단은 너에게 달려있다. 길동경찰서에도 폭발물 터지면 꽤나 재미있겠지.\n",
            "선생님 진정하세요.\n",
            "난 이야기했어. 경고했다는 말이야.\n",
            "LABEL -\tclass_협박 대화 </s>\n",
            "\n",
            "TEXT -\tconversation: 너 되게 귀여운거 알지? 나보다 작은 남자는 첨봤어.\n",
            "그만해. 니들 놀리는거 재미없어.\n",
            "지영아 너가 키 160이지? 그럼 재는 160도 안돼는거네?\n",
            "너 군대도 안가고 좋겠다.\n",
            "니들이 나 작은데 보태준거 있냐?\n",
            "난쟁이들도 장가가고하던데. 너도 희망을 가져봐 \n",
            "더이상 하지마라. \n",
            "그 키크는 수술도 있대잖아? 니네 엄마는 그거 안해주디?\n",
            "나람 해줬어. 저 키로 어찌살아.\n",
            "제발 그만 괴롭히라고!\n",
            "LABEL -\tclass_기타 괴롭힘 대화 </s>\n",
            "\n",
            "TEXT -\tconversation: 어이 거기\n",
            "예??\n",
            "너 말이야 너. 이리 오라고\n",
            "무슨 일.\n",
            "너 옷 좋아보인다?\n",
            "얘 돈 좀 있나봐\n",
            "아니에요.돈 없어요\n",
            "뒤져서 나오면 넌 죽는다\n",
            "오늘 피시방 콜?\n",
            "콜. 마지막 기회다. 있는거 다 내놔\n",
            "정말 없어요\n",
            "LABEL -\tclass_갈취 대화 </s>\n",
            "\n",
            "TEXT -\tconversation: 저기요 혹시 날이 너무 뜨겁잖아요? 저희 회사에서 이 선크림 파는데 한 번 손등에 발라보실래요?\n",
            "아 진짜요? 안 그래도 선크림 필요해서 알아보던 중인데 한 번 발라 볼게요!\n",
            "여기 한 번 발라보세요. 진짜 성분도 좋고 다 좋아요.\n",
            "음. 성분이 좋다고 하셔서 좋은거 같기는 한데 제 피부에 맞지 않나봐요. 피부가 따끔거리네요.\n",
            "이번에 진짜 열심히 연구해서 만든건데 피부가 많이 예민하신가봐요.\n",
            "네 많이 예민해요. 그럼 많이 파시고 안녕히 계세요.\n",
            "아니 저기요 돈 안내요?\n",
            "네? 발라보는것도 돈 내야 하나요?\n",
            "그럼 이거 누구한테 팔아요? 당신이 바른거를?\n",
            "아니 먼저 발라 보시라고 하셨잖아요. 먼저 권유해놓고 사라고 강매하는거 갈취인거 몰라요?\n",
            "내가 안 사도 된다고 말 한 적 있어? 그것도 모르고 바른걸 누구 탓 하나? 빨리 사 당신이 바른거 당신이 사야지\n",
            "진짜 어이가 없어서 다른 사람들한텐 이렇게 갈취하지마세요. 화딱지나네\n",
            "LABEL -\tclass_갈취 대화 </s>\n",
            "\n"
          ]
        }
      ]
    },
    {
      "cell_type": "code",
      "source": [
        "# no. of samples for each class\n",
        "categories = ohe_train_df.columns.to_list()[2:]\n",
        "plt.figure(figsize=(10, 8))\n",
        "\n",
        "ax = sns.barplot(categories, ohe_train_df.iloc[:, 2:].sum().values)\n",
        "plt.ylabel('대화 개수')\n",
        "plt.xlabel('대화 유형')\n",
        "plt.xticks(rotation=90)\n",
        "plt.show()"
      ],
      "metadata": {
        "colab": {
          "base_uri": "https://localhost:8080/",
          "height": 648
        },
        "id": "0IsXkfgeNspF",
        "outputId": "8e1c9b73-3432-4432-a8c7-874c10129a57"
      },
      "execution_count": 9,
      "outputs": [
        {
          "output_type": "stream",
          "name": "stderr",
          "text": [
            "/usr/local/lib/python3.7/dist-packages/seaborn/_decorators.py:43: FutureWarning: Pass the following variables as keyword args: x, y. From version 0.12, the only valid positional argument will be `data`, and passing other arguments without an explicit keyword will result in an error or misinterpretation.\n",
            "  FutureWarning\n"
          ]
        },
        {
          "output_type": "display_data",
          "data": {
            "text/plain": [
              "<Figure size 720x576 with 1 Axes>"
            ],
            "image/png": "[encoded data removed]"
          },
          "metadata": {
            "needs_background": "light"
          }
        }
      ]
    },
    {
      "cell_type": "code",
      "source": [
        "# text lengths\n",
        "y = [len(t.split()) for t in texts]\n",
        "x = range(0, len(y))\n",
        "plt.figure(figsize=(10,8))\n",
        "plt.bar(x, y)\n",
        "\n",
        "print('텍스트 최대 길이 : ', max(y))"
      ],
      "metadata": {
        "colab": {
          "base_uri": "https://localhost:8080/",
          "height": 501
        },
        "id": "CH638h61OFQH",
        "outputId": "65aef98b-6ee6-4940-940a-ca3ca35750e6"
      },
      "execution_count": 10,
      "outputs": [
        {
          "output_type": "stream",
          "name": "stdout",
          "text": [
            "텍스트 최대 길이 :  224\n"
          ]
        },
        {
          "output_type": "display_data",
          "data": {
            "text/plain": [
              "<Figure size 720x576 with 1 Axes>"
            ],
            "image/png": "[encoded data removed]"
          },
          "metadata": {
            "needs_background": "light"
          }
        }
      ]
    },
    {
      "cell_type": "code",
      "source": [
        "# label lengths\n",
        "y = [len(l.split()) for l in labels]\n",
        "x = range(0, len(y))\n",
        "plt.figure(figsize=(10,8))\n",
        "plt.bar(x, y)\n",
        "plt.show()\n",
        "\n",
        "print('라벨 최대 길이 : ', max(y))"
      ],
      "metadata": {
        "colab": {
          "base_uri": "https://localhost:8080/",
          "height": 501
        },
        "id": "KlCQv5I7P4xl",
        "outputId": "c9cff65e-b563-4955-c56a-0a371b333afc"
      },
      "execution_count": 11,
      "outputs": [
        {
          "output_type": "display_data",
          "data": {
            "text/plain": [
              "<Figure size 720x576 with 1 Axes>"
            ],
            "image/png": "[encoded data removed]"
          },
          "metadata": {
            "needs_background": "light"
          }
        },
        {
          "output_type": "stream",
          "name": "stdout",
          "text": [
            "라벨 최대 길이 :  5\n"
          ]
        }
      ]
    },
    {
      "cell_type": "markdown",
      "source": [
        "## Config"
      ],
      "metadata": {
        "id": "LeU-9uTYPmD-"
      }
    },
    {
      "cell_type": "code",
      "source": [
        "!pip install sentencepiece"
      ],
      "metadata": {
        "colab": {
          "base_uri": "https://localhost:8080/"
        },
        "id": "jXE9XQCyQknn",
        "outputId": "77943bbd-f15a-4e0f-b94f-cab4ba7e3bdf"
      },
      "execution_count": 12,
      "outputs": [
        {
          "output_type": "stream",
          "name": "stdout",
          "text": [
            "Looking in indexes: https://pypi.org/simple, https://us-python.pkg.dev/colab-wheels/public/simple/\n",
            "Requirement already satisfied: sentencepiece in /usr/local/lib/python3.7/dist-packages (0.1.97)\n"
          ]
        }
      ]
    },
    {
      "cell_type": "code",
      "source": [
        "class Config:\n",
        "    def __init__(self):\n",
        "        super(Config, self).__init__()\n",
        "\n",
        "        self.SEED = 27\n",
        "        self.MODEL_PATH = 'KETI-AIR/ke-t5-base-ko'\n",
        "\n",
        "        # data\n",
        "        self.TOKENIZER = T5Tokenizer.from_pretrained(self.MODEL_PATH)\n",
        "        self.SRC_MAX_LENGTH = 224\n",
        "        self.TGT_MAX_LENGTH = 5\n",
        "        self.BATCH_SIZE = 16\n",
        "        self.VALIDATION_SPLIT = 0.1\n",
        "\n",
        "        # model\n",
        "        self.DEVICE = torch.device('cuda' if torch.cuda.is_available() else 'cpu')\n",
        "        self.FULL_FINETUNING = True\n",
        "        self.LR = 3e-5\n",
        "        self.OPTIMIZER = 'AdamW'\n",
        "        self.CRITERION = 'BCEWithLogitsLoss'\n",
        "        self.SAVE_BEST_ONLY = True\n",
        "        self.N_VALIDATE_DUR_TRAIN = 3\n",
        "        self.EPOCHS = 1\n",
        "\n",
        "config = Config()"
      ],
      "metadata": {
        "id": "1gSH6jvyO_XM"
      },
      "execution_count": 13,
      "outputs": []
    },
    {
      "cell_type": "code",
      "source": [
        "class T5Dataset(Dataset):\n",
        "    def __init__(self, df, indices, set_type=None):\n",
        "        super(T5Dataset, self).__init__()\n",
        "\n",
        "        df = df.iloc[indices]\n",
        "        self.texts = get_texts(df)\n",
        "        self.set_type = set_type\n",
        "        if self.set_type != 'test':\n",
        "            self.labels = get_labels(df)\n",
        "\n",
        "        self.tokenizer = config.TOKENIZER\n",
        "        self.src_max_length = config.SRC_MAX_LENGTH\n",
        "        self.tgt_max_length = config.TGT_MAX_LENGTH\n",
        "\n",
        "    def __len__(self):\n",
        "        return len(self.texts)\n",
        "    \n",
        "    def __getitem__(self, index):\n",
        "        src_tokenized = self.tokenizer.encode_plus(\n",
        "            self.texts[index], \n",
        "            max_length=self.src_max_length,\n",
        "            padding='max_length',\n",
        "            truncation=True,\n",
        "            return_attention_mask=True,\n",
        "            return_token_type_ids=False,\n",
        "            return_tensors='pt'\n",
        "        )\n",
        "        src_input_ids = src_tokenized['input_ids'].squeeze()\n",
        "        src_attention_mask = src_tokenized['attention_mask'].squeeze()\n",
        "\n",
        "        if self.set_type != 'test':\n",
        "            tgt_tokenized = self.tokenizer.encode_plus(\n",
        "                self.labels[index], \n",
        "                max_length=self.tgt_max_length,\n",
        "                padding='max_length',\n",
        "                truncation=True,\n",
        "                return_attention_mask=True,\n",
        "                return_token_type_ids=False,\n",
        "                return_tensors='pt'\n",
        "            )\n",
        "            tgt_input_ids = tgt_tokenized['input_ids'].squeeze()\n",
        "            tgt_attention_mask = tgt_tokenized['attention_mask'].squeeze()\n",
        "\n",
        "            return {\n",
        "                'src_input_ids': src_input_ids.long(),\n",
        "                'src_attention_mask': src_attention_mask.long(),\n",
        "                'tgt_input_ids': tgt_input_ids.long(),\n",
        "                'tgt_attention_mask': tgt_attention_mask.long()\n",
        "            }\n",
        "\n",
        "        return {\n",
        "            'src_input_ids': src_input_ids.long(),\n",
        "            'src_attention_mask': src_attention_mask.long()\n",
        "        }"
      ],
      "metadata": {
        "id": "QcTQjmQ4Qh-p"
      },
      "execution_count": 14,
      "outputs": []
    },
    {
      "cell_type": "code",
      "source": [
        "# train-val split\n",
        "\n",
        "np.random.seed(config.SEED)\n",
        "\n",
        "dataset_size = len(ohe_train_df)\n",
        "indices = list(range(dataset_size))\n",
        "split = int(np.floor(config.VALIDATION_SPLIT * dataset_size))\n",
        "np.random.shuffle(indices)\n",
        "\n",
        "train_indices, val_indices = indices[split:], indices[:split]"
      ],
      "metadata": {
        "id": "MiUTEJmeRUNx"
      },
      "execution_count": 15,
      "outputs": []
    },
    {
      "cell_type": "code",
      "source": [
        "train_data = T5Dataset(ohe_train_df, train_indices)\n",
        "val_data = T5Dataset(ohe_train_df, val_indices)\n",
        "\n",
        "train_dataloader = DataLoader(train_data, batch_size=config.BATCH_SIZE)\n",
        "val_dataloader = DataLoader(val_data, batch_size=config.BATCH_SIZE)\n",
        "\n",
        "b = next(iter(train_dataloader))\n",
        "for k, v in b.items():\n",
        "    print(f'{k} shape: {v.shape}')"
      ],
      "metadata": {
        "colab": {
          "base_uri": "https://localhost:8080/"
        },
        "id": "bBZE42P9ReW7",
        "outputId": "eaf5d895-b677-4f11-a93e-c4be838c1c0d"
      },
      "execution_count": 16,
      "outputs": [
        {
          "output_type": "stream",
          "name": "stdout",
          "text": [
            "src_input_ids shape: torch.Size([16, 224])\n",
            "src_attention_mask shape: torch.Size([16, 224])\n",
            "tgt_input_ids shape: torch.Size([16, 5])\n",
            "tgt_attention_mask shape: torch.Size([16, 5])\n"
          ]
        }
      ]
    },
    {
      "cell_type": "code",
      "source": [
        "class T5Model(nn.Module):\n",
        "    def __init__(self):\n",
        "        super(T5Model, self).__init__()\n",
        "\n",
        "        self.t5_model = T5ForConditionalGeneration.from_pretrained(config.MODEL_PATH)\n",
        "\n",
        "    def forward(\n",
        "        self,\n",
        "        input_ids, \n",
        "        attention_mask=None, \n",
        "        decoder_input_ids=None, \n",
        "        decoder_attention_mask=None, \n",
        "        labels=None\n",
        "        ):\n",
        "\n",
        "        return self.t5_model(\n",
        "            input_ids,\n",
        "            attention_mask=attention_mask,\n",
        "            decoder_input_ids=decoder_input_ids,\n",
        "            decoder_attention_mask=decoder_attention_mask,\n",
        "            labels=labels,\n",
        "        )"
      ],
      "metadata": {
        "id": "Bb8H9sKwR4u7"
      },
      "execution_count": 17,
      "outputs": []
    },
    {
      "cell_type": "code",
      "source": [
        "device = config.DEVICE\n",
        "device\n"
      ],
      "metadata": {
        "colab": {
          "base_uri": "https://localhost:8080/"
        },
        "id": "7WY1XGMbUzYO",
        "outputId": "71167295-afe3-40de-b7cf-cf50c7bb2baa"
      },
      "execution_count": 18,
      "outputs": [
        {
          "output_type": "execute_result",
          "data": {
            "text/plain": [
              "device(type='cuda')"
            ]
          },
          "metadata": {},
          "execution_count": 18
        }
      ]
    },
    {
      "cell_type": "code",
      "source": [
        "def get_ohe(x):\n",
        "    labels_li = ['_'.join(x.lower().split()) for x in ohe_train_df.columns.to_list()[2:]]\n",
        "    labels_li_indices = dict()\n",
        "    for idx, label in enumerate(labels_li):\n",
        "        labels_li_indices[label] = idx\n",
        "        \n",
        "    y = [labels.split(' ') for labels in x]\n",
        "    ohe = []\n",
        "    for labels in y:\n",
        "        temp = [0] * 6\n",
        "        for label in labels:\n",
        "            idx = labels_li_indices.get(label, -1)\n",
        "            if idx != -1:\n",
        "                temp[idx] = 1\n",
        "        ohe.append(temp)\n",
        "    ohe = np.array(ohe)\n",
        "    return ohe"
      ],
      "metadata": {
        "id": "R7-RSHIyUzT3"
      },
      "execution_count": 19,
      "outputs": []
    },
    {
      "cell_type": "code",
      "source": [
        "def val(model, val_dataloader, criterion):\n",
        "    \n",
        "    val_loss = 0\n",
        "    true, pred = [], []\n",
        "    \n",
        "    # set model.eval() every time during evaluation\n",
        "    model.eval()\n",
        "    \n",
        "    for step, batch in enumerate(val_dataloader):\n",
        "        # unpack the batch contents and push them to the device (cuda or cpu).\n",
        "        b_src_input_ids = batch['src_input_ids'].to(device)\n",
        "        b_src_attention_mask = batch['src_attention_mask'].to(device)\n",
        "    \n",
        "        b_tgt_input_ids = batch['tgt_input_ids']\n",
        "        labels = b_tgt_input_ids.to(device)\n",
        "        labels[labels[:, :] == config.TOKENIZER.pad_token_id] = -100\n",
        "\n",
        "        b_tgt_attention_mask = batch['tgt_attention_mask'].to(device)\n",
        "\n",
        "        # using torch.no_grad() during validation/inference is faster -\n",
        "        # - since it does not update gradients.\n",
        "        with torch.no_grad():\n",
        "            # forward pass\n",
        "            outputs = model(\n",
        "                input_ids=b_src_input_ids, \n",
        "                attention_mask=b_src_attention_mask,\n",
        "                labels=labels,\n",
        "                decoder_attention_mask=b_tgt_attention_mask)\n",
        "            loss = outputs[0]\n",
        "\n",
        "            val_loss += loss.item()\n",
        "\n",
        "            # get true \n",
        "            for true_id in b_tgt_input_ids:\n",
        "                true_decoded = config.TOKENIZER.decode(true_id)\n",
        "                true.append(true_decoded)\n",
        "\n",
        "            # get pred (decoder generated textual label ids)\n",
        "            pred_ids = model.t5_model.generate(\n",
        "                input_ids=b_src_input_ids, \n",
        "                attention_mask=b_src_attention_mask\n",
        "            )\n",
        "            pred_ids = pred_ids.cpu().numpy()\n",
        "            for pred_id in pred_ids:\n",
        "                pred_decoded = config.TOKENIZER.decode(pred_id)\n",
        "                pred.append(pred_decoded)\n",
        "\n",
        "    true_ohe = get_ohe(true)\n",
        "    pred_ohe = get_ohe(pred)\n",
        "\n",
        "    avg_val_loss = val_loss / len(val_dataloader)\n",
        "    print('Val loss:', avg_val_loss)\n",
        "    print('Val accuracy:', accuracy_score(true_ohe, pred_ohe))\n",
        "\n",
        "    val_micro_f1_score = f1_score(true_ohe, pred_ohe, average='micro')\n",
        "    print('Val micro f1 score:', val_micro_f1_score)\n",
        "    return val_micro_f1_score\n",
        "\n",
        "\n",
        "def train(\n",
        "    model,  \n",
        "    train_dataloader, \n",
        "    val_dataloader, \n",
        "    criterion, \n",
        "    optimizer, \n",
        "    scheduler, \n",
        "    epoch\n",
        "    ):\n",
        "    \n",
        "    # we validate config.N_VALIDATE_DUR_TRAIN times during the training loop\n",
        "    nv = config.N_VALIDATE_DUR_TRAIN\n",
        "    temp = len(train_dataloader) // nv\n",
        "    temp = temp - (temp % 100)\n",
        "    validate_at_steps = [temp * x for x in range(1, nv + 1)]\n",
        "    \n",
        "    train_loss = 0\n",
        "    for step, batch in enumerate(tqdm(train_dataloader, \n",
        "                                      desc='Epoch ' + str(epoch))):\n",
        "        # set model.eval() every time during training\n",
        "        model.train()\n",
        "        \n",
        "        # unpack the batch contents and push them to the device (cuda or cpu).\n",
        "        b_src_input_ids = batch['src_input_ids'].to(device)\n",
        "        b_src_attention_mask = batch['src_attention_mask'].to(device)\n",
        "    \n",
        "        labels = batch['tgt_input_ids'].to(device)\n",
        "        labels[labels[:, :] == config.TOKENIZER.pad_token_id] = -100\n",
        "\n",
        "        b_tgt_attention_mask = batch['tgt_attention_mask'].to(device)\n",
        "\n",
        "        # clear accumulated gradients\n",
        "        optimizer.zero_grad()\n",
        "\n",
        "        # forward pass\n",
        "        outputs = model(input_ids=b_src_input_ids, \n",
        "                        attention_mask=b_src_attention_mask,\n",
        "                        labels=labels,\n",
        "                        decoder_attention_mask=b_tgt_attention_mask)\n",
        "        loss = outputs[0]\n",
        "        train_loss += loss.item()\n",
        "\n",
        "        # backward pass\n",
        "        loss.backward()\n",
        "\n",
        "        # update weights\n",
        "        optimizer.step()\n",
        "        \n",
        "        # update scheduler\n",
        "        scheduler.step()\n",
        "\n",
        "        if step in validate_at_steps:\n",
        "            print(f'-- Step: {step}')\n",
        "            _ = val(model, val_dataloader, criterion)\n",
        "    \n",
        "    avg_train_loss = train_loss / len(train_dataloader)\n",
        "    print('Training loss:', avg_train_loss)"
      ],
      "metadata": {
        "id": "8M6myGYxWHde"
      },
      "execution_count": 20,
      "outputs": []
    },
    {
      "cell_type": "code",
      "source": [
        "def run():\n",
        "    # setting a seed ensures reproducible results.\n",
        "    # seed may affect the performance too.\n",
        "    torch.manual_seed(config.SEED)\n",
        "\n",
        "    criterion = nn.BCEWithLogitsLoss()\n",
        "    \n",
        "    # define the parameters to be optmized -\n",
        "    # - and add regularization\n",
        "    if config.FULL_FINETUNING:\n",
        "        param_optimizer = list(model.named_parameters())\n",
        "        no_decay = [\"bias\", \"LayerNorm.bias\", \"LayerNorm.weight\"]\n",
        "        optimizer_parameters = [\n",
        "            {\n",
        "                \"params\": [\n",
        "                    p for n, p in param_optimizer if not any(nd in n for nd in no_decay)\n",
        "                ],\n",
        "                \"weight_decay\": 0.001,\n",
        "            },\n",
        "            {\n",
        "                \"params\": [\n",
        "                    p for n, p in param_optimizer if any(nd in n for nd in no_decay)\n",
        "                ],\n",
        "                \"weight_decay\": 0.0,\n",
        "            },\n",
        "        ]\n",
        "        optimizer = optim.AdamW(optimizer_parameters, lr=config.LR)\n",
        "\n",
        "    num_training_steps = len(train_dataloader) * config.EPOCHS\n",
        "    scheduler = get_linear_schedule_with_warmup(\n",
        "        optimizer,\n",
        "        num_warmup_steps=0,\n",
        "        num_training_steps=num_training_steps\n",
        "    )\n",
        "\n",
        "    max_val_micro_f1_score = float('-inf')\n",
        "    for epoch in range(config.EPOCHS):\n",
        "        train(model, train_dataloader, val_dataloader, criterion, optimizer, scheduler, epoch)\n",
        "        val_micro_f1_score = val(model, val_dataloader, criterion)\n",
        "\n",
        "        if config.SAVE_BEST_ONLY:\n",
        "            if val_micro_f1_score > max_val_micro_f1_score:\n",
        "                best_model = copy.deepcopy(model)\n",
        "                best_val_micro_f1_score = val_micro_f1_score\n",
        "\n",
        "                model_name = 't5_best_model'\n",
        "                torch.save(best_model.state_dict(), model_name + '.pt')\n",
        "\n",
        "                print(f'--- Best Model. Val loss: {max_val_micro_f1_score} -> {val_micro_f1_score}')\n",
        "                max_val_micro_f1_score = val_micro_f1_score\n",
        "\n",
        "    return best_model, best_val_micro_f1_score"
      ],
      "metadata": {
        "id": "JoBSZPNxW_NN"
      },
      "execution_count": 21,
      "outputs": []
    },
    {
      "cell_type": "code",
      "source": [
        "model = T5Model()\n",
        "model.to(device);"
      ],
      "metadata": {
        "id": "MVO3AVkRXBOT"
      },
      "execution_count": 22,
      "outputs": []
    },
    {
      "cell_type": "code",
      "source": [
        "best_model, best_val_micro_f1_score = run()"
      ],
      "metadata": {
        "colab": {
          "base_uri": "https://localhost:8080/",
          "height": 373,
          "referenced_widgets": [
            "5838aa622cf44dbfa7b6cf7bff148c52",
            "1fd517d87bc44060b3e632b46050b08c",
            "437f1e2a0336428f8b034963ad048ee4",
            "f63668564b574b3080de4d7ba793715d",
            "9575c4c44fc0445fb14f71eadd476b9c",
            "26e48196ff9948b8b364bc649fdf2c47",
            "5c1226a6715a4d4ca94eb3fc122abaf2",
            "5b94bee284404c33b346b56a4a51e895",
            "5f8d809f9688412e8eac88d95dc0b560",
            "2786a460a3e04a13a0232c7a71bbfee1",
            "94a0a93b34f041a7b51df2923dabc0e9"
          ]
        },
        "id": "nqCym8yVXFye",
        "outputId": "aa5cfdcf-7f7d-4c74-fca1-d567f1deb0a5"
      },
      "execution_count": 23,
      "outputs": [
        {
          "output_type": "display_data",
          "data": {
            "text/plain": [
              "Epoch 0:   0%|          | 0/223 [00:00<?, ?it/s]"
            ],
            "application/vnd.jupyter.widget-view+json": {
              "version_major": 2,
              "version_minor": 0,
              "model_id": "5838aa622cf44dbfa7b6cf7bff148c52"
            }
          },
          "metadata": {}
        },
        {
          "output_type": "stream",
          "name": "stdout",
          "text": [
            "-- Step: 0\n"
          ]
        },
        {
          "output_type": "stream",
          "name": "stderr",
          "text": [
            "/usr/local/lib/python3.7/dist-packages/transformers/generation_utils.py:1364: UserWarning: Neither `max_length` nor `max_new_tokens` has been set, `max_length` will default to 20 (`self.config.max_length`). Controlling `max_length` via the config is deprecated and `max_length` will be removed from the config in v5 of Transformers -- we recommend using `max_new_tokens` to control the maximum length of the generation.\n",
            "  UserWarning,\n"
          ]
        },
        {
          "output_type": "stream",
          "name": "stdout",
          "text": [
            "Val loss: 78.62087219238282\n",
            "Val accuracy: 1.0\n",
            "Val micro f1 score: 0.0\n"
          ]
        },
        {
          "output_type": "stream",
          "name": "stderr",
          "text": [
            "/usr/local/lib/python3.7/dist-packages/sklearn/metrics/_classification.py:1580: UndefinedMetricWarning: F-score is ill-defined and being set to 0.0 due to no true nor predicted samples. Use `zero_division` parameter to control this behavior.\n",
            "  _warn_prf(average, \"true nor predicted\", \"F-score is\", len(true_sum))\n"
          ]
        },
        {
          "output_type": "stream",
          "name": "stdout",
          "text": [
            "Training loss: 57.11572158710839\n"
          ]
        },
        {
          "output_type": "stream",
          "name": "stderr",
          "text": [
            "/usr/local/lib/python3.7/dist-packages/transformers/generation_utils.py:1364: UserWarning: Neither `max_length` nor `max_new_tokens` has been set, `max_length` will default to 20 (`self.config.max_length`). Controlling `max_length` via the config is deprecated and `max_length` will be removed from the config in v5 of Transformers -- we recommend using `max_new_tokens` to control the maximum length of the generation.\n",
            "  UserWarning,\n"
          ]
        },
        {
          "output_type": "stream",
          "name": "stdout",
          "text": [
            "Val loss: 37.87005554199219\n",
            "Val accuracy: 1.0\n",
            "Val micro f1 score: 0.0\n"
          ]
        },
        {
          "output_type": "stream",
          "name": "stderr",
          "text": [
            "/usr/local/lib/python3.7/dist-packages/sklearn/metrics/_classification.py:1580: UndefinedMetricWarning: F-score is ill-defined and being set to 0.0 due to no true nor predicted samples. Use `zero_division` parameter to control this behavior.\n",
            "  _warn_prf(average, \"true nor predicted\", \"F-score is\", len(true_sum))\n"
          ]
        },
        {
          "output_type": "stream",
          "name": "stdout",
          "text": [
            "--- Best Model. Val loss: -inf -> 0.0\n"
          ]
        }
      ]
    },
    {
      "cell_type": "code",
      "source": [],
      "metadata": {
        "id": "MQSBl4p5XR09"
      },
      "execution_count": 23,
      "outputs": []
    }
  ]
}