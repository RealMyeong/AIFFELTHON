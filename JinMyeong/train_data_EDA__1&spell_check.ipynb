{
  "nbformat": 4,
  "nbformat_minor": 0,
  "metadata": {
    "colab": {
      "provenance": [],
      "mount_file_id": "1SuXi6gONEwzfmyzqUPGOsJwmlzM1uwRp",
      "authorship_tag": "ABX9TyOh9GLGaO7at1xTx+7SLbrS",
      "include_colab_link": true
    },
    "kernelspec": {
      "name": "python3",
      "display_name": "Python 3"
    },
    "language_info": {
      "name": "python"
    }
  },
  "cells": [
    {
      "cell_type": "markdown",
      "metadata": {
        "id": "view-in-github",
        "colab_type": "text"
      },
      "source": [
        "<a href=\"https://colab.research.google.com/github/RealMyeong/AIFFELTHON/blob/main/JinMyeong/train_data_EDA__1%26spell_check.ipynb\" target=\"_parent\"><img src=\"https://colab.research.google.com/assets/colab-badge.svg\" alt=\"Open In Colab\"/></a>"
      ]
    },
    {
      "cell_type": "markdown",
      "source": [
        "# 11.12(토) 훈련 데이터 EDA를 진행"
      ],
      "metadata": {
        "id": "uOIbFvg184Ue"
      }
    },
    {
      "cell_type": "code",
      "source": [
        "# %%bash\n",
        "# apt-get update\n",
        "# apt-get install g++ openjdk-8-jdk python-dev python3-dev\n",
        "# pip3 install JPype1\n",
        "# pip3 install konlpy"
      ],
      "metadata": {
        "id": "5neNNRorX8be"
      },
      "execution_count": 50,
      "outputs": []
    },
    {
      "cell_type": "code",
      "source": [
        "# %env JAVA_HOME \"/usr/lib/jvm/java-8-openjdk-amd64\""
      ],
      "metadata": {
        "id": "nJV26RJuX_v8"
      },
      "execution_count": 51,
      "outputs": []
    },
    {
      "cell_type": "code",
      "source": [
        "# # Mecab 설치\n",
        "# !apt-get update\n",
        "# !apt-get install g++ openjdk-8-jdk \n",
        "# !pip3 install konlpy JPype1-py3\n",
        "# !bash <(curl -s https://raw.githubusercontent.com/konlpy/konlpy/master/scripts/mecab.sh)"
      ],
      "metadata": {
        "id": "otN0C5iUYB35"
      },
      "execution_count": 52,
      "outputs": []
    },
    {
      "cell_type": "code",
      "source": [
        "# !sudo apt-get install -y fonts-nanum\n",
        "# !sudo fc-cache -fv\n",
        "# !rm ~/.cache/matplotlib -rf"
      ],
      "metadata": {
        "id": "2Tyjj16wOdMe"
      },
      "execution_count": 53,
      "outputs": []
    },
    {
      "cell_type": "code",
      "execution_count": 54,
      "metadata": {
        "id": "NWPTBM-2G_M5"
      },
      "outputs": [],
      "source": [
        "import pandas as pd\n",
        "import numpy as np\n",
        "import matplotlib.pyplot as plt\n",
        "import seaborn as sns\n",
        "\n",
        "%matplotlib inline\n",
        "# 한글 지원 폰트\n",
        "plt.rc('font', family='NanumBarunGothic')\n",
        "\n",
        "# 마이너스 부호 \n",
        "plt.rcParams['axes.unicode_minus'] = False\n",
        "\n",
        "data = pd.read_csv('/content/drive/MyDrive/AIFFELTHON/TUNiB/label_train_data.csv')"
      ]
    },
    {
      "cell_type": "code",
      "source": [
        "data.head()"
      ],
      "metadata": {
        "colab": {
          "base_uri": "https://localhost:8080/",
          "height": 337
        },
        "id": "oqI-dlj4Lkfl",
        "outputId": "b0dcc0c4-a62d-45e9-f324-f539e645701f"
      },
      "execution_count": 55,
      "outputs": [
        {
          "output_type": "execute_result",
          "data": {
            "text/plain": [
              "         class                                       conversation  \\\n",
              "0  직장 내 괴롭힘 대화  길동씨 이번에 이것좀 처리해요\\n이거 제가 한게 아닌데요\\n팀에서 내가 니가가 어딨...   \n",
              "1    기타 괴롭힘 대화  야 너 앞니 왜 그렇게 튀어나왔냐?\\n 태어날때부터 그랬어 물어보지마.\\n 아 그럼...   \n",
              "2        갈취 대화  원후야 학원 교재 사야되는데 8만원만 주면 안돼?\\n 미안 나 오늘은 진짜 돈이 없...   \n",
              "3        갈취 대화  너 저번에 술먹은 날 기억해?\\n아니 왜?\\n야 300만원만 가져와.\\n뭔 소리야....   \n",
              "4        협박 대화  너 또 내말 무시하냐?\\n 이새끼 널 좆으로 보나본데?\\n아냐 진짜 시간이 없었어 ...   \n",
              "\n",
              "                     labelling  \\\n",
              "0          1,2,1,2,1,2,1,2,1,2   \n",
              "1  1,2,1,2,1,2,1,2,1,1,1,2,1,1   \n",
              "2          1,2,1,2,1,2,1,2,1,2   \n",
              "3          1,2,1,2,1,2,1,2,1,2   \n",
              "4          1,1,2,1,1,2,1,2,1,1   \n",
              "\n",
              "                                      label_sentence  \\\n",
              "0  1:길동씨 이번에 이것좀 처리해요\\n2:이거 제가 한게 아닌데요\\n1:팀에서 내가 ...   \n",
              "1  1:야 너 앞니 왜 그렇게 튀어나왔냐?\\n2:태어날때부터 그랬어 물어보지마.\\n1:...   \n",
              "2  1:원후야 학원 교재 사야되는데 8만원만 주면 안돼?\\n2:미안 나 오늘은 진짜 돈...   \n",
              "3  1:너 저번에 술먹은 날 기억해?\\n2:아니 왜?\\n1:야 300만원만 가져와.\\n...   \n",
              "4  1:너 또 내말 무시하냐?\\n1:이새끼 널 좆으로 보나본데?\\n2:아냐 진짜 시간이...   \n",
              "\n",
              "                                    cleaned_sentence  \n",
              "0  길동씨 이번에 이것좀 처리해요\\n이거 제가 한게 아닌데요\\n팀에서 내가 니가가 어딨...  \n",
              "1  야 너 앞니 왜 그렇게 튀어나왔냐?\\n태어날때부터 그랬어 물어보지마.\\n아 그럼 태...  \n",
              "2  원후야 학원 교재 사야되는데 8만원만 주면 안돼?\\n미안 나 오늘은 진짜 돈이 없어...  \n",
              "3  너 저번에 술먹은 날 기억해?\\n아니 왜?\\n야 300만원만 가져와.\\n뭔 소리야....  \n",
              "4  너 또 내말 무시하냐?\\n이새끼 널 좆으로 보나본데?\\n아냐 진짜 시간이 없었어 미...  "
            ],
            "text/html": [
              "\n",
              "  <div id=\"df-d7416cae-140b-4a86-a002-62162f714260\">\n",
              "    <div class=\"colab-df-container\">\n",
              "      <div>\n",
              "<style scoped>\n",
              "    .dataframe tbody tr th:only-of-type {\n",
              "        vertical-align: middle;\n",
              "    }\n",
              "\n",
              "    .dataframe tbody tr th {\n",
              "        vertical-align: top;\n",
              "    }\n",
              "\n",
              "    .dataframe thead th {\n",
              "        text-align: right;\n",
              "    }\n",
              "</style>\n",
              "<table border=\"1\" class=\"dataframe\">\n",
              "  <thead>\n",
              "    <tr style=\"text-align: right;\">\n",
              "      <th></th>\n",
              "      <th>class</th>\n",
              "      <th>conversation</th>\n",
              "      <th>labelling</th>\n",
              "      <th>label_sentence</th>\n",
              "      <th>cleaned_sentence</th>\n",
              "    </tr>\n",
              "  </thead>\n",
              "  <tbody>\n",
              "    <tr>\n",
              "      <th>0</th>\n",
              "      <td>직장 내 괴롭힘 대화</td>\n",
              "      <td>길동씨 이번에 이것좀 처리해요\\n이거 제가 한게 아닌데요\\n팀에서 내가 니가가 어딨...</td>\n",
              "      <td>1,2,1,2,1,2,1,2,1,2</td>\n",
              "      <td>1:길동씨 이번에 이것좀 처리해요\\n2:이거 제가 한게 아닌데요\\n1:팀에서 내가 ...</td>\n",
              "      <td>길동씨 이번에 이것좀 처리해요\\n이거 제가 한게 아닌데요\\n팀에서 내가 니가가 어딨...</td>\n",
              "    </tr>\n",
              "    <tr>\n",
              "      <th>1</th>\n",
              "      <td>기타 괴롭힘 대화</td>\n",
              "      <td>야 너 앞니 왜 그렇게 튀어나왔냐?\\n 태어날때부터 그랬어 물어보지마.\\n 아 그럼...</td>\n",
              "      <td>1,2,1,2,1,2,1,2,1,1,1,2,1,1</td>\n",
              "      <td>1:야 너 앞니 왜 그렇게 튀어나왔냐?\\n2:태어날때부터 그랬어 물어보지마.\\n1:...</td>\n",
              "      <td>야 너 앞니 왜 그렇게 튀어나왔냐?\\n태어날때부터 그랬어 물어보지마.\\n아 그럼 태...</td>\n",
              "    </tr>\n",
              "    <tr>\n",
              "      <th>2</th>\n",
              "      <td>갈취 대화</td>\n",
              "      <td>원후야 학원 교재 사야되는데 8만원만 주면 안돼?\\n 미안 나 오늘은 진짜 돈이 없...</td>\n",
              "      <td>1,2,1,2,1,2,1,2,1,2</td>\n",
              "      <td>1:원후야 학원 교재 사야되는데 8만원만 주면 안돼?\\n2:미안 나 오늘은 진짜 돈...</td>\n",
              "      <td>원후야 학원 교재 사야되는데 8만원만 주면 안돼?\\n미안 나 오늘은 진짜 돈이 없어...</td>\n",
              "    </tr>\n",
              "    <tr>\n",
              "      <th>3</th>\n",
              "      <td>갈취 대화</td>\n",
              "      <td>너 저번에 술먹은 날 기억해?\\n아니 왜?\\n야 300만원만 가져와.\\n뭔 소리야....</td>\n",
              "      <td>1,2,1,2,1,2,1,2,1,2</td>\n",
              "      <td>1:너 저번에 술먹은 날 기억해?\\n2:아니 왜?\\n1:야 300만원만 가져와.\\n...</td>\n",
              "      <td>너 저번에 술먹은 날 기억해?\\n아니 왜?\\n야 300만원만 가져와.\\n뭔 소리야....</td>\n",
              "    </tr>\n",
              "    <tr>\n",
              "      <th>4</th>\n",
              "      <td>협박 대화</td>\n",
              "      <td>너 또 내말 무시하냐?\\n 이새끼 널 좆으로 보나본데?\\n아냐 진짜 시간이 없었어 ...</td>\n",
              "      <td>1,1,2,1,1,2,1,2,1,1</td>\n",
              "      <td>1:너 또 내말 무시하냐?\\n1:이새끼 널 좆으로 보나본데?\\n2:아냐 진짜 시간이...</td>\n",
              "      <td>너 또 내말 무시하냐?\\n이새끼 널 좆으로 보나본데?\\n아냐 진짜 시간이 없었어 미...</td>\n",
              "    </tr>\n",
              "  </tbody>\n",
              "</table>\n",
              "</div>\n",
              "      <button class=\"colab-df-convert\" onclick=\"convertToInteractive('df-d7416cae-140b-4a86-a002-62162f714260')\"\n",
              "              title=\"Convert this dataframe to an interactive table.\"\n",
              "              style=\"display:none;\">\n",
              "        \n",
              "  <svg xmlns=\"http://www.w3.org/2000/svg\" height=\"24px\"viewBox=\"0 0 24 24\"\n",
              "       width=\"24px\">\n",
              "    <path d=\"M0 0h24v24H0V0z\" fill=\"none\"/>\n",
              "    <path d=\"M18.56 5.44l.94 2.06.94-2.06 2.06-.94-2.06-.94-.94-2.06-.94 2.06-2.06.94zm-11 1L8.5 8.5l.94-2.06 2.06-.94-2.06-.94L8.5 2.5l-.94 2.06-2.06.94zm10 10l.94 2.06.94-2.06 2.06-.94-2.06-.94-.94-2.06-.94 2.06-2.06.94z\"/><path d=\"M17.41 7.96l-1.37-1.37c-.4-.4-.92-.59-1.43-.59-.52 0-1.04.2-1.43.59L10.3 9.45l-7.72 7.72c-.78.78-.78 2.05 0 2.83L4 21.41c.39.39.9.59 1.41.59.51 0 1.02-.2 1.41-.59l7.78-7.78 2.81-2.81c.8-.78.8-2.07 0-2.86zM5.41 20L4 18.59l7.72-7.72 1.47 1.35L5.41 20z\"/>\n",
              "  </svg>\n",
              "      </button>\n",
              "      \n",
              "  <style>\n",
              "    .colab-df-container {\n",
              "      display:flex;\n",
              "      flex-wrap:wrap;\n",
              "      gap: 12px;\n",
              "    }\n",
              "\n",
              "    .colab-df-convert {\n",
              "      background-color: #E8F0FE;\n",
              "      border: none;\n",
              "      border-radius: 50%;\n",
              "      cursor: pointer;\n",
              "      display: none;\n",
              "      fill: #1967D2;\n",
              "      height: 32px;\n",
              "      padding: 0 0 0 0;\n",
              "      width: 32px;\n",
              "    }\n",
              "\n",
              "    .colab-df-convert:hover {\n",
              "      background-color: #E2EBFA;\n",
              "      box-shadow: 0px 1px 2px rgba(60, 64, 67, 0.3), 0px 1px 3px 1px rgba(60, 64, 67, 0.15);\n",
              "      fill: #174EA6;\n",
              "    }\n",
              "\n",
              "    [theme=dark] .colab-df-convert {\n",
              "      background-color: #3B4455;\n",
              "      fill: #D2E3FC;\n",
              "    }\n",
              "\n",
              "    [theme=dark] .colab-df-convert:hover {\n",
              "      background-color: #434B5C;\n",
              "      box-shadow: 0px 1px 3px 1px rgba(0, 0, 0, 0.15);\n",
              "      filter: drop-shadow(0px 1px 2px rgba(0, 0, 0, 0.3));\n",
              "      fill: #FFFFFF;\n",
              "    }\n",
              "  </style>\n",
              "\n",
              "      <script>\n",
              "        const buttonEl =\n",
              "          document.querySelector('#df-d7416cae-140b-4a86-a002-62162f714260 button.colab-df-convert');\n",
              "        buttonEl.style.display =\n",
              "          google.colab.kernel.accessAllowed ? 'block' : 'none';\n",
              "\n",
              "        async function convertToInteractive(key) {\n",
              "          const element = document.querySelector('#df-d7416cae-140b-4a86-a002-62162f714260');\n",
              "          const dataTable =\n",
              "            await google.colab.kernel.invokeFunction('convertToInteractive',\n",
              "                                                     [key], {});\n",
              "          if (!dataTable) return;\n",
              "\n",
              "          const docLinkHtml = 'Like what you see? Visit the ' +\n",
              "            '<a target=\"_blank\" href=https://colab.research.google.com/notebooks/data_table.ipynb>data table notebook</a>'\n",
              "            + ' to learn more about interactive tables.';\n",
              "          element.innerHTML = '';\n",
              "          dataTable['output_type'] = 'display_data';\n",
              "          await google.colab.output.renderOutput(dataTable, element);\n",
              "          const docLink = document.createElement('div');\n",
              "          docLink.innerHTML = docLinkHtml;\n",
              "          element.appendChild(docLink);\n",
              "        }\n",
              "      </script>\n",
              "    </div>\n",
              "  </div>\n",
              "  "
            ]
          },
          "metadata": {},
          "execution_count": 55
        }
      ]
    },
    {
      "cell_type": "code",
      "source": [
        "data.tail()"
      ],
      "metadata": {
        "colab": {
          "base_uri": "https://localhost:8080/",
          "height": 337
        },
        "id": "m8dRCUDKLmVK",
        "outputId": "aa53c981-df0b-44b8-a369-944938be4716"
      },
      "execution_count": 56,
      "outputs": [
        {
          "output_type": "execute_result",
          "data": {
            "text/plain": [
              "            class                                       conversation  \\\n",
              "3908    기타 괴롭힘 대화  준하야 넌 대가리가 왜이렇게 크냐?\\n내 머리가 뭐.\\n밥먹으면 대가리만 크냐 너는...   \n",
              "3909        갈취 대화  내가 지금 너 아들 김길준 데리고 있어. 살리고 싶으면 계좌에 1억만 보내\\n예.?...   \n",
              "3910  직장 내 괴롭힘 대화  나는 씨 같은 사람 보면 참 신기하더라. 어떻게 저렇게 살지.\\n왜 그래. 들리겠어...   \n",
              "3911        갈취 대화  누구맘대로 여기서 장사하래?\\n이게 무슨일입니까?\\n남의 구역에서 장사하려면 자릿세...   \n",
              "3912  직장 내 괴롭힘 대화  희정씨\\n네?\\n주말에 시간이 넘쳐나나봐\\n갑자기 왜그러세요?\\n손이 빤짝빤짝 네일...   \n",
              "\n",
              "                  labelling  \\\n",
              "3908  1,2,1,2,1,2,1,2,1,2,1   \n",
              "3909    1,2,1,2,1,2,1,2,1,2   \n",
              "3910  1,1,1,1,1,1,1,1,1,1,2   \n",
              "3911    1,2,1,2,1,2,1,2,1,2   \n",
              "3912    1,2,1,2,1,2,1,2,1,2   \n",
              "\n",
              "                                         label_sentence  \\\n",
              "3908  1:준하야 넌 대가리가 왜이렇게 크냐?\\n2:내 머리가 뭐.\\n1:밥먹으면 대가리만...   \n",
              "3909  1:내가 지금 너 아들 김길준 데리고 있어. 살리고 싶으면 계좌에 1억만 보내\\n2...   \n",
              "3910  1:나는 씨 같은 사람 보면 참 신기하더라. 어떻게 저렇게 살지.\\n1:왜 그래. ...   \n",
              "3911  1:누구맘대로 여기서 장사하래?\\n2:이게 무슨일입니까?\\n1:남의 구역에서 장사하...   \n",
              "3912  1:희정씨\\n2:네?\\n1:주말에 시간이 넘쳐나나봐\\n2:갑자기 왜그러세요?\\n1:...   \n",
              "\n",
              "                                       cleaned_sentence  \n",
              "3908  준하야 넌 대가리가 왜이렇게 크냐?\\n내 머리가 뭐.\\n밥먹으면 대가리만 크냐 너는...  \n",
              "3909  내가 지금 너 아들 김길준 데리고 있어. 살리고 싶으면 계좌에 1억만 보내\\n예.?...  \n",
              "3910  나는 씨 같은 사람 보면 참 신기하더라. 어떻게 저렇게 살지.\\n왜 그래. 들리겠어...  \n",
              "3911  누구맘대로 여기서 장사하래?\\n이게 무슨일입니까?\\n남의 구역에서 장사하려면 자릿세...  \n",
              "3912  희정씨\\n네?\\n주말에 시간이 넘쳐나나봐\\n갑자기 왜그러세요?\\n손이 빤짝빤짝 네일...  "
            ],
            "text/html": [
              "\n",
              "  <div id=\"df-0561e5c3-0a15-4b6f-bd9d-8d9940efaba8\">\n",
              "    <div class=\"colab-df-container\">\n",
              "      <div>\n",
              "<style scoped>\n",
              "    .dataframe tbody tr th:only-of-type {\n",
              "        vertical-align: middle;\n",
              "    }\n",
              "\n",
              "    .dataframe tbody tr th {\n",
              "        vertical-align: top;\n",
              "    }\n",
              "\n",
              "    .dataframe thead th {\n",
              "        text-align: right;\n",
              "    }\n",
              "</style>\n",
              "<table border=\"1\" class=\"dataframe\">\n",
              "  <thead>\n",
              "    <tr style=\"text-align: right;\">\n",
              "      <th></th>\n",
              "      <th>class</th>\n",
              "      <th>conversation</th>\n",
              "      <th>labelling</th>\n",
              "      <th>label_sentence</th>\n",
              "      <th>cleaned_sentence</th>\n",
              "    </tr>\n",
              "  </thead>\n",
              "  <tbody>\n",
              "    <tr>\n",
              "      <th>3908</th>\n",
              "      <td>기타 괴롭힘 대화</td>\n",
              "      <td>준하야 넌 대가리가 왜이렇게 크냐?\\n내 머리가 뭐.\\n밥먹으면 대가리만 크냐 너는...</td>\n",
              "      <td>1,2,1,2,1,2,1,2,1,2,1</td>\n",
              "      <td>1:준하야 넌 대가리가 왜이렇게 크냐?\\n2:내 머리가 뭐.\\n1:밥먹으면 대가리만...</td>\n",
              "      <td>준하야 넌 대가리가 왜이렇게 크냐?\\n내 머리가 뭐.\\n밥먹으면 대가리만 크냐 너는...</td>\n",
              "    </tr>\n",
              "    <tr>\n",
              "      <th>3909</th>\n",
              "      <td>갈취 대화</td>\n",
              "      <td>내가 지금 너 아들 김길준 데리고 있어. 살리고 싶으면 계좌에 1억만 보내\\n예.?...</td>\n",
              "      <td>1,2,1,2,1,2,1,2,1,2</td>\n",
              "      <td>1:내가 지금 너 아들 김길준 데리고 있어. 살리고 싶으면 계좌에 1억만 보내\\n2...</td>\n",
              "      <td>내가 지금 너 아들 김길준 데리고 있어. 살리고 싶으면 계좌에 1억만 보내\\n예.?...</td>\n",
              "    </tr>\n",
              "    <tr>\n",
              "      <th>3910</th>\n",
              "      <td>직장 내 괴롭힘 대화</td>\n",
              "      <td>나는 씨 같은 사람 보면 참 신기하더라. 어떻게 저렇게 살지.\\n왜 그래. 들리겠어...</td>\n",
              "      <td>1,1,1,1,1,1,1,1,1,1,2</td>\n",
              "      <td>1:나는 씨 같은 사람 보면 참 신기하더라. 어떻게 저렇게 살지.\\n1:왜 그래. ...</td>\n",
              "      <td>나는 씨 같은 사람 보면 참 신기하더라. 어떻게 저렇게 살지.\\n왜 그래. 들리겠어...</td>\n",
              "    </tr>\n",
              "    <tr>\n",
              "      <th>3911</th>\n",
              "      <td>갈취 대화</td>\n",
              "      <td>누구맘대로 여기서 장사하래?\\n이게 무슨일입니까?\\n남의 구역에서 장사하려면 자릿세...</td>\n",
              "      <td>1,2,1,2,1,2,1,2,1,2</td>\n",
              "      <td>1:누구맘대로 여기서 장사하래?\\n2:이게 무슨일입니까?\\n1:남의 구역에서 장사하...</td>\n",
              "      <td>누구맘대로 여기서 장사하래?\\n이게 무슨일입니까?\\n남의 구역에서 장사하려면 자릿세...</td>\n",
              "    </tr>\n",
              "    <tr>\n",
              "      <th>3912</th>\n",
              "      <td>직장 내 괴롭힘 대화</td>\n",
              "      <td>희정씨\\n네?\\n주말에 시간이 넘쳐나나봐\\n갑자기 왜그러세요?\\n손이 빤짝빤짝 네일...</td>\n",
              "      <td>1,2,1,2,1,2,1,2,1,2</td>\n",
              "      <td>1:희정씨\\n2:네?\\n1:주말에 시간이 넘쳐나나봐\\n2:갑자기 왜그러세요?\\n1:...</td>\n",
              "      <td>희정씨\\n네?\\n주말에 시간이 넘쳐나나봐\\n갑자기 왜그러세요?\\n손이 빤짝빤짝 네일...</td>\n",
              "    </tr>\n",
              "  </tbody>\n",
              "</table>\n",
              "</div>\n",
              "      <button class=\"colab-df-convert\" onclick=\"convertToInteractive('df-0561e5c3-0a15-4b6f-bd9d-8d9940efaba8')\"\n",
              "              title=\"Convert this dataframe to an interactive table.\"\n",
              "              style=\"display:none;\">\n",
              "        \n",
              "  <svg xmlns=\"http://www.w3.org/2000/svg\" height=\"24px\"viewBox=\"0 0 24 24\"\n",
              "       width=\"24px\">\n",
              "    <path d=\"M0 0h24v24H0V0z\" fill=\"none\"/>\n",
              "    <path d=\"M18.56 5.44l.94 2.06.94-2.06 2.06-.94-2.06-.94-.94-2.06-.94 2.06-2.06.94zm-11 1L8.5 8.5l.94-2.06 2.06-.94-2.06-.94L8.5 2.5l-.94 2.06-2.06.94zm10 10l.94 2.06.94-2.06 2.06-.94-2.06-.94-.94-2.06-.94 2.06-2.06.94z\"/><path d=\"M17.41 7.96l-1.37-1.37c-.4-.4-.92-.59-1.43-.59-.52 0-1.04.2-1.43.59L10.3 9.45l-7.72 7.72c-.78.78-.78 2.05 0 2.83L4 21.41c.39.39.9.59 1.41.59.51 0 1.02-.2 1.41-.59l7.78-7.78 2.81-2.81c.8-.78.8-2.07 0-2.86zM5.41 20L4 18.59l7.72-7.72 1.47 1.35L5.41 20z\"/>\n",
              "  </svg>\n",
              "      </button>\n",
              "      \n",
              "  <style>\n",
              "    .colab-df-container {\n",
              "      display:flex;\n",
              "      flex-wrap:wrap;\n",
              "      gap: 12px;\n",
              "    }\n",
              "\n",
              "    .colab-df-convert {\n",
              "      background-color: #E8F0FE;\n",
              "      border: none;\n",
              "      border-radius: 50%;\n",
              "      cursor: pointer;\n",
              "      display: none;\n",
              "      fill: #1967D2;\n",
              "      height: 32px;\n",
              "      padding: 0 0 0 0;\n",
              "      width: 32px;\n",
              "    }\n",
              "\n",
              "    .colab-df-convert:hover {\n",
              "      background-color: #E2EBFA;\n",
              "      box-shadow: 0px 1px 2px rgba(60, 64, 67, 0.3), 0px 1px 3px 1px rgba(60, 64, 67, 0.15);\n",
              "      fill: #174EA6;\n",
              "    }\n",
              "\n",
              "    [theme=dark] .colab-df-convert {\n",
              "      background-color: #3B4455;\n",
              "      fill: #D2E3FC;\n",
              "    }\n",
              "\n",
              "    [theme=dark] .colab-df-convert:hover {\n",
              "      background-color: #434B5C;\n",
              "      box-shadow: 0px 1px 3px 1px rgba(0, 0, 0, 0.15);\n",
              "      filter: drop-shadow(0px 1px 2px rgba(0, 0, 0, 0.3));\n",
              "      fill: #FFFFFF;\n",
              "    }\n",
              "  </style>\n",
              "\n",
              "      <script>\n",
              "        const buttonEl =\n",
              "          document.querySelector('#df-0561e5c3-0a15-4b6f-bd9d-8d9940efaba8 button.colab-df-convert');\n",
              "        buttonEl.style.display =\n",
              "          google.colab.kernel.accessAllowed ? 'block' : 'none';\n",
              "\n",
              "        async function convertToInteractive(key) {\n",
              "          const element = document.querySelector('#df-0561e5c3-0a15-4b6f-bd9d-8d9940efaba8');\n",
              "          const dataTable =\n",
              "            await google.colab.kernel.invokeFunction('convertToInteractive',\n",
              "                                                     [key], {});\n",
              "          if (!dataTable) return;\n",
              "\n",
              "          const docLinkHtml = 'Like what you see? Visit the ' +\n",
              "            '<a target=\"_blank\" href=https://colab.research.google.com/notebooks/data_table.ipynb>data table notebook</a>'\n",
              "            + ' to learn more about interactive tables.';\n",
              "          element.innerHTML = '';\n",
              "          dataTable['output_type'] = 'display_data';\n",
              "          await google.colab.output.renderOutput(dataTable, element);\n",
              "          const docLink = document.createElement('div');\n",
              "          docLink.innerHTML = docLinkHtml;\n",
              "          element.appendChild(docLink);\n",
              "        }\n",
              "      </script>\n",
              "    </div>\n",
              "  </div>\n",
              "  "
            ]
          },
          "metadata": {},
          "execution_count": 56
        }
      ]
    },
    {
      "cell_type": "code",
      "source": [
        "len(data)"
      ],
      "metadata": {
        "colab": {
          "base_uri": "https://localhost:8080/"
        },
        "id": "2KQIaurLLm7C",
        "outputId": "99096156-01f4-4a2b-a9f3-c1fff9e2053a"
      },
      "execution_count": 57,
      "outputs": [
        {
          "output_type": "execute_result",
          "data": {
            "text/plain": [
              "3913"
            ]
          },
          "metadata": {},
          "execution_count": 57
        }
      ]
    },
    {
      "cell_type": "markdown",
      "source": [
        "## 1. 대화의 공격성 유형에 따라서 분리\n",
        "\n",
        "1. 협박\n",
        "2. 갈취\n",
        "3. 직장 내 괴롭힘\n",
        "4. 기타 괴롭힘"
      ],
      "metadata": {
        "id": "mFbbVm4fL47S"
      }
    },
    {
      "cell_type": "code",
      "source": [
        "data.columns"
      ],
      "metadata": {
        "colab": {
          "base_uri": "https://localhost:8080/"
        },
        "id": "eNSzXXDWMQEn",
        "outputId": "95bb6d3e-fdfd-4d23-95b0-a1344f265fb8"
      },
      "execution_count": 58,
      "outputs": [
        {
          "output_type": "execute_result",
          "data": {
            "text/plain": [
              "Index(['class', 'conversation', 'labelling', 'label_sentence',\n",
              "       'cleaned_sentence'],\n",
              "      dtype='object')"
            ]
          },
          "metadata": {},
          "execution_count": 58
        }
      ]
    },
    {
      "cell_type": "code",
      "source": [
        "data['class'].value_counts()"
      ],
      "metadata": {
        "colab": {
          "base_uri": "https://localhost:8080/"
        },
        "id": "3iuymIFPMhr_",
        "outputId": "268e0c31-e735-407f-fb5a-a087ad77b08b"
      },
      "execution_count": 59,
      "outputs": [
        {
          "output_type": "execute_result",
          "data": {
            "text/plain": [
              "기타 괴롭힘 대화      1065\n",
              "갈취 대화           978\n",
              "직장 내 괴롭힘 대화     975\n",
              "협박 대화           895\n",
              "Name: class, dtype: int64"
            ]
          },
          "metadata": {},
          "execution_count": 59
        }
      ]
    },
    {
      "cell_type": "code",
      "source": [
        "# 협박 대화\n",
        "threat = data[data['class']=='협박 대화']\n",
        "\n",
        "# 갈취 대화\n",
        "extort = data[data['class']=='갈취 대화']\n",
        "\n",
        "# 직장 내 괴롭힘\n",
        "workplace_bull = data[data['class']=='직장 내 괴롭힘 대화']\n",
        "\n",
        "# 기타 괴롭힘\n",
        "other_bull = data[data['class']=='기타 괴롭힘 대화']"
      ],
      "metadata": {
        "id": "dWqf7uBIL3gp"
      },
      "execution_count": 60,
      "outputs": []
    },
    {
      "cell_type": "code",
      "source": [
        "print(f'협박 대화 개수 : {len(threat)}')\n",
        "print(f'갈취 대화 개수 : {len(extort)}')\n",
        "print(f'직장 내 괴롭힘 대화 개수 : {len(workplace_bull)}')\n",
        "print(f'기타 괴롭힘 대화 개수 : {len(other_bull)}')"
      ],
      "metadata": {
        "colab": {
          "base_uri": "https://localhost:8080/"
        },
        "id": "Uqjk-5vxM95u",
        "outputId": "03932023-ca6a-4139-bef9-1fcaa64f7b38"
      },
      "execution_count": 61,
      "outputs": [
        {
          "output_type": "stream",
          "name": "stdout",
          "text": [
            "협박 대화 개수 : 895\n",
            "갈취 대화 개수 : 978\n",
            "직장 내 괴롭힘 대화 개수 : 975\n",
            "기타 괴롭힘 대화 개수 : 1065\n"
          ]
        }
      ]
    },
    {
      "cell_type": "code",
      "source": [
        "plt.figure(figsize=(10,8))\n",
        "plt.bar(x = ['협박 대화', '갈취 대화', '직장 내 괴롭힘 대화', '기타 괴롭힘 대화'], width = 0.8, height = [len(threat), len(extort), len(workplace_bull), len(other_bull)], color=['y', 'dodgerblue', 'C2', '#e35f62'])\n",
        "plt.ylabel('대화 개수')\n",
        "plt.show()"
      ],
      "metadata": {
        "colab": {
          "base_uri": "https://localhost:8080/",
          "height": 483
        },
        "id": "SLr6T0GlN-Rf",
        "outputId": "5765ffbf-bac3-4d6b-955a-015fb61cab2c"
      },
      "execution_count": 62,
      "outputs": [
        {
          "output_type": "display_data",
          "data": {
            "text/plain": [
              "<Figure size 720x576 with 1 Axes>"
            ],
            "image/png": "[encoded data removed]"
          },
          "metadata": {
            "needs_background": "light"
          }
        }
      ]
    },
    {
      "cell_type": "markdown",
      "source": [
        "- 전처리 후 토큰화"
      ],
      "metadata": {
        "id": "hGW7_YHiZxoA"
      }
    },
    {
      "cell_type": "code",
      "source": [
        "from konlpy.tag import Mecab\n",
        "mecab = Mecab()\n",
        "\n",
        "sen_1 = list(threat['conversation'])[1]\n",
        "sen_2 = list(threat['cleaned_sentence'])[1]\n",
        "sen_3 = list(threat['label_sentence'])[1]"
      ],
      "metadata": {
        "id": "8bllCOTPY_3e"
      },
      "execution_count": 63,
      "outputs": []
    },
    {
      "cell_type": "code",
      "source": [
        "print(mecab.morphs(sen_1))\n",
        "print(mecab.morphs(sen_2))\n",
        "print(mecab.morphs(sen_3))"
      ],
      "metadata": {
        "colab": {
          "base_uri": "https://localhost:8080/"
        },
        "id": "Yv9O4-PvZM1w",
        "outputId": "5e7d73d2-2665-4bb1-d439-4ea0e4998649"
      },
      "execution_count": 64,
      "outputs": [
        {
          "output_type": "stream",
          "name": "stdout",
          "text": [
            "['너', '내', '지갑', '에', '손', '댔', '지', '?', '내', '돈', '내놔', '.', '아니', '에요', '.', '봐', '봐', '.', '돈', '여기', '있', '잖아', '.', '속옷', '속', '에', '숨겨', '놓', '으면', '못', '찾', '을', '줄', '알', '았', '어', '?', '그거', '제', '돈', '이', '에요', '.', '어디', '서', '개', '구라', '를', '쳐', '?', '맞', '아야', '정신', '차리', '지', '?', '이거', '습관', '성', '이', '야', '.', '저', '도벽', '없', '어요', '.', '어라', '?', '이딴', '식', '으로', '나오', '겟', '다', '?', '너', '정신', '머리', '가', '글러', '먹', '었', '구나', '?', '죄송', '해요', '.', '일', '로와', '.', '너', '죽여', '버릴', '거', '야', '.', '죽', '어야', '정신', '차리', '지', '.', '정신', '차릴', '게', '요', '.', '죄송', '해요', '.']\n",
            "['너', '내', '지갑', '에', '손', '댔', '지', '?', '내', '돈', '내놔', '.', '아니', '에요', '.', '봐', '봐', '.', '돈', '여기', '있', '잖아', '.', '속옷', '속', '에', '숨겨', '놓', '으면', '못', '찾', '을', '줄', '알', '았', '어', '?', '그거', '제', '돈', '이', '에요', '.', '어디', '서', '개', '구라', '를', '쳐', '?', '맞', '아야', '정신', '차리', '지', '?', '이거', '습관', '성', '이', '야', '.', '저', '도벽', '없', '어요', '.', '어라', '?', '이딴', '식', '으로', '나오', '겟', '다', '?', '너', '정신', '머리', '가', '글러', '먹', '었', '구나', '?', '죄송', '해요', '.', '일', '로와', '.', '너', '죽여', '버릴', '거', '야', '.', '죽', '어야', '정신', '차리', '지', '.', '정신', '차릴', '게', '요', '.', '죄송', '해요', '.']\n",
            "['1', ':', '너', '내', '지갑', '에', '손', '댔', '지', '?', '내', '돈', '내놔', '.', '2', ':', '아니', '에요', '.', '1', ':', '봐', '봐', '.', '돈', '여기', '있', '잖아', '.', '속옷', '속', '에', '숨겨', '놓', '으면', '못', '찾', '을', '줄', '알', '았', '어', '?', '2', ':', '그거', '제', '돈', '이', '에요', '.', '1', ':', '어디', '서', '개', '구라', '를', '쳐', '?', '맞', '아야', '정신', '차리', '지', '?', '이거', '습관', '성', '이', '야', '.', '2', ':', '저', '도벽', '없', '어요', '.', '1', ':', '어라', '?', '이딴', '식', '으로', '나오', '겟', '다', '?', '너', '정신', '머리', '가', '글러', '먹', '었', '구나', '?', '2', ':', '죄송', '해요', '.', '1', ':', '일', '로와', '.', '너', '죽여', '버릴', '거', '야', '.', '죽', '어야', '정신', '차리', '지', '.', '2', ':', '정신', '차릴', '게', '요', '.', '죄송', '해요', '.']\n"
          ]
        }
      ]
    },
    {
      "cell_type": "markdown",
      "source": [
        "'conversation' 컬럼 기준으로 토큰화해서 확인하면 될 것 같음.\n",
        "\n",
        "대화 유형마다 각각 토큰화해서 저장해주는 함수를 정의해서 EDA진행."
      ],
      "metadata": {
        "id": "6pXreieIaSuC"
      }
    },
    {
      "cell_type": "code",
      "source": [
        "# 한글 불용어 리스트 생성\n",
        "ko_stopword = pd.read_csv('/content/drive/MyDrive/AIFFELTHON/TUNiB/한글불용어.csv')\n",
        "ko_stopword.head()"
      ],
      "metadata": {
        "colab": {
          "base_uri": "https://localhost:8080/",
          "height": 206
        },
        "id": "8cuYlxg6h2J1",
        "outputId": "51592531-2909-430e-b7fc-2649578d2d07"
      },
      "execution_count": 65,
      "outputs": [
        {
          "output_type": "execute_result",
          "data": {
            "text/plain": [
              "   불용어\n",
              "0    아\n",
              "1    휴\n",
              "2  아이구\n",
              "3  아이쿠\n",
              "4  아이고"
            ],
            "text/html": [
              "\n",
              "  <div id=\"df-f81f64da-0e4e-4a6d-b21f-2560bc6d3306\">\n",
              "    <div class=\"colab-df-container\">\n",
              "      <div>\n",
              "<style scoped>\n",
              "    .dataframe tbody tr th:only-of-type {\n",
              "        vertical-align: middle;\n",
              "    }\n",
              "\n",
              "    .dataframe tbody tr th {\n",
              "        vertical-align: top;\n",
              "    }\n",
              "\n",
              "    .dataframe thead th {\n",
              "        text-align: right;\n",
              "    }\n",
              "</style>\n",
              "<table border=\"1\" class=\"dataframe\">\n",
              "  <thead>\n",
              "    <tr style=\"text-align: right;\">\n",
              "      <th></th>\n",
              "      <th>불용어</th>\n",
              "    </tr>\n",
              "  </thead>\n",
              "  <tbody>\n",
              "    <tr>\n",
              "      <th>0</th>\n",
              "      <td>아</td>\n",
              "    </tr>\n",
              "    <tr>\n",
              "      <th>1</th>\n",
              "      <td>휴</td>\n",
              "    </tr>\n",
              "    <tr>\n",
              "      <th>2</th>\n",
              "      <td>아이구</td>\n",
              "    </tr>\n",
              "    <tr>\n",
              "      <th>3</th>\n",
              "      <td>아이쿠</td>\n",
              "    </tr>\n",
              "    <tr>\n",
              "      <th>4</th>\n",
              "      <td>아이고</td>\n",
              "    </tr>\n",
              "  </tbody>\n",
              "</table>\n",
              "</div>\n",
              "      <button class=\"colab-df-convert\" onclick=\"convertToInteractive('df-f81f64da-0e4e-4a6d-b21f-2560bc6d3306')\"\n",
              "              title=\"Convert this dataframe to an interactive table.\"\n",
              "              style=\"display:none;\">\n",
              "        \n",
              "  <svg xmlns=\"http://www.w3.org/2000/svg\" height=\"24px\"viewBox=\"0 0 24 24\"\n",
              "       width=\"24px\">\n",
              "    <path d=\"M0 0h24v24H0V0z\" fill=\"none\"/>\n",
              "    <path d=\"M18.56 5.44l.94 2.06.94-2.06 2.06-.94-2.06-.94-.94-2.06-.94 2.06-2.06.94zm-11 1L8.5 8.5l.94-2.06 2.06-.94-2.06-.94L8.5 2.5l-.94 2.06-2.06.94zm10 10l.94 2.06.94-2.06 2.06-.94-2.06-.94-.94-2.06-.94 2.06-2.06.94z\"/><path d=\"M17.41 7.96l-1.37-1.37c-.4-.4-.92-.59-1.43-.59-.52 0-1.04.2-1.43.59L10.3 9.45l-7.72 7.72c-.78.78-.78 2.05 0 2.83L4 21.41c.39.39.9.59 1.41.59.51 0 1.02-.2 1.41-.59l7.78-7.78 2.81-2.81c.8-.78.8-2.07 0-2.86zM5.41 20L4 18.59l7.72-7.72 1.47 1.35L5.41 20z\"/>\n",
              "  </svg>\n",
              "      </button>\n",
              "      \n",
              "  <style>\n",
              "    .colab-df-container {\n",
              "      display:flex;\n",
              "      flex-wrap:wrap;\n",
              "      gap: 12px;\n",
              "    }\n",
              "\n",
              "    .colab-df-convert {\n",
              "      background-color: #E8F0FE;\n",
              "      border: none;\n",
              "      border-radius: 50%;\n",
              "      cursor: pointer;\n",
              "      display: none;\n",
              "      fill: #1967D2;\n",
              "      height: 32px;\n",
              "      padding: 0 0 0 0;\n",
              "      width: 32px;\n",
              "    }\n",
              "\n",
              "    .colab-df-convert:hover {\n",
              "      background-color: #E2EBFA;\n",
              "      box-shadow: 0px 1px 2px rgba(60, 64, 67, 0.3), 0px 1px 3px 1px rgba(60, 64, 67, 0.15);\n",
              "      fill: #174EA6;\n",
              "    }\n",
              "\n",
              "    [theme=dark] .colab-df-convert {\n",
              "      background-color: #3B4455;\n",
              "      fill: #D2E3FC;\n",
              "    }\n",
              "\n",
              "    [theme=dark] .colab-df-convert:hover {\n",
              "      background-color: #434B5C;\n",
              "      box-shadow: 0px 1px 3px 1px rgba(0, 0, 0, 0.15);\n",
              "      filter: drop-shadow(0px 1px 2px rgba(0, 0, 0, 0.3));\n",
              "      fill: #FFFFFF;\n",
              "    }\n",
              "  </style>\n",
              "\n",
              "      <script>\n",
              "        const buttonEl =\n",
              "          document.querySelector('#df-f81f64da-0e4e-4a6d-b21f-2560bc6d3306 button.colab-df-convert');\n",
              "        buttonEl.style.display =\n",
              "          google.colab.kernel.accessAllowed ? 'block' : 'none';\n",
              "\n",
              "        async function convertToInteractive(key) {\n",
              "          const element = document.querySelector('#df-f81f64da-0e4e-4a6d-b21f-2560bc6d3306');\n",
              "          const dataTable =\n",
              "            await google.colab.kernel.invokeFunction('convertToInteractive',\n",
              "                                                     [key], {});\n",
              "          if (!dataTable) return;\n",
              "\n",
              "          const docLinkHtml = 'Like what you see? Visit the ' +\n",
              "            '<a target=\"_blank\" href=https://colab.research.google.com/notebooks/data_table.ipynb>data table notebook</a>'\n",
              "            + ' to learn more about interactive tables.';\n",
              "          element.innerHTML = '';\n",
              "          dataTable['output_type'] = 'display_data';\n",
              "          await google.colab.output.renderOutput(dataTable, element);\n",
              "          const docLink = document.createElement('div');\n",
              "          docLink.innerHTML = docLinkHtml;\n",
              "          element.appendChild(docLink);\n",
              "        }\n",
              "      </script>\n",
              "    </div>\n",
              "  </div>\n",
              "  "
            ]
          },
          "metadata": {},
          "execution_count": 65
        }
      ]
    },
    {
      "cell_type": "code",
      "source": [
        "stop_word = ''\n",
        "for i in ko_stopword['불용어']:\n",
        "  stop_word = stop_word + i + ' '\n",
        "\n",
        "stop_word = stop_word.strip()\n",
        "stop_word_list = list(set(stop_word.split()))\n",
        "stop_word_list"
      ],
      "metadata": {
        "id": "5qxeFaf0iLLO",
        "colab": {
          "base_uri": "https://localhost:8080/"
        },
        "outputId": "e1818b72-afef-400c-d222-b0b378a1d3ca"
      },
      "execution_count": 66,
      "outputs": [
        {
          "output_type": "execute_result",
          "data": {
            "text/plain": [
              "['붕붕',\n",
              " '하기는한데',\n",
              " '여보시오',\n",
              " '즈음하여',\n",
              " '외에도',\n",
              " '정도의',\n",
              " '그렇지만',\n",
              " '두번째로',\n",
              " '삼',\n",
              " '까닭으로',\n",
              " '로부터',\n",
              " '지경이다',\n",
              " '갖고말하자면',\n",
              " '응',\n",
              " '여섯',\n",
              " '약간',\n",
              " '말하자면',\n",
              " '따름이다',\n",
              " '헉헉',\n",
              " '네',\n",
              " '앗',\n",
              " '만일',\n",
              " '각자',\n",
              " '불구하고',\n",
              " '하든지',\n",
              " '없다',\n",
              " '좀',\n",
              " '아니다',\n",
              " '그래서',\n",
              " '이천구',\n",
              " '와',\n",
              " '전자',\n",
              " '해도된다',\n",
              " '기타',\n",
              " '다섯',\n",
              " '비추어',\n",
              " '앞에서',\n",
              " '어찌하여',\n",
              " '했어요',\n",
              " '어찌됏어',\n",
              " '하고있었다',\n",
              " '어느곳',\n",
              " '언젠가',\n",
              " '와아',\n",
              " '이렇구나',\n",
              " '팔',\n",
              " '얼마',\n",
              " '오로지',\n",
              " '팍',\n",
              " '주저하지',\n",
              " '지만',\n",
              " '한적이있다',\n",
              " '어기여차',\n",
              " '않으면',\n",
              " '응당',\n",
              " '매번',\n",
              " '한하다',\n",
              " '아니라',\n",
              " '요만한걸',\n",
              " '하도다',\n",
              " '않다면',\n",
              " '따라',\n",
              " '고로',\n",
              " '해요',\n",
              " '한항목',\n",
              " '그럼에도',\n",
              " '따라서',\n",
              " '하겠는가',\n",
              " '인하여',\n",
              " '하도록시키다',\n",
              " '중의하나',\n",
              " '봐',\n",
              " '쓰여',\n",
              " '구',\n",
              " '이러이러하다',\n",
              " '흐흐',\n",
              " '저것만큼',\n",
              " '한',\n",
              " '조금',\n",
              " '안다',\n",
              " '때문에',\n",
              " '더불어',\n",
              " '다음에',\n",
              " '헐떡헐떡',\n",
              " '하하',\n",
              " '둥둥',\n",
              " '즉',\n",
              " '아무도',\n",
              " '어째서',\n",
              " '로',\n",
              " '하게하다',\n",
              " '허허',\n",
              " '그렇지않으면',\n",
              " '휴',\n",
              " '다시말하면',\n",
              " '훨씬',\n",
              " '그',\n",
              " '따르는',\n",
              " '하여금',\n",
              " '어떤것들',\n",
              " '이와같다면',\n",
              " '삐걱',\n",
              " '일곱',\n",
              " '과',\n",
              " '여',\n",
              " '시간',\n",
              " '해야한다',\n",
              " '비록',\n",
              " '어찌됏든',\n",
              " '의지하여',\n",
              " '되다',\n",
              " '하자마자',\n",
              " '관련이',\n",
              " '다만',\n",
              " '기대여',\n",
              " '등',\n",
              " '뚝뚝',\n",
              " '가서',\n",
              " '더욱더',\n",
              " '하도록하다',\n",
              " '곧',\n",
              " '낼',\n",
              " '아홉',\n",
              " '남짓',\n",
              " '헉',\n",
              " '만',\n",
              " '누구',\n",
              " '당신',\n",
              " '그런',\n",
              " '겨우',\n",
              " '점에서',\n",
              " '토하다',\n",
              " '당장',\n",
              " '할만하다',\n",
              " '뒤따라',\n",
              " '연관되다',\n",
              " '결과에',\n",
              " '소인',\n",
              " '어느때',\n",
              " '자마자',\n",
              " '아이야',\n",
              " '야',\n",
              " '구체적으로',\n",
              " '이리하여',\n",
              " '말하면',\n",
              " '쾅쾅',\n",
              " '참나',\n",
              " '아이고',\n",
              " '잠깐',\n",
              " '못하다',\n",
              " '설사',\n",
              " '여러분',\n",
              " '줄',\n",
              " '펄렁',\n",
              " '아래윗',\n",
              " '그런즉',\n",
              " '생각한대로',\n",
              " '인',\n",
              " '도착하다',\n",
              " '운운',\n",
              " '놀라다',\n",
              " '저',\n",
              " '혹시',\n",
              " '동시에',\n",
              " '잇따라',\n",
              " '아',\n",
              " '만큼',\n",
              " '듯하다',\n",
              " '결국',\n",
              " '이천칠',\n",
              " '뿐이다',\n",
              " '하마터면',\n",
              " '마저',\n",
              " '무릎쓰고',\n",
              " '하더라도',\n",
              " '이봐',\n",
              " '할지라도',\n",
              " '하게될것이다',\n",
              " '오자마자',\n",
              " '막론하고',\n",
              " '틀림없다',\n",
              " '같이',\n",
              " '다음',\n",
              " '얼마든지',\n",
              " '물론',\n",
              " '이르기까지',\n",
              " '같다',\n",
              " '좋아',\n",
              " '게다가',\n",
              " '거니와',\n",
              " '한켠으로는',\n",
              " '여기',\n",
              " '후',\n",
              " '시작하여',\n",
              " '하기만',\n",
              " '거의',\n",
              " '이쪽',\n",
              " '된이상',\n",
              " '저기',\n",
              " '너희',\n",
              " '여전히',\n",
              " '와르르',\n",
              " '소생',\n",
              " '어이',\n",
              " '마치',\n",
              " '바꾸어서',\n",
              " '하는것도',\n",
              " '이런',\n",
              " '이만큼',\n",
              " '혼자',\n",
              " '실로',\n",
              " '함께',\n",
              " '자신',\n",
              " '에게',\n",
              " '오',\n",
              " '딱',\n",
              " '으로',\n",
              " '우에',\n",
              " '반드시',\n",
              " '더군다나',\n",
              " '않도록',\n",
              " '이렇게말하자면',\n",
              " '로써',\n",
              " '그중에서',\n",
              " '요컨대',\n",
              " '많은',\n",
              " '아니나다를가',\n",
              " '너',\n",
              " '륙',\n",
              " '이용하여',\n",
              " '바꾸어말하자면',\n",
              " '댕그',\n",
              " '으로서',\n",
              " '아이쿠',\n",
              " '아이구',\n",
              " '가령',\n",
              " '말할것도',\n",
              " '총적으로',\n",
              " '관해서는',\n",
              " '끙끙',\n",
              " '정도에',\n",
              " '여차',\n",
              " '일단',\n",
              " '이유는',\n",
              " '서술한바와같이',\n",
              " '것과',\n",
              " '낫다',\n",
              " '에',\n",
              " '그러므로',\n",
              " '따지지',\n",
              " '양자',\n",
              " '매',\n",
              " '심지어',\n",
              " '타인',\n",
              " '이천육',\n",
              " '김에',\n",
              " '대로',\n",
              " '비로소',\n",
              " '일때',\n",
              " '그에',\n",
              " '조차',\n",
              " '이렇게되면',\n",
              " '무엇때문에',\n",
              " '콸콸',\n",
              " '몇',\n",
              " '얼마큼',\n",
              " '허걱',\n",
              " '그럼',\n",
              " '하지',\n",
              " '향하다',\n",
              " '윙윙',\n",
              " '힘이',\n",
              " '것들',\n",
              " '불문하고',\n",
              " '비슷하다',\n",
              " '하면서',\n",
              " '제외하고',\n",
              " '대하여',\n",
              " '만은',\n",
              " '그래',\n",
              " '어찌',\n",
              " '누가',\n",
              " '아니면',\n",
              " '탕탕',\n",
              " '어떠한',\n",
              " '가',\n",
              " '까지',\n",
              " '이러한',\n",
              " '하지만',\n",
              " '그렇지',\n",
              " '지말고',\n",
              " '버금',\n",
              " '마음대로',\n",
              " '어쨋든',\n",
              " '삐걱거리다',\n",
              " '틈타',\n",
              " '때가',\n",
              " '으로써',\n",
              " '옆사람',\n",
              " '영',\n",
              " '뒤이어',\n",
              " '따위',\n",
              " '의해서',\n",
              " '고려하면',\n",
              " '위해서',\n",
              " '할망정',\n",
              " '미치다',\n",
              " '하물며',\n",
              " '답다',\n",
              " '어찌하든지',\n",
              " '견지에서',\n",
              " '어쩔수',\n",
              " '한데',\n",
              " '육',\n",
              " '아무거나',\n",
              " '마저도',\n",
              " '향하여',\n",
              " '뿐만아니라',\n",
              " '해봐요',\n",
              " '나머지는',\n",
              " '보면',\n",
              " '그래도',\n",
              " '시초에',\n",
              " '바꿔',\n",
              " '인젠',\n",
              " '예',\n",
              " '기준으로',\n",
              " '밖에',\n",
              " '및',\n",
              " '차라리',\n",
              " '보드득',\n",
              " '왜',\n",
              " '어떤',\n",
              " '관한',\n",
              " '을',\n",
              " '퉤',\n",
              " '오직',\n",
              " '어느쪽',\n",
              " '설령',\n",
              " '저것',\n",
              " '쪽으로',\n",
              " '공동으로',\n",
              " '달려',\n",
              " '할지언정',\n",
              " '통하여',\n",
              " '그때',\n",
              " '다음으로',\n",
              " '흥',\n",
              " '함으로써',\n",
              " '동안',\n",
              " '있다',\n",
              " '그저',\n",
              " '근거로',\n",
              " '나',\n",
              " '휘익',\n",
              " '툭',\n",
              " '자',\n",
              " '하곤하였다',\n",
              " '둘',\n",
              " '넷',\n",
              " '한다면',\n",
              " '위하여',\n",
              " '알았어',\n",
              " '하면',\n",
              " '제각기',\n",
              " '대하면',\n",
              " '전후',\n",
              " '아니',\n",
              " '구토하다',\n",
              " '만약에',\n",
              " '바꾸어말하면',\n",
              " '무렵',\n",
              " '대해',\n",
              " '다시',\n",
              " '지든지',\n",
              " '저쪽',\n",
              " '를',\n",
              " '오호',\n",
              " '까악',\n",
              " '등등',\n",
              " '하면된다',\n",
              " '논하지',\n",
              " '무엇',\n",
              " '어떤것',\n",
              " '의거하여',\n",
              " '또한',\n",
              " '그렇게',\n",
              " '메쓰겁다',\n",
              " '즉시',\n",
              " '습니다',\n",
              " '그위에',\n",
              " '아야',\n",
              " '일반적으로',\n",
              " '그러한즉',\n",
              " '그러나',\n",
              " '시키다',\n",
              " '아하',\n",
              " '만이',\n",
              " '보다더',\n",
              " '보는데서',\n",
              " '남들',\n",
              " '그들',\n",
              " '월',\n",
              " '이럴정도로',\n",
              " '그러면',\n",
              " '안된다',\n",
              " '자기',\n",
              " '일지라도',\n",
              " '이래',\n",
              " '몰랏다',\n",
              " '셋',\n",
              " '그리하여',\n",
              " '이유만으로',\n",
              " '않는다면',\n",
              " '않고',\n",
              " '상대적으로',\n",
              " '아울러',\n",
              " '임에',\n",
              " '그만이다',\n",
              " '영차',\n",
              " '이르다',\n",
              " '저희',\n",
              " '하나',\n",
              " '오르다',\n",
              " '까닭에',\n",
              " '설마',\n",
              " '반대로',\n",
              " '도달하다',\n",
              " '하고',\n",
              " '들면',\n",
              " '결론을',\n",
              " '여부',\n",
              " '년도',\n",
              " '하느니',\n",
              " '그치지',\n",
              " '비하면',\n",
              " '진짜로',\n",
              " '해서는',\n",
              " '본대로',\n",
              " '관하여',\n",
              " '하여야',\n",
              " '이로',\n",
              " '할줄알다',\n",
              " '입장에서',\n",
              " '만약',\n",
              " '할',\n",
              " '오히려',\n",
              " '주룩주룩',\n",
              " '하기',\n",
              " '모두',\n",
              " '잠시',\n",
              " '향해서',\n",
              " '기점으로',\n",
              " '조차도',\n",
              " '때',\n",
              " '외에',\n",
              " '입각하여',\n",
              " '의',\n",
              " '다소',\n",
              " '이',\n",
              " '이때',\n",
              " '다수',\n",
              " '이었다',\n",
              " '우리',\n",
              " '비길수',\n",
              " '관계없이',\n",
              " '아니었다면',\n",
              " '허',\n",
              " '우리들',\n",
              " '바로',\n",
              " '어느',\n",
              " '이상',\n",
              " '령',\n",
              " '거바',\n",
              " '에서',\n",
              " '이번',\n",
              " '종합한것과같이',\n",
              " '사',\n",
              " '개의치않고',\n",
              " '까지도',\n",
              " '위에서',\n",
              " '쿵',\n",
              " '라',\n",
              " '겸사겸사',\n",
              " '퍽',\n",
              " '딩동',\n",
              " '습니까',\n",
              " '요만큼',\n",
              " '의해되다',\n",
              " '하기보다는',\n",
              " '들',\n",
              " '솨',\n",
              " '너희들',\n",
              " '좍좍',\n",
              " '힘입어',\n",
              " '우르르',\n",
              " '할때',\n",
              " '각종',\n",
              " '않기',\n",
              " '이외에도',\n",
              " '얼마나',\n",
              " '어떻게',\n",
              " '사람들',\n",
              " '의해',\n",
              " '이와',\n",
              " '언제',\n",
              " '얼마간',\n",
              " '하기에',\n",
              " '몰라도',\n",
              " '이지만',\n",
              " '칠',\n",
              " '더라도',\n",
              " '해도',\n",
              " '이젠',\n",
              " '관계가',\n",
              " '할수있어',\n",
              " '알겠는가',\n",
              " '알',\n",
              " '하는바',\n",
              " '부류의',\n",
              " '하다',\n",
              " '일것이다',\n",
              " '엉엉',\n",
              " '얼마만큼',\n",
              " '부터',\n",
              " '요만한',\n",
              " '졸졸',\n",
              " '전부',\n",
              " '이곳',\n",
              " '그러니',\n",
              " '보아',\n",
              " '수',\n",
              " '타다',\n",
              " '된바에야',\n",
              " '그러니까',\n",
              " '이렇게',\n",
              " '봐라',\n",
              " '아니라면',\n",
              " '쉿',\n",
              " '그런데',\n",
              " '없고',\n",
              " '예를',\n",
              " '단지',\n",
              " '하려고하다',\n",
              " '하구나',\n",
              " '들자면',\n",
              " '한마디',\n",
              " '형식으로',\n",
              " '줄은',\n",
              " '다른',\n",
              " '예하면',\n",
              " '과연',\n",
              " '제',\n",
              " '어디',\n",
              " '되는',\n",
              " '꽈당',\n",
              " '어느것',\n",
              " '하는',\n",
              " '근거하여',\n",
              " '방면으로',\n",
              " '모',\n",
              " '일',\n",
              " '해도좋다',\n",
              " '어느해',\n",
              " '어때',\n",
              " '앞의것',\n",
              " '무슨',\n",
              " '끼익',\n",
              " '되어',\n",
              " '우선',\n",
              " '가까스로',\n",
              " '쳇',\n",
              " '시각',\n",
              " '이라면',\n",
              " '이것',\n",
              " '그리고',\n",
              " '이천팔',\n",
              " '대해서',\n",
              " '비걱거리다',\n",
              " '자기집',\n",
              " '예컨대',\n",
              " '할수록',\n",
              " '각각',\n",
              " '여덟',\n",
              " '편이',\n",
              " '생각이다',\n",
              " '하',\n",
              " '하는것만',\n",
              " '년',\n",
              " '첫번째로',\n",
              " '비교적',\n",
              " '않다',\n",
              " '게우다',\n",
              " '이어서',\n",
              " '아이',\n",
              " '안',\n",
              " '또',\n",
              " '왜냐하면',\n",
              " '줄은모른다',\n",
              " '바와같이',\n",
              " '하는것이',\n",
              " '뿐만',\n",
              " '참',\n",
              " '더구나',\n",
              " '연이서',\n",
              " '각',\n",
              " '중에서',\n",
              " '어',\n",
              " '혹은',\n",
              " '더욱이는',\n",
              " '것',\n",
              " '어떻해',\n",
              " '할뿐',\n",
              " '같은',\n",
              " '하지마라',\n",
              " '할수있다',\n",
              " '든간에',\n",
              " '하지마']"
            ]
          },
          "metadata": {},
          "execution_count": 66
        }
      ]
    },
    {
      "cell_type": "code",
      "source": [
        "def build_corpus(sen):\n",
        "\n",
        "  mecab = Mecab()\n",
        "\n",
        "  corpus = mecab.morphs(sen)\n",
        "  corpus = [x for x in corpus if not x in stop_word_list]\n",
        "\n",
        "  return corpus"
      ],
      "metadata": {
        "id": "GLWzpboKawhX"
      },
      "execution_count": 67,
      "outputs": []
    },
    {
      "cell_type": "code",
      "source": [
        "# 협박 대화 말뭉치\n",
        "threat_corpus = [build_corpus(sen) for sen in threat['conversation']]\n",
        "\n",
        "# 갈취 대화 말뭉치\n",
        "extort_corpus = [build_corpus(sen) for sen in extort['conversation']]\n",
        "\n",
        "# 직장 내 괴롭힘 대화 말뭉치\n",
        "workplace_bull_corpus = [build_corpus(sen) for sen in workplace_bull['conversation']]\n",
        "\n",
        "# 기타 괴롭힘 대화 말뭉치\n",
        "other_bull_corpus = [build_corpus(sen) for sen in other_bull['conversation']]"
      ],
      "metadata": {
        "id": "UPiyPQUObBAn"
      },
      "execution_count": 68,
      "outputs": []
    },
    {
      "cell_type": "code",
      "source": [
        "threat_corpus[1]"
      ],
      "metadata": {
        "colab": {
          "base_uri": "https://localhost:8080/"
        },
        "id": "GkxQqMy8kWhi",
        "outputId": "fe61e950-b8c9-41d7-f5a1-bec10a078c5d"
      },
      "execution_count": 69,
      "outputs": [
        {
          "output_type": "execute_result",
          "data": {
            "text/plain": [
              "['내',\n",
              " '지갑',\n",
              " '손',\n",
              " '댔',\n",
              " '지',\n",
              " '?',\n",
              " '내',\n",
              " '돈',\n",
              " '내놔',\n",
              " '.',\n",
              " '에요',\n",
              " '.',\n",
              " '.',\n",
              " '돈',\n",
              " '있',\n",
              " '잖아',\n",
              " '.',\n",
              " '속옷',\n",
              " '속',\n",
              " '숨겨',\n",
              " '놓',\n",
              " '으면',\n",
              " '못',\n",
              " '찾',\n",
              " '았',\n",
              " '?',\n",
              " '그거',\n",
              " '돈',\n",
              " '에요',\n",
              " '.',\n",
              " '서',\n",
              " '개',\n",
              " '구라',\n",
              " '쳐',\n",
              " '?',\n",
              " '맞',\n",
              " '정신',\n",
              " '차리',\n",
              " '지',\n",
              " '?',\n",
              " '이거',\n",
              " '습관',\n",
              " '성',\n",
              " '.',\n",
              " '도벽',\n",
              " '없',\n",
              " '어요',\n",
              " '.',\n",
              " '어라',\n",
              " '?',\n",
              " '이딴',\n",
              " '식',\n",
              " '나오',\n",
              " '겟',\n",
              " '다',\n",
              " '?',\n",
              " '정신',\n",
              " '머리',\n",
              " '글러',\n",
              " '먹',\n",
              " '었',\n",
              " '구나',\n",
              " '?',\n",
              " '죄송',\n",
              " '.',\n",
              " '로와',\n",
              " '.',\n",
              " '죽여',\n",
              " '버릴',\n",
              " '거',\n",
              " '.',\n",
              " '죽',\n",
              " '어야',\n",
              " '정신',\n",
              " '차리',\n",
              " '지',\n",
              " '.',\n",
              " '정신',\n",
              " '차릴',\n",
              " '게',\n",
              " '요',\n",
              " '.',\n",
              " '죄송',\n",
              " '.']"
            ]
          },
          "metadata": {},
          "execution_count": 69
        }
      ]
    },
    {
      "cell_type": "markdown",
      "source": [
        "불용어를 없애주는 작업을 진행했음 \n",
        "\n",
        "불용어를 없애는 게 도움이 더 될거라 생각했지만 `'맞아야' -> '맞'+'아야' -> 불용어 '아야'삭제 -> '맞'` 같이 바뀌는 경우가 있어서 오히려 의미전달은 더 힘들어보임.\n",
        "\n",
        "분석을 어떤식으로 해야할지도 고민해봐야겠음. "
      ],
      "metadata": {
        "id": "Rqu4bPaZlfNb"
      }
    },
    {
      "cell_type": "markdown",
      "source": [
        "- 대화 유형별 길이 분포 확인"
      ],
      "metadata": {
        "id": "UkIVb3aXNVv4"
      }
    },
    {
      "cell_type": "code",
      "source": [
        "# 협박 대화 길이 분포\n",
        "min_len = 999\n",
        "max_len = 0\n",
        "sum_len = 0\n",
        "\n",
        "for sen in threat_corpus:\n",
        "  length = len(sen)\n",
        "  if min_len > length:\n",
        "    min_len = length\n",
        "  if max_len < length:\n",
        "    max_len = length\n",
        "  sum_len += length\n",
        "\n",
        "print('문장의 최단 길이 : ', min_len)\n",
        "print('문장의 최장 길이 : ', max_len)\n",
        "print('문장의 평균 길이 : ', sum_len //len(threat_corpus))\n",
        "\n",
        "sentence_length = [len(x) for x in threat_corpus]\n",
        "\n",
        "plt.hist(sentence_length, bins = np.arange(20, 300))\n",
        "plt.title('협박 대화 길이 분포')\n",
        "plt.show()"
      ],
      "metadata": {
        "colab": {
          "base_uri": "https://localhost:8080/",
          "height": 334
        },
        "id": "A9S5S1nINPR9",
        "outputId": "7d302522-b49a-4943-b1cf-3a938a7a9e6c"
      },
      "execution_count": 70,
      "outputs": [
        {
          "output_type": "stream",
          "name": "stdout",
          "text": [
            "문장의 최단 길이 :  21\n",
            "문장의 최장 길이 :  294\n",
            "문장의 평균 길이 :  88\n"
          ]
        },
        {
          "output_type": "display_data",
          "data": {
            "text/plain": [
              "<Figure size 432x288 with 1 Axes>"
            ],
            "image/png": "[encoded data removed]"
          },
          "metadata": {
            "needs_background": "light"
          }
        }
      ]
    },
    {
      "cell_type": "markdown",
      "source": [
        "- 단어의(토큰) 빈도 확인"
      ],
      "metadata": {
        "id": "EgzmcrHAmjhV"
      }
    },
    {
      "cell_type": "code",
      "source": [
        "from collections import defaultdict\n",
        "\n",
        "token = []\n",
        "\n",
        "for x in threat_corpus:\n",
        "  for i in x:\n",
        "    token.append(i)\n",
        "    \n",
        "dic = defaultdict(int)\n",
        "for word in token:\n",
        "  dic[word] += 1\n",
        "\n",
        "top = sorted(dic.items(), key=lambda x : x[1], reverse=True)[:30] # 1\n",
        "\n",
        "x, y = zip(*top) # 2\n",
        "plt.rcParams['figure.figsize'] = (20, 10)\n",
        "plt.bar(x, y, color='red')"
      ],
      "metadata": {
        "colab": {
          "base_uri": "https://localhost:8080/",
          "height": 610
        },
        "id": "Dq-iVSt2mAbZ",
        "outputId": "dfad571e-20b8-4815-f41c-6245023fd24b"
      },
      "execution_count": 71,
      "outputs": [
        {
          "output_type": "execute_result",
          "data": {
            "text/plain": [
              "<BarContainer object of 30 artists>"
            ]
          },
          "metadata": {},
          "execution_count": 71
        },
        {
          "output_type": "display_data",
          "data": {
            "text/plain": [
              "<Figure size 1440x720 with 1 Axes>"
            ],
            "image/png": "[encoded data removed]"
          },
          "metadata": {
            "needs_background": "light"
          }
        }
      ]
    },
    {
      "cell_type": "markdown",
      "source": [
        "토큰 빈도수를 확인해보면 의미를 도출하기가 너무 힘들어보임.\n",
        "\n",
        "여기서 EDA를 더 진행하는 건 의미가 없을 것 같아서 다른 방법으로 토큰화를 진행하기로함."
      ],
      "metadata": {
        "id": "e70ByyiYxl7M"
      }
    },
    {
      "cell_type": "markdown",
      "source": [
        "- 맞춤법 검사기\n",
        "\n",
        "다른 방법의 토큰화 과정으로 생각한 것은 아래와 같음.\n",
        "1. 먼저 맞춤법 검사기를 사용해서 모든 대화의 맞춤법을 검사함\n",
        "2. 수정된 문장을 이용하여 단순하게 띄어쓰기 단위로 토큰화하여 빈도수를 측정"
      ],
      "metadata": {
        "id": "o0ryGOIkvV7y"
      }
    },
    {
      "cell_type": "code",
      "source": [
        "!pip install requests"
      ],
      "metadata": {
        "colab": {
          "base_uri": "https://localhost:8080/"
        },
        "id": "aFpllv5wnDmh",
        "outputId": "5d02bba9-6cd3-4785-f4b7-9f8615703cbc"
      },
      "execution_count": 72,
      "outputs": [
        {
          "output_type": "stream",
          "name": "stdout",
          "text": [
            "Looking in indexes: https://pypi.org/simple, https://us-python.pkg.dev/colab-wheels/public/simple/\n",
            "Requirement already satisfied: requests in /usr/local/lib/python3.7/dist-packages (2.23.0)\n",
            "Requirement already satisfied: chardet<4,>=3.0.2 in /usr/local/lib/python3.7/dist-packages (from requests) (3.0.4)\n",
            "Requirement already satisfied: urllib3!=1.25.0,!=1.25.1,<1.26,>=1.21.1 in /usr/local/lib/python3.7/dist-packages (from requests) (1.24.3)\n",
            "Requirement already satisfied: idna<3,>=2.5 in /usr/local/lib/python3.7/dist-packages (from requests) (2.10)\n",
            "Requirement already satisfied: certifi>=2017.4.17 in /usr/local/lib/python3.7/dist-packages (from requests) (2022.9.24)\n"
          ]
        }
      ]
    },
    {
      "cell_type": "code",
      "source": [
        "cd '/content/drive/MyDrive/AIFFELTHON/맞춤법검사'"
      ],
      "metadata": {
        "colab": {
          "base_uri": "https://localhost:8080/"
        },
        "id": "1vK8raDsqyGh",
        "outputId": "263674da-c949-46bd-f408-79438c1ac3d5"
      },
      "execution_count": 73,
      "outputs": [
        {
          "output_type": "stream",
          "name": "stdout",
          "text": [
            "/content/drive/MyDrive/AIFFELTHON/맞춤법검사\n"
          ]
        }
      ]
    },
    {
      "cell_type": "code",
      "source": [
        "!git clone https://github.com/ssut/py-hanspell.git"
      ],
      "metadata": {
        "colab": {
          "base_uri": "https://localhost:8080/"
        },
        "id": "Ge_g7lUwtFtV",
        "outputId": "971f761a-3c29-47f8-a2a0-0a36e21123bf"
      },
      "execution_count": 74,
      "outputs": [
        {
          "output_type": "stream",
          "name": "stdout",
          "text": [
            "fatal: destination path 'py-hanspell' already exists and is not an empty directory.\n"
          ]
        }
      ]
    },
    {
      "cell_type": "code",
      "source": [
        "cd '/content/drive/MyDrive/AIFFELTHON/맞춤법검사/py-hanspell'"
      ],
      "metadata": {
        "colab": {
          "base_uri": "https://localhost:8080/"
        },
        "id": "OaK1mTXHtaot",
        "outputId": "5452b60d-2583-4508-f545-d95bba637ca6"
      },
      "execution_count": 75,
      "outputs": [
        {
          "output_type": "stream",
          "name": "stdout",
          "text": [
            "/content/drive/MyDrive/AIFFELTHON/맞춤법검사/py-hanspell\n"
          ]
        }
      ]
    },
    {
      "cell_type": "code",
      "source": [
        "!python setup.py install"
      ],
      "metadata": {
        "id": "5Ugc8eXqtrkf",
        "colab": {
          "base_uri": "https://localhost:8080/"
        },
        "outputId": "36f08acd-04a8-4d2e-a6a0-7df48cf3a269"
      },
      "execution_count": 76,
      "outputs": [
        {
          "output_type": "stream",
          "name": "stdout",
          "text": [
            "/usr/local/lib/python3.7/dist-packages/setuptools/dist.py:700: UserWarning: Usage of dash-separated 'description-file' will not be supported in future versions. Please use the underscore name 'description_file' instead\n",
            "  % (opt, underscore_opt))\n",
            "running install\n",
            "running bdist_egg\n",
            "running egg_info\n",
            "writing py_hanspell.egg-info/PKG-INFO\n",
            "writing dependency_links to py_hanspell.egg-info/dependency_links.txt\n",
            "writing requirements to py_hanspell.egg-info/requires.txt\n",
            "writing top-level names to py_hanspell.egg-info/top_level.txt\n",
            "adding license file 'LICENSE'\n",
            "writing manifest file 'py_hanspell.egg-info/SOURCES.txt'\n",
            "installing library code to build/bdist.linux-x86_64/egg\n",
            "running install_lib\n",
            "running build_py\n",
            "creating build/bdist.linux-x86_64/egg\n",
            "creating build/bdist.linux-x86_64/egg/hanspell\n",
            "copying build/lib/hanspell/spell_checker.py -> build/bdist.linux-x86_64/egg/hanspell\n",
            "copying build/lib/hanspell/response.py -> build/bdist.linux-x86_64/egg/hanspell\n",
            "copying build/lib/hanspell/constants.py -> build/bdist.linux-x86_64/egg/hanspell\n",
            "copying build/lib/hanspell/__init__.py -> build/bdist.linux-x86_64/egg/hanspell\n",
            "byte-compiling build/bdist.linux-x86_64/egg/hanspell/spell_checker.py to spell_checker.cpython-37.pyc\n",
            "byte-compiling build/bdist.linux-x86_64/egg/hanspell/response.py to response.cpython-37.pyc\n",
            "byte-compiling build/bdist.linux-x86_64/egg/hanspell/constants.py to constants.cpython-37.pyc\n",
            "byte-compiling build/bdist.linux-x86_64/egg/hanspell/__init__.py to __init__.cpython-37.pyc\n",
            "creating build/bdist.linux-x86_64/egg/EGG-INFO\n",
            "copying py_hanspell.egg-info/PKG-INFO -> build/bdist.linux-x86_64/egg/EGG-INFO\n",
            "copying py_hanspell.egg-info/SOURCES.txt -> build/bdist.linux-x86_64/egg/EGG-INFO\n",
            "copying py_hanspell.egg-info/dependency_links.txt -> build/bdist.linux-x86_64/egg/EGG-INFO\n",
            "copying py_hanspell.egg-info/requires.txt -> build/bdist.linux-x86_64/egg/EGG-INFO\n",
            "copying py_hanspell.egg-info/top_level.txt -> build/bdist.linux-x86_64/egg/EGG-INFO\n",
            "zip_safe flag not set; analyzing archive contents...\n",
            "creating 'dist/py_hanspell-1.1-py3.7.egg' and adding 'build/bdist.linux-x86_64/egg' to it\n",
            "removing 'build/bdist.linux-x86_64/egg' (and everything under it)\n",
            "Processing py_hanspell-1.1-py3.7.egg\n",
            "Removing /usr/local/lib/python3.7/dist-packages/py_hanspell-1.1-py3.7.egg\n",
            "Copying py_hanspell-1.1-py3.7.egg to /usr/local/lib/python3.7/dist-packages\n",
            "py-hanspell 1.1 is already the active version in easy-install.pth\n",
            "\n",
            "Installed /usr/local/lib/python3.7/dist-packages/py_hanspell-1.1-py3.7.egg\n",
            "Processing dependencies for py-hanspell==1.1\n",
            "Searching for requests==2.23.0\n",
            "Best match: requests 2.23.0\n",
            "Adding requests 2.23.0 to easy-install.pth file\n",
            "\n",
            "Using /usr/local/lib/python3.7/dist-packages\n",
            "Searching for certifi==2022.9.24\n",
            "Best match: certifi 2022.9.24\n",
            "Adding certifi 2022.9.24 to easy-install.pth file\n",
            "\n",
            "Using /usr/local/lib/python3.7/dist-packages\n",
            "Searching for chardet==3.0.4\n",
            "Best match: chardet 3.0.4\n",
            "Adding chardet 3.0.4 to easy-install.pth file\n",
            "Installing chardetect script to /usr/local/bin\n",
            "\n",
            "Using /usr/local/lib/python3.7/dist-packages\n",
            "Searching for urllib3==1.24.3\n",
            "Best match: urllib3 1.24.3\n",
            "Adding urllib3 1.24.3 to easy-install.pth file\n",
            "\n",
            "Using /usr/local/lib/python3.7/dist-packages\n",
            "Searching for idna==2.10\n",
            "Best match: idna 2.10\n",
            "Adding idna 2.10 to easy-install.pth file\n",
            "\n",
            "Using /usr/local/lib/python3.7/dist-packages\n",
            "Finished processing dependencies for py-hanspell==1.1\n"
          ]
        }
      ]
    },
    {
      "cell_type": "code",
      "source": [
        "from hanspell import spell_checker\n",
        " \n",
        "result = spell_checker.check('안녕 하세요. \\n저는 한국인 입니다.')\n",
        " \n",
        "print(result.as_dict())"
      ],
      "metadata": {
        "colab": {
          "base_uri": "https://localhost:8080/"
        },
        "id": "T2hxuaWCuCUP",
        "outputId": "6755eca8-8319-430f-fa9c-587585c8ba89"
      },
      "execution_count": 77,
      "outputs": [
        {
          "output_type": "stream",
          "name": "stdout",
          "text": [
            "{'result': True, 'original': '안녕 하세요. \\n저는 한국인 입니다.', 'checked': '안녕하세요. 저는 한국인입니다.', 'errors': 2, 'words': OrderedDict([('안녕하세요.', 2), ('<br>저는', 0), ('<br><green>한국인입니다.', 0)]), 'time': 0.8171346187591553}\n"
          ]
        }
      ]
    },
    {
      "cell_type": "code",
      "source": [
        "result = spell_checker.check(data['cleaned_sentence'][1])"
      ],
      "metadata": {
        "id": "JszR6_0muJnY"
      },
      "execution_count": 78,
      "outputs": []
    },
    {
      "cell_type": "code",
      "source": [
        "result.as_dict()['checked']+'\\n'"
      ],
      "metadata": {
        "colab": {
          "base_uri": "https://localhost:8080/",
          "height": 72
        },
        "id": "i80Wrblzur_6",
        "outputId": "b0064d42-2255-4e48-b995-f3490ca465e3"
      },
      "execution_count": 79,
      "outputs": [
        {
          "output_type": "execute_result",
          "data": {
            "text/plain": [
              "'야 너 앞니 왜 그렇게 튀어나왔냐?태어날 때부터 그랬어 물어보지 마.아 그럼 태어날 때부터 못 생기 거네?괴롭히지 마 제발아니 너는 내가 말만 하면 괴롭혔다고 한다?혼자 있게 해줘제 혼자 있는 거 같아서 말 걸어줬더니만 나쁜 사람 만드네 그래놓고 왕따시켰다고 말하지나 마 진짜 성격이 왜 그따위야? 가정교육 잘못 받았냐부모님은 건드리지 마어쭈 발끈한다 지도 자식이라 이거지얘 왜 우냐?아니 몰라 제 혼자 갑자기 화내제발 혼자 있게 해줘 내버려 둬이거 왜 또 제 혼자 감성적이냐? 애니 그만 보라 했지완전 얘 코미디언 아니냐\\n'"
            ],
            "application/vnd.google.colaboratory.intrinsic+json": {
              "type": "string"
            }
          },
          "metadata": {},
          "execution_count": 79
        }
      ]
    },
    {
      "cell_type": "code",
      "source": [
        "spell_checker.check(data['label_sentence'][1]).as_dict()['checked']"
      ],
      "metadata": {
        "colab": {
          "base_uri": "https://localhost:8080/",
          "height": 72
        },
        "id": "mJ8yKRxczbE3",
        "outputId": "b6c99efe-899e-4404-e51b-d11d42ec7211"
      },
      "execution_count": 80,
      "outputs": [
        {
          "output_type": "execute_result",
          "data": {
            "text/plain": [
              "'1:야 너 앞니 왜 그렇게 튀어나왔냐?2:태어날 때부터 그랬어 물어보지 마.1:아 그럼 태어날 때부터 못 생기 거네?2:괴롭히지 마 제발1:아니 너는 내가 말만 하면 괴롭혔다고 한다?2:혼자 있게 해줘1:제 혼자 있는 거 같아서 말 걸어줬더니만 나쁜 사람 만드네 그래놓고 왕따시켰다고 말하지나 마 진짜 성격이 왜 그따위야? 가정교육 잘못 받았냐2:부모님은 건드리지 마1:어쭈 발끈한다 지도 자식이라 이거지1:얘 왜 우냐?1:아니 몰라 제 혼자 갑자기 화내2:제발 혼자 있게 해줘 내버려 둬1:이거 왜 또 제 혼자 감성적이냐? 애니 그만 보라 했지1:완전 얘 코미디언 아니냐'"
            ],
            "application/vnd.google.colaboratory.intrinsic+json": {
              "type": "string"
            }
          },
          "metadata": {},
          "execution_count": 80
        }
      ]
    },
    {
      "cell_type": "markdown",
      "source": [
        "맞춤법 검사기가 잘 작동하는 것을 보았으니 이제 데이터 전체에대해서 맞춤법 검사를 진행해줌"
      ],
      "metadata": {
        "id": "HKAisLVjzXnh"
      }
    },
    {
      "cell_type": "code",
      "source": [
        "def spell_check(sen):\n",
        "\n",
        "  sen_list = sen.split('\\n')\n",
        "  checked_list = []\n",
        "  \n",
        "  for i in sen_list:\n",
        "    checked = spell_checker.check(i).as_dict()['checked']\n",
        "    checked_list.append(checked)\n",
        "  \n",
        "  checked_sen = '\\n'.join(checked_list)\n",
        "  return checked_sen"
      ],
      "metadata": {
        "id": "yl5GjMQ1NH9O"
      },
      "execution_count": 81,
      "outputs": []
    },
    {
      "cell_type": "code",
      "source": [
        "print(spell_check(data['label_sentence'][1]))"
      ],
      "metadata": {
        "colab": {
          "base_uri": "https://localhost:8080/"
        },
        "id": "AcOzpd77N4X8",
        "outputId": "f0b746cf-35b9-431e-fc57-23699639efcb"
      },
      "execution_count": 82,
      "outputs": [
        {
          "output_type": "stream",
          "name": "stdout",
          "text": [
            "1:야 너 앞니 왜 그렇게 튀어나왔냐?\n",
            "2:태어날 때부터 그랬어 물어보지 마.\n",
            "1:아 그럼 태어날 때부터 못 생기 거네?\n",
            "2:괴롭히지 마 제발\n",
            "1:아니 너는 내가 말만 하면 괴롭혔다고 한다?\n",
            "2:혼자 있게 해줘\n",
            "1:제 혼자 있는 거 같아서 말 걸어줬더니만 나쁜 사람 만드네 그래놓고 왕따시켰다고 말하지나 마 진짜 성격이 왜 그따위야? 가정교육 잘못 받았냐\n",
            "2:부모님은 건드리지 마\n",
            "1:어쭈 발끈한다 지도 자식이라 이거지\n",
            "1:얘 왜 우냐?\n",
            "1:아니 몰라 제 혼자 갑자기 화내\n",
            "2:제발 혼자 있게 해줘 내버려 둬\n",
            "1:이거 왜 또 제 혼자 감성적이냐? 애니 그만 보라 했지\n",
            "1:완전 얘 코미디언 아니냐\n"
          ]
        }
      ]
    },
    {
      "cell_type": "code",
      "source": [
        "data['spell_checked_conversation'] = data['cleaned_sentence'].apply(lambda x : spell_check(x))"
      ],
      "metadata": {
        "id": "drBF8W2TuyAL"
      },
      "execution_count": 83,
      "outputs": []
    },
    {
      "cell_type": "code",
      "source": [
        "data.to_csv('/content/drive/MyDrive/AIFFELTHON/TUNiB/train_spell_check.csv', index = False)"
      ],
      "metadata": {
        "id": "01-_nsKTa76C"
      },
      "execution_count": 84,
      "outputs": []
    },
    {
      "cell_type": "code",
      "source": [
        "data.head()"
      ],
      "metadata": {
        "colab": {
          "base_uri": "https://localhost:8080/",
          "height": 337
        },
        "id": "u59qQD-vOEgC",
        "outputId": "80ef5cff-7a73-4762-bfa4-b52bf083c450"
      },
      "execution_count": 85,
      "outputs": [
        {
          "output_type": "execute_result",
          "data": {
            "text/plain": [
              "         class                                       conversation  \\\n",
              "0  직장 내 괴롭힘 대화  길동씨 이번에 이것좀 처리해요\\n이거 제가 한게 아닌데요\\n팀에서 내가 니가가 어딨...   \n",
              "1    기타 괴롭힘 대화  야 너 앞니 왜 그렇게 튀어나왔냐?\\n 태어날때부터 그랬어 물어보지마.\\n 아 그럼...   \n",
              "2        갈취 대화  원후야 학원 교재 사야되는데 8만원만 주면 안돼?\\n 미안 나 오늘은 진짜 돈이 없...   \n",
              "3        갈취 대화  너 저번에 술먹은 날 기억해?\\n아니 왜?\\n야 300만원만 가져와.\\n뭔 소리야....   \n",
              "4        협박 대화  너 또 내말 무시하냐?\\n 이새끼 널 좆으로 보나본데?\\n아냐 진짜 시간이 없었어 ...   \n",
              "\n",
              "                     labelling  \\\n",
              "0          1,2,1,2,1,2,1,2,1,2   \n",
              "1  1,2,1,2,1,2,1,2,1,1,1,2,1,1   \n",
              "2          1,2,1,2,1,2,1,2,1,2   \n",
              "3          1,2,1,2,1,2,1,2,1,2   \n",
              "4          1,1,2,1,1,2,1,2,1,1   \n",
              "\n",
              "                                      label_sentence  \\\n",
              "0  1:길동씨 이번에 이것좀 처리해요\\n2:이거 제가 한게 아닌데요\\n1:팀에서 내가 ...   \n",
              "1  1:야 너 앞니 왜 그렇게 튀어나왔냐?\\n2:태어날때부터 그랬어 물어보지마.\\n1:...   \n",
              "2  1:원후야 학원 교재 사야되는데 8만원만 주면 안돼?\\n2:미안 나 오늘은 진짜 돈...   \n",
              "3  1:너 저번에 술먹은 날 기억해?\\n2:아니 왜?\\n1:야 300만원만 가져와.\\n...   \n",
              "4  1:너 또 내말 무시하냐?\\n1:이새끼 널 좆으로 보나본데?\\n2:아냐 진짜 시간이...   \n",
              "\n",
              "                                    cleaned_sentence  \\\n",
              "0  길동씨 이번에 이것좀 처리해요\\n이거 제가 한게 아닌데요\\n팀에서 내가 니가가 어딨...   \n",
              "1  야 너 앞니 왜 그렇게 튀어나왔냐?\\n태어날때부터 그랬어 물어보지마.\\n아 그럼 태...   \n",
              "2  원후야 학원 교재 사야되는데 8만원만 주면 안돼?\\n미안 나 오늘은 진짜 돈이 없어...   \n",
              "3  너 저번에 술먹은 날 기억해?\\n아니 왜?\\n야 300만원만 가져와.\\n뭔 소리야....   \n",
              "4  너 또 내말 무시하냐?\\n이새끼 널 좆으로 보나본데?\\n아냐 진짜 시간이 없었어 미...   \n",
              "\n",
              "                          spell_checked_conversation  \n",
              "0  길동 씨 이번에 이것 좀 처리해요\\n이거 제가 한 게 아닌데요\\n팀에서 내가 네가 ...  \n",
              "1  야 너 앞니 왜 그렇게 튀어나왔냐?\\n태어날 때부터 그랬어 물어보지 마.\\n아 그럼...  \n",
              "2  원후야 학원 교재 사야 되는데 8만 원만 주면 안 돼?\\n미안 나 오늘은 진짜 돈이...  \n",
              "3  너 저번에 술 먹은 날 기억해?\\n아니 왜?\\n야 300만 원만 가져와.\\n뭔 소리...  \n",
              "4  너 또 내말 무시하냐?\\n이 새끼 널 좆으로 보나 본데?\\n아냐 진짜 시간이 없었어...  "
            ],
            "text/html": [
              "\n",
              "  <div id=\"df-42c0497c-d65e-4f9e-be07-d225512510d0\">\n",
              "    <div class=\"colab-df-container\">\n",
              "      <div>\n",
              "<style scoped>\n",
              "    .dataframe tbody tr th:only-of-type {\n",
              "        vertical-align: middle;\n",
              "    }\n",
              "\n",
              "    .dataframe tbody tr th {\n",
              "        vertical-align: top;\n",
              "    }\n",
              "\n",
              "    .dataframe thead th {\n",
              "        text-align: right;\n",
              "    }\n",
              "</style>\n",
              "<table border=\"1\" class=\"dataframe\">\n",
              "  <thead>\n",
              "    <tr style=\"text-align: right;\">\n",
              "      <th></th>\n",
              "      <th>class</th>\n",
              "      <th>conversation</th>\n",
              "      <th>labelling</th>\n",
              "      <th>label_sentence</th>\n",
              "      <th>cleaned_sentence</th>\n",
              "      <th>spell_checked_conversation</th>\n",
              "    </tr>\n",
              "  </thead>\n",
              "  <tbody>\n",
              "    <tr>\n",
              "      <th>0</th>\n",
              "      <td>직장 내 괴롭힘 대화</td>\n",
              "      <td>길동씨 이번에 이것좀 처리해요\\n이거 제가 한게 아닌데요\\n팀에서 내가 니가가 어딨...</td>\n",
              "      <td>1,2,1,2,1,2,1,2,1,2</td>\n",
              "      <td>1:길동씨 이번에 이것좀 처리해요\\n2:이거 제가 한게 아닌데요\\n1:팀에서 내가 ...</td>\n",
              "      <td>길동씨 이번에 이것좀 처리해요\\n이거 제가 한게 아닌데요\\n팀에서 내가 니가가 어딨...</td>\n",
              "      <td>길동 씨 이번에 이것 좀 처리해요\\n이거 제가 한 게 아닌데요\\n팀에서 내가 네가 ...</td>\n",
              "    </tr>\n",
              "    <tr>\n",
              "      <th>1</th>\n",
              "      <td>기타 괴롭힘 대화</td>\n",
              "      <td>야 너 앞니 왜 그렇게 튀어나왔냐?\\n 태어날때부터 그랬어 물어보지마.\\n 아 그럼...</td>\n",
              "      <td>1,2,1,2,1,2,1,2,1,1,1,2,1,1</td>\n",
              "      <td>1:야 너 앞니 왜 그렇게 튀어나왔냐?\\n2:태어날때부터 그랬어 물어보지마.\\n1:...</td>\n",
              "      <td>야 너 앞니 왜 그렇게 튀어나왔냐?\\n태어날때부터 그랬어 물어보지마.\\n아 그럼 태...</td>\n",
              "      <td>야 너 앞니 왜 그렇게 튀어나왔냐?\\n태어날 때부터 그랬어 물어보지 마.\\n아 그럼...</td>\n",
              "    </tr>\n",
              "    <tr>\n",
              "      <th>2</th>\n",
              "      <td>갈취 대화</td>\n",
              "      <td>원후야 학원 교재 사야되는데 8만원만 주면 안돼?\\n 미안 나 오늘은 진짜 돈이 없...</td>\n",
              "      <td>1,2,1,2,1,2,1,2,1,2</td>\n",
              "      <td>1:원후야 학원 교재 사야되는데 8만원만 주면 안돼?\\n2:미안 나 오늘은 진짜 돈...</td>\n",
              "      <td>원후야 학원 교재 사야되는데 8만원만 주면 안돼?\\n미안 나 오늘은 진짜 돈이 없어...</td>\n",
              "      <td>원후야 학원 교재 사야 되는데 8만 원만 주면 안 돼?\\n미안 나 오늘은 진짜 돈이...</td>\n",
              "    </tr>\n",
              "    <tr>\n",
              "      <th>3</th>\n",
              "      <td>갈취 대화</td>\n",
              "      <td>너 저번에 술먹은 날 기억해?\\n아니 왜?\\n야 300만원만 가져와.\\n뭔 소리야....</td>\n",
              "      <td>1,2,1,2,1,2,1,2,1,2</td>\n",
              "      <td>1:너 저번에 술먹은 날 기억해?\\n2:아니 왜?\\n1:야 300만원만 가져와.\\n...</td>\n",
              "      <td>너 저번에 술먹은 날 기억해?\\n아니 왜?\\n야 300만원만 가져와.\\n뭔 소리야....</td>\n",
              "      <td>너 저번에 술 먹은 날 기억해?\\n아니 왜?\\n야 300만 원만 가져와.\\n뭔 소리...</td>\n",
              "    </tr>\n",
              "    <tr>\n",
              "      <th>4</th>\n",
              "      <td>협박 대화</td>\n",
              "      <td>너 또 내말 무시하냐?\\n 이새끼 널 좆으로 보나본데?\\n아냐 진짜 시간이 없었어 ...</td>\n",
              "      <td>1,1,2,1,1,2,1,2,1,1</td>\n",
              "      <td>1:너 또 내말 무시하냐?\\n1:이새끼 널 좆으로 보나본데?\\n2:아냐 진짜 시간이...</td>\n",
              "      <td>너 또 내말 무시하냐?\\n이새끼 널 좆으로 보나본데?\\n아냐 진짜 시간이 없었어 미...</td>\n",
              "      <td>너 또 내말 무시하냐?\\n이 새끼 널 좆으로 보나 본데?\\n아냐 진짜 시간이 없었어...</td>\n",
              "    </tr>\n",
              "  </tbody>\n",
              "</table>\n",
              "</div>\n",
              "      <button class=\"colab-df-convert\" onclick=\"convertToInteractive('df-42c0497c-d65e-4f9e-be07-d225512510d0')\"\n",
              "              title=\"Convert this dataframe to an interactive table.\"\n",
              "              style=\"display:none;\">\n",
              "        \n",
              "  <svg xmlns=\"http://www.w3.org/2000/svg\" height=\"24px\"viewBox=\"0 0 24 24\"\n",
              "       width=\"24px\">\n",
              "    <path d=\"M0 0h24v24H0V0z\" fill=\"none\"/>\n",
              "    <path d=\"M18.56 5.44l.94 2.06.94-2.06 2.06-.94-2.06-.94-.94-2.06-.94 2.06-2.06.94zm-11 1L8.5 8.5l.94-2.06 2.06-.94-2.06-.94L8.5 2.5l-.94 2.06-2.06.94zm10 10l.94 2.06.94-2.06 2.06-.94-2.06-.94-.94-2.06-.94 2.06-2.06.94z\"/><path d=\"M17.41 7.96l-1.37-1.37c-.4-.4-.92-.59-1.43-.59-.52 0-1.04.2-1.43.59L10.3 9.45l-7.72 7.72c-.78.78-.78 2.05 0 2.83L4 21.41c.39.39.9.59 1.41.59.51 0 1.02-.2 1.41-.59l7.78-7.78 2.81-2.81c.8-.78.8-2.07 0-2.86zM5.41 20L4 18.59l7.72-7.72 1.47 1.35L5.41 20z\"/>\n",
              "  </svg>\n",
              "      </button>\n",
              "      \n",
              "  <style>\n",
              "    .colab-df-container {\n",
              "      display:flex;\n",
              "      flex-wrap:wrap;\n",
              "      gap: 12px;\n",
              "    }\n",
              "\n",
              "    .colab-df-convert {\n",
              "      background-color: #E8F0FE;\n",
              "      border: none;\n",
              "      border-radius: 50%;\n",
              "      cursor: pointer;\n",
              "      display: none;\n",
              "      fill: #1967D2;\n",
              "      height: 32px;\n",
              "      padding: 0 0 0 0;\n",
              "      width: 32px;\n",
              "    }\n",
              "\n",
              "    .colab-df-convert:hover {\n",
              "      background-color: #E2EBFA;\n",
              "      box-shadow: 0px 1px 2px rgba(60, 64, 67, 0.3), 0px 1px 3px 1px rgba(60, 64, 67, 0.15);\n",
              "      fill: #174EA6;\n",
              "    }\n",
              "\n",
              "    [theme=dark] .colab-df-convert {\n",
              "      background-color: #3B4455;\n",
              "      fill: #D2E3FC;\n",
              "    }\n",
              "\n",
              "    [theme=dark] .colab-df-convert:hover {\n",
              "      background-color: #434B5C;\n",
              "      box-shadow: 0px 1px 3px 1px rgba(0, 0, 0, 0.15);\n",
              "      filter: drop-shadow(0px 1px 2px rgba(0, 0, 0, 0.3));\n",
              "      fill: #FFFFFF;\n",
              "    }\n",
              "  </style>\n",
              "\n",
              "      <script>\n",
              "        const buttonEl =\n",
              "          document.querySelector('#df-42c0497c-d65e-4f9e-be07-d225512510d0 button.colab-df-convert');\n",
              "        buttonEl.style.display =\n",
              "          google.colab.kernel.accessAllowed ? 'block' : 'none';\n",
              "\n",
              "        async function convertToInteractive(key) {\n",
              "          const element = document.querySelector('#df-42c0497c-d65e-4f9e-be07-d225512510d0');\n",
              "          const dataTable =\n",
              "            await google.colab.kernel.invokeFunction('convertToInteractive',\n",
              "                                                     [key], {});\n",
              "          if (!dataTable) return;\n",
              "\n",
              "          const docLinkHtml = 'Like what you see? Visit the ' +\n",
              "            '<a target=\"_blank\" href=https://colab.research.google.com/notebooks/data_table.ipynb>data table notebook</a>'\n",
              "            + ' to learn more about interactive tables.';\n",
              "          element.innerHTML = '';\n",
              "          dataTable['output_type'] = 'display_data';\n",
              "          await google.colab.output.renderOutput(dataTable, element);\n",
              "          const docLink = document.createElement('div');\n",
              "          docLink.innerHTML = docLinkHtml;\n",
              "          element.appendChild(docLink);\n",
              "        }\n",
              "      </script>\n",
              "    </div>\n",
              "  </div>\n",
              "  "
            ]
          },
          "metadata": {},
          "execution_count": 85
        }
      ]
    }
  ]
}