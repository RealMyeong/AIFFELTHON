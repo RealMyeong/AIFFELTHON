{
  "nbformat": 4,
  "nbformat_minor": 0,
  "metadata": {
    "colab": {
      "provenance": [],
      "mount_file_id": "1wwydwwWT6sxAZV-C0m2X4cRCjK97xhs4",
      "authorship_tag": "ABX9TyN4f+sYqd8yoAXaSY5CpvrX",
      "include_colab_link": true
    },
    "kernelspec": {
      "name": "python3",
      "display_name": "Python 3"
    },
    "language_info": {
      "name": "python"
    }
  },
  "cells": [
    {
      "cell_type": "markdown",
      "metadata": {
        "id": "view-in-github",
        "colab_type": "text"
      },
      "source": [
        "<a href=\"https://colab.research.google.com/github/RealMyeong/AIFFELTHON/blob/main/JinMyeong/%EC%9D%BC%EB%B0%98%EB%8C%80%ED%99%94_%EC%B6%94%EA%B0%80_%ED%8C%8C%EC%9D%B4%ED%94%84%EB%9D%BC%EC%9D%B8.ipynb\" target=\"_parent\"><img src=\"https://colab.research.google.com/assets/colab-badge.svg\" alt=\"Open In Colab\"/></a>"
      ]
    },
    {
      "cell_type": "markdown",
      "source": [
        "## 진행 순서\n",
        "\n",
        "1. 데이터 불러오기\n",
        "  - 일반 대화 데이터\n",
        "  - 공격 대화 데이터\n",
        "2. 키워드 추출\n",
        "  - 공격 대화 데이터 키워드 추출\n",
        "  - 일반 대화 데이터 키워드 추출\n",
        "    - 화자 구분 x\n",
        "    - 상담사 제외 고객만 키워드 추출\n",
        "3. 키워드 비율에 따라 일반대화 추가"
      ],
      "metadata": {
        "id": "Qr8B_9SJ-pxo"
      }
    },
    {
      "cell_type": "markdown",
      "source": [
        "### 1. 데이터 불러오기"
      ],
      "metadata": {
        "id": "6raUTzXz_BYT"
      }
    },
    {
      "cell_type": "code",
      "execution_count": 1,
      "metadata": {
        "id": "HMPRf6_Q4or7"
      },
      "outputs": [],
      "source": [
        "import pandas as pd\n",
        "import numpy as np\n",
        "import re"
      ]
    },
    {
      "cell_type": "code",
      "source": [
        "# 일반 대화 데이터\n",
        "normal_conv = pd.read_csv('/content/drive/MyDrive/AIFFELTHON/일반대화/sns_data.csv')\n",
        "\n",
        "# 공격 대화 데이터\n",
        "attack_conv = pd.read_csv('/content/drive/MyDrive/AIFFELTHON/TUNiB/Data/original_train_data.csv')"
      ],
      "metadata": {
        "id": "jpU6-0k154tj"
      },
      "execution_count": 2,
      "outputs": []
    },
    {
      "cell_type": "code",
      "source": [
        "attack_conv"
      ],
      "metadata": {
        "colab": {
          "base_uri": "https://localhost:8080/",
          "height": 424
        },
        "id": "ZD5jgJTh7q5d",
        "outputId": "852a623e-4883-45f4-fafb-2eeef369b7bf"
      },
      "execution_count": 3,
      "outputs": [
        {
          "output_type": "execute_result",
          "data": {
            "text/plain": [
              "            class                                     label_sentence  \\\n",
              "0     직장 내 괴롭힘 대화  1:길동 씨 이번에 이것 좀 처리해요\\n2:이거 제가 한 게 아닌데요\\n1:팀에서 ...   \n",
              "1       기타 괴롭힘 대화  1:야 너 앞니 왜 그렇게 튀어나왔냐\\n2:태어날 때부터 그랬어 물어보지 마\\n1:...   \n",
              "2           갈취 대화  1:원후야 학원 교재 사야 되는데 8만 원만 주면 안 돼\\n2:미안 나 오늘은 진짜...   \n",
              "3           갈취 대화  1:너 저번에 술 먹은 날 기억해\\n2:아니 왜\\n1:야 300만 원만 가져와\\n2...   \n",
              "4           협박 대화  1:너 또 내말 무시하냐\\n1:이 새끼 널 좆으로 보나 본데\\n2:아냐 진짜 시간이...   \n",
              "...           ...                                                ...   \n",
              "3865    기타 괴롭힘 대화  1:준하야 넌 대가리가 왜 이렇게 크냐\\n2:내 머리가 뭐\\n1:밥 먹으면 대가리만...   \n",
              "3866        갈취 대화  1:내가 지금 너 아들 김길준 데리고 있어  살리고 싶으면 계좌에 1억만 보내\\n2...   \n",
              "3867  직장 내 괴롭힘 대화  1:나는 씨 같은 사람 보면 참 신기하더라  어떻게 저렇게 살지\\n1:왜 그래  들...   \n",
              "3868        갈취 대화  1:누구 맘대로 여기서 장사하래\\n2:이게 무슨 일입니까\\n1:남의 구역에서 장사하...   \n",
              "3869  직장 내 괴롭힘 대화  1:희정 씨\\n2:네\\n1:주말에 시간이 넘쳐나나 봐\\n2:갑자기 왜 그러세요\\n1...   \n",
              "\n",
              "                                     non_label_sentence binary_class  \n",
              "0     길동 씨 이번에 이것 좀 처리해요\\n이거 제가 한 게 아닌데요\\n팀에서 내가 네가 ...        공격 대화  \n",
              "1     야 너 앞니 왜 그렇게 튀어나왔냐\\n태어날 때부터 그랬어 물어보지 마\\n아 그럼 태...        공격 대화  \n",
              "2     원후야 학원 교재 사야 되는데 8만 원만 주면 안 돼\\n미안 나 오늘은 진짜 돈이 ...        공격 대화  \n",
              "3     너 저번에 술 먹은 날 기억해\\n아니 왜\\n야 300만 원만 가져와\\n뭔 소리야  ...        공격 대화  \n",
              "4     너 또 내말 무시하냐\\n이 새끼 널 좆으로 보나 본데\\n아냐 진짜 시간이 없었어 미...        공격 대화  \n",
              "...                                                 ...          ...  \n",
              "3865  준하야 넌 대가리가 왜 이렇게 크냐\\n내 머리가 뭐\\n밥 먹으면 대가리만 크냐 너는...        공격 대화  \n",
              "3866  내가 지금 너 아들 김길준 데리고 있어  살리고 싶으면 계좌에 1억만 보내\\n예  ...        공격 대화  \n",
              "3867  나는 씨 같은 사람 보면 참 신기하더라  어떻게 저렇게 살지\\n왜 그래  들리겠어\\...        공격 대화  \n",
              "3868  누구 맘대로 여기서 장사하래\\n이게 무슨 일입니까\\n남의 구역에서 장사하려면 자릿세...        공격 대화  \n",
              "3869  희정 씨\\n네\\n주말에 시간이 넘쳐나나 봐\\n갑자기 왜 그러세요\\n손이 빤짝빤짝 네...        공격 대화  \n",
              "\n",
              "[3870 rows x 4 columns]"
            ],
            "text/html": [
              "\n",
              "  <div id=\"df-b1f8318a-a93d-4d26-bd2a-9265c6bc0ce2\">\n",
              "    <div class=\"colab-df-container\">\n",
              "      <div>\n",
              "<style scoped>\n",
              "    .dataframe tbody tr th:only-of-type {\n",
              "        vertical-align: middle;\n",
              "    }\n",
              "\n",
              "    .dataframe tbody tr th {\n",
              "        vertical-align: top;\n",
              "    }\n",
              "\n",
              "    .dataframe thead th {\n",
              "        text-align: right;\n",
              "    }\n",
              "</style>\n",
              "<table border=\"1\" class=\"dataframe\">\n",
              "  <thead>\n",
              "    <tr style=\"text-align: right;\">\n",
              "      <th></th>\n",
              "      <th>class</th>\n",
              "      <th>label_sentence</th>\n",
              "      <th>non_label_sentence</th>\n",
              "      <th>binary_class</th>\n",
              "    </tr>\n",
              "  </thead>\n",
              "  <tbody>\n",
              "    <tr>\n",
              "      <th>0</th>\n",
              "      <td>직장 내 괴롭힘 대화</td>\n",
              "      <td>1:길동 씨 이번에 이것 좀 처리해요\\n2:이거 제가 한 게 아닌데요\\n1:팀에서 ...</td>\n",
              "      <td>길동 씨 이번에 이것 좀 처리해요\\n이거 제가 한 게 아닌데요\\n팀에서 내가 네가 ...</td>\n",
              "      <td>공격 대화</td>\n",
              "    </tr>\n",
              "    <tr>\n",
              "      <th>1</th>\n",
              "      <td>기타 괴롭힘 대화</td>\n",
              "      <td>1:야 너 앞니 왜 그렇게 튀어나왔냐\\n2:태어날 때부터 그랬어 물어보지 마\\n1:...</td>\n",
              "      <td>야 너 앞니 왜 그렇게 튀어나왔냐\\n태어날 때부터 그랬어 물어보지 마\\n아 그럼 태...</td>\n",
              "      <td>공격 대화</td>\n",
              "    </tr>\n",
              "    <tr>\n",
              "      <th>2</th>\n",
              "      <td>갈취 대화</td>\n",
              "      <td>1:원후야 학원 교재 사야 되는데 8만 원만 주면 안 돼\\n2:미안 나 오늘은 진짜...</td>\n",
              "      <td>원후야 학원 교재 사야 되는데 8만 원만 주면 안 돼\\n미안 나 오늘은 진짜 돈이 ...</td>\n",
              "      <td>공격 대화</td>\n",
              "    </tr>\n",
              "    <tr>\n",
              "      <th>3</th>\n",
              "      <td>갈취 대화</td>\n",
              "      <td>1:너 저번에 술 먹은 날 기억해\\n2:아니 왜\\n1:야 300만 원만 가져와\\n2...</td>\n",
              "      <td>너 저번에 술 먹은 날 기억해\\n아니 왜\\n야 300만 원만 가져와\\n뭔 소리야  ...</td>\n",
              "      <td>공격 대화</td>\n",
              "    </tr>\n",
              "    <tr>\n",
              "      <th>4</th>\n",
              "      <td>협박 대화</td>\n",
              "      <td>1:너 또 내말 무시하냐\\n1:이 새끼 널 좆으로 보나 본데\\n2:아냐 진짜 시간이...</td>\n",
              "      <td>너 또 내말 무시하냐\\n이 새끼 널 좆으로 보나 본데\\n아냐 진짜 시간이 없었어 미...</td>\n",
              "      <td>공격 대화</td>\n",
              "    </tr>\n",
              "    <tr>\n",
              "      <th>...</th>\n",
              "      <td>...</td>\n",
              "      <td>...</td>\n",
              "      <td>...</td>\n",
              "      <td>...</td>\n",
              "    </tr>\n",
              "    <tr>\n",
              "      <th>3865</th>\n",
              "      <td>기타 괴롭힘 대화</td>\n",
              "      <td>1:준하야 넌 대가리가 왜 이렇게 크냐\\n2:내 머리가 뭐\\n1:밥 먹으면 대가리만...</td>\n",
              "      <td>준하야 넌 대가리가 왜 이렇게 크냐\\n내 머리가 뭐\\n밥 먹으면 대가리만 크냐 너는...</td>\n",
              "      <td>공격 대화</td>\n",
              "    </tr>\n",
              "    <tr>\n",
              "      <th>3866</th>\n",
              "      <td>갈취 대화</td>\n",
              "      <td>1:내가 지금 너 아들 김길준 데리고 있어  살리고 싶으면 계좌에 1억만 보내\\n2...</td>\n",
              "      <td>내가 지금 너 아들 김길준 데리고 있어  살리고 싶으면 계좌에 1억만 보내\\n예  ...</td>\n",
              "      <td>공격 대화</td>\n",
              "    </tr>\n",
              "    <tr>\n",
              "      <th>3867</th>\n",
              "      <td>직장 내 괴롭힘 대화</td>\n",
              "      <td>1:나는 씨 같은 사람 보면 참 신기하더라  어떻게 저렇게 살지\\n1:왜 그래  들...</td>\n",
              "      <td>나는 씨 같은 사람 보면 참 신기하더라  어떻게 저렇게 살지\\n왜 그래  들리겠어\\...</td>\n",
              "      <td>공격 대화</td>\n",
              "    </tr>\n",
              "    <tr>\n",
              "      <th>3868</th>\n",
              "      <td>갈취 대화</td>\n",
              "      <td>1:누구 맘대로 여기서 장사하래\\n2:이게 무슨 일입니까\\n1:남의 구역에서 장사하...</td>\n",
              "      <td>누구 맘대로 여기서 장사하래\\n이게 무슨 일입니까\\n남의 구역에서 장사하려면 자릿세...</td>\n",
              "      <td>공격 대화</td>\n",
              "    </tr>\n",
              "    <tr>\n",
              "      <th>3869</th>\n",
              "      <td>직장 내 괴롭힘 대화</td>\n",
              "      <td>1:희정 씨\\n2:네\\n1:주말에 시간이 넘쳐나나 봐\\n2:갑자기 왜 그러세요\\n1...</td>\n",
              "      <td>희정 씨\\n네\\n주말에 시간이 넘쳐나나 봐\\n갑자기 왜 그러세요\\n손이 빤짝빤짝 네...</td>\n",
              "      <td>공격 대화</td>\n",
              "    </tr>\n",
              "  </tbody>\n",
              "</table>\n",
              "<p>3870 rows × 4 columns</p>\n",
              "</div>\n",
              "      <button class=\"colab-df-convert\" onclick=\"convertToInteractive('df-b1f8318a-a93d-4d26-bd2a-9265c6bc0ce2')\"\n",
              "              title=\"Convert this dataframe to an interactive table.\"\n",
              "              style=\"display:none;\">\n",
              "        \n",
              "  <svg xmlns=\"http://www.w3.org/2000/svg\" height=\"24px\"viewBox=\"0 0 24 24\"\n",
              "       width=\"24px\">\n",
              "    <path d=\"M0 0h24v24H0V0z\" fill=\"none\"/>\n",
              "    <path d=\"M18.56 5.44l.94 2.06.94-2.06 2.06-.94-2.06-.94-.94-2.06-.94 2.06-2.06.94zm-11 1L8.5 8.5l.94-2.06 2.06-.94-2.06-.94L8.5 2.5l-.94 2.06-2.06.94zm10 10l.94 2.06.94-2.06 2.06-.94-2.06-.94-.94-2.06-.94 2.06-2.06.94z\"/><path d=\"M17.41 7.96l-1.37-1.37c-.4-.4-.92-.59-1.43-.59-.52 0-1.04.2-1.43.59L10.3 9.45l-7.72 7.72c-.78.78-.78 2.05 0 2.83L4 21.41c.39.39.9.59 1.41.59.51 0 1.02-.2 1.41-.59l7.78-7.78 2.81-2.81c.8-.78.8-2.07 0-2.86zM5.41 20L4 18.59l7.72-7.72 1.47 1.35L5.41 20z\"/>\n",
              "  </svg>\n",
              "      </button>\n",
              "      \n",
              "  <style>\n",
              "    .colab-df-container {\n",
              "      display:flex;\n",
              "      flex-wrap:wrap;\n",
              "      gap: 12px;\n",
              "    }\n",
              "\n",
              "    .colab-df-convert {\n",
              "      background-color: #E8F0FE;\n",
              "      border: none;\n",
              "      border-radius: 50%;\n",
              "      cursor: pointer;\n",
              "      display: none;\n",
              "      fill: #1967D2;\n",
              "      height: 32px;\n",
              "      padding: 0 0 0 0;\n",
              "      width: 32px;\n",
              "    }\n",
              "\n",
              "    .colab-df-convert:hover {\n",
              "      background-color: #E2EBFA;\n",
              "      box-shadow: 0px 1px 2px rgba(60, 64, 67, 0.3), 0px 1px 3px 1px rgba(60, 64, 67, 0.15);\n",
              "      fill: #174EA6;\n",
              "    }\n",
              "\n",
              "    [theme=dark] .colab-df-convert {\n",
              "      background-color: #3B4455;\n",
              "      fill: #D2E3FC;\n",
              "    }\n",
              "\n",
              "    [theme=dark] .colab-df-convert:hover {\n",
              "      background-color: #434B5C;\n",
              "      box-shadow: 0px 1px 3px 1px rgba(0, 0, 0, 0.15);\n",
              "      filter: drop-shadow(0px 1px 2px rgba(0, 0, 0, 0.3));\n",
              "      fill: #FFFFFF;\n",
              "    }\n",
              "  </style>\n",
              "\n",
              "      <script>\n",
              "        const buttonEl =\n",
              "          document.querySelector('#df-b1f8318a-a93d-4d26-bd2a-9265c6bc0ce2 button.colab-df-convert');\n",
              "        buttonEl.style.display =\n",
              "          google.colab.kernel.accessAllowed ? 'block' : 'none';\n",
              "\n",
              "        async function convertToInteractive(key) {\n",
              "          const element = document.querySelector('#df-b1f8318a-a93d-4d26-bd2a-9265c6bc0ce2');\n",
              "          const dataTable =\n",
              "            await google.colab.kernel.invokeFunction('convertToInteractive',\n",
              "                                                     [key], {});\n",
              "          if (!dataTable) return;\n",
              "\n",
              "          const docLinkHtml = 'Like what you see? Visit the ' +\n",
              "            '<a target=\"_blank\" href=https://colab.research.google.com/notebooks/data_table.ipynb>data table notebook</a>'\n",
              "            + ' to learn more about interactive tables.';\n",
              "          element.innerHTML = '';\n",
              "          dataTable['output_type'] = 'display_data';\n",
              "          await google.colab.output.renderOutput(dataTable, element);\n",
              "          const docLink = document.createElement('div');\n",
              "          docLink.innerHTML = docLinkHtml;\n",
              "          element.appendChild(docLink);\n",
              "        }\n",
              "      </script>\n",
              "    </div>\n",
              "  </div>\n",
              "  "
            ]
          },
          "metadata": {},
          "execution_count": 3
        }
      ]
    },
    {
      "cell_type": "code",
      "source": [
        "# attack_conv.to_csv('/content/drive/MyDrive/AIFFELTHON/TUNiB/train_normalization.csv', index=False)"
      ],
      "metadata": {
        "id": "25FoORghuvaP"
      },
      "execution_count": 4,
      "outputs": []
    },
    {
      "cell_type": "code",
      "source": [
        "normal_conv"
      ],
      "metadata": {
        "colab": {
          "base_uri": "https://localhost:8080/",
          "height": 424
        },
        "id": "PtR3oNsStsVH",
        "outputId": "de215138-8de8-4b7b-8b9f-d63d08125772"
      },
      "execution_count": 5,
      "outputs": [
        {
          "output_type": "execute_result",
          "data": {
            "text/plain": [
              "                                          label_sentence  \\\n",
              "0      1:야 니 남친은 잘 지내고 있니\\n2:이야 한숨만 나온다\\n2:엊그제 그래도 40...   \n",
              "1      1:나 궁금한 게 하나 있어\\n2:응 그게 뭔데 자기야\\n1:작은 아빠는 풍산개를 ...   \n",
              "2      1:너 최근에 했던 운동이 뭐야\\n2:나 등산 갔었지\\n2:관악산 올라가 봤나\\n1...   \n",
              "3      1:니가 최근에 했던 게임이 뭐였지\\n2:나 오버 워치 너무 사랑하지\\n1:요즘 애...   \n",
              "4      1:여행 대선배로서 추천할 여행지 있니\\n2:나 최근에 부산에 다녀왔잖아 좋더라\\n...   \n",
              "...                                                  ...   \n",
              "26993  1:나 진짜 너무 피곤하다\\n2:너 또 과제 하느라 밤 샜지\\n1:우리 과는 시험 ...   \n",
              "26994  1:다들 요즘에 뭐 공부하고 있는 것 있어\\n2:나는 특별히 공부하는 것은 없어\\n...   \n",
              "26995  1:요즘 헬스장 다닌다며 잘 다니고 있어\\n2:응 하루에 1 2시간 하고 있어\\n1...   \n",
              "26996  1:요즘 날이 더운데 대중교통에 사람들도 많아서 너무 힘든 거 같아요\\n2:네 너무...   \n",
              "26997  1:요즘 회사 생활은 어떠신가요\\n2:요즘 출근할 때 빼고는 괜찮은 거 같아요\\n2...   \n",
              "\n",
              "                                      non_label_sentence  class binary_class  \\\n",
              "0      야 니 남친은 잘 지내고 있니\\n이야 한숨만 나온다\\n엊그제 그래도 400일이었어\\...  일반 대화        일반 대화   \n",
              "1      나 궁금한 게 하나 있어\\n응 그게 뭔데 자기야\\n작은 아빠는 풍산개를 어디서 그렇...  일반 대화        일반 대화   \n",
              "2      너 최근에 했던 운동이 뭐야\\n나 등산 갔었지\\n관악산 올라가 봤나\\n관악산이 어디...  일반 대화        일반 대화   \n",
              "3      니가 최근에 했던 게임이 뭐였지\\n나 오버 워치 너무 사랑하지\\n요즘 애들은 총 쏘...  일반 대화        일반 대화   \n",
              "4      여행 대선배로서 추천할 여행지 있니\\n나 최근에 부산에 다녀왔잖아 좋더라\\n하 나 ...  일반 대화        일반 대화   \n",
              "...                                                  ...    ...          ...   \n",
              "26993  나 진짜 너무 피곤하다\\n너 또 과제 하느라 밤 샜지\\n우리 과는 시험 대신 과제를...  일반 대화        일반 대화   \n",
              "26994  다들 요즘에 뭐 공부하고 있는 것 있어\\n나는 특별히 공부하는 것은 없어\\n졸업시험...  일반 대화        일반 대화   \n",
              "26995  요즘 헬스장 다닌다며 잘 다니고 있어\\n응 하루에 1 2시간 하고 있어\\n유산소 위...  일반 대화        일반 대화   \n",
              "26996  요즘 날이 더운데 대중교통에 사람들도 많아서 너무 힘든 거 같아요\\n네 너무 힘들어...  일반 대화        일반 대화   \n",
              "26997  요즘 회사 생활은 어떠신가요\\n요즘 출근할 때 빼고는 괜찮은 거 같아요\\n씨는 어떠...  일반 대화        일반 대화   \n",
              "\n",
              "      type  \n",
              "0      SNS  \n",
              "1      SNS  \n",
              "2      SNS  \n",
              "3      SNS  \n",
              "4      SNS  \n",
              "...    ...  \n",
              "26993  SNS  \n",
              "26994  SNS  \n",
              "26995  SNS  \n",
              "26996  SNS  \n",
              "26997  SNS  \n",
              "\n",
              "[26998 rows x 5 columns]"
            ],
            "text/html": [
              "\n",
              "  <div id=\"df-7daf10f9-95e9-4a00-abaa-898f4a7cf7f8\">\n",
              "    <div class=\"colab-df-container\">\n",
              "      <div>\n",
              "<style scoped>\n",
              "    .dataframe tbody tr th:only-of-type {\n",
              "        vertical-align: middle;\n",
              "    }\n",
              "\n",
              "    .dataframe tbody tr th {\n",
              "        vertical-align: top;\n",
              "    }\n",
              "\n",
              "    .dataframe thead th {\n",
              "        text-align: right;\n",
              "    }\n",
              "</style>\n",
              "<table border=\"1\" class=\"dataframe\">\n",
              "  <thead>\n",
              "    <tr style=\"text-align: right;\">\n",
              "      <th></th>\n",
              "      <th>label_sentence</th>\n",
              "      <th>non_label_sentence</th>\n",
              "      <th>class</th>\n",
              "      <th>binary_class</th>\n",
              "      <th>type</th>\n",
              "    </tr>\n",
              "  </thead>\n",
              "  <tbody>\n",
              "    <tr>\n",
              "      <th>0</th>\n",
              "      <td>1:야 니 남친은 잘 지내고 있니\\n2:이야 한숨만 나온다\\n2:엊그제 그래도 40...</td>\n",
              "      <td>야 니 남친은 잘 지내고 있니\\n이야 한숨만 나온다\\n엊그제 그래도 400일이었어\\...</td>\n",
              "      <td>일반 대화</td>\n",
              "      <td>일반 대화</td>\n",
              "      <td>SNS</td>\n",
              "    </tr>\n",
              "    <tr>\n",
              "      <th>1</th>\n",
              "      <td>1:나 궁금한 게 하나 있어\\n2:응 그게 뭔데 자기야\\n1:작은 아빠는 풍산개를 ...</td>\n",
              "      <td>나 궁금한 게 하나 있어\\n응 그게 뭔데 자기야\\n작은 아빠는 풍산개를 어디서 그렇...</td>\n",
              "      <td>일반 대화</td>\n",
              "      <td>일반 대화</td>\n",
              "      <td>SNS</td>\n",
              "    </tr>\n",
              "    <tr>\n",
              "      <th>2</th>\n",
              "      <td>1:너 최근에 했던 운동이 뭐야\\n2:나 등산 갔었지\\n2:관악산 올라가 봤나\\n1...</td>\n",
              "      <td>너 최근에 했던 운동이 뭐야\\n나 등산 갔었지\\n관악산 올라가 봤나\\n관악산이 어디...</td>\n",
              "      <td>일반 대화</td>\n",
              "      <td>일반 대화</td>\n",
              "      <td>SNS</td>\n",
              "    </tr>\n",
              "    <tr>\n",
              "      <th>3</th>\n",
              "      <td>1:니가 최근에 했던 게임이 뭐였지\\n2:나 오버 워치 너무 사랑하지\\n1:요즘 애...</td>\n",
              "      <td>니가 최근에 했던 게임이 뭐였지\\n나 오버 워치 너무 사랑하지\\n요즘 애들은 총 쏘...</td>\n",
              "      <td>일반 대화</td>\n",
              "      <td>일반 대화</td>\n",
              "      <td>SNS</td>\n",
              "    </tr>\n",
              "    <tr>\n",
              "      <th>4</th>\n",
              "      <td>1:여행 대선배로서 추천할 여행지 있니\\n2:나 최근에 부산에 다녀왔잖아 좋더라\\n...</td>\n",
              "      <td>여행 대선배로서 추천할 여행지 있니\\n나 최근에 부산에 다녀왔잖아 좋더라\\n하 나 ...</td>\n",
              "      <td>일반 대화</td>\n",
              "      <td>일반 대화</td>\n",
              "      <td>SNS</td>\n",
              "    </tr>\n",
              "    <tr>\n",
              "      <th>...</th>\n",
              "      <td>...</td>\n",
              "      <td>...</td>\n",
              "      <td>...</td>\n",
              "      <td>...</td>\n",
              "      <td>...</td>\n",
              "    </tr>\n",
              "    <tr>\n",
              "      <th>26993</th>\n",
              "      <td>1:나 진짜 너무 피곤하다\\n2:너 또 과제 하느라 밤 샜지\\n1:우리 과는 시험 ...</td>\n",
              "      <td>나 진짜 너무 피곤하다\\n너 또 과제 하느라 밤 샜지\\n우리 과는 시험 대신 과제를...</td>\n",
              "      <td>일반 대화</td>\n",
              "      <td>일반 대화</td>\n",
              "      <td>SNS</td>\n",
              "    </tr>\n",
              "    <tr>\n",
              "      <th>26994</th>\n",
              "      <td>1:다들 요즘에 뭐 공부하고 있는 것 있어\\n2:나는 특별히 공부하는 것은 없어\\n...</td>\n",
              "      <td>다들 요즘에 뭐 공부하고 있는 것 있어\\n나는 특별히 공부하는 것은 없어\\n졸업시험...</td>\n",
              "      <td>일반 대화</td>\n",
              "      <td>일반 대화</td>\n",
              "      <td>SNS</td>\n",
              "    </tr>\n",
              "    <tr>\n",
              "      <th>26995</th>\n",
              "      <td>1:요즘 헬스장 다닌다며 잘 다니고 있어\\n2:응 하루에 1 2시간 하고 있어\\n1...</td>\n",
              "      <td>요즘 헬스장 다닌다며 잘 다니고 있어\\n응 하루에 1 2시간 하고 있어\\n유산소 위...</td>\n",
              "      <td>일반 대화</td>\n",
              "      <td>일반 대화</td>\n",
              "      <td>SNS</td>\n",
              "    </tr>\n",
              "    <tr>\n",
              "      <th>26996</th>\n",
              "      <td>1:요즘 날이 더운데 대중교통에 사람들도 많아서 너무 힘든 거 같아요\\n2:네 너무...</td>\n",
              "      <td>요즘 날이 더운데 대중교통에 사람들도 많아서 너무 힘든 거 같아요\\n네 너무 힘들어...</td>\n",
              "      <td>일반 대화</td>\n",
              "      <td>일반 대화</td>\n",
              "      <td>SNS</td>\n",
              "    </tr>\n",
              "    <tr>\n",
              "      <th>26997</th>\n",
              "      <td>1:요즘 회사 생활은 어떠신가요\\n2:요즘 출근할 때 빼고는 괜찮은 거 같아요\\n2...</td>\n",
              "      <td>요즘 회사 생활은 어떠신가요\\n요즘 출근할 때 빼고는 괜찮은 거 같아요\\n씨는 어떠...</td>\n",
              "      <td>일반 대화</td>\n",
              "      <td>일반 대화</td>\n",
              "      <td>SNS</td>\n",
              "    </tr>\n",
              "  </tbody>\n",
              "</table>\n",
              "<p>26998 rows × 5 columns</p>\n",
              "</div>\n",
              "      <button class=\"colab-df-convert\" onclick=\"convertToInteractive('df-7daf10f9-95e9-4a00-abaa-898f4a7cf7f8')\"\n",
              "              title=\"Convert this dataframe to an interactive table.\"\n",
              "              style=\"display:none;\">\n",
              "        \n",
              "  <svg xmlns=\"http://www.w3.org/2000/svg\" height=\"24px\"viewBox=\"0 0 24 24\"\n",
              "       width=\"24px\">\n",
              "    <path d=\"M0 0h24v24H0V0z\" fill=\"none\"/>\n",
              "    <path d=\"M18.56 5.44l.94 2.06.94-2.06 2.06-.94-2.06-.94-.94-2.06-.94 2.06-2.06.94zm-11 1L8.5 8.5l.94-2.06 2.06-.94-2.06-.94L8.5 2.5l-.94 2.06-2.06.94zm10 10l.94 2.06.94-2.06 2.06-.94-2.06-.94-.94-2.06-.94 2.06-2.06.94z\"/><path d=\"M17.41 7.96l-1.37-1.37c-.4-.4-.92-.59-1.43-.59-.52 0-1.04.2-1.43.59L10.3 9.45l-7.72 7.72c-.78.78-.78 2.05 0 2.83L4 21.41c.39.39.9.59 1.41.59.51 0 1.02-.2 1.41-.59l7.78-7.78 2.81-2.81c.8-.78.8-2.07 0-2.86zM5.41 20L4 18.59l7.72-7.72 1.47 1.35L5.41 20z\"/>\n",
              "  </svg>\n",
              "      </button>\n",
              "      \n",
              "  <style>\n",
              "    .colab-df-container {\n",
              "      display:flex;\n",
              "      flex-wrap:wrap;\n",
              "      gap: 12px;\n",
              "    }\n",
              "\n",
              "    .colab-df-convert {\n",
              "      background-color: #E8F0FE;\n",
              "      border: none;\n",
              "      border-radius: 50%;\n",
              "      cursor: pointer;\n",
              "      display: none;\n",
              "      fill: #1967D2;\n",
              "      height: 32px;\n",
              "      padding: 0 0 0 0;\n",
              "      width: 32px;\n",
              "    }\n",
              "\n",
              "    .colab-df-convert:hover {\n",
              "      background-color: #E2EBFA;\n",
              "      box-shadow: 0px 1px 2px rgba(60, 64, 67, 0.3), 0px 1px 3px 1px rgba(60, 64, 67, 0.15);\n",
              "      fill: #174EA6;\n",
              "    }\n",
              "\n",
              "    [theme=dark] .colab-df-convert {\n",
              "      background-color: #3B4455;\n",
              "      fill: #D2E3FC;\n",
              "    }\n",
              "\n",
              "    [theme=dark] .colab-df-convert:hover {\n",
              "      background-color: #434B5C;\n",
              "      box-shadow: 0px 1px 3px 1px rgba(0, 0, 0, 0.15);\n",
              "      filter: drop-shadow(0px 1px 2px rgba(0, 0, 0, 0.3));\n",
              "      fill: #FFFFFF;\n",
              "    }\n",
              "  </style>\n",
              "\n",
              "      <script>\n",
              "        const buttonEl =\n",
              "          document.querySelector('#df-7daf10f9-95e9-4a00-abaa-898f4a7cf7f8 button.colab-df-convert');\n",
              "        buttonEl.style.display =\n",
              "          google.colab.kernel.accessAllowed ? 'block' : 'none';\n",
              "\n",
              "        async function convertToInteractive(key) {\n",
              "          const element = document.querySelector('#df-7daf10f9-95e9-4a00-abaa-898f4a7cf7f8');\n",
              "          const dataTable =\n",
              "            await google.colab.kernel.invokeFunction('convertToInteractive',\n",
              "                                                     [key], {});\n",
              "          if (!dataTable) return;\n",
              "\n",
              "          const docLinkHtml = 'Like what you see? Visit the ' +\n",
              "            '<a target=\"_blank\" href=https://colab.research.google.com/notebooks/data_table.ipynb>data table notebook</a>'\n",
              "            + ' to learn more about interactive tables.';\n",
              "          element.innerHTML = '';\n",
              "          dataTable['output_type'] = 'display_data';\n",
              "          await google.colab.output.renderOutput(dataTable, element);\n",
              "          const docLink = document.createElement('div');\n",
              "          docLink.innerHTML = docLinkHtml;\n",
              "          element.appendChild(docLink);\n",
              "        }\n",
              "      </script>\n",
              "    </div>\n",
              "  </div>\n",
              "  "
            ]
          },
          "metadata": {},
          "execution_count": 5
        }
      ]
    },
    {
      "cell_type": "code",
      "source": [
        "import numpy as np\n",
        "idx = []\n",
        "batch_idx = []\n",
        "\n",
        "for i in range(len(normal_conv)):\n",
        "  batch_idx.append(i)\n",
        "  if len(batch_idx)==10:\n",
        "    idx.append(batch_idx)\n",
        "    batch_idx = []"
      ],
      "metadata": {
        "id": "lyNGQv_nLRPB"
      },
      "execution_count": 6,
      "outputs": []
    },
    {
      "cell_type": "code",
      "source": [
        "len(idx)"
      ],
      "metadata": {
        "colab": {
          "base_uri": "https://localhost:8080/"
        },
        "id": "vlIXiwjJ5E2d",
        "outputId": "909dda90-0f6a-425d-f043-50cd0feae50e"
      },
      "execution_count": 7,
      "outputs": [
        {
          "output_type": "execute_result",
          "data": {
            "text/plain": [
              "2699"
            ]
          },
          "metadata": {},
          "execution_count": 7
        }
      ]
    },
    {
      "cell_type": "code",
      "source": [
        "batch_sen = []\n",
        "for i in idx:\n",
        "  a = normal_conv.iloc[i].reset_index(drop=True).non_label_sentence\n",
        "  sen = []\n",
        "  for j in a:\n",
        "    t = j.split('\\n')\n",
        "    sen += t\n",
        "\n",
        "  batch_sen.append(sen)"
      ],
      "metadata": {
        "id": "gN2oS8xCz4Z_"
      },
      "execution_count": 8,
      "outputs": []
    },
    {
      "cell_type": "code",
      "source": [
        "batch_sen[0]"
      ],
      "metadata": {
        "id": "sQVde-kX1tYp",
        "colab": {
          "base_uri": "https://localhost:8080/"
        },
        "outputId": "1b2b1288-ee43-43f8-c652-d438651f0f35"
      },
      "execution_count": 9,
      "outputs": [
        {
          "output_type": "execute_result",
          "data": {
            "text/plain": [
              "['야 니 남친은 잘 지내고 있니',\n",
              " '이야 한숨만 나온다',\n",
              " '엊그제 그래도 400일이었어',\n",
              " '와 너네가 벌써 400일이야',\n",
              " '그러게 정말 시간이 너무 빨라 키키',\n",
              " '어떻게 만나게 됐다고 했지',\n",
              " '유럽 여행에서 동행으로 만났어 키키',\n",
              " '걔는 몇 살 때 간 건데 그 나이에 유럽 여행을 갔대',\n",
              " '20살에 졸업하고 바로 왔나 봐 대단하더라',\n",
              " '와 그래도 여행 경비가 장난 아닐 텐데 그 돈은 어디서 모았대',\n",
              " '부모님이 졸업 선물로 해주신 것 같아',\n",
              " '키키 부럽다',\n",
              " '와 브루주아네 개부럽다',\n",
              " '나도 못 가 봤는데',\n",
              " '걔랑 2주 정도 같이 있었던 것 같아',\n",
              " '야 그렇게 여행 경로가 겹쳤었어',\n",
              " '응 우리가 상의하고 계획했어',\n",
              " '헐 그때부터 서로 마음에 들었나 보네 유후',\n",
              " '어머나  들켰다 내 큰 그림이지',\n",
              " '나 궁금한 게 하나 있어',\n",
              " '응 그게 뭔데 자기야',\n",
              " '작은 아빠는 풍산개를 어디서 그렇게 데리고 오는 거야',\n",
              " '아 그거 아는 지인이 애견 훈련소 했어',\n",
              " '헐 대박 지금은 안 하고 계셔',\n",
              " '음    글쎄 잘 모르겠네',\n",
              " '그 풍산개 혈통 있는 개라고 막 그랬잖아',\n",
              " '어 맞아  동물 농장에 나오신 훈련사 분이 선물 해줬어 키키',\n",
              " '헐 대박 혹시 내가 아는 그분이니',\n",
              " '응 맞아 그런 것 같아',\n",
              " '헐 대박 사건   근데 우리 진이 목줄 풀고 가출했어',\n",
              " '역시 우리 진이 자유를 동경했구나 키키',\n",
              " '알지 우리 집 주변에 개 농장 있는 거',\n",
              " '헐 어떡해',\n",
              " '끌려간 거 아니야',\n",
              " '주변에 다 봤어',\n",
              " '그때 한창 뉴스에서 개 도둑 많다고 조심하라고 했는데',\n",
              " '아이고 우리 진이야 아이고 우리 진이야',\n",
              " '너 최근에 했던 운동이 뭐야',\n",
              " '나 등산 갔었지',\n",
              " '관악산 올라가 봤나',\n",
              " '관악산이 어디 있는 산이야',\n",
              " '관악구에 있는 산이지',\n",
              " '언니네 집 근처야 키키',\n",
              " '아아 좋은 정보 감사요',\n",
              " '그렇다고 가진 않을 거야',\n",
              " '너무 단호하네',\n",
              " '공기가 얼마나 맑은지 알어',\n",
              " '나는 등산 가면 그렇게 머리가 어지럽더라',\n",
              " '아니야 그거 중간에 김밥 안 먹어서 그래',\n",
              " '아앗 김밥을 챙겨왔었어야 했는데 내가 잘못했네',\n",
              " '산 정상에서 먹는 김밥이 그렇게 맛있더라',\n",
              " '무슨 김밥 챙겨가셨는데요 김밥 선생',\n",
              " '참치 김밥에 육개장 사발면 진짜 지린다',\n",
              " '와 근데 뜨거운 물 어디서 챙겼어',\n",
              " '보온병에 담아서 갔지 키키',\n",
              " '괜찮던데',\n",
              " '아 진짜  그걸로 사발면이 익혀져',\n",
              " '추운 날에 갔는데도 잘 익더라',\n",
              " '다음에 같이 가서 먹자',\n",
              " '니가 최근에 했던 게임이 뭐였지',\n",
              " '나 오버 워치 너무 사랑하지',\n",
              " '요즘 애들은 총 쏘는 게임에 미쳤구나',\n",
              " '언니는 뭐 하는 게임 없어',\n",
              " '너 나 안 놀릴 거지',\n",
              " '아유 그럼 우리 언니는 뭐하나',\n",
              " '나 류미 큐브 하하 너랑 저번에 했었잖아',\n",
              " '그게 언제 적이야',\n",
              " '아직도 하고 있어 아이고',\n",
              " '야 그래도 몇 개월 안 됐어',\n",
              " '요즘 오버 워치가 그렇게 재밌던데 해 본 적 있어',\n",
              " '오버 워치 그냥 유튜브로만 봤어',\n",
              " '나 그런 거 못 해',\n",
              " '그래  피시방 안 간 지가 언제야',\n",
              " '일단 나는 최근에 갔던 이유가 이력서 뽑을려고 갔었지',\n",
              " '아 이런  피시방에선 게임이지',\n",
              " '그런데 요즘에 코로나 때문에 못 가잖아',\n",
              " '아니야 가림막 다 있어',\n",
              " '다음에 같이 가',\n",
              " '여행 대선배로서 추천할 여행지 있니',\n",
              " '나 최근에 부산에 다녀왔잖아 좋더라',\n",
              " '하 나 부산 한 번도 안 가봤잖아',\n",
              " '아 진짜  다음에 남자친구랑도 가봐',\n",
              " '니가 올리는 돼지 국밥이랑 밀면 너무 먹고 싶어',\n",
              " '밀면 진짜 맛있더라',\n",
              " '고명에 육전이 올라가 키키',\n",
              " '헐 육전도 나 한 번도 안 먹어봤어',\n",
              " '음식도 맛있지만 주변에 관광도 괜찮아',\n",
              " '그래 그런 곳 갔으면 관광지도 가야지',\n",
              " '추천해 줘',\n",
              " '광안대교 야경에 맥주 한잔하면 그냥 끝나지 키키',\n",
              " '헐 나도 그런 곳 가서 갬성 챙겨오고 싶다',\n",
              " '언니는 연차 언제 쓸 수 있어',\n",
              " '연차는 상관없는데 나중에 아꼈다 쓸 거야',\n",
              " '오호  잘 아껴둬 그거 내가 뺏을 거야',\n",
              " '으응  그런 무서운 말을 한다고',\n",
              " '우리 가족끼리 여행 가야지',\n",
              " '어제 너네 동네도 비가 하루 종일 왔니',\n",
              " '아니 그냥 오다 말다 했어',\n",
              " '거긴 지금 어때',\n",
              " '일단 내가 밖을 안 나가봐서 모르겠어',\n",
              " '밖에 좀 나가봐 집순아',\n",
              " '날씨가 어떤지 모르고 키키',\n",
              " '주말인데 나갈 일이 뭐 있어',\n",
              " '카페도 가고 남자친구도 만나고',\n",
              " '남친이 바빠서 나 안 만나준대',\n",
              " '어머 그럼 나갈 일이 없네',\n",
              " '요즘 바람 불고 시원해',\n",
              " '그러니까 그래서 좀 있다 나가보려고',\n",
              " '어디 가려고',\n",
              " '나갈 때 긴팔 입어',\n",
              " '춥다야 키키',\n",
              " '그냥 집 앞에 있는 카페 허허',\n",
              " '고작 나간 곳이 앞에 있는 카페라니',\n",
              " '나는 큰 용기를 가지고 나가는 거야',\n",
              " '그래 대단한 용기에 박수를',\n",
              " '맞아 나 그리고 반 샷 들어간 카페 라떼도 먹을 예정이야',\n",
              " '그래 맛있게 먹어',\n",
              " '요즘 환절기라 감기 조심해',\n",
              " '너 이번에 기사 봤어',\n",
              " '응 봤어',\n",
              " '요즘 오토바이 사고가 너무 심하더라',\n",
              " '헐 너 그거 동영상 봤어',\n",
              " '응 맞아 차마 눈을 못 뜨겠더라',\n",
              " '맞아 그거 너무 징그럽더라고',\n",
              " '나는 두 운전자가 너무 불쌍해',\n",
              " '그러니까 오토바이 탔던 사람 가족들은 무슨 일이야',\n",
              " '그러게 오토바이가 진짜 위험하다니깐',\n",
              " '니 동생 혹시 오토바이 타는 거 아니지',\n",
              " '그럼  운전 면허도 없는 걸 키키',\n",
              " '걔는 인생을 어떻게 산 거냐 키키',\n",
              " '언니 걔는 필기 시험도 떨어지는 애야 키키',\n",
              " '그래  착하기만 하면 됐지 그럼 됐어',\n",
              " '그치 나는 걔가 건강하기만 하면 됐어',\n",
              " '그래 모든 사람은 건강이 최고야',\n",
              " '그래 건강 잘 챙기자',\n",
              " '이번에 아프간 애들 한국 들어온 거 봤어',\n",
              " '응 봤어 진천으로 간다 하더라',\n",
              " '아 거기로 간다고 했어',\n",
              " '그건 못 봤네',\n",
              " '380명 정도 수용했어 키키',\n",
              " '대단해 우리나라',\n",
              " '대부분 애들이 왔다고 하더라고',\n",
              " '맞아 그래서 인형 선물 해줬대',\n",
              " '애들이 그거 꼭 껴안고 있어',\n",
              " '맞아 나 그 사진 봤는데 뭔가 짠하면서 귀엽더라',\n",
              " '애들이 무섭겠지만 우리나라에 잘 적응 했으면 좋겠다',\n",
              " '부모님이랑 떨어져서 외국에 있다는 게 얼마나 무서울까',\n",
              " '그러게 우리가 도울 수 있으면 도와주고 싶네',\n",
              " '근데 너 거기에 달린 댓글 봤어',\n",
              " '응 너무 이기적이야',\n",
              " '사람들 못됐어',\n",
              " '맞아 우리 어려울 때 미국에서 도와준 건 기억 못 해',\n",
              " '그러게 역사를 잊은 민족은 미래도 없다더니',\n",
              " '어 너 명언을 얘기하니까 멋있어 보인다',\n",
              " '우리도 남이 도와주면 똑같이 도와줘야 해',\n",
              " '너 저번에 보니까 헤어 스타일 예쁘더라',\n",
              " '응  그냥 시원하게 머리 잘랐지 뭐야',\n",
              " '그 헤어 스타일 이름이 뭐야',\n",
              " '중단발 컷 이라는데 그냥 거지 존 같기도 하고',\n",
              " '아니야 엄청 예뻤어',\n",
              " '그게 허쉬 컷인가',\n",
              " '아니 레이어드 컷이야',\n",
              " '잘 어울린다니 다행이네',\n",
              " '요즘에 레이어드 컷을 사람들이 많이 하네',\n",
              " '그게 유행인가 봐',\n",
              " '언니는 지금 머리 어때',\n",
              " '나는 지금 조선 시대 사람처럼 됐어',\n",
              " '헐 뭐야  미용실 안 간 지가 언제야',\n",
              " '나 그래도 올해 4월에 갔는데 머리가 빨리 자라더라',\n",
              " '그렇군  염색이나 펌은 안 하게',\n",
              " '그거는 2년 전에 다 마스터 했지',\n",
              " '맞지 그때 언니 머리 아주 볼 만했어 키키',\n",
              " '옛날 사진 보니까 나 완전 휘황찬란 했더라 키키',\n",
              " '맞아 그때가 그립지',\n",
              " '다음에 미용실 가자',\n",
              " '너 요즘에 아픈 곳 없어',\n",
              " '나 요즘 아침마다 똥을 못 싸',\n",
              " '야 너두  야 나두  나이가 드니까 그런 가 봐',\n",
              " '이제 우리 유산균 챙겨 먹을 나이라구',\n",
              " '나는 심지어 유산균이랑 다른 것도 먹는데',\n",
              " '다른 거 뭐 먹어',\n",
              " '나도 알려주라',\n",
              " '나 비타민이랑 마그네슘 먹고 있어',\n",
              " '마그네슘이 눈 떨림에 되게 좋대',\n",
              " '효과 봤어',\n",
              " '맞아 나 회사 들어오고 눈 떨려서 샀잖아',\n",
              " '어머 얼마나 일을 하면 눈이 다 떨린대',\n",
              " '내 몸뚱아리 완전 저질로 변했어',\n",
              " '그래  그럼 영양제가 필수지',\n",
              " '잘 챙겨 먹어',\n",
              " '맞아 그래서 내 책상 약 상자들로 가득해 키키',\n",
              " '밥도 잘 챙겨 먹어',\n",
              " '밥이 보약이라잖아',\n",
              " '맞아 근데 나 하루에 한 끼 먹음',\n",
              " '밥 사줄게',\n",
              " '지금 당장 나와']"
            ]
          },
          "metadata": {},
          "execution_count": 9
        }
      ]
    },
    {
      "cell_type": "code",
      "source": [
        "len(batch_sen)"
      ],
      "metadata": {
        "colab": {
          "base_uri": "https://localhost:8080/"
        },
        "id": "3XVqqkS75BZy",
        "outputId": "ab190139-f6a1-4267-ab06-565b057e37be"
      },
      "execution_count": 10,
      "outputs": [
        {
          "output_type": "execute_result",
          "data": {
            "text/plain": [
              "2699"
            ]
          },
          "metadata": {},
          "execution_count": 10
        }
      ]
    },
    {
      "cell_type": "markdown",
      "source": [
        "### 2. 키워드 추출\n",
        "\n",
        "1. 공격 대화 키워드 추출\n"
      ],
      "metadata": {
        "id": "NOol4TOq-oHJ"
      }
    },
    {
      "cell_type": "code",
      "source": [
        "!pip install krwordrank"
      ],
      "metadata": {
        "colab": {
          "base_uri": "https://localhost:8080/"
        },
        "id": "3FdY8c4f_0H2",
        "outputId": "1cb9edea-2883-4946-b0eb-bbef7e7133de"
      },
      "execution_count": 11,
      "outputs": [
        {
          "output_type": "stream",
          "name": "stdout",
          "text": [
            "Looking in indexes: https://pypi.org/simple, https://us-python.pkg.dev/colab-wheels/public/simple/\n",
            "Collecting krwordrank\n",
            "  Downloading krwordrank-1.0.3-py3-none-any.whl (20 kB)\n",
            "Requirement already satisfied: scipy>=1.4.1 in /usr/local/lib/python3.7/dist-packages (from krwordrank) (1.7.3)\n",
            "Requirement already satisfied: scikit-learn>=0.22.1 in /usr/local/lib/python3.7/dist-packages (from krwordrank) (1.0.2)\n",
            "Requirement already satisfied: numpy>=1.18.4 in /usr/local/lib/python3.7/dist-packages (from krwordrank) (1.21.6)\n",
            "Requirement already satisfied: joblib>=0.11 in /usr/local/lib/python3.7/dist-packages (from scikit-learn>=0.22.1->krwordrank) (1.2.0)\n",
            "Requirement already satisfied: threadpoolctl>=2.0.0 in /usr/local/lib/python3.7/dist-packages (from scikit-learn>=0.22.1->krwordrank) (3.1.0)\n",
            "Installing collected packages: krwordrank\n",
            "Successfully installed krwordrank-1.0.3\n"
          ]
        }
      ]
    },
    {
      "cell_type": "code",
      "source": [
        "def keyword(class_name, data, n=20):\n",
        "    genre = data[data['class']==class_name].reset_index(drop=True).label_sentence\n",
        "\n",
        "    attack, damaged = [], []\n",
        "\n",
        "    for e in genre:\n",
        "        e = e.split('\\n')\n",
        "        for e_ in e:\n",
        "            if e_[0] == '1':\n",
        "                attack.append(e_[2:])\n",
        "            else:\n",
        "                damaged.append(e_[2:])\n",
        "\n",
        "    from krwordrank.sentence import summarize_with_sentences\n",
        "\n",
        "    texts = attack\n",
        "    keywords_att, sents = summarize_with_sentences(texts, num_keywords=50, \n",
        "                                           num_keysents=10, max_length=10, diversity=0.5)\n",
        "\n",
        "    texts = damaged\n",
        "    keywords_dam, sents = summarize_with_sentences(texts, num_keywords=50, \n",
        "                                           num_keysents=10, max_length=10, diversity=0.5)\n",
        "\n",
        "    print('{}의 가해자 :'.format(class_name),keywords_att.keys())\n",
        "    print()\n",
        "    print('{}의 피해자 :'.format(class_name),keywords_dam.keys())\n",
        "    \n",
        "    keywords_att = list(keywords_att.keys())\n",
        "    keywords_dam = list(keywords_dam.keys())\n",
        "    \n",
        "    target_attack, target_damaged = [], []\n",
        "\n",
        "    for i in range(50):\n",
        "        if (keywords_att[i] not in keywords_dam) : target_attack.append(keywords_att[i])\n",
        "        if len(target_attack) == n: break \n",
        "\n",
        "    for i in range(50):\n",
        "        if (keywords_dam[i] not in keywords_att) : target_damaged.append(keywords_dam[i])\n",
        "        if len(target_damaged) == n: break\n",
        "    \n",
        "    print()\n",
        "    print('{}의 가해자(중복제거) :'.format(class_name),target_attack)\n",
        "    print()\n",
        "    print('{}의 피해자(중복제거) :'.format(class_name),target_damaged)\n",
        "\n",
        "    return [target_attack, target_damaged]"
      ],
      "metadata": {
        "id": "HSH0JSLD-P3I"
      },
      "execution_count": 12,
      "outputs": []
    },
    {
      "cell_type": "code",
      "source": [
        "extort_att, extort_vic = keyword('갈취 대화', attack_conv)"
      ],
      "metadata": {
        "colab": {
          "base_uri": "https://localhost:8080/"
        },
        "id": "QhFLD4FYArgH",
        "outputId": "811163ed-af57-4393-925b-5f2eb5f3c6da"
      },
      "execution_count": 13,
      "outputs": [
        {
          "output_type": "stream",
          "name": "stdout",
          "text": [
            "갈취 대화의 가해자 : dict_keys(['내가', '아니', '그럼', '그래', '빌려', '지금', '그냥', '내놔', '이거', '네가', '원만', '빨리', '진짜', '우리', '친구', '돈이', '거야', '오늘', '없어', '있는', '그러', '가져', '나도', '나오면', '말고', '전에', '제가', '있어', '여기', '사람', '보내', '좋은', '10', '너네', '알아', '너무', '이번', '거기', '새끼', '엄마', '어떻게', '그거', '얼마', '당장', '이렇게', '그렇게', '내일', '뒤져서', '말이', '나한테'])\n",
            "\n",
            "갈취 대화의 피해자 : dict_keys(['아니', '제발', '진짜', '없어', '안돼', '무슨', '이거', '내가', '돈이', '정말', '미안', '그래', '제가', '그러', '거야', '알겠', '그건', '여기', '어떻게', '지금', '죄송', '엄마', '빌려', '돌려', '그런', '이번', '나도', '그럼', '없는', '이게', '이러', '저희', '그거', '이건', '있어', '그게', '저번', '거예요', '우리', '말이', '너무', '마세요', '가져', '오늘', '주세요', '그렇', '빨리', '얼마', '드릴', '어디'])\n",
            "\n",
            "갈취 대화의 가해자(중복제거) : ['그냥', '내놔', '네가', '원만', '친구', '있는', '나오면', '말고', '전에', '사람', '보내', '좋은', '10', '너네', '알아', '거기', '새끼', '당장', '이렇게', '그렇게']\n",
            "\n",
            "갈취 대화의 피해자(중복제거) : ['제발', '안돼', '무슨', '정말', '미안', '알겠', '그건', '죄송', '돌려', '그런', '없는', '이게', '이러', '저희', '이건', '그게', '저번', '거예요', '마세요', '주세요']\n"
          ]
        }
      ]
    },
    {
      "cell_type": "code",
      "source": [
        "work_att, work_vic = keyword('직장 내 괴롭힘 대화', attack_conv)"
      ],
      "metadata": {
        "colab": {
          "base_uri": "https://localhost:8080/"
        },
        "id": "3uhVDvCEERJ3",
        "outputId": "e35eafe2-8d31-4de5-f352-ecd14cbbf289"
      },
      "execution_count": 14,
      "outputs": [
        {
          "output_type": "stream",
          "name": "stdout",
          "text": [
            "직장 내 괴롭힘 대화의 가해자 : dict_keys(['내가', '아니', '거야', '그래', '지금', '오늘', '자네', '그럼', '우리', '그렇게', '하는', '사람', '그냥', '이렇게', '무슨', '네가', '김대리', '이번', '이거', '하고', '일을', '진짜', '그러', '그런', '말이', '없어', '있어', '어떻게', '대리', '말고', '요즘', '너무', '이런', '하나', '일이', '내일', '다른', '생각', '죄송', '알아', '제대로', '보고', '휴가', '아주', '있는', '빨리', '누가', '못하', '하면', '같은'])\n",
            "\n",
            "직장 내 괴롭힘 대화의 피해자 : dict_keys(['제가', '죄송', '아니', '부장님', '무슨', '아닙니다', '너무', '과장님', '정말', '다시', '말씀', '지금', '일이', '그건', '저도', '하겠습니다', '그래도', '그런', '오늘', '팀장님', '알겠', '그게', '저는', '이건', '대리님', '업무', '있어서', '열심히', '사장님', '같습니', '그러', '아닌', '빨리', '있습니다', '다른', '그럼', '그렇', '내일', '진짜', '휴가', '없습니다', '같아', '이번', '잘못', '앞으로', '하고', '어떻게', '있는', '바로', '아직'])\n",
            "\n",
            "직장 내 괴롭힘 대화의 가해자(중복제거) : ['내가', '거야', '그래', '자네', '우리', '그렇게', '하는', '사람', '그냥', '이렇게', '네가', '김대리', '이거', '일을', '말이', '없어', '있어', '대리', '말고', '요즘']\n",
            "\n",
            "직장 내 괴롭힘 대화의 피해자(중복제거) : ['제가', '부장님', '아닙니다', '과장님', '정말', '다시', '말씀', '그건', '저도', '하겠습니다', '그래도', '팀장님', '알겠', '그게', '저는', '이건', '대리님', '업무', '있어서', '열심히']\n"
          ]
        }
      ]
    },
    {
      "cell_type": "code",
      "source": [
        "threat_att, threat_vic = keyword('협박 대화', attack_conv)"
      ],
      "metadata": {
        "colab": {
          "base_uri": "https://localhost:8080/"
        },
        "id": "v7XOpUUhEsoa",
        "outputId": "f0b89192-bcf4-40a6-a7a7-eef57d282af6"
      },
      "execution_count": 15,
      "outputs": [
        {
          "output_type": "stream",
          "name": "stdout",
          "text": [
            "협박 대화의 가해자 : dict_keys(['내가', '거야', '네가', '지금', '아니', '진짜', '그래', '그냥', '그럼', '죽여', '우리', '사람', '있어', '알아', '하나', '그러', '죽어', '어떻게', '전에', '당장', '죽고', '새끼', '어디', '정신', '빨리', '당신', '없어', '하면', '너도', '그렇게', '너네', '무슨', '나도', '이렇게', '여기', '싶어', '가족', '있는', '오늘', '이게', '나한테', '생각', '이제', '아주', '헤어', '같이', '말이', '들어', '하는', '않으면'])\n",
            "\n",
            "협박 대화의 피해자 : dict_keys(['제발', '아니', '무슨', '정말', '내가', '제가', '우리', '거야', '죄송', '살려', '그러', '진짜', '지금', '그래', '잘못', '어떻게', '네가', '미안', '너무', '그런', '이러', '사람', '주세요', '그만', '그렇게', '그냥', '경찰', '알겠', '말아', '그건', '마세요', '그게', '이제', '거예요', '시간', '신고', '없어', '협박', '소리', '이거', '조금만', '나는', '당신', '아닙니다', '선생님', '하지', '하는', '여기', '그럼', '저는'])\n",
            "\n",
            "협박 대화의 가해자(중복제거) : ['죽여', '있어', '알아', '하나', '죽어', '전에', '당장', '죽고', '새끼', '어디', '정신', '빨리', '하면', '너도', '너네', '나도', '이렇게', '싶어', '가족', '있는']\n",
            "\n",
            "협박 대화의 피해자(중복제거) : ['제발', '정말', '제가', '죄송', '살려', '잘못', '미안', '너무', '그런', '이러', '주세요', '그만', '경찰', '알겠', '말아', '그건', '마세요', '그게', '거예요', '시간']\n"
          ]
        }
      ]
    },
    {
      "cell_type": "code",
      "source": [
        "other_att, other_vic = keyword('기타 괴롭힘 대화', attack_conv)"
      ],
      "metadata": {
        "colab": {
          "base_uri": "https://localhost:8080/"
        },
        "id": "IHLbUF1HE20W",
        "outputId": "e0ebad85-f32a-4606-e02e-5176664aa459"
      },
      "execution_count": 16,
      "outputs": [
        {
          "output_type": "stream",
          "name": "stdout",
          "text": [
            "기타 괴롭힘 대화의 가해자 : dict_keys(['아니', '내가', '네가', '진짜', '그냥', '그래', '우리', '거야', '그럼', '여기', '지금', '너무', '무슨', '그렇게', '사람', '그러', '새끼', '이렇게', '어디', '빨리', '이거', '어떻게', '그런', '너네', '하는', '얼굴', '친구', '장애', '냄새', '말고', '거지', '같은', '뭐가', '엄마', '돼지', '다니', '있어', '것도', '너는', '없어', '못생', '하지', '알아', '기분', '하고', '이게', '정말', '이런', '나는', '남자'])\n",
            "\n",
            "기타 괴롭힘 대화의 피해자 : dict_keys(['아니', '무슨', '내가', '손님', '그만', '제발', '거야', '제가', '죄송', '그래', '그런', '너무', '진짜', '그러', '미안', '지금', '그렇', '말이', '우리', '하지', '그냥', '나도', '그게', '정말', '네가', '있어', '저희', '하는', '그건', '여기', '엄마', '사람', '어떻게', '이거', '나한', '기분', '잘못', '그럼', '이러', '선생님', '다른', '말씀', '다시', '자꾸', '환불', '혹시', '하고', '오늘', '너네', '얘들아'])\n",
            "\n",
            "기타 괴롭힘 대화의 가해자(중복제거) : ['그렇게', '새끼', '이렇게', '어디', '빨리', '얼굴', '친구', '장애', '냄새', '말고', '거지', '같은', '뭐가', '돼지', '다니', '것도', '너는', '없어', '못생', '알아']\n",
            "\n",
            "기타 괴롭힘 대화의 피해자(중복제거) : ['손님', '그만', '제발', '제가', '죄송', '미안', '그렇', '말이', '나도', '그게', '저희', '그건', '나한', '잘못', '이러', '선생님', '다른', '말씀', '다시', '자꾸']\n"
          ]
        }
      ]
    },
    {
      "cell_type": "markdown",
      "source": [
        "위 키워드를 바탕으로 중복을 제거한 가해자들의 키워드를 따로 저장해줌.\n",
        "\n",
        "피해자는 대부분 `네? 죄송합니다. 미안 ` 등의 키워드가 나와서 비슷한 모습을 볼 수 있음.\n",
        "\n",
        "공격적인 내용의 대부분은 가해자가 하는 말에의해 결정된다고 볼 수 있음."
      ],
      "metadata": {
        "id": "Z5qBGWzrFE9O"
      }
    },
    {
      "cell_type": "code",
      "source": [
        "att_keyword = extort_att + work_att + threat_att + other_att"
      ],
      "metadata": {
        "id": "Rx1VxMf6E8bz"
      },
      "execution_count": 17,
      "outputs": []
    },
    {
      "cell_type": "code",
      "source": [
        "# 중복 제거\n",
        "att_keyword = list(set(att_keyword))\n",
        "len(att_keyword)"
      ],
      "metadata": {
        "colab": {
          "base_uri": "https://localhost:8080/"
        },
        "id": "SI3h2b1FFgCh",
        "outputId": "78279654-2a7c-4a72-92b1-dd8942913a25"
      },
      "execution_count": 18,
      "outputs": [
        {
          "output_type": "execute_result",
          "data": {
            "text/plain": [
              "57"
            ]
          },
          "metadata": {},
          "execution_count": 18
        }
      ]
    },
    {
      "cell_type": "code",
      "source": [
        "batch_sen[1]"
      ],
      "metadata": {
        "colab": {
          "base_uri": "https://localhost:8080/"
        },
        "id": "3TihCERcNM1U",
        "outputId": "dc38cebf-333c-446c-c05c-2dab79ec1383"
      },
      "execution_count": 19,
      "outputs": [
        {
          "output_type": "execute_result",
          "data": {
            "text/plain": [
              "['나 당근 마켓에 화장품 올렸던 거 알아',\n",
              " '당근 마켓이 뭐야',\n",
              " '그런 건 처음 듣는데  마트야',\n",
              " '너 어린 애가 당근 마켓도 모르니',\n",
              " '그러게 나 문찐인가 봐 키키',\n",
              " '뭐 하는 건데',\n",
              " '동네 사람들이랑 거래하는 거야',\n",
              " '아  택배 거래 아니고 직거래',\n",
              " '어 근데 택배 거래도 상대방이랑 얘기해서 가능해',\n",
              " '오 괜찮다 키키',\n",
              " '그렇지만 무섭지 않아',\n",
              " '돈 들고 튀면 어떡해',\n",
              " '그래서 되도록 현금 가져오라고 하지',\n",
              " '오    계좌 이체 하는 건 아니고',\n",
              " '응 그것도 해도 되고 나는 되도록 현금 추구함',\n",
              " '그렇구나 화장품 뭐 팔았어',\n",
              " '나 몰래 내 꺼 판 거 아니지',\n",
              " '그럴 리가  올영에서 샀는데 양이 많아서 하나 올렸지',\n",
              " '그런 거 있으면 나나 주지 왜 팔아',\n",
              " '아니  너랑 사는 곳이 멀잖아',\n",
              " '그건 인정 당근 마켓 유용하네 키키',\n",
              " '나 몰랐는데 박보검 군대 갔니',\n",
              " '어휴 간 지가 언젠데  우리 오빠 열일 하잖아',\n",
              " '맞아 해군으로 갔다고 하더라',\n",
              " '그래 사진 봤어',\n",
              " '정복 잘 어울려 보검씨',\n",
              " '야 사람들이 박보검 잘생겼다고 했잖아',\n",
              " '이제 알았잖아 그거 보고 키키',\n",
              " '나 무슨 군대 드라마 한편 본 줄 알았어 키키',\n",
              " '진짜 잘생겼더라',\n",
              " '나는 한 장밖에 못 봤는데 여러 장 있니',\n",
              " '공유 좀',\n",
              " '네이버 기사에 많이 올라 오더라',\n",
              " '확실히 박보검 최고',\n",
              " '보통 연예인들 군대 사진 보면 일반 사람 같던데 박보검은 진짜 연예인이더라 키키',\n",
              " '어 맞아 군대 사진으로 옥택연도 유명한데 봤어',\n",
              " '옥택연은 못 봤는데 그 사람도 해군이야',\n",
              " '아니 육군으로 간 것 같더라',\n",
              " '피지컬이 더 좋아졌어',\n",
              " '육군이면 이끼룩 입었겠네 전역했어',\n",
              " '전역한 것 같던데  요즘 티비에 자주 봐',\n",
              " '아 진짜  나는 요즘에 티비를 안 봐서 몰랐네',\n",
              " '티비도 좀 보고 살아 언니',\n",
              " '너의 최애 영화는 뭐야',\n",
              " '나 작년에 나오 테넷이 내 최애 영화야',\n",
              " '언니는',\n",
              " '나오 테넷이라는 제목을 가진 영화야',\n",
              " '앗 오타    작년에 나온 영화야',\n",
              " '아아 테넷이 영화 제목이구나',\n",
              " '무슨 장르야',\n",
              " '이건    공상 과학 영화야',\n",
              " '언니는 이거 봤어',\n",
              " '아니 에스 에프면 승리호 봐야지',\n",
              " '우리 사랑스러운 중기',\n",
              " '아 그거도 이미 점령했지 키키',\n",
              " '유해진이 너무 웃기더라',\n",
              " '맞아 애들 다 졸귀야',\n",
              " '근데 테넷에는 누구 나와',\n",
              " '잘 모르는 배우지만 감독이 인터스텔라 감독이래 키키',\n",
              " '그 감독은 공상 과학을 사랑하시는 분인가 보네',\n",
              " '응 그런 것 같아 비슷한 장르지만 다 달라 키키',\n",
              " '나도 쉬는 날 한번 봐야겠다',\n",
              " '응 영화관에서 아이 맥스로 보는 거 추천해',\n",
              " '아이 맥스는 또 뭐야 문찐은 웁니다 흙',\n",
              " '영화관에서 비싼 거 발권 해 달라 해  키키',\n",
              " '나 어제 닭볶음탕 먹었는데 넌 뭐 먹었어',\n",
              " '아  난 짬뽕을 만들어 먹었어',\n",
              " '헐 짬뽕을 어떻게 만들어 먹어',\n",
              " '아 나 어제 네이버로 레시피 보고 만들었어',\n",
              " '그 레시피 나도 공유해 줄 수 있어',\n",
              " '어 그럼 물론이지',\n",
              " '지금 알려줄까',\n",
              " '응 재료는 뭐 준비해야 해',\n",
              " '난 마트에서 오징어랑 새우 야채는 무조건 듬뿍',\n",
              " '요즘에 오징어 값 비싸지 않아',\n",
              " '글쎄 엄마가 사서 나도 잘 몰라',\n",
              " '아 엄마랑 같이 먹었어',\n",
              " '어 가족이랑 같이 먹었지',\n",
              " '가족이랑 먹으니까 맛도 더 있었겠네',\n",
              " '어 그럼 정말 맛있더라',\n",
              " '나도 다음에 놀러 가면 짬뽕 해 줘',\n",
              " '그래 무조건 그렇게 하자',\n",
              " '너 저번에 살았던 집은 어떻게 됐어',\n",
              " '계약 만료돼서 집에 내려왔지',\n",
              " '너 중간에 내려가지 않았어',\n",
              " '어 그랬는데 잘 해결됐어',\n",
              " '그렇구나 니 집 저번에 사건 있었잖아',\n",
              " '아 그때 완전 끔찍했지',\n",
              " '맞아 그때 난리도 아니었잖아',\n",
              " '진짜 미치는 줄 알았다니까',\n",
              " '니가 살던 집은 월세가 얼마였어',\n",
              " '내가 살던 집 아마 50이야',\n",
              " '관리비 포함해서 50인 거야',\n",
              " '어 다 포함해서 그렇게  되더라',\n",
              " '그래도 서울 집 값 생각하면 저렴한 거네',\n",
              " '맞아 맞아 그렇게 생각하면 그러네',\n",
              " '맞아 그렇지 원룸이라고 했나',\n",
              " '어 그래 맞아 원룸이야',\n",
              " '너는 집에 뭐 타고 가',\n",
              " '나는 집에 버스 타고 가',\n",
              " '버스 배차 간격은 어떻게 돼',\n",
              " '배차 간격이 10분 정도 되는 거 같더라',\n",
              " '생각보다 빠르게 집 가는구나',\n",
              " '응 맞아 버스가 자주 와',\n",
              " '버스 안에 사람들 많아',\n",
              " '어 코로나인데도 꽤 많더라',\n",
              " '우리 논산 집은 배차 간격이 20분인데',\n",
              " '아 진짜 생각보다 기네',\n",
              " '맞아 타는 분이 다 어르신들이야',\n",
              " '여기도  뭐 다르지 않아',\n",
              " '그렇지  문경도 어르신 비율이 많나',\n",
              " '맞아 생각보다 꽤 있으시더라고',\n",
              " '맞아 버스 기사 님은 친절하셔',\n",
              " '어 맞아 그러신 거 같아',\n",
              " '너 요새 하는 아르바이트 있어',\n",
              " '어 나 요새 재택 알바하고 있어',\n",
              " '역시 코로나 떄문에 다들 재택 알바 하는구나',\n",
              " '어 그렇지 그게 좋아',\n",
              " '그러면 출퇴 시간은 없는 거네',\n",
              " '그럼 당연하지 정말 좋아',\n",
              " '하루 일당이 어떻게 돼',\n",
              " '어 하루 일당으로 안 하고 시급으로 해',\n",
              " '시급이라면 하루에 몇 시간 해',\n",
              " '하루에 보통 5시간 하는 거 같은데',\n",
              " '그럼 남은 시간은 뭐 해',\n",
              " '남은 시간 내 자유 시간',\n",
              " '진짜 개 부럽다',\n",
              " '나도 재택 알바 하고 싶다',\n",
              " '완전 부럽지 재택 알바',\n",
              " '그러니까 자유 시간 때 주로 뭐 해',\n",
              " '보통 예능 보거나 드라마 보지',\n",
              " '책도 읽고',\n",
              " '고랭  무슨 책 읽어',\n",
              " '어 시간에 대한 책 요즘 읽고 있어',\n",
              " '니 동생이 몇 살이라고 했지',\n",
              " '어 네 살 차이니까 스물 한 살이야',\n",
              " '4살 차이구나',\n",
              " '남동생이라고 했었지',\n",
              " '어 맞아 사랑스러운 남동생이지',\n",
              " '그럼 지금 군대 제대 했겠네',\n",
              " '아니 아직 지금 군바리지',\n",
              " '그나저나 진짜 사랑스러운 남동생 맞아  키키',\n",
              " '어 아주 징글 징글한 남동생이지',\n",
              " '키키 역시 남매의 사랑이란 키키',\n",
              " '그러면 지금 어디에 있어',\n",
              " '어디 있는지 모르겠다',\n",
              " '살아 있을까',\n",
              " '역시 그래도 가족이랑 배웅해 줬을 거 아니야',\n",
              " '아니 친구랑 배웅하고 갔다 하더라고',\n",
              " '아 진짜 가족이랑 같이 안 갔어',\n",
              " '어 가족이랑은 만날 수가 없었고 친구가 우선이야 걔는',\n",
              " '근데 내 사촌 남동생도 그랬어',\n",
              " '니 동생이 몇 살이라고 했지',\n",
              " '너 요새 뭐 배운다고 하지 않았어',\n",
              " '어 내가  뭘 배운다고 했더라',\n",
              " '너 요새 컴퓨터 공부 한다 그랬잖아',\n",
              " '아 맞다 이거 너무 힘들다',\n",
              " '개 웃기넹',\n",
              " '지금 어디까지 배웠어',\n",
              " '어 지금 독학으로 하고 있는데 엑셀',\n",
              " '컴활 자격증 따려고 하는 거지',\n",
              " '어 물론이지 정말 새롭다',\n",
              " '책 사서 공부하는 거야',\n",
              " '어 지금 책으로  공부해',\n",
              " '멋있다',\n",
              " '무슨 책 샀어',\n",
              " '어 글쎄 제목은 기억은 안 나는데  두껍다',\n",
              " '키키 역시 컴활 배울 게 많지',\n",
              " '어 맞아 무지막지하게 엄청나더라',\n",
              " '근데 나는 책 봐도 무슨 소리인지 모르겠더라',\n",
              " '그니까 맞아 아주 미치겠어',\n",
              " '그거 유튭 보면서 하는 거 추천',\n",
              " '올 좋은데 추천 감사',\n",
              " '너 혼자 산 지가 얼마나 됐어',\n",
              " '글쎄 이제 4년 넘었지',\n",
              " '헐 완전 으른이네 으른이야',\n",
              " '그치 이제 혼자 사는 건 익숙하다',\n",
              " '혼자 사는 거 안 외로워',\n",
              " '물론 처음에는 외로웠지',\n",
              " '근데 괜찮아져',\n",
              " '부모님이랑 가끔 연락은 하지',\n",
              " '그럼 초반에는 연락했지',\n",
              " '지금도 물론하고',\n",
              " '근데 지금 가족이랑 같이 사는 거 아니야',\n",
              " '응 그렇지 너무 좋다',\n",
              " '근데도 자주 연락을 해',\n",
              " '어 부모님 출퇴근 하기 전에 연락하지',\n",
              " '아 그렇구나 그러면 청소 분담은 어떻게 해',\n",
              " '어 설거지는 보통 번갈아 해',\n",
              " '그러면 방 청소는 어떻게 해',\n",
              " '보통 아빠가 주로 하고 있어']"
            ]
          },
          "metadata": {},
          "execution_count": 19
        }
      ]
    },
    {
      "cell_type": "code",
      "source": [
        "def select_normal_conversation(sen, att_keyword, threshold=0.2):\n",
        "\n",
        "  \n",
        "  from krwordrank.sentence import summarize_with_sentences\n",
        "\n",
        "  texts = sen\n",
        "  keywords_client, sents = summarize_with_sentences(texts, num_keywords=30, \n",
        "                                           num_keysents=5, max_length=10, diversity=0.5)\n",
        "\n",
        "  keywords_client = list(keywords_client.keys())\n",
        "  keywords_att = att_keyword\n",
        "\n",
        "  length = len(keywords_client)\n",
        "\n",
        "  clean_keywords = []\n",
        "  for word in keywords_client:\n",
        "    if not word in keywords_att:\n",
        "      clean_keywords.append(word)\n",
        "  \n",
        "  clean_ratio = len(clean_keywords) / length\n",
        "  if clean_ratio > threshold:\n",
        "    return True\n",
        "  else:\n",
        "    return False"
      ],
      "metadata": {
        "id": "ju-18HM6Fq27"
      },
      "execution_count": 20,
      "outputs": []
    },
    {
      "cell_type": "code",
      "source": [
        "select_batch_idx = []\n",
        "attack_batch_idx = []\n",
        "\n",
        "for i in range(len(batch_sen)):\n",
        "  try:\n",
        "    if select_normal_conversation(batch_sen[i], att_keyword):\n",
        "      select_batch_idx.append(i)\n",
        "    else:\n",
        "      attack_batch_idx.append(i)\n",
        "  except:\n",
        "    continue"
      ],
      "metadata": {
        "id": "v0VHdLbUMPjj"
      },
      "execution_count": 21,
      "outputs": []
    },
    {
      "cell_type": "code",
      "source": [
        "len(attack_batch_idx)"
      ],
      "metadata": {
        "colab": {
          "base_uri": "https://localhost:8080/"
        },
        "id": "hVRqZ14HMvp4",
        "outputId": "cdc8b70d-b41d-49a3-85ad-ec99e5f6fc9b"
      },
      "execution_count": 22,
      "outputs": [
        {
          "output_type": "execute_result",
          "data": {
            "text/plain": [
              "1"
            ]
          },
          "metadata": {},
          "execution_count": 22
        }
      ]
    },
    {
      "cell_type": "code",
      "source": [
        "normal_idx = []\n",
        "for i in select_batch_idx:\n",
        "  normal_idx += idx[i]\n",
        "\n",
        "attack_idx = []\n",
        "for i in attack_batch_idx:\n",
        "  attack_idx += idx[i]"
      ],
      "metadata": {
        "id": "wnk6Y2jGQXxc"
      },
      "execution_count": 23,
      "outputs": []
    },
    {
      "cell_type": "code",
      "source": [
        "len(normal_idx), len(attack_idx)"
      ],
      "metadata": {
        "colab": {
          "base_uri": "https://localhost:8080/"
        },
        "id": "29p7n6szQltE",
        "outputId": "86642e11-fb64-433d-b012-27ea00ffc291"
      },
      "execution_count": 24,
      "outputs": [
        {
          "output_type": "execute_result",
          "data": {
            "text/plain": [
              "(26970, 10)"
            ]
          },
          "metadata": {},
          "execution_count": 24
        }
      ]
    },
    {
      "cell_type": "code",
      "source": [
        "filtered_attack_conv = normal_conv.iloc[attack_idx]\n",
        "filtered_attack_conv"
      ],
      "metadata": {
        "id": "qt7ZHtrXAOLV",
        "colab": {
          "base_uri": "https://localhost:8080/",
          "height": 363
        },
        "outputId": "463b09ee-6cf0-4e9f-fbd0-b62f8df1b25d"
      },
      "execution_count": 25,
      "outputs": [
        {
          "output_type": "execute_result",
          "data": {
            "text/plain": [
              "                                          label_sentence  \\\n",
              "24170  1:우리 아이 오늘 부터 미술학원 다녀요\\n2:축하해요  좋아하던가요\\n1:너무 좋...   \n",
              "24171  1:나 우리 엄마 자동차 사드렸어\\n2:우리 어제 가족 사진을 찍었어 오랜만이라 좋...   \n",
              "24172  1:국제결혼 하는 거 어때보여\\n2:본인의 선택인 거 같아  난 찬성\\n1:근처에 ...   \n",
              "24173  1:너네들 강아지 키워\\n2:응  지난 달부터 키우기 시작했어\\n1:아하  나는 키...   \n",
              "24174  1:형부가 낚시줄에 바늘을 끼고 있어서 뭐하는지 물어봤어요\\n2:고기 밥 준비하시는...   \n",
              "24175  1:배틀그라운드 알아\\n2:나는 생소하네\\n1:그런거야  요즘 인기인가봐\\n2:요즘...   \n",
              "24176  1:요즘 이상기후 문제야\\n2:맞아 너무 추워지고 더워져\\n1:그러게   환경 보전...   \n",
              "24177  1:나 방금 뉴스보다가 어처구니 없는거 봤다\\n2:뭔데 뭔데 뭔데\\n1:제주도 빵집...   \n",
              "24178  1:요즘 피부 탄력이 많이 떨어진가 같아서 콜라겐을 먹어볼까 하는데 어때\\n2:난 ...   \n",
              "24179  1:재밌는 책 추천해 줘\\n2: 봉제인형 살인사건  알아\\n1:그게 무슨 책이야\\n...   \n",
              "\n",
              "                                      non_label_sentence  class binary_class  \\\n",
              "24170  우리 아이 오늘 부터 미술학원 다녀요\\n축하해요  좋아하던가요\\n너무 좋아 하더라구...  일반 대화        일반 대화   \n",
              "24171  나 우리 엄마 자동차 사드렸어\\n우리 어제 가족 사진을 찍었어 오랜만이라 좋더라고\\...  일반 대화        일반 대화   \n",
              "24172  국제결혼 하는 거 어때보여\\n본인의 선택인 거 같아  난 찬성\\n근처에 국제 결혼 ...  일반 대화        일반 대화   \n",
              "24173  너네들 강아지 키워\\n응  지난 달부터 키우기 시작했어\\n아하  나는 키운지 얼마 ...  일반 대화        일반 대화   \n",
              "24174  형부가 낚시줄에 바늘을 끼고 있어서 뭐하는지 물어봤어요\\n고기 밥 준비하시는 거였나...  일반 대화        일반 대화   \n",
              "24175  배틀그라운드 알아\\n나는 생소하네\\n그런거야  요즘 인기인가봐\\n요즘 많이 한데\\n...  일반 대화        일반 대화   \n",
              "24176  요즘 이상기후 문제야\\n맞아 너무 추워지고 더워져\\n그러게   환경 보전 신경써야 ...  일반 대화        일반 대화   \n",
              "24177  나 방금 뉴스보다가 어처구니 없는거 봤다\\n뭔데 뭔데 뭔데\\n제주도 빵집에서 어떤 ...  일반 대화        일반 대화   \n",
              "24178  요즘 피부 탄력이 많이 떨어진가 같아서 콜라겐을 먹어볼까 하는데 어때\\n난 콜라겐 ...  일반 대화        일반 대화   \n",
              "24179  재밌는 책 추천해 줘\\n봉제인형 살인사건  알아\\n그게 무슨 책이야\\n추리소설이야\\...  일반 대화        일반 대화   \n",
              "\n",
              "      type  \n",
              "24170  SNS  \n",
              "24171  SNS  \n",
              "24172  SNS  \n",
              "24173  SNS  \n",
              "24174  SNS  \n",
              "24175  SNS  \n",
              "24176  SNS  \n",
              "24177  SNS  \n",
              "24178  SNS  \n",
              "24179  SNS  "
            ],
            "text/html": [
              "\n",
              "  <div id=\"df-256c3826-47b2-481b-99dd-e2aee26c9f57\">\n",
              "    <div class=\"colab-df-container\">\n",
              "      <div>\n",
              "<style scoped>\n",
              "    .dataframe tbody tr th:only-of-type {\n",
              "        vertical-align: middle;\n",
              "    }\n",
              "\n",
              "    .dataframe tbody tr th {\n",
              "        vertical-align: top;\n",
              "    }\n",
              "\n",
              "    .dataframe thead th {\n",
              "        text-align: right;\n",
              "    }\n",
              "</style>\n",
              "<table border=\"1\" class=\"dataframe\">\n",
              "  <thead>\n",
              "    <tr style=\"text-align: right;\">\n",
              "      <th></th>\n",
              "      <th>label_sentence</th>\n",
              "      <th>non_label_sentence</th>\n",
              "      <th>class</th>\n",
              "      <th>binary_class</th>\n",
              "      <th>type</th>\n",
              "    </tr>\n",
              "  </thead>\n",
              "  <tbody>\n",
              "    <tr>\n",
              "      <th>24170</th>\n",
              "      <td>1:우리 아이 오늘 부터 미술학원 다녀요\\n2:축하해요  좋아하던가요\\n1:너무 좋...</td>\n",
              "      <td>우리 아이 오늘 부터 미술학원 다녀요\\n축하해요  좋아하던가요\\n너무 좋아 하더라구...</td>\n",
              "      <td>일반 대화</td>\n",
              "      <td>일반 대화</td>\n",
              "      <td>SNS</td>\n",
              "    </tr>\n",
              "    <tr>\n",
              "      <th>24171</th>\n",
              "      <td>1:나 우리 엄마 자동차 사드렸어\\n2:우리 어제 가족 사진을 찍었어 오랜만이라 좋...</td>\n",
              "      <td>나 우리 엄마 자동차 사드렸어\\n우리 어제 가족 사진을 찍었어 오랜만이라 좋더라고\\...</td>\n",
              "      <td>일반 대화</td>\n",
              "      <td>일반 대화</td>\n",
              "      <td>SNS</td>\n",
              "    </tr>\n",
              "    <tr>\n",
              "      <th>24172</th>\n",
              "      <td>1:국제결혼 하는 거 어때보여\\n2:본인의 선택인 거 같아  난 찬성\\n1:근처에 ...</td>\n",
              "      <td>국제결혼 하는 거 어때보여\\n본인의 선택인 거 같아  난 찬성\\n근처에 국제 결혼 ...</td>\n",
              "      <td>일반 대화</td>\n",
              "      <td>일반 대화</td>\n",
              "      <td>SNS</td>\n",
              "    </tr>\n",
              "    <tr>\n",
              "      <th>24173</th>\n",
              "      <td>1:너네들 강아지 키워\\n2:응  지난 달부터 키우기 시작했어\\n1:아하  나는 키...</td>\n",
              "      <td>너네들 강아지 키워\\n응  지난 달부터 키우기 시작했어\\n아하  나는 키운지 얼마 ...</td>\n",
              "      <td>일반 대화</td>\n",
              "      <td>일반 대화</td>\n",
              "      <td>SNS</td>\n",
              "    </tr>\n",
              "    <tr>\n",
              "      <th>24174</th>\n",
              "      <td>1:형부가 낚시줄에 바늘을 끼고 있어서 뭐하는지 물어봤어요\\n2:고기 밥 준비하시는...</td>\n",
              "      <td>형부가 낚시줄에 바늘을 끼고 있어서 뭐하는지 물어봤어요\\n고기 밥 준비하시는 거였나...</td>\n",
              "      <td>일반 대화</td>\n",
              "      <td>일반 대화</td>\n",
              "      <td>SNS</td>\n",
              "    </tr>\n",
              "    <tr>\n",
              "      <th>24175</th>\n",
              "      <td>1:배틀그라운드 알아\\n2:나는 생소하네\\n1:그런거야  요즘 인기인가봐\\n2:요즘...</td>\n",
              "      <td>배틀그라운드 알아\\n나는 생소하네\\n그런거야  요즘 인기인가봐\\n요즘 많이 한데\\n...</td>\n",
              "      <td>일반 대화</td>\n",
              "      <td>일반 대화</td>\n",
              "      <td>SNS</td>\n",
              "    </tr>\n",
              "    <tr>\n",
              "      <th>24176</th>\n",
              "      <td>1:요즘 이상기후 문제야\\n2:맞아 너무 추워지고 더워져\\n1:그러게   환경 보전...</td>\n",
              "      <td>요즘 이상기후 문제야\\n맞아 너무 추워지고 더워져\\n그러게   환경 보전 신경써야 ...</td>\n",
              "      <td>일반 대화</td>\n",
              "      <td>일반 대화</td>\n",
              "      <td>SNS</td>\n",
              "    </tr>\n",
              "    <tr>\n",
              "      <th>24177</th>\n",
              "      <td>1:나 방금 뉴스보다가 어처구니 없는거 봤다\\n2:뭔데 뭔데 뭔데\\n1:제주도 빵집...</td>\n",
              "      <td>나 방금 뉴스보다가 어처구니 없는거 봤다\\n뭔데 뭔데 뭔데\\n제주도 빵집에서 어떤 ...</td>\n",
              "      <td>일반 대화</td>\n",
              "      <td>일반 대화</td>\n",
              "      <td>SNS</td>\n",
              "    </tr>\n",
              "    <tr>\n",
              "      <th>24178</th>\n",
              "      <td>1:요즘 피부 탄력이 많이 떨어진가 같아서 콜라겐을 먹어볼까 하는데 어때\\n2:난 ...</td>\n",
              "      <td>요즘 피부 탄력이 많이 떨어진가 같아서 콜라겐을 먹어볼까 하는데 어때\\n난 콜라겐 ...</td>\n",
              "      <td>일반 대화</td>\n",
              "      <td>일반 대화</td>\n",
              "      <td>SNS</td>\n",
              "    </tr>\n",
              "    <tr>\n",
              "      <th>24179</th>\n",
              "      <td>1:재밌는 책 추천해 줘\\n2: 봉제인형 살인사건  알아\\n1:그게 무슨 책이야\\n...</td>\n",
              "      <td>재밌는 책 추천해 줘\\n봉제인형 살인사건  알아\\n그게 무슨 책이야\\n추리소설이야\\...</td>\n",
              "      <td>일반 대화</td>\n",
              "      <td>일반 대화</td>\n",
              "      <td>SNS</td>\n",
              "    </tr>\n",
              "  </tbody>\n",
              "</table>\n",
              "</div>\n",
              "      <button class=\"colab-df-convert\" onclick=\"convertToInteractive('df-256c3826-47b2-481b-99dd-e2aee26c9f57')\"\n",
              "              title=\"Convert this dataframe to an interactive table.\"\n",
              "              style=\"display:none;\">\n",
              "        \n",
              "  <svg xmlns=\"http://www.w3.org/2000/svg\" height=\"24px\"viewBox=\"0 0 24 24\"\n",
              "       width=\"24px\">\n",
              "    <path d=\"M0 0h24v24H0V0z\" fill=\"none\"/>\n",
              "    <path d=\"M18.56 5.44l.94 2.06.94-2.06 2.06-.94-2.06-.94-.94-2.06-.94 2.06-2.06.94zm-11 1L8.5 8.5l.94-2.06 2.06-.94-2.06-.94L8.5 2.5l-.94 2.06-2.06.94zm10 10l.94 2.06.94-2.06 2.06-.94-2.06-.94-.94-2.06-.94 2.06-2.06.94z\"/><path d=\"M17.41 7.96l-1.37-1.37c-.4-.4-.92-.59-1.43-.59-.52 0-1.04.2-1.43.59L10.3 9.45l-7.72 7.72c-.78.78-.78 2.05 0 2.83L4 21.41c.39.39.9.59 1.41.59.51 0 1.02-.2 1.41-.59l7.78-7.78 2.81-2.81c.8-.78.8-2.07 0-2.86zM5.41 20L4 18.59l7.72-7.72 1.47 1.35L5.41 20z\"/>\n",
              "  </svg>\n",
              "      </button>\n",
              "      \n",
              "  <style>\n",
              "    .colab-df-container {\n",
              "      display:flex;\n",
              "      flex-wrap:wrap;\n",
              "      gap: 12px;\n",
              "    }\n",
              "\n",
              "    .colab-df-convert {\n",
              "      background-color: #E8F0FE;\n",
              "      border: none;\n",
              "      border-radius: 50%;\n",
              "      cursor: pointer;\n",
              "      display: none;\n",
              "      fill: #1967D2;\n",
              "      height: 32px;\n",
              "      padding: 0 0 0 0;\n",
              "      width: 32px;\n",
              "    }\n",
              "\n",
              "    .colab-df-convert:hover {\n",
              "      background-color: #E2EBFA;\n",
              "      box-shadow: 0px 1px 2px rgba(60, 64, 67, 0.3), 0px 1px 3px 1px rgba(60, 64, 67, 0.15);\n",
              "      fill: #174EA6;\n",
              "    }\n",
              "\n",
              "    [theme=dark] .colab-df-convert {\n",
              "      background-color: #3B4455;\n",
              "      fill: #D2E3FC;\n",
              "    }\n",
              "\n",
              "    [theme=dark] .colab-df-convert:hover {\n",
              "      background-color: #434B5C;\n",
              "      box-shadow: 0px 1px 3px 1px rgba(0, 0, 0, 0.15);\n",
              "      filter: drop-shadow(0px 1px 2px rgba(0, 0, 0, 0.3));\n",
              "      fill: #FFFFFF;\n",
              "    }\n",
              "  </style>\n",
              "\n",
              "      <script>\n",
              "        const buttonEl =\n",
              "          document.querySelector('#df-256c3826-47b2-481b-99dd-e2aee26c9f57 button.colab-df-convert');\n",
              "        buttonEl.style.display =\n",
              "          google.colab.kernel.accessAllowed ? 'block' : 'none';\n",
              "\n",
              "        async function convertToInteractive(key) {\n",
              "          const element = document.querySelector('#df-256c3826-47b2-481b-99dd-e2aee26c9f57');\n",
              "          const dataTable =\n",
              "            await google.colab.kernel.invokeFunction('convertToInteractive',\n",
              "                                                     [key], {});\n",
              "          if (!dataTable) return;\n",
              "\n",
              "          const docLinkHtml = 'Like what you see? Visit the ' +\n",
              "            '<a target=\"_blank\" href=https://colab.research.google.com/notebooks/data_table.ipynb>data table notebook</a>'\n",
              "            + ' to learn more about interactive tables.';\n",
              "          element.innerHTML = '';\n",
              "          dataTable['output_type'] = 'display_data';\n",
              "          await google.colab.output.renderOutput(dataTable, element);\n",
              "          const docLink = document.createElement('div');\n",
              "          docLink.innerHTML = docLinkHtml;\n",
              "          element.appendChild(docLink);\n",
              "        }\n",
              "      </script>\n",
              "    </div>\n",
              "  </div>\n",
              "  "
            ]
          },
          "metadata": {},
          "execution_count": 25
        }
      ]
    },
    {
      "cell_type": "code",
      "source": [
        "print(filtered_attack_conv['label_sentence'][24170])"
      ],
      "metadata": {
        "colab": {
          "base_uri": "https://localhost:8080/"
        },
        "id": "3uLBgXuaMsXc",
        "outputId": "83cefc28-154b-4e51-f903-71a659905038"
      },
      "execution_count": 33,
      "outputs": [
        {
          "output_type": "stream",
          "name": "stdout",
          "text": [
            "1:우리 아이 오늘 부터 미술학원 다녀요\n",
            "2:축하해요  좋아하던가요\n",
            "1:너무 좋아 하더라구요 예전부터 보내 달라 했었는데 이제 겨우 보냈거든요\n",
            "2:우리 아이도 가고 싶어하는데 못 보내고 있어요\n",
            "1:그나마 저도 겨우 간다고 하는곳이 미술이네요\n",
            "2:가고 싶다고 하는 곳이 있어서 좋네요\n",
            "1:저희도 무리해서 보내는거라서 더 간다고 할까봐 무서울 때가 있네요\n",
            "2:한다고 하면 다 시켜줄텐데 의욕이 없네요\n"
          ]
        }
      ]
    },
    {
      "cell_type": "code",
      "source": [
        "print(filtered_attack_conv['label_sentence'][24171])"
      ],
      "metadata": {
        "colab": {
          "base_uri": "https://localhost:8080/"
        },
        "id": "L-wsc_xfNogT",
        "outputId": "eb635c14-fd05-4175-831f-d1e01478b978"
      },
      "execution_count": 34,
      "outputs": [
        {
          "output_type": "stream",
          "name": "stdout",
          "text": [
            "1:나 우리 엄마 자동차 사드렸어\n",
            "2:우리 어제 가족 사진을 찍었어 오랜만이라 좋더라고\n",
            "1:지난번에 찍으러 간다고 하지 않았어  그 날 못 갔구나\n",
            "2:어 그래서 어제 찍었어 좋더라고\n",
            "1:자동차 사드리니 너무 좋아하시더라고\n",
            "1:그래서 엄마랑 하루종일 운전 연습하고 들어왔어\n",
            "2:좋겠다 엄마랑 운전도 같이 연습하고 보기 좋다\n",
            "1:너무 좋아하시더라고  화낼 뻔 했지만 참았어\n",
            "2:엄마랑 데이트 엄청 부럽다\n",
            "2:우리 모녀는 운전 할수 있는 사람이 없어서 아쉽네\n"
          ]
        }
      ]
    },
    {
      "cell_type": "code",
      "source": [
        "print(filtered_attack_conv['label_sentence'][24172])"
      ],
      "metadata": {
        "colab": {
          "base_uri": "https://localhost:8080/"
        },
        "id": "0hqhQ3LjEYqL",
        "outputId": "0bdff872-570a-4976-fd69-388a1dcf5914"
      },
      "execution_count": 35,
      "outputs": [
        {
          "output_type": "stream",
          "name": "stdout",
          "text": [
            "1:국제결혼 하는 거 어때보여\n",
            "2:본인의 선택인 거 같아  난 찬성\n",
            "1:근처에 국제 결혼 한 커플이 있어\n",
            "2:물론 언어적인 문제도 있겠지만 더러 잘 살더라\n",
            "1:나는 파키스탄인과 인도인과 결혼한 친구들 있는데 다들 잘 살더라\n",
            "2:요즘 유튜브 보다보면 그런 커플들 이야기가 많아\n",
            "1:베트남에서 한베가정은 행복해보였어\n",
            "2:일반적으로는 불행해보였어\n",
            "2:뭔가 겉도는 느낌이라고 할까\n"
          ]
        }
      ]
    },
    {
      "cell_type": "code",
      "source": [
        "print(filtered_attack_conv['label_sentence'][24173])"
      ],
      "metadata": {
        "colab": {
          "base_uri": "https://localhost:8080/"
        },
        "id": "tFxa9UICEZDh",
        "outputId": "598dedc6-f45f-4124-ed14-4323256d42c7"
      },
      "execution_count": 36,
      "outputs": [
        {
          "output_type": "stream",
          "name": "stdout",
          "text": [
            "1:너네들 강아지 키워\n",
            "2:응  지난 달부터 키우기 시작했어\n",
            "1:아하  나는 키운지 얼마 안 됐어\n",
            "2:정말 귀엽겠다  배변 훈련은 했어\n",
            "1:너희들은 어떻게 훈련했어\n",
            "2:나는 배변패드에서 볼일을 보면 칭찬을 했어\n",
            "1:정말  쉽지 않겠다\n",
            "2:응  아직도 배변패드에서 볼일을 안 보는 경우가 많아\n"
          ]
        }
      ]
    },
    {
      "cell_type": "code",
      "source": [
        "print(filtered_attack_conv['label_sentence'][24174])"
      ],
      "metadata": {
        "colab": {
          "base_uri": "https://localhost:8080/"
        },
        "id": "OZPukV2QEZX1",
        "outputId": "44260c26-6233-4b16-a069-6b5484382488"
      },
      "execution_count": 37,
      "outputs": [
        {
          "output_type": "stream",
          "name": "stdout",
          "text": [
            "1:형부가 낚시줄에 바늘을 끼고 있어서 뭐하는지 물어봤어요\n",
            "2:고기 밥 준비하시는 거였나요\n",
            "1:11월달에 또 갈치 낚시를 간다고 하더라고요\n",
            "2:춥지 않나요\n",
            "1:몇개월에 한번씩 바다 낚시를 가는 형부가 이해가 안가요\n",
            "2:이야기를 들어보니 저도 이해가 안 갑니다\n",
            "1:가서 생고생만 하고 오는데도 좋아하더라고요\n",
            "2:집나가면 생고생인데 다들 왜 그러시는지\n"
          ]
        }
      ]
    },
    {
      "cell_type": "code",
      "source": [
        "print(filtered_attack_conv['label_sentence'][24175])"
      ],
      "metadata": {
        "colab": {
          "base_uri": "https://localhost:8080/"
        },
        "id": "GI2VPBhjEfQj",
        "outputId": "0d534ff2-a331-4ad3-ef4c-27d1d6f331fe"
      },
      "execution_count": 39,
      "outputs": [
        {
          "output_type": "stream",
          "name": "stdout",
          "text": [
            "1:배틀그라운드 알아\n",
            "2:나는 생소하네\n",
            "1:그런거야  요즘 인기인가봐\n",
            "2:요즘 많이 한데\n",
            "1:난 게임을 잘 몰라서 궁금해\n",
            "2:젊은 사람들이 하는 건가 보다\n",
            "1:총 쏘는 건 싫은데\n",
            "2:온라인으로 하는 건가\n"
          ]
        }
      ]
    },
    {
      "cell_type": "code",
      "source": [
        "print(filtered_attack_conv['label_sentence'][24176])"
      ],
      "metadata": {
        "colab": {
          "base_uri": "https://localhost:8080/"
        },
        "id": "c-CmJ_zNEfiK",
        "outputId": "61294092-6c85-4b39-9c8a-026cbeaf94c6"
      },
      "execution_count": 40,
      "outputs": [
        {
          "output_type": "stream",
          "name": "stdout",
          "text": [
            "1:요즘 이상기후 문제야\n",
            "2:맞아 너무 추워지고 더워져\n",
            "1:그러게   환경 보전 신경써야 되는데\n",
            "2:그렇지 환경 오염이 문제지\n",
            "1:이 가을에 단풍도 없는거 같아\n",
            "2:헉 가을에 단풍이 없다니 슬프다\n",
            "1:단풍이 안이쁘데\n",
            "2:코로나로 축제도 다 없데\n"
          ]
        }
      ]
    },
    {
      "cell_type": "code",
      "source": [
        "print(filtered_attack_conv['label_sentence'][24177])"
      ],
      "metadata": {
        "colab": {
          "base_uri": "https://localhost:8080/"
        },
        "id": "0awV_lSyEfwx",
        "outputId": "e029ef96-231c-4f0b-bba4-8c04555e9149"
      },
      "execution_count": 41,
      "outputs": [
        {
          "output_type": "stream",
          "name": "stdout",
          "text": [
            "1:나 방금 뉴스보다가 어처구니 없는거 봤다\n",
            "2:뭔데 뭔데 뭔데\n",
            "1:제주도 빵집에서 어떤 할머니가 문을 못열어서 보다못한 청년이 문을 대신 열어줬거든\n",
            "2:착한사람이네\n",
            "2:좋은 일 했구만\n",
            "1:근데 그 할머니가 균형을 잃고 넘어지면서 뇌손상이 와서 사망하셨고 청년은 과실치사로 입건됐대\n",
            "2:헐  도와주려다가 감옥가게 되는거야\n",
            "1:모르겠어\n",
            "1:사람이 죽고 유족들이 신고하면 입건이 안될수가 없다나봐\n",
            "2:참 답답하네 뭔가\n"
          ]
        }
      ]
    },
    {
      "cell_type": "code",
      "source": [
        "print(filtered_attack_conv['label_sentence'][24178])"
      ],
      "metadata": {
        "colab": {
          "base_uri": "https://localhost:8080/"
        },
        "id": "hLX83ME3EgEp",
        "outputId": "31d41568-49ba-4805-e133-e8ebba13d5a6"
      },
      "execution_count": 42,
      "outputs": [
        {
          "output_type": "stream",
          "name": "stdout",
          "text": [
            "1:요즘 피부 탄력이 많이 떨어진가 같아서 콜라겐을 먹어볼까 하는데 어때\n",
            "2:난 콜라겐 먹고 있어\n",
            "1:정말  언니가 먹는 콜라겐은 뭐야\n",
            "2:요즘은 먹기편하게 젤리로도 나오더라고\n",
            "1:응 난 알약보다 가루가 더 맞는거같아\n",
            "1:젤리형태로 된 콜라겐도 괜찮겠다\n",
            "2:응 후기보면 맛도 있어서 약같이 느껴지지않는다하네\n",
            "1:맛도 중요하지만 효과가있어야하니 후기를 자세히 봐야겠어\n",
            "2:응 꼼꼼히 찾아봐\n"
          ]
        }
      ]
    },
    {
      "cell_type": "code",
      "source": [
        "print(filtered_attack_conv['label_sentence'][24179])"
      ],
      "metadata": {
        "colab": {
          "base_uri": "https://localhost:8080/"
        },
        "id": "AYn-FpNWEgVT",
        "outputId": "9f34dd84-4be0-40fc-8f34-fad4ab72ffa5"
      },
      "execution_count": 43,
      "outputs": [
        {
          "output_type": "stream",
          "name": "stdout",
          "text": [
            "1:재밌는 책 추천해 줘\n",
            "2: 봉제인형 살인사건  알아\n",
            "1:그게 무슨 책이야\n",
            "2:추리소설이야\n",
            "1:나 다니엘 콜 작품 다 좋아해\n",
            "2:그럼  봉제인형 살인사건  꼭 읽어\n",
            "1:그건 언제 출시했어\n",
            "2:올해 2월에 출시했어\n"
          ]
        }
      ]
    },
    {
      "cell_type": "code",
      "source": [
        "df = pd.read_csv('/content/drive/MyDrive/AIFFELTHON/TUNiB/real_norm_data.csv')\n",
        "df"
      ],
      "metadata": {
        "colab": {
          "base_uri": "https://localhost:8080/",
          "height": 424
        },
        "id": "hNxVyW56Q0_s",
        "outputId": "a104e113-97f5-4be6-9b7a-7a17d7fc7d9b"
      },
      "execution_count": 28,
      "outputs": [
        {
          "output_type": "execute_result",
          "data": {
            "text/plain": [
              "        type                                 non_label_sentence  \\\n",
              "0       고객센터  네 침구 추가를 해야 할 것 같아서요\\n네 1세트가 필요하신 건가요\\n네 맞습니다 ...   \n",
              "1       고객센터  네 예약하려면 어떻게 해야 하나요\\n네 회원 가입 후 로그인 하셔서 예약하시면 되세...   \n",
              "2       고객센터  네 객실 인원이 추가될 경우엔 어떻게 하면 되나요\\n아 일반적인 스탠다드 디럭스 객...   \n",
              "3       고객센터  네 듣고 보니 코인 세탁 방이 있다고 하던 데요\\n아 코인 런더리룸이요\\n네 어디에...   \n",
              "4       고객센터  네 혹시 부대 시설로 편의점이 있나요\\n네 호텔 1층에 위치해 있습니다\\n아 어떤 ...   \n",
              "...      ...                                                ...   \n",
              "106225   카카오  일본 진짜 가고 싶다\\n나 요새 맨날 이 애기 하잖아\\n인정 솔직히 너 일본에서 명...   \n",
              "106226   카카오  오늘 친구네 강아지 산책하는데 따라갔다 왔다\\n와 부러워 전에 그 바닷가 사는 애\\...   \n",
              "106227   카카오  요즘에 엄마가 나 씻고 화장하면 남자 만나냐고 물어봄\\n갑자기 집이랑 만 왔다 갔다...   \n",
              "106228   카카오  주말에 보드 타러 갈래 사상에 괜찮은 데 있음 잘 가르치던대\\n뭐 바퀴 달린 거 그...   \n",
              "106229   카카오  우리 집 뒤에 중국집 가지마\\n왜 너 거기 좋아했잖아 맛있다며\\n다 다음 달까지 거...   \n",
              "\n",
              "                                           label_sentence  class binary_class  \n",
              "0       1:반갑습니다 입니다\\n2:네 침구 추가를 해야 할 것 같아서요\\n1:네 1세트가 ...  일반 대화        일반 대화  \n",
              "1       1:반갑습니다 입니다\\n2:네 예약하려면 어떻게 해야 하나요\\n1:네 회원 가입 후...  일반 대화        일반 대화  \n",
              "2       1:반갑습니다 입니다\\n2:네 객실 인원이 추가될 경우엔 어떻게 하면 되나요\\n1:...  일반 대화        일반 대화  \n",
              "3       1:반갑습니다 입니다\\n2:네 듣고 보니 코인 세탁 방이 있다고 하던 데요\\n1:아...  일반 대화        일반 대화  \n",
              "4       1:반갑습니다 입니다\\n2:네 혹시 부대 시설로 편의점이 있나요\\n1:네 호텔 1층...  일반 대화        일반 대화  \n",
              "...                                                   ...    ...          ...  \n",
              "106225  1:일본 진짜 가고 싶다\\n1:나 요새 맨날 이 애기 하잖아\\n2:인정 솔직히 너 ...  일반 대화        일반 대화  \n",
              "106226  1:오늘 친구네 강아지 산책하는데 따라갔다 왔다\\n2:와 부러워 전에 그 바닷가 사...  일반 대화        일반 대화  \n",
              "106227  1:요즘에 엄마가 나 씻고 화장하면 남자 만나냐고 물어봄\\n2:갑자기 집이랑 만 왔...  일반 대화        일반 대화  \n",
              "106228  1:주말에 보드 타러 갈래 사상에 괜찮은 데 있음 잘 가르치던대\\n2:뭐 바퀴 달린...  일반 대화        일반 대화  \n",
              "106229  1:우리 집 뒤에 중국집 가지마\\n2:왜 너 거기 좋아했잖아 맛있다며\\n1:다 다음...  일반 대화        일반 대화  \n",
              "\n",
              "[106230 rows x 5 columns]"
            ],
            "text/html": [
              "\n",
              "  <div id=\"df-0c966209-729c-4fd8-9bd8-45504e0d3c70\">\n",
              "    <div class=\"colab-df-container\">\n",
              "      <div>\n",
              "<style scoped>\n",
              "    .dataframe tbody tr th:only-of-type {\n",
              "        vertical-align: middle;\n",
              "    }\n",
              "\n",
              "    .dataframe tbody tr th {\n",
              "        vertical-align: top;\n",
              "    }\n",
              "\n",
              "    .dataframe thead th {\n",
              "        text-align: right;\n",
              "    }\n",
              "</style>\n",
              "<table border=\"1\" class=\"dataframe\">\n",
              "  <thead>\n",
              "    <tr style=\"text-align: right;\">\n",
              "      <th></th>\n",
              "      <th>type</th>\n",
              "      <th>non_label_sentence</th>\n",
              "      <th>label_sentence</th>\n",
              "      <th>class</th>\n",
              "      <th>binary_class</th>\n",
              "    </tr>\n",
              "  </thead>\n",
              "  <tbody>\n",
              "    <tr>\n",
              "      <th>0</th>\n",
              "      <td>고객센터</td>\n",
              "      <td>네 침구 추가를 해야 할 것 같아서요\\n네 1세트가 필요하신 건가요\\n네 맞습니다 ...</td>\n",
              "      <td>1:반갑습니다 입니다\\n2:네 침구 추가를 해야 할 것 같아서요\\n1:네 1세트가 ...</td>\n",
              "      <td>일반 대화</td>\n",
              "      <td>일반 대화</td>\n",
              "    </tr>\n",
              "    <tr>\n",
              "      <th>1</th>\n",
              "      <td>고객센터</td>\n",
              "      <td>네 예약하려면 어떻게 해야 하나요\\n네 회원 가입 후 로그인 하셔서 예약하시면 되세...</td>\n",
              "      <td>1:반갑습니다 입니다\\n2:네 예약하려면 어떻게 해야 하나요\\n1:네 회원 가입 후...</td>\n",
              "      <td>일반 대화</td>\n",
              "      <td>일반 대화</td>\n",
              "    </tr>\n",
              "    <tr>\n",
              "      <th>2</th>\n",
              "      <td>고객센터</td>\n",
              "      <td>네 객실 인원이 추가될 경우엔 어떻게 하면 되나요\\n아 일반적인 스탠다드 디럭스 객...</td>\n",
              "      <td>1:반갑습니다 입니다\\n2:네 객실 인원이 추가될 경우엔 어떻게 하면 되나요\\n1:...</td>\n",
              "      <td>일반 대화</td>\n",
              "      <td>일반 대화</td>\n",
              "    </tr>\n",
              "    <tr>\n",
              "      <th>3</th>\n",
              "      <td>고객센터</td>\n",
              "      <td>네 듣고 보니 코인 세탁 방이 있다고 하던 데요\\n아 코인 런더리룸이요\\n네 어디에...</td>\n",
              "      <td>1:반갑습니다 입니다\\n2:네 듣고 보니 코인 세탁 방이 있다고 하던 데요\\n1:아...</td>\n",
              "      <td>일반 대화</td>\n",
              "      <td>일반 대화</td>\n",
              "    </tr>\n",
              "    <tr>\n",
              "      <th>4</th>\n",
              "      <td>고객센터</td>\n",
              "      <td>네 혹시 부대 시설로 편의점이 있나요\\n네 호텔 1층에 위치해 있습니다\\n아 어떤 ...</td>\n",
              "      <td>1:반갑습니다 입니다\\n2:네 혹시 부대 시설로 편의점이 있나요\\n1:네 호텔 1층...</td>\n",
              "      <td>일반 대화</td>\n",
              "      <td>일반 대화</td>\n",
              "    </tr>\n",
              "    <tr>\n",
              "      <th>...</th>\n",
              "      <td>...</td>\n",
              "      <td>...</td>\n",
              "      <td>...</td>\n",
              "      <td>...</td>\n",
              "      <td>...</td>\n",
              "    </tr>\n",
              "    <tr>\n",
              "      <th>106225</th>\n",
              "      <td>카카오</td>\n",
              "      <td>일본 진짜 가고 싶다\\n나 요새 맨날 이 애기 하잖아\\n인정 솔직히 너 일본에서 명...</td>\n",
              "      <td>1:일본 진짜 가고 싶다\\n1:나 요새 맨날 이 애기 하잖아\\n2:인정 솔직히 너 ...</td>\n",
              "      <td>일반 대화</td>\n",
              "      <td>일반 대화</td>\n",
              "    </tr>\n",
              "    <tr>\n",
              "      <th>106226</th>\n",
              "      <td>카카오</td>\n",
              "      <td>오늘 친구네 강아지 산책하는데 따라갔다 왔다\\n와 부러워 전에 그 바닷가 사는 애\\...</td>\n",
              "      <td>1:오늘 친구네 강아지 산책하는데 따라갔다 왔다\\n2:와 부러워 전에 그 바닷가 사...</td>\n",
              "      <td>일반 대화</td>\n",
              "      <td>일반 대화</td>\n",
              "    </tr>\n",
              "    <tr>\n",
              "      <th>106227</th>\n",
              "      <td>카카오</td>\n",
              "      <td>요즘에 엄마가 나 씻고 화장하면 남자 만나냐고 물어봄\\n갑자기 집이랑 만 왔다 갔다...</td>\n",
              "      <td>1:요즘에 엄마가 나 씻고 화장하면 남자 만나냐고 물어봄\\n2:갑자기 집이랑 만 왔...</td>\n",
              "      <td>일반 대화</td>\n",
              "      <td>일반 대화</td>\n",
              "    </tr>\n",
              "    <tr>\n",
              "      <th>106228</th>\n",
              "      <td>카카오</td>\n",
              "      <td>주말에 보드 타러 갈래 사상에 괜찮은 데 있음 잘 가르치던대\\n뭐 바퀴 달린 거 그...</td>\n",
              "      <td>1:주말에 보드 타러 갈래 사상에 괜찮은 데 있음 잘 가르치던대\\n2:뭐 바퀴 달린...</td>\n",
              "      <td>일반 대화</td>\n",
              "      <td>일반 대화</td>\n",
              "    </tr>\n",
              "    <tr>\n",
              "      <th>106229</th>\n",
              "      <td>카카오</td>\n",
              "      <td>우리 집 뒤에 중국집 가지마\\n왜 너 거기 좋아했잖아 맛있다며\\n다 다음 달까지 거...</td>\n",
              "      <td>1:우리 집 뒤에 중국집 가지마\\n2:왜 너 거기 좋아했잖아 맛있다며\\n1:다 다음...</td>\n",
              "      <td>일반 대화</td>\n",
              "      <td>일반 대화</td>\n",
              "    </tr>\n",
              "  </tbody>\n",
              "</table>\n",
              "<p>106230 rows × 5 columns</p>\n",
              "</div>\n",
              "      <button class=\"colab-df-convert\" onclick=\"convertToInteractive('df-0c966209-729c-4fd8-9bd8-45504e0d3c70')\"\n",
              "              title=\"Convert this dataframe to an interactive table.\"\n",
              "              style=\"display:none;\">\n",
              "        \n",
              "  <svg xmlns=\"http://www.w3.org/2000/svg\" height=\"24px\"viewBox=\"0 0 24 24\"\n",
              "       width=\"24px\">\n",
              "    <path d=\"M0 0h24v24H0V0z\" fill=\"none\"/>\n",
              "    <path d=\"M18.56 5.44l.94 2.06.94-2.06 2.06-.94-2.06-.94-.94-2.06-.94 2.06-2.06.94zm-11 1L8.5 8.5l.94-2.06 2.06-.94-2.06-.94L8.5 2.5l-.94 2.06-2.06.94zm10 10l.94 2.06.94-2.06 2.06-.94-2.06-.94-.94-2.06-.94 2.06-2.06.94z\"/><path d=\"M17.41 7.96l-1.37-1.37c-.4-.4-.92-.59-1.43-.59-.52 0-1.04.2-1.43.59L10.3 9.45l-7.72 7.72c-.78.78-.78 2.05 0 2.83L4 21.41c.39.39.9.59 1.41.59.51 0 1.02-.2 1.41-.59l7.78-7.78 2.81-2.81c.8-.78.8-2.07 0-2.86zM5.41 20L4 18.59l7.72-7.72 1.47 1.35L5.41 20z\"/>\n",
              "  </svg>\n",
              "      </button>\n",
              "      \n",
              "  <style>\n",
              "    .colab-df-container {\n",
              "      display:flex;\n",
              "      flex-wrap:wrap;\n",
              "      gap: 12px;\n",
              "    }\n",
              "\n",
              "    .colab-df-convert {\n",
              "      background-color: #E8F0FE;\n",
              "      border: none;\n",
              "      border-radius: 50%;\n",
              "      cursor: pointer;\n",
              "      display: none;\n",
              "      fill: #1967D2;\n",
              "      height: 32px;\n",
              "      padding: 0 0 0 0;\n",
              "      width: 32px;\n",
              "    }\n",
              "\n",
              "    .colab-df-convert:hover {\n",
              "      background-color: #E2EBFA;\n",
              "      box-shadow: 0px 1px 2px rgba(60, 64, 67, 0.3), 0px 1px 3px 1px rgba(60, 64, 67, 0.15);\n",
              "      fill: #174EA6;\n",
              "    }\n",
              "\n",
              "    [theme=dark] .colab-df-convert {\n",
              "      background-color: #3B4455;\n",
              "      fill: #D2E3FC;\n",
              "    }\n",
              "\n",
              "    [theme=dark] .colab-df-convert:hover {\n",
              "      background-color: #434B5C;\n",
              "      box-shadow: 0px 1px 3px 1px rgba(0, 0, 0, 0.15);\n",
              "      filter: drop-shadow(0px 1px 2px rgba(0, 0, 0, 0.3));\n",
              "      fill: #FFFFFF;\n",
              "    }\n",
              "  </style>\n",
              "\n",
              "      <script>\n",
              "        const buttonEl =\n",
              "          document.querySelector('#df-0c966209-729c-4fd8-9bd8-45504e0d3c70 button.colab-df-convert');\n",
              "        buttonEl.style.display =\n",
              "          google.colab.kernel.accessAllowed ? 'block' : 'none';\n",
              "\n",
              "        async function convertToInteractive(key) {\n",
              "          const element = document.querySelector('#df-0c966209-729c-4fd8-9bd8-45504e0d3c70');\n",
              "          const dataTable =\n",
              "            await google.colab.kernel.invokeFunction('convertToInteractive',\n",
              "                                                     [key], {});\n",
              "          if (!dataTable) return;\n",
              "\n",
              "          const docLinkHtml = 'Like what you see? Visit the ' +\n",
              "            '<a target=\"_blank\" href=https://colab.research.google.com/notebooks/data_table.ipynb>data table notebook</a>'\n",
              "            + ' to learn more about interactive tables.';\n",
              "          element.innerHTML = '';\n",
              "          dataTable['output_type'] = 'display_data';\n",
              "          await google.colab.output.renderOutput(dataTable, element);\n",
              "          const docLink = document.createElement('div');\n",
              "          docLink.innerHTML = docLinkHtml;\n",
              "          element.appendChild(docLink);\n",
              "        }\n",
              "      </script>\n",
              "    </div>\n",
              "  </div>\n",
              "  "
            ]
          },
          "metadata": {},
          "execution_count": 28
        }
      ]
    },
    {
      "cell_type": "code",
      "source": [
        "norm_data = pd.concat([filtered_normal_conv, df], ignore_index=True)\n",
        "norm_data"
      ],
      "metadata": {
        "colab": {
          "base_uri": "https://localhost:8080/",
          "height": 424
        },
        "id": "GwUsBVKjRE-c",
        "outputId": "d9f15d83-dcf5-41d7-c564-5ab1ef6aedc4"
      },
      "execution_count": 29,
      "outputs": [
        {
          "output_type": "execute_result",
          "data": {
            "text/plain": [
              "                                           label_sentence  \\\n",
              "0       1:야 니 남친은 잘 지내고 있니\\n2:이야 한숨만 나온다\\n2:엊그제 그래도 40...   \n",
              "1       1:나 궁금한 게 하나 있어\\n2:응 그게 뭔데 자기야\\n1:작은 아빠는 풍산개를 ...   \n",
              "2       1:너 최근에 했던 운동이 뭐야\\n2:나 등산 갔었지\\n2:관악산 올라가 봤나\\n1...   \n",
              "3       1:니가 최근에 했던 게임이 뭐였지\\n2:나 오버 워치 너무 사랑하지\\n1:요즘 애...   \n",
              "4       1:여행 대선배로서 추천할 여행지 있니\\n2:나 최근에 부산에 다녀왔잖아 좋더라\\n...   \n",
              "...                                                   ...   \n",
              "133195  1:일본 진짜 가고 싶다\\n1:나 요새 맨날 이 애기 하잖아\\n2:인정 솔직히 너 ...   \n",
              "133196  1:오늘 친구네 강아지 산책하는데 따라갔다 왔다\\n2:와 부러워 전에 그 바닷가 사...   \n",
              "133197  1:요즘에 엄마가 나 씻고 화장하면 남자 만나냐고 물어봄\\n2:갑자기 집이랑 만 왔...   \n",
              "133198  1:주말에 보드 타러 갈래 사상에 괜찮은 데 있음 잘 가르치던대\\n2:뭐 바퀴 달린...   \n",
              "133199  1:우리 집 뒤에 중국집 가지마\\n2:왜 너 거기 좋아했잖아 맛있다며\\n1:다 다음...   \n",
              "\n",
              "                                       non_label_sentence  class binary_class  \\\n",
              "0       야 니 남친은 잘 지내고 있니\\n이야 한숨만 나온다\\n엊그제 그래도 400일이었어\\...  일반 대화        일반 대화   \n",
              "1       나 궁금한 게 하나 있어\\n응 그게 뭔데 자기야\\n작은 아빠는 풍산개를 어디서 그렇...  일반 대화        일반 대화   \n",
              "2       너 최근에 했던 운동이 뭐야\\n나 등산 갔었지\\n관악산 올라가 봤나\\n관악산이 어디...  일반 대화        일반 대화   \n",
              "3       니가 최근에 했던 게임이 뭐였지\\n나 오버 워치 너무 사랑하지\\n요즘 애들은 총 쏘...  일반 대화        일반 대화   \n",
              "4       여행 대선배로서 추천할 여행지 있니\\n나 최근에 부산에 다녀왔잖아 좋더라\\n하 나 ...  일반 대화        일반 대화   \n",
              "...                                                   ...    ...          ...   \n",
              "133195  일본 진짜 가고 싶다\\n나 요새 맨날 이 애기 하잖아\\n인정 솔직히 너 일본에서 명...  일반 대화        일반 대화   \n",
              "133196  오늘 친구네 강아지 산책하는데 따라갔다 왔다\\n와 부러워 전에 그 바닷가 사는 애\\...  일반 대화        일반 대화   \n",
              "133197  요즘에 엄마가 나 씻고 화장하면 남자 만나냐고 물어봄\\n갑자기 집이랑 만 왔다 갔다...  일반 대화        일반 대화   \n",
              "133198  주말에 보드 타러 갈래 사상에 괜찮은 데 있음 잘 가르치던대\\n뭐 바퀴 달린 거 그...  일반 대화        일반 대화   \n",
              "133199  우리 집 뒤에 중국집 가지마\\n왜 너 거기 좋아했잖아 맛있다며\\n다 다음 달까지 거...  일반 대화        일반 대화   \n",
              "\n",
              "       type  \n",
              "0       SNS  \n",
              "1       SNS  \n",
              "2       SNS  \n",
              "3       SNS  \n",
              "4       SNS  \n",
              "...     ...  \n",
              "133195  카카오  \n",
              "133196  카카오  \n",
              "133197  카카오  \n",
              "133198  카카오  \n",
              "133199  카카오  \n",
              "\n",
              "[133200 rows x 5 columns]"
            ],
            "text/html": [
              "\n",
              "  <div id=\"df-23a5038c-41ee-4462-b4a4-29a83c84f8c1\">\n",
              "    <div class=\"colab-df-container\">\n",
              "      <div>\n",
              "<style scoped>\n",
              "    .dataframe tbody tr th:only-of-type {\n",
              "        vertical-align: middle;\n",
              "    }\n",
              "\n",
              "    .dataframe tbody tr th {\n",
              "        vertical-align: top;\n",
              "    }\n",
              "\n",
              "    .dataframe thead th {\n",
              "        text-align: right;\n",
              "    }\n",
              "</style>\n",
              "<table border=\"1\" class=\"dataframe\">\n",
              "  <thead>\n",
              "    <tr style=\"text-align: right;\">\n",
              "      <th></th>\n",
              "      <th>label_sentence</th>\n",
              "      <th>non_label_sentence</th>\n",
              "      <th>class</th>\n",
              "      <th>binary_class</th>\n",
              "      <th>type</th>\n",
              "    </tr>\n",
              "  </thead>\n",
              "  <tbody>\n",
              "    <tr>\n",
              "      <th>0</th>\n",
              "      <td>1:야 니 남친은 잘 지내고 있니\\n2:이야 한숨만 나온다\\n2:엊그제 그래도 40...</td>\n",
              "      <td>야 니 남친은 잘 지내고 있니\\n이야 한숨만 나온다\\n엊그제 그래도 400일이었어\\...</td>\n",
              "      <td>일반 대화</td>\n",
              "      <td>일반 대화</td>\n",
              "      <td>SNS</td>\n",
              "    </tr>\n",
              "    <tr>\n",
              "      <th>1</th>\n",
              "      <td>1:나 궁금한 게 하나 있어\\n2:응 그게 뭔데 자기야\\n1:작은 아빠는 풍산개를 ...</td>\n",
              "      <td>나 궁금한 게 하나 있어\\n응 그게 뭔데 자기야\\n작은 아빠는 풍산개를 어디서 그렇...</td>\n",
              "      <td>일반 대화</td>\n",
              "      <td>일반 대화</td>\n",
              "      <td>SNS</td>\n",
              "    </tr>\n",
              "    <tr>\n",
              "      <th>2</th>\n",
              "      <td>1:너 최근에 했던 운동이 뭐야\\n2:나 등산 갔었지\\n2:관악산 올라가 봤나\\n1...</td>\n",
              "      <td>너 최근에 했던 운동이 뭐야\\n나 등산 갔었지\\n관악산 올라가 봤나\\n관악산이 어디...</td>\n",
              "      <td>일반 대화</td>\n",
              "      <td>일반 대화</td>\n",
              "      <td>SNS</td>\n",
              "    </tr>\n",
              "    <tr>\n",
              "      <th>3</th>\n",
              "      <td>1:니가 최근에 했던 게임이 뭐였지\\n2:나 오버 워치 너무 사랑하지\\n1:요즘 애...</td>\n",
              "      <td>니가 최근에 했던 게임이 뭐였지\\n나 오버 워치 너무 사랑하지\\n요즘 애들은 총 쏘...</td>\n",
              "      <td>일반 대화</td>\n",
              "      <td>일반 대화</td>\n",
              "      <td>SNS</td>\n",
              "    </tr>\n",
              "    <tr>\n",
              "      <th>4</th>\n",
              "      <td>1:여행 대선배로서 추천할 여행지 있니\\n2:나 최근에 부산에 다녀왔잖아 좋더라\\n...</td>\n",
              "      <td>여행 대선배로서 추천할 여행지 있니\\n나 최근에 부산에 다녀왔잖아 좋더라\\n하 나 ...</td>\n",
              "      <td>일반 대화</td>\n",
              "      <td>일반 대화</td>\n",
              "      <td>SNS</td>\n",
              "    </tr>\n",
              "    <tr>\n",
              "      <th>...</th>\n",
              "      <td>...</td>\n",
              "      <td>...</td>\n",
              "      <td>...</td>\n",
              "      <td>...</td>\n",
              "      <td>...</td>\n",
              "    </tr>\n",
              "    <tr>\n",
              "      <th>133195</th>\n",
              "      <td>1:일본 진짜 가고 싶다\\n1:나 요새 맨날 이 애기 하잖아\\n2:인정 솔직히 너 ...</td>\n",
              "      <td>일본 진짜 가고 싶다\\n나 요새 맨날 이 애기 하잖아\\n인정 솔직히 너 일본에서 명...</td>\n",
              "      <td>일반 대화</td>\n",
              "      <td>일반 대화</td>\n",
              "      <td>카카오</td>\n",
              "    </tr>\n",
              "    <tr>\n",
              "      <th>133196</th>\n",
              "      <td>1:오늘 친구네 강아지 산책하는데 따라갔다 왔다\\n2:와 부러워 전에 그 바닷가 사...</td>\n",
              "      <td>오늘 친구네 강아지 산책하는데 따라갔다 왔다\\n와 부러워 전에 그 바닷가 사는 애\\...</td>\n",
              "      <td>일반 대화</td>\n",
              "      <td>일반 대화</td>\n",
              "      <td>카카오</td>\n",
              "    </tr>\n",
              "    <tr>\n",
              "      <th>133197</th>\n",
              "      <td>1:요즘에 엄마가 나 씻고 화장하면 남자 만나냐고 물어봄\\n2:갑자기 집이랑 만 왔...</td>\n",
              "      <td>요즘에 엄마가 나 씻고 화장하면 남자 만나냐고 물어봄\\n갑자기 집이랑 만 왔다 갔다...</td>\n",
              "      <td>일반 대화</td>\n",
              "      <td>일반 대화</td>\n",
              "      <td>카카오</td>\n",
              "    </tr>\n",
              "    <tr>\n",
              "      <th>133198</th>\n",
              "      <td>1:주말에 보드 타러 갈래 사상에 괜찮은 데 있음 잘 가르치던대\\n2:뭐 바퀴 달린...</td>\n",
              "      <td>주말에 보드 타러 갈래 사상에 괜찮은 데 있음 잘 가르치던대\\n뭐 바퀴 달린 거 그...</td>\n",
              "      <td>일반 대화</td>\n",
              "      <td>일반 대화</td>\n",
              "      <td>카카오</td>\n",
              "    </tr>\n",
              "    <tr>\n",
              "      <th>133199</th>\n",
              "      <td>1:우리 집 뒤에 중국집 가지마\\n2:왜 너 거기 좋아했잖아 맛있다며\\n1:다 다음...</td>\n",
              "      <td>우리 집 뒤에 중국집 가지마\\n왜 너 거기 좋아했잖아 맛있다며\\n다 다음 달까지 거...</td>\n",
              "      <td>일반 대화</td>\n",
              "      <td>일반 대화</td>\n",
              "      <td>카카오</td>\n",
              "    </tr>\n",
              "  </tbody>\n",
              "</table>\n",
              "<p>133200 rows × 5 columns</p>\n",
              "</div>\n",
              "      <button class=\"colab-df-convert\" onclick=\"convertToInteractive('df-23a5038c-41ee-4462-b4a4-29a83c84f8c1')\"\n",
              "              title=\"Convert this dataframe to an interactive table.\"\n",
              "              style=\"display:none;\">\n",
              "        \n",
              "  <svg xmlns=\"http://www.w3.org/2000/svg\" height=\"24px\"viewBox=\"0 0 24 24\"\n",
              "       width=\"24px\">\n",
              "    <path d=\"M0 0h24v24H0V0z\" fill=\"none\"/>\n",
              "    <path d=\"M18.56 5.44l.94 2.06.94-2.06 2.06-.94-2.06-.94-.94-2.06-.94 2.06-2.06.94zm-11 1L8.5 8.5l.94-2.06 2.06-.94-2.06-.94L8.5 2.5l-.94 2.06-2.06.94zm10 10l.94 2.06.94-2.06 2.06-.94-2.06-.94-.94-2.06-.94 2.06-2.06.94z\"/><path d=\"M17.41 7.96l-1.37-1.37c-.4-.4-.92-.59-1.43-.59-.52 0-1.04.2-1.43.59L10.3 9.45l-7.72 7.72c-.78.78-.78 2.05 0 2.83L4 21.41c.39.39.9.59 1.41.59.51 0 1.02-.2 1.41-.59l7.78-7.78 2.81-2.81c.8-.78.8-2.07 0-2.86zM5.41 20L4 18.59l7.72-7.72 1.47 1.35L5.41 20z\"/>\n",
              "  </svg>\n",
              "      </button>\n",
              "      \n",
              "  <style>\n",
              "    .colab-df-container {\n",
              "      display:flex;\n",
              "      flex-wrap:wrap;\n",
              "      gap: 12px;\n",
              "    }\n",
              "\n",
              "    .colab-df-convert {\n",
              "      background-color: #E8F0FE;\n",
              "      border: none;\n",
              "      border-radius: 50%;\n",
              "      cursor: pointer;\n",
              "      display: none;\n",
              "      fill: #1967D2;\n",
              "      height: 32px;\n",
              "      padding: 0 0 0 0;\n",
              "      width: 32px;\n",
              "    }\n",
              "\n",
              "    .colab-df-convert:hover {\n",
              "      background-color: #E2EBFA;\n",
              "      box-shadow: 0px 1px 2px rgba(60, 64, 67, 0.3), 0px 1px 3px 1px rgba(60, 64, 67, 0.15);\n",
              "      fill: #174EA6;\n",
              "    }\n",
              "\n",
              "    [theme=dark] .colab-df-convert {\n",
              "      background-color: #3B4455;\n",
              "      fill: #D2E3FC;\n",
              "    }\n",
              "\n",
              "    [theme=dark] .colab-df-convert:hover {\n",
              "      background-color: #434B5C;\n",
              "      box-shadow: 0px 1px 3px 1px rgba(0, 0, 0, 0.15);\n",
              "      filter: drop-shadow(0px 1px 2px rgba(0, 0, 0, 0.3));\n",
              "      fill: #FFFFFF;\n",
              "    }\n",
              "  </style>\n",
              "\n",
              "      <script>\n",
              "        const buttonEl =\n",
              "          document.querySelector('#df-23a5038c-41ee-4462-b4a4-29a83c84f8c1 button.colab-df-convert');\n",
              "        buttonEl.style.display =\n",
              "          google.colab.kernel.accessAllowed ? 'block' : 'none';\n",
              "\n",
              "        async function convertToInteractive(key) {\n",
              "          const element = document.querySelector('#df-23a5038c-41ee-4462-b4a4-29a83c84f8c1');\n",
              "          const dataTable =\n",
              "            await google.colab.kernel.invokeFunction('convertToInteractive',\n",
              "                                                     [key], {});\n",
              "          if (!dataTable) return;\n",
              "\n",
              "          const docLinkHtml = 'Like what you see? Visit the ' +\n",
              "            '<a target=\"_blank\" href=https://colab.research.google.com/notebooks/data_table.ipynb>data table notebook</a>'\n",
              "            + ' to learn more about interactive tables.';\n",
              "          element.innerHTML = '';\n",
              "          dataTable['output_type'] = 'display_data';\n",
              "          await google.colab.output.renderOutput(dataTable, element);\n",
              "          const docLink = document.createElement('div');\n",
              "          docLink.innerHTML = docLinkHtml;\n",
              "          element.appendChild(docLink);\n",
              "        }\n",
              "      </script>\n",
              "    </div>\n",
              "  </div>\n",
              "  "
            ]
          },
          "metadata": {},
          "execution_count": 29
        }
      ]
    },
    {
      "cell_type": "code",
      "source": [
        "# norm_data.to_csv('/content/drive/MyDrive/AIFFELTHON/TUNiB/real_sns_data.csv', index=False)"
      ],
      "metadata": {
        "id": "4oUtxl0GO1W9"
      },
      "execution_count": 30,
      "outputs": []
    },
    {
      "cell_type": "markdown",
      "source": [
        "### 3. 비율에 따라 일반대화 추가\n",
        "\n",
        "먼저 카카오톡 대화와 고객센터 대화의 비율은 3:1로 정했습니다.\n",
        "\n",
        "기존의 공격대화에서 볼 때 직장 내 괴롭힘 클래스에 해당하는 대화를 제외하고는 대부분 가벼운 말투(야, 너, 가져와, 해라 등등)입니다.\n",
        "\n",
        "추가할 일반 데이터인 카카오톡 데이터와 고객센터 데이터를 비교해보면 카카오톡 데이터가 비교적 가벼운 말투로 이루어져있고, 고객센터 대화가 조금 더 딱딱한 말투로 이루어져 있기 때문에 이에 맞춰서 데이터의 비율을 정했습니다.\n",
        "\n",
        "먼저 공격대화를 일반 대화와 비슷하게 한글 숫자 제외하고 전부 전처리 해줍니다."
      ],
      "metadata": {
        "id": "s-dtWd_WRfxk"
      }
    },
    {
      "cell_type": "code",
      "source": [
        "import pandas as pd\n",
        "import numpy as np\n",
        "import re\n",
        "\n",
        "# 일반 대화 데이터\n",
        "normal_conv = pd.read_csv('/content/drive/MyDrive/AIFFELTHON/TUNiB/real_sns_data.csv')\n",
        "\n",
        "# 공격 대화 데이터\n",
        "attack_conv = pd.read_csv('/content/drive/MyDrive/AIFFELTHON/TUNiB/Augmentation/train&back_en2ko_fr2ko.csv')\n",
        "attack_conv2 = pd.read_csv('/content/drive/MyDrive/AIFFELTHON/TUNiB/back_translation/train_bt_ch2ko.csv')\n"
      ],
      "metadata": {
        "id": "_tD22ULU2cvy",
        "colab": {
          "base_uri": "https://localhost:8080/",
          "height": 408
        },
        "outputId": "fccc7251-7221-42a0-ac5a-a16956dee4d0"
      },
      "execution_count": 31,
      "outputs": [
        {
          "output_type": "error",
          "ename": "FileNotFoundError",
          "evalue": "ignored",
          "traceback": [
            "\u001b[0;31m---------------------------------------------------------------------------\u001b[0m",
            "\u001b[0;31mFileNotFoundError\u001b[0m                         Traceback (most recent call last)",
            "\u001b[0;32m<ipython-input-31-1edc847eff23>\u001b[0m in \u001b[0;36m<module>\u001b[0;34m\u001b[0m\n\u001b[1;32m      4\u001b[0m \u001b[0;34m\u001b[0m\u001b[0m\n\u001b[1;32m      5\u001b[0m \u001b[0;31m# 일반 대화 데이터\u001b[0m\u001b[0;34m\u001b[0m\u001b[0;34m\u001b[0m\u001b[0;34m\u001b[0m\u001b[0m\n\u001b[0;32m----> 6\u001b[0;31m \u001b[0mnormal_conv\u001b[0m \u001b[0;34m=\u001b[0m \u001b[0mpd\u001b[0m\u001b[0;34m.\u001b[0m\u001b[0mread_csv\u001b[0m\u001b[0;34m(\u001b[0m\u001b[0;34m'/content/drive/MyDrive/AIFFELTHON/TUNiB/real_sns_data.csv'\u001b[0m\u001b[0;34m)\u001b[0m\u001b[0;34m\u001b[0m\u001b[0;34m\u001b[0m\u001b[0m\n\u001b[0m\u001b[1;32m      7\u001b[0m \u001b[0;34m\u001b[0m\u001b[0m\n\u001b[1;32m      8\u001b[0m \u001b[0;31m# 공격 대화 데이터\u001b[0m\u001b[0;34m\u001b[0m\u001b[0;34m\u001b[0m\u001b[0;34m\u001b[0m\u001b[0m\n",
            "\u001b[0;32m/usr/local/lib/python3.7/dist-packages/pandas/util/_decorators.py\u001b[0m in \u001b[0;36mwrapper\u001b[0;34m(*args, **kwargs)\u001b[0m\n\u001b[1;32m    309\u001b[0m                     \u001b[0mstacklevel\u001b[0m\u001b[0;34m=\u001b[0m\u001b[0mstacklevel\u001b[0m\u001b[0;34m,\u001b[0m\u001b[0;34m\u001b[0m\u001b[0;34m\u001b[0m\u001b[0m\n\u001b[1;32m    310\u001b[0m                 )\n\u001b[0;32m--> 311\u001b[0;31m             \u001b[0;32mreturn\u001b[0m \u001b[0mfunc\u001b[0m\u001b[0;34m(\u001b[0m\u001b[0;34m*\u001b[0m\u001b[0margs\u001b[0m\u001b[0;34m,\u001b[0m \u001b[0;34m**\u001b[0m\u001b[0mkwargs\u001b[0m\u001b[0;34m)\u001b[0m\u001b[0;34m\u001b[0m\u001b[0;34m\u001b[0m\u001b[0m\n\u001b[0m\u001b[1;32m    312\u001b[0m \u001b[0;34m\u001b[0m\u001b[0m\n\u001b[1;32m    313\u001b[0m         \u001b[0;32mreturn\u001b[0m \u001b[0mwrapper\u001b[0m\u001b[0;34m\u001b[0m\u001b[0;34m\u001b[0m\u001b[0m\n",
            "\u001b[0;32m/usr/local/lib/python3.7/dist-packages/pandas/io/parsers/readers.py\u001b[0m in \u001b[0;36mread_csv\u001b[0;34m(filepath_or_buffer, sep, delimiter, header, names, index_col, usecols, squeeze, prefix, mangle_dupe_cols, dtype, engine, converters, true_values, false_values, skipinitialspace, skiprows, skipfooter, nrows, na_values, keep_default_na, na_filter, verbose, skip_blank_lines, parse_dates, infer_datetime_format, keep_date_col, date_parser, dayfirst, cache_dates, iterator, chunksize, compression, thousands, decimal, lineterminator, quotechar, quoting, doublequote, escapechar, comment, encoding, encoding_errors, dialect, error_bad_lines, warn_bad_lines, on_bad_lines, delim_whitespace, low_memory, memory_map, float_precision, storage_options)\u001b[0m\n\u001b[1;32m    584\u001b[0m     \u001b[0mkwds\u001b[0m\u001b[0;34m.\u001b[0m\u001b[0mupdate\u001b[0m\u001b[0;34m(\u001b[0m\u001b[0mkwds_defaults\u001b[0m\u001b[0;34m)\u001b[0m\u001b[0;34m\u001b[0m\u001b[0;34m\u001b[0m\u001b[0m\n\u001b[1;32m    585\u001b[0m \u001b[0;34m\u001b[0m\u001b[0m\n\u001b[0;32m--> 586\u001b[0;31m     \u001b[0;32mreturn\u001b[0m \u001b[0m_read\u001b[0m\u001b[0;34m(\u001b[0m\u001b[0mfilepath_or_buffer\u001b[0m\u001b[0;34m,\u001b[0m \u001b[0mkwds\u001b[0m\u001b[0;34m)\u001b[0m\u001b[0;34m\u001b[0m\u001b[0;34m\u001b[0m\u001b[0m\n\u001b[0m\u001b[1;32m    587\u001b[0m \u001b[0;34m\u001b[0m\u001b[0m\n\u001b[1;32m    588\u001b[0m \u001b[0;34m\u001b[0m\u001b[0m\n",
            "\u001b[0;32m/usr/local/lib/python3.7/dist-packages/pandas/io/parsers/readers.py\u001b[0m in \u001b[0;36m_read\u001b[0;34m(filepath_or_buffer, kwds)\u001b[0m\n\u001b[1;32m    480\u001b[0m \u001b[0;34m\u001b[0m\u001b[0m\n\u001b[1;32m    481\u001b[0m     \u001b[0;31m# Create the parser.\u001b[0m\u001b[0;34m\u001b[0m\u001b[0;34m\u001b[0m\u001b[0;34m\u001b[0m\u001b[0m\n\u001b[0;32m--> 482\u001b[0;31m     \u001b[0mparser\u001b[0m \u001b[0;34m=\u001b[0m \u001b[0mTextFileReader\u001b[0m\u001b[0;34m(\u001b[0m\u001b[0mfilepath_or_buffer\u001b[0m\u001b[0;34m,\u001b[0m \u001b[0;34m**\u001b[0m\u001b[0mkwds\u001b[0m\u001b[0;34m)\u001b[0m\u001b[0;34m\u001b[0m\u001b[0;34m\u001b[0m\u001b[0m\n\u001b[0m\u001b[1;32m    483\u001b[0m \u001b[0;34m\u001b[0m\u001b[0m\n\u001b[1;32m    484\u001b[0m     \u001b[0;32mif\u001b[0m \u001b[0mchunksize\u001b[0m \u001b[0;32mor\u001b[0m \u001b[0miterator\u001b[0m\u001b[0;34m:\u001b[0m\u001b[0;34m\u001b[0m\u001b[0;34m\u001b[0m\u001b[0m\n",
            "\u001b[0;32m/usr/local/lib/python3.7/dist-packages/pandas/io/parsers/readers.py\u001b[0m in \u001b[0;36m__init__\u001b[0;34m(self, f, engine, **kwds)\u001b[0m\n\u001b[1;32m    809\u001b[0m             \u001b[0mself\u001b[0m\u001b[0;34m.\u001b[0m\u001b[0moptions\u001b[0m\u001b[0;34m[\u001b[0m\u001b[0;34m\"has_index_names\"\u001b[0m\u001b[0;34m]\u001b[0m \u001b[0;34m=\u001b[0m \u001b[0mkwds\u001b[0m\u001b[0;34m[\u001b[0m\u001b[0;34m\"has_index_names\"\u001b[0m\u001b[0;34m]\u001b[0m\u001b[0;34m\u001b[0m\u001b[0;34m\u001b[0m\u001b[0m\n\u001b[1;32m    810\u001b[0m \u001b[0;34m\u001b[0m\u001b[0m\n\u001b[0;32m--> 811\u001b[0;31m         \u001b[0mself\u001b[0m\u001b[0;34m.\u001b[0m\u001b[0m_engine\u001b[0m \u001b[0;34m=\u001b[0m \u001b[0mself\u001b[0m\u001b[0;34m.\u001b[0m\u001b[0m_make_engine\u001b[0m\u001b[0;34m(\u001b[0m\u001b[0mself\u001b[0m\u001b[0;34m.\u001b[0m\u001b[0mengine\u001b[0m\u001b[0;34m)\u001b[0m\u001b[0;34m\u001b[0m\u001b[0;34m\u001b[0m\u001b[0m\n\u001b[0m\u001b[1;32m    812\u001b[0m \u001b[0;34m\u001b[0m\u001b[0m\n\u001b[1;32m    813\u001b[0m     \u001b[0;32mdef\u001b[0m \u001b[0mclose\u001b[0m\u001b[0;34m(\u001b[0m\u001b[0mself\u001b[0m\u001b[0;34m)\u001b[0m\u001b[0;34m:\u001b[0m\u001b[0;34m\u001b[0m\u001b[0;34m\u001b[0m\u001b[0m\n",
            "\u001b[0;32m/usr/local/lib/python3.7/dist-packages/pandas/io/parsers/readers.py\u001b[0m in \u001b[0;36m_make_engine\u001b[0;34m(self, engine)\u001b[0m\n\u001b[1;32m   1038\u001b[0m             )\n\u001b[1;32m   1039\u001b[0m         \u001b[0;31m# error: Too many arguments for \"ParserBase\"\u001b[0m\u001b[0;34m\u001b[0m\u001b[0;34m\u001b[0m\u001b[0;34m\u001b[0m\u001b[0m\n\u001b[0;32m-> 1040\u001b[0;31m         \u001b[0;32mreturn\u001b[0m \u001b[0mmapping\u001b[0m\u001b[0;34m[\u001b[0m\u001b[0mengine\u001b[0m\u001b[0;34m]\u001b[0m\u001b[0;34m(\u001b[0m\u001b[0mself\u001b[0m\u001b[0;34m.\u001b[0m\u001b[0mf\u001b[0m\u001b[0;34m,\u001b[0m \u001b[0;34m**\u001b[0m\u001b[0mself\u001b[0m\u001b[0;34m.\u001b[0m\u001b[0moptions\u001b[0m\u001b[0;34m)\u001b[0m  \u001b[0;31m# type: ignore[call-arg]\u001b[0m\u001b[0;34m\u001b[0m\u001b[0;34m\u001b[0m\u001b[0m\n\u001b[0m\u001b[1;32m   1041\u001b[0m \u001b[0;34m\u001b[0m\u001b[0m\n\u001b[1;32m   1042\u001b[0m     \u001b[0;32mdef\u001b[0m \u001b[0m_failover_to_python\u001b[0m\u001b[0;34m(\u001b[0m\u001b[0mself\u001b[0m\u001b[0;34m)\u001b[0m\u001b[0;34m:\u001b[0m\u001b[0;34m\u001b[0m\u001b[0;34m\u001b[0m\u001b[0m\n",
            "\u001b[0;32m/usr/local/lib/python3.7/dist-packages/pandas/io/parsers/c_parser_wrapper.py\u001b[0m in \u001b[0;36m__init__\u001b[0;34m(self, src, **kwds)\u001b[0m\n\u001b[1;32m     49\u001b[0m \u001b[0;34m\u001b[0m\u001b[0m\n\u001b[1;32m     50\u001b[0m         \u001b[0;31m# open handles\u001b[0m\u001b[0;34m\u001b[0m\u001b[0;34m\u001b[0m\u001b[0;34m\u001b[0m\u001b[0m\n\u001b[0;32m---> 51\u001b[0;31m         \u001b[0mself\u001b[0m\u001b[0;34m.\u001b[0m\u001b[0m_open_handles\u001b[0m\u001b[0;34m(\u001b[0m\u001b[0msrc\u001b[0m\u001b[0;34m,\u001b[0m \u001b[0mkwds\u001b[0m\u001b[0;34m)\u001b[0m\u001b[0;34m\u001b[0m\u001b[0;34m\u001b[0m\u001b[0m\n\u001b[0m\u001b[1;32m     52\u001b[0m         \u001b[0;32massert\u001b[0m \u001b[0mself\u001b[0m\u001b[0;34m.\u001b[0m\u001b[0mhandles\u001b[0m \u001b[0;32mis\u001b[0m \u001b[0;32mnot\u001b[0m \u001b[0;32mNone\u001b[0m\u001b[0;34m\u001b[0m\u001b[0;34m\u001b[0m\u001b[0m\n\u001b[1;32m     53\u001b[0m \u001b[0;34m\u001b[0m\u001b[0m\n",
            "\u001b[0;32m/usr/local/lib/python3.7/dist-packages/pandas/io/parsers/base_parser.py\u001b[0m in \u001b[0;36m_open_handles\u001b[0;34m(self, src, kwds)\u001b[0m\n\u001b[1;32m    227\u001b[0m             \u001b[0mmemory_map\u001b[0m\u001b[0;34m=\u001b[0m\u001b[0mkwds\u001b[0m\u001b[0;34m.\u001b[0m\u001b[0mget\u001b[0m\u001b[0;34m(\u001b[0m\u001b[0;34m\"memory_map\"\u001b[0m\u001b[0;34m,\u001b[0m \u001b[0;32mFalse\u001b[0m\u001b[0;34m)\u001b[0m\u001b[0;34m,\u001b[0m\u001b[0;34m\u001b[0m\u001b[0;34m\u001b[0m\u001b[0m\n\u001b[1;32m    228\u001b[0m             \u001b[0mstorage_options\u001b[0m\u001b[0;34m=\u001b[0m\u001b[0mkwds\u001b[0m\u001b[0;34m.\u001b[0m\u001b[0mget\u001b[0m\u001b[0;34m(\u001b[0m\u001b[0;34m\"storage_options\"\u001b[0m\u001b[0;34m,\u001b[0m \u001b[0;32mNone\u001b[0m\u001b[0;34m)\u001b[0m\u001b[0;34m,\u001b[0m\u001b[0;34m\u001b[0m\u001b[0;34m\u001b[0m\u001b[0m\n\u001b[0;32m--> 229\u001b[0;31m             \u001b[0merrors\u001b[0m\u001b[0;34m=\u001b[0m\u001b[0mkwds\u001b[0m\u001b[0;34m.\u001b[0m\u001b[0mget\u001b[0m\u001b[0;34m(\u001b[0m\u001b[0;34m\"encoding_errors\"\u001b[0m\u001b[0;34m,\u001b[0m \u001b[0;34m\"strict\"\u001b[0m\u001b[0;34m)\u001b[0m\u001b[0;34m,\u001b[0m\u001b[0;34m\u001b[0m\u001b[0;34m\u001b[0m\u001b[0m\n\u001b[0m\u001b[1;32m    230\u001b[0m         )\n\u001b[1;32m    231\u001b[0m \u001b[0;34m\u001b[0m\u001b[0m\n",
            "\u001b[0;32m/usr/local/lib/python3.7/dist-packages/pandas/io/common.py\u001b[0m in \u001b[0;36mget_handle\u001b[0;34m(path_or_buf, mode, encoding, compression, memory_map, is_text, errors, storage_options)\u001b[0m\n\u001b[1;32m    705\u001b[0m                 \u001b[0mencoding\u001b[0m\u001b[0;34m=\u001b[0m\u001b[0mioargs\u001b[0m\u001b[0;34m.\u001b[0m\u001b[0mencoding\u001b[0m\u001b[0;34m,\u001b[0m\u001b[0;34m\u001b[0m\u001b[0;34m\u001b[0m\u001b[0m\n\u001b[1;32m    706\u001b[0m                 \u001b[0merrors\u001b[0m\u001b[0;34m=\u001b[0m\u001b[0merrors\u001b[0m\u001b[0;34m,\u001b[0m\u001b[0;34m\u001b[0m\u001b[0;34m\u001b[0m\u001b[0m\n\u001b[0;32m--> 707\u001b[0;31m                 \u001b[0mnewline\u001b[0m\u001b[0;34m=\u001b[0m\u001b[0;34m\"\"\u001b[0m\u001b[0;34m,\u001b[0m\u001b[0;34m\u001b[0m\u001b[0;34m\u001b[0m\u001b[0m\n\u001b[0m\u001b[1;32m    708\u001b[0m             )\n\u001b[1;32m    709\u001b[0m         \u001b[0;32melse\u001b[0m\u001b[0;34m:\u001b[0m\u001b[0;34m\u001b[0m\u001b[0;34m\u001b[0m\u001b[0m\n",
            "\u001b[0;31mFileNotFoundError\u001b[0m: [Errno 2] No such file or directory: '/content/drive/MyDrive/AIFFELTHON/TUNiB/real_sns_data.csv'"
          ]
        }
      ]
    },
    {
      "cell_type": "code",
      "source": [
        "normal_conv"
      ],
      "metadata": {
        "id": "FxsimCuSRVma"
      },
      "execution_count": null,
      "outputs": []
    },
    {
      "cell_type": "code",
      "source": [
        "attack_conv"
      ],
      "metadata": {
        "id": "v-MSqA2fSmWy"
      },
      "execution_count": null,
      "outputs": []
    },
    {
      "cell_type": "code",
      "source": [
        "attack_conv2"
      ],
      "metadata": {
        "id": "EjWga4qx85nW"
      },
      "execution_count": null,
      "outputs": []
    },
    {
      "cell_type": "code",
      "source": [
        "attack_conv = pd.concat([attack_conv, attack_conv2], ignore_index=True)\n",
        "attack_conv"
      ],
      "metadata": {
        "id": "V7Ple0j788DO"
      },
      "execution_count": null,
      "outputs": []
    },
    {
      "cell_type": "code",
      "source": [
        "def preprocess(sen):\n",
        "  sen = sen.split('\\n')\n",
        "  \n",
        "  clean_sen = []\n",
        "  for i in sen:\n",
        "    i = i.strip()\n",
        "    i = re.sub(r'[^0-9가-힣:]', ' ', i)\n",
        "    i = i.strip()\n",
        "    clean_sen.append(i)\n",
        "\n",
        "  return '\\n'.join(clean_sen)"
      ],
      "metadata": {
        "id": "9dtzHuH4Sve7"
      },
      "execution_count": null,
      "outputs": []
    },
    {
      "cell_type": "code",
      "source": [
        "normal_conv['label_sentence'] = normal_conv['label_sentence'].apply(lambda x : preprocess(x))\n",
        "normal_conv"
      ],
      "metadata": {
        "id": "gg_8ta44TjYA"
      },
      "execution_count": null,
      "outputs": []
    },
    {
      "cell_type": "code",
      "source": [
        "normal_conv['non_label_sentence'] = normal_conv['non_label_sentence'].apply(lambda x : preprocess(x))\n",
        "normal_conv"
      ],
      "metadata": {
        "id": "a-wunnuY5oiz"
      },
      "execution_count": null,
      "outputs": []
    },
    {
      "cell_type": "code",
      "source": [
        "attack_conv['non_label_sentence'] = attack_conv['non_label_sentence'].apply(lambda x : preprocess(x))\n",
        "attack_conv"
      ],
      "metadata": {
        "id": "0TMprnd9TtMM"
      },
      "execution_count": null,
      "outputs": []
    },
    {
      "cell_type": "code",
      "source": [
        "attack_conv['non_label_sentence'].duplicated().sum()"
      ],
      "metadata": {
        "id": "NaiQetFH9JCo"
      },
      "execution_count": null,
      "outputs": []
    },
    {
      "cell_type": "code",
      "source": [
        "attack_conv.drop_duplicates(['non_label_sentence'], keep='first', inplace=True)\n",
        "attack_conv['non_label_sentence'].duplicated().sum()"
      ],
      "metadata": {
        "id": "tSErszxF9M7Y"
      },
      "execution_count": null,
      "outputs": []
    },
    {
      "cell_type": "markdown",
      "source": [
        "1. 일반 대화 1000개 추가 (카카오톡 750 : 고객센터 250)"
      ],
      "metadata": {
        "id": "KXe2udBGT88L"
      }
    },
    {
      "cell_type": "code",
      "source": [
        "norm_2000 = normal_conv.sample(4000)\n",
        "norm_2000"
      ],
      "metadata": {
        "id": "z49XaMZRT19d"
      },
      "execution_count": null,
      "outputs": []
    },
    {
      "cell_type": "code",
      "source": [
        "train_rs_2000 = pd.concat([norm_2000.iloc[:, :-1], attack_conv], ignore_index=True)\n",
        "train_rs_2000"
      ],
      "metadata": {
        "id": "n0A9aX8UUoI-"
      },
      "execution_count": null,
      "outputs": []
    },
    {
      "cell_type": "code",
      "source": [
        "# train_rs_2000.to_csv('/content/drive/MyDrive/AIFFELTHON/TUNiB/experiment_data/train_en2ko_fr2ko_ch2ko_4000.csv', index=False)"
      ],
      "metadata": {
        "id": "EFkEgNzSU8z8"
      },
      "execution_count": null,
      "outputs": []
    },
    {
      "cell_type": "code",
      "source": [
        "train_rs2_2000 = pd.concat([norm_2000.iloc[:, :-1], attack_conv2], ignore_index=True)\n",
        "train_rs2_2000"
      ],
      "metadata": {
        "id": "NAr0sCWPVQjb"
      },
      "execution_count": null,
      "outputs": []
    },
    {
      "cell_type": "code",
      "source": [
        "# train_rs2_2000.to_csv('/content/drive/MyDrive/AIFFELTHON/TUNiB/experiment_data/train_en2ko_2000.csv', index=False)"
      ],
      "metadata": {
        "id": "bAbWSjznTKbx"
      },
      "execution_count": null,
      "outputs": []
    },
    {
      "cell_type": "code",
      "source": [
        "norm_4000 = normal_conv.sample(4000)\n",
        "norm_4000"
      ],
      "metadata": {
        "id": "u5oCRKKBTPLR"
      },
      "execution_count": null,
      "outputs": []
    },
    {
      "cell_type": "code",
      "source": [
        "train_rs2_4000 = pd.concat([norm_4000.iloc[:, :-1], attack_conv3], ignore_index=True)\n",
        "train_rs2_4000"
      ],
      "metadata": {
        "id": "6hT4N1d6TT2S"
      },
      "execution_count": null,
      "outputs": []
    },
    {
      "cell_type": "code",
      "source": [
        "# train_rs2_4000.to_csv('/content/drive/MyDrive/AIFFELTHON/TUNiB/experiment_data/train_en2ko_ch2ko_4000.csv', index=False)"
      ],
      "metadata": {
        "id": "1Ktl_zuHTWnS"
      },
      "execution_count": null,
      "outputs": []
    },
    {
      "cell_type": "code",
      "source": [
        "train_4000 = pd.concat([norm_4000.iloc[:,1:], attack_conv])\n",
        "train_4000"
      ],
      "metadata": {
        "id": "ozsGzQexVrN_"
      },
      "execution_count": null,
      "outputs": []
    },
    {
      "cell_type": "code",
      "source": [
        "# train_4000.to_csv('/content/drive/MyDrive/AIFFELTHON/TUNiB/experiment_data/train_bt_4000.csv', index=False)"
      ],
      "metadata": {
        "id": "TeEemFOBVyK1"
      },
      "execution_count": null,
      "outputs": []
    },
    {
      "cell_type": "markdown",
      "source": [
        "3. 일반 대화 10000개 추가 (카카오 7500 : 고객센터 2500)"
      ],
      "metadata": {
        "id": "ARKLgYEwV4ZQ"
      }
    },
    {
      "cell_type": "code",
      "source": [
        "kakao_7500 = kakao_data.sample(7500)\n",
        "kakao_7500"
      ],
      "metadata": {
        "id": "hFeAGmXXV3k3"
      },
      "execution_count": null,
      "outputs": []
    },
    {
      "cell_type": "code",
      "source": [
        "cs_2500 = cs_data.sample(2500)\n",
        "cs_2500"
      ],
      "metadata": {
        "id": "3MaKaoBDWEm_"
      },
      "execution_count": null,
      "outputs": []
    },
    {
      "cell_type": "code",
      "source": [
        "norm_10000 = pd.concat([kakao_7500, cs_2500], ignore_index=True)\n",
        "norm_10000"
      ],
      "metadata": {
        "id": "BOKPmgwkWK7I"
      },
      "execution_count": null,
      "outputs": []
    },
    {
      "cell_type": "code",
      "source": [
        "train_10000 = pd.concat([norm_10000.iloc[:, 1:], attack_conv], ignore_index=True)\n",
        "train_10000"
      ],
      "metadata": {
        "id": "Tdnt0Tb3WSA5"
      },
      "execution_count": null,
      "outputs": []
    },
    {
      "cell_type": "code",
      "source": [
        "# train_10000.to_csv('/content/drive/MyDrive/AIFFELTHON/TUNiB/experiment_data/train_bt_10000.csv', index=False)"
      ],
      "metadata": {
        "id": "v7XFUTvgWZeU"
      },
      "execution_count": null,
      "outputs": []
    },
    {
      "cell_type": "code",
      "source": [],
      "metadata": {
        "id": "qxbPVd0n5jLo"
      },
      "execution_count": null,
      "outputs": []
    }
  ]
}