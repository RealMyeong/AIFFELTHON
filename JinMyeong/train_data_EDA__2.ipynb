{
  "nbformat": 4,
  "nbformat_minor": 0,
  "metadata": {
    "colab": {
      "provenance": [],
      "mount_file_id": "190eG_Bm0K-yBlCrAkAGsFuWB1Nd7HDPc",
      "authorship_tag": "ABX9TyN5+4RXZGsfHXhUmYyr14Xe",
      "include_colab_link": true
    },
    "kernelspec": {
      "name": "python3",
      "display_name": "Python 3"
    },
    "language_info": {
      "name": "python"
    }
  },
  "cells": [
    {
      "cell_type": "markdown",
      "metadata": {
        "id": "view-in-github",
        "colab_type": "text"
      },
      "source": [
        "<a href=\"https://colab.research.google.com/github/RealMyeong/AIFFELTHON/blob/main/JinMyeong/train_data_EDA__2.ipynb\" target=\"_parent\"><img src=\"https://colab.research.google.com/assets/colab-badge.svg\" alt=\"Open In Colab\"/></a>"
      ]
    },
    {
      "cell_type": "markdown",
      "source": [
        "# 11.13(일)\n",
        "\n",
        "- 11.12(토)에 진행하던 EDA를 이어서 진행함.\n",
        "\n",
        "먼저 matplotlib 한글 깨짐 현상 해결"
      ],
      "metadata": {
        "id": "b3jacC4l9UYF"
      }
    },
    {
      "cell_type": "code",
      "execution_count": 1,
      "metadata": {
        "id": "XtUJq1Xw9SGO",
        "colab": {
          "base_uri": "https://localhost:8080/"
        },
        "outputId": "e8a3848f-8495-43ac-fd3b-1cb9c08e227b"
      },
      "outputs": [
        {
          "output_type": "stream",
          "name": "stdout",
          "text": [
            "Reading package lists... Done\n",
            "Building dependency tree       \n",
            "Reading state information... Done\n",
            "fonts-nanum is already the newest version (20170925-1).\n",
            "The following package was automatically installed and is no longer required:\n",
            "  libnvidia-common-460\n",
            "Use 'sudo apt autoremove' to remove it.\n",
            "0 upgraded, 0 newly installed, 0 to remove and 5 not upgraded.\n",
            "/usr/share/fonts: caching, new cache contents: 0 fonts, 1 dirs\n",
            "/usr/share/fonts/truetype: caching, new cache contents: 0 fonts, 3 dirs\n",
            "/usr/share/fonts/truetype/humor-sans: caching, new cache contents: 1 fonts, 0 dirs\n",
            "/usr/share/fonts/truetype/liberation: caching, new cache contents: 16 fonts, 0 dirs\n",
            "/usr/share/fonts/truetype/nanum: caching, new cache contents: 10 fonts, 0 dirs\n",
            "/usr/local/share/fonts: caching, new cache contents: 0 fonts, 0 dirs\n",
            "/root/.local/share/fonts: skipping, no such directory\n",
            "/root/.fonts: skipping, no such directory\n",
            "/var/cache/fontconfig: cleaning cache directory\n",
            "/root/.cache/fontconfig: not cleaning non-existent cache directory\n",
            "/root/.fontconfig: not cleaning non-existent cache directory\n",
            "fc-cache: succeeded\n"
          ]
        }
      ],
      "source": [
        "!sudo apt-get install -y fonts-nanum\n",
        "!sudo fc-cache -fv\n",
        "!rm ~/.cache/matplotlib -rf"
      ]
    },
    {
      "cell_type": "code",
      "source": [
        "import pandas as pd\n",
        "import numpy as np\n",
        "import matplotlib.pyplot as plt\n",
        "import seaborn as sns\n",
        "\n",
        "%matplotlib inline\n",
        "# 한글 지원 폰트\n",
        "plt.rc('font', family='NanumBarunGothic')\n",
        "\n",
        "# 마이너스 부호 \n",
        "plt.rcParams['axes.unicode_minus'] = False\n",
        "\n",
        "data = pd.read_csv('/content/drive/MyDrive/AIFFELTHON/TUNiB/train_spell_check.csv')"
      ],
      "metadata": {
        "id": "k8bsRSiF9no3"
      },
      "execution_count": 2,
      "outputs": []
    },
    {
      "cell_type": "code",
      "source": [
        "data.head()"
      ],
      "metadata": {
        "colab": {
          "base_uri": "https://localhost:8080/",
          "height": 337
        },
        "id": "I2qIzLDX93Oj",
        "outputId": "5bdca1e5-f8a4-4dda-8ef5-4ac6e0eaabe4"
      },
      "execution_count": 3,
      "outputs": [
        {
          "output_type": "execute_result",
          "data": {
            "text/plain": [
              "         class                                       conversation  \\\n",
              "0  직장 내 괴롭힘 대화  길동씨 이번에 이것좀 처리해요\\n이거 제가 한게 아닌데요\\n팀에서 내가 니가가 어딨...   \n",
              "1    기타 괴롭힘 대화  야 너 앞니 왜 그렇게 튀어나왔냐?\\n 태어날때부터 그랬어 물어보지마.\\n 아 그럼...   \n",
              "2        갈취 대화  원후야 학원 교재 사야되는데 8만원만 주면 안돼?\\n 미안 나 오늘은 진짜 돈이 없...   \n",
              "3        갈취 대화  너 저번에 술먹은 날 기억해?\\n아니 왜?\\n야 300만원만 가져와.\\n뭔 소리야....   \n",
              "4        협박 대화  너 또 내말 무시하냐?\\n 이새끼 널 좆으로 보나본데?\\n아냐 진짜 시간이 없었어 ...   \n",
              "\n",
              "                     labelling  \\\n",
              "0          1,2,1,2,1,2,1,2,1,2   \n",
              "1  1,2,1,2,1,2,1,2,1,1,1,2,1,1   \n",
              "2          1,2,1,2,1,2,1,2,1,2   \n",
              "3          1,2,1,2,1,2,1,2,1,2   \n",
              "4          1,1,2,1,1,2,1,2,1,1   \n",
              "\n",
              "                                      label_sentence  \\\n",
              "0  1:길동씨 이번에 이것좀 처리해요\\n2:이거 제가 한게 아닌데요\\n1:팀에서 내가 ...   \n",
              "1  1:야 너 앞니 왜 그렇게 튀어나왔냐?\\n2:태어날때부터 그랬어 물어보지마.\\n1:...   \n",
              "2  1:원후야 학원 교재 사야되는데 8만원만 주면 안돼?\\n2:미안 나 오늘은 진짜 돈...   \n",
              "3  1:너 저번에 술먹은 날 기억해?\\n2:아니 왜?\\n1:야 300만원만 가져와.\\n...   \n",
              "4  1:너 또 내말 무시하냐?\\n1:이새끼 널 좆으로 보나본데?\\n2:아냐 진짜 시간이...   \n",
              "\n",
              "                                    cleaned_sentence  \\\n",
              "0  길동씨 이번에 이것좀 처리해요\\n이거 제가 한게 아닌데요\\n팀에서 내가 니가가 어딨...   \n",
              "1  야 너 앞니 왜 그렇게 튀어나왔냐?\\n태어날때부터 그랬어 물어보지마.\\n아 그럼 태...   \n",
              "2  원후야 학원 교재 사야되는데 8만원만 주면 안돼?\\n미안 나 오늘은 진짜 돈이 없어...   \n",
              "3  너 저번에 술먹은 날 기억해?\\n아니 왜?\\n야 300만원만 가져와.\\n뭔 소리야....   \n",
              "4  너 또 내말 무시하냐?\\n이새끼 널 좆으로 보나본데?\\n아냐 진짜 시간이 없었어 미...   \n",
              "\n",
              "                          spell_checked_conversation  \n",
              "0  길동 씨 이번에 이것 좀 처리해요\\n이거 제가 한 게 아닌데요\\n팀에서 내가 네가 ...  \n",
              "1  야 너 앞니 왜 그렇게 튀어나왔냐?\\n태어날 때부터 그랬어 물어보지 마.\\n아 그럼...  \n",
              "2  원후야 학원 교재 사야 되는데 8만 원만 주면 안 돼?\\n미안 나 오늘은 진짜 돈이...  \n",
              "3  너 저번에 술 먹은 날 기억해?\\n아니 왜?\\n야 300만 원만 가져와.\\n뭔 소리...  \n",
              "4  너 또 내말 무시하냐?\\n이 새끼 널 좆으로 보나 본데?\\n아냐 진짜 시간이 없었어...  "
            ],
            "text/html": [
              "\n",
              "  <div id=\"df-93250d2d-f34b-4b58-92f8-01d0dc6e6b0d\">\n",
              "    <div class=\"colab-df-container\">\n",
              "      <div>\n",
              "<style scoped>\n",
              "    .dataframe tbody tr th:only-of-type {\n",
              "        vertical-align: middle;\n",
              "    }\n",
              "\n",
              "    .dataframe tbody tr th {\n",
              "        vertical-align: top;\n",
              "    }\n",
              "\n",
              "    .dataframe thead th {\n",
              "        text-align: right;\n",
              "    }\n",
              "</style>\n",
              "<table border=\"1\" class=\"dataframe\">\n",
              "  <thead>\n",
              "    <tr style=\"text-align: right;\">\n",
              "      <th></th>\n",
              "      <th>class</th>\n",
              "      <th>conversation</th>\n",
              "      <th>labelling</th>\n",
              "      <th>label_sentence</th>\n",
              "      <th>cleaned_sentence</th>\n",
              "      <th>spell_checked_conversation</th>\n",
              "    </tr>\n",
              "  </thead>\n",
              "  <tbody>\n",
              "    <tr>\n",
              "      <th>0</th>\n",
              "      <td>직장 내 괴롭힘 대화</td>\n",
              "      <td>길동씨 이번에 이것좀 처리해요\\n이거 제가 한게 아닌데요\\n팀에서 내가 니가가 어딨...</td>\n",
              "      <td>1,2,1,2,1,2,1,2,1,2</td>\n",
              "      <td>1:길동씨 이번에 이것좀 처리해요\\n2:이거 제가 한게 아닌데요\\n1:팀에서 내가 ...</td>\n",
              "      <td>길동씨 이번에 이것좀 처리해요\\n이거 제가 한게 아닌데요\\n팀에서 내가 니가가 어딨...</td>\n",
              "      <td>길동 씨 이번에 이것 좀 처리해요\\n이거 제가 한 게 아닌데요\\n팀에서 내가 네가 ...</td>\n",
              "    </tr>\n",
              "    <tr>\n",
              "      <th>1</th>\n",
              "      <td>기타 괴롭힘 대화</td>\n",
              "      <td>야 너 앞니 왜 그렇게 튀어나왔냐?\\n 태어날때부터 그랬어 물어보지마.\\n 아 그럼...</td>\n",
              "      <td>1,2,1,2,1,2,1,2,1,1,1,2,1,1</td>\n",
              "      <td>1:야 너 앞니 왜 그렇게 튀어나왔냐?\\n2:태어날때부터 그랬어 물어보지마.\\n1:...</td>\n",
              "      <td>야 너 앞니 왜 그렇게 튀어나왔냐?\\n태어날때부터 그랬어 물어보지마.\\n아 그럼 태...</td>\n",
              "      <td>야 너 앞니 왜 그렇게 튀어나왔냐?\\n태어날 때부터 그랬어 물어보지 마.\\n아 그럼...</td>\n",
              "    </tr>\n",
              "    <tr>\n",
              "      <th>2</th>\n",
              "      <td>갈취 대화</td>\n",
              "      <td>원후야 학원 교재 사야되는데 8만원만 주면 안돼?\\n 미안 나 오늘은 진짜 돈이 없...</td>\n",
              "      <td>1,2,1,2,1,2,1,2,1,2</td>\n",
              "      <td>1:원후야 학원 교재 사야되는데 8만원만 주면 안돼?\\n2:미안 나 오늘은 진짜 돈...</td>\n",
              "      <td>원후야 학원 교재 사야되는데 8만원만 주면 안돼?\\n미안 나 오늘은 진짜 돈이 없어...</td>\n",
              "      <td>원후야 학원 교재 사야 되는데 8만 원만 주면 안 돼?\\n미안 나 오늘은 진짜 돈이...</td>\n",
              "    </tr>\n",
              "    <tr>\n",
              "      <th>3</th>\n",
              "      <td>갈취 대화</td>\n",
              "      <td>너 저번에 술먹은 날 기억해?\\n아니 왜?\\n야 300만원만 가져와.\\n뭔 소리야....</td>\n",
              "      <td>1,2,1,2,1,2,1,2,1,2</td>\n",
              "      <td>1:너 저번에 술먹은 날 기억해?\\n2:아니 왜?\\n1:야 300만원만 가져와.\\n...</td>\n",
              "      <td>너 저번에 술먹은 날 기억해?\\n아니 왜?\\n야 300만원만 가져와.\\n뭔 소리야....</td>\n",
              "      <td>너 저번에 술 먹은 날 기억해?\\n아니 왜?\\n야 300만 원만 가져와.\\n뭔 소리...</td>\n",
              "    </tr>\n",
              "    <tr>\n",
              "      <th>4</th>\n",
              "      <td>협박 대화</td>\n",
              "      <td>너 또 내말 무시하냐?\\n 이새끼 널 좆으로 보나본데?\\n아냐 진짜 시간이 없었어 ...</td>\n",
              "      <td>1,1,2,1,1,2,1,2,1,1</td>\n",
              "      <td>1:너 또 내말 무시하냐?\\n1:이새끼 널 좆으로 보나본데?\\n2:아냐 진짜 시간이...</td>\n",
              "      <td>너 또 내말 무시하냐?\\n이새끼 널 좆으로 보나본데?\\n아냐 진짜 시간이 없었어 미...</td>\n",
              "      <td>너 또 내말 무시하냐?\\n이 새끼 널 좆으로 보나 본데?\\n아냐 진짜 시간이 없었어...</td>\n",
              "    </tr>\n",
              "  </tbody>\n",
              "</table>\n",
              "</div>\n",
              "      <button class=\"colab-df-convert\" onclick=\"convertToInteractive('df-93250d2d-f34b-4b58-92f8-01d0dc6e6b0d')\"\n",
              "              title=\"Convert this dataframe to an interactive table.\"\n",
              "              style=\"display:none;\">\n",
              "        \n",
              "  <svg xmlns=\"http://www.w3.org/2000/svg\" height=\"24px\"viewBox=\"0 0 24 24\"\n",
              "       width=\"24px\">\n",
              "    <path d=\"M0 0h24v24H0V0z\" fill=\"none\"/>\n",
              "    <path d=\"M18.56 5.44l.94 2.06.94-2.06 2.06-.94-2.06-.94-.94-2.06-.94 2.06-2.06.94zm-11 1L8.5 8.5l.94-2.06 2.06-.94-2.06-.94L8.5 2.5l-.94 2.06-2.06.94zm10 10l.94 2.06.94-2.06 2.06-.94-2.06-.94-.94-2.06-.94 2.06-2.06.94z\"/><path d=\"M17.41 7.96l-1.37-1.37c-.4-.4-.92-.59-1.43-.59-.52 0-1.04.2-1.43.59L10.3 9.45l-7.72 7.72c-.78.78-.78 2.05 0 2.83L4 21.41c.39.39.9.59 1.41.59.51 0 1.02-.2 1.41-.59l7.78-7.78 2.81-2.81c.8-.78.8-2.07 0-2.86zM5.41 20L4 18.59l7.72-7.72 1.47 1.35L5.41 20z\"/>\n",
              "  </svg>\n",
              "      </button>\n",
              "      \n",
              "  <style>\n",
              "    .colab-df-container {\n",
              "      display:flex;\n",
              "      flex-wrap:wrap;\n",
              "      gap: 12px;\n",
              "    }\n",
              "\n",
              "    .colab-df-convert {\n",
              "      background-color: #E8F0FE;\n",
              "      border: none;\n",
              "      border-radius: 50%;\n",
              "      cursor: pointer;\n",
              "      display: none;\n",
              "      fill: #1967D2;\n",
              "      height: 32px;\n",
              "      padding: 0 0 0 0;\n",
              "      width: 32px;\n",
              "    }\n",
              "\n",
              "    .colab-df-convert:hover {\n",
              "      background-color: #E2EBFA;\n",
              "      box-shadow: 0px 1px 2px rgba(60, 64, 67, 0.3), 0px 1px 3px 1px rgba(60, 64, 67, 0.15);\n",
              "      fill: #174EA6;\n",
              "    }\n",
              "\n",
              "    [theme=dark] .colab-df-convert {\n",
              "      background-color: #3B4455;\n",
              "      fill: #D2E3FC;\n",
              "    }\n",
              "\n",
              "    [theme=dark] .colab-df-convert:hover {\n",
              "      background-color: #434B5C;\n",
              "      box-shadow: 0px 1px 3px 1px rgba(0, 0, 0, 0.15);\n",
              "      filter: drop-shadow(0px 1px 2px rgba(0, 0, 0, 0.3));\n",
              "      fill: #FFFFFF;\n",
              "    }\n",
              "  </style>\n",
              "\n",
              "      <script>\n",
              "        const buttonEl =\n",
              "          document.querySelector('#df-93250d2d-f34b-4b58-92f8-01d0dc6e6b0d button.colab-df-convert');\n",
              "        buttonEl.style.display =\n",
              "          google.colab.kernel.accessAllowed ? 'block' : 'none';\n",
              "\n",
              "        async function convertToInteractive(key) {\n",
              "          const element = document.querySelector('#df-93250d2d-f34b-4b58-92f8-01d0dc6e6b0d');\n",
              "          const dataTable =\n",
              "            await google.colab.kernel.invokeFunction('convertToInteractive',\n",
              "                                                     [key], {});\n",
              "          if (!dataTable) return;\n",
              "\n",
              "          const docLinkHtml = 'Like what you see? Visit the ' +\n",
              "            '<a target=\"_blank\" href=https://colab.research.google.com/notebooks/data_table.ipynb>data table notebook</a>'\n",
              "            + ' to learn more about interactive tables.';\n",
              "          element.innerHTML = '';\n",
              "          dataTable['output_type'] = 'display_data';\n",
              "          await google.colab.output.renderOutput(dataTable, element);\n",
              "          const docLink = document.createElement('div');\n",
              "          docLink.innerHTML = docLinkHtml;\n",
              "          element.appendChild(docLink);\n",
              "        }\n",
              "      </script>\n",
              "    </div>\n",
              "  </div>\n",
              "  "
            ]
          },
          "metadata": {},
          "execution_count": 3
        }
      ]
    },
    {
      "cell_type": "markdown",
      "source": [
        "## 1. 대화의 공격성 유형에 따라서 분리\n",
        "1. 협박\n",
        "2. 갈취\n",
        "3. 직장 내 괴롭힘\n",
        "4. 기타 괴롭힘"
      ],
      "metadata": {
        "id": "0GtZJsKKGohD"
      }
    },
    {
      "cell_type": "code",
      "source": [
        "data.columns"
      ],
      "metadata": {
        "id": "EuEjw2gIGr-M",
        "colab": {
          "base_uri": "https://localhost:8080/"
        },
        "outputId": "c886dcba-10e4-4bbf-e03f-dc57523a97de"
      },
      "execution_count": 4,
      "outputs": [
        {
          "output_type": "execute_result",
          "data": {
            "text/plain": [
              "Index(['class', 'conversation', 'labelling', 'label_sentence',\n",
              "       'cleaned_sentence', 'spell_checked_conversation'],\n",
              "      dtype='object')"
            ]
          },
          "metadata": {},
          "execution_count": 4
        }
      ]
    },
    {
      "cell_type": "code",
      "source": [
        "data['class'].value_counts()"
      ],
      "metadata": {
        "id": "Ij1_oFZzGvEn",
        "colab": {
          "base_uri": "https://localhost:8080/"
        },
        "outputId": "da04c380-26aa-4d55-acc0-65dd014c967d"
      },
      "execution_count": 5,
      "outputs": [
        {
          "output_type": "execute_result",
          "data": {
            "text/plain": [
              "기타 괴롭힘 대화      1065\n",
              "갈취 대화           978\n",
              "직장 내 괴롭힘 대화     975\n",
              "협박 대화           895\n",
              "Name: class, dtype: int64"
            ]
          },
          "metadata": {},
          "execution_count": 5
        }
      ]
    },
    {
      "cell_type": "code",
      "source": [
        "# 협박 대화\n",
        "threat = data[data['class']=='협박 대화']\n",
        "\n",
        "# 갈취 대화\n",
        "extort = data[data['class']=='갈취 대화']\n",
        "\n",
        "# 직장 내 괴롭힘\n",
        "workplace_bull = data[data['class']=='직장 내 괴롭힘 대화']\n",
        "\n",
        "# 기타 괴롭힘\n",
        "other_bull = data[data['class']=='기타 괴롭힘 대화']"
      ],
      "metadata": {
        "id": "tvjlSHvLGxqn"
      },
      "execution_count": 6,
      "outputs": []
    },
    {
      "cell_type": "code",
      "source": [
        "print(f'협박 대화 개수 : {len(threat)}')\n",
        "print(f'갈취 대화 개수 : {len(extort)}')\n",
        "print(f'직장 내 괴롭힘 대화 개수 : {len(workplace_bull)}')\n",
        "print(f'기타 괴롭힘 대화 개수 : {len(other_bull)}')"
      ],
      "metadata": {
        "id": "VZwNf41YGzzb",
        "colab": {
          "base_uri": "https://localhost:8080/"
        },
        "outputId": "85860c26-79a9-410b-aa71-a82e00e116d9"
      },
      "execution_count": 7,
      "outputs": [
        {
          "output_type": "stream",
          "name": "stdout",
          "text": [
            "협박 대화 개수 : 895\n",
            "갈취 대화 개수 : 978\n",
            "직장 내 괴롭힘 대화 개수 : 975\n",
            "기타 괴롭힘 대화 개수 : 1065\n"
          ]
        }
      ]
    },
    {
      "cell_type": "code",
      "source": [
        "plt.figure(figsize=(10,8))\n",
        "plt.bar(x = ['협박 대화', '갈취 대화', '직장 내 괴롭힘 대화', '기타 괴롭힘 대화'], width = 0.8, height = [len(threat), len(extort), len(workplace_bull), len(other_bull)], color=['y', 'dodgerblue', 'C2', '#e35f62'])\n",
        "plt.ylabel('대화 개수')\n",
        "plt.show()"
      ],
      "metadata": {
        "id": "VAYThLf2G1mn",
        "colab": {
          "base_uri": "https://localhost:8080/",
          "height": 483
        },
        "outputId": "cdafffb7-773d-4101-fa31-e9b867f64c03"
      },
      "execution_count": 8,
      "outputs": [
        {
          "output_type": "display_data",
          "data": {
            "text/plain": [
              "<Figure size 720x576 with 1 Axes>"
            ],
            "image/png": "[encoded data removed]"
          },
          "metadata": {
            "needs_background": "light"
          }
        }
      ]
    },
    {
      "cell_type": "markdown",
      "source": [
        "맞춤법 검사가 완료된 데이터로 진행하겠음."
      ],
      "metadata": {
        "id": "XZ2pQC66-L1I"
      }
    },
    {
      "cell_type": "code",
      "source": [
        "non_label = data['spell_checked_conversation']"
      ],
      "metadata": {
        "id": "ajUiTVbi9-6i"
      },
      "execution_count": 9,
      "outputs": []
    },
    {
      "cell_type": "code",
      "source": [
        "non_label.head()"
      ],
      "metadata": {
        "colab": {
          "base_uri": "https://localhost:8080/"
        },
        "id": "OobRoc15-XOT",
        "outputId": "acf76065-038a-44a9-ee37-e78bd970c1fb"
      },
      "execution_count": 10,
      "outputs": [
        {
          "output_type": "execute_result",
          "data": {
            "text/plain": [
              "0    길동 씨 이번에 이것 좀 처리해요\\n이거 제가 한 게 아닌데요\\n팀에서 내가 네가 ...\n",
              "1    야 너 앞니 왜 그렇게 튀어나왔냐?\\n태어날 때부터 그랬어 물어보지 마.\\n아 그럼...\n",
              "2    원후야 학원 교재 사야 되는데 8만 원만 주면 안 돼?\\n미안 나 오늘은 진짜 돈이...\n",
              "3    너 저번에 술 먹은 날 기억해?\\n아니 왜?\\n야 300만 원만 가져와.\\n뭔 소리...\n",
              "4    너 또 내말 무시하냐?\\n이 새끼 널 좆으로 보나 본데?\\n아냐 진짜 시간이 없었어...\n",
              "Name: spell_checked_conversation, dtype: object"
            ]
          },
          "metadata": {},
          "execution_count": 10
        }
      ]
    },
    {
      "cell_type": "code",
      "source": [
        "def build_corpus(sen):\n",
        "\n",
        "  corpus = sen.split()\n",
        "\n",
        "  return corpus  "
      ],
      "metadata": {
        "id": "rU2hzg-kGXKz"
      },
      "execution_count": 11,
      "outputs": []
    },
    {
      "cell_type": "code",
      "source": [
        "# 협박 대화 말뭉치\n",
        "threat_corpus = [build_corpus(sen) for sen in threat['conversation']]\n",
        "\n",
        "# 갈취 대화 말뭉치\n",
        "extort_corpus = [build_corpus(sen) for sen in extort['conversation']]\n",
        "\n",
        "# 직장 내 괴롭힘 대화 말뭉치\n",
        "workplace_bull_corpus = [build_corpus(sen) for sen in workplace_bull['conversation']]\n",
        "\n",
        "# 기타 괴롭힘 대화 말뭉치\n",
        "other_bull_corpus = [build_corpus(sen) for sen in other_bull['conversation']]"
      ],
      "metadata": {
        "id": "S1yJ8ep5GgYk"
      },
      "execution_count": 12,
      "outputs": []
    },
    {
      "cell_type": "markdown",
      "source": [
        "### 1. 협박 대화"
      ],
      "metadata": {
        "id": "grqDEc63w9H-"
      }
    },
    {
      "cell_type": "code",
      "source": [
        "# 협박 대화 길이 분포\n",
        "min_len = 999\n",
        "max_len = 0\n",
        "sum_len = 0\n",
        "\n",
        "for sen in threat_corpus:\n",
        "  length = len(sen)\n",
        "  if min_len > length:\n",
        "    min_len = length\n",
        "  if max_len < length:\n",
        "    max_len = length\n",
        "  sum_len += length\n",
        "\n",
        "print('문장의 최단 길이 : ', min_len)\n",
        "print('문장의 최장 길이 : ', max_len)\n",
        "print('문장의 평균 길이 : ', sum_len //len(threat_corpus))\n",
        "\n",
        "sentence_length = [len(x) for x in threat_corpus]\n",
        "\n",
        "plt.hist(sentence_length, bins = np.arange(10, 240))\n",
        "plt.title('협박 대화 길이 분포')\n",
        "plt.show()"
      ],
      "metadata": {
        "id": "T5Y7ZsB-B2Li",
        "colab": {
          "base_uri": "https://localhost:8080/",
          "height": 660
        },
        "outputId": "67e56396-0c08-44ac-c3b6-f9a654aecca5"
      },
      "execution_count": 17,
      "outputs": [
        {
          "output_type": "stream",
          "name": "stdout",
          "text": [
            "문장의 최단 길이 :  12\n",
            "문장의 최장 길이 :  223\n",
            "문장의 평균 길이 :  61\n"
          ]
        },
        {
          "output_type": "display_data",
          "data": {
            "text/plain": [
              "<Figure size 1440x720 with 1 Axes>"
            ],
            "image/png": "[encoded data removed]"
          },
          "metadata": {
            "needs_background": "light"
          }
        }
      ]
    },
    {
      "cell_type": "code",
      "source": [
        "from collections import defaultdict\n",
        "\n",
        "# 협박 대화 내의 단어 빈도 확인\n",
        "token = []\n",
        "\n",
        "for x in threat_corpus:\n",
        "  for i in x:\n",
        "    token.append(i)\n",
        "    \n",
        "dic = defaultdict(int)\n",
        "for word in token:\n",
        "  dic[word] += 1\n",
        "\n",
        "top = sorted(dic.items(), key=lambda x : x[1], reverse=True)[:30] # 1\n",
        "\n",
        "x, y = zip(*top) # 2\n",
        "plt.rcParams['figure.figsize'] = (20, 10)\n",
        "plt.bar(x, y, color='red')"
      ],
      "metadata": {
        "id": "6oThEdljINLE",
        "colab": {
          "base_uri": "https://localhost:8080/",
          "height": 610
        },
        "outputId": "de45ee7b-e816-4fef-fdf3-d54764c78fa5"
      },
      "execution_count": 14,
      "outputs": [
        {
          "output_type": "execute_result",
          "data": {
            "text/plain": [
              "<BarContainer object of 30 artists>"
            ]
          },
          "metadata": {},
          "execution_count": 14
        },
        {
          "output_type": "display_data",
          "data": {
            "text/plain": [
              "<Figure size 1440x720 with 1 Axes>"
            ],
            "image/png": "[encoded data removed]"
          },
          "metadata": {
            "needs_background": "light"
          }
        }
      ]
    },
    {
      "cell_type": "markdown",
      "source": [
        "### 2. 갈취 대화"
      ],
      "metadata": {
        "id": "lk9ylMxkxASo"
      }
    },
    {
      "cell_type": "code",
      "source": [
        "# 갈취 대화 길이 분포\n",
        "min_len = 999\n",
        "max_len = 0\n",
        "sum_len = 0\n",
        "\n",
        "for sen in extort_corpus:\n",
        "  length = len(sen)\n",
        "  if min_len > length:\n",
        "    min_len = length\n",
        "  if max_len < length:\n",
        "    max_len = length\n",
        "  sum_len += length\n",
        "\n",
        "print('문장의 최단 길이 : ', min_len)\n",
        "print('문장의 최장 길이 : ', max_len)\n",
        "print('문장의 평균 길이 : ', sum_len //len(extort_corpus))\n",
        "\n",
        "sentence_length = [len(x) for x in extort_corpus]\n",
        "\n",
        "plt.hist(sentence_length, bins = np.arange(min_len, max_len))\n",
        "plt.title('갈취 대화 길이 분포')\n",
        "plt.show()"
      ],
      "metadata": {
        "colab": {
          "base_uri": "https://localhost:8080/",
          "height": 660
        },
        "id": "ahi4MjxswT8d",
        "outputId": "03368dd9-4966-48b6-d8c4-2b148b1c7161"
      },
      "execution_count": 19,
      "outputs": [
        {
          "output_type": "stream",
          "name": "stdout",
          "text": [
            "문장의 최단 길이 :  10\n",
            "문장의 최장 길이 :  185\n",
            "문장의 평균 길이 :  55\n"
          ]
        },
        {
          "output_type": "display_data",
          "data": {
            "text/plain": [
              "<Figure size 1440x720 with 1 Axes>"
            ],
            "image/png": "[encoded data removed]"
          },
          "metadata": {
            "needs_background": "light"
          }
        }
      ]
    },
    {
      "cell_type": "code",
      "source": [
        "# 갈취 대화 내의 단어 빈도 확인\n",
        "token = []\n",
        "\n",
        "for x in extort_corpus:\n",
        "  for i in x:\n",
        "    token.append(i)\n",
        "    \n",
        "dic = defaultdict(int)\n",
        "for word in token:\n",
        "  dic[word] += 1\n",
        "\n",
        "top = sorted(dic.items(), key=lambda x : x[1], reverse=True)[:30] # 1\n",
        "\n",
        "x, y = zip(*top) # 2\n",
        "plt.rcParams['figure.figsize'] = (20, 10)\n",
        "plt.bar(x, y, color='red')"
      ],
      "metadata": {
        "colab": {
          "base_uri": "https://localhost:8080/",
          "height": 610
        },
        "id": "JqiT-DkNxIXE",
        "outputId": "dd0db255-8a38-47e2-f113-3b6b2c0b50e4"
      },
      "execution_count": 20,
      "outputs": [
        {
          "output_type": "execute_result",
          "data": {
            "text/plain": [
              "<BarContainer object of 30 artists>"
            ]
          },
          "metadata": {},
          "execution_count": 20
        },
        {
          "output_type": "display_data",
          "data": {
            "text/plain": [
              "<Figure size 1440x720 with 1 Axes>"
            ],
            "image/png": "[encoded data removed]"
          },
          "metadata": {
            "needs_background": "light"
          }
        }
      ]
    },
    {
      "cell_type": "markdown",
      "source": [
        "### 3. 직장 내 괴롭힘 대화"
      ],
      "metadata": {
        "id": "w8-QfwSgxcVR"
      }
    },
    {
      "cell_type": "code",
      "source": [
        "# 직장 내 괴롭힘 대화 길이 분포\n",
        "min_len = 999\n",
        "max_len = 0\n",
        "sum_len = 0\n",
        "\n",
        "for sen in workplace_bull_corpus:\n",
        "  length = len(sen)\n",
        "  if min_len > length:\n",
        "    min_len = length\n",
        "  if max_len < length:\n",
        "    max_len = length\n",
        "  sum_len += length\n",
        "\n",
        "print('문장의 최단 길이 : ', min_len)\n",
        "print('문장의 최장 길이 : ', max_len)\n",
        "print('문장의 평균 길이 : ', sum_len //len(workplace_bull_corpus))\n",
        "\n",
        "sentence_length = [len(x) for x in workplace_bull_corpus]\n",
        "\n",
        "plt.hist(sentence_length, bins = np.arange(min_len, max_len))\n",
        "plt.title('직장 내 괴롭힘 대화 길이 분포')\n",
        "plt.show()"
      ],
      "metadata": {
        "colab": {
          "base_uri": "https://localhost:8080/",
          "height": 660
        },
        "id": "1ij4ieyXxWp6",
        "outputId": "c1be9bbf-24ae-4b88-c109-7adc46de02a7"
      },
      "execution_count": 22,
      "outputs": [
        {
          "output_type": "stream",
          "name": "stdout",
          "text": [
            "문장의 최단 길이 :  10\n",
            "문장의 최장 길이 :  213\n",
            "문장의 평균 길이 :  58\n"
          ]
        },
        {
          "output_type": "display_data",
          "data": {
            "text/plain": [
              "<Figure size 1440x720 with 1 Axes>"
            ],
            "image/png": "[encoded data removed]"
          },
          "metadata": {
            "needs_background": "light"
          }
        }
      ]
    },
    {
      "cell_type": "code",
      "source": [
        "# 직장 내 괴롭힘 대화 내의 단어 빈도 확인\n",
        "token = []\n",
        "\n",
        "for x in workplace_bull_corpus:\n",
        "  for i in x:\n",
        "    token.append(i)\n",
        "    \n",
        "dic = defaultdict(int)\n",
        "for word in token:\n",
        "  dic[word] += 1\n",
        "\n",
        "top = sorted(dic.items(), key=lambda x : x[1], reverse=True)[:30] # 1\n",
        "\n",
        "x, y = zip(*top) # 2\n",
        "plt.rcParams['figure.figsize'] = (20, 10)\n",
        "plt.bar(x, y, color='red')"
      ],
      "metadata": {
        "colab": {
          "base_uri": "https://localhost:8080/",
          "height": 610
        },
        "id": "9Nc7CPlPxlf1",
        "outputId": "1d238821-d515-41bc-9d31-310c25579673"
      },
      "execution_count": 23,
      "outputs": [
        {
          "output_type": "execute_result",
          "data": {
            "text/plain": [
              "<BarContainer object of 30 artists>"
            ]
          },
          "metadata": {},
          "execution_count": 23
        },
        {
          "output_type": "display_data",
          "data": {
            "text/plain": [
              "<Figure size 1440x720 with 1 Axes>"
            ],
            "image/png": "[encoded data removed]"
          },
          "metadata": {
            "needs_background": "light"
          }
        }
      ]
    },
    {
      "cell_type": "markdown",
      "source": [
        "### 4. 기타 괴롭힘 대화"
      ],
      "metadata": {
        "id": "LURssBlTx0eF"
      }
    },
    {
      "cell_type": "code",
      "source": [
        "# 기타 괴롭힘 대화 길이 분포\n",
        "min_len = 999\n",
        "max_len = 0\n",
        "sum_len = 0\n",
        "\n",
        "for sen in other_bull_corpus:\n",
        "  length = len(sen)\n",
        "  if min_len > length:\n",
        "    min_len = length\n",
        "  if max_len < length:\n",
        "    max_len = length\n",
        "  sum_len += length\n",
        "\n",
        "print('문장의 최단 길이 : ', min_len)\n",
        "print('문장의 최장 길이 : ', max_len)\n",
        "print('문장의 평균 길이 : ', sum_len //len(other_bull_corpus))\n",
        "\n",
        "sentence_length = [len(x) for x in other_bull_corpus]\n",
        "\n",
        "plt.hist(sentence_length, bins = np.arange(min_len, max_len))\n",
        "plt.title('기타 괴롭힘 대화 길이 분포')\n",
        "plt.show()"
      ],
      "metadata": {
        "colab": {
          "base_uri": "https://localhost:8080/",
          "height": 660
        },
        "id": "nUvxmYrCxuFk",
        "outputId": "ad64f5cc-65c8-4563-b59c-e8a256961d0d"
      },
      "execution_count": 25,
      "outputs": [
        {
          "output_type": "stream",
          "name": "stdout",
          "text": [
            "문장의 최단 길이 :  12\n",
            "문장의 최장 길이 :  222\n",
            "문장의 평균 길이 :  53\n"
          ]
        },
        {
          "output_type": "display_data",
          "data": {
            "text/plain": [
              "<Figure size 1440x720 with 1 Axes>"
            ],
            "image/png": "[encoded data removed]"
          },
          "metadata": {
            "needs_background": "light"
          }
        }
      ]
    },
    {
      "cell_type": "code",
      "source": [
        "# 기타 괴롭힘 대화 내의 단어 빈도 확인\n",
        "token = []\n",
        "\n",
        "for x in other_bull_corpus:\n",
        "  for i in x:\n",
        "    token.append(i)\n",
        "    \n",
        "dic = defaultdict(int)\n",
        "for word in token:\n",
        "  dic[word] += 1\n",
        "\n",
        "top = sorted(dic.items(), key=lambda x : x[1], reverse=True)[:30] # 1\n",
        "\n",
        "x, y = zip(*top) # 2\n",
        "plt.rcParams['figure.figsize'] = (20, 10)\n",
        "plt.bar(x, y, color='red')"
      ],
      "metadata": {
        "colab": {
          "base_uri": "https://localhost:8080/",
          "height": 610
        },
        "id": "ppZkCpUmx7EC",
        "outputId": "0ee80289-ef8a-4a59-8e86-0ff66d6d87f9"
      },
      "execution_count": 26,
      "outputs": [
        {
          "output_type": "execute_result",
          "data": {
            "text/plain": [
              "<BarContainer object of 30 artists>"
            ]
          },
          "metadata": {},
          "execution_count": 26
        },
        {
          "output_type": "display_data",
          "data": {
            "text/plain": [
              "<Figure size 1440x720 with 1 Axes>"
            ],
            "image/png": "[encoded data removed]"
          },
          "metadata": {
            "needs_background": "light"
          }
        }
      ]
    },
    {
      "cell_type": "markdown",
      "source": [
        "## 2. 화자에 따른 분석\n",
        "\n",
        "먼저 맞춤법 검사가 완료된 문장에 공격자, 피해자 라벨링을 해줌"
      ],
      "metadata": {
        "id": "hN8kkTi2yK6l"
      }
    },
    {
      "cell_type": "code",
      "source": [
        "data.head()"
      ],
      "metadata": {
        "colab": {
          "base_uri": "https://localhost:8080/",
          "height": 337
        },
        "id": "yiJ4SvOdyk1B",
        "outputId": "d26ef601-8520-45ba-edba-bf496c4037f4"
      },
      "execution_count": 27,
      "outputs": [
        {
          "output_type": "execute_result",
          "data": {
            "text/plain": [
              "         class                                       conversation  \\\n",
              "0  직장 내 괴롭힘 대화  길동씨 이번에 이것좀 처리해요\\n이거 제가 한게 아닌데요\\n팀에서 내가 니가가 어딨...   \n",
              "1    기타 괴롭힘 대화  야 너 앞니 왜 그렇게 튀어나왔냐?\\n 태어날때부터 그랬어 물어보지마.\\n 아 그럼...   \n",
              "2        갈취 대화  원후야 학원 교재 사야되는데 8만원만 주면 안돼?\\n 미안 나 오늘은 진짜 돈이 없...   \n",
              "3        갈취 대화  너 저번에 술먹은 날 기억해?\\n아니 왜?\\n야 300만원만 가져와.\\n뭔 소리야....   \n",
              "4        협박 대화  너 또 내말 무시하냐?\\n 이새끼 널 좆으로 보나본데?\\n아냐 진짜 시간이 없었어 ...   \n",
              "\n",
              "                     labelling  \\\n",
              "0          1,2,1,2,1,2,1,2,1,2   \n",
              "1  1,2,1,2,1,2,1,2,1,1,1,2,1,1   \n",
              "2          1,2,1,2,1,2,1,2,1,2   \n",
              "3          1,2,1,2,1,2,1,2,1,2   \n",
              "4          1,1,2,1,1,2,1,2,1,1   \n",
              "\n",
              "                                      label_sentence  \\\n",
              "0  1:길동씨 이번에 이것좀 처리해요\\n2:이거 제가 한게 아닌데요\\n1:팀에서 내가 ...   \n",
              "1  1:야 너 앞니 왜 그렇게 튀어나왔냐?\\n2:태어날때부터 그랬어 물어보지마.\\n1:...   \n",
              "2  1:원후야 학원 교재 사야되는데 8만원만 주면 안돼?\\n2:미안 나 오늘은 진짜 돈...   \n",
              "3  1:너 저번에 술먹은 날 기억해?\\n2:아니 왜?\\n1:야 300만원만 가져와.\\n...   \n",
              "4  1:너 또 내말 무시하냐?\\n1:이새끼 널 좆으로 보나본데?\\n2:아냐 진짜 시간이...   \n",
              "\n",
              "                                    cleaned_sentence  \\\n",
              "0  길동씨 이번에 이것좀 처리해요\\n이거 제가 한게 아닌데요\\n팀에서 내가 니가가 어딨...   \n",
              "1  야 너 앞니 왜 그렇게 튀어나왔냐?\\n태어날때부터 그랬어 물어보지마.\\n아 그럼 태...   \n",
              "2  원후야 학원 교재 사야되는데 8만원만 주면 안돼?\\n미안 나 오늘은 진짜 돈이 없어...   \n",
              "3  너 저번에 술먹은 날 기억해?\\n아니 왜?\\n야 300만원만 가져와.\\n뭔 소리야....   \n",
              "4  너 또 내말 무시하냐?\\n이새끼 널 좆으로 보나본데?\\n아냐 진짜 시간이 없었어 미...   \n",
              "\n",
              "                          spell_checked_conversation  \n",
              "0  길동 씨 이번에 이것 좀 처리해요\\n이거 제가 한 게 아닌데요\\n팀에서 내가 네가 ...  \n",
              "1  야 너 앞니 왜 그렇게 튀어나왔냐?\\n태어날 때부터 그랬어 물어보지 마.\\n아 그럼...  \n",
              "2  원후야 학원 교재 사야 되는데 8만 원만 주면 안 돼?\\n미안 나 오늘은 진짜 돈이...  \n",
              "3  너 저번에 술 먹은 날 기억해?\\n아니 왜?\\n야 300만 원만 가져와.\\n뭔 소리...  \n",
              "4  너 또 내말 무시하냐?\\n이 새끼 널 좆으로 보나 본데?\\n아냐 진짜 시간이 없었어...  "
            ],
            "text/html": [
              "\n",
              "  <div id=\"df-b21a6705-f0c0-4c11-a4fb-37a95ea28639\">\n",
              "    <div class=\"colab-df-container\">\n",
              "      <div>\n",
              "<style scoped>\n",
              "    .dataframe tbody tr th:only-of-type {\n",
              "        vertical-align: middle;\n",
              "    }\n",
              "\n",
              "    .dataframe tbody tr th {\n",
              "        vertical-align: top;\n",
              "    }\n",
              "\n",
              "    .dataframe thead th {\n",
              "        text-align: right;\n",
              "    }\n",
              "</style>\n",
              "<table border=\"1\" class=\"dataframe\">\n",
              "  <thead>\n",
              "    <tr style=\"text-align: right;\">\n",
              "      <th></th>\n",
              "      <th>class</th>\n",
              "      <th>conversation</th>\n",
              "      <th>labelling</th>\n",
              "      <th>label_sentence</th>\n",
              "      <th>cleaned_sentence</th>\n",
              "      <th>spell_checked_conversation</th>\n",
              "    </tr>\n",
              "  </thead>\n",
              "  <tbody>\n",
              "    <tr>\n",
              "      <th>0</th>\n",
              "      <td>직장 내 괴롭힘 대화</td>\n",
              "      <td>길동씨 이번에 이것좀 처리해요\\n이거 제가 한게 아닌데요\\n팀에서 내가 니가가 어딨...</td>\n",
              "      <td>1,2,1,2,1,2,1,2,1,2</td>\n",
              "      <td>1:길동씨 이번에 이것좀 처리해요\\n2:이거 제가 한게 아닌데요\\n1:팀에서 내가 ...</td>\n",
              "      <td>길동씨 이번에 이것좀 처리해요\\n이거 제가 한게 아닌데요\\n팀에서 내가 니가가 어딨...</td>\n",
              "      <td>길동 씨 이번에 이것 좀 처리해요\\n이거 제가 한 게 아닌데요\\n팀에서 내가 네가 ...</td>\n",
              "    </tr>\n",
              "    <tr>\n",
              "      <th>1</th>\n",
              "      <td>기타 괴롭힘 대화</td>\n",
              "      <td>야 너 앞니 왜 그렇게 튀어나왔냐?\\n 태어날때부터 그랬어 물어보지마.\\n 아 그럼...</td>\n",
              "      <td>1,2,1,2,1,2,1,2,1,1,1,2,1,1</td>\n",
              "      <td>1:야 너 앞니 왜 그렇게 튀어나왔냐?\\n2:태어날때부터 그랬어 물어보지마.\\n1:...</td>\n",
              "      <td>야 너 앞니 왜 그렇게 튀어나왔냐?\\n태어날때부터 그랬어 물어보지마.\\n아 그럼 태...</td>\n",
              "      <td>야 너 앞니 왜 그렇게 튀어나왔냐?\\n태어날 때부터 그랬어 물어보지 마.\\n아 그럼...</td>\n",
              "    </tr>\n",
              "    <tr>\n",
              "      <th>2</th>\n",
              "      <td>갈취 대화</td>\n",
              "      <td>원후야 학원 교재 사야되는데 8만원만 주면 안돼?\\n 미안 나 오늘은 진짜 돈이 없...</td>\n",
              "      <td>1,2,1,2,1,2,1,2,1,2</td>\n",
              "      <td>1:원후야 학원 교재 사야되는데 8만원만 주면 안돼?\\n2:미안 나 오늘은 진짜 돈...</td>\n",
              "      <td>원후야 학원 교재 사야되는데 8만원만 주면 안돼?\\n미안 나 오늘은 진짜 돈이 없어...</td>\n",
              "      <td>원후야 학원 교재 사야 되는데 8만 원만 주면 안 돼?\\n미안 나 오늘은 진짜 돈이...</td>\n",
              "    </tr>\n",
              "    <tr>\n",
              "      <th>3</th>\n",
              "      <td>갈취 대화</td>\n",
              "      <td>너 저번에 술먹은 날 기억해?\\n아니 왜?\\n야 300만원만 가져와.\\n뭔 소리야....</td>\n",
              "      <td>1,2,1,2,1,2,1,2,1,2</td>\n",
              "      <td>1:너 저번에 술먹은 날 기억해?\\n2:아니 왜?\\n1:야 300만원만 가져와.\\n...</td>\n",
              "      <td>너 저번에 술먹은 날 기억해?\\n아니 왜?\\n야 300만원만 가져와.\\n뭔 소리야....</td>\n",
              "      <td>너 저번에 술 먹은 날 기억해?\\n아니 왜?\\n야 300만 원만 가져와.\\n뭔 소리...</td>\n",
              "    </tr>\n",
              "    <tr>\n",
              "      <th>4</th>\n",
              "      <td>협박 대화</td>\n",
              "      <td>너 또 내말 무시하냐?\\n 이새끼 널 좆으로 보나본데?\\n아냐 진짜 시간이 없었어 ...</td>\n",
              "      <td>1,1,2,1,1,2,1,2,1,1</td>\n",
              "      <td>1:너 또 내말 무시하냐?\\n1:이새끼 널 좆으로 보나본데?\\n2:아냐 진짜 시간이...</td>\n",
              "      <td>너 또 내말 무시하냐?\\n이새끼 널 좆으로 보나본데?\\n아냐 진짜 시간이 없었어 미...</td>\n",
              "      <td>너 또 내말 무시하냐?\\n이 새끼 널 좆으로 보나 본데?\\n아냐 진짜 시간이 없었어...</td>\n",
              "    </tr>\n",
              "  </tbody>\n",
              "</table>\n",
              "</div>\n",
              "      <button class=\"colab-df-convert\" onclick=\"convertToInteractive('df-b21a6705-f0c0-4c11-a4fb-37a95ea28639')\"\n",
              "              title=\"Convert this dataframe to an interactive table.\"\n",
              "              style=\"display:none;\">\n",
              "        \n",
              "  <svg xmlns=\"http://www.w3.org/2000/svg\" height=\"24px\"viewBox=\"0 0 24 24\"\n",
              "       width=\"24px\">\n",
              "    <path d=\"M0 0h24v24H0V0z\" fill=\"none\"/>\n",
              "    <path d=\"M18.56 5.44l.94 2.06.94-2.06 2.06-.94-2.06-.94-.94-2.06-.94 2.06-2.06.94zm-11 1L8.5 8.5l.94-2.06 2.06-.94-2.06-.94L8.5 2.5l-.94 2.06-2.06.94zm10 10l.94 2.06.94-2.06 2.06-.94-2.06-.94-.94-2.06-.94 2.06-2.06.94z\"/><path d=\"M17.41 7.96l-1.37-1.37c-.4-.4-.92-.59-1.43-.59-.52 0-1.04.2-1.43.59L10.3 9.45l-7.72 7.72c-.78.78-.78 2.05 0 2.83L4 21.41c.39.39.9.59 1.41.59.51 0 1.02-.2 1.41-.59l7.78-7.78 2.81-2.81c.8-.78.8-2.07 0-2.86zM5.41 20L4 18.59l7.72-7.72 1.47 1.35L5.41 20z\"/>\n",
              "  </svg>\n",
              "      </button>\n",
              "      \n",
              "  <style>\n",
              "    .colab-df-container {\n",
              "      display:flex;\n",
              "      flex-wrap:wrap;\n",
              "      gap: 12px;\n",
              "    }\n",
              "\n",
              "    .colab-df-convert {\n",
              "      background-color: #E8F0FE;\n",
              "      border: none;\n",
              "      border-radius: 50%;\n",
              "      cursor: pointer;\n",
              "      display: none;\n",
              "      fill: #1967D2;\n",
              "      height: 32px;\n",
              "      padding: 0 0 0 0;\n",
              "      width: 32px;\n",
              "    }\n",
              "\n",
              "    .colab-df-convert:hover {\n",
              "      background-color: #E2EBFA;\n",
              "      box-shadow: 0px 1px 2px rgba(60, 64, 67, 0.3), 0px 1px 3px 1px rgba(60, 64, 67, 0.15);\n",
              "      fill: #174EA6;\n",
              "    }\n",
              "\n",
              "    [theme=dark] .colab-df-convert {\n",
              "      background-color: #3B4455;\n",
              "      fill: #D2E3FC;\n",
              "    }\n",
              "\n",
              "    [theme=dark] .colab-df-convert:hover {\n",
              "      background-color: #434B5C;\n",
              "      box-shadow: 0px 1px 3px 1px rgba(0, 0, 0, 0.15);\n",
              "      filter: drop-shadow(0px 1px 2px rgba(0, 0, 0, 0.3));\n",
              "      fill: #FFFFFF;\n",
              "    }\n",
              "  </style>\n",
              "\n",
              "      <script>\n",
              "        const buttonEl =\n",
              "          document.querySelector('#df-b21a6705-f0c0-4c11-a4fb-37a95ea28639 button.colab-df-convert');\n",
              "        buttonEl.style.display =\n",
              "          google.colab.kernel.accessAllowed ? 'block' : 'none';\n",
              "\n",
              "        async function convertToInteractive(key) {\n",
              "          const element = document.querySelector('#df-b21a6705-f0c0-4c11-a4fb-37a95ea28639');\n",
              "          const dataTable =\n",
              "            await google.colab.kernel.invokeFunction('convertToInteractive',\n",
              "                                                     [key], {});\n",
              "          if (!dataTable) return;\n",
              "\n",
              "          const docLinkHtml = 'Like what you see? Visit the ' +\n",
              "            '<a target=\"_blank\" href=https://colab.research.google.com/notebooks/data_table.ipynb>data table notebook</a>'\n",
              "            + ' to learn more about interactive tables.';\n",
              "          element.innerHTML = '';\n",
              "          dataTable['output_type'] = 'display_data';\n",
              "          await google.colab.output.renderOutput(dataTable, element);\n",
              "          const docLink = document.createElement('div');\n",
              "          docLink.innerHTML = docLinkHtml;\n",
              "          element.appendChild(docLink);\n",
              "        }\n",
              "      </script>\n",
              "    </div>\n",
              "  </div>\n",
              "  "
            ]
          },
          "metadata": {},
          "execution_count": 27
        }
      ]
    },
    {
      "cell_type": "code",
      "source": [
        "def label_mapping(data):\n",
        "\n",
        "  label_sentence = []\n",
        "  cleaned_sentence = []\n",
        "  error_sentence = []\n",
        "\n",
        "  for row in data.iterrows():\n",
        "    conversation = row[1]['spell_checked_conversation'].split('\\n')\n",
        "    labelling = row[1]['labelling'].split(',')\n",
        "    conversation = [x for x in conversation if x != '']\n",
        "\n",
        "    try:\n",
        "      label_sen = []\n",
        "      cleaned_sen = []\n",
        "\n",
        "      for i in range(len(labelling)):\n",
        "\n",
        "        sen = labelling[i] + ':' + conversation[i].strip()\n",
        "        label_sen.append(sen)\n",
        "\n",
        "        cleaned_sen.append(conversation[i].strip())\n",
        "      label_sentence.append('\\n'.join(label_sen))\n",
        "      cleaned_sentence.append('\\n'.join(cleaned_sen))\n",
        "\n",
        "    except:\n",
        "      label_sen = []\n",
        "      cleaned_sen = []\n",
        "\n",
        "      labelling = row[1]['labelling'].split(',')\n",
        "      labelling.pop()\n",
        "\n",
        "      for i in range(len(labelling)):\n",
        "        sen = labelling[i] + ':' + conversation[i].strip()\n",
        "        label_sen.append(sen)\n",
        "\n",
        "        cleaned_sen.append(conversation[i].strip())\n",
        "        \n",
        "      label_sentence.append('\\n'.join(label_sen))\n",
        "      error_sentence.append(label_sen)\n",
        "      cleaned_sentence.append('\\n'.join(cleaned_sen))\n",
        "\n",
        "  return label_sentence, error_sentence, cleaned_sentence"
      ],
      "metadata": {
        "id": "iHAM3Wi2yBhL"
      },
      "execution_count": 32,
      "outputs": []
    },
    {
      "cell_type": "code",
      "source": [
        "label_sentence, error_sentence, cleaned_sentence = label_mapping(data)"
      ],
      "metadata": {
        "id": "Xe8RVN7Dys4A"
      },
      "execution_count": 33,
      "outputs": []
    },
    {
      "cell_type": "code",
      "source": [
        "label_sentence[1]"
      ],
      "metadata": {
        "colab": {
          "base_uri": "https://localhost:8080/",
          "height": 72
        },
        "id": "mhbf7M20yzum",
        "outputId": "d7d9082a-952b-4d95-9275-f0813bbffdad"
      },
      "execution_count": 34,
      "outputs": [
        {
          "output_type": "execute_result",
          "data": {
            "text/plain": [
              "'1:야 너 앞니 왜 그렇게 튀어나왔냐?\\n2:태어날 때부터 그랬어 물어보지 마.\\n1:아 그럼 태어날 때부터 못 생기 거네?\\n2:괴롭히지 마 제발\\n1:아니 너는 내가 말만 하면 괴롭혔다고 한다?\\n2:혼자 있게 해줘\\n1:제 혼자 있는 거 같아서 말 걸어줬더니만 나쁜 사람 만드네 그래놓고 왕따시켰다고 말하지나 마 진짜 성격이 왜 그따위야? 가정교육 잘못 받았냐\\n2:부모님은 건드리지 마\\n1:어쭈 발끈한다 지도 자식이라 이거지\\n1:얘 왜 우냐?\\n1:아니 몰라 제 혼자 갑자기 화내\\n2:제발 혼자 있게 해줘 내버려 둬\\n1:이거 왜 또 제 혼자 감성적이냐? 애니 그만 보라 했지\\n1:완전 얘 코미디언 아니냐'"
            ],
            "application/vnd.google.colaboratory.intrinsic+json": {
              "type": "string"
            }
          },
          "metadata": {},
          "execution_count": 34
        }
      ]
    },
    {
      "cell_type": "code",
      "source": [
        "data.insert(6, 'sp_checked_label_sentence', label_sentence)"
      ],
      "metadata": {
        "id": "H6uFH8Hcy0-9"
      },
      "execution_count": 36,
      "outputs": []
    },
    {
      "cell_type": "code",
      "source": [
        "data.head()"
      ],
      "metadata": {
        "colab": {
          "base_uri": "https://localhost:8080/",
          "height": 424
        },
        "id": "HDlvSZIPzeFr",
        "outputId": "b91cff13-cd09-41a6-952c-6ea0ab5bf64e"
      },
      "execution_count": 37,
      "outputs": [
        {
          "output_type": "execute_result",
          "data": {
            "text/plain": [
              "         class                                       conversation  \\\n",
              "0  직장 내 괴롭힘 대화  길동씨 이번에 이것좀 처리해요\\n이거 제가 한게 아닌데요\\n팀에서 내가 니가가 어딨...   \n",
              "1    기타 괴롭힘 대화  야 너 앞니 왜 그렇게 튀어나왔냐?\\n 태어날때부터 그랬어 물어보지마.\\n 아 그럼...   \n",
              "2        갈취 대화  원후야 학원 교재 사야되는데 8만원만 주면 안돼?\\n 미안 나 오늘은 진짜 돈이 없...   \n",
              "3        갈취 대화  너 저번에 술먹은 날 기억해?\\n아니 왜?\\n야 300만원만 가져와.\\n뭔 소리야....   \n",
              "4        협박 대화  너 또 내말 무시하냐?\\n 이새끼 널 좆으로 보나본데?\\n아냐 진짜 시간이 없었어 ...   \n",
              "\n",
              "                     labelling  \\\n",
              "0          1,2,1,2,1,2,1,2,1,2   \n",
              "1  1,2,1,2,1,2,1,2,1,1,1,2,1,1   \n",
              "2          1,2,1,2,1,2,1,2,1,2   \n",
              "3          1,2,1,2,1,2,1,2,1,2   \n",
              "4          1,1,2,1,1,2,1,2,1,1   \n",
              "\n",
              "                                      label_sentence  \\\n",
              "0  1:길동씨 이번에 이것좀 처리해요\\n2:이거 제가 한게 아닌데요\\n1:팀에서 내가 ...   \n",
              "1  1:야 너 앞니 왜 그렇게 튀어나왔냐?\\n2:태어날때부터 그랬어 물어보지마.\\n1:...   \n",
              "2  1:원후야 학원 교재 사야되는데 8만원만 주면 안돼?\\n2:미안 나 오늘은 진짜 돈...   \n",
              "3  1:너 저번에 술먹은 날 기억해?\\n2:아니 왜?\\n1:야 300만원만 가져와.\\n...   \n",
              "4  1:너 또 내말 무시하냐?\\n1:이새끼 널 좆으로 보나본데?\\n2:아냐 진짜 시간이...   \n",
              "\n",
              "                                    cleaned_sentence  \\\n",
              "0  길동씨 이번에 이것좀 처리해요\\n이거 제가 한게 아닌데요\\n팀에서 내가 니가가 어딨...   \n",
              "1  야 너 앞니 왜 그렇게 튀어나왔냐?\\n태어날때부터 그랬어 물어보지마.\\n아 그럼 태...   \n",
              "2  원후야 학원 교재 사야되는데 8만원만 주면 안돼?\\n미안 나 오늘은 진짜 돈이 없어...   \n",
              "3  너 저번에 술먹은 날 기억해?\\n아니 왜?\\n야 300만원만 가져와.\\n뭔 소리야....   \n",
              "4  너 또 내말 무시하냐?\\n이새끼 널 좆으로 보나본데?\\n아냐 진짜 시간이 없었어 미...   \n",
              "\n",
              "                          spell_checked_conversation  \\\n",
              "0  길동 씨 이번에 이것 좀 처리해요\\n이거 제가 한 게 아닌데요\\n팀에서 내가 네가 ...   \n",
              "1  야 너 앞니 왜 그렇게 튀어나왔냐?\\n태어날 때부터 그랬어 물어보지 마.\\n아 그럼...   \n",
              "2  원후야 학원 교재 사야 되는데 8만 원만 주면 안 돼?\\n미안 나 오늘은 진짜 돈이...   \n",
              "3  너 저번에 술 먹은 날 기억해?\\n아니 왜?\\n야 300만 원만 가져와.\\n뭔 소리...   \n",
              "4  너 또 내말 무시하냐?\\n이 새끼 널 좆으로 보나 본데?\\n아냐 진짜 시간이 없었어...   \n",
              "\n",
              "                           sp_checked_label_sentence  \n",
              "0  1:길동 씨 이번에 이것 좀 처리해요\\n2:이거 제가 한 게 아닌데요\\n1:팀에서 ...  \n",
              "1  1:야 너 앞니 왜 그렇게 튀어나왔냐?\\n2:태어날 때부터 그랬어 물어보지 마.\\n...  \n",
              "2  1:원후야 학원 교재 사야 되는데 8만 원만 주면 안 돼?\\n2:미안 나 오늘은 진...  \n",
              "3  1:너 저번에 술 먹은 날 기억해?\\n2:아니 왜?\\n1:야 300만 원만 가져와....  \n",
              "4  1:너 또 내말 무시하냐?\\n1:이 새끼 널 좆으로 보나 본데?\\n2:아냐 진짜 시...  "
            ],
            "text/html": [
              "\n",
              "  <div id=\"df-df6b8c24-cd2d-44f2-8e6c-d79a86d5e13d\">\n",
              "    <div class=\"colab-df-container\">\n",
              "      <div>\n",
              "<style scoped>\n",
              "    .dataframe tbody tr th:only-of-type {\n",
              "        vertical-align: middle;\n",
              "    }\n",
              "\n",
              "    .dataframe tbody tr th {\n",
              "        vertical-align: top;\n",
              "    }\n",
              "\n",
              "    .dataframe thead th {\n",
              "        text-align: right;\n",
              "    }\n",
              "</style>\n",
              "<table border=\"1\" class=\"dataframe\">\n",
              "  <thead>\n",
              "    <tr style=\"text-align: right;\">\n",
              "      <th></th>\n",
              "      <th>class</th>\n",
              "      <th>conversation</th>\n",
              "      <th>labelling</th>\n",
              "      <th>label_sentence</th>\n",
              "      <th>cleaned_sentence</th>\n",
              "      <th>spell_checked_conversation</th>\n",
              "      <th>sp_checked_label_sentence</th>\n",
              "    </tr>\n",
              "  </thead>\n",
              "  <tbody>\n",
              "    <tr>\n",
              "      <th>0</th>\n",
              "      <td>직장 내 괴롭힘 대화</td>\n",
              "      <td>길동씨 이번에 이것좀 처리해요\\n이거 제가 한게 아닌데요\\n팀에서 내가 니가가 어딨...</td>\n",
              "      <td>1,2,1,2,1,2,1,2,1,2</td>\n",
              "      <td>1:길동씨 이번에 이것좀 처리해요\\n2:이거 제가 한게 아닌데요\\n1:팀에서 내가 ...</td>\n",
              "      <td>길동씨 이번에 이것좀 처리해요\\n이거 제가 한게 아닌데요\\n팀에서 내가 니가가 어딨...</td>\n",
              "      <td>길동 씨 이번에 이것 좀 처리해요\\n이거 제가 한 게 아닌데요\\n팀에서 내가 네가 ...</td>\n",
              "      <td>1:길동 씨 이번에 이것 좀 처리해요\\n2:이거 제가 한 게 아닌데요\\n1:팀에서 ...</td>\n",
              "    </tr>\n",
              "    <tr>\n",
              "      <th>1</th>\n",
              "      <td>기타 괴롭힘 대화</td>\n",
              "      <td>야 너 앞니 왜 그렇게 튀어나왔냐?\\n 태어날때부터 그랬어 물어보지마.\\n 아 그럼...</td>\n",
              "      <td>1,2,1,2,1,2,1,2,1,1,1,2,1,1</td>\n",
              "      <td>1:야 너 앞니 왜 그렇게 튀어나왔냐?\\n2:태어날때부터 그랬어 물어보지마.\\n1:...</td>\n",
              "      <td>야 너 앞니 왜 그렇게 튀어나왔냐?\\n태어날때부터 그랬어 물어보지마.\\n아 그럼 태...</td>\n",
              "      <td>야 너 앞니 왜 그렇게 튀어나왔냐?\\n태어날 때부터 그랬어 물어보지 마.\\n아 그럼...</td>\n",
              "      <td>1:야 너 앞니 왜 그렇게 튀어나왔냐?\\n2:태어날 때부터 그랬어 물어보지 마.\\n...</td>\n",
              "    </tr>\n",
              "    <tr>\n",
              "      <th>2</th>\n",
              "      <td>갈취 대화</td>\n",
              "      <td>원후야 학원 교재 사야되는데 8만원만 주면 안돼?\\n 미안 나 오늘은 진짜 돈이 없...</td>\n",
              "      <td>1,2,1,2,1,2,1,2,1,2</td>\n",
              "      <td>1:원후야 학원 교재 사야되는데 8만원만 주면 안돼?\\n2:미안 나 오늘은 진짜 돈...</td>\n",
              "      <td>원후야 학원 교재 사야되는데 8만원만 주면 안돼?\\n미안 나 오늘은 진짜 돈이 없어...</td>\n",
              "      <td>원후야 학원 교재 사야 되는데 8만 원만 주면 안 돼?\\n미안 나 오늘은 진짜 돈이...</td>\n",
              "      <td>1:원후야 학원 교재 사야 되는데 8만 원만 주면 안 돼?\\n2:미안 나 오늘은 진...</td>\n",
              "    </tr>\n",
              "    <tr>\n",
              "      <th>3</th>\n",
              "      <td>갈취 대화</td>\n",
              "      <td>너 저번에 술먹은 날 기억해?\\n아니 왜?\\n야 300만원만 가져와.\\n뭔 소리야....</td>\n",
              "      <td>1,2,1,2,1,2,1,2,1,2</td>\n",
              "      <td>1:너 저번에 술먹은 날 기억해?\\n2:아니 왜?\\n1:야 300만원만 가져와.\\n...</td>\n",
              "      <td>너 저번에 술먹은 날 기억해?\\n아니 왜?\\n야 300만원만 가져와.\\n뭔 소리야....</td>\n",
              "      <td>너 저번에 술 먹은 날 기억해?\\n아니 왜?\\n야 300만 원만 가져와.\\n뭔 소리...</td>\n",
              "      <td>1:너 저번에 술 먹은 날 기억해?\\n2:아니 왜?\\n1:야 300만 원만 가져와....</td>\n",
              "    </tr>\n",
              "    <tr>\n",
              "      <th>4</th>\n",
              "      <td>협박 대화</td>\n",
              "      <td>너 또 내말 무시하냐?\\n 이새끼 널 좆으로 보나본데?\\n아냐 진짜 시간이 없었어 ...</td>\n",
              "      <td>1,1,2,1,1,2,1,2,1,1</td>\n",
              "      <td>1:너 또 내말 무시하냐?\\n1:이새끼 널 좆으로 보나본데?\\n2:아냐 진짜 시간이...</td>\n",
              "      <td>너 또 내말 무시하냐?\\n이새끼 널 좆으로 보나본데?\\n아냐 진짜 시간이 없었어 미...</td>\n",
              "      <td>너 또 내말 무시하냐?\\n이 새끼 널 좆으로 보나 본데?\\n아냐 진짜 시간이 없었어...</td>\n",
              "      <td>1:너 또 내말 무시하냐?\\n1:이 새끼 널 좆으로 보나 본데?\\n2:아냐 진짜 시...</td>\n",
              "    </tr>\n",
              "  </tbody>\n",
              "</table>\n",
              "</div>\n",
              "      <button class=\"colab-df-convert\" onclick=\"convertToInteractive('df-df6b8c24-cd2d-44f2-8e6c-d79a86d5e13d')\"\n",
              "              title=\"Convert this dataframe to an interactive table.\"\n",
              "              style=\"display:none;\">\n",
              "        \n",
              "  <svg xmlns=\"http://www.w3.org/2000/svg\" height=\"24px\"viewBox=\"0 0 24 24\"\n",
              "       width=\"24px\">\n",
              "    <path d=\"M0 0h24v24H0V0z\" fill=\"none\"/>\n",
              "    <path d=\"M18.56 5.44l.94 2.06.94-2.06 2.06-.94-2.06-.94-.94-2.06-.94 2.06-2.06.94zm-11 1L8.5 8.5l.94-2.06 2.06-.94-2.06-.94L8.5 2.5l-.94 2.06-2.06.94zm10 10l.94 2.06.94-2.06 2.06-.94-2.06-.94-.94-2.06-.94 2.06-2.06.94z\"/><path d=\"M17.41 7.96l-1.37-1.37c-.4-.4-.92-.59-1.43-.59-.52 0-1.04.2-1.43.59L10.3 9.45l-7.72 7.72c-.78.78-.78 2.05 0 2.83L4 21.41c.39.39.9.59 1.41.59.51 0 1.02-.2 1.41-.59l7.78-7.78 2.81-2.81c.8-.78.8-2.07 0-2.86zM5.41 20L4 18.59l7.72-7.72 1.47 1.35L5.41 20z\"/>\n",
              "  </svg>\n",
              "      </button>\n",
              "      \n",
              "  <style>\n",
              "    .colab-df-container {\n",
              "      display:flex;\n",
              "      flex-wrap:wrap;\n",
              "      gap: 12px;\n",
              "    }\n",
              "\n",
              "    .colab-df-convert {\n",
              "      background-color: #E8F0FE;\n",
              "      border: none;\n",
              "      border-radius: 50%;\n",
              "      cursor: pointer;\n",
              "      display: none;\n",
              "      fill: #1967D2;\n",
              "      height: 32px;\n",
              "      padding: 0 0 0 0;\n",
              "      width: 32px;\n",
              "    }\n",
              "\n",
              "    .colab-df-convert:hover {\n",
              "      background-color: #E2EBFA;\n",
              "      box-shadow: 0px 1px 2px rgba(60, 64, 67, 0.3), 0px 1px 3px 1px rgba(60, 64, 67, 0.15);\n",
              "      fill: #174EA6;\n",
              "    }\n",
              "\n",
              "    [theme=dark] .colab-df-convert {\n",
              "      background-color: #3B4455;\n",
              "      fill: #D2E3FC;\n",
              "    }\n",
              "\n",
              "    [theme=dark] .colab-df-convert:hover {\n",
              "      background-color: #434B5C;\n",
              "      box-shadow: 0px 1px 3px 1px rgba(0, 0, 0, 0.15);\n",
              "      filter: drop-shadow(0px 1px 2px rgba(0, 0, 0, 0.3));\n",
              "      fill: #FFFFFF;\n",
              "    }\n",
              "  </style>\n",
              "\n",
              "      <script>\n",
              "        const buttonEl =\n",
              "          document.querySelector('#df-df6b8c24-cd2d-44f2-8e6c-d79a86d5e13d button.colab-df-convert');\n",
              "        buttonEl.style.display =\n",
              "          google.colab.kernel.accessAllowed ? 'block' : 'none';\n",
              "\n",
              "        async function convertToInteractive(key) {\n",
              "          const element = document.querySelector('#df-df6b8c24-cd2d-44f2-8e6c-d79a86d5e13d');\n",
              "          const dataTable =\n",
              "            await google.colab.kernel.invokeFunction('convertToInteractive',\n",
              "                                                     [key], {});\n",
              "          if (!dataTable) return;\n",
              "\n",
              "          const docLinkHtml = 'Like what you see? Visit the ' +\n",
              "            '<a target=\"_blank\" href=https://colab.research.google.com/notebooks/data_table.ipynb>data table notebook</a>'\n",
              "            + ' to learn more about interactive tables.';\n",
              "          element.innerHTML = '';\n",
              "          dataTable['output_type'] = 'display_data';\n",
              "          await google.colab.output.renderOutput(dataTable, element);\n",
              "          const docLink = document.createElement('div');\n",
              "          docLink.innerHTML = docLinkHtml;\n",
              "          element.appendChild(docLink);\n",
              "        }\n",
              "      </script>\n",
              "    </div>\n",
              "  </div>\n",
              "  "
            ]
          },
          "metadata": {},
          "execution_count": 37
        }
      ]
    },
    {
      "cell_type": "code",
      "source": [
        "# 공격자, 피해자 말뭉치 생성\n",
        "# 공격자는 1, 피해자는 2로 라벨링했음.\n",
        "\n",
        "attacker = []\n",
        "victim = []\n",
        "\n",
        "for row in data['sp_checked_label_sentence']:\n",
        "\n",
        "  sen_list = row.split('\\n')\n",
        "  at_sen = []\n",
        "  vic_sen = []\n",
        "\n",
        "  for i in sen_list:\n",
        "    if i[0] == '1':\n",
        "      attacker_sen = i[2:]\n",
        "      at_sen.append(attacker_sen)\n",
        "    elif i[0] == '2':\n",
        "      victim_sen = i[2:]\n",
        "      vic_sen.append(victim_sen)\n",
        "  \n",
        "  at_conversation = ' '.join(at_sen)\n",
        "  vic_conversation = ' '.join(vic_sen)\n",
        "\n",
        "  attacker.append(at_conversation)\n",
        "  victim.append(vic_conversation)\n",
        "    "
      ],
      "metadata": {
        "id": "70fZ_ZvuzkMM"
      },
      "execution_count": 45,
      "outputs": []
    },
    {
      "cell_type": "code",
      "source": [
        "# EDA를 위해 한글만 남기고 다 공백으로 바꿔줌\n",
        "import re\n",
        "\n",
        "at_clean = []\n",
        "vic_clean = []\n",
        "\n",
        "for a, v in zip(attacker, victim):\n",
        "  a = re.sub(r'[^가-힣]', ' ', a)\n",
        "  a = a.strip()\n",
        "  at_clean.append(a)\n",
        "\n",
        "  v = re.sub(r'[^가-힣]', ' ', v)\n",
        "  v = v.strip()\n",
        "  vic_clean.append(v)"
      ],
      "metadata": {
        "id": "aM8sfv36641m"
      },
      "execution_count": 69,
      "outputs": []
    },
    {
      "cell_type": "code",
      "source": [
        "at_clean[1]"
      ],
      "metadata": {
        "colab": {
          "base_uri": "https://localhost:8080/",
          "height": 54
        },
        "id": "J3-l_Yt63QYO",
        "outputId": "dc8a3103-d18b-4df8-ac3f-faa7f3109b7a"
      },
      "execution_count": 70,
      "outputs": [
        {
          "output_type": "execute_result",
          "data": {
            "text/plain": [
              "'야 너 앞니 왜 그렇게 튀어나왔냐  아 그럼 태어날 때부터 못 생기 거네  아니 너는 내가 말만 하면 괴롭혔다고 한다  제 혼자 있는 거 같아서 말 걸어줬더니만 나쁜 사람 만드네 그래놓고 왕따시켰다고 말하지나 마 진짜 성격이 왜 그따위야  가정교육 잘못 받았냐 어쭈 발끈한다 지도 자식이라 이거지 얘 왜 우냐  아니 몰라 제 혼자 갑자기 화내 이거 왜 또 제 혼자 감성적이냐  애니 그만 보라 했지 완전 얘 코미디언 아니냐'"
            ],
            "application/vnd.google.colaboratory.intrinsic+json": {
              "type": "string"
            }
          },
          "metadata": {},
          "execution_count": 70
        }
      ]
    },
    {
      "cell_type": "code",
      "source": [
        "vic_clean[1]"
      ],
      "metadata": {
        "colab": {
          "base_uri": "https://localhost:8080/",
          "height": 36
        },
        "id": "OL-Lsn_U3R0L",
        "outputId": "124b3ba1-e8c5-4495-96fe-a2326cfcf636"
      },
      "execution_count": 71,
      "outputs": [
        {
          "output_type": "execute_result",
          "data": {
            "text/plain": [
              "'태어날 때부터 그랬어 물어보지 마  괴롭히지 마 제발 혼자 있게 해줘 부모님은 건드리지 마 제발 혼자 있게 해줘 내버려 둬'"
            ],
            "application/vnd.google.colaboratory.intrinsic+json": {
              "type": "string"
            }
          },
          "metadata": {},
          "execution_count": 71
        }
      ]
    },
    {
      "cell_type": "markdown",
      "source": [
        "### 1. 공격자 대화 확인"
      ],
      "metadata": {
        "id": "czySv6Ue3sps"
      }
    },
    {
      "cell_type": "code",
      "source": [
        "# 공격자 대화 말뭉치\n",
        "attacker_corpus = [build_corpus(sen) for sen in at_clean]"
      ],
      "metadata": {
        "id": "DGTQfn2u4FRn"
      },
      "execution_count": 72,
      "outputs": []
    },
    {
      "cell_type": "code",
      "source": [
        "for i in attacker_corpus:\n",
        "  if len(i)==0:\n",
        "    print(i, attacker_corpus.index(i))\n",
        "    break"
      ],
      "metadata": {
        "colab": {
          "base_uri": "https://localhost:8080/"
        },
        "id": "nXn7ZoPe4b8i",
        "outputId": "81a6a959-5d73-4363-e040-809b4888b227"
      },
      "execution_count": 73,
      "outputs": [
        {
          "output_type": "stream",
          "name": "stdout",
          "text": [
            "[] 2695\n"
          ]
        }
      ]
    },
    {
      "cell_type": "code",
      "source": [
        "data['spell_checked_conversation'][2695]"
      ],
      "metadata": {
        "colab": {
          "base_uri": "https://localhost:8080/",
          "height": 54
        },
        "id": "PAWN_1D64rov",
        "outputId": "9aa0b551-cb38-495f-8ba3-c42157f9cfb5"
      },
      "execution_count": 74,
      "outputs": [
        {
          "output_type": "execute_result",
          "data": {
            "text/plain": [
              "'그게 사실이야?\\n죄송합니다 그게.\\n솔직히 네가 그랬을 거라고 생각하지 않아.\\n. 아닙니다\\n한테 상황 들었어. 괘씸한 가 아픈 아이 가지고 협박을 했다던데.\\n그건.!\\n나 믿지? 말해봐.\\n제가 그 일을 하지 않으면 제 아이 병원비를 끊을 것이며 최대한 고통스럽게 질식시킬 거라고.\\n이런 그 돈은 걱정 말아. 내가 대신 내줄게.\\n네 회장님.'"
            ],
            "application/vnd.google.colaboratory.intrinsic+json": {
              "type": "string"
            }
          },
          "metadata": {},
          "execution_count": 74
        }
      ]
    },
    {
      "cell_type": "code",
      "source": [
        "data['sp_checked_label_sentence'][2695]"
      ],
      "metadata": {
        "colab": {
          "base_uri": "https://localhost:8080/",
          "height": 54
        },
        "id": "1oWWQ1Em40JH",
        "outputId": "a8c763b4-5f77-495b-c9ad-695d4dbd5d23"
      },
      "execution_count": 75,
      "outputs": [
        {
          "output_type": "execute_result",
          "data": {
            "text/plain": [
              "'2:그게 사실이야?\\n2:죄송합니다 그게.\\n2:솔직히 네가 그랬을 거라고 생각하지 않아.\\n2:. 아닙니다\\n2:한테 상황 들었어. 괘씸한 가 아픈 아이 가지고 협박을 했다던데.\\n2:그건.!\\n2:나 믿지? 말해봐.\\n2:제가 그 일을 하지 않으면 제 아이 병원비를 끊을 것이며 최대한 고통스럽게 질식시킬 거라고.\\n2:이런 그 돈은 걱정 말아. 내가 대신 내줄게.\\n2:네 회장님.'"
            ],
            "application/vnd.google.colaboratory.intrinsic+json": {
              "type": "string"
            }
          },
          "metadata": {},
          "execution_count": 75
        }
      ]
    },
    {
      "cell_type": "code",
      "source": [
        "# 공격자 대화 길이 분포\n",
        "min_len = 999\n",
        "max_len = 0\n",
        "sum_len = 0\n",
        "\n",
        "for sen in attacker_corpus:\n",
        "  length = len(sen)\n",
        "  if min_len > length:\n",
        "    min_len = length\n",
        "  if max_len < length:\n",
        "    max_len = length\n",
        "  sum_len += length\n",
        "\n",
        "print('문장의 최단 길이 : ', min_len)\n",
        "print('문장의 최장 길이 : ', max_len)\n",
        "print('문장의 평균 길이 : ', sum_len //len(attacker_corpus))\n",
        "\n",
        "sentence_length = [len(x) for x in attacker_corpus]\n",
        "\n",
        "plt.hist(sentence_length, bins = np.arange(min_len, max_len))\n",
        "plt.title('공격자 대화 길이 분포')\n",
        "plt.show()"
      ],
      "metadata": {
        "colab": {
          "base_uri": "https://localhost:8080/",
          "height": 660
        },
        "id": "W3-xg8Ms3veG",
        "outputId": "331479d0-68c1-437d-9e8b-4626144def1f"
      },
      "execution_count": 76,
      "outputs": [
        {
          "output_type": "stream",
          "name": "stdout",
          "text": [
            "문장의 최단 길이 :  0\n",
            "문장의 최장 길이 :  196\n",
            "문장의 평균 길이 :  42\n"
          ]
        },
        {
          "output_type": "display_data",
          "data": {
            "text/plain": [
              "<Figure size 1440x720 with 1 Axes>"
            ],
            "image/png": "[encoded data removed]"
          },
          "metadata": {
            "needs_background": "light"
          }
        }
      ]
    },
    {
      "cell_type": "code",
      "source": [
        "# 공격자 대화 내의 단어 빈도 확인\n",
        "token = []\n",
        "\n",
        "for x in attacker_corpus:\n",
        "  for i in x:\n",
        "    token.append(i)\n",
        "    \n",
        "dic = defaultdict(int)\n",
        "for word in token:\n",
        "  dic[word] += 1\n",
        "\n",
        "top = sorted(dic.items(), key=lambda x : x[1], reverse=True)[:30] # 1\n",
        "\n",
        "x, y = zip(*top) # 2\n",
        "plt.rcParams['figure.figsize'] = (20, 10)\n",
        "plt.bar(x, y, color='red')"
      ],
      "metadata": {
        "colab": {
          "base_uri": "https://localhost:8080/",
          "height": 610
        },
        "id": "MEFdy0DT33TM",
        "outputId": "18f64d22-8cef-49a5-fe71-7c4e97273b23"
      },
      "execution_count": 77,
      "outputs": [
        {
          "output_type": "execute_result",
          "data": {
            "text/plain": [
              "<BarContainer object of 30 artists>"
            ]
          },
          "metadata": {},
          "execution_count": 77
        },
        {
          "output_type": "display_data",
          "data": {
            "text/plain": [
              "<Figure size 1440x720 with 1 Axes>"
            ],
            "image/png": "[encoded data removed]"
          },
          "metadata": {
            "needs_background": "light"
          }
        }
      ]
    },
    {
      "cell_type": "markdown",
      "source": [
        "### 2. 피해자 대화 확인"
      ],
      "metadata": {
        "id": "oriTY2jz6I5V"
      }
    },
    {
      "cell_type": "code",
      "source": [
        "# 피해자 대화 말뭉치\n",
        "victim_corpus = [build_corpus(sen) for sen in vic_clean]"
      ],
      "metadata": {
        "id": "rDBu0E3N6RU7"
      },
      "execution_count": 79,
      "outputs": []
    },
    {
      "cell_type": "code",
      "source": [
        "# 피해자 대화 길이 분포\n",
        "min_len = 999\n",
        "max_len = 0\n",
        "sum_len = 0\n",
        "\n",
        "for sen in victim_corpus:\n",
        "  length = len(sen)\n",
        "  if min_len > length:\n",
        "    min_len = length\n",
        "  if max_len < length:\n",
        "    max_len = length\n",
        "  sum_len += length\n",
        "\n",
        "print('문장의 최단 길이 : ', min_len)\n",
        "print('문장의 최장 길이 : ', max_len)\n",
        "print('문장의 평균 길이 : ', sum_len //len(victim_corpus))\n",
        "\n",
        "sentence_length = [len(x) for x in victim_corpus]\n",
        "\n",
        "plt.hist(sentence_length, bins = np.arange(min_len, max_len))\n",
        "plt.title('피해자 대화 길이 분포')\n",
        "plt.show()"
      ],
      "metadata": {
        "colab": {
          "base_uri": "https://localhost:8080/",
          "height": 660
        },
        "id": "3LVCvLQW6DFc",
        "outputId": "e7c905f5-a74c-4147-a37d-b9988a0ca542"
      },
      "execution_count": 80,
      "outputs": [
        {
          "output_type": "stream",
          "name": "stdout",
          "text": [
            "문장의 최단 길이 :  0\n",
            "문장의 최장 길이 :  106\n",
            "문장의 평균 길이 :  22\n"
          ]
        },
        {
          "output_type": "display_data",
          "data": {
            "text/plain": [
              "<Figure size 1440x720 with 1 Axes>"
            ],
            "image/png": "[encoded data removed]"
          },
          "metadata": {
            "needs_background": "light"
          }
        }
      ]
    },
    {
      "cell_type": "code",
      "source": [
        "# 피해자 대화 내의 단어 빈도 확인\n",
        "token = []\n",
        "\n",
        "for x in victim_corpus:\n",
        "  for i in x:\n",
        "    token.append(i)\n",
        "    \n",
        "dic = defaultdict(int)\n",
        "for word in token:\n",
        "  dic[word] += 1\n",
        "\n",
        "top = sorted(dic.items(), key=lambda x : x[1], reverse=True)[:30] # 1\n",
        "\n",
        "x, y = zip(*top) # 2\n",
        "plt.rcParams['figure.figsize'] = (20, 10)\n",
        "plt.bar(x, y, color='red')"
      ],
      "metadata": {
        "colab": {
          "base_uri": "https://localhost:8080/",
          "height": 610
        },
        "id": "Vm8_TSiu6TpF",
        "outputId": "a7233c38-7bb0-48a5-af57-5892f207a200"
      },
      "execution_count": 81,
      "outputs": [
        {
          "output_type": "execute_result",
          "data": {
            "text/plain": [
              "<BarContainer object of 30 artists>"
            ]
          },
          "metadata": {},
          "execution_count": 81
        },
        {
          "output_type": "display_data",
          "data": {
            "text/plain": [
              "<Figure size 1440x720 with 1 Axes>"
            ],
            "image/png": "[encoded data removed]"
          },
          "metadata": {
            "needs_background": "light"
          }
        }
      ]
    }
  ]
}